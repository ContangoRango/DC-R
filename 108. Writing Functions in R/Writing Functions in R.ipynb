{
 "cells": [
  {
   "cell_type": "markdown",
   "metadata": {},
   "source": [
    "# 1. A quick refresher"
   ]
  },
  {
   "cell_type": "markdown",
   "metadata": {},
   "source": [
    "## Writing a function in R -Video"
   ]
  },
  {
   "cell_type": "markdown",
   "metadata": {},
   "source": [
    "### Writing a function\n",
    "\n",
    "The function template is a useful way to start writing a function:\n",
    "\n",
    "`my_fun <- function(arg1, arg2) {`\n",
    "`  # body`\n",
    "`}`\n",
    "\n",
    "my_fun is the variable that you want to assign your function to, arg1 and arg2 are arguments to the function. The template has two arguments, but you can specify any number of arguments, each separated by a comma. You then replace # body with the R code that your function will execute, referring to the inputs by the argument names you specified.\n",
    "\n",
    "Let's get to writing functions!\n",
    "\n",
    "Instructions\n",
    " - Using the function template, write a function ratio() that takes arguments x and y and returns their ratio, x / y.\n",
    " - Check your function by calling it with the arguments 3 and 4."
   ]
  },
  {
   "cell_type": "code",
   "execution_count": 1,
   "metadata": {
    "collapsed": false
   },
   "outputs": [
    {
     "data": {
      "text/html": [
       "0.75"
      ],
      "text/latex": [
       "0.75"
      ],
      "text/markdown": [
       "0.75"
      ],
      "text/plain": [
       "[1] 0.75"
      ]
     },
     "metadata": {},
     "output_type": "display_data"
    }
   ],
   "source": [
    "# Define ratio() function\n",
    "ratio <- function(x, y) {\n",
    "  x/y\n",
    "}\n",
    "\n",
    "# Call ratio() with arguments 3 and 4\n",
    "ratio(3,4)"
   ]
  },
  {
   "cell_type": "markdown",
   "metadata": {},
   "source": [
    "### Arguments\n",
    "\n",
    "How did you call your function ratio() in the previous exercise? Do you remember the two ways to specify the arguments? (If you have forgotten it might be useful to review the video from Intermediate R)\n",
    "\n",
    "You probably either did ratio(3, 4), which relies on matching by position, or ratio(x = 3, y = 4), which relies on matching by name.\n",
    "\n",
    "For functions you and others use often, it's okay to use positional matching for the first one or two arguments. These are usually the data to be computed on. Good examples are the x argument to the summary functions (mean(), sd(), etc.) and the x and y arguments to plotting functions.\n",
    "\n",
    "However, beyond the first couple of arguments you should always use matching by name. It makes your code much easier for you and others to read. This is particularly important if the argument is optional, because it has a default. When overriding a default value, it's good practice to use the name.\n",
    "\n",
    "Notice that when you call a function, you should place a space around = in function calls, and always put a space after a comma, not before (just like in regular English). Using whitespace makes it easier to skim the function for the important components.\n",
    "\n",
    "Instructions\n",
    " - Here's a rather cryptic call to mean(). Rewrite the call to follow the best practices we just discussed. Use the natural ordering of the arguments, which you can find by typing ?mean in the console."
   ]
  },
  {
   "cell_type": "code",
   "execution_count": 2,
   "metadata": {
    "collapsed": false
   },
   "outputs": [
    {
     "data": {
      "text/html": [
       "5"
      ],
      "text/latex": [
       "5"
      ],
      "text/markdown": [
       "5"
      ],
      "text/plain": [
       "[1] 5"
      ]
     },
     "metadata": {},
     "output_type": "display_data"
    }
   ],
   "source": [
    "# Rewrite the call to follow best practices\n",
    "mean(0.1,x=c(1:9, NA),TRUE)"
   ]
  },
  {
   "cell_type": "code",
   "execution_count": 3,
   "metadata": {
    "collapsed": false
   },
   "outputs": [
    {
     "data": {
      "text/html": [
       "5"
      ],
      "text/latex": [
       "5"
      ],
      "text/markdown": [
       "5"
      ],
      "text/plain": [
       "[1] 5"
      ]
     },
     "metadata": {},
     "output_type": "display_data"
    }
   ],
   "source": [
    "# Rewrite the call to follow best practices\n",
    "mean(c(1:9, NA),trim=0.1,na.rm=TRUE)"
   ]
  },
  {
   "cell_type": "markdown",
   "metadata": {},
   "source": [
    "Function output\n",
    "50xp\n",
    "Consider the following function that takes a numeric value, x, as input:\n",
    "\n",
    "`f <- function(x) {\n",
    "  if (TRUE) {\n",
    "    return(x + 1)\n",
    "  }\n",
    "  x\n",
    "}`\n",
    "\n",
    "What will be the result of calling f(2)?\n",
    "\n",
    "Possible Answers\n",
    " - 2\n",
    " - 3 (Correct)\n",
    " - An error\n",
    "Take Hint (-15xp)"
   ]
  },
  {
   "cell_type": "code",
   "execution_count": 4,
   "metadata": {
    "collapsed": true
   },
   "outputs": [],
   "source": [
    "f <- function(x) {\n",
    "  if (TRUE) {\n",
    "    return(x + 1)\n",
    "  }\n",
    "  x\n",
    "}"
   ]
  },
  {
   "cell_type": "code",
   "execution_count": 5,
   "metadata": {
    "collapsed": false
   },
   "outputs": [
    {
     "data": {
      "text/html": [
       "3"
      ],
      "text/latex": [
       "3"
      ],
      "text/markdown": [
       "3"
      ],
      "text/plain": [
       "[1] 3"
      ]
     },
     "metadata": {},
     "output_type": "display_data"
    }
   ],
   "source": [
    "f(2)"
   ]
  },
  {
   "cell_type": "code",
   "execution_count": null,
   "metadata": {
    "collapsed": true
   },
   "outputs": [],
   "source": [
    "The body of the conditional is always evaluated and the function returns early without ever running x"
   ]
  },
  {
   "cell_type": "markdown",
   "metadata": {},
   "source": [
    "## Environments - Video"
   ]
  },
  {
   "cell_type": "markdown",
   "metadata": {},
   "source": [
    "Testing your understanding of scoping (1)\n",
    "50xp\n",
    "The next few questions are designed to test your understanding of scoping. For first timers, these concepts will be hard and you might not get it the first time through. We decided to include it in the first chapter because it's good to know now, so when something unexpected happens, you know what to come back to and review.\n",
    "\n",
    "For now, take a careful look at the function featured in each question. Try to predict what the function will return without running it! Being able to reason about a function is an important skill for R programmers.\n",
    "\n",
    "Consider the following:\n",
    "\n",
    "`y <- 10\n",
    "f <- function(x) {\n",
    "  x + y\n",
    "}`\n",
    "\n",
    "What will f(10) return?\n",
    "\n",
    "Possible Answers\n",
    " - An error\n",
    " - 10\n",
    " - 15\n",
    " - 20 (Correct)"
   ]
  },
  {
   "cell_type": "code",
   "execution_count": 6,
   "metadata": {
    "collapsed": true
   },
   "outputs": [],
   "source": [
    "y <- 10\n",
    "f <- function(x) {\n",
    "  x + y\n",
    "}"
   ]
  },
  {
   "cell_type": "code",
   "execution_count": 7,
   "metadata": {
    "collapsed": false
   },
   "outputs": [
    {
     "data": {
      "text/html": [
       "20"
      ],
      "text/latex": [
       "20"
      ],
      "text/markdown": [
       "20"
      ],
      "text/plain": [
       "[1] 20"
      ]
     },
     "metadata": {},
     "output_type": "display_data"
    }
   ],
   "source": [
    "f(10)"
   ]
  },
  {
   "cell_type": "markdown",
   "metadata": {},
   "source": [
    "Because y is not passed in as an argument to the function, R looks outside of the function environment."
   ]
  },
  {
   "cell_type": "markdown",
   "metadata": {},
   "source": [
    "### Testing your understanding of scoping (2)\n",
    "\n",
    "Consider the following:\n",
    "\n",
    "`y <- 10\n",
    "f <- function(x) {\n",
    "  y <- 5\n",
    "  x + y\n",
    "}`\n",
    "\n",
    "What will f(10) return?\n",
    "\n",
    "Possible Answers\n",
    " - An error\n",
    " - 10\n",
    " - 15\n",
    " - 20"
   ]
  },
  {
   "cell_type": "code",
   "execution_count": 8,
   "metadata": {
    "collapsed": true
   },
   "outputs": [],
   "source": [
    "y <- 10\n",
    "f <- function(x) {\n",
    "  y <- 5\n",
    "  x + y\n",
    "}"
   ]
  },
  {
   "cell_type": "code",
   "execution_count": 9,
   "metadata": {
    "collapsed": false
   },
   "outputs": [
    {
     "data": {
      "text/html": [
       "15"
      ],
      "text/latex": [
       "15"
      ],
      "text/markdown": [
       "15"
      ],
      "text/plain": [
       "[1] 15"
      ]
     },
     "metadata": {},
     "output_type": "display_data"
    }
   ],
   "source": [
    "f(10)"
   ]
  },
  {
   "cell_type": "markdown",
   "metadata": {},
   "source": [
    "The value of x is passed in as an argument to the function and the value of y is defined inside of the function."
   ]
  },
  {
   "cell_type": "markdown",
   "metadata": {},
   "source": [
    "### Testing your understanding of scoping (3)\n",
    "\n",
    "This one's a little different. Instead of predicting what the function will return, you need to predict the value of a variable. We run the following in a fresh session in the console:\n",
    "\n",
    "`f <- function(x) {\n",
    "  y <- 5\n",
    "  x + y\n",
    "}\n",
    "f(5)`\n",
    "\n",
    "Now, what will typing y return?\n",
    "\n",
    "Possible Answers\n",
    " - An error\n",
    " - 5\n",
    " - 10\n",
    " - 20"
   ]
  },
  {
   "cell_type": "code",
   "execution_count": 14,
   "metadata": {
    "collapsed": true
   },
   "outputs": [],
   "source": [
    "rm(list=ls())"
   ]
  },
  {
   "cell_type": "code",
   "execution_count": 18,
   "metadata": {
    "collapsed": true
   },
   "outputs": [],
   "source": [
    "f <- function(x) {\n",
    "  y <- 5\n",
    "  x + y\n",
    "}"
   ]
  },
  {
   "cell_type": "code",
   "execution_count": 19,
   "metadata": {
    "collapsed": false
   },
   "outputs": [
    {
     "data": {
      "text/html": [
       "10"
      ],
      "text/latex": [
       "10"
      ],
      "text/markdown": [
       "10"
      ],
      "text/plain": [
       "[1] 10"
      ]
     },
     "metadata": {},
     "output_type": "display_data"
    }
   ],
   "source": [
    "f(5)"
   ]
  },
  {
   "cell_type": "code",
   "execution_count": 20,
   "metadata": {
    "collapsed": false
   },
   "outputs": [
    {
     "ename": "ERROR",
     "evalue": "Error in eval(expr, envir, enclos): object 'y' not found\n",
     "output_type": "error",
     "traceback": [
      "Error in eval(expr, envir, enclos): object 'y' not found\nTraceback:\n"
     ]
    }
   ],
   "source": [
    "y"
   ]
  },
  {
   "cell_type": "markdown",
   "metadata": {},
   "source": [
    "## Data structures - Video"
   ]
  },
  {
   "cell_type": "markdown",
   "metadata": {},
   "source": [
    "### Atomic types of vectors\n",
    "\n",
    "Which of these is NOT one of the atomic types of vectors in R?\n",
    "\n",
    "Possible Answers\n",
    " - logical\n",
    " - integer\n",
    " - double\n",
    " - character\n",
    " - factor (Incorrect)"
   ]
  },
  {
   "cell_type": "code",
   "execution_count": null,
   "metadata": {
    "collapsed": true
   },
   "outputs": [],
   "source": [
    "### Subsetting lists\n",
    "\n",
    "There are a few ways to subset a list. Throughout the course we'll mostly use double bracket ([[]]) subsetting by index and by name.\n",
    "\n",
    "That is, my_list[[1]] extracts the first element of the list my_list, and my_list[[\"name\"]] extracts the element in my_list that is called name. If the list is nested you can travel down the heirarchy by recursive subsetting. For example, mylist[[1]][[\"name\"]] is the element called name inside the first element of my_list.\n",
    "\n",
    "A data frame is just a special kind of list, so you can use double bracket subsetting on data frames too. my_df[[1]] will extract the first column of a data frame and my_df[[\"name\"]] will extract the column named name from the data frame.\n",
    "\n",
    "I've set up a list called tricky_list in your workspace. Use the function typeof() combined with double bracket subsetting to answer the following questions.\n",
    "\n",
    "Instructions\n",
    "What type of object is the...\n",
    "\n",
    "2nd element in tricky_list?\n",
    "Element called x in tricky_list?\n",
    "2nd element inside the element called x in tricky_list?"
   ]
  },
  {
   "cell_type": "code",
   "execution_count": null,
   "metadata": {
    "collapsed": true
   },
   "outputs": [],
   "source": [
    "# 2nd element in tricky_list\n",
    "typeof(tricky_list[[2]])\n",
    "\n",
    "# Element called x in tricky_list\n",
    "typeof(tricky_list[[\"x\"]])\n",
    "\n",
    "# 2nd element inside the element called x in tricky_list\n",
    "typeof(tricky_list[[\"x\"]][[2]])"
   ]
  },
  {
   "cell_type": "code",
   "execution_count": null,
   "metadata": {
    "collapsed": true
   },
   "outputs": [],
   "source": [
    "Exploring lists\n",
    "100xp\n",
    "Often you won't know exactly what is inside a list. But, you'll need to figure it out to get some useful piece of data. Extracting elements from the output of the names() and str() functions is a great way to explore the structure of a list.\n",
    "\n",
    "Calling names() on a list will give you names at the top level of the list and str() will give you a full description of the entire list (which can sometimes be a little overwhelming).\n",
    "\n",
    "tricky_list has a regression model stored in it. Let's see if we can drill down and pull out the slope estimate corresponding to the wt variable.\n",
    "\n",
    "Instructions\n",
    "Use names() on tricky_list to guess where the regression model is stored.\n",
    "Use names() and str() on the model element of tricky_list.\n",
    "Extract the coefficients element of the model element of tricky_list.\n",
    "Extract the wt element of the coefficients element of the model element of tricky_list."
   ]
  },
  {
   "cell_type": "code",
   "execution_count": null,
   "metadata": {
    "collapsed": true
   },
   "outputs": [],
   "source": [
    "# Guess where the regression model is stored\n",
    "names(tricky_list)\n",
    "\n",
    "# Use names() and str() on the model element\n",
    "names(tricky_list[[\"model\"]])\n",
    "str(tricky_list[[\"model\"]])\n",
    "\n",
    "# Subset the coefficients element\n",
    "tricky_list[[\"model\"]][[\"coefficients\"]]\n",
    "\n",
    "# Subset the wt element\n",
    "tricky_list[[\"model\"]][[\"coefficients\"]][[\"wt\"]]"
   ]
  },
  {
   "cell_type": "code",
   "execution_count": null,
   "metadata": {
    "collapsed": true
   },
   "outputs": [],
   "source": [
    "Another way is to use the coef() function on the model element of tricky_list"
   ]
  },
  {
   "cell_type": "markdown",
   "metadata": {},
   "source": [
    "## for loops - Video"
   ]
  },
  {
   "cell_type": "markdown",
   "metadata": {},
   "source": [
    "### A safer way to create the sequence\n",
    "\n",
    "Let's take a look at the sequence component of our for loop:\n",
    "\n",
    "i in 1:ncol(df)\n",
    "Each time our for loop iterates, i takes the next value in 1:ncol(df). This is a pretty common model for a sequence: a sequence of consecutive integers designed to index over one dimension of our data.\n",
    "\n",
    "What might surprise you is that this isn't the best way to generate such a sequence, especially when you are using for loops inside your own functions. Let's look at an example where df is an empty data frame:\n",
    "\n",
    "df <- data.frame()\n",
    "1:ncol(df)\n",
    "\n",
    "for (i in 1:ncol(df)) {\n",
    "  print(median(df[[i]]))\n",
    "}\n",
    "Our sequence is now the somewhat non-sensical: 1, 0. You might think you wouldn't be silly enough to use a for loop with an empty data frame, but once you start writing your own functions, there's no telling what the input will be.\n",
    "\n",
    "A better method is to use the seq_along() function. This function generates a sequence along the index of the object passed to it, but handles the empty case much better.\n",
    "\n",
    "Instructions\n",
    " - Replace the 1:ncol(df) sequence in our for loop with seq_along(df).\n",
    " - Change the value of df to an empty data frame.\n",
    " - Repeat the for loop to verify there is no error."
   ]
  },
  {
   "cell_type": "code",
   "execution_count": null,
   "metadata": {
    "collapsed": true
   },
   "outputs": [],
   "source": [
    "# Replace the 1:ncol(df) sequence\n",
    "for (i in seq_along(df)) {\n",
    "  print(median(df[[i]]))\n",
    "}\n",
    "\n",
    "# Change the value of df\n",
    "df = data.frame()\n",
    "\n",
    "# Repeat for loop to verify there is no error\n",
    "for (i in seq_along(df)) {\n",
    "  print(median(df[[i]]))\n",
    "}"
   ]
  },
  {
   "cell_type": "code",
   "execution_count": null,
   "metadata": {
    "collapsed": true
   },
   "outputs": [],
   "source": [
    "Keeping output\n",
    "100xp\n",
    "Our for loop does a good job displaying the column medians, but we might want to store these medians in a vector for future use.\n",
    "\n",
    "Before you start the loop, you must always allocate sufficient space for the output, let's say an object called output. This is very important for efficiency: if you grow the for loop at each iteration (e.g. using c()), your for loop will be very slow.\n",
    "\n",
    "A general way of creating an empty vector of given length is the vector() function. It has two arguments: the type of the vector (\"logical\", \"integer\", \"double\", \"character\", etc.) and the length of the vector.\n",
    "\n",
    "Then, at each iteration of the loop you must store the output in the corresponding entry of the output vector, i.e. assign the result to output[[i]]. (You might ask why we are using double brackets here when output is a vector. It's primarily for generalizability: this subsetting will work whether output is a vector or a list.)\n",
    "\n",
    "Let's edit our loop to store the medians, rather than printing them to the console.\n",
    "\n",
    "Instructions\n",
    "Create a new \"double\" vector of length ncol(df) and name it output.\n",
    "Inside the body of the loop, store the result of each iteration result in the ith element of output.\n",
    "Print output to the console."
   ]
  },
  {
   "cell_type": "code",
   "execution_count": null,
   "metadata": {
    "collapsed": true
   },
   "outputs": [],
   "source": [
    "# Create new double vector: output\n",
    "output = vector(\"double\", ncol(df))\n",
    "\n",
    "# Alter the loop\n",
    "for (i in seq_along(df)) {\n",
    "  # Change code to store result in output\n",
    "  output[i]=median(df[[i]])\n",
    "}\n",
    "\n",
    "# Print output\n",
    "output"
   ]
  },
  {
   "cell_type": "markdown",
   "metadata": {},
   "source": [
    "# When and how you should write a function"
   ]
  },
  {
   "cell_type": "markdown",
   "metadata": {},
   "source": [
    "## Why should you write a function? - Video"
   ]
  },
  {
   "cell_type": "markdown",
   "metadata": {},
   "source": [
    "### Start with a snippet of code\n",
    "\n",
    "We have a snippet of code that successfully rescales a column to be between 0 and 1:\n",
    "\n",
    "`(df$a - min(df$a, na.rm = TRUE)) /  \n",
    "  (max(df$a, na.rm = TRUE) - min(df$a, na.rm = TRUE))`\n",
    "  \n",
    "Our goal over the next few exercises is to turn this snippet, written to work on the a column in the data frame df, into a general purpose rescale01() function that we can apply to any vector.\n",
    "\n",
    "The first step of turning a snippet into a function is to examine the snippet and decide how many inputs there are, then rewrite the snippet to refer to these inputs using temporary names. These inputs will become the arguments to our function, so choosing good names for them is important. (We'll talk more about naming arguments in a later exercise.)\n",
    "\n",
    "In this snippet, there is one input: the numeric vector to be rescaled (currently df$a). What would be a good name for this input? It's quite common in R to refer to a vector of data simply as x (like in the mean function), so we will follow that convention here.\n",
    "\n",
    "Instructions\n",
    " - To help you test your code, create a vector x containing the numbers 1 through 10.\n",
    " - Rewrite the code snippet to use the temporary variable x instead of referring to the data frame column df$a."
   ]
  },
  {
   "cell_type": "code",
   "execution_count": 22,
   "metadata": {
    "collapsed": false
   },
   "outputs": [
    {
     "data": {
      "text/html": [
       "<ol class=list-inline>\n",
       "\t<li>0</li>\n",
       "\t<li>0.111111111111111</li>\n",
       "\t<li>0.222222222222222</li>\n",
       "\t<li>0.333333333333333</li>\n",
       "\t<li>0.444444444444444</li>\n",
       "\t<li>0.555555555555556</li>\n",
       "\t<li>0.666666666666667</li>\n",
       "\t<li>0.777777777777778</li>\n",
       "\t<li>0.888888888888889</li>\n",
       "\t<li>1</li>\n",
       "</ol>\n"
      ],
      "text/latex": [
       "\\begin{enumerate*}\n",
       "\\item 0\n",
       "\\item 0.111111111111111\n",
       "\\item 0.222222222222222\n",
       "\\item 0.333333333333333\n",
       "\\item 0.444444444444444\n",
       "\\item 0.555555555555556\n",
       "\\item 0.666666666666667\n",
       "\\item 0.777777777777778\n",
       "\\item 0.888888888888889\n",
       "\\item 1\n",
       "\\end{enumerate*}\n"
      ],
      "text/markdown": [
       "1. 0\n",
       "2. 0.111111111111111\n",
       "3. 0.222222222222222\n",
       "4. 0.333333333333333\n",
       "5. 0.444444444444444\n",
       "6. 0.555555555555556\n",
       "7. 0.666666666666667\n",
       "8. 0.777777777777778\n",
       "9. 0.888888888888889\n",
       "10. 1\n",
       "\n",
       "\n"
      ],
      "text/plain": [
       " [1] 0.0000000 0.1111111 0.2222222 0.3333333 0.4444444 0.5555556 0.6666667\n",
       " [8] 0.7777778 0.8888889 1.0000000"
      ]
     },
     "metadata": {},
     "output_type": "display_data"
    }
   ],
   "source": [
    "# Define example vector x\n",
    "x = 1:10\n",
    "\n",
    "# Rewrite this snippet to refer to x\n",
    "(x - min(x, na.rm = TRUE)) /\n",
    "  (max(x, na.rm = TRUE) - min(x, na.rm = TRUE))"
   ]
  },
  {
   "cell_type": "markdown",
   "metadata": {},
   "source": [
    "### Rewrite for clarity\n",
    "\n",
    "Our next step is to examine our snippet and see if we can write it more clearly.\n",
    "\n",
    "Take a close look at our rewritten snippet. Do you see any duplication?\n",
    "\n",
    "(x - min(x, na.rm = TRUE)) /\n",
    "  (max(x, na.rm = TRUE) - min(x, na.rm = TRUE))\n",
    "One obviously duplicated statement is min(x, na.rm = TRUE). It makes more sense for us just to calculate it once, store the result, and then refer to it when needed. In fact, since we also need the maximum value of x, it would be even better to calculate the range once, then refer to the first and second elements when they are needed.\n",
    "\n",
    "What should we call this intermediate variable? You'll soon get the message that using good names is an important part of writing clear code! I suggest we call it rng (for \"range\").\n",
    "\n",
    "Instructions\n",
    " - Define the intermediate variable rng to contain the range of x using the function range(). Specify the na.rm() argument to automatically ignore any NAs in the vector.\n",
    " - Rewrite the snippet to refer to this intermediate variable."
   ]
  },
  {
   "cell_type": "code",
   "execution_count": 24,
   "metadata": {
    "collapsed": false
   },
   "outputs": [
    {
     "data": {
      "text/html": [
       "<ol class=list-inline>\n",
       "\t<li>0</li>\n",
       "\t<li>0.111111111111111</li>\n",
       "\t<li>0.222222222222222</li>\n",
       "\t<li>0.333333333333333</li>\n",
       "\t<li>0.444444444444444</li>\n",
       "\t<li>0.555555555555556</li>\n",
       "\t<li>0.666666666666667</li>\n",
       "\t<li>0.777777777777778</li>\n",
       "\t<li>0.888888888888889</li>\n",
       "\t<li>1</li>\n",
       "</ol>\n"
      ],
      "text/latex": [
       "\\begin{enumerate*}\n",
       "\\item 0\n",
       "\\item 0.111111111111111\n",
       "\\item 0.222222222222222\n",
       "\\item 0.333333333333333\n",
       "\\item 0.444444444444444\n",
       "\\item 0.555555555555556\n",
       "\\item 0.666666666666667\n",
       "\\item 0.777777777777778\n",
       "\\item 0.888888888888889\n",
       "\\item 1\n",
       "\\end{enumerate*}\n"
      ],
      "text/markdown": [
       "1. 0\n",
       "2. 0.111111111111111\n",
       "3. 0.222222222222222\n",
       "4. 0.333333333333333\n",
       "5. 0.444444444444444\n",
       "6. 0.555555555555556\n",
       "7. 0.666666666666667\n",
       "8. 0.777777777777778\n",
       "9. 0.888888888888889\n",
       "10. 1\n",
       "\n",
       "\n"
      ],
      "text/plain": [
       " [1] 0.0000000 0.1111111 0.2222222 0.3333333 0.4444444 0.5555556 0.6666667\n",
       " [8] 0.7777778 0.8888889 1.0000000"
      ]
     },
     "metadata": {},
     "output_type": "display_data"
    }
   ],
   "source": [
    "# Define example vector x\n",
    "x <- 1:10\n",
    "\n",
    "# Define rng\n",
    "rng = range(x, na.rm=TRUE)\n",
    "\n",
    "# Rewrite this snippet to refer to the elements of rng\n",
    "(x - rng[1]) /\n",
    "  (rng[2] - rng[1])"
   ]
  },
  {
   "cell_type": "markdown",
   "metadata": {},
   "source": [
    "### Finally turn it into a function!\n",
    "\n",
    "What do you need to write a function? You need a name for the function, you need to know the arguments to the function, and you need code that forms the body of the function.\n",
    "\n",
    "We now have all these pieces ready to put together. It's time to write the function!\n",
    "\n",
    "Instructions\n",
    " - Use the function template to create a function called rescale01():\n",
    " - The function should take a single argument x.\n",
    " - The body of the function should be our rewritten snippet from the previous exercise: rng <- range(x, na.rm = TRUE) (x - rng[1]) / (rng[2] - rng[1])\n",
    " - Once you've written the function, test it out by calling it on the x we've already defined."
   ]
  },
  {
   "cell_type": "code",
   "execution_count": 25,
   "metadata": {
    "collapsed": false
   },
   "outputs": [
    {
     "data": {
      "text/html": [
       "<ol class=list-inline>\n",
       "\t<li>0</li>\n",
       "\t<li>0.111111111111111</li>\n",
       "\t<li>0.222222222222222</li>\n",
       "\t<li>0.333333333333333</li>\n",
       "\t<li>0.444444444444444</li>\n",
       "\t<li>0.555555555555556</li>\n",
       "\t<li>0.666666666666667</li>\n",
       "\t<li>0.777777777777778</li>\n",
       "\t<li>0.888888888888889</li>\n",
       "\t<li>1</li>\n",
       "</ol>\n"
      ],
      "text/latex": [
       "\\begin{enumerate*}\n",
       "\\item 0\n",
       "\\item 0.111111111111111\n",
       "\\item 0.222222222222222\n",
       "\\item 0.333333333333333\n",
       "\\item 0.444444444444444\n",
       "\\item 0.555555555555556\n",
       "\\item 0.666666666666667\n",
       "\\item 0.777777777777778\n",
       "\\item 0.888888888888889\n",
       "\\item 1\n",
       "\\end{enumerate*}\n"
      ],
      "text/markdown": [
       "1. 0\n",
       "2. 0.111111111111111\n",
       "3. 0.222222222222222\n",
       "4. 0.333333333333333\n",
       "5. 0.444444444444444\n",
       "6. 0.555555555555556\n",
       "7. 0.666666666666667\n",
       "8. 0.777777777777778\n",
       "9. 0.888888888888889\n",
       "10. 1\n",
       "\n",
       "\n"
      ],
      "text/plain": [
       " [1] 0.0000000 0.1111111 0.2222222 0.3333333 0.4444444 0.5555556 0.6666667\n",
       " [8] 0.7777778 0.8888889 1.0000000"
      ]
     },
     "metadata": {},
     "output_type": "display_data"
    }
   ],
   "source": [
    "# Define example vector x\n",
    "x <- 1:10 \n",
    "\n",
    "# Use the function template to create the rescale01 function\n",
    "rescale01 <- function(x) {\n",
    "    rng <- range(x, na.rm = TRUE)\n",
    "    (x - rng[1]) /(rng[2] - rng[1])\n",
    "}\n",
    "\n",
    "# Test your function, call rescale01 using the vector x as the argument\n",
    "rescale01(x)"
   ]
  },
  {
   "cell_type": "markdown",
   "metadata": {},
   "source": [
    "## How should you write a function?"
   ]
  },
  {
   "cell_type": "markdown",
   "metadata": {},
   "source": [
    "Start with a simple problem\n",
    "100xp\n",
    "Let's tackle a new problem. We want to write a function, both_na() that counts at how many positions two vectors, x and y, both have a missing value.\n",
    "\n",
    "How do we get started? Should we start writing our function?\n",
    "\n",
    "`both_na <- function(x, y) {\n",
    "`  # something goes here?`\n",
    "}`\n",
    "\n",
    "No! We should start by solving a simple example problem first. Let's define an x and y where we know what the answer both_na(x, y) should be.\n",
    "\n",
    "Let's start with:\n",
    "\n",
    "x <- c( 1, 2, NA, 3, NA)\n",
    "y <- c(NA, 3, NA, 3,  4)\n",
    "Then both_na(x, y) should return 1, since there is only one element that is missing in both x and y, the third element.\n",
    "\n",
    "(Notice we introduced a couple of extra spaces to each vector. Adding spaces to x and y to make them match up makes it much easier to see what the correct result is. Code formatting is an important aspect of writing clear code.)\n",
    "\n",
    "Your first task is to write a line of code that gets to that answer.\n",
    "\n",
    "Instructions\n",
    "Write a line of code that finds the number of positions where both x and y have missing values. You may find the is.na() and sum() functions useful, as well as the & operator."
   ]
  },
  {
   "cell_type": "code",
   "execution_count": 27,
   "metadata": {
    "collapsed": true
   },
   "outputs": [],
   "source": [
    "# Define example vectors x and y\n",
    "x <- c( 1, 2, NA, 3, NA)\n",
    "y <- c(NA, 3, NA, 3,  4)\n",
    "\n",
    "# Turn this snippet into a function: both_na()\n",
    "both_na = function(x,y){\n",
    "  sum(is.na(x) & is.na(y))\n",
    "}\n"
   ]
  },
  {
   "cell_type": "code",
   "execution_count": null,
   "metadata": {
    "collapsed": true
   },
   "outputs": [],
   "source": [
    "Put our function to use\n",
    "100xp\n",
    "We have a function that works in at least one situation, but we should probably check it works in others.\n",
    "\n",
    "Consider the following vectors:\n",
    "\n",
    "x <-  c(NA, NA, NA)\n",
    "y1 <- c( 1, NA, NA)\n",
    "y2 <- c( 1, NA, NA, NA)\n",
    "What would you expect both_na(x, y1) to return? What about both_na(x, y2)? Does your function return what you expected? Try it and see!\n",
    "\n",
    "Instructions\n",
    "Create the vectors x, y1 and y2 according the above examples.\n",
    "Call both_na() with x and y1.\n",
    "Call both_na() with x and y2."
   ]
  },
  {
   "cell_type": "code",
   "execution_count": 28,
   "metadata": {
    "collapsed": false
   },
   "outputs": [
    {
     "data": {
      "text/html": [
       "2"
      ],
      "text/latex": [
       "2"
      ],
      "text/markdown": [
       "2"
      ],
      "text/plain": [
       "[1] 2"
      ]
     },
     "metadata": {},
     "output_type": "display_data"
    },
    {
     "name": "stderr",
     "output_type": "stream",
     "text": [
      "Warning message in is.na(x) & is.na(y):\n",
      "\"longer object length is not a multiple of shorter object length\""
     ]
    },
    {
     "data": {
      "text/html": [
       "3"
      ],
      "text/latex": [
       "3"
      ],
      "text/markdown": [
       "3"
      ],
      "text/plain": [
       "[1] 3"
      ]
     },
     "metadata": {},
     "output_type": "display_data"
    }
   ],
   "source": [
    "# Define x, y1 and y2\n",
    "x <-  c(NA, NA, NA)\n",
    "y1 <- c( 1, NA, NA)\n",
    "y2 <- c( 1, NA, NA, NA)\n",
    "\n",
    "# Call both_na on x, y1\n",
    "both_na(x,y1)\n",
    "\n",
    "# Call both_na on x, y2\n",
    "both_na(x,y2)"
   ]
  },
  {
   "cell_type": "markdown",
   "metadata": {},
   "source": [
    "Are the answers what you expected? What should both_na(x, y2) return? You might argue it should return an error. You'll see how to handle this in a later chapter."
   ]
  },
  {
   "cell_type": "markdown",
   "metadata": {},
   "source": [
    "## How can you write a good function? - Video"
   ]
  },
  {
   "cell_type": "code",
   "execution_count": null,
   "metadata": {
    "collapsed": true
   },
   "outputs": [],
   "source": [
    "Good function names\n",
    "50xp\n",
    "Consider the following function, f2(), which has also been loaded into your workspace:\n",
    "\n",
    "f2 <- function(x) {\n",
    "  if (length(x) <= 1) return(NULL)\n",
    "  x[-length(x)]\n",
    "}\n",
    "f2() isn't a very good function name! Which of the following would make a good name for this function?\n",
    "\n",
    "Possible Answers\n",
    " - rmv()\n",
    " - remove_first()\n",
    " - shorten()\n",
    " - removed_last()\n",
    " - remove_last()"
   ]
  },
  {
   "cell_type": "markdown",
   "metadata": {},
   "source": [
    "It's a verb, and descriptive. Can you brainstorm other good names for this function?"
   ]
  },
  {
   "cell_type": "markdown",
   "metadata": {},
   "source": [
    "### Argument names\n",
    "\n",
    "It's not just your function that needs a good name. Your arguments need good names too!\n",
    "\n",
    "Take a look at this function, which calculates a confidence interval for a population mean:\n",
    "\n",
    "mean_ci <- function(c, nums) {\n",
    "  se <- sd(nums) / sqrt(length(nums))\n",
    "  alpha <- 1 - c\n",
    "  mean(nums) + se * qnorm(c(alpha / 2, 1 - alpha / 2))\n",
    "}\n",
    "The argument nums is a sample of data and the argument c controls the level of the confidence interval. For example, if c = 0.95, we get a 95% confidence interval. Are c and nums good arguments names?\n",
    "\n",
    "c is a particularly bad name. It is completely non-descriptive and it's the name of an existing function in R. What might be better? Maybe something like confidence, since it reveals the purpose of the argument: to control the level of confidence for the interval. Another option might be level, since it's the same name used for the confint function in base R and your users may already be familiar with that name for this parameter.\n",
    "\n",
    "nums is not inherently bad, but since it's the placeholder for the vector of data, a name like x would be more recognizable to users.\n",
    "\n",
    "Instructions\n",
    "Rewrite the mean_ci() function to take arguments named level and x instead of c and nums, in that order for now."
   ]
  },
  {
   "cell_type": "code",
   "execution_count": null,
   "metadata": {
    "collapsed": true
   },
   "outputs": [],
   "source": [
    "# Alter the arguments to mean_ci\n",
    "mean_ci <- function(x, level=0.95 ) {\n",
    "  se <- sd(x) / sqrt(length(x))\n",
    "  alpha <- 1 - level\n",
    "  mean(x) + se * qnorm(c(alpha / 2, 1 - alpha / 2))\n",
    "}"
   ]
  },
  {
   "cell_type": "markdown",
   "metadata": {},
   "source": [
    "### Return statements\n",
    "\n",
    "One of your colleagues has noticed if you pass mean_ci() an empty vector it returns a confidence interval with missing values at both ends (try it: mean_ci(numeric(0))). In this case, they decided it would make more sense to produce a warning \"x was empty\" and return c(-Inf, Inf) and have edited the function to be:\n",
    "\n",
    "mean_ci <- function(x, level = 0.95) {\n",
    "  if (length(x) == 0) {\n",
    "    warning(\"`x` was empty\", call. = FALSE)\n",
    "    interval <- c(-Inf, Inf)\n",
    "  } else { \n",
    "    se <- sd(x) / sqrt(length(x))\n",
    "    alpha <- 1 - level\n",
    "    interval <- mean(x) + \n",
    "      se * qnorm(c(alpha / 2, 1 - alpha / 2))\n",
    "  }\n",
    "  interval\n",
    "}\n",
    "Notice how hard it is now to follow the logic of the function. If you want to know what happens in the empty x case, you need to read the entire function to check if anything happens to interval before the function returns. There isn't much to read in this case, but if this was a longer function you might be scrolling through pages of code.\n",
    "\n",
    "This is a case where an early return() makes sense. If x is empty, the function should immediately return c(-Inf, Inf).\n",
    "\n",
    "Instructions\n",
    "Edit the mean_ci function using an if statement to check for the case when x is empty and if so, to produce the same warning as the code above then immediately return() c(-Inf, Inf)."
   ]
  },
  {
   "cell_type": "code",
   "execution_count": 29,
   "metadata": {
    "collapsed": true
   },
   "outputs": [],
   "source": [
    "# Alter the mean_ci function\n",
    "mean_ci <- function(x, level = 0.95) {\n",
    "  if(length(x)==0){\n",
    "    return(c(-Inf, Inf))\n",
    "  } else {\n",
    "      se <- sd(x) / sqrt(length(x))\n",
    "      alpha <- 1 - level\n",
    "      mean(x) + se * qnorm(c(alpha / 2, 1 - alpha / 2))\n",
    "  }\n",
    "}"
   ]
  },
  {
   "cell_type": "markdown",
   "metadata": {},
   "source": [
    "### What does this function do?\n",
    "100xp\n",
    "Over the next few exercises, we'll practice everything you've learned so far. Here's a poorly written function, which is also available in your workspace:\n",
    "\n",
    "f <- function(x, y) {\n",
    "  x[is.na(x)] <- y\n",
    "  cat(sum(is.na(x)), y, \"\\n\")\n",
    "  x\n",
    "}\n",
    "Your job is to turn it in to a nicely written function.\n",
    "\n",
    "What does this function do? Let's try to figure it out by passing in some arguments.\n",
    "\n",
    "Instructions\n",
    "Define a numeric vector x with the values: 1, 2, NA, 4 and 5.\n",
    "Call f() with the arguments x = x, and y = 3.\n",
    "Call f() with the arguments x = x, and y = 10."
   ]
  },
  {
   "cell_type": "code",
   "execution_count": null,
   "metadata": {
    "collapsed": true
   },
   "outputs": [],
   "source": [
    "# Define a numeric vector x with the values 1, 2, NA, 4 and 5\n",
    "x = c(1, 2, NA, 4, 5)\n",
    "\n",
    "# Call f() with the arguments x = x and y = 3\n",
    "f(x=x, y=3)\n",
    "\n",
    "# Call f() with the arguments x = x and y = 10\n",
    "f(x=x, y=10)"
   ]
  },
  {
   "cell_type": "markdown",
   "metadata": {},
   "source": [
    "### Let's make it clear from its name\n",
    "\n",
    "Did you figure out what f() does? f() takes a vector x and replaces any missing values in it with the value y.\n",
    "\n",
    "Imagine you came across the line df$z <- f(df$z, 0) a little further on in the code. What does that line do? Now you know, it replaces any missing values in the column df$z with the value 0. But anyone else who comes across that line is going to have to go back and find the definition of f and see if they can reason it out.\n",
    "\n",
    "Let's rename our function and arguments to make it obvious to everyone what we are trying to achieve.\n",
    "\n",
    "Instructions\n",
    "Rename the function f() to replace_missings().\n",
    "Change the name of the y argument to replacement.\n",
    "Now replace the missing values of df$z with 0's using your new function. Make sure you assign the result back to df$z."
   ]
  },
  {
   "cell_type": "code",
   "execution_count": null,
   "metadata": {
    "collapsed": true
   },
   "outputs": [],
   "source": [
    "# Rename the function f() to replace_missings()\n",
    "replace_missings <- function(x, replacement) {\n",
    "  # Change the name of the y argument to replacement\n",
    "  x[is.na(x)] <- replacement\n",
    "  cat(sum(is.na(x)), replacement, \"\\n\")\n",
    "  x\n",
    "}\n",
    "\n",
    "# Rewrite the call on df$z to match our new names\n",
    "df$z = replace_missings(df$z, 0)"
   ]
  },
  {
   "cell_type": "code",
   "execution_count": null,
   "metadata": {
    "collapsed": true
   },
   "outputs": [],
   "source": [
    "replace_missings <- function(x, replacement) {\n",
    "  # Define is_miss\n",
    "  is_miss = is.na(x)\n",
    "  \n",
    "  # Rewrite rest of function to refer to is_miss\n",
    "  x[is_miss] <- replacement\n",
    "  cat(sum(is_miss), replacement, \"\\n\")\n",
    "  x\n",
    "}"
   ]
  },
  {
   "cell_type": "markdown",
   "metadata": {},
   "source": [
    "### Much better! But a few more tweaks...\n",
    "\n",
    "Did you notice replace_missings() prints some output to the console? Try it:\n",
    "\n",
    "replace_missings(df$z, replacement = 0)\n",
    "That output isn't exactly self-explanatory. It would be much nicer to say \"2 missing values replaced by the value 0\".\n",
    "\n",
    "It is also bad practice to use cat() for anything other than a print() method (a function designed just to display output). Having an important message just print to the screen makes it very hard for other people who might be programming with your function to capture the output and handle it appropriately.\n",
    "\n",
    "The official R way to supply simple diagnostic information is the message() function. The unnamed arguments are pasted together with no separator (and no need for a newline at the end) and by default are printed to the screen.\n",
    "\n",
    "Let's make our function nicer for users by using message() and making the output self-contained.\n",
    "\n",
    "Instructions\n",
    " - Rewrite to use message() and output \"sum(is_miss) missings replaced by the value replacement.\"\n",
    " - Check your new function by replacing all the missing values of df$z with 0's, as we've done before."
   ]
  },
  {
   "cell_type": "code",
   "execution_count": null,
   "metadata": {
    "collapsed": true
   },
   "outputs": [],
   "source": [
    "replace_missings <- function(x, replacement) {\n",
    "  is_miss <- is.na(x)\n",
    "  x[is_miss] <- replacement\n",
    "  \n",
    "  # Rewrite to use message()\n",
    "  message(sum(is_miss), replacement)\n",
    "  x\n",
    "}\n",
    "\n",
    "# Check your new function by running on df$z\n",
    "replace_missings(df$z, 0)"
   ]
  },
  {
   "cell_type": "markdown",
   "metadata": {},
   "source": [
    "# 3. Functional programming"
   ]
  },
  {
   "cell_type": "markdown",
   "metadata": {},
   "source": [
    "Using a for loop to remove duplication\n",
    "100xp\n",
    "Imagine we have a data frame called df:\n",
    "\n",
    "df <- data.frame(\n",
    "  a = rnorm(10),\n",
    "  b = rnorm(10),\n",
    "  c = rnorm(10),\n",
    "  d = rnorm(10)\n",
    ")\n",
    "We want to compute the median of each column. You could do this with copy and paste (df is available in your workspace, so go ahead and try it in the console):\n",
    "\n",
    "median(df[[1]])\n",
    "median(df[[2]])\n",
    "median(df[[3]])\n",
    "median(df[[4]])\n",
    "But that's a lot of repetition! Let's start by seeing how we could reduce the duplication by using a for loop.\n",
    "\n",
    "Instructions\n",
    "We've provided some code to get you started. Fill in the body of the for loop to calculate the median of each column and store the results in output."
   ]
  },
  {
   "cell_type": "markdown",
   "metadata": {},
   "source": [
    "### Turning the for loop into a function\n",
    "\n",
    "Now, imagine you need to do this to another data frame df2. You copy and paste the for loop, and edit every reference to df to be df2 instead.\n",
    "\n",
    "output <- vector(\"double\", ncol(df2))  \n",
    "for (i in seq_along(df2)) {            \n",
    "  output[[i]] <- median(df2[[i]])      \n",
    "}\n",
    "output\n",
    "And then you realize you have another data frame df3 for which you also want the column medians. You copy and paste...and realize you've copied and pasted two times. Time to write a function!\n",
    "\n",
    "Instructions\n",
    "- Turn the for loop snippet into a function called col_median() that takes one argument df and returns the vector of column medians."
   ]
  },
  {
   "cell_type": "code",
   "execution_count": null,
   "metadata": {
    "collapsed": true
   },
   "outputs": [],
   "source": [
    "# Turn this code into col_median()\n",
    "col_median = function(df){\n",
    "  output <- vector(\"double\", ncol(df))  \n",
    "for (i in seq_along(df)) {            \n",
    "  output[[i]] <- median(df[[i]])      \n",
    "}\n",
    "output\n",
    "}"
   ]
  },
  {
   "cell_type": "markdown",
   "metadata": {},
   "source": [
    "### What about column means?\n",
    "100xp\n",
    "What if instead of medians of every column you actually want means?\n",
    "\n",
    "Let's write a col_mean() function that returns the vector of column means.\n",
    "\n",
    "Instructions\n",
    "We have copied and pasted the col_median() function into the editor.\n",
    "Create a col_mean() function by editing col_median() to find the column means instead."
   ]
  },
  {
   "cell_type": "code",
   "execution_count": null,
   "metadata": {
    "collapsed": true
   },
   "outputs": [],
   "source": [
    "# Create col_mean() function to find column means\n",
    "col_mean = function(df){\n",
    "  output <- vector(\"double\", ncol(df))  \n",
    "for (i in seq_along(df)) {            \n",
    "  output[[i]] <- mean(df[[i]])      \n",
    "}\n",
    "output\n",
    "}"
   ]
  },
  {
   "cell_type": "markdown",
   "metadata": {},
   "source": [
    "### What about column standard deviations?\n",
    "\n",
    "You now have functions for column medians and means, what about one for standard deviations?\n",
    "\n",
    "col_median <- function(df) {\n",
    "  output <- numeric(length(df))\n",
    "  for (i in seq_along(df)) {\n",
    "    output[[i]] <- median(df[[i]])\n",
    "  }\n",
    "  output\n",
    "}\n",
    "\n",
    "col_mean <- function(df) {\n",
    "  output <- numeric(length(df))\n",
    "  for (i in seq_along(df)) {\n",
    "    output[[i]] <- mean(df[[i]])\n",
    "  }\n",
    "  output\n",
    "}\n",
    "Instructions\n",
    "Copy and paste the col_median function into the editor.\n",
    "Edit col_median function to find the column standard deviations instead.\n",
    "Use the name col_sd for your new function."
   ]
  },
  {
   "cell_type": "code",
   "execution_count": null,
   "metadata": {
    "collapsed": true
   },
   "outputs": [],
   "source": [
    "# Define col_sd() function\n",
    "col_sd = function(df){\n",
    "  output <- vector(\"double\", ncol(df))  \n",
    "for (i in seq_along(df)) {            \n",
    "  output[[i]] <- sd(df[[i]])      \n",
    "}\n",
    "output\n",
    "}"
   ]
  },
  {
   "cell_type": "markdown",
   "metadata": {},
   "source": [
    "### Uh oh...time to write a function again\n",
    "\n",
    "We just copied and pasted the function col_median two times. That's a sure sign we need to write a function. How can we write a function that will take column summaries for any summary function we provide?\n",
    "\n",
    "Let's look at a simpler example first. Consider the functions f1(), f2() and f3() that take a vector x and return deviations from the mean value raised to the powers 1, 2, and 3 respectively:\n",
    "\n",
    "f1 <- function(x) abs(x - mean(x)) ^ 1\n",
    "f2 <- function(x) abs(x - mean(x)) ^ 2\n",
    "f3 <- function(x) abs(x - mean(x)) ^ 3\n",
    "How could you remove the duplication in this set of function definitions?\n",
    "\n",
    "Hopefully, you would suggest writing a single function with two arguments: x and power. That way, one function reproduces all the functionality of f1(), f2() and f(3), and more.\n",
    "\n",
    "Instructions\n",
    " - Edit the function f() to take a second argument power.\n",
    " - Edit the body of f() so that the absolute deviations raised to power are returned."
   ]
  },
  {
   "cell_type": "code",
   "execution_count": null,
   "metadata": {
    "collapsed": true
   },
   "outputs": [],
   "source": [
    "# Add a second argument called power\n",
    "f <- function(x, power) {\n",
    "    # Edit the body to return absolute deviations raised to power\n",
    "    abs(x - mean(x))^power\n",
    "}"
   ]
  },
  {
   "cell_type": "markdown",
   "metadata": {},
   "source": [
    "### Functions can be arguments too"
   ]
  },
  {
   "cell_type": "code",
   "execution_count": null,
   "metadata": {
    "collapsed": true
   },
   "outputs": [],
   "source": [
    "Using a function as an argument\n",
    "100xp\n",
    "You just saw that we can remove the duplication in our set of summary functions by requiring the function doing the summary as an input. This leads to creating the col_summary function:\n",
    "\n",
    "col_summary <- function(df, fun) {\n",
    "  output <- vector(\"numeric\", length(df))\n",
    "  for (i in seq_along(df)) {\n",
    "    output[[i]] <- fun(df[[i]])\n",
    "  }\n",
    "  output\n",
    "}\n",
    "It may be kind of surprising that you can pass a function as an argument to another function, so let's verify first that it worked. We've found the column means and medians using our old col_mean() and col_median() functions. Your job is to repeat the calculations using col_summary() instead and verify that it works.\n",
    "\n",
    "Not only does col_summary() remove the duplication in the functions we've already written, it also allows us to apply any summary to the columns of a data frame. Verify this, by finding the column interquartile ranges using the function IQR(). (For more info, see ?IQR.)\n",
    "\n",
    "Instructions\n",
    "Find the column medians of df by specifying median as the fun argument to col_summary().\n",
    "Find the column means of df by specifying mean as the fun argument to col_summary().\n",
    "Find the column interquartile ranges of df using col_summary()."
   ]
  },
  {
   "cell_type": "code",
   "execution_count": null,
   "metadata": {
    "collapsed": true
   },
   "outputs": [],
   "source": [
    "# Find the column medians using col_median() and col_summary()\n",
    "col_median(df)\n",
    "col_summary(df, median)\n",
    "\n",
    "\n",
    "# Find the column means using col_mean() and col_summary()\n",
    "col_mean(df)\n",
    "col_summary(df, mean)\n",
    "\n",
    "\n",
    "# Find the column IQRs using col_summary()\n",
    "col_summary(df, IQR)"
   ]
  },
  {
   "cell_type": "markdown",
   "metadata": {},
   "source": [
    "If you've used the lapply() or sapply() functions before, then you've passed functions as arguments. If not, you may want to review them in the Intermediate R course before moving on to the next video."
   ]
  },
  {
   "cell_type": "markdown",
   "metadata": {},
   "source": [
    "## Introducing purrr - Video"
   ]
  },
  {
   "cell_type": "code",
   "execution_count": null,
   "metadata": {
    "collapsed": true
   },
   "outputs": [],
   "source": [
    "The map functions\n",
    "100xp\n",
    "All the map functions in purrr take a vector, .x, as the first argument, then return .f applied to each element of .x. The type of object that is returned is determined by function suffix (the part after _):\n",
    "\n",
    "map() returns a list or data frame\n",
    "map_lgl() returns a logical vector\n",
    "map_int() returns a integer vector\n",
    "map_dbl() returns a double vector\n",
    "map_chr() returns a character vector\n",
    "Let's repeat our column summaries using a map function instead of our col_summary() function.\n",
    "\n",
    "Which map function shall we use? In our case, every summary we calculated returned a single numeric value, so we'll use map_dbl().\n",
    "\n",
    "Instructions\n",
    "Use map_dbl() to find the...\n",
    "\n",
    "Column means of the data frame df.\n",
    "Column medians of the data frame df.\n",
    "Column standard deviations of the data frame df."
   ]
  },
  {
   "cell_type": "code",
   "execution_count": null,
   "metadata": {
    "collapsed": true
   },
   "outputs": [],
   "source": [
    "# Load the purrr package\n",
    "library(purrr)\n",
    "\n",
    "# Use map_dbl() to find column means\n",
    "map_dbl(df, mean)\n",
    "\n",
    "# Use map_dbl() to column medians\n",
    "map_dbl(df, median)\n",
    "\n",
    "# Use map_dbl() to find column standard deviations\n",
    "map_dbl(df, sd)"
   ]
  },
  {
   "cell_type": "markdown",
   "metadata": {},
   "source": [
    "### The ... argument to the map functions\n",
    "\n",
    "The map functions use the ... (\"dot dot dot\") argument to pass along additional arguments to .f each time it’s called. For example, we can pass the trim argument to the mean() function:\n",
    "\n",
    "map_dbl(df, mean, trim = 0.5)\n",
    "Multiple arguments can be passed along using commas to separate them. For example, we can also pass the na.rm argument to mean():\n",
    "\n",
    "map_dbl(df, mean, trim = 0.5, na.rm = TRUE)\n",
    "You don't have to specify the arguments by name, but it is good practice!\n",
    "\n",
    "You may be wondering why the arguments to map() are .x and .f and not x and f? It's because .x and .f are very unlikely to be argument names you might pass through the ..., thereby preventing confusion about whether an argument belongs to map() or to the function being mapped.\n",
    "\n",
    "Let's get a bit of practice with this. We'll apply our new knowledge to a subset of the planes data frame available in the nycflights13 package. Use map_dbl() to find the average and 5th percentile of each column in planes.\n",
    "\n",
    "Instructions\n",
    " - Find the column means of planes by combining map_dbl() with mean().\n",
    " - Find the column means of planes again, but this time exclude missing values from the calculation.\n",
    " - Find the 5th percentile of each column in planes by combining map_dbl with quantile(). Don't forget to exclude missing values!"
   ]
  },
  {
   "cell_type": "code",
   "execution_count": null,
   "metadata": {
    "collapsed": true
   },
   "outputs": [],
   "source": [
    "# Find the mean of each column\n",
    "map_dbl(planes, mean)\n",
    "\n",
    "# Find the mean of each column, excluding missing values\n",
    "map_dbl(planes, mean, na.rm=TRUE)\n",
    "\n",
    "# Find the 5th percentile of each column, excluding missing values\n",
    "map_dbl(planes, quantile, 0.05, na.rm=TRUE)"
   ]
  },
  {
   "cell_type": "markdown",
   "metadata": {},
   "source": [
    "Other nice features of the map functions are that they're implemented in C, which makes them really fast, and that they generally preserve names from their input in the output."
   ]
  },
  {
   "cell_type": "markdown",
   "metadata": {},
   "source": [
    "### Picking the right map function\n",
    "\n",
    "Choosing the right map function is important. You can always use map(), which will return a list. However, if you know what type of output you expect, you are better to use the corresponding function. That way, if you expect one thing and get another, you'll know immediately because the map function will return an error.\n",
    "\n",
    "For example, try running:\n",
    "\n",
    "map_lgl(df, mean)\n",
    "The map functions are what we call type consistent. This means you know exactly what type of output to expect regardless of the input. map_lgl() either returns either a logical vector or an error. map_dbl() either returns either a double or an error.\n",
    "\n",
    "One way to check the output type is to run the corresponding function on the first element. For example, mean(df[[1]]) returns a single numeric value, suggesting map_dbl().\n",
    "\n",
    "Let's get some more practice with the map functions. We've created a new data frame, df3, in your workspace. Use a map function to find which columns are numeric, the type of each column, and a summary of each column.\n",
    "\n",
    "Instructions\n",
    "Remember to choose the appropriate map function based on the output you expect for each of the following:\n",
    "\n",
    " - Find which columns are numeric in df3 by combining a map function with is.numeric().\n",
    " - Find the type of each column in df3 by combining a map function with typeof().\n",
    " - Find a summary of each column in df3 by combining a map function with summary()."
   ]
  },
  {
   "cell_type": "code",
   "execution_count": null,
   "metadata": {
    "collapsed": true
   },
   "outputs": [],
   "source": [
    "# Find the columns that are numeric\n",
    "map_lgl(df3, is.numeric)\n",
    "\n",
    "# Find the type of each column\n",
    "map_chr(df3, typeof)\n",
    "\n",
    "# Find a summary of each column\n",
    "map(df3, summary)"
   ]
  },
  {
   "cell_type": "markdown",
   "metadata": {},
   "source": [
    " In chapter 5 we'll learn more about why type consistent functions are better to program with, and why you should avoid type inconsitent functions like sapply()."
   ]
  },
  {
   "cell_type": "markdown",
   "metadata": {},
   "source": [
    "## Shortcuts - Video"
   ]
  },
  {
   "cell_type": "markdown",
   "metadata": {},
   "source": [
    "### Solve a simple problem first\n",
    "\n",
    "Our goal is to fit a separate linear regression of miles per gallon (mpg) against weight (wt) for each group of cars in our list of data frames, where each data frame in our list represents a different group. How should we get started?\n",
    "\n",
    "First, let's confirm the structure of this list of data frames. Then, we'll solve a simpler problem first: fit the regression to the first group of cars.\n",
    "\n",
    "Instructions\n",
    " - Examine the structure of cyl with str().\n",
    " - Extract the first data frame in cyl and assign it to the variable four_cyls.\n",
    " - Fit a linear regression of miles per gallon on weight using four_cyls as the data argument to lm()."
   ]
  },
  {
   "cell_type": "code",
   "execution_count": null,
   "metadata": {
    "collapsed": true
   },
   "outputs": [],
   "source": [
    "# Examine the structure of cyl\n",
    "str(cyl)\n",
    "\n",
    "# Extract the first element into four_cyls\n",
    "four_cyls = cyl[[1]]\n",
    "\n",
    "# Fit a linear regression of mpg on wt using four_cyls\n",
    "lm(mpg~wt, data=four_cyls)"
   ]
  },
  {
   "cell_type": "markdown",
   "metadata": {},
   "source": [
    "### Using an anonymous function\n",
    "100xp\n",
    "Great! We now have a snippet of code that performs the operation we want on one data frame. One option would be to turn this into a function, for example:\n",
    "\n",
    "fit_reg <- function(df) {\n",
    "  lm(mpg ~ wt, data = df)\n",
    "}\n",
    "Then pass this function into map():\n",
    "\n",
    "map(cyl, fit_reg)\n",
    "But it seems a bit much to define a function for such a specific model when we only want to do this once. Instead of defining the function in the global environment, we will just use the function anonymously inside our call to map().\n",
    "\n",
    "What does this mean? Instead of referring to our function by name in map(), we define it on the fly in the .f argument to map().\n",
    "\n",
    "Instructions\n",
    "Rewrite the map() call to use the anonymous function function(df) lm(mpg ~ wt, data = df)."
   ]
  },
  {
   "cell_type": "code",
   "execution_count": null,
   "metadata": {
    "collapsed": true
   },
   "outputs": [],
   "source": [
    "# Rewrite to call an anonymous function\n",
    "map(cyl, function(df) lm(mpg ~ wt, data = df))"
   ]
  },
  {
   "cell_type": "code",
   "execution_count": null,
   "metadata": {
    "collapsed": true
   },
   "outputs": [],
   "source": [
    "Using a formula\n",
    "100xp\n",
    "Writing anonymous functions takes a lot of extra key strokes, so purrr provides a shortcut that allows you to write an anonymous function as a one-sided formula instead.\n",
    "\n",
    "In R, a one-sided formula starts with a ~, followed by an R expression. In purrr's map functions, the R expression can refer to an element of the .x argument using the . character.\n",
    "\n",
    "Let's take a look at an example. Imagine, instead of a regression on each data frame in cyl, we wanted to know the mean displacement for each data frame. One way to do this would be to use an anonymous function:\n",
    "\n",
    "map_dbl(cyl, function(df) mean(df$disp))\n",
    "To perform the same operation using the formula shortcut, we replace the function definition (function(df)) with the ~, then when we need to refer to the element of cyl the function operates on (in this case df), we use a ..\n",
    "\n",
    "map_dbl(cyl, ~ mean(.$disp))\n",
    "See how much less typing it involves! It also saves you from coming up with an argument name. Can you rewrite our previous anonymous function using this formula shortcut instead?\n",
    "\n",
    "Instructions\n",
    "Rewrite our call to map() to use the formula notation instead of an anonymous function."
   ]
  },
  {
   "cell_type": "code",
   "execution_count": null,
   "metadata": {
    "collapsed": true
   },
   "outputs": [],
   "source": [
    "# Rewrite to use the formula shortcut instead\n",
    "map(cyl, ~ lm(mpg ~ wt, data = .))"
   ]
  },
  {
   "cell_type": "markdown",
   "metadata": {},
   "source": [
    "Using a string\n",
    "100xp\n",
    "There are also some useful shortcuts that come in handy when you want to subset each element of the .x argument. If the .f argument to a map function is set equal to a string, let's say \"name\", then purrr extracts the \"name\" element from every element of .x.\n",
    "\n",
    "This is a really common situation you find yourself in when you work with nested lists. For example, if we have a list of where every element contains an a and b element:\n",
    "\n",
    "list_of_results <- list(\n",
    "  list(a = 1, b = \"A\"), \n",
    "  list(a = 2, b = \"C\"), \n",
    "  list(a = 3, b = \"D\")\n",
    ")\n",
    "We might want to pull out the a element from every entry. We could do it with the string shortcut like this:\n",
    "\n",
    "map(list_of_results, \"a\")\n",
    "Now take our list of regresssion models:\n",
    "\n",
    "map(cyl, ~ lm(mpg ~ wt, data = .))\n",
    "It might be nice to extract the slope coefficient from each model. You'll do this in a few steps: first fit the models, then get the coefficients from each model using the coef() function, then pull out the wt estimate using the string shortcut.\n",
    "\n",
    "Instructions\n",
    " - Assign the result from the previous exercise to the variable models\n",
    " - Use map and the coef() function to extract the coefficients from each model, and save it in the variable coefs\n",
    " - Use map and the string shortcut to extract the slope wt element from coefficients vectors"
   ]
  },
  {
   "cell_type": "code",
   "execution_count": null,
   "metadata": {
    "collapsed": true
   },
   "outputs": [],
   "source": [
    "# Save the result from the previous exercise to the variable models\n",
    "models  = map(cyl, ~ lm(mpg ~ wt, data = .))\n",
    "\n",
    "# Use map and coef to get the coefficients for each model: coefs\n",
    "coefs = map(models, coef)\n",
    "\n",
    "# Use string shortcut to extract the wt coefficient \n",
    "map(coefs, \"wt\")"
   ]
  },
  {
   "cell_type": "markdown",
   "metadata": {},
   "source": [
    "### Using a numeric vector\n",
    "\n",
    "Another useful shortcut for subsetting is to pass a numeric vector as the .f argument. This works just like passing a string but subsets by index rather than name. For example, with your previous list_of_results:\n",
    "\n",
    "list_of_results <- list(\n",
    "  list(a = 1, b = \"A\"), \n",
    "  list(a = 2, b = \"C\"), \n",
    "  list(a = 3, b = \"D\")\n",
    ")\n",
    "Another way to pull out the a element from each list, is to pull out the first element:\n",
    "\n",
    "map(list_of_results, 1)\n",
    "Let's pull out the slopes from our models again, but this time using numeric subsetting. Also, since we are pulling out a single numeric value from each element, let's use map_dbl().\n",
    "\n",
    "Instructions\n",
    " - Extract the second element from each vector in coefs using the numeric shortcut and map_dbl()."
   ]
  },
  {
   "cell_type": "code",
   "execution_count": null,
   "metadata": {
    "collapsed": true
   },
   "outputs": [],
   "source": [
    "coefs <- map(models, coef)\n",
    "\n",
    "# use map_dbl with the numeric shortcut to pull out the second element\n",
    "map_dbl(coefs, 2)"
   ]
  },
  {
   "cell_type": "markdown",
   "metadata": {},
   "source": [
    "### Putting it together with pipes\n",
    "\n",
    "purrr also includes a pipe operator: %>%. The pipe operator is another shortcut that saves typing, but also increases readability. The explanation of the pipe operator is quite simple: x %>% f(y) is another way of writing f(x, y). That is, the left hand side of the pipe, x, becomes the first argument to the function, f(), on the right hand side of the pipe.\n",
    "\n",
    "Take a look at our code to get our list of models:\n",
    "\n",
    "cyl <- split(mtcars, mtcars$cyl) \n",
    "map(cyl, ~ lm(mpg ~ wt, data = .))\n",
    "We split the data frame mtcars and save it as the variable cyl. We then pass cyl as the first argument to map to fit the models. We could rewrite this using the pipe operator as:\n",
    "\n",
    "split(mtcars, mtcars$cyl) %>% \n",
    "  map(~ lm(mpg ~ wt, data = .))\n",
    "We read this as \"split the data frame mtcars on cyl, then use map() on the result.\"\n",
    "\n",
    "One of the powerful things about the pipe is we can chain together many operations. Here is our complete code, written with pipes, instead assigning each step to a variable and using it in the next step:\n",
    "\n",
    "mtcars %>% \n",
    "  split(mtcars$cyl) %>%\n",
    "  map(~ lm(mpg ~ wt, data = .)) %>%\n",
    "  map(coef) %>% \n",
    "  map_dbl(\"wt\")\n",
    "We've written some code in the editor to pull out the R2R2 from each model. Rewrite the last two lines to use a pipe instead.\n",
    "\n",
    "Instructions\n",
    "Rewrite the last two lines to use a pipe instead."
   ]
  },
  {
   "cell_type": "code",
   "execution_count": null,
   "metadata": {
    "collapsed": true
   },
   "outputs": [],
   "source": [
    "# Define models (don't change)\n",
    "models <- mtcars %>% \n",
    "  split(mtcars$cyl) %>%\n",
    "  map(~ lm(mpg ~ wt, data = .))\n",
    "\n",
    "# Rewrite to be a single command using pipes \n",
    "#summaries <- map(models, summary)\n",
    "#map_dbl(summaries, \"r.squared\")\n",
    "\n",
    "models %>% map(summary) %>% map_dbl(\"r.squared\")"
   ]
  },
  {
   "cell_type": "markdown",
   "metadata": {},
   "source": [
    "## Advanced inputs and outputs"
   ]
  },
  {
   "cell_type": "code",
   "execution_count": null,
   "metadata": {
    "collapsed": true
   },
   "outputs": [],
   "source": [
    "Creating a safe function\n",
    "100xp\n",
    "safely() is an adverb; it takes a verb and modifies it. That is, it takes a function as an argument and it returns a function as its output. The function that is returned is modified so it never throws an error (and never stops the rest of your computation!).\n",
    "\n",
    "Instead, it always returns a list with two elements:\n",
    "\n",
    "result is the original result. If there was an error, this will be NULL.\n",
    "error is an error object. If the operation was successful this will be NULL.\n",
    "Let's try to make the readLines() function safe.\n",
    "\n",
    "Instructions\n",
    "Pass the readLines() function to safely(), and assign the output to safe_readLines.\n",
    "Use safe_readLines() on the string \"http://example.org\" to read the example homepage HTML file.\n",
    "Use safe_readLines() on \"http://asdfasdasdkfjlda\", a nonsense web address that shouldn't be found."
   ]
  },
  {
   "cell_type": "code",
   "execution_count": null,
   "metadata": {
    "collapsed": true
   },
   "outputs": [],
   "source": [
    "# Create safe_readLines() by passing readLines() to safely()\n",
    "safe_readLines = safely(readLines)\n",
    "\n",
    "# Call safe_readLines() on \"http://example.org\"\n",
    "safe_readLines(\"http://example.org\")\n",
    "\n",
    "# Call safe_readLines() on \"http://asdfasdasdkfjlda\"\n",
    "safe_readLines(\"http://asdfasdasdkfjlda\")"
   ]
  },
  {
   "cell_type": "code",
   "execution_count": null,
   "metadata": {
    "collapsed": true
   },
   "outputs": [],
   "source": [
    "Using map safely\n",
    "100xp\n",
    "One feature of safely() is that it plays nicely with the map() functions. Consider this list containing the two URLs from the last exercise, plus one additional URL to make things more interesting:\n",
    "\n",
    "urls <- list(\n",
    "  example = \"http://example.org\",\n",
    "  rproj = \"http://www.r-project.org\",\n",
    "  asdf = \"http://asdfasdasdkfjlda\"\n",
    ")\n",
    "We are interested in quickly downloading the HTML files at each URL. You might try:\n",
    "\n",
    "map(urls, readLines)\n",
    "But it results in an error, Error in file(con, \"r\") : cannot open the connection, and no output for any of the URLs. Go on, try it!\n",
    "\n",
    "We can solve this problem by using our safe_readLines() instead.\n",
    "\n",
    "Instructions\n",
    "Use map() on urls with the safe_readLines() function instead and assign the results to html.\n",
    "Call str() on html to examine the output.\n",
    "Extract the result from one of the two elements that was successful using double square bracket subsetting.\n",
    "Extract the error from the element that was unsuccessful, again using double square bracket subsetting."
   ]
  },
  {
   "cell_type": "code",
   "execution_count": null,
   "metadata": {
    "collapsed": true
   },
   "outputs": [],
   "source": [
    "### Using map safely\n",
    "\n",
    "One feature of safely() is that it plays nicely with the map() functions. Consider this list containing the two URLs from the last exercise, plus one additional URL to make things more interesting:\n",
    "\n",
    "urls <- list(\n",
    "  example = \"http://example.org\",\n",
    "  rproj = \"http://www.r-project.org\",\n",
    "  asdf = \"http://asdfasdasdkfjlda\"\n",
    ")\n",
    "We are interested in quickly downloading the HTML files at each URL. You might try:\n",
    "\n",
    "map(urls, readLines)\n",
    "But it results in an error, Error in file(con, \"r\") : cannot open the connection, and no output for any of the URLs. Go on, try it!\n",
    "\n",
    "We can solve this problem by using our safe_readLines() instead.\n",
    "\n",
    "Instructions\n",
    "Use map() on urls with the safe_readLines() function instead and assign the results to html.\n",
    "Call str() on html to examine the output.\n",
    "Extract the result from one of the two elements that was successful using double square bracket subsetting.\n",
    "Extract the error from the element that was unsuccessful, again using double square bracket subsetting."
   ]
  },
  {
   "cell_type": "code",
   "execution_count": null,
   "metadata": {
    "collapsed": true
   },
   "outputs": [],
   "source": [
    "# Define safe_readLines()\n",
    "safe_readLines <- safely(readLines)\n",
    "\n",
    "# Use the safe_readLines() function with map(): html\n",
    "html = map(urls, safe_readLines)\n",
    "\n",
    "# Call str() on html\n",
    "str(html)\n",
    "\n",
    "# Extract the result from one of the successful elements\n",
    "map(html, \"result\")\n",
    "\n",
    "# Extract the error from the element that was unsuccessful\n",
    "map(html, \"error\")"
   ]
  },
  {
   "cell_type": "code",
   "execution_count": null,
   "metadata": {
    "collapsed": true
   },
   "outputs": [],
   "source": [
    "Working with safe output\n",
    "100xp\n",
    "We now have output that contains the HTML for each of the two URLs on which readLines() was successful and the error for the other. But the output isn't that easy to work with, since the results and errors are buried in the inner-most level of the list.\n",
    "\n",
    "purrr provides a function transpose() that reshapes a list so the inner-most level becomes the outer-most level. In otherwords, it turns a list-of-lists \"inside-out\". Consider the following list:\n",
    "\n",
    "nested_list <- list(\n",
    "   x1 = list(a = 1, b = 2),\n",
    "   x2 = list(a = 3, b = 4)\n",
    ")\n",
    "If I need to extract the a element in x1, I could do nested_list[[\"x1\"]][[\"a\"]]. However, if I transpose the list first, the order of subsetting reverses. That is, to extract the same element I could also do transpose(nested_list)[[\"a\"]][[\"x1\"]].\n",
    "\n",
    "This is really handy for safe output, since we can grab all the results or all the errors really easily.\n",
    "\n",
    "Instructions\n",
    "Examine the structure of transpose(html).\n",
    "Pull out all the results by subsetting transpose(html) and assign to the variable res.\n",
    "Pull out all the errors by subsetting transpose(html) and assign to the variable errs."
   ]
  },
  {
   "cell_type": "code",
   "execution_count": 31,
   "metadata": {
    "collapsed": true
   },
   "outputs": [],
   "source": [
    "nested_list <- list(\n",
    "   x1 = list(a = 1, b = 2),\n",
    "   x2 = list(a = 3, b = 4)\n",
    ")"
   ]
  },
  {
   "cell_type": "code",
   "execution_count": 32,
   "metadata": {
    "collapsed": false
   },
   "outputs": [
    {
     "data": {
      "text/html": [
       "<dl>\n",
       "\t<dt>$x1</dt>\n",
       "\t\t<dd><dl>\n",
       "\t<dt>$a</dt>\n",
       "\t\t<dd>1</dd>\n",
       "\t<dt>$b</dt>\n",
       "\t\t<dd>2</dd>\n",
       "</dl>\n",
       "</dd>\n",
       "\t<dt>$x2</dt>\n",
       "\t\t<dd><dl>\n",
       "\t<dt>$a</dt>\n",
       "\t\t<dd>3</dd>\n",
       "\t<dt>$b</dt>\n",
       "\t\t<dd>4</dd>\n",
       "</dl>\n",
       "</dd>\n",
       "</dl>\n"
      ],
      "text/latex": [
       "\\begin{description}\n",
       "\\item[\\$x1] \\begin{description}\n",
       "\\item[\\$a] 1\n",
       "\\item[\\$b] 2\n",
       "\\end{description}\n",
       "\n",
       "\\item[\\$x2] \\begin{description}\n",
       "\\item[\\$a] 3\n",
       "\\item[\\$b] 4\n",
       "\\end{description}\n",
       "\n",
       "\\end{description}\n"
      ],
      "text/markdown": [
       "$x1\n",
       ":   $a\n",
       ":   1\n",
       "$b\n",
       ":   2\n",
       "\n",
       "\n",
       "\n",
       "$x2\n",
       ":   $a\n",
       ":   3\n",
       "$b\n",
       ":   4\n",
       "\n",
       "\n",
       "\n",
       "\n",
       "\n"
      ],
      "text/plain": [
       "$x1\n",
       "$x1$a\n",
       "[1] 1\n",
       "\n",
       "$x1$b\n",
       "[1] 2\n",
       "\n",
       "\n",
       "$x2\n",
       "$x2$a\n",
       "[1] 3\n",
       "\n",
       "$x2$b\n",
       "[1] 4\n",
       "\n"
      ]
     },
     "metadata": {},
     "output_type": "display_data"
    }
   ],
   "source": [
    "nested_list"
   ]
  },
  {
   "cell_type": "code",
   "execution_count": 33,
   "metadata": {
    "collapsed": false
   },
   "outputs": [
    {
     "data": {
      "text/html": [
       "1"
      ],
      "text/latex": [
       "1"
      ],
      "text/markdown": [
       "1"
      ],
      "text/plain": [
       "[1] 1"
      ]
     },
     "metadata": {},
     "output_type": "display_data"
    }
   ],
   "source": [
    "nested_list[[\"x1\"]][[\"a\"]]"
   ]
  },
  {
   "cell_type": "code",
   "execution_count": 35,
   "metadata": {
    "collapsed": false
   },
   "outputs": [
    {
     "ename": "ERROR",
     "evalue": "Error in library(purr): there is no package called 'purr'\n",
     "output_type": "error",
     "traceback": [
      "Error in library(purr): there is no package called 'purr'\nTraceback:\n",
      "1. library(purr)",
      "2. stop(txt, domain = NA)"
     ]
    }
   ],
   "source": [
    "library(purr)"
   ]
  },
  {
   "cell_type": "code",
   "execution_count": 34,
   "metadata": {
    "collapsed": false
   },
   "outputs": [
    {
     "ename": "ERROR",
     "evalue": "Error in transpose(nested_list): could not find function \"transpose\"\n",
     "output_type": "error",
     "traceback": [
      "Error in transpose(nested_list): could not find function \"transpose\"\nTraceback:\n"
     ]
    }
   ],
   "source": [
    "transpose(nested_list)[[\"a\"]][[\"x1\"]]"
   ]
  },
  {
   "cell_type": "code",
   "execution_count": null,
   "metadata": {
    "collapsed": true
   },
   "outputs": [],
   "source": [
    "# Define save_readLines() and html\n",
    "safe_readLines <- safely(readLines)\n",
    "html <- map(urls, safe_readLines)\n",
    "\n",
    "# Examine the structure of transpose(html)\n",
    "str(transpose(html))\n",
    "\n",
    "# Extract the results: res\n",
    "res = transpose(html)[[\"result\"]]\n",
    "\n",
    "# Extract the errors: errs\n",
    "errs = transpose(html)[[\"error\"]]"
   ]
  },
  {
   "cell_type": "code",
   "execution_count": null,
   "metadata": {
    "collapsed": true
   },
   "outputs": [],
   "source": [
    "Working with errors and results\n",
    "100xp\n",
    "What you do with the errors and results is up to you. But, commonly you'll want to collect all the results for the elements that were successful and examine the inputs for all those that weren't.\n",
    "\n",
    "Instructions\n",
    "Combine map_lgl() with is_null() to create a logical vector, is_ok, that is TRUE when errs is NULL.\n",
    "Extract the successful results by subsetting res with is_ok.\n",
    "Extract the input from the unsuccessful results by subsetting urls with !is_ok."
   ]
  },
  {
   "cell_type": "code",
   "execution_count": null,
   "metadata": {
    "collapsed": true
   },
   "outputs": [],
   "source": [
    "# Initialize some objects\n",
    "safe_readLines <- safely(readLines)\n",
    "html <- map(urls, safe_readLines)\n",
    "res <- transpose(html)[[\"result\"]]\n",
    "errs <- transpose(html)[[\"error\"]]\n",
    "\n",
    "# Create a logical vector is_ok\n",
    "is_ok = map_lgl(errs, is_null)\n",
    "\n",
    "# Extract the successful results\n",
    "res[is_ok]\n",
    "\n",
    "# Extract the input from the unsuccessful results\n",
    "urls[!is_ok]"
   ]
  },
  {
   "cell_type": "code",
   "execution_count": null,
   "metadata": {
    "collapsed": true
   },
   "outputs": [],
   "source": [
    "### Getting started\n",
    "\n",
    "We'll use random number generation as an example throughout the remaining exercises in this chapter. To get started, let's imagine simulating 5 random numbers from a Normal distribution. You can do this in R with the rnorm() function. For example, to generate 5 random numbers from a Normal distribution with mean zero, we can do:\n",
    "\n",
    "rnorm(n = 5)\n",
    "Now, imagine you want to do this three times, but each time with a different sample size. You already know how! Let's use the map() function to get it done.\n",
    "\n",
    "Instructions\n",
    "Create a list n containing the values: 5, 10, and 20.\n",
    "Use map() to iterate over n, each time applying the function rnorm()."
   ]
  },
  {
   "cell_type": "code",
   "execution_count": 36,
   "metadata": {
    "collapsed": false
   },
   "outputs": [
    {
     "ename": "ERROR",
     "evalue": "Error in map(n, rnorm): could not find function \"map\"\n",
     "output_type": "error",
     "traceback": [
      "Error in map(n, rnorm): could not find function \"map\"\nTraceback:\n"
     ]
    }
   ],
   "source": [
    "# Create a list n containing the values: 5, 10, and 20\n",
    "n = list(5,10,20)\n",
    "\n",
    "# Call map() on n with rnorm() to simulate three samples\n",
    "map(n, rnorm)"
   ]
  },
  {
   "cell_type": "code",
   "execution_count": null,
   "metadata": {
    "collapsed": true
   },
   "outputs": [],
   "source": [
    "### Mapping over two arguments\n",
    "\n",
    "Ok, but now imagine we don't just want to vary the sample size, we also want to vary the mean. The mean can be specified in rnorm() by the argument mean. Now there are two arguments to rnorm() we want to vary: n and mean.\n",
    "\n",
    "The map2() function is designed exactly for this purpose; it allows iteration over two objects. The first two arguments to map2() are the objects to iterate over and the third argument .f is the function to apply.\n",
    "\n",
    "Let's use map2() to simulate three samples with different sample sizes and different means.\n",
    "\n",
    "Instructions\n",
    "Create a list mu containing the values: 1, 5, and 10.\n",
    "Edit the map() call to use map2() with both n and mu."
   ]
  },
  {
   "cell_type": "code",
   "execution_count": null,
   "metadata": {
    "collapsed": true
   },
   "outputs": [],
   "source": [
    "# Initialize n\n",
    "n <- list(5, 10, 20)\n",
    "\n",
    "# Create a list mu containing the values: 1, 5, and 10\n",
    "mu = list(1,5, 10)\n",
    "\n",
    "# Edit to call map2() on n and mu with rnorm() to simulate three samples\n",
    "map2(n, mu, rnorm)"
   ]
  },
  {
   "cell_type": "markdown",
   "metadata": {},
   "source": [
    "### Mapping over more than two arguments\n",
    "\n",
    "But wait, there's another argument to rnorm() we might want to vary: sd, the standard deviation of the Normal distribution. You might think there is a map3() function, but there isn't. Instead purrr provides a pmap() function that iterates over 2 or more arguments.\n",
    "\n",
    "First, let's take a look at pmap() for the situation we just solved: iterating over two arguments. Instead of providing each item to iterate over as arguments, pmap() takes a list of arguments as its input. For example, we could replicate our previous example, iterating over both n and mu with the following:\n",
    "\n",
    "n <- list(5, 10, 20)\n",
    "mu <- list(1, 5, 10)\n",
    "\n",
    "pmap(list(n, mu), rnorm)\n",
    "Notice how we had to put our two items to iterate over (n and mu) into a list.\n",
    "\n",
    "Let's expand this code to iterate over varying standard deviations too.\n",
    "\n",
    "Instructions\n",
    " - Create a list sd with the values: 0.1, 1 and 0.1.\n",
    " - Edit your call to pmap() to also iterate over sd."
   ]
  },
  {
   "cell_type": "code",
   "execution_count": null,
   "metadata": {
    "collapsed": true
   },
   "outputs": [],
   "source": [
    "# Initialize n and mu\n",
    "n <- list(5, 10, 20)\n",
    "mu <- list(1, 5, 10)\n",
    "\n",
    "# Create a sd list with the values: 0.1, 1 and 0.1\n",
    "sd = list(0.1, 1, 0.1)\n",
    "\n",
    "# Edit this call to pmap() to iterate over the sd list as well\n",
    "pmap(list(n, mu, sd), rnorm)"
   ]
  },
  {
   "cell_type": "markdown",
   "metadata": {
    "collapsed": true
   },
   "source": [
    "### Argument matching\n",
    "\n",
    "Compare the following two calls to pmap() (run them in the console and compare their output too!):\n",
    "\n",
    "pmap(list(n, mu, sd), rnorm)\n",
    "pmap(list(mu, n, sd), rnorm)\n",
    "What's the difference? By default pmap() matches the elements of the list to the arguments in the function by position. In the first case, n to the n argument of rnorm(), mu to the mean argument of rnorm(), and sd to the sd argument of rnorm(). In the second case mu gets matched to the n argument of rnorm(), which is clearly not what we intended!\n",
    "\n",
    "Instead of relying on this positional matching, a safer alternative is to provide names in our list. The name of each element should be the argument name we want to match it to.\n",
    "\n",
    "Let's fix up that second call.\n",
    "\n",
    "Instructions\n",
    "Without changing their ordering, simply name the elements of the argument list to properly match the arguments of rnorm()."
   ]
  },
  {
   "cell_type": "code",
   "execution_count": null,
   "metadata": {
    "collapsed": true
   },
   "outputs": [],
   "source": [
    "# Name the elements of the argument list\n",
    "pmap(list(mean=mu, n=n, sd=sd), rnorm)"
   ]
  },
  {
   "cell_type": "markdown",
   "metadata": {},
   "source": [
    "### Mapping over functions and their arguments\n",
    "\n",
    "Sometimes it's not the arguments to a function you want to iterate over, but a set of functions themselves. Imagine that instead of varying the parameters to rnorm() we want to simulate from different distributions, say, using rnorm(), runif(), and rexp(). How do we iterate over calling these functions?\n",
    "\n",
    "In purrr, this is handled by the invoke_map() function. The first argument is a list of functions. In our example, something like:\n",
    "\n",
    "`f <- list(\"rnorm\", \"runif\", \"rexp\")`\n",
    "\n",
    "The second argument specifies the arguments to the functions. In the simplest case, all the functions take the same argument, and we can specify it directly, relying on ... to pass it to each function. In this case, call each function with the argument n = 5:\n",
    "\n",
    "invoke_map(f, n = 5)\n",
    "In more complicated cases, the functions may take different arguments, or we may want to pass different values to each function. In this case, we need to supply invoke_map() with a list, where each element specifies the arguments to the corresponding function.\n",
    "\n",
    "Let's use this approach to simulate three samples from the following three distributions: Normal(10, 1), Uniform(0, 5), and Exponential(5).\n",
    "\n",
    "Instructions\n",
    "We've given you some code to get you started.\n",
    "\n",
    " - Add min and max elements to runif_params with values 0 and 5 respectively.\n",
    " - Add a rate element to rexp_params with value 5.\n",
    " - Call invoke_map() on f() using the params list as the second argument, keeping n = 5 as a global argument."
   ]
  },
  {
   "cell_type": "code",
   "execution_count": null,
   "metadata": {
    "collapsed": false
   },
   "outputs": [],
   "source": [
    "# Define list of functions\n",
    "f <- list(\"rnorm\", \"runif\", \"rexp\")\n",
    "\n",
    "# Parameter list for rnorm()\n",
    "rnorm_params <- list(mean = 10)\n",
    "\n",
    "# Add a min element with value 0 and max element with value 5\n",
    "runif_params <- list(min=0,max=5)\n",
    "\n",
    "# Add a rate element with value 5\n",
    "rexp_params <- list(rate=5)\n",
    "\n",
    "# Define params for each function\n",
    "params <- list(\n",
    "  rnorm_params,\n",
    "  runif_params,\n",
    "  rexp_params\n",
    ")\n",
    "\n",
    "# Call invoke_map() on f supplying params as the second argument\n",
    "invoke_map(f, params, n = 5)"
   ]
  },
  {
   "cell_type": "markdown",
   "metadata": {},
   "source": [
    "## Maps with side effects - Video"
   ]
  },
  {
   "cell_type": "code",
   "execution_count": null,
   "metadata": {
    "collapsed": true
   },
   "outputs": [],
   "source": [
    "Walk\n",
    "100xp\n",
    "walk() operates just like map() except it's designed for functions that don't return anything. You use walk() for functions with side effects like printing, plotting or saving.\n",
    "\n",
    "Let's check that our simulated samples are in fact what we think they are by plotting a histogram for each one.\n",
    "\n",
    "Instructions\n",
    "We've included code from our simulation of three samples from three different distributions, except we've bumped up the sample size to 50. We've also added some names to f and params to help us remember what matches up with what.\n",
    "\n",
    "Assign the simulated samples to sims.\n",
    "Call walk() on sims with the hist() function to create a histogram of each sample."
   ]
  },
  {
   "cell_type": "code",
   "execution_count": null,
   "metadata": {
    "collapsed": true
   },
   "outputs": [],
   "source": [
    "# Define list of functions\n",
    "f <- list(Normal = \"rnorm\", Uniform = \"runif\", Exp = \"rexp\")\n",
    "\n",
    "# Define params\n",
    "params <- list(\n",
    "  Normal = list(mean = 10),\n",
    "  Uniform = list(min = 0, max = 5),\n",
    "  Exp = list(rate = 5)\n",
    ")\n",
    "\n",
    "# Assign the simulated samples to sims\n",
    "sims = invoke_map(f, params, n = 50)\n",
    "\n",
    "# Use walk() to make a histogram of each element in sims\n",
    "walk(sims, hist)"
   ]
  },
  {
   "cell_type": "code",
   "execution_count": null,
   "metadata": {
    "collapsed": true
   },
   "outputs": [],
   "source": [
    "Take a quick look through the three histograms, do they have any problems?"
   ]
  },
  {
   "cell_type": "markdown",
   "metadata": {},
   "source": [
    "### Walking over two or more arguments\n",
    "\n",
    "Those histograms were pretty good, but they really needed better breaks for the bins on the x-axis. That means we need to vary two arguments to hist(): x and breaks. Remember map2()? That allowed us to iterate over two arguments. Guess what? There is a walk2(), too!\n",
    "\n",
    "Let's use walk2() to improve those histograms with better breaks.\n",
    "\n",
    "Instructions\n",
    "We've loaded sims in your workspace.\n",
    "\n",
    "The default value for the breaks argument to hist() is \"Sturges\". Replace \"Sturges\" in the breaks_list list with reasonable breaks for the histograms. Let's use seq(6, 16, 0.5) for the Normal, seq(0, 5, 0.25) for the Uniform and seq(0, 1.5, 0.1) for the Exponential.\n",
    "Use walk2() to create a histogram for each sample with the breaks in breaks_list."
   ]
  },
  {
   "cell_type": "code",
   "execution_count": null,
   "metadata": {
    "collapsed": true
   },
   "outputs": [],
   "source": [
    "# Replace \"Sturges\" with reasonable breaks for each sample\n",
    "breaks_list <- list(\n",
    "  Normal = seq(6, 16, 0.5),\n",
    "  Uniform = seq(0, 5, 0.25),\n",
    "  Exp = seq(0, 1.5, 0.1)\n",
    ")\n",
    "\n",
    "# Use walk2() to make histograms with the right breaks\n",
    "walk2(sims, breaks_list, hist)"
   ]
  },
  {
   "cell_type": "markdown",
   "metadata": {},
   "source": [
    "### Putting together writing functions and walk\n",
    "100xp\n",
    "In the previous exercise, we hard-coded the breaks, but that was a little lazy. Those breaks probably won't be great if we change the parameters of our simulation.\n",
    "\n",
    "A better idea would be to generate reasonable breaks based on the actual values in our simulated samples. This is a great chance to review our function writing skills and combine our own function with purrr.\n",
    "\n",
    "Let's start by writing our own function find_breaks(), which copies the default breaks in the ggplot2 package: break the range of the data in 30 bins.\n",
    "\n",
    "How do we start? Simple, of course! Here's a snippet of code that works for the first sample:\n",
    "\n",
    "rng <- range(sims[[1]], na.rm = TRUE)\n",
    "seq(rng[1], rng[2], length.out = 30)\n",
    "Your job in this exercise is to turn that snippet into a function.\n",
    "\n",
    "In the next exercise, we'll combine find_breaks() with map() and walk2() to create histograms with sensible breaks.\n",
    "\n",
    "Instructions\n",
    "Turn the snippet above into a function called find_breaks(), which takes a single argument x and return the sequence of breaks.\n",
    "Check that your function works by calling find_breaks() on sims[[1]]."
   ]
  },
  {
   "cell_type": "code",
   "execution_count": null,
   "metadata": {
    "collapsed": true
   },
   "outputs": [],
   "source": [
    "# Turn this snippet into find_breaks()\n",
    "find_breaks = function(x){\n",
    "    rng <- range(x, na.rm = TRUE)\n",
    "  seq(rng[1], rng[2], length.out = 30)\n",
    "}\n",
    "\n",
    "\n",
    "\n",
    "# Call find_breaks() on sims[[1]]\n",
    "find_breaks(sims[[1]])"
   ]
  },
  {
   "cell_type": "markdown",
   "metadata": {},
   "source": [
    "### Nice breaks for all\n",
    "100xp\n",
    "Now that we have find_breaks(), we can find nice breaks for all the samples using map(). Then, pass the result into walk2() to get nice (but custom breaks) for our samples.\n",
    "\n",
    "Instructions\n",
    "Use map() to iterate find_breaks() over sims and assign the result to nice_breaks.\n",
    "Use nice_breaks as the second argument to walk2() to iterate over both the simulations and calculated breaks to plot histograms."
   ]
  },
  {
   "cell_type": "code",
   "execution_count": null,
   "metadata": {
    "collapsed": true
   },
   "outputs": [],
   "source": [
    "# Use map() to iterate find_breaks() over sims: nice_breaks\n",
    "nice_breaks = map(sims, find_breaks)\n",
    "\n",
    "# Use nice_breaks as the second argument to walk2()\n",
    "walk2(sims, nice_breaks, hist)"
   ]
  },
  {
   "cell_type": "markdown",
   "metadata": {},
   "source": [
    "### Walking with many arguments: pwalk\n",
    "\n",
    "Ugh! Nice breaks but those plots had UUUUGLY labels and titles. The x-axis labels are easy to fix if we don't mind every plot having its x-axis labeled the same way. We can use the ... argument to any of the map() or walk() functions to pass in further arguments to the function .f. In this case, we might decide we don't want any labels on the x-axis, in which case we need to pass an empty string to the xlab argument of hist():\n",
    "\n",
    "`walk2(sims, nice_breaks, hist, xlab = \"\")`\n",
    "\n",
    "But, what about the titles? We don't want them to be the same for each plot. How can we iterate over the arguments x, breaks and main? You guessed it, there is a pwalk() function that works just like pmap().\n",
    "\n",
    "Let's use pwalk() to tidy up these plots. Also, let's increase our sample size to 1000.\n",
    "\n",
    "Instructions\n",
    " - Increase the sample size to 1000.\n",
    " - Create a vector nice_titles that contains the character strings: \"Normal(10, 1)\", \"Uniform(0, 5)\" and \"Exp(5)\".\n",
    " - Use pwalk() instead of walk2() to iterate over the x, breaks and main arguments to hist(). Like for pmap(), the first argument to pwalk() should be a list() of arguments to hist() using matching by name. Keep the xlab = \"\" argument as-is to keep things clean."
   ]
  },
  {
   "cell_type": "code",
   "execution_count": null,
   "metadata": {
    "collapsed": true
   },
   "outputs": [],
   "source": [
    "# Increase sample size to 1000\n",
    "sims <- invoke_map(f, params, n = 1000)\n",
    "\n",
    "# Compute nice_breaks (don't change this)\n",
    "nice_breaks <- map(sims, find_breaks)\n",
    "\n",
    "# Create a vector nice_titles\n",
    "nice_titles = c(\"Normal(10, 1)\", \"Uniform(0, 5)\" , \"Exp(5)\")\n",
    "\n",
    "# Use pwalk() instead of walk2()\n",
    "pwalk(list(x=sims, breaks=nice_breaks, main=nice_titles), hist, xlab = \"\")"
   ]
  },
  {
   "cell_type": "markdown",
   "metadata": {},
   "source": [
    "### Walking with pipes\n",
    "\n",
    "One of the nice things about the walk() functions is that they return the object you passed to them. This means they can easily be used in pipelines (a pipeline is just a short way of saying \"a statement with lots of pipes\").\n",
    "\n",
    "To illustrate, we'll return to our first example of making histograms for each sample:\n",
    "\n",
    "`walk(sims, hist)`\n",
    "\n",
    "Take a look at what gets returned:\n",
    "\n",
    "`tmp <- walk(sims, hist)\n",
    "str(tmp)`\n",
    "\n",
    "It's our original sims object. That means we can pipe the sims object along to other functions. For example, we might want some basic summary statistics on each sample as well as our histograms.\n",
    "\n",
    "Instructions\n",
    " - We've converted walk(sims, hist) to a piped statement: sims %>% walk(hist). Pipe the result into map using summary() as the .f argument."
   ]
  },
  {
   "cell_type": "code",
   "execution_count": null,
   "metadata": {
    "collapsed": true
   },
   "outputs": [],
   "source": [
    "# Pipe this along to map(), using summary() as .f\n",
    "sims %>%\n",
    "  walk(hist) %>% map(summary)\n"
   ]
  },
  {
   "cell_type": "markdown",
   "metadata": {},
   "source": [
    "# Robust functions"
   ]
  },
  {
   "cell_type": "markdown",
   "metadata": {},
   "source": [
    "## Robust functions - Video"
   ]
  },
  {
   "cell_type": "markdown",
   "metadata": {},
   "source": [
    "### An error is better than a surprise\n",
    "\n",
    "Recall our both_na() function from Chapter 2, that finds the number of entries where vectors x and y both have missing values:\n",
    "\n",
    "both_na <- function(x, y) {\n",
    "  sum(is.na(x) & is.na(y))\n",
    "}\n",
    "We had an example where the behavior was a little surprising:\n",
    "\n",
    "x <- c(NA, NA, NA)\n",
    "y <- c( 1, NA, NA, NA)\n",
    "both_na(x, y)\n",
    "The function works and returns 3, but we certainly didn't design this function with the idea that people could pass in different length arguments.\n",
    "\n",
    "Using stopifnot() is a quick way to have your function stop, if a condition isn't meant. stopifnot() takes logical expressions as arguments and if any are FALSE an error will occur.\n",
    "\n",
    "Instructions\n",
    "Add a call to stopifnot() to both_na() that checks arguments x and y have the same length.\n",
    "Run the call to both_na() to verify it returns an error."
   ]
  },
  {
   "cell_type": "code",
   "execution_count": null,
   "metadata": {
    "collapsed": false
   },
   "outputs": [],
   "source": [
    "# Define troublesome x and y\n",
    "x <- c(NA, NA, NA)\n",
    "y <- c( 1, NA, NA, NA)\n",
    "\n",
    "both_na <- function(x, y) {\n",
    "  # Add stopifnot() to check length of x and y\n",
    "  stopifnot(length(x)==length(y))\n",
    "  \n",
    "  sum(is.na(x) & is.na(y))\n",
    "}\n",
    "\n",
    "# Call both_na() on x and y\n",
    "both_na(x, y)"
   ]
  },
  {
   "cell_type": "code",
   "execution_count": null,
   "metadata": {
    "collapsed": true
   },
   "outputs": [],
   "source": [
    "### An informative error is even better\n",
    "\n",
    "Using stop() instead of stopifnot() allows you to specify a more informative error message. Recall the general pattern for using stop() is:\n",
    "\n",
    "if (condition) {\n",
    "  stop(\"Error\", call. = FALSE)\n",
    "}\n",
    "Writing good error messages is an important part of writing a good function! We recommend your error tells the user what should be true, not what is false. For example, here a good error would be \"x and y must have the same length\", rather than the bad error \"x and y don't have the same length\".\n",
    "\n",
    "Let's use this pattern to write a better check for the length of x and y.\n",
    "\n",
    "Instructions\n",
    "Replace condition with a logical statement that evaluates to TRUE when x and y have different lengths.\n",
    "Change the error message to \"x and y must have the same length\".\n",
    "Run the call to both_na() to verify it returns a more informative error."
   ]
  },
  {
   "cell_type": "code",
   "execution_count": null,
   "metadata": {
    "collapsed": false
   },
   "outputs": [],
   "source": [
    "# Define troublesome x and y\n",
    "x <- c(NA, NA, NA)\n",
    "y <- c( 1, NA, NA, NA)\n",
    "\n",
    "both_na <- function(x, y) {\n",
    "  # Replace condition with logical\n",
    "  if (length(x)!=length(y)) {\n",
    "    # Replace \"Error\" with better message\n",
    "    stop(\"x and y must have the same length\", call. = FALSE)\n",
    "  }  \n",
    "  \n",
    "  sum(is.na(x) & is.na(y))\n",
    "}\n",
    "\n",
    "# Call both_na() \n",
    "both_na(x, y)"
   ]
  },
  {
   "cell_type": "markdown",
   "metadata": {},
   "source": [
    "### A different kind of surprise: side effects\n",
    "Side effects describe the things that happen when you run a function that alters the state of your R session. If foo() is a function with no side effects (a.k.a. pure), then when we run x <- foo(), the only change we expect is that the variable x now has a new value. No other variables in the global environment should be changed or created, no output should be printed, no plots displayed, no files saved, no options changed. We know exactly the changes to the state of the session just by reading the call to the function.\n",
    "\n",
    "Can you identify which of these functions doesn't have side effects?\n",
    "\n",
    "show_missings <- function(x) {\n",
    "  n <- sum(is.na(x))\n",
    "  cat(\"Missing values: \", n, \"\\n\", sep = \"\")\n",
    "  x\n",
    "}\n",
    "\n",
    "replace_missings <- function(x, replacement) {\n",
    "  x[is.na(x)] <- replacement\n",
    "  x\n",
    "}\n",
    "\n",
    "plot_missings <- function(x) {\n",
    "  plot(seq_along(x), is.na(x))\n",
    "  x\n",
    "}\n",
    "\n",
    "exclude_missings <- function() {\n",
    "  options(na.action = \"na.exclude\")\n",
    "}\n",
    "\n",
    "Possible Answers\n",
    "Click or Press Ctrl+1 to focus\n",
    " - show_missings()\n",
    " - replace_missings()   (Correct\n",
    " - plot_missings()\n",
    " - exclude_missings()"
   ]
  },
  {
   "cell_type": "markdown",
   "metadata": {},
   "source": [
    "Of course functions with side effects are crucial for data analysis. You need to be aware of them, and deliberate in their usage. It's ok to use them if the side effect is desired, but don't surprise users with unexpected side effects."
   ]
  },
  {
   "cell_type": "markdown",
   "metadata": {},
   "source": [
    "## Unstable types - Video"
   ]
  },
  {
   "cell_type": "markdown",
   "metadata": {},
   "source": [
    "### sapply is another common culprit\n",
    "\n",
    "sapply() is another common offender returning unstable types. The type of output returned from sapply() depends on the type of input.\n",
    "\n",
    "Consider the following data frame and two calls to sapply():\n",
    "\n",
    "df <- data.frame(\n",
    "  a = 1L,\n",
    "  b = 1.5,\n",
    "  y = Sys.time(),\n",
    "  z = ordered(1)\n",
    ")\n",
    "\n",
    "A <- sapply(df[1:4], class) \n",
    "B <- sapply(df[3:4], class)\n",
    "What type of objects will be A and B be?\n",
    "\n",
    "Possible Answers\n",
    " - A and B will both be character vectors.\n",
    " - A and B will both be lists.\n",
    " - A will be a list, B will be a character vector.\n",
    " - A will be a list, B will be a character matrix. (Correct)"
   ]
  },
  {
   "cell_type": "code",
   "execution_count": null,
   "metadata": {
    "collapsed": true
   },
   "outputs": [],
   "source": [
    "### Using purrr solves the problem\n",
    "\n",
    "This unpredictable behaviour is a sign that you shouldn't rely on sapply() inside your own functions.\n",
    "\n",
    "So, what do you do? Use alternate functions that are type consistent! And you already know a whole set: the map() functions in purrr.\n",
    "\n",
    "In this example, when we call class() on the columns of the data frame we are expecting character output, so our function of choice should be: map_chr():\n",
    "\n",
    "df <- data.frame(\n",
    "  a = 1L,\n",
    "  b = 1.5,\n",
    "  y = Sys.time(),\n",
    "  z = ordered(1)\n",
    ")\n",
    "\n",
    "A <- map_chr(df[1:4], class) \n",
    "B <- map_chr(df[3:4], class)\n",
    "Except that gives us errors. This is a good thing! It alerts us that our assumption (that class() would return purely character output) is wrong.\n",
    "\n",
    "Let's look at a couple of solutions. First, we could use map() instead of map_chr(). Our result will always be a list, no matter the input.\n",
    "\n",
    "Instructions\n",
    "The first two chunks give some sapply() calls, and demonstrate the type inconsistency by calling str() on each result.\n",
    "\n",
    "Define X, Y and Z using map() instead of sapply().\n",
    "Call str() on your X, Y and Z to demonstrate type consistency of map()."
   ]
  },
  {
   "cell_type": "code",
   "execution_count": null,
   "metadata": {
    "collapsed": true
   },
   "outputs": [],
   "source": [
    "# sapply calls\n",
    "A <- sapply(df[1:4], class) \n",
    "B <- sapply(df[3:4], class)\n",
    "C <- sapply(df[1:2], class) \n",
    "\n",
    "# Demonstrate type inconsistency\n",
    "str(A)\n",
    "str(B)\n",
    "str(C)\n",
    "\n",
    "# Use map() to define X, Y and Z\n",
    "X <- map(df[1:4], class) \n",
    "Y <- map(df[3:4], class)\n",
    "Z <- map(df[1:2], class)\n",
    "\n",
    "# Use str() to check type consistency\n",
    "str(X)\n",
    "str(Y)\n",
    "str(Z)\n",
    "\n"
   ]
  },
  {
   "cell_type": "markdown",
   "metadata": {},
   "source": [
    "### A type consistent solution\n",
    "\n",
    "If we wrap our solution into a function, we can be confident that this function will always return a list because we've used a type consistent function, map():\n",
    "\n",
    "col_classes <- function(df) {\n",
    "  map(df, class)\n",
    "}\n",
    "But what if you wanted this function to always return a character string?\n",
    "\n",
    "One option would be to decide what should happen if class() returns something longer than length 1. For example, we might simply take the first element of the vector returned by class().\n",
    "\n",
    "Instructions\n",
    "Assign the body of our previous function to the variable class_list.\n",
    "Use map_chr() along with the numeric subsetting shortcut, to extract the first element from every item in class_list.\n",
    "Run the final three lines to verify our new function always returns a character vector."
   ]
  },
  {
   "cell_type": "code",
   "execution_count": null,
   "metadata": {
    "collapsed": true
   },
   "outputs": [],
   "source": [
    "col_classes <- function(df) {\n",
    "  # Assign list output to class_list\n",
    "  class_list = map(df, class)\n",
    "  \n",
    "  # Use map_chr() to extract first element in class_list\n",
    "  map_chr(class_list, 1)\n",
    "}\n",
    "\n",
    "# Check that our new function is type consistent\n",
    "df %>% col_classes() %>% str()\n",
    "df[3:4] %>% col_classes() %>% str()\n",
    "df[1:2] %>% col_classes() %>% str()"
   ]
  },
  {
   "cell_type": "code",
   "execution_count": null,
   "metadata": {
    "collapsed": true
   },
   "outputs": [],
   "source": [
    "Or fail early if something goes wrong\n",
    "100xp\n",
    "Another option would be to simply fail. We could rely on map_chr()'s type consistency to fail for us:\n",
    "\n",
    "col_classes <- function(df) {\n",
    "  map_chr(df, class)\n",
    "}\n",
    "\n",
    "df %>% col_classes() %>% str()\n",
    "Or, check the condition ourselves and return an informative error message. We'll implement this approach in this exercise.\n",
    "\n",
    "As you write more functions, you'll find you often come across this tension between implementing a function that does something sensible when something surprising happens, or simply fails when something surprising happens. Our recommendation is to fail when you are writing functions that you'll use behind the scenes for programming and to do something sensible when writing functions for users to use interactively.\n",
    "\n",
    "(And by the way, flatten_chr() is yet another useful function in purrr. It takes a list and removes its hierarchy. The suffix _chr indicates that this is another type consistent function, and will either return a character string or an error message.)\n",
    "\n",
    "Instructions\n",
    "Replace condition with a logical statement that uses any() and map_dbl() to check if any element in class_list has length greater than 1.\n",
    "Run the final three lines to verify an informative error is thrown."
   ]
  },
  {
   "cell_type": "code",
   "execution_count": null,
   "metadata": {
    "collapsed": true
   },
   "outputs": [],
   "source": [
    "col_classes <- function(df) {\n",
    "  class_list <- map(df, class)\n",
    "  \n",
    "  # Add a check that no element of class_list has length > 1\n",
    "  if (any(map_dbl(class_list, length) > 1)) {\n",
    "    stop(\"Some columns have more than one class\", call. = FALSE)\n",
    "  }\n",
    "  \n",
    "  # Use flatten_chr() to return a character vector\n",
    "  flatten_chr(class_list)\n",
    "}\n",
    "\n",
    "# Check that our new function is type consistent\n",
    "df %>% col_classes() %>% str()\n",
    "df[3:4] %>% col_classes() %>% str()\n",
    "df[1:2] %>% col_classes() %>% str()"
   ]
  },
  {
   "cell_type": "markdown",
   "metadata": {},
   "source": [
    "## Non-standard evaluation - Video"
   ]
  },
  {
   "cell_type": "markdown",
   "metadata": {},
   "source": [
    "### Programming with NSE functions\n",
    "\n",
    "Let's take a look at a function that uses the non-standard evaluation (NSE) function filter() from the dplyr package:\n",
    "\n",
    "big_x <- function(df, threshold) {\n",
    "  dplyr::filter(df, x > threshold)\n",
    "}\n",
    "This big_x() function attempts to return all rows in df where the x column exceeds a certain threshold. Let's get a feel for how it might be used.\n",
    "\n",
    "Instructions\n",
    "We've placed diamonds_sub, a 20 row subset of the diamonds data from the ggplot2 package in your workspace. Use big_x() to find all rows in diamonds_sub where the x column is greater than 7."
   ]
  },
  {
   "cell_type": "code",
   "execution_count": null,
   "metadata": {
    "collapsed": true
   },
   "outputs": [],
   "source": [
    "# Use big_x() to find rows in diamonds_sub where x > 7\n",
    "big_x(diamonds_sub, 7)"
   ]
  },
  {
   "cell_type": "markdown",
   "metadata": {},
   "source": [
    "### When things go wrong\n",
    "\n",
    "Now, let's see how this function might fail. There are two instances in which the non-standard evaluation of filter() could cause surprising results:\n",
    "\n",
    "The x column doesn't exist in df.\n",
    "There is a threshold column in df.\n",
    "Let's illustrate these failures. In each case we'll use big_x() in the same way as the previous exercise, so we should expect the same output. However, not only do we get unexpected outputs, there is no indication (i.e. error message) that lets us know something might have gone wrong.\n",
    "\n",
    "Instructions\n",
    "Create a variable x and give it the value 1.\n",
    "Use big_x() to find all rows in diamonds_sub where the x column is greater than 7.\n",
    "Create a threshold column in diamonds_sub with the value 100.\n",
    "Use big_x() to find all rows in diamonds_sub where the x column is greater than 7."
   ]
  },
  {
   "cell_type": "code",
   "execution_count": null,
   "metadata": {
    "collapsed": true
   },
   "outputs": [],
   "source": [
    "# Remove the x column from diamonds\n",
    "diamonds_sub$x <- NULL\n",
    "\n",
    "# Create variable x with value 1\n",
    "x=1\n",
    "\n",
    "# Use big_x() to find rows in diamonds_sub where x > 7\n",
    "big_x(diamonds_sub, 7)\n",
    "\n",
    "# Create a threshold column with value 100\n",
    "diamonds_sub$threshold <- 100\n",
    "\n",
    "# Use big_x() to find rows in diamonds_sub where x > 7\n",
    "big_x(diamonds_sub, 7)"
   ]
  },
  {
   "cell_type": "code",
   "execution_count": null,
   "metadata": {
    "collapsed": true
   },
   "outputs": [],
   "source": [
    "### What to do?\n",
    "\n",
    "To avoid the problems caused by non-standard evaluation functions, you could avoid using them. In our example, we could achieve the same results by using standard subsetting (i.e. []) instead of filter(). For more insight into dealing with NSE and how to write your own non-standard evaluation functions, we recommend reading Hadley's vignette on the topic. Also, programming with the NSE functions in dplyr will be easier in a future version.\n",
    "\n",
    "If you do need to use non-standard evaluation functions, it's up to you to provide protection against the problem cases. That means you need to know what the problem cases are, to check for them, and to fail explicitly.\n",
    "\n",
    "To see what that might look like, let's rewrite big_x() to fail for our problem cases.\n",
    "\n",
    "Instructions\n",
    "Write a check for each of the following:\n",
    "\n",
    "If x is not in names(df), stop with the message \"df must contain variable called x\".\n",
    "If threshold is in names(df), stop with the message \"df must not contain variable called threshold\".\n",
    "Remember to use the argument call. = FALSE in each call to stop() so that the call is not a part of the error message."
   ]
  },
  {
   "cell_type": "code",
   "execution_count": null,
   "metadata": {
    "collapsed": true
   },
   "outputs": [],
   "source": [
    "big_x <- function(df, threshold) {\n",
    "  # Write a check for x not being in df\n",
    "  if (!\"x\" %in% names(df)) {\n",
    "    stop(\"df must contain variable called x\", call. = FALSE)\n",
    "  }\n",
    "  \n",
    "  # Write a check for threshold being in df\n",
    "  if ('threshold' %in% names(df)) {\n",
    "    stop(\"df must not contain variable called threshold\", call. = FALSE)\n",
    "  }  \n",
    "  \n",
    "  dplyr::filter(df, x > threshold)\n",
    "}"
   ]
  },
  {
   "cell_type": "markdown",
   "metadata": {},
   "source": [
    "## Hidden arguments - Video"
   ]
  },
  {
   "cell_type": "code",
   "execution_count": null,
   "metadata": {
    "collapsed": true
   },
   "outputs": [],
   "source": [
    "### A hidden dependence\n",
    "\n",
    "A classic example of a hidden dependence is the stringsAsFactors argument to the read.csv() function (and a few other data frame functions.)\n",
    "\n",
    "When you see the following code, you don't know exactly what the result will be:\n",
    "\n",
    "pools <- read.csv(\"swimming_pools.csv\")\n",
    "That's because if the argument stringsAsFactors isn't specified, it inherits its value from getOption(\"stringsAsFactors\"), a global option that a user may change.\n",
    "\n",
    "Just to prove that this is the case, let's illustrate the problem.\n",
    "\n",
    "Instructions\n",
    "Use read.csv() as above to read in swimming_pools.csv and save it to the variable pools.\n",
    "Examine the structure of pools and notice how the columns Name and Address are factors.\n",
    "Change the global stringsAsFactors option to FALSE: options(stringsAsFactors = FALSE).\n",
    "Use read.csv() as above to read in the same CSV file to the variable pools2.\n",
    "Examine the structure of pools2, and notice how the columns Name and Address are now characters."
   ]
  },
  {
   "cell_type": "code",
   "execution_count": null,
   "metadata": {
    "collapsed": true
   },
   "outputs": [],
   "source": [
    "# Read in the swimming_pools.csv to pools\n",
    "pools = read.csv(\"swimming_pools.csv\")\n",
    "\n",
    "# Examine the structure of pools\n",
    "str(pools)\n",
    "\n",
    "# Change the global stringsAsFactor option to FALSE\n",
    "options(stringsAsFactors = FALSE)\n",
    "\n",
    "# Read in the swimming_pools.csv to pools2\n",
    "pools2 = read.csv(\"swimming_pools.csv\")\n",
    "\n",
    "# Examine the structure of pools2\n",
    "str(pools2)"
   ]
  },
  {
   "cell_type": "markdown",
   "metadata": {},
   "source": [
    "### Legitimate use of options\n",
    "\n",
    "In general, you want to avoid having the return value of your own functions depend on any global options. That way, you and others can reason about your functions without needing to know the current state of the options.\n",
    "\n",
    "It is, however, okay to have side effects of a function depend on global options. For example, the print() function uses getOption(\"digits\") as the default for the digits argument. This gives users some control over how results are displayed, but doesn't change the underlying computation.\n",
    "\n",
    "Let's take a look at an example function that uses a global default sensibly. The print.lm() function has the options digits with default max(3, getOption(\"digits\") - 3).\n",
    "\n",
    "Instructions\n",
    "We've fit a regression model of fuel efficiency on weight using the mtcars dataset.\n",
    "\n",
    "Use summary() to take a look at the fitted regression model. Pay particular attention to number of decimal places reported.\n",
    "Set the global digits option to 2: options(digits = 2).\n",
    "Take another look at the fitted model using summary(). Notice the number of decimal places has changed, but there is no change to the underlying fit object."
   ]
  },
  {
   "cell_type": "markdown",
   "metadata": {},
   "source": [
    "## Wrap-up - Video"
   ]
  },
  {
   "cell_type": "markdown",
   "metadata": {},
   "source": [
    "# Thank You"
   ]
  },
  {
   "cell_type": "code",
   "execution_count": null,
   "metadata": {
    "collapsed": true
   },
   "outputs": [],
   "source": []
  }
 ],
 "metadata": {
  "anaconda-cloud": {},
  "kernelspec": {
   "display_name": "R",
   "language": "R",
   "name": "ir"
  },
  "language_info": {
   "codemirror_mode": "r",
   "file_extension": ".r",
   "mimetype": "text/x-r-source",
   "name": "R",
   "pygments_lexer": "r",
   "version": "3.3.2"
  }
 },
 "nbformat": 4,
 "nbformat_minor": 2
}
