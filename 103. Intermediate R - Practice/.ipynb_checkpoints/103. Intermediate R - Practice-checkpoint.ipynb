{
 "cells": [
  {
   "cell_type": "markdown",
   "metadata": {},
   "source": [
    "## 1. Conditionals and Control Flow"
   ]
  },
  {
   "cell_type": "markdown",
   "metadata": {},
   "source": [
    "If conditionals are your thing, these exercises will be a walk in the park. Else, let the feedback guide you and add these vital elements of R to your toolkit!"
   ]
  },
  {
   "cell_type": "markdown",
   "metadata": {},
   "source": [
    "### Grades analysis in R\n",
    "\n",
    "Suppose you're a student in a prestigious academy that only allows the country's best 200 students every year. Just for fun, you decide to analyze the grades of this academy. The highest possible grade is 100, the lowest possible grade is 0.\n",
    "\n",
    "You have access to your own grades, to anonymized grades for all of your 199 classmates, and for the 200 pupils in the previous 4 years. This data is available in your workspace as me, other_199, and previous_4, respectively. Have a look at these variables in the console.\n",
    "\n",
    "To format our data so that it'd be easier to work with and analyze later on, let's merge the three datasets to one called last_5, with dimensions 200 by 5. That is, last_5 contains all 200 scores from the last 5 classes.\n",
    "\n",
    "Instructions\n",
    " - Use c() to merge the data in me and other_199 (in this order). Store the result in my_class.\n",
    " - Build a 200-by-5 matrix named last_5: use cbind() to paste together the vector my_class and the 200-by-4 matrix previous_4.\n",
    " - Use colnames() on last_5 to give the columns the names year_1, up to year_5, in this order. To get you started, a character vector nms that you can use is already available."
   ]
  },
  {
   "cell_type": "code",
   "execution_count": null,
   "metadata": {
    "collapsed": true
   },
   "outputs": [],
   "source": [
    "me = 89\n"
   ]
  },
  {
   "cell_type": "code",
   "execution_count": null,
   "metadata": {
    "collapsed": true
   },
   "outputs": [],
   "source": [
    "# me, other_199, and previous_4 are available in your workspace\n",
    "\n",
    "# Merge me and other_199: my_class\n",
    "my_class = c(me, other_199)\n",
    "\n",
    "# cbind() my_class and previous_4: last_5\n",
    "last_5 = cbind(my_class, previous_4)\n",
    "\n",
    "# Name last_5 appropriately\n",
    "colnames(last_5) <- paste0(\"year_\", 1:5)\n"
   ]
  },
  {
   "cell_type": "markdown",
   "metadata": {},
   "source": [
    "### Explore your data\n",
    "\n",
    "To get a good feel for your data, it's a good idea to make some visualizations and make some summaries.\n",
    "\n",
    "The object me is still preloaded, as are the objects my_class and last_5 that you built yourself. Up to you to write some exploration code!\n",
    "\n",
    "Instructions\n",
    " - Use hist() to create a histogram of my_class. Can you tell in which bin your grade (the variable me) is?\n",
    " - Generate a summary of last_5. What do these numbers tell you?\n",
    " - Maybe a boxplot is more informative here; use boxplot() on last_5 and try to read the resulting graph."
   ]
  },
  {
   "cell_type": "code",
   "execution_count": null,
   "metadata": {
    "collapsed": true
   },
   "outputs": [],
   "source": [
    "# me, my_class and last_5 are available in your workspace\n",
    "\n",
    "# Build histogram of my_class\n",
    "hist(my_class)\n",
    "\n",
    "# Generate summary of last_5\n",
    "summary(last_5)\n",
    "\n",
    "# Build boxplot of last_5\n",
    "boxplot(last_5)\n"
   ]
  },
  {
   "cell_type": "markdown",
   "metadata": {},
   "source": [
    "### Understand your data\n",
    "\n",
    "Have another look at a colored version of the histogram you created in the previous exercise. What's the color of the bin in which your grade (me) lies?\n",
    "\n",
    "Possible Answers\n",
    "\n",
    " - red\n",
    " - blue\n",
    " - green\n",
    " - yellow (Correct)\n"
   ]
  },
  {
   "cell_type": "markdown",
   "metadata": {},
   "source": [
    "### Basic queries\n",
    "\n",
    "Remember relational operators? Here's a short list to freshen your memory:\n",
    "\n",
    "`== - Equality`\n",
    "\n",
    "`!= - Inequality`\n",
    "\n",
    "`> - Greater than`\n",
    "\n",
    "`< - Less than`\n",
    "\n",
    "`>= - Greater than or equal to`\n",
    "\n",
    "`<= - Less than or equal to`\n",
    "\n",
    "In this exercise, you'll be writing queries to answer questions about me, my_class and last_5. These variables are available in your workspace. The result of your queries should be a vector or a matrix of logicals.\n",
    "\n",
    "Instructions\n",
    " - Is your grade equal to 72?\n",
    " - Which grades in your class are higher than 75?\n",
    " - Which grades in the last 5 years are below or equal to 64?"
   ]
  },
  {
   "cell_type": "code",
   "execution_count": null,
   "metadata": {
    "collapsed": true
   },
   "outputs": [],
   "source": [
    "# me, my_class and last_5 are preloaded\n",
    "\n",
    "# Is your grade equal to 72?\n",
    "me == 72\n",
    "\n",
    "# Which grades in your class are higher than 75?\n",
    "my_class > 75\n",
    "\n",
    "# Which grades in the last 5 years are below or equal to 64?\n",
    "last_5 <=64"
   ]
  },
  {
   "cell_type": "markdown",
   "metadata": {},
   "source": [
    "### Build aggregates\n",
    "\n",
    "Answering the question which grades in your class are higher than 75? with a vector of logicals is not very insightful. It's much better to ask the question how many grades in your class are higher than 75? instead.\n",
    "\n",
    "You can answer such questions with the sum() function. Each TRUE you passs count as 1, each FALSE as 0. Just in the same way, you can use mean(); this will give you the proportion of TRUE values in the data structure you pass it.\n",
    "\n",
    "Instructions\n",
    " - How many grades in your class are higher than 75?\n",
    " - How many students in your class scored strictly higher than you?\n",
    " - What's the proportion of grades below or equal to 64 in the last five years?"
   ]
  },
  {
   "cell_type": "code",
   "execution_count": null,
   "metadata": {
    "collapsed": true
   },
   "outputs": [],
   "source": [
    "# me, my_class and last_5 are preloaded\n",
    "\n",
    "# How many grades in your class are higher than 75?\n",
    "sum(my_class > 75)\n",
    "\n",
    "# How many students in your class scored strictly higher than you?\n",
    "sum(my_class > me)\n",
    "\n",
    "# What's the proportion of grades below or equal to 64 in the last 5 years?\n",
    "mean(last_5 <= 64)"
   ]
  },
  {
   "cell_type": "markdown",
   "metadata": {},
   "source": [
    "### Logical operator\n",
    "\n",
    "Next to relational operators, there are also logical operators, to combine logicals:\n",
    "\n",
    "& - AND\n",
    "| - OR\n",
    "! - NOT\n",
    "\n",
    "Try to answer the following questions such that the output of your code is logical:\n",
    "\n",
    "Instructions\n",
    " - Is your grade greater than 87 and smaller than or equal to 89?\n",
    " - Which grades in your class are below 60 or above 90?\n",
    " - Take Hint (-30xp)"
   ]
  },
  {
   "cell_type": "code",
   "execution_count": null,
   "metadata": {
    "collapsed": true
   },
   "outputs": [],
   "source": [
    "# me, my_class and last_5 are preloaded\n",
    "\n",
    "# Is your grade greater than 87 and smaller than or equal to 89?\n",
    "me > 87 & me <= 89\n",
    "\n",
    "# Which grades in your class are below 60 or above 90?\n",
    "my_class < 60 | my_class > 90"
   ]
  },
  {
   "cell_type": "markdown",
   "metadata": {},
   "source": [
    "## Build aggregates (2)\n",
    "\n",
    "This exercise sums it all up: use relational operators, logical operators, and functions such as sum() and mean() to come up with the solution!\n",
    "\n",
    "Instructions\n",
    " - What's the proportion of grades in your class that is average, i.e. greater than or equal to 70 and lower than or equal to 85?\n",
    " - How many students in the last 5 years had a grade of exactly 80 or 90?"
   ]
  },
  {
   "cell_type": "code",
   "execution_count": null,
   "metadata": {
    "collapsed": true
   },
   "outputs": [],
   "source": [
    "# me, my_class and last_5 are preloaded\n",
    "\n",
    "# What's the proportion of grades in your class that is average?\n",
    "mean(my_class >=70 & my_class <=85)\n",
    "\n",
    "# How many students in the last 5 years had a grade of 80 or 90?\n",
    "sum(last_5 == 80 | last_5 == 90)"
   ]
  },
  {
   "cell_type": "markdown",
   "metadata": {},
   "source": [
    "### if, else\n",
    "\n",
    "As a refresher of the syntax, have a look at this example:\n",
    "\n",
    "`if (me > 80) {\n",
    "  print(\"Good student!\")\n",
    "} else {\n",
    "  print(\"Better luck next year!\")\n",
    "}`\n",
    "    \n",
    "Your grade, me, equals 89, so the condition in the if statement evaluates to TRUE, and print(\"Good student!\") is executed.\n",
    "\n",
    "Note that the else part should come on the same line as the closing bracket of the if statement! If you don't do this, R will not understand your code!\n",
    "\n",
    "What is the output if this control structure is run in case me equals 80?\n",
    "\n",
    "Possible Answers\n",
    " - [1] \"Good student!\"\n",
    " - [1] \"Better luck next year!\" (Correct)\n",
    " - It gives an error, as me is exactly 80.\n"
   ]
  },
  {
   "cell_type": "code",
   "execution_count": null,
   "metadata": {
    "collapsed": true
   },
   "outputs": [],
   "source": [
    "# me, my_class and last_5 are preloaded\n",
    "\n",
    "# Define n_smart\n",
    "n_smart = sum(my_class>=80)\n",
    "\n",
    "# Code the if-else construct\n",
    "if(n_smart > 50){\n",
    "  print(\"smart class\")\n",
    "} else {\n",
    "  print(\"rather average\")\n",
    "}"
   ]
  },
  {
   "cell_type": "markdown",
   "metadata": {},
   "source": [
    "### else if\n",
    "\n",
    "You can further customize your if-else constructs with an else if statement:\n",
    "\n",
    "`if (condition) {\n",
    "  expr\n",
    "} else if (condition) {\n",
    "  expr\n",
    "} else {\n",
    "  expr\n",
    "}`\n",
    "\n",
    "Remember here that as soon as R encounters a condition that evaluates to TRUE, the corresponding expr is executed and the control structure is abandoned.\n",
    "\n",
    "Note that the else if and else parts should come on the same line as the closing bracket of the previous statement! If you don't do this, R will not understand your code!\n",
    "\n",
    "Instructions\n",
    " - Assign to prop_less the proportion of students whose grade - stored in my_class - was lower than yours.\n",
    " - Write a control construct with the following properties:\n",
    " - if prop_less exceeds 0.9, print out \"you're among the best 10 percent\".\n",
    " - if the above is not the case, but prop_less exceeds 0.8, print out \"you're among the best 20 percent\".\n",
    " - if the above two don't hold, print out \"need more analysis\"."
   ]
  },
  {
   "cell_type": "code",
   "execution_count": null,
   "metadata": {
    "collapsed": true
   },
   "outputs": [],
   "source": [
    "# me, my_class and last_5 are preloaded\n",
    "\n",
    "# Define prop_less\n",
    "prop_less = mean(my_class < me)\n",
    "\n",
    "# Code the control construct\n",
    "if(prop_less > 0.9){\n",
    "  print(\"you're among the best 10 percent\")\n",
    "} else if (prop_less > 0.8 ){\n",
    "  print(\"you're among the best 20 percent\")\n",
    "} else {\n",
    "  print(\"need more analysis\")\n",
    "}"
   ]
  },
  {
   "cell_type": "markdown",
   "metadata": {},
   "source": [
    "### Embed if-else clauses\n",
    "\n",
    "An example of embedded control structures is included in the sample code. There's a top-level if-else construct and there are other if-else constructs inside the statements. However, there's still something wrong here.\n",
    "\n",
    "Instructions\n",
    "Fix the control structure such that:\n",
    "\n",
    " - The body of the top-level if condition is executed if the average score of your class is strictly below 75.\n",
    " - There are no syntax errors.\n",
    " - Take Hint (-30xp)"
   ]
  },
  {
   "cell_type": "markdown",
   "metadata": {},
   "source": [
    "### Embed if-else clauses\n",
    "\n",
    "An example of embedded control structures is included in the sample code. There's a top-level if-else construct and there are other if-else constructs inside the statements. However, there's still something wrong here.\n",
    "\n",
    "Instructions\n",
    "Fix the control structure such that:\n",
    "\n",
    " - The body of the top-level if condition is executed if the average score of your class is strictly below 75.\n",
    " - There are no syntax errors."
   ]
  },
  {
   "cell_type": "code",
   "execution_count": null,
   "metadata": {
    "collapsed": true
   },
   "outputs": [],
   "source": [
    "# me, my_class and last_5 are preloaded\n",
    "\n",
    "# Embedded control structure: fix the error\n",
    "if (mean(my_class) < 75) {\n",
    "  if (mean(my_class) > me) {\n",
    "    print(\"average year, but still smarter than me\")\n",
    "  } else {\n",
    "    print(\"average year, but I'm not that bad\")\n",
    "  }\n",
    "} else {\n",
    "  if (mean(my_class) > me) {\n",
    "    print(\"smart year, even smarter than me\")\n",
    "  } else {\n",
    "    print(\"smart year, but I am smarter\")\n",
    "  }\n",
    "}"
   ]
  },
  {
   "cell_type": "markdown",
   "metadata": {},
   "source": [
    "### Operations and controls expertise\n",
    "\n",
    "Thinking about your time at school, you remember the wide range of students in your class. In this exercise, let's try blending everything together to see whether there were more high achievers than low achievers in your class. You will not receive too much help from the feedback messages... you're pretty much on your own here!\n",
    "\n",
    "Instructions\n",
    " - Create a sub-vector of my_class that only contains the grades that are greater than or equal to 85. Call this vector top_grades.\n",
    " - Create a similar sub-vector, but this time with the grades of my_class that are strictly under 65. Call this vector worst_grades.\n",
    " - Create a conditional statement that prints out \"top grades prevail\" if the length of top_grades exceeds that of worst_grades. Don't include an else statement."
   ]
  },
  {
   "cell_type": "code",
   "execution_count": null,
   "metadata": {
    "collapsed": true
   },
   "outputs": [],
   "source": [
    "# me, my_class and last_5 are preloaded\n",
    "\n",
    "# Create top_grades\n",
    "top_grades = my_class[my_class >= 85]\n",
    "\n",
    "# Create worst_grades\n",
    "worst_grades = my_class[my_class < 65]\n",
    "\n",
    "# Write conditional statement\n",
    "if(length(top_grades) > length(worst_grades)){\n",
    "  print(\"top grades prevail\")\n",
    "}"
   ]
  }
 ],
 "metadata": {
  "anaconda-cloud": {},
  "kernelspec": {
   "display_name": "R",
   "language": "R",
   "name": "ir"
  },
  "language_info": {
   "codemirror_mode": "r",
   "file_extension": ".r",
   "mimetype": "text/x-r-source",
   "name": "R",
   "pygments_lexer": "r",
   "version": "3.3.2"
  }
 },
 "nbformat": 4,
 "nbformat_minor": 1
}
