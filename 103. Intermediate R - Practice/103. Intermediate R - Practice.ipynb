{
 "cells": [
  {
   "cell_type": "markdown",
   "metadata": {},
   "source": [
    "# 1. Conditionals and Control Flow"
   ]
  },
  {
   "cell_type": "markdown",
   "metadata": {},
   "source": [
    "If conditionals are your thing, these exercises will be a walk in the park. Else, let the feedback guide you and add these vital elements of R to your toolkit!"
   ]
  },
  {
   "cell_type": "markdown",
   "metadata": {},
   "source": [
    "### Grades analysis in R\n",
    "\n",
    "Suppose you're a student in a prestigious academy that only allows the country's best 200 students every year. Just for fun, you decide to analyze the grades of this academy. The highest possible grade is 100, the lowest possible grade is 0.\n",
    "\n",
    "You have access to your own grades, to anonymized grades for all of your 199 classmates, and for the 200 pupils in the previous 4 years. This data is available in your workspace as me, other_199, and previous_4, respectively. Have a look at these variables in the console.\n",
    "\n",
    "To format our data so that it'd be easier to work with and analyze later on, let's merge the three datasets to one called last_5, with dimensions 200 by 5. That is, last_5 contains all 200 scores from the last 5 classes.\n",
    "\n",
    "Instructions\n",
    " - Use c() to merge the data in me and other_199 (in this order). Store the result in my_class.\n",
    " - Build a 200-by-5 matrix named last_5: use cbind() to paste together the vector my_class and the 200-by-4 matrix previous_4.\n",
    " - Use colnames() on last_5 to give the columns the names year_1, up to year_5, in this order. To get you started, a character vector nms that you can use is already available."
   ]
  },
  {
   "cell_type": "code",
   "execution_count": null,
   "metadata": {
    "collapsed": true
   },
   "outputs": [],
   "source": [
    "me = 89"
   ]
  },
  {
   "cell_type": "code",
   "execution_count": null,
   "metadata": {
    "collapsed": true
   },
   "outputs": [],
   "source": [
    "# me, other_199, and previous_4 are available in your workspace\n",
    "\n",
    "# Merge me and other_199: my_class\n",
    "my_class = c(me, other_199)\n",
    "\n",
    "# cbind() my_class and previous_4: last_5\n",
    "last_5 = cbind(my_class, previous_4)\n",
    "\n",
    "# Name last_5 appropriately\n",
    "colnames(last_5) <- paste0(\"year_\", 1:5)\n"
   ]
  },
  {
   "cell_type": "markdown",
   "metadata": {},
   "source": [
    "### Explore your data\n",
    "\n",
    "To get a good feel for your data, it's a good idea to make some visualizations and make some summaries.\n",
    "\n",
    "The object me is still preloaded, as are the objects my_class and last_5 that you built yourself. Up to you to write some exploration code!\n",
    "\n",
    "Instructions\n",
    " - Use hist() to create a histogram of my_class. Can you tell in which bin your grade (the variable me) is?\n",
    " - Generate a summary of last_5. What do these numbers tell you?\n",
    " - Maybe a boxplot is more informative here; use boxplot() on last_5 and try to read the resulting graph."
   ]
  },
  {
   "cell_type": "code",
   "execution_count": null,
   "metadata": {
    "collapsed": true
   },
   "outputs": [],
   "source": [
    "# me, my_class and last_5 are available in your workspace\n",
    "\n",
    "# Build histogram of my_class\n",
    "hist(my_class)\n",
    "\n",
    "# Generate summary of last_5\n",
    "summary(last_5)\n",
    "\n",
    "# Build boxplot of last_5\n",
    "boxplot(last_5)\n"
   ]
  },
  {
   "cell_type": "markdown",
   "metadata": {},
   "source": [
    "### Understand your data\n",
    "\n",
    "Have another look at a colored version of the histogram you created in the previous exercise. What's the color of the bin in which your grade (me) lies?\n",
    "\n",
    "Possible Answers\n",
    "\n",
    " - red\n",
    " - blue\n",
    " - green\n",
    " - yellow (Correct)\n"
   ]
  },
  {
   "cell_type": "markdown",
   "metadata": {},
   "source": [
    "### Basic queries\n",
    "\n",
    "Remember relational operators? Here's a short list to freshen your memory:\n",
    "\n",
    "`== - Equality`\n",
    "\n",
    "`!= - Inequality`\n",
    "\n",
    "`> - Greater than`\n",
    "\n",
    "`< - Less than`\n",
    "\n",
    "`>= - Greater than or equal to`\n",
    "\n",
    "`<= - Less than or equal to`\n",
    "\n",
    "In this exercise, you'll be writing queries to answer questions about me, my_class and last_5. These variables are available in your workspace. The result of your queries should be a vector or a matrix of logicals.\n",
    "\n",
    "Instructions\n",
    " - Is your grade equal to 72?\n",
    " - Which grades in your class are higher than 75?\n",
    " - Which grades in the last 5 years are below or equal to 64?"
   ]
  },
  {
   "cell_type": "code",
   "execution_count": null,
   "metadata": {
    "collapsed": true
   },
   "outputs": [],
   "source": [
    "# me, my_class and last_5 are preloaded\n",
    "\n",
    "# Is your grade equal to 72?\n",
    "me == 72\n",
    "\n",
    "# Which grades in your class are higher than 75?\n",
    "my_class > 75\n",
    "\n",
    "# Which grades in the last 5 years are below or equal to 64?\n",
    "last_5 <=64"
   ]
  },
  {
   "cell_type": "markdown",
   "metadata": {},
   "source": [
    "### Build aggregates\n",
    "\n",
    "Answering the question which grades in your class are higher than 75? with a vector of logicals is not very insightful. It's much better to ask the question how many grades in your class are higher than 75? instead.\n",
    "\n",
    "You can answer such questions with the sum() function. Each TRUE you passs count as 1, each FALSE as 0. Just in the same way, you can use mean(); this will give you the proportion of TRUE values in the data structure you pass it.\n",
    "\n",
    "Instructions\n",
    " - How many grades in your class are higher than 75?\n",
    " - How many students in your class scored strictly higher than you?\n",
    " - What's the proportion of grades below or equal to 64 in the last five years?"
   ]
  },
  {
   "cell_type": "code",
   "execution_count": null,
   "metadata": {
    "collapsed": true
   },
   "outputs": [],
   "source": [
    "# me, my_class and last_5 are preloaded\n",
    "\n",
    "# How many grades in your class are higher than 75?\n",
    "sum(my_class > 75)\n",
    "\n",
    "# How many students in your class scored strictly higher than you?\n",
    "sum(my_class > me)\n",
    "\n",
    "# What's the proportion of grades below or equal to 64 in the last 5 years?\n",
    "mean(last_5 <= 64)"
   ]
  },
  {
   "cell_type": "markdown",
   "metadata": {},
   "source": [
    "### Logical operator\n",
    "\n",
    "Next to relational operators, there are also logical operators, to combine logicals:\n",
    "\n",
    "& - AND\n",
    "| - OR\n",
    "! - NOT\n",
    "\n",
    "Try to answer the following questions such that the output of your code is logical:\n",
    "\n",
    "Instructions\n",
    " - Is your grade greater than 87 and smaller than or equal to 89?\n",
    " - Which grades in your class are below 60 or above 90?\n",
    " - Take Hint (-30xp)"
   ]
  },
  {
   "cell_type": "code",
   "execution_count": null,
   "metadata": {
    "collapsed": true
   },
   "outputs": [],
   "source": [
    "# me, my_class and last_5 are preloaded\n",
    "\n",
    "# Is your grade greater than 87 and smaller than or equal to 89?\n",
    "me > 87 & me <= 89\n",
    "\n",
    "# Which grades in your class are below 60 or above 90?\n",
    "my_class < 60 | my_class > 90"
   ]
  },
  {
   "cell_type": "markdown",
   "metadata": {},
   "source": [
    "## Build aggregates (2)\n",
    "\n",
    "This exercise sums it all up: use relational operators, logical operators, and functions such as sum() and mean() to come up with the solution!\n",
    "\n",
    "Instructions\n",
    " - What's the proportion of grades in your class that is average, i.e. greater than or equal to 70 and lower than or equal to 85?\n",
    " - How many students in the last 5 years had a grade of exactly 80 or 90?"
   ]
  },
  {
   "cell_type": "code",
   "execution_count": null,
   "metadata": {
    "collapsed": true
   },
   "outputs": [],
   "source": [
    "# me, my_class and last_5 are preloaded\n",
    "\n",
    "# What's the proportion of grades in your class that is average?\n",
    "mean(my_class >=70 & my_class <=85)\n",
    "\n",
    "# How many students in the last 5 years had a grade of 80 or 90?\n",
    "sum(last_5 == 80 | last_5 == 90)"
   ]
  },
  {
   "cell_type": "markdown",
   "metadata": {},
   "source": [
    "### if, else\n",
    "\n",
    "As a refresher of the syntax, have a look at this example:\n",
    "\n",
    "`if (me > 80) {\n",
    "  print(\"Good student!\")\n",
    "} else {\n",
    "  print(\"Better luck next year!\")\n",
    "}`\n",
    "    \n",
    "Your grade, me, equals 89, so the condition in the if statement evaluates to TRUE, and print(\"Good student!\") is executed.\n",
    "\n",
    "Note that the else part should come on the same line as the closing bracket of the if statement! If you don't do this, R will not understand your code!\n",
    "\n",
    "What is the output if this control structure is run in case me equals 80?\n",
    "\n",
    "Possible Answers\n",
    " - [1] \"Good student!\"\n",
    " - [1] \"Better luck next year!\" (Correct)\n",
    " - It gives an error, as me is exactly 80.\n"
   ]
  },
  {
   "cell_type": "code",
   "execution_count": null,
   "metadata": {
    "collapsed": true
   },
   "outputs": [],
   "source": [
    "# me, my_class and last_5 are preloaded\n",
    "\n",
    "# Define n_smart\n",
    "n_smart = sum(my_class>=80)\n",
    "\n",
    "# Code the if-else construct\n",
    "if(n_smart > 50){\n",
    "  print(\"smart class\")\n",
    "} else {\n",
    "  print(\"rather average\")\n",
    "}"
   ]
  },
  {
   "cell_type": "markdown",
   "metadata": {},
   "source": [
    "### else if\n",
    "\n",
    "You can further customize your if-else constructs with an else if statement:\n",
    "\n",
    "`if (condition) {\n",
    "  expr\n",
    "} else if (condition) {\n",
    "  expr\n",
    "} else {\n",
    "  expr\n",
    "}`\n",
    "\n",
    "Remember here that as soon as R encounters a condition that evaluates to TRUE, the corresponding expr is executed and the control structure is abandoned.\n",
    "\n",
    "Note that the else if and else parts should come on the same line as the closing bracket of the previous statement! If you don't do this, R will not understand your code!\n",
    "\n",
    "Instructions\n",
    " - Assign to prop_less the proportion of students whose grade - stored in my_class - was lower than yours.\n",
    " - Write a control construct with the following properties:\n",
    " - if prop_less exceeds 0.9, print out \"you're among the best 10 percent\".\n",
    " - if the above is not the case, but prop_less exceeds 0.8, print out \"you're among the best 20 percent\".\n",
    " - if the above two don't hold, print out \"need more analysis\"."
   ]
  },
  {
   "cell_type": "code",
   "execution_count": null,
   "metadata": {
    "collapsed": true
   },
   "outputs": [],
   "source": [
    "# me, my_class and last_5 are preloaded\n",
    "\n",
    "# Define prop_less\n",
    "prop_less = mean(my_class < me)\n",
    "\n",
    "# Code the control construct\n",
    "if(prop_less > 0.9){\n",
    "  print(\"you're among the best 10 percent\")\n",
    "} else if (prop_less > 0.8 ){\n",
    "  print(\"you're among the best 20 percent\")\n",
    "} else {\n",
    "  print(\"need more analysis\")\n",
    "}"
   ]
  },
  {
   "cell_type": "markdown",
   "metadata": {},
   "source": [
    "### Embed if-else clauses\n",
    "\n",
    "An example of embedded control structures is included in the sample code. There's a top-level if-else construct and there are other if-else constructs inside the statements. However, there's still something wrong here.\n",
    "\n",
    "Instructions\n",
    "Fix the control structure such that:\n",
    "\n",
    " - The body of the top-level if condition is executed if the average score of your class is strictly below 75.\n",
    " - There are no syntax errors.\n",
    " - Take Hint (-30xp)"
   ]
  },
  {
   "cell_type": "markdown",
   "metadata": {},
   "source": [
    "### Embed if-else clauses\n",
    "\n",
    "An example of embedded control structures is included in the sample code. There's a top-level if-else construct and there are other if-else constructs inside the statements. However, there's still something wrong here.\n",
    "\n",
    "Instructions\n",
    "Fix the control structure such that:\n",
    "\n",
    " - The body of the top-level if condition is executed if the average score of your class is strictly below 75.\n",
    " - There are no syntax errors."
   ]
  },
  {
   "cell_type": "code",
   "execution_count": null,
   "metadata": {
    "collapsed": true
   },
   "outputs": [],
   "source": [
    "# me, my_class and last_5 are preloaded\n",
    "\n",
    "# Embedded control structure: fix the error\n",
    "if (mean(my_class) < 75) {\n",
    "  if (mean(my_class) > me) {\n",
    "    print(\"average year, but still smarter than me\")\n",
    "  } else {\n",
    "    print(\"average year, but I'm not that bad\")\n",
    "  }\n",
    "} else {\n",
    "  if (mean(my_class) > me) {\n",
    "    print(\"smart year, even smarter than me\")\n",
    "  } else {\n",
    "    print(\"smart year, but I am smarter\")\n",
    "  }\n",
    "}"
   ]
  },
  {
   "cell_type": "markdown",
   "metadata": {},
   "source": [
    "### Operations and controls expertise\n",
    "\n",
    "Thinking about your time at school, you remember the wide range of students in your class. In this exercise, let's try blending everything together to see whether there were more high achievers than low achievers in your class. You will not receive too much help from the feedback messages... you're pretty much on your own here!\n",
    "\n",
    "Instructions\n",
    " - Create a sub-vector of my_class that only contains the grades that are greater than or equal to 85. Call this vector top_grades.\n",
    " - Create a similar sub-vector, but this time with the grades of my_class that are strictly under 65. Call this vector worst_grades.\n",
    " - Create a conditional statement that prints out \"top grades prevail\" if the length of top_grades exceeds that of worst_grades. Don't include an else statement."
   ]
  },
  {
   "cell_type": "code",
   "execution_count": null,
   "metadata": {
    "collapsed": true
   },
   "outputs": [],
   "source": [
    "# me, my_class and last_5 are preloaded\n",
    "\n",
    "# Create top_grades\n",
    "top_grades = my_class[my_class >= 85]\n",
    "\n",
    "# Create worst_grades\n",
    "worst_grades = my_class[my_class < 65]\n",
    "\n",
    "# Write conditional statement\n",
    "if(length(top_grades) > length(worst_grades)){\n",
    "  print(\"top grades prevail\")\n",
    "}"
   ]
  },
  {
   "cell_type": "markdown",
   "metadata": {
    "collapsed": true
   },
   "source": [
    "# 2. Loops"
   ]
  },
  {
   "cell_type": "markdown",
   "metadata": {},
   "source": [
    "Looping through data structures is something you'll often do. While and for loops help you do this. Get more practice on them by analyzing the log data from a chemical plant."
   ]
  },
  {
   "cell_type": "markdown",
   "metadata": {},
   "source": [
    "### Scanning Logs in R\n",
    "\n",
    "Imagine you're a data scientist in a huge chemical company. Business is going well, but in the last couple of days, some unexpected errors occurred at your plant. You decide to dig through the log files from the last 4 days. You find that approximately every hour, the plant's monitoring system has produced a control message. It is up to you to analyze it in R.\n",
    "\n",
    "The data is stored as a list logs, which is loaded in your workspace. Let's do some exploring.\n",
    "\n",
    "Instructions\n",
    " - Display the structure of logs. It appears to be a list of lists, interesting.\n",
    " - Use list subsetting to print out the details component of the 11th element of logs.\n",
    " - Use class() to print out the class of the timestamp component of the first entry of logs."
   ]
  },
  {
   "cell_type": "code",
   "execution_count": null,
   "metadata": {
    "collapsed": true
   },
   "outputs": [],
   "source": [
    "# logs is already available in your workspace\n",
    "\n",
    "# Print the structure of logs\n",
    "str(logs)\n",
    "\n",
    "# Use list subsetting to print the details part of 11th logs entry\n",
    "logs[[11]]$details\n",
    "\n",
    "# Print the class of the timestamp component of the first entry\n",
    "class(logs[[1]]$timestamp)"
   ]
  },
  {
   "cell_type": "markdown",
   "metadata": {},
   "source": [
    "### Understand the logs\n",
    "\n",
    "The previous exercise already gave you a good feeling for the data in logs. Which of the statements concerning this data is NOT correct? logs is available in your workspace so you can play around with it in the console.\n",
    "\n",
    "Possible Answers\n",
    " - The classes of the timestamp elements of each list entry are POSIXct and POSIXt.\n",
    " - When success is TRUE for a single log entry, the details element is a list of length one. When success is FALSE, the details list contains two elements.\n",
    " - There are 100 log entries in the logs list. (Correct)\n",
    " - You can use logs[[c(2, 2, 1)]], which is equivalent to logs[[2]][[2]][[1]] to select the message of the second log entry.\n"
   ]
  },
  {
   "cell_type": "markdown",
   "metadata": {},
   "source": [
    "### While: start easy\n",
    "\n",
    "As a refresher, have a look at this while loop recipe:\n",
    "\n",
    "`while (condition) {\n",
    "  expr\n",
    "}`\n",
    "    \n",
    "The expr part gets executed over and over again, as long as condition evaluates to TRUE. Remember that condition should become FALSE at one point, otherwise your loop will go on indefinitely!\n",
    "\n",
    "As a data scientist, suppose you want to know how many entries there were before the first failure message. One way to go about this is to write a simple while loop that goes through each log entry in logs, prints out the entry number, and stops when it sees the first failure message, that is, when the success element is FALSE. The last number printed to the console is the number of entries before the first failure message was logged.\n",
    "\n",
    "Instructions\n",
    " - Start with defining an iterator, i, equal to 1, outside of the while loop.\n",
    " - Inside the while loop's condition, check if the success element of logs[[i]] is TRUE.\n",
    " - Inside the while loop's condition:\n",
    "    - First print out i and\n",
    "    - Next, increase i by 1. This is important!"
   ]
  },
  {
   "cell_type": "code",
   "execution_count": null,
   "metadata": {
    "collapsed": true
   },
   "outputs": [],
   "source": [
    "# logs is available in your workspace\n",
    "\n",
    "# Initialize the iterator i to be 1\n",
    "i = 1\n",
    "\n",
    "# Code the while loop\n",
    "while ( logs[[i]]$success ) {\n",
    "  print(i)\n",
    "  i = i+1\n",
    "}"
   ]
  },
  {
   "cell_type": "markdown",
   "metadata": {},
   "source": [
    "### Adapt the while loop\n",
    "\n",
    "In the previous exercise, you iterated through the logs until you found a log that indicates a failure, i.e. the success component is FALSE. Here, you'll further extend this while loop so that you can read the message for every log entry before the first failure; maybe there were warning messages that we've missed! Instead of simply printing i, print out the message, available inside the details element of each log entry.\n",
    "\n",
    "The sample code already contains the solution to the previous exercise. It's up to you to make the appropriate changes. You can always use str(logs) to have a look at the structure of logs.\n",
    "\n",
    "Instructions\n",
    "  - Do not change how i is initialized or updated.\n",
    "  - Change the print(i) call with a call that prints the message element of the details element of each log entry."
   ]
  },
  {
   "cell_type": "code",
   "execution_count": null,
   "metadata": {
    "collapsed": true
   },
   "outputs": [],
   "source": [
    "# logs is available in your workspace\n",
    "\n",
    "# Adapt the while loop\n",
    "i <- 1\n",
    "while (logs[[i]]$success) {\n",
    "  print(logs[[i]]$details$message)\n",
    "  i <- i + 1\n",
    "}"
   ]
  },
  {
   "cell_type": "markdown",
   "metadata": {},
   "source": [
    "### While: different approach\n",
    "\n",
    "To answer more complicated questions, you'll have to work with additional temporary variables that indicate whether you found what you're looking for while going through the logs. This temporary variable comes in addition to the iterator, i, that you use to access subsequent log entries.\n",
    "\n",
    "Suppose you have a meeting with your colleagues from other sectors of the company and find there may be problems in the waste department. To investigate this, you need to search through the while loop with the iterator i again, but this time you need to keep looking until you find a failure that occurred at the waste department, that is, where location inside the details element of the log equals \"waste\". Follow the instructions step-by-step to get there.\n",
    "\n",
    "The ___ parts in the sample code should be replaced with valid R code.\n",
    "\n",
    "Instructions\n",
    " - Initialize two variables: i, to 1 as before, and found, to FALSE.\n",
    " - Write a while loop that:\n",
    "    - keeps running as long as found is FALSE.\n",
    "    - `Checks if logs[[i]]$success is FALSE and logs[[i]]$details$location equals \"waste\". You'll need to use the && sign here. This causes the evaluation of the condition to halt as soon as the result of the condition is known; if logs[[i]]$success is TRUE, it's certain that the condition will be FALSE, so the next comparison is not evaluated anymore.`\n",
    "    - prints out \"found\" and sets found to TRUE if the above condition holds.\n",
    "    - prints out \"still looking\" and increment i if the above condition does not hold."
   ]
  },
  {
   "cell_type": "code",
   "execution_count": null,
   "metadata": {
    "collapsed": true
   },
   "outputs": [],
   "source": [
    "# logs is available in your workspace\n",
    "\n",
    "# Initialize i and found\n",
    "i <- 1\n",
    "found <- FALSE\n",
    "\n",
    "# Code the while loop\n",
    "while (!found) {\n",
    "  if (logs[[i]]$success == FALSE && logs[[i]]$details$location == \"waste\") {\n",
    "    print(\"found\")\n",
    "    found = TRUE\n",
    "  } else {\n",
    "    print(\"still looking\")\n",
    "    i=i+1\n",
    "  }\n",
    "}"
   ]
  },
  {
   "cell_type": "markdown",
   "metadata": {},
   "source": [
    "### The for loop\n",
    "\n",
    "Let's do a quick review. The while loop keeps executing code until its condition evaluates to FALSE. The for loop, on the other hand, iterates over a sequence, where a looping variable changes for each iteration, according to the sequence. Have a look at the following that prints the value of each element in vec in two different ways:\n",
    "\n",
    "`vec <- c(2, 3, 5, 7, 11, 13)`\n",
    "\n",
    "`# Option 1`\n",
    "`for (el in vec) {\n",
    "  print(el)\n",
    "}`\n",
    "\n",
    "`# Option 2`\n",
    "`for (i in 1:length(vec)) {\n",
    "  print(vec[i])\n",
    "}`\n",
    "\n",
    "In this exercise and in the following exercises, you'll again be working with the chemical plant logs that's loaded in your workspace as logs. Here, you'll write a for loop that prints when each log entry was logged.\n",
    "\n",
    "Instructions\n",
    "    \n",
    "Build a for loop that separately prints the timestamp element of each log entry in the logs list. You can do this in several ways:\n",
    "\n",
    " - By looping over logs: for(log in logs). At each iteration, log will be an entry of the logs list.\n",
    " - By using a looping index: for(i in 1:length(logs)). You can then use logs[[i]] to access the log entry."
   ]
  },
  {
   "cell_type": "code",
   "execution_count": null,
   "metadata": {
    "collapsed": true
   },
   "outputs": [],
   "source": [
    "# logs is available in your workspace\n",
    "\n",
    "# Code a for loop that prints the timestamp of each log\n",
    "for (log in logs) {\n",
    "  print(log$timestamp)\n",
    "}"
   ]
  },
  {
   "cell_type": "markdown",
   "metadata": {},
   "source": [
    "### Going through the list\n",
    "\n",
    "You can use an if-else construct inside a for loop. This allows you to loop through the log entries and perform more specific tasks.\n",
    "\n",
    "In the sample code on the right, a for loop that solved the previous exercise is included. It's up to you to extend it so that you know when each successful log entry was logged.\n",
    "\n",
    "Instructions\n",
    " - Add an if statement such that the for loop only prints the timestamp if the log in question represents a success, i.e. if its success element is TRUE."
   ]
  },
  {
   "cell_type": "code",
   "execution_count": null,
   "metadata": {
    "collapsed": true
   },
   "outputs": [],
   "source": [
    "# logs is available in your workspace\n",
    "\n",
    "# Make the printout conditional: only if success\n",
    "for (log in logs) {\n",
    " if(log$success == TRUE){\n",
    "  print(log$timestamp)}  \n",
    "}"
   ]
  },
  {
   "cell_type": "markdown",
   "metadata": {},
   "source": [
    "### Adapt the logs list\n",
    "\n",
    "Apart from doing simple printouts in a for loop, remember that it's possible to adapt data structures inside a for loop.\n",
    "\n",
    "As a data scientist, you know it's always helpful to convert any time-related data to a Date object. So, in this case, we want to convert the timestamp to a Date object. How could we go about this? Using the for (log in logs) approach here won't work, because log is a local copy of an element in logs. To actually access and change the elements in the logs list, you will need to use the looping index.\n",
    "\n",
    "The sample code already includes a for loop without a body, can you complete it?\n",
    "\n",
    "Instructions\n",
    " - Finish the for loop in the sample code; after running it, each entry in logs should contain a date element. This should b a Date object that you can build from the timestamp element with as.Date().\n",
    " - Print the first 6 elements in logs by calling the head() function on logs. Is the date information in there now?"
   ]
  },
  {
   "cell_type": "code",
   "execution_count": null,
   "metadata": {
    "collapsed": true
   },
   "outputs": [],
   "source": [
    "# logs is available in your workspace\n",
    "\n",
    "# Finish the for loop: add date element for each entry\n",
    "for (i in 1:length(logs)) {\n",
    "  logs[[i]]$date <- as.Date(logs[[i]]$timestamp)\n",
    "}\n",
    "\n",
    "# Print first 6 elements in logs\n",
    "logs[1:6]"
   ]
  },
  {
   "cell_type": "markdown",
   "metadata": {},
   "source": [
    "### Collect all failures\n",
    "\n",
    "In the previous exercise, you adapted the data structure you were looping over. Remember, it's also possible to build a new data structure altogether inside your for loop.\n",
    "\n",
    "Your plant manager approaches you and asks for a report on all failures that are available in the logs list. Instead of the entire list, she is only interested in the failures. Get to work to generate what she askes for!\n",
    "\n",
    "Just a tip before you get to it: If you have a list of lists a and want to add a list b to it, you can use c(a, list(b)).\n",
    "\n",
    "Instructions\n",
    " - Initialize an empty list, failures using the list() function without arguments.\n",
    " - Finish the for loop such that each log entry that indicates a failure is added to failures.\n",
    " - Display the structure of the failures list that results."
   ]
  },
  {
   "cell_type": "code",
   "execution_count": null,
   "metadata": {
    "collapsed": true
   },
   "outputs": [],
   "source": [
    "# logs is available in your workspace\n",
    "\n",
    "# Intialize empty list: failures\n",
    "failures <- list()\n",
    "\n",
    "# Finish the for loop: add each failure to failures\n",
    "for (log in logs) {\n",
    "  if (log$success==FALSE) {\n",
    "    failures <- c(failures, list(log))\n",
    "  }\n",
    "}\n",
    "\n",
    "# Display the structure of failures\n",
    "str(failures)"
   ]
  },
  {
   "cell_type": "markdown",
   "metadata": {},
   "source": [
    "# 3. Functions"
   ]
  },
  {
   "cell_type": "markdown",
   "metadata": {},
   "source": [
    "### Using functions\n",
    "\n",
    "Recall that when you call a function, R matches your input parameters with its function arguments, either by value or by position, then executes the function body. Function arguments can have default values: if you do not specify these arguments, R will take the default value.\n",
    "\n",
    "Remember the chemical plant logs stored as logs? logs is a list of log entries; each entry itself is also a list containing a bunch of information regarding measurements in the plant. logs is still available in your workspace so feel free to refresh your memory.\n",
    "\n",
    "You wonder when the most recent failure was logged. The timestamps vector, which contains the timestamps of logs indicating a failure, is already available in your workspace. It's up to you to use the max() function to find the most recent timestamp. You can check the function's documentation by typing ?max in the console.\n",
    "\n",
    "Instructions\n",
    " - Call max() on timestamps to find the latest timestamp.\n",
    " - Write a one-liner that converts the latest timestamp to a Date object. You can use as.Date() for this."
   ]
  },
  {
   "cell_type": "code",
   "execution_count": null,
   "metadata": {
    "collapsed": true
   },
   "outputs": [],
   "source": [
    "# logs is available in your workspace\n",
    "\n",
    "# Call max() on timestamps\n",
    "max(timestamps)\n",
    "\n",
    "# What is the date of the latest timestamp?\n",
    "as.Date(max(timestamps))"
   ]
  },
  {
   "cell_type": "markdown",
   "metadata": {},
   "source": [
    "### Optional Arguments\n",
    "\n",
    "Due to some irregularities in the logging system, some of the timestamps for failures are missing. The vector timestamps that was gathered from all failures is available in your workspace. You will see that some timestamps are NA, which is R's way of denoting a missing value.\n",
    "\n",
    "max() has a default way of handling NA values in a vector: it simply returns NA. You can have max() ignore NA values by controlling the na.rm argument.\n",
    "\n",
    "Instructions\n",
    " - Inspect the contents of timestamps by simply printing them.\n",
    " - Call max() on timestamps without specifying additional arguments.\n",
    " - Again call max() on timestamps but set the na.rm argument appropriately. What is the difference?"
   ]
  },
  {
   "cell_type": "code",
   "execution_count": null,
   "metadata": {
    "collapsed": true
   },
   "outputs": [],
   "source": [
    "# A faulty version of timestamps is available in your workspace\n",
    "\n",
    "# Print out timestamps\n",
    "print(timestamps)\n",
    "\n",
    "# Call max() on timestamps, no additional arguments\n",
    "max(timestamps)\n",
    "\n",
    "# Call max() on timestamps, specify na.rm\n",
    "max(timestamps, na.rm=TRUE)"
   ]
  },
  {
   "cell_type": "markdown",
   "metadata": {},
   "source": [
    "### Which call is valid?\n",
    "\n",
    "Because of the way positional and named arguments work in R, you can call functions in several ways.\n",
    "\n",
    "Take the nchar() function, for example. You can use this function to count the number of characters in a character vector, such as in vec that is available in your workspace.\n",
    "\n",
    "Only one of the calls of nchar() below is valid; can you guess which one? Have a look at the function's documentation first with\n",
    "\n",
    "?nchar\n",
    "before trying each command in the console.\n",
    "\n",
    "Possible Answers\n",
    " - nchar(keepNA = TRUE, allowNAs = FALSE, x = vec)\n",
    " - nchar(vec, FALSE)\n",
    " - nchar(keepNA = TRUE, vec) (Correct)\n",
    " - nchar(x)\n"
   ]
  },
  {
   "cell_type": "markdown",
   "metadata": {},
   "source": [
    "### Extract log information (1)\n",
    "\n",
    "By now you've seen quite some examples of how data is extracted from the logs list with a for loop. As the plant's data scientist, you'll often want to extract information from the list, be it the messages, the timestamp, whether or not it was a success, etc. You could write a dedicated for loop for each one of them, but this is rather tedious. Why not wrap it in a function? Let's start simple and make your function more awesome step-by-step.\n",
    "\n",
    "Remember you can define your own function as follows:\n",
    "\n",
    "`my_fun <- function(arg1, arg2) {\n",
    "  body\n",
    "}`\n",
    "    \n",
    "The for loop that extracts the timestamp information for each log is included on the right. This time, the logs list doesn't contain any missing information like it did in the previous exercises.\n",
    "\n",
    "Instructions\n",
    " - Skeleton code for extract_info() is already provided. This function should take a list of logs as the input (the x argument), and return() a vector with all the logs' timestamps. Place the for loop that has already been coded in the function body. You'll also have to rename variables to make it work. Good luck!\n",
    " - Call extract_info() on logs; simply print out the result, no need to store it in a variable."
   ]
  },
  {
   "cell_type": "code",
   "execution_count": null,
   "metadata": {
    "collapsed": true
   },
   "outputs": [],
   "source": [
    "# logs is available in your workspace\n",
    "\n",
    "# for loop to extract timestamp; put this inside function body below\n",
    "info <- c()\n",
    "for (log in logs) {\n",
    " info <- c(info, log$timestamp)\n",
    "}\n",
    "\n",
    "# Build a function extract_info(): use for loop, add return statement\n",
    "extract_info <- function(x) {\n",
    "  info <- c()\n",
    "  for (log in x) {\n",
    "   info <- c(info, log$timestamp)\n",
    "  }\n",
    "  return(info)\n",
    "}\n",
    "\n",
    "# Call extract_info() on logs\n",
    "extract_info(logs)"
   ]
  },
  {
   "cell_type": "markdown",
   "metadata": {},
   "source": [
    "### Extract log information (2)\n",
    "\n",
    "In the previous exercise, you wrote a function extract_info(), which is available on the right. To make this function really powerful, you'll want to add an additional argument, property, so that you can select any property (ie. success, details, or timestamp) from the log entries.\n",
    "\n",
    "Next, you can use this argument to subset the list accordingly. You cannot use the $ notation if the element you want to select is a variable and not the actual name of a list:\n",
    "\n",
    "`log$property # won't work\n",
    "log[[property]] # will work`\n",
    "    \n",
    "Instructions\n",
    " - Add an additional argument to the function, called property.\n",
    " - Adapt the function body such that property is used to select the correct information from each log.\n",
    " - Call extract_info() on logs and set the property argument to \"timestamp\".\n",
    " - Call extract_info() on logs and set the property argument to \"success\"."
   ]
  },
  {
   "cell_type": "code",
   "execution_count": null,
   "metadata": {
    "collapsed": true
   },
   "outputs": [],
   "source": [
    "# logs is available in your workspace\n",
    "\n",
    "# Adapt the extract_info() function.\n",
    "extract_info <- function(x, property) {\n",
    "  info <- c()\n",
    "  for (log in x) {\n",
    "   info <- c(info, log[[property]])\n",
    "  }\n",
    "  return(info)\n",
    "}\n",
    "\n",
    "# Call extract_info() on logs, set property to \"timestamp\"\n",
    "extract_info(logs, \"timestamp\")\n",
    "\n",
    "# Call extract_info() on logs, set property to \"success\"\n",
    "extract_info(logs, \"success\")"
   ]
  },
  {
   "cell_type": "markdown",
   "metadata": {},
   "source": [
    "### Extract log information (3)\n",
    "\n",
    "The property argument in the previous exercises did not have a default value. This causes R to throw an error if you call extract_info() without specifying the property argument. Time to add this default value and see how your function behaves.\n",
    "\n",
    "Instructions\n",
    " - In the definition of extract_info(), set the default value of the property argument to \"success\".\n",
    " - Call extract_info() on logs without specifying the property argument.\n",
    " - Call extract_info() on logs, and set the property argument to \"timestamp\"."
   ]
  },
  {
   "cell_type": "code",
   "execution_count": null,
   "metadata": {
    "collapsed": true
   },
   "outputs": [],
   "source": [
    "# logs is available in your workspace\n",
    "\n",
    "# Add default value for property argument\n",
    "extract_info <- function(x, property=\"success\") {\n",
    "  info <- c()\n",
    "  for (log in x) {\n",
    "   info <- c(info, log[[property]])\n",
    "  }\n",
    "  return(info)\n",
    "}\n",
    "\n",
    "# Call extract_info() on logs, don't specify property\n",
    "extract_info(logs)\n",
    "\n",
    "# Call extract_info() on logs, set property to \"timestamp\"\n",
    "extract_info(logs, \"timestamp\")"
   ]
  },
  {
   "cell_type": "markdown",
   "metadata": {},
   "source": [
    "### Extract log information (4)\n",
    "\n",
    "In the for loop exercises, you wrote code that extracts information on log entries that indicate a failure. This is something your extract_info() function can not yet do. You can already guess what the purpose of this exercise is, right?\n",
    "\n",
    "Instructions\n",
    " - Add an argument to your function extract_info(): call it include_all, and make it TRUE by default. That is, the default is to extract all log entries, whether it indicates a failure or a success.\n",
    " - Change the body of your function: inside the for loop, add an if test: if include_all or if !log$success, you want to add the log[[property]] to the info vector. In all other cases, you're not adding anything to info. Use the || operator in your condition.\n",
    " - Call your new extract_info() function on logs, first without any additional arguments. The default value for include_all, which is TRUE, will be used.\n",
    " - Call extract_info() on logs again; this time set include_all to FALSE."
   ]
  },
  {
   "cell_type": "code",
   "execution_count": null,
   "metadata": {
    "collapsed": true
   },
   "outputs": [],
   "source": [
    "# logs is available in your workspace\n",
    "\n",
    "# Adapt extract_info():\n",
    "# - add argument with default value\n",
    "# - change function body\n",
    "extract_info <- function(x, property = \"success\", include_all=TRUE) {\n",
    "  info <- c()\n",
    "  for (log in x) {\n",
    "\n",
    "   # add if construct around the line below\n",
    "   if(include_all || !log$success)\n",
    "      info <- c(info, log[[property]])\n",
    "  }\n",
    "  return(info)\n",
    "}\n",
    "\n",
    "# Call extract_info() on logs, no additional arguments\n",
    "extract_info(logs) \n",
    "\n",
    "# Call extract_info() on logs, set include_all to FALSE\n",
    "extract_info(logs, include_all=FALSE)"
   ]
  },
  {
   "cell_type": "markdown",
   "metadata": {},
   "source": [
    "### Extract log information (5)\n",
    "\n",
    "Have another look at logs, that is still available in your workspace. Have you noticed that the details element of each log entry differs between logs indicating success and failure? For successes, it's a list with a message element. For failures, it's a list with two elements: message and location. We've printed out str(logs) for you below. See the differences in structures between a successful log and an unsuccessful log:\n",
    "\n",
    "`\n",
    " $ :List of 3\n",
    "  ..$ success  : logi TRUE\n",
    "  ..$ details  :List of 1\n",
    "  .. ..$ message: chr \"all good\"\n",
    "  ..$ timestamp: POSIXct[1:1], format: \"2015-09-18 13:45:27\"\n",
    " $ :List of 3\n",
    "  ..$ success  : logi FALSE\n",
    "  ..$ details  :List of 2\n",
    "  .. ..$ message : chr \"human error\"\n",
    "  .. ..$ location: chr \"waste\"\n",
    "  ..$ timestamp: POSIXct[1:1], format: \"2015-09-17 23:37:18\"`\n",
    "  \n",
    "At first sight, our function only allows the selection of log entry information on the first level, such as success and details. To get information that's deeper inside the log entries, such as message, we'll need another function, right? Nope, your function will work just fine. To select elements from embedded lists, you can use chained selection. The following code chunk uses chained selection to return the value 2:\n",
    "\n",
    "`x <- list(a = 1, b = list(r = 2, s = 3))\n",
    "x[[c(\"b\", \"r\")]]`\n",
    "\n",
    "Instructions\n",
    " - Use extract_info() to build a vector containing the message elements of all log entries, irrespective of whether they indicate a failure or not.\n",
    " - Use extract_info() to build a vector containing the location information for log entries indicating a failure. This means you have to set include_all = FALSE now!"
   ]
  },
  {
   "cell_type": "code",
   "execution_count": null,
   "metadata": {
    "collapsed": true
   },
   "outputs": [],
   "source": [
    "# logs is available in your workspace\n",
    "\n",
    "# Defition of the extract_info() function\n",
    "extract_info <- function(x, property = \"success\", include_all = TRUE) {\n",
    "  info <- c()\n",
    "  for (log in x) {\n",
    "    if (include_all || !log$success) {\n",
    "     info <- c(info, log[[property]])\n",
    "    }\n",
    "  }\n",
    "  return(info)\n",
    "}\n",
    "\n",
    "# Generate vector of messages\n",
    "extract_info(logs, property = c(\"details\", \"message\"))\n",
    "\n",
    "# Generate vector of locations for failed log entries\n",
    "extract_info(logs, property = c(\"details\", \"location\"), include_all = FALSE)"
   ]
  },
  {
   "cell_type": "markdown",
   "metadata": {},
   "source": [
    "### Over to you\n",
    "\n",
    "Now that you've played around with building up a function, making it more powerful step-by-step, you're ready to write your own function from the bottom with minimal help.\n",
    "\n",
    "As usual, logs, a list of lists, is available in your workspace to test your function.\n",
    "\n",
    "Instructions\n",
    " - Write a function, compute_fail_pct(), that takes a list of log entries that is formatted as the logs list and returns the percentage, i.e. a value between 0 and 100, of log entries that indicate a failure. If, for example, your list of logs has a length 50, and contains 5 failures, compute_fail_pct() should return 5/50∗100=105/50∗100=10\n",
    " - Call compute_fail_pct() on logs."
   ]
  },
  {
   "cell_type": "code",
   "execution_count": null,
   "metadata": {
    "collapsed": true
   },
   "outputs": [],
   "source": [
    "# logs is available in your workspace\n",
    "\n",
    "# Write the function compute_fail_pct\n",
    "compute_fail_pct = function(x){\n",
    "  count = 0\n",
    "  for(log in x){\n",
    "    if(!log$success){\n",
    "      count = count+1\n",
    "    }\n",
    "  }\n",
    "  return((count*100)/length(x))\n",
    "}\n",
    "\n",
    "\n",
    "# Call compute_fail_pct on logs\n",
    "compute_fail_pct(logs)"
   ]
  },
  {
   "cell_type": "markdown",
   "metadata": {},
   "source": [
    "# 4. The apply family"
   ]
  },
  {
   "cell_type": "markdown",
   "metadata": {},
   "source": [
    "lapply, sapply and vapply are all members of R's apply family: they provide a fast and intuitive alternative to the while and for loops you've learned about before. Become an apply pro with some more practice!"
   ]
  },
  {
   "cell_type": "markdown",
   "metadata": {},
   "source": [
    "### lapply refresher\n",
    "\n",
    "lapply() is the first and arguably the most commonly used function of R's apply family. lapply() is short for list apply. have a look at this example:\n",
    "\n",
    "`x <- list(\"R\", \"is\", \"awesome\")\n",
    "lapply(x, nchar)`\n",
    "\n",
    "This piece of code goes over each element in the list x, calls the nchar() function on it and returns a list with the number of characters in each list. In other words, nchar() is applied on each list element.\n",
    "\n",
    "Still remember the logs list? It was a list containing a bunch of log entries on measurements from a chemical plant. Have another look at its structure with str(head(logs)), for example. It is already available in your workspace, so you can refresh your memory of the apply functions straight away!\n",
    "\n",
    "Instructions\n",
    " - Use lapply() to call the length() function on each element of logs.\n",
    " - Use lapply() in combination with class() to get a list indicating the class of each log entry in logs."
   ]
  },
  {
   "cell_type": "code",
   "execution_count": null,
   "metadata": {
    "collapsed": true
   },
   "outputs": [],
   "source": [
    "# logs is available in your workspace\n",
    "\n",
    "# Call length() on each element of logs\n",
    "lapply(logs, length)\n",
    "\n",
    "# Call class() on each element of logs\n",
    "lapply(logs, class)"
   ]
  },
  {
   "cell_type": "markdown",
   "metadata": {},
   "source": [
    "### lapply on logs (1)\n",
    "\n",
    "Before you've worked with for loops to iterate through logs. This is fine, but it's pretty tedious to write, and for huge datasets, it can become slow. lapply() is a better alternative here.\n",
    "\n",
    "Remember the for loop to get the timestamp from each log entry? Well, you can do that with lapply with a single line. lapply() should go through each element of logs, so through each log entry, which is stored as a list itself.\n",
    "\n",
    "Instructions\n",
    " - Write a function get_timestamp() that has one argument, named x. get_timestamp() returns the timestamp element of the named list you pass it.\n",
    " - Use lapply() such that get_timestamp() is called on each element in logs, so on each log entry in logs."
   ]
  },
  {
   "cell_type": "code",
   "execution_count": null,
   "metadata": {
    "collapsed": true
   },
   "outputs": [],
   "source": [
    "# logs is available in your workspace\n",
    "\n",
    "# Define get_timestamp()\n",
    "get_timestamp <- function(x) {\n",
    "  return(x$timestamp)\n",
    "}\n",
    "\n",
    "# Apply get_timestamp() over all elements in logs\n",
    "lapply(logs, get_timestamp)"
   ]
  },
  {
   "cell_type": "markdown",
   "metadata": {},
   "source": [
    "### lapply on logs (2)\n",
    "\n",
    "Defining a new function simply to get an element from a list sounds like a lot of work. Do anonymous functions ring a bell here?\n",
    "\n",
    "Without having to give the function a name, you can simply put a function definition inside the FUN part of the lapply() function.\n",
    "\n",
    "Take this example, that returns two times the numbers in the list a:\n",
    "\n",
    "`a <- list(3, 2, 5)\n",
    "lapply(a, function(x) { 2 * x })`\n",
    "    \n",
    "The solution to the previous exercise is included on the right. As always, it's up to you to make the appropriate changes.\n",
    "\n",
    "Instructions\n",
    " - Convert the get_timestamp() function to an anonymous function that you plug into lapply() straight away.\n",
    " - Make sure to remove the original definition of get_timestamp(); you don't need it anymore!"
   ]
  },
  {
   "cell_type": "code",
   "execution_count": null,
   "metadata": {
    "collapsed": true
   },
   "outputs": [],
   "source": [
    "# logs is available in your workspace\n",
    "\n",
    "#get_timestamp <- function(x) {\n",
    "#  x$timestamp\n",
    "#}\n",
    "\n",
    "# Have lapply() use an anonymous function\n",
    "lapply(logs, function(x){x$timestamp})"
   ]
  },
  {
   "cell_type": "markdown",
   "metadata": {},
   "source": [
    "### lapply on logs (3)\n",
    "\n",
    "Actually, even using an anonymous function inside lapply is too much. The double square brackets to select an element from a list is also a function itself, as this example reveals:\n",
    "\n",
    "`x <- list(a = 1, b = 2, c = 3)`\n",
    "\n",
    "`x[[\"a\"]]`\n",
    "\n",
    " `[[`(x, \"a\")`      (See the code below in code cell)\n",
    "\n",
    "Copy and paste the code snippet above to the console so you gain a better understanding of what's going on. This means that you can assign `[[` to the FUN argument to lapply(), and add a third argument to lapply(), which will be passed as an argument to the `[[` function.\n",
    "\n",
    "Instructions\n",
    " - Instead of using an anonymous function, use `[[` to select the timestamp element from each log entry. The third argument of lapply() should specify which element you want to select from each sublist."
   ]
  },
  {
   "cell_type": "code",
   "execution_count": null,
   "metadata": {
    "collapsed": true
   },
   "outputs": [],
   "source": [
    "x <- list(a = 1, b = 2, c = 3)\n",
    "x[[\"a\"]]\n",
    "`[[`(x, \"a\")"
   ]
  },
  {
   "cell_type": "code",
   "execution_count": null,
   "metadata": {
    "collapsed": true
   },
   "outputs": [],
   "source": [
    "# logs is available in your workspace\n",
    "\n",
    "# Replace the anonymous function with `[[` \n",
    "lapply(logs,`[[`, \"timestamp\")"
   ]
  },
  {
   "cell_type": "markdown",
   "metadata": {},
   "source": [
    "### sapply refresher\n",
    "\n",
    "Remember sapply(), lapply()'s little brother? R offers this function because many of the operations you perform on lists, will generate a list containing all elements with the same type. These lists can just as well be represented by a vector. That's exactly what sapply() does. It performs an lapply(), and sees whether the result can be simplified to a vector.\n",
    "\n",
    "As usual, you'll be working on logs, a list of log entries.\n",
    "\n",
    "Instructions\n",
    " - Call length() on each element of logs using sapply(). Simply print out the result.\n",
    " - get_timestamp() has already been defined for you. Use sapply() to print out a vector with all the log entries' timestamps."
   ]
  },
  {
   "cell_type": "code",
   "execution_count": null,
   "metadata": {
    "collapsed": true
   },
   "outputs": [],
   "source": [
    "# logs is available in your workspace\n",
    "\n",
    "# Call length() on each element of logs using sapply()\n",
    "sapply(logs, length)\n",
    "\n",
    "# Definition of get_timestamp\n",
    "get_timestamp <- function(x) {\n",
    "  x$timestamp\n",
    "}\n",
    "\n",
    "# Get vector of log entries' timestamps\n",
    "sapply(logs, get_timestamp)"
   ]
  },
  {
   "cell_type": "markdown",
   "metadata": {},
   "source": [
    "### sapply on logs (1)\n",
    "\n",
    "With lapply(), you could use `[[` to select specific elements from your list. The same thing is true for sapply()!\n",
    "\n",
    "Instructions\n",
    " - Use sapply() to select the success element from each log and store the logical vector that results in a new variable results.\n",
    " - Call mean() on results to see the ratio of successes. This works because TRUE coerces to 1 and FALSE coerces to 0. Print out the result.\n",
    " - Again use sapply(), this time to select the details element from each log. Print out the result. Did simplification work?"
   ]
  },
  {
   "cell_type": "code",
   "execution_count": null,
   "metadata": {
    "collapsed": true
   },
   "outputs": [],
   "source": [
    "# logs is available in your workspace\n",
    "\n",
    "# Use sapply() to select the success element from each log: results\n",
    "results = sapply(logs, `[[`, \"success\")\n",
    "\n",
    "# Call mean() on results\n",
    "mean(results)\n",
    "\n",
    "# Use sapply() to select the details element from each log\n",
    "sapply(logs, `[[`, \"details\")"
   ]
  },
  {
   "cell_type": "markdown",
   "metadata": {},
   "source": [
    "### sapply on logs (2)\n",
    "\n",
    "In the previous exercise, you saw that in some cases, sapply() can simplify to a vector. In other cases, it can't, and you get the same result lapply() would have returned.\n",
    "\n",
    "Let's experiment some more with this by writing a rather advanced function to be used by sapply().\n",
    "\n",
    "We're still working with the logs data; try the following commands in the console if you want a refresher on the structure of the log entries:\n",
    "\n",
    "`str(logs[[1]])\n",
    "str(logs[[77]])`\n",
    "\n",
    "Instructions\n",
    " - Create a function get_failure_loc():\n",
    " - It takes a single argument x, whose format corresponds to a log entry from the logs list.\n",
    " - If the input x (which is a list) has a success element that equals TRUE, get_failure_loc() returns NULL.\n",
    " - If the input has a success element that equals FALSE, get_failure_loc() returns x$details$location.\n",
    " - Call get_failure_loc() on each element in logs using sapply(). Print the output to the console. Try to interpret the result."
   ]
  },
  {
   "cell_type": "code",
   "execution_count": null,
   "metadata": {
    "collapsed": true
   },
   "outputs": [],
   "source": [
    "# logs is available in your workspace\n",
    "\n",
    "# Implement function get_failure_loc\n",
    "get_failure_loc <- function(x) {\n",
    "  if (x$success==TRUE) {\n",
    "    return(NULL)\n",
    "  } else {\n",
    "    return(x$details$location)\n",
    "  }\n",
    "}\n",
    "\n",
    "# Use sapply() to call get_failure_loc on logs\n",
    "sapply(logs, get_failure_loc)"
   ]
  },
  {
   "cell_type": "markdown",
   "metadata": {},
   "source": [
    "### lapply or sapply?\n",
    "\n",
    "To lapply() or to sapply(), that is the question. But if you know that the result lapply() generates cannot be simplified to a vector, there's no reason to use sapply().\n",
    "\n",
    "In which of the following problems is using lapply() preferred over sapply()? logs is available in your workspace, should you want to experiment in the console.\n",
    "\n",
    "Possible Answers\n",
    "1. For each log entry in logs, get the message element, which is contained in the details element. This message element is always a character string.\n",
    "2. For each log entry in logs, get the details element, which is a list. (Correct)\n",
    "3. For each log entry in logs, get the success element."
   ]
  },
  {
   "cell_type": "markdown",
   "metadata": {},
   "source": [
    "### vapply refresher\n",
    "\n",
    "Recall that next to lapply() and sapply(), there's also vapply(). You can think of vapply() as the secure version of sapply(). Where sapply() tries to simplify the result, you have to explicitly mention what the outcome of the function you're applying will be with vapply().\n",
    "\n",
    "You do this with a third argument in vapply(), named FUN.VALUE:\n",
    "\n",
    "`vapply(X, FUN, FUN.VALUE)`\n",
    "\n",
    "FUN.VALUE must be a template for the output FUN generates. You can use functions such as integer(), numeric(), character() and logical() to do this.\n",
    "\n",
    "The sapply() calls that you've coded some exercises ago are available in the script on the right. Up to you to convert them to vapply() calls, by changing the function call and adding the FUN.VALUE argument.\n",
    "\n",
    "Instructions\n",
    " - Convert the sapply() call that gets the length for each log entry in logs. You can use integer(1) to specify FUN.VALUE.\n",
    " - Convert the sapply() function that gets the success element from each log entry. You can use logical(1) instead of integer(1) this time as the template."
   ]
  },
  {
   "cell_type": "code",
   "execution_count": null,
   "metadata": {
    "collapsed": true
   },
   "outputs": [],
   "source": [
    "# logs is available in your workspace\n",
    "\n",
    "# Convert the sapply call to vapply\n",
    "vapply(logs, length, FUN.VALUE = integer(1))\n",
    "\n",
    "# Convert the sapply call to vapply\n",
    "vapply(logs, `[[`, \"success\", FUN.VALUE = logical(1))"
   ]
  },
  {
   "cell_type": "markdown",
   "metadata": {},
   "source": [
    "### vapply on logs (1)\n",
    "\n",
    "Once you know about vapply(), there's really no reason to use sapply() anymore. If the output that lapply() would generate can be simplified to an array, you'll want to use vapply() to do this securely. If simplification is not possible, simply stick to lapply().\n",
    "\n",
    "Instructions\n",
    "  - Convert the sapply() call that selects the message element from the details list inside each log entry. It should use lapply() if simplification is not possible and vapply() if simplification is possible.\n",
    "  - Convert the sapply() call that selects the details element from each log entry, again using lapply() or vapply()."
   ]
  },
  {
   "cell_type": "code",
   "execution_count": null,
   "metadata": {
    "collapsed": true
   },
   "outputs": [],
   "source": [
    "# logs is available in your workspace\n",
    "\n",
    "# Convert the sapply() call to a vapply() or lapply() call\n",
    "sapply(logs, `[[`, c(\"details\", \"message\"))\n",
    "\n",
    "# Convert the sapply() call to a vapply() or lapply() call\n",
    "lapply(logs, function(x) { x$details })"
   ]
  },
  {
   "cell_type": "markdown",
   "metadata": {},
   "source": [
    "### Loop it the way you want it\n",
    "\n",
    "for, while, lapply(), sapply(), vapply()... that's quite a list. All of these can be used to loop through your very own data. Which one works best depends on the situation and your personal preference, but like most things, the functions of the apply() family are faster and easier to use with more practice.\n",
    "\n",
    "To finish this chapter in style, you'll solve this exercise with minimum guidance. You'll be working with the logs dataset one last time. Enjoy!\n",
    "\n",
    "Instructions\n",
    " - Create a vector that contains the message part of each log entry in logs in uppercase letters. In your solution, you might want to use the function toupper(). Simply print this vector to the console."
   ]
  },
  {
   "cell_type": "code",
   "execution_count": null,
   "metadata": {
    "collapsed": true
   },
   "outputs": [],
   "source": [
    "# logs is available in your workspace\n",
    "\n",
    "# Return vector with uppercase version of message elements in log entries\n",
    "toupper(sapply(logs, `[[`, c(\"details\", \"message\")))"
   ]
  },
  {
   "cell_type": "markdown",
   "metadata": {},
   "source": [
    "# 5. Utilities"
   ]
  },
  {
   "cell_type": "markdown",
   "metadata": {},
   "source": [
    "To finish off these supplementary exercises, you can exercise some more with often-used functions in R, regular expressions and manipulating dates and times."
   ]
  },
  {
   "cell_type": "markdown",
   "metadata": {},
   "source": [
    "### Titanic\n",
    "\n",
    "Let's step away from your data science job at the chemical plant and start analyzing a major event in modern history: the sinking of the Titanic.\n",
    "\n",
    "This terrible accident claimed the life of over 1500 people, making it one of the deadliest maritime disasters in times of peace.\n",
    "\n",
    "To gain some more context about this event, we've prepared data on the Titanic (Source: Kaggle). The code that imports the data in titanic.csv into an R object titanic has already been included. Let's start by exploring this titanic dataset.\n",
    "\n",
    "Instructions\n",
    " - Call dim() on titanic to figure out how many observations and variables there are.\n",
    " - Call hist() on the Age column of the titanic dataset to create a histogram displaying the age distribution of the passengers."
   ]
  },
  {
   "cell_type": "code",
   "execution_count": 2,
   "metadata": {
    "collapsed": false
   },
   "outputs": [
    {
     "data": {
      "text/html": [
       "<ol class=list-inline>\n",
       "\t<li>891</li>\n",
       "\t<li>12</li>\n",
       "</ol>\n"
      ],
      "text/latex": [
       "\\begin{enumerate*}\n",
       "\\item 891\n",
       "\\item 12\n",
       "\\end{enumerate*}\n"
      ],
      "text/markdown": [
       "1. 891\n",
       "2. 12\n",
       "\n",
       "\n"
      ],
      "text/plain": [
       "[1] 891  12"
      ]
     },
     "metadata": {},
     "output_type": "display_data"
    },
    {
     "data": {
      "image/png": "[encoded data removed]",
      "text/plain": [
       "Plot with title \"Histogram of titanic$Age\""
      ]
     },
     "metadata": {},
     "output_type": "display_data"
    }
   ],
   "source": [
    "# Import titanic from csv\n",
    "titanic <- read.csv(\"titanic.csv\")\n",
    "\n",
    "# Call dim on titanic\n",
    "dim(titanic)\n",
    "\n",
    "# Generate histogram of Age column\n",
    "hist(titanic$Age)"
   ]
  },
  {
   "cell_type": "markdown",
   "metadata": {},
   "source": [
    "### Observations and variables\n",
    "\n",
    "Which of the following statements about the titanic data frame is correct?\n",
    "\n",
    "Feel free to experiment with the dataset; it's available in your workspace.\n",
    "\n",
    "Possible Answers\n",
    " - titanic contains 891 observations and 12 variables; each observation represents a passenger. (Correct)\n",
    " - titanic contains 891 variables and 891 observations; each observation represents a passenger.\n",
    " - titanic contains 891 observations and 12 variables; each observation represents a family\n",
    " - titanic contains 891 variables and 891 observations; each observation represents a family."
   ]
  },
  {
   "cell_type": "markdown",
   "metadata": {},
   "source": [
    "### Exploratory queries\n",
    "\n",
    "Have another look at some useful math functions that R features:\n",
    "\n",
    " - abs(): calculate the absolute value.\n",
    " - sum(): calculate the sum of all the values in a data structure.\n",
    " - mean(): calculate the arithmetic mean.\n",
    " - round(): Round the values to 0 decimal places by default. Try out ?round in the console for variations of round() and ways to change the number of digits to round to.\n",
    "     \n",
    "Can you use the appropriate function to do some exploratory queries on the titanic data frame?\n",
    "\n",
    "Instructions\n",
    " - Print out the total of the Fare column; this is the total of fares paid by all passengers in the dataset.\n",
    " - Print out the proportion of passengers that survived."
   ]
  },
  {
   "cell_type": "code",
   "execution_count": 3,
   "metadata": {
    "collapsed": false
   },
   "outputs": [
    {
     "data": {
      "text/html": [
       "28693.9493"
      ],
      "text/latex": [
       "28693.9493"
      ],
      "text/markdown": [
       "28693.9493"
      ],
      "text/plain": [
       "[1] 28693.95"
      ]
     },
     "metadata": {},
     "output_type": "display_data"
    },
    {
     "data": {
      "text/html": [
       "0.383838383838384"
      ],
      "text/latex": [
       "0.383838383838384"
      ],
      "text/markdown": [
       "0.383838383838384"
      ],
      "text/plain": [
       "[1] 0.3838384"
      ]
     },
     "metadata": {},
     "output_type": "display_data"
    }
   ],
   "source": [
    "# titanic is available in your workspace\n",
    "\n",
    "# Print out total value of fares\n",
    "sum(titanic$Fare)\n",
    "\n",
    "# Print out proportion of passengers that survived\n",
    "mean(titanic$Survived)"
   ]
  },
  {
   "cell_type": "markdown",
   "metadata": {},
   "source": [
    "### Infer gender from name (1)\n",
    "\n",
    "In the console, have a look at the Name column of titanic, that contains the names of the passengers. The name of the first passenger in the dataset is Braund, Mr. Owen Harris. All these names have a common format. First, we have the family name, next there's the title, followed by the first and middle names.\n",
    "\n",
    "Because this layout is consistent throughout the Name column, we're able to infer the gender of the passenger: men have the title Mr., women have the title Mrs or Miss.\n",
    "\n",
    "Let's start by finding out which names contain the pattern \"\", Mr\\\\.\". Notice that we need \\\\. because we want to use it as an actual period, not as the wildcard character used in regular expressions.\n",
    "\n",
    "Instructions\n",
    " - Use grepl() with the pattern \", Mr\\\\.\" on the predefined pass_names vector. Store the resulting logical vector as is_man.\n",
    " - Sum up the logical values in is_man to figure out the number of men.\n",
    " - The last line that counts the number of men based on the Sex column in titanic is already included, so we can compare the results."
   ]
  },
  {
   "cell_type": "code",
   "execution_count": 4,
   "metadata": {
    "collapsed": false
   },
   "outputs": [
    {
     "data": {
      "text/html": [
       "517"
      ],
      "text/latex": [
       "517"
      ],
      "text/markdown": [
       "517"
      ],
      "text/plain": [
       "[1] 517"
      ]
     },
     "metadata": {},
     "output_type": "display_data"
    },
    {
     "data": {
      "text/html": [
       "577"
      ],
      "text/latex": [
       "577"
      ],
      "text/markdown": [
       "577"
      ],
      "text/plain": [
       "[1] 577"
      ]
     },
     "metadata": {},
     "output_type": "display_data"
    }
   ],
   "source": [
    "# Extract the name column from titanic\n",
    "pass_names <- titanic$Name\n",
    "\n",
    "# Create the logical vectror is_man\n",
    "is_man = grepl(\", Mr\\\\.\", titanic$Name)\n",
    "\n",
    "# Count the number of men\n",
    "sum(is_man)\n",
    "\n",
    "# Count number of men based on gender\n",
    "sum(titanic$Sex == \"male\")"
   ]
  },
  {
   "cell_type": "markdown",
   "metadata": {},
   "source": [
    "### Infer gender from name (2)\n",
    "\n",
    "In the previous exercise, it appeared that the title Mr. may not cover all men on board. Instead of manually going through all titles that appear in the Name column of titanic, we can write a clever gsub() command that extracts the title part.\n",
    "\n",
    "The pattern we'll need is the following:\n",
    "\n",
    "`\"^.*, (.*?)\\\\..*$\"`\n",
    "\n",
    "With ^ and $ we signify the start and end of the string. Next, we have two .* parts in there: wildcards for the last name and first names. With , (.*?)\\\\. we use a similar pattern as before, but the parentheses allow us to re-use whatever is matched inside the parentheses in our replacement.\n",
    "\n",
    "Instructions\n",
    " - Fill in the pattern into the gsub() call to create the titles vector. The \"\\\\1\" part tells R to replace the entire string with whatever is matched inside the parentheses.\n",
    " - Call unique() on titles to get an overview of all different titles that are found in the name vector. Simply print out the result."
   ]
  },
  {
   "cell_type": "code",
   "execution_count": 5,
   "metadata": {
    "collapsed": false
   },
   "outputs": [
    {
     "data": {
      "text/html": [
       "<ol class=list-inline>\n",
       "\t<li>'Mr'</li>\n",
       "\t<li>'Mrs'</li>\n",
       "\t<li>'Miss'</li>\n",
       "\t<li>'Master'</li>\n",
       "\t<li>'Don'</li>\n",
       "\t<li>'Rev'</li>\n",
       "\t<li>'Dr'</li>\n",
       "\t<li>'Mme'</li>\n",
       "\t<li>'Ms'</li>\n",
       "\t<li>'Major'</li>\n",
       "\t<li>'Lady'</li>\n",
       "\t<li>'Sir'</li>\n",
       "\t<li>'Mlle'</li>\n",
       "\t<li>'Col'</li>\n",
       "\t<li>'Capt'</li>\n",
       "\t<li>'the Countess'</li>\n",
       "\t<li>'Jonkheer'</li>\n",
       "</ol>\n"
      ],
      "text/latex": [
       "\\begin{enumerate*}\n",
       "\\item 'Mr'\n",
       "\\item 'Mrs'\n",
       "\\item 'Miss'\n",
       "\\item 'Master'\n",
       "\\item 'Don'\n",
       "\\item 'Rev'\n",
       "\\item 'Dr'\n",
       "\\item 'Mme'\n",
       "\\item 'Ms'\n",
       "\\item 'Major'\n",
       "\\item 'Lady'\n",
       "\\item 'Sir'\n",
       "\\item 'Mlle'\n",
       "\\item 'Col'\n",
       "\\item 'Capt'\n",
       "\\item 'the Countess'\n",
       "\\item 'Jonkheer'\n",
       "\\end{enumerate*}\n"
      ],
      "text/markdown": [
       "1. 'Mr'\n",
       "2. 'Mrs'\n",
       "3. 'Miss'\n",
       "4. 'Master'\n",
       "5. 'Don'\n",
       "6. 'Rev'\n",
       "7. 'Dr'\n",
       "8. 'Mme'\n",
       "9. 'Ms'\n",
       "10. 'Major'\n",
       "11. 'Lady'\n",
       "12. 'Sir'\n",
       "13. 'Mlle'\n",
       "14. 'Col'\n",
       "15. 'Capt'\n",
       "16. 'the Countess'\n",
       "17. 'Jonkheer'\n",
       "\n",
       "\n"
      ],
      "text/plain": [
       " [1] \"Mr\"           \"Mrs\"          \"Miss\"         \"Master\"       \"Don\"         \n",
       " [6] \"Rev\"          \"Dr\"           \"Mme\"          \"Ms\"           \"Major\"       \n",
       "[11] \"Lady\"         \"Sir\"          \"Mlle\"         \"Col\"          \"Capt\"        \n",
       "[16] \"the Countess\" \"Jonkheer\"    "
      ]
     },
     "metadata": {},
     "output_type": "display_data"
    }
   ],
   "source": [
    "# Extract the name column from titanic\n",
    "pass_names <- titanic$Name\n",
    "\n",
    "# Create titles\n",
    "titles <- gsub(\"^.*, (.*?)\\\\..*$\", \"\\\\1\", pass_names)\n",
    "\n",
    "# Call unique() on titles\n",
    "unique(titles)"
   ]
  },
  {
   "cell_type": "markdown",
   "metadata": {},
   "source": [
    "### Infer gender from name (3)\n",
    "\n",
    "After a close look at the different titles that appeared in the previous exercise, we made a selection of titles that can be linked to male passengers. Patterns for these titles are in the titles vector on the right.\n",
    "\n",
    "To figure out which passenger has which title, we can create a matrix. In this matrix, each passenger is a row, and each column represents a title. If a certain matrix element is TRUE, this means that the passenger has the title. This also means that every row can only contain one TRUE, the rest being FALSE, because titles are mutually exclusive. That is, nobody is titled both Mr. and Major, for instance. To end up with this matrix, we could use the following for loop:\n",
    "\n",
    "`res <- matrix(nrow = length(pass_names),\n",
    "              ncol = length(titles))`\n",
    "\n",
    "`for (i in seq_along(titles)) {\n",
    "  res[, i] <- grepl(titles[i], pass_names)\n",
    "}`\n",
    "    \n",
    "There's a way more concise way to do this, however. Remember the vapply() function from the third chapter? You can use it to call grepl() over all titles in the titles vector, with pass_names as an additional argument. If you do this properly, you'll end up with the exact same matrix described above. Simply taking the sum of this matrix should give us the total number of hits for each title, and thus the total count of males inferred from their respective titles.\n",
    "\n",
    "Instructions\n",
    " - Carefully reread the last paragraph in the assignment text above. Finish the vapply() call accordingly to calculate the hits matrix.\n",
    " - Call sum() on hits to print out the total number of elements in hits that are TRUE (Remember? TRUE coerces to 1).\n",
    " - The code that counts the number of males based on Sex is already included, so you can compare."
   ]
  },
  {
   "cell_type": "code",
   "execution_count": 6,
   "metadata": {
    "collapsed": false
   },
   "outputs": [
    {
     "data": {
      "text/html": [
       "578"
      ],
      "text/latex": [
       "578"
      ],
      "text/markdown": [
       "578"
      ],
      "text/plain": [
       "[1] 578"
      ]
     },
     "metadata": {},
     "output_type": "display_data"
    },
    {
     "data": {
      "text/html": [
       "577"
      ],
      "text/latex": [
       "577"
      ],
      "text/markdown": [
       "577"
      ],
      "text/plain": [
       "[1] 577"
      ]
     },
     "metadata": {},
     "output_type": "display_data"
    }
   ],
   "source": [
    "pass_names <- titanic$Name\n",
    "titles <- paste(\",\", c(\"Mr\\\\.\", \"Master\", \"Don\", \"Rev\", \"Dr\\\\.\", \"Major\", \"Sir\", \"Col\", \"Capt\", \"Jonkheer\"))\n",
    "\n",
    "# Finish the vapply() command\n",
    "hits <- vapply(titles,\n",
    "               FUN = grepl,\n",
    "               FUN.VALUE = logical(length(pass_names)),\n",
    "               pass_names)\n",
    "\n",
    "# Calculate the sum() of hits\n",
    "sum(hits)\n",
    "\n",
    "# Count number of men based on gender\n",
    "sum(titanic$Sex == \"male\")"
   ]
  },
  {
   "cell_type": "markdown",
   "metadata": {},
   "source": [
    "### Reformat passenger names\n",
    "\n",
    "Now that you had some practice on regular expressions, let's try to clean up the names.\n",
    "\n",
    "The pass_names vector that you worked with before is already preloaded. For men, the overall format is like before. For women, however, there is only a female title, but then the name of her spouse. The first two elements in name show this:\n",
    "\n",
    "`> pass_names[1:2]\n",
    "[1] \"Braund, Mr. Owen Harris\"\n",
    "[2] \"Cumings, Mrs. John Bradley (Florence Briggs Thayer)\"\n",
    "Suppose we want to change men's names to a modern format, without a title, and change the women's names to only include their own name, like this:`\n",
    "\n",
    "`> clean_pass_names[1:2]\n",
    "[1] \"Owen Harris\"\n",
    "[2] \"Florence Briggs Thayer\"`\n",
    "\n",
    "To make this conversion, we've started a function convert_name() that converts the name depending on the case (male or female). The first gsub() function uses \\\\1 as the replacement argument. This is a reference to the matched characters that are captured inside the parentheses of the pattern. To see how it works, try the following example in the console:\n",
    "    \n",
    "\n",
    "`gsub(\"(a|b|c)\", \"_\\\\1_\", \"all cool brother\")` \n",
    "    \n",
    "Once you finish this function, you can use it inside vapply() to apply it to all elements in the pass_names vector.\n",
    "\n",
    "Instructions\n",
    " - `Finish the second gsub() function inside convert_name(); replace the ___ parts with \\\\1 or \\\\2 to referencing the matched characters contained in the first and second set of parentheses in the pattern.`\n",
    " - Complete the vapply() call so that it applies the convert_name function to each element in pass_names.\n",
    " - Finally, print out clean_pass_names to check if the result makes sense."
   ]
  },
  {
   "cell_type": "code",
   "execution_count": null,
   "metadata": {
    "collapsed": true
   },
   "outputs": [],
   "source": [
    "# pass_names is available in your workspace\n",
    "\n",
    "convert_name <- function(name) {\n",
    "  # women: take name from inside parentheses\n",
    "  if (grepl(\"\\\\(.*?\\\\)\", name)) {\n",
    "    gsub(\"^.*?\\\\((.*?)\\\\)$\", \"\\\\1\", name)\n",
    "  # men: take name before comma and after title\n",
    "  } else {\n",
    "    # Finish the gsub() function\n",
    "    gsub(\"^(.*?),\\\\s[a-zA-Z\\\\.]*?\\\\s(.*?)$\", \"\\\\2 \\\\1\", name)\n",
    "  }\n",
    "}\n",
    "\n",
    "# Call convert_name on name\n",
    "clean_pass_names <- vapply(pass_names, FUN = convert_name,\n",
    "                           FUN.VALUE = character(1), USE.NAMES = FALSE)\n",
    "\n",
    "# Print out clean_pass_names\n",
    "clean_pass_names"
   ]
  },
  {
   "cell_type": "markdown",
   "metadata": {},
   "source": [
    "### Choose the pattern\n",
    "\n",
    "Regular expression are extremely useful, but it is sometimes hard to figure out which pattern you should use for a certain problem.\n",
    "\n",
    "The only way to get better at writing them is practice!\n",
    "\n",
    "Suppose you want to see if a string x contains 3 or more digits in a row. Which grepl() call do you need?\n",
    "\n",
    "You can check out the documentation on regular expressions in R by typing ?regex in the console. Online tools exist to experiment with regular expressions for different programming language. https://regex101.com, for example, has a very clear interface that shows which parts in your regular expressions match with which elements in the string you're trying to match. Make sure to check it out some day!\n",
    "\n",
    "Possible Answers\n",
    " - grepl(\"\\\\d\", x)\n",
    " - grepl(\"\\\\d+\", x)\n",
    " - grepl(\"\\\\d{3}\", x)\n",
    " - grepl(\"\\\\d{3,}\", x) (Correct)"
   ]
  },
  {
   "cell_type": "markdown",
   "metadata": {},
   "source": [
    "### Add birth dates\n",
    "\n",
    "Another look at the structure of the titanic data frame (preloaded) reminds us that it contains a column named Age, that contains the age of the passengers when the Titanic disaster took place.\n",
    "\n",
    "To get more details on people's age, you decided to look up the actual dates of birth of all passengers that are in your dataset. After a lot of digging around, you end up with two character vectors: dob1 and dob2. The first vector corresponds to the first 400 observations in your dataset, the second vector corresponds to the remaning observations.\n",
    "\n",
    "You can convert these character vectors into Date vectors with as.Date(), but there's a problem: not all the dates may be in the standard format, so you might have to specify the format argument manually... To refresh your memory on this, have a look at the documentation:\n",
    "\n",
    "`?strptime`\n",
    "\n",
    "Instructions\n",
    " - Have a look at the head() of both dob1 and dob2.\n",
    " - Convert dob1 to a Date vector, named dob1d. Do you have to specify the format argument?\n",
    " - Convert dob2 to a Date vector, named dob2d. Do you have to specify the format argument?\n",
    " - Paste dob1d and dob2d together in a single Date vector birth_dates. You can use c() or append() for this."
   ]
  },
  {
   "cell_type": "code",
   "execution_count": null,
   "metadata": {
    "collapsed": true
   },
   "outputs": [],
   "source": [
    "# titanic, dob1 and dob2 are preloaded\n",
    "\n",
    "# Have a look at head() of dob1 and dob2\n",
    "head(dob1)\n",
    "head(dob2)\n",
    "\n",
    "\n",
    "# Convert dob1 to dob1d, convert dob2 to dob2d\n",
    "dob1d = as.Date(dob1)\n",
    "dob2d = as.Date(dob2, format = \"%B %d, %Y\" )\n",
    "\n",
    "# Combine dob1d and dob2d into single vector: birth_dates\n",
    "birth_dates = c(dob1d, dob2d)"
   ]
  },
  {
   "cell_type": "markdown",
   "metadata": {},
   "source": [
    "### Average age\n",
    "\n",
    "Now that you have an actual Date vector with the birth dates of most passengers - some dates are missing - you can go ahead and add this information to the titanic data frame you started with.\n",
    "\n",
    "Instructions\n",
    " - Add birth_dates to titanic as a new column named Birth.\n",
    " - Finish the subset() call to create survivors, containing all observations that survived. That is, where Survived equals 1.\n",
    " - Use the Birth column and disaster_date to calculate the average age of survivors at the day of the disaster. Simply print out the result. If you're using math functions like sum() or mean(), make sure to set na.rm = TRUE to ignore missing values!"
   ]
  },
  {
   "cell_type": "code",
   "execution_count": null,
   "metadata": {
    "collapsed": true
   },
   "outputs": [],
   "source": [
    "# titanic, dob1 and dob2 are preloaded\n",
    "dob1d <- as.Date(dob1)\n",
    "dob2d <- as.Date(dob2, format = \"%B %d, %Y\")\n",
    "birth_dates <- c(dob1d, dob2d)\n",
    "disaster_date <- as.Date(\"1912-04-15\")\n",
    "\n",
    "# Add birth_dates to titanic (column Birth)\n",
    "titanic$Birth = birth_dates\n",
    "\n",
    "# Create subset: survivors\n",
    "survivors <- subset(titanic, Survived == 1)\n",
    "\n",
    "# Calculate average age of survivors\n",
    "mean(disaster_date - survivors$Birth, na.rm=TRUE)"
   ]
  },
  {
   "cell_type": "markdown",
   "metadata": {},
   "source": [
    "### Age in perspective\n",
    "\n",
    "How old was the youngest survivor when Apollo 11 landed on the moon on July 20, 1969?\n",
    "\n",
    "The titanic dataset, with the additional Birth column, is available in your workspace so you can experiment with it in the console. Also survivors, a subset of titanic containing only the passengers that survived, is preloaded.\n",
    "\n",
    "Possible Answers\n",
    " - 26835 days, or around 73 years old.\n",
    " - 21836 days, or around 60 years old.\n",
    " - 21285 days, or around 58 years old. (Correct)\n",
    " - 50217 days, or around 137 years old."
   ]
  },
  {
   "cell_type": "markdown",
   "metadata": {},
   "source": [
    "# Thank You"
   ]
  },
  {
   "cell_type": "code",
   "execution_count": null,
   "metadata": {
    "collapsed": true
   },
   "outputs": [],
   "source": []
  }
 ],
 "metadata": {
  "anaconda-cloud": {},
  "kernelspec": {
   "display_name": "R",
   "language": "R",
   "name": "ir"
  },
  "language_info": {
   "codemirror_mode": "r",
   "file_extension": ".r",
   "mimetype": "text/x-r-source",
   "name": "R",
   "pygments_lexer": "r",
   "version": "3.3.2"
  }
 },
 "nbformat": 4,
 "nbformat_minor": 1
}
