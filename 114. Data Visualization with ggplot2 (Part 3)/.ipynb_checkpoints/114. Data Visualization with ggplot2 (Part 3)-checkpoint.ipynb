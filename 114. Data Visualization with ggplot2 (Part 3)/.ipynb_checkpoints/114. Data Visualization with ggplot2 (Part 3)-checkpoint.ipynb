{
 "cells": [
  {
   "cell_type": "markdown",
   "metadata": {},
   "source": [
    "### Course Description\n",
    "\n",
    "In this third ggplot2 course, we'll dive into some advanced topics including geoms commonly used in maths and sciences, strategies for handling large data sets, a variety of specialty plots, and some useful features of ggplot2 internals."
   ]
  },
  {
   "cell_type": "code",
   "execution_count": 6,
   "metadata": {},
   "outputs": [
    {
     "name": "stderr",
     "output_type": "stream",
     "text": [
      "Installing package into 'C:/Users/Lenovo/Documents/R/win-library/3.3'\n",
      "(as 'lib' is unspecified)\n",
      "also installing the dependencies 'RgoogleMaps', 'geosphere'\n",
      "\n"
     ]
    },
    {
     "name": "stdout",
     "output_type": "stream",
     "text": [
      "package 'RgoogleMaps' successfully unpacked and MD5 sums checked\n",
      "package 'geosphere' successfully unpacked and MD5 sums checked\n",
      "package 'ggmap' successfully unpacked and MD5 sums checked\n",
      "\n",
      "The downloaded binary packages are in\n",
      "\tC:\\Users\\Lenovo\\AppData\\Local\\Temp\\RtmpyoYVX9\\downloaded_packages\n"
     ]
    }
   ],
   "source": [
    "#install.packages('ggplot2movies', repos='http://cran.us.r-project.org')\n",
    "#install.packages('Hmisc', repos='http://cran.us.r-project.org')\n",
    "#install.packages('geomnet', repos='http://cran.us.r-project.org')\n",
    "install.packages('ggmap', repos='http://cran.us.r-project.org')"
   ]
  },
  {
   "cell_type": "code",
   "execution_count": 1,
   "metadata": {},
   "outputs": [
    {
     "ename": "ERROR",
     "evalue": "Error in library(geomnet): there is no package called 'geomnet'\n",
     "output_type": "error",
     "traceback": [
      "Error in library(geomnet): there is no package called 'geomnet'\nTraceback:\n",
      "1. library(geomnet)",
      "2. stop(txt, domain = NA)"
     ]
    }
   ],
   "source": [
    "library(geomnet)\n",
    "library(ggmap)"
   ]
  },
  {
   "cell_type": "code",
   "execution_count": 3,
   "metadata": {},
   "outputs": [],
   "source": [
    "#install.packages('ggplot2movies', repos='http://cran.us.r-project.org')\n",
    "library(ggplot2)\n",
    "library(dplyr)\n",
    "library(tidyr)\n",
    "library(RColorBrewer) #this would be required for myColors <- c(brewer.pal(3, \"Dark2\"), \"black\")\n",
    "library(lattice) # for barley dataset\n",
    "library(reshape2) #for using the melt function (similar to gather from tidyr)\n",
    "library(car) #for Vocab dataset\n",
    "library(Hmisc)"
   ]
  },
  {
   "cell_type": "markdown",
   "metadata": {},
   "source": [
    "# 1. Statistical plots"
   ]
  },
  {
   "cell_type": "markdown",
   "metadata": {},
   "source": [
    "Actually, all the plots you've explored in the first two ggplot2 courses can be considered 'statistical plots'. Here, however, you'll consider those that are intended for a specialist audience that is familiar with the data: **box plots and density plots.**"
   ]
  },
  {
   "cell_type": "markdown",
   "metadata": {},
   "source": [
    "## Introduction - Video"
   ]
  },
  {
   "cell_type": "code",
   "execution_count": null,
   "metadata": {
    "collapsed": true
   },
   "outputs": [],
   "source": [
    "Aesthetics review\n",
    "50xp\n",
    "\n",
    "We presented many aesthetics in the previous courses. Which of the following is not a real aesthetic?\n",
    "Possible Answers\n",
    "\n",
    "    ymax\n",
    "    group\n",
    "    xend\n",
    "    sd (Correct)\n",
    "    size\n",
    "\n",
    "    Take Hint (-15xp)"
   ]
  },
  {
   "cell_type": "markdown",
   "metadata": {},
   "source": [
    "### Refresher (1)\n",
    "100xp\n",
    "\n",
    "As a refresher to statistical plots, let's build a scatter plot with an additional statistic layer.\n",
    "\n",
    "A dataset called movies_small is coded in your workspace. It is a random sample of 1000 observations from the larger movies dataset, that's inside the ggplot2movies package. The dataset contains information on movies from IMDB. The variable votes is the number of IMDB users who have rated a movie and the rating (converted into a categorical variable) is the average rating for the movie.\n",
    "Instructions\n",
    "\n",
    "    Use str() to explore the structure of the dataset movies_small, that is available in your workspace.\n",
    "    Create a scatter plot with a statistics layer on top:\n",
    "    Use geom_point() to make a scatter plot, mapping votes onto the y, and rating onto the x aesthetics.\n",
    "    Add a stat_summary() layer that depicts the mean and the 95% CI. Use a \"crossbar\" geom, a width of 0.2 and a red col.\n",
    "    Add scale_y_log10() to transform the y scale.\n"
   ]
  },
  {
   "cell_type": "code",
   "execution_count": 3,
   "metadata": {
    "collapsed": true
   },
   "outputs": [],
   "source": [
    "library(ggplot2movies)"
   ]
  },
  {
   "cell_type": "code",
   "execution_count": 11,
   "metadata": {},
   "outputs": [
    {
     "name": "stdout",
     "output_type": "stream",
     "text": [
      "Classes 'tbl_df', 'tbl' and 'data.frame':\t1000 obs. of  24 variables:\n",
      " $ title      : chr  \"Fair and Worm-er\" \"Shelf Life\" \"House: After Five Years of Living\" \"Three Long Years\" ...\n",
      " $ year       : int  1946 2000 1955 2003 1963 1992 1999 1972 1994 1985 ...\n",
      " $ length     : int  7 4 11 76 103 107 87 84 127 94 ...\n",
      " $ budget     : int  NA NA NA NA NA NA NA NA NA NA ...\n",
      " $ rating     : Factor w/ 10 levels \"1\",\"2\",\"3\",\"4\",..: 7 7 6 8 8 5 4 8 5 5 ...\n",
      " $ votes      : int  16 11 15 11 103 28 105 9 37 28 ...\n",
      " $ r1         : num  0 0 14.5 4.5 4.5 4.5 14.5 0 4.5 4.5 ...\n",
      " $ r2         : num  0 0 0 0 4.5 0 4.5 0 4.5 0 ...\n",
      " $ r3         : num  0 0 4.5 4.5 0 4.5 4.5 0 14.5 4.5 ...\n",
      " $ r4         : num  0 0 4.5 0 4.5 4.5 4.5 0 4.5 14.5 ...\n",
      " $ r5         : num  4.5 4.5 0 0 4.5 0 4.5 14.5 24.5 4.5 ...\n",
      " $ r6         : num  4.5 24.5 34.5 4.5 4.5 0 14.5 0 4.5 14.5 ...\n",
      " $ r7         : num  64.5 4.5 24.5 0 14.5 4.5 14.5 14.5 14.5 14.5 ...\n",
      " $ r8         : num  14.5 24.5 4.5 4.5 14.5 24.5 14.5 24.5 14.5 14.5 ...\n",
      " $ r9         : num  0 0 0 14.5 14.5 24.5 14.5 14.5 4.5 4.5 ...\n",
      " $ r10        : num  14.5 24.5 14.5 44.5 44.5 24.5 14.5 44.5 4.5 24.5 ...\n",
      " $ mpaa       : chr  \"\" \"\" \"\" \"\" ...\n",
      " $ Action     : int  0 0 0 0 0 0 0 0 0 0 ...\n",
      " $ Animation  : int  1 0 0 0 0 0 0 0 0 0 ...\n",
      " $ Comedy     : int  1 0 0 1 0 1 1 1 0 0 ...\n",
      " $ Drama      : int  0 0 0 0 1 0 0 0 1 1 ...\n",
      " $ Documentary: int  0 0 1 0 0 0 0 0 0 0 ...\n",
      " $ Romance    : int  0 0 0 0 0 0 1 0 0 0 ...\n",
      " $ Short      : int  1 1 1 0 0 0 0 0 0 0 ...\n"
     ]
    },
    {
     "data": {},
     "metadata": {},
     "output_type": "display_data"
    },
    {
     "data": {
      "image/png": "[encoded data removed]",
      "text/plain": [
       "plot without title"
      ]
     },
     "metadata": {},
     "output_type": "display_data"
    }
   ],
   "source": [
    "# Create movies_small\n",
    "library(ggplot2movies)\n",
    "set.seed(123)\n",
    "movies_small <- movies[sample(nrow(movies), 1000), ]\n",
    "movies_small$rating <- factor(round(movies_small$rating))\n",
    "\n",
    "# Explore movies_small with str()\n",
    "str(movies_small)\n",
    "\n",
    "# Build a scatter plot with mean and 95% CI\n",
    "ggplot(movies_small, aes(x = rating, y = votes)) +\n",
    "  geom_point() +\n",
    "  stat_summary(fun.data = \"mean_cl_normal\",\n",
    "               geom = \"crossbar\",\n",
    "               width = 0.2,\n",
    "               col = \"red\") +\n",
    "  scale_y_log10()"
   ]
  },
  {
   "cell_type": "markdown",
   "metadata": {},
   "source": [
    "### Refresher (2)\n",
    "\n",
    "The plot in the graphics device is a variation on an oft-seen ggplot2 example using the diamonds dataset (containing information on several variables of over 50,000 diamonds).\n",
    "\n",
    "Recall that there are a variety of scale_ functions. Here, data are transformed or filtered first, after which the plot and associated statistics are computed. For example, scale_y_continuous(limits = c(100, 1000) will remove values outside that range.\n",
    "\n",
    "Contrast this to coord_cartesian(), which computes the statistics before plotting. That means that the plot and summary statistics are performed on the raw data. That's why we say that coord_cartesian(c(100, 1000)) \"zooms in\" a plot. This was discussed in the chapter on coordinates in course 2.\n",
    "\n",
    "Here we're going to expand on this and introduce scale_x_log10() and scale_y_log10() which perform log10 transformations, and coord_equal(), which sets an aspect ratio of 1 (coord_fixed() is also an option).\n",
    "\n",
    "Your task is to reproduce the plot in the viewer. Before you do this, it might be a good idea to explore diamonds in the console if you are not familiar with it.\n",
    "Instructions\n",
    "\n",
    "  -  We are using three variables from the diamonds data set: carat, price, and color. Map them to the appropriate aesthetics as per the plot in the viewer.\n",
    "  -  Add a geom_point() layer to make a scatter plot. Set the attributes alpha = 0.5, size = 0.5, shape = 16.\n",
    "  -  Transform both axes to log10 scales using the aforementioned scale functions. The limits are, for x: c(0.1,10), for y: c(100,100000). To get nice formatting we're using the expression() function for the labels. Use expression(log[10](Carat)) for the x axis and expression(log[10](Price)) for the y axis.\n",
    "  -  Use a coord_equal() function with no arguments, which will set the aspect ratio to 1.\n"
   ]
  },
  {
   "cell_type": "code",
   "execution_count": 12,
   "metadata": {},
   "outputs": [
    {
     "data": {},
     "metadata": {},
     "output_type": "display_data"
    },
    {
     "data": {
      "image/png": "[encoded data removed]",
      "text/plain": [
       "plot without title"
      ]
     },
     "metadata": {},
     "output_type": "display_data"
    }
   ],
   "source": [
    "# Reproduce the plot\n",
    "ggplot(diamonds, aes(x = carat, y = price, col = color)) +\n",
    "  geom_point(alpha = 0.5, size = 0.5, shape = 16) +\n",
    "  scale_x_log10(expression(log[10](Carat)), limits = c(0.1,10)) +\n",
    "  scale_y_log10(expression(log[10](Price)), limits = c(100,100000)) +\n",
    "  scale_color_brewer(palette = \"YlOrRd\") +\n",
    "  coord_equal() +\n",
    "  theme_classic()\n",
    "  "
   ]
  },
  {
   "cell_type": "markdown",
   "metadata": {},
   "source": [
    "This is a nice way of transforming data and then plotting it in one command. "
   ]
  },
  {
   "cell_type": "markdown",
   "metadata": {},
   "source": [
    "### Refresher (3)\n",
    "\n",
    "The goal plot from the previous exercise is coded in your editor. Here you'll expand on this plot with stat_smooth() model instead of showing every data point.\n",
    "Instructions\n",
    "\n",
    "   - Remove the geom_point() layer.\n",
    "   - Add a stat_smooth() layer and calculate an \"lm\" method (this will automatically happen for each level in the color variable).\n"
   ]
  },
  {
   "cell_type": "code",
   "execution_count": 13,
   "metadata": {},
   "outputs": [
    {
     "data": {},
     "metadata": {},
     "output_type": "display_data"
    },
    {
     "data": {
      "image/png": "[encoded data removed]",
      "text/plain": [
       "plot without title"
      ]
     },
     "metadata": {},
     "output_type": "display_data"
    }
   ],
   "source": [
    "# Add smooth layer and facet the plot\n",
    "ggplot(diamonds, aes(x = carat, y = price, col = color)) +\n",
    "  stat_smooth(method=\"lm\") +\n",
    "  scale_x_log10(expression(log[10](Carat)), limits = c(0.1,10)) +\n",
    "  scale_y_log10(expression(log[10](Price)), limits = c(100,100000)) +\n",
    "  scale_color_brewer(palette = \"YlOrRd\") +\n",
    "  coord_equal() +\n",
    "  theme_classic()"
   ]
  },
  {
   "cell_type": "code",
   "execution_count": 14,
   "metadata": {},
   "outputs": [
    {
     "data": {},
     "metadata": {},
     "output_type": "display_data"
    },
    {
     "data": {
      "image/png": "[encoded data removed]",
      "text/plain": [
       "plot without title"
      ]
     },
     "metadata": {},
     "output_type": "display_data"
    }
   ],
   "source": [
    "# Add smooth layer and facet the plot\n",
    "ggplot(diamonds, aes(x = carat, y = price, col = color)) +\n",
    "  geom_smooth(method=\"lm\") +\n",
    "  scale_x_log10(expression(log[10](Carat)), limits = c(0.1,10)) +\n",
    "  scale_y_log10(expression(log[10](Price)), limits = c(100,100000)) +\n",
    "  scale_color_brewer(palette = \"YlOrRd\") +\n",
    "  coord_equal() +\n",
    "  theme_classic()"
   ]
  },
  {
   "cell_type": "markdown",
   "metadata": {},
   "source": [
    "## Box Plots - Video"
   ]
  },
  {
   "cell_type": "markdown",
   "metadata": {},
   "source": [
    "### Transformations\n",
    "100xp\n",
    "\n",
    "In this exercise you'll return to the first plotting exercise and see how box plots compare to dot plots for representing high-density data.\n",
    "\n",
    "Box plots are very useful, but they don't solve all your problems all the time, for example, when your data are heavily skewed, you will still need to transform it. You'll see that here, using the movies_small dataset, a subset of 10,000 observations of ggplot2movies::movies.\n",
    "Instructions\n",
    "\n",
    "   - Update the plotting object d by inserting a geom_boxplot() layer.\n",
    "   - Make 3 plots:\n",
    "   - d - the original plot without any transformations.\n",
    "   - d + scale_y_log10() - the transformation happens before calculating the statistics.\n",
    "   - d + coord_trans(y = \"log10\") - the transformation happens after calculating the statistics.\n"
   ]
  },
  {
   "cell_type": "code",
   "execution_count": 15,
   "metadata": {},
   "outputs": [
    {
     "data": {},
     "metadata": {},
     "output_type": "display_data"
    },
    {
     "data": {},
     "metadata": {},
     "output_type": "display_data"
    },
    {
     "data": {
      "image/png": "[encoded data removed]",
      "text/plain": [
       "plot without title"
      ]
     },
     "metadata": {},
     "output_type": "display_data"
    },
    {
     "name": "stderr",
     "output_type": "stream",
     "text": [
      "Warning message in trans$transform(out$range):\n",
      "\"NaNs produced\""
     ]
    },
    {
     "data": {},
     "metadata": {},
     "output_type": "display_data"
    },
    {
     "data": {
      "image/png": "[encoded data removed]",
      "text/plain": [
       "plot without title"
      ]
     },
     "metadata": {},
     "output_type": "display_data"
    },
    {
     "data": {
      "image/png": "[encoded data removed]",
      "text/plain": [
       "plot without title"
      ]
     },
     "metadata": {},
     "output_type": "display_data"
    }
   ],
   "source": [
    "# movies_small is available\n",
    "\n",
    "# Add a boxplot geom\n",
    "d <- ggplot(movies_small, aes(x = rating, y = votes)) +\n",
    "  geom_point() +\n",
    "  geom_boxplot() +\n",
    "  stat_summary(fun.data = \"mean_cl_normal\",\n",
    "               geom = \"crossbar\",\n",
    "               width = 0.2,\n",
    "               col = \"red\")\n",
    "\n",
    "# Untransformed plot\n",
    "d\n",
    "\n",
    "# Transform the scale\n",
    "d + scale_y_log10()\n",
    "\n",
    "# Transform the coordinates\n",
    "d + coord_trans(y = \"log10\")"
   ]
  },
  {
   "cell_type": "markdown",
   "metadata": {},
   "source": [
    "#3rd Plot is not getting plotted"
   ]
  },
  {
   "cell_type": "code",
   "execution_count": null,
   "metadata": {
    "collapsed": true
   },
   "outputs": [],
   "source": [
    "Notice how different the normal distribution estimation (red boxes) and boxplots (less prone to outliers) are. "
   ]
  },
  {
   "cell_type": "markdown",
   "metadata": {},
   "source": [
    "### Cut it up!\n",
    "100xp\n",
    "\n",
    "If you only have continuous variables, you can convert them into ordinal variables using any of the following functions:\n",
    "\n",
    "    cut_interval(x, n) makes n groups from vector x with equal range.\n",
    "    cut_number(x, n) makes n groups from vector x with (approximately) equal numbers of observations.\n",
    "    cut_width(x, width) makes groups of width width from vector x.\n",
    "\n",
    "This is useful when you want to summarize a complex scatter plot like the one shown in the viewer. By applying these functions to the carat variable and mapping that onto the group aesthetic, you can convert the scatter plot in the viewer into a series of box plots on the fly.\n",
    "Instructions\n",
    "\n",
    "  -  In all of the following cases x, the first argument in the functions, is carat. For example, cut_interval(carat, n = 10).\n",
    "  -  In the first plot, use cut_interval with n = 10.\n",
    "  -  In the second plot, use cut_number with n = 10.\n",
    "  -  In the third plot, use cut_width with width = 0.25.\n"
   ]
  },
  {
   "cell_type": "code",
   "execution_count": 16,
   "metadata": {},
   "outputs": [
    {
     "data": {},
     "metadata": {},
     "output_type": "display_data"
    },
    {
     "data": {},
     "metadata": {},
     "output_type": "display_data"
    },
    {
     "data": {
      "image/png": "[encoded data removed]",
      "text/plain": [
       "plot without title"
      ]
     },
     "metadata": {},
     "output_type": "display_data"
    },
    {
     "data": {},
     "metadata": {},
     "output_type": "display_data"
    },
    {
     "data": {
      "image/png": "[encoded data removed]",
      "text/plain": [
       "plot without title"
      ]
     },
     "metadata": {},
     "output_type": "display_data"
    },
    {
     "data": {
      "image/png": "[encoded data removed]",
      "text/plain": [
       "plot without title"
      ]
     },
     "metadata": {},
     "output_type": "display_data"
    }
   ],
   "source": [
    "# Plot object p\n",
    "p <- ggplot(diamonds, aes(x = carat, y = price))\n",
    "\n",
    "# Use cut_interval\n",
    "p + geom_boxplot(aes(group = cut_interval(carat, n = 10)))\n",
    "\n",
    "# Use cut_number\n",
    "p + geom_boxplot(aes(group = cut_number(carat, n = 10)))\n",
    "\n",
    "# Use cut_width\n",
    "p + geom_boxplot(aes(group = cut_width(carat, width = 0.25)))"
   ]
  },
  {
   "cell_type": "markdown",
   "metadata": {},
   "source": [
    "Going from a continuous to a categorical variable reduces the amount of information, but sometimes that helps us understand the data. "
   ]
  },
  {
   "cell_type": "markdown",
   "metadata": {},
   "source": [
    "### Understanding quartiles\n",
    "\n",
    "Be aware that there are many ways to calculate the IQR, short for inter-quartile range (that is Q3−Q1\n",
    "\n",
    "). These are defined in the help pages for the quantile() function:\n",
    "\n",
    "?quantile\n",
    "\n",
    "To explore the differences in these types, a function called plot_quart() is available, that takes one argument: an integer specifying the number of values. Using rnorm() a vector of values will be generated and the quartiles will be calculated using nine different methods. Run the command in the console on the right using different values (for example 4, 10, 50, 100).\n",
    "\n",
    "What can you say about the how the quartiles, and ergo the IQR, are calculated?\n",
    "Possible Answers\n",
    "\n",
    "  -  The IQR increases as the sample size increases.\n",
    "  -  The IQR decreases as the sample size increases.\n",
    "  -  The IQR becomes more consistent across methods as the sample size increases.\n",
    "  -  The IQR becomes more inconsistent across methods as the sample size increases.\n",
    "  -  The IQR is independent of the method used to calculate the quartiles."
   ]
  },
  {
   "cell_type": "markdown",
   "metadata": {},
   "source": [
    "Yes, the subtle difference between methods is not as pronounced when the sample size is large. In any case, you are likely to encounter spurious artefacts when drawing box plots with small sample sizes. "
   ]
  },
  {
   "cell_type": "markdown",
   "metadata": {},
   "source": [
    "## Density Plots - Video"
   ]
  },
  {
   "cell_type": "markdown",
   "metadata": {},
   "source": [
    "### geom_density()\n",
    "\n",
    "To make a straightforward density plot, add a geom_density() layer.\n",
    "\n",
    "Before plotting, you will calculate the emperical density function, similar to how you can use the density() function in the stats package, available by default when you start R. The following default parameters are used (you can specify these arguments both in density() as well as geom_density()):\n",
    "\n",
    "    bw = \"nrd0\", telling R which rule to use to choose an appropriate bandwidth.\n",
    "    kernel = \"gaussian\", telling R to use the Gaussian kernel.\n",
    "\n",
    "We've already prepared a data frame test_data for you, containing three columns: norm, bimodal and uniform. Each column represents 200 samples from a normal, bimodal and uniform distribution.\n",
    "Instructions\n",
    "\n",
    "   - Use density() to calculate the emperical PDF curve for test_data$norm. Save the result in an object d.\n",
    "   - Create the variable mode: it is the value in d$x for which d$y is highest. Use which.max().\n",
    "   - Finish the ggplot() command: add geom_rug() and geom_density(). The geom_vline() function to display the mode you just calculated is already provided.\n"
   ]
  },
  {
   "cell_type": "code",
   "execution_count": null,
   "metadata": {
    "collapsed": true
   },
   "outputs": [],
   "source": [
    "# test_data is available\n",
    "\n",
    "# Calculating density: d\n",
    "d = density(test_data$norm)\n",
    "\n",
    "# Use which.max() to calculate mode\n",
    "mode <- d$x[which.max(d$y)]\n",
    "\n",
    "# Finish the ggplot call\n",
    "ggplot(test_data, aes(x = norm)) +\n",
    "  geom_rug() +\n",
    "  geom_density() +\n",
    "  geom_vline(xintercept = mode, col = \"red\")"
   ]
  },
  {
   "cell_type": "markdown",
   "metadata": {},
   "source": [
    " Recall that density plots can be combined in many ways, as we'll see in the next exercise."
   ]
  },
  {
   "cell_type": "markdown",
   "metadata": {},
   "source": [
    "### Combine density plots and histogram\n",
    "100xp\n",
    "Sometimes it is useful to compare a histogram with a density plot. However, the histogram's y-scale must first be converted to frequency instead of absolute count. After doing so, you can add an empirical PDF using geom_density() or a theoretical PDF using stat_function().\n",
    "\n",
    "Can you finish the plot below by following the steps?\n",
    "\n",
    "Instructions\n",
    " - Add a geom_histogram() layer; make sure to to set the y aesthetic to the internal ..density.. variable, overriding the default ..count...\n",
    " - Add a geom_density() layer and color it \"red\".\n",
    " - Add a normal curve using stat_function(). Do this by setting fun = dnorm and args = fun_args. fun_args is a list that was already specified, to override the default mean of 0 and standard deviation of 1. Finally, give this theoretical PDF a blue color."
   ]
  },
  {
   "cell_type": "code",
   "execution_count": null,
   "metadata": {
    "collapsed": true
   },
   "outputs": [],
   "source": [
    "# test_data is available\n",
    "\n",
    "# Arguments you'll need later on\n",
    "fun_args <- list(mean = mean(test_data$norm), sd = sd(test_data$norm))\n",
    "\n",
    "# Finish the ggplot\n",
    "ggplot(test_data, aes(x = norm)) +\n",
    "geom_histogram(aes(y=..density..)) +\n",
    "geom_density(col=\"red\") +\n",
    "stat_function(fun=dnorm, args=fun_args, col=\"blue\")\n"
   ]
  },
  {
   "cell_type": "markdown",
   "metadata": {},
   "source": [
    "Don't go too crazy on overlapping plots, or things get too confusing."
   ]
  },
  {
   "cell_type": "markdown",
   "metadata": {},
   "source": [
    "### Adjusting density plots\n",
    "100xp\n",
    "There are three parameters that you may be tempted to adjust in a density plot:\n",
    "\n",
    "bw - the smoothing bandwidth to be used, see ?density for details\n",
    "adjust - adjustment of the bandwidth, see density for details\n",
    "kernel - kernel used for density estimation, defined as\n",
    "    \n",
    " - \"g\" = gaussian\n",
    " - \"r\" = rectangular\n",
    " - \"t\" = triangular\n",
    " - \"e\" = epanechnikov\n",
    " - \"b\" = biweight\n",
    " - \"c\" = cosine\n",
    " - \"o\" = optcosine\n",
    "    \n",
    "In this exercise you'll use a dataset containing only four points, small_data, so that you can see how these three arguments affect the shape of the density plot.\n",
    "\n",
    "The vector get_bw contains the bandwidth that is used by default in geom_density(). p is a basic plotting object that you can start from.\n",
    "\n",
    "Instructions\n",
    " - Create three plots:\n",
    " - Adding geom_density() to p.\n",
    " - Add geom_density() to p, and set the adjust argument to 0.25.\n",
    " - Add geom_density() to p, and explicitly set the bw argument to 0.25 * get_bw. Is the result the same?\n",
    " - Create two more plots:\n",
    " - Add geom_density() to p, and set kernel = \"r\"\n",
    " - Add geom_density() to p, and set kernel = \"e\"."
   ]
  },
  {
   "cell_type": "code",
   "execution_count": null,
   "metadata": {
    "collapsed": true
   },
   "outputs": [],
   "source": [
    "# small_data is available\n",
    "\n",
    "# Get the bandwith\n",
    "get_bw <- density(small_data$x)$bw\n",
    "\n",
    "# Basic plotting object\n",
    "p <- ggplot(small_data, aes(x = x)) +\n",
    "  geom_rug() +\n",
    "  coord_cartesian(ylim = c(0,0.5))\n",
    "\n",
    "# Create three plots\n",
    "p + geom_density()\n",
    "p + geom_density(adjust=0.25)\n",
    "p + geom_density(bw=0.25*get_bw)\n",
    "\n",
    "# Create two plots\n",
    "p + geom_density(kernel = \"r\")\n",
    "p + geom_density(kernel = \"e\")"
   ]
  },
  {
   "cell_type": "code",
   "execution_count": null,
   "metadata": {
    "collapsed": true
   },
   "outputs": [],
   "source": [
    "Notice how the curve contained more features and their individual heights were increased as the bandwidth decreased."
   ]
  },
  {
   "cell_type": "markdown",
   "metadata": {},
   "source": [
    "## Multiple Groups/Variables - Video"
   ]
  },
  {
   "cell_type": "markdown",
   "metadata": {},
   "source": [
    "Box plots with varying width\n",
    "100xp\n",
    "A drawback of showing a box plot per group, is that you don't have any indication of the sample size, nn, in each group, that went into making the plot. One way of dealing with this is to use a variable width for the box, which reflects differences in nn.\n",
    "\n",
    "Can you add some good-looking box plots to the basic plot coded on the right?\n",
    "\n",
    "Instructions\n",
    "Add a geom_boxplot() layer and set varwidth to TRUE in the geom layer.\n",
    "Add a mapping to the aesthetics layer, mapping color on the col aesthetic.\n",
    "If you try out the plot you've coded up to now, you'll see a lot of overlapping box plots. Fix this by facetting the plot; use . ~ color."
   ]
  },
  {
   "cell_type": "code",
   "execution_count": null,
   "metadata": {
    "collapsed": true
   },
   "outputs": [],
   "source": [
    "# Finish the plot\n",
    "ggplot(diamonds, aes(x = cut, y = price)) +\n",
    "geom_boxplot(varwidth=TRUE, aes(col=color)) +\n",
    "facet_grid(.~color)"
   ]
  },
  {
   "cell_type": "code",
   "execution_count": null,
   "metadata": {
    "collapsed": true
   },
   "outputs": [],
   "source": [
    "This helps us see the differences in group size, but unfortunately there is no legend, so it's not a complete solution."
   ]
  },
  {
   "cell_type": "code",
   "execution_count": null,
   "metadata": {
    "collapsed": true
   },
   "outputs": [],
   "source": [
    "Mulitple density plots\n",
    "100xp\n",
    "In this exercise you'll combine multiple density plots. Here, you'll combine just two distributions, a normal and a bimodal.\n",
    "\n",
    "The first thing to remember is that you can consider values as two separate variables, like in the test_data data frame, or as a single continuous variable with their ID as a separate categorical variable, like in the test_data2 data frame. test_data2 is more convenient for combining and comparing multiple distributions.\n",
    "\n",
    "Instructions\n",
    "Add a geom_rug() and a geom_density() layer to the base data and aes layers for a plot of the normally distributed data. Note that to view the bimodal variable, you'd need a separate plot.\n",
    "In the second plot, use the test_data2 data frame:\n",
    "Map value onto x and dist onto both fill and col.\n",
    "Inside geom_rug() and geom_density(), set alpha = 0.6."
   ]
  },
  {
   "cell_type": "code",
   "execution_count": null,
   "metadata": {
    "collapsed": true
   },
   "outputs": [],
   "source": [
    "# test_data and test_data2 are available\n",
    "str(test_data)\n",
    "str(test_data2)\n",
    "\n",
    "# Plot with test_data\n",
    "ggplot(test_data, aes(x = norm)) +\n",
    "  geom_rug() +\n",
    "  geom_density()\n",
    "\n",
    "# Plot two distributions with test_data2\n",
    "ggplot(test_data2, aes(x = value, fill = dist, col = dist)) +\n",
    "  geom_rug(alpha=0.6) +\n",
    "  geom_density(alpha=0.6)"
   ]
  },
  {
   "cell_type": "markdown",
   "metadata": {},
   "source": [
    "A small number of overlapping density plots are a fantastic way of comparing distinct distributions, for example, when descriptive statistics only (mean and sd) don't represent the data well enough."
   ]
  },
  {
   "cell_type": "markdown",
   "metadata": {},
   "source": [
    "### Multiple density plots (2)\n",
    "100xp\n",
    "When you looked at multiple box plots, you compared the total sleep time of various mammals, sorted according to their eating habits. One thing you noted is that for insectivores, box plots didn't really make sense, since there were only 5 observations to begin with. You decided that you could nonetheless use the width of a box plot to show the difference in sample size between the groups. Here, you'll see a similar thing with density plots.\n",
    "\n",
    "A cleaned up version of the mammalian dataset is available as mammals.\n",
    "\n",
    "Instructions\n",
    " - In the first plot, filter the mammals dataset to plot only the vore variable that equals \"Insectivore\".\n",
    " - Instead of filtering, add facet_wrap() to the second plot; using ~ vore and nrow = 2 to arrange the plots. Compare this to the first plot.\n",
    " - In the third plot, combines all the density plots together by mapping vore onto the fill aesthetic. The density plots are calculated separately for each group, which is derived from the fill aesthetic here.\n",
    " - Multiple density plots extend the range of all values to the total extent of the entire dataset. This may be a bit confusing, so in the fourth plot, in addition to mapping vore to fill, modify this by setting trim = TRUE inside geom_density(). However, be cautious. Since the distributions are cut off at the extreme ends, the area under the curve technically is not equal to one anymore."
   ]
  },
  {
   "cell_type": "code",
   "execution_count": null,
   "metadata": {
    "collapsed": true
   },
   "outputs": [],
   "source": [
    "# Individual densities\n",
    "ggplot(mammals[mammals$vore == \"Insectivore\", ], aes(x = sleep_total, fill = vore)) +\n",
    "  geom_density(col = NA, alpha = 0.35) +\n",
    "  scale_x_continuous(limits = c(0, 24)) +\n",
    "  coord_cartesian(ylim = c(0, 0.3))\n",
    "\n",
    "# With faceting\n",
    "ggplot(mammals, aes(x = sleep_total, fill = vore)) +\n",
    "  geom_density(col = NA, alpha = 0.35) +\n",
    "  scale_x_continuous(limits = c(0, 24)) +\n",
    "  coord_cartesian(ylim = c(0, 0.3)) +\n",
    "  facet_wrap( ~ vore, nrow = 2)\n",
    "\n",
    "# Note that by default, the x ranges fill the scale\n",
    "ggplot(mammals, aes(x = sleep_total, fill = vore)) +\n",
    "  geom_density(col = NA, alpha = 0.35) +\n",
    "  scale_x_continuous(limits = c(0, 24)) +\n",
    "  coord_cartesian(ylim = c(0, 0.3))\n",
    "\n",
    "# Trim each density plot individually\n",
    "ggplot(mammals, aes(x = sleep_total, fill = vore)) +\n",
    "  geom_density(col = NA, alpha = 0.35, trim = TRUE) +\n",
    "  scale_x_continuous(limits=c(0,24)) +\n",
    "  coord_cartesian(ylim = c(0, 0.3))"
   ]
  },
  {
   "cell_type": "code",
   "execution_count": null,
   "metadata": {
    "collapsed": true
   },
   "outputs": [],
   "source": [
    "These simple tweeks make for great-looking statistical plots!"
   ]
  },
  {
   "cell_type": "markdown",
   "metadata": {},
   "source": [
    "### Weighted density plots\n",
    "100xp\n",
    "When plotting a single variable, the density plots (and their bandwidths) are calculated separate for each variable (see the plot from the previous exercise, provided).\n",
    "\n",
    "However, when you compare several variables (such as eating habits) it's useful to see the density of each subset in relation to the whole data set. This holds true for multiple density plots as well as for violin plots.\n",
    "\n",
    "For this, we need to weight the density plots so that they're relative to each other. Each density plot is adjusted according to what proportion of the total data set each sub-group represents. We calculated this using the dplyr commands on lines 11-15.\n",
    "\n",
    "The mammals data frame is available as before. After executing the commnads, it will have the variable n, which we'll use for weighting.\n",
    "\n",
    "Instructions\n",
    " - To generate the weighted density plot, use aes() to map n onto the weight aesthetic inside geom_density().\n",
    " - Repeat for the violin plot.\n",
    " - Compare this adjusted plot to the original. Notice in particular how insectivores and omnivores change in appearance."
   ]
  },
  {
   "cell_type": "code",
   "execution_count": null,
   "metadata": {
    "collapsed": true
   },
   "outputs": [],
   "source": [
    "# Unweighted density plot from before\n",
    "ggplot(mammals, aes(x = sleep_total, fill = vore)) +\n",
    "  geom_density(col = NA, alpha = 0.35) +\n",
    "  scale_x_continuous(limits = c(0, 24)) +\n",
    "  coord_cartesian(ylim = c(0, 0.3))\n",
    "\n",
    "# Unweighted violin plot\n",
    "ggplot(mammals, aes(x = vore, y = sleep_total, fill = vore)) +\n",
    "  geom_violin()\n",
    "\n",
    "# Calculate weighting measure\n",
    "library(dplyr)\n",
    "mammals2 <- mammals %>%\n",
    "  group_by(vore) %>%\n",
    "  mutate(n = n() / nrow(mammals)) -> mammals\n",
    "\n",
    "# Weighted density plot\n",
    "ggplot(mammals, aes(x = sleep_total, fill = vore)) +\n",
    "  geom_density(aes(weight=n), col = NA, alpha = 0.35) +\n",
    "  scale_x_continuous(limits = c(0, 24)) +\n",
    "  coord_cartesian(ylim = c(0, 0.3))\n",
    "\n",
    "# Weighted violin plot\n",
    "ggplot(mammals, aes(x = vore, y = sleep_total, fill = vore)) +\n",
    "  geom_violin(aes(weight = n), col = NA)"
   ]
  },
  {
   "cell_type": "code",
   "execution_count": null,
   "metadata": {
    "collapsed": true
   },
   "outputs": [],
   "source": [
    "2D density plots (1)\n",
    "100xp\n",
    "You can consider two orthogonal density plots in the form of a 2D density plot. Just like with a 1D density plot, you can adjust the bandwidth of both axes independently.\n",
    "\n",
    "The data is stored in the faithful data frame, available in the datasets package. The object p contains the base definitions of a plot.\n",
    "\n",
    "Instructions\n",
    "1 - Add geom_density_2d() to p to create a 2D density plot with default settings.\n",
    "2 - Use stat_density_2d() with arguments:\n",
    "Define the bandwidths for the x and y axes by assigning a 2-element long vector (using c()) to the h argument: the bandwidth of the x axis is 5 and the y axis is 0.5.\n",
    "Change the color of the lines to the density level they represent: specify aes(col = ..level..)."
   ]
  },
  {
   "cell_type": "code",
   "execution_count": null,
   "metadata": {
    "collapsed": true
   },
   "outputs": [],
   "source": [
    "# Base layers\n",
    "p <- ggplot(faithful, aes(x = waiting, y = eruptions)) +\n",
    "  scale_y_continuous(limits = c(1, 5.5), expand = c(0, 0)) +\n",
    "  scale_x_continuous(limits = c(40, 100), expand = c(0, 0)) +\n",
    "  coord_fixed(60 / 4.5)\n",
    "\n",
    "# 1 - Use geom_density_2d()\n",
    "p + geom_density_2d()\n",
    "\n",
    "# 2 - Use stat_density_2d() with arguments\n",
    "p + stat_density_2d(aes(col = ..level..), h = c(5, 0.5))"
   ]
  },
  {
   "cell_type": "code",
   "execution_count": null,
   "metadata": {
    "collapsed": true
   },
   "outputs": [],
   "source": [
    " Think about the message in your scatter plots, sometimes clusters of high-density are more intersting than linear models."
   ]
  },
  {
   "cell_type": "code",
   "execution_count": null,
   "metadata": {
    "collapsed": true
   },
   "outputs": [],
   "source": [
    "2D density plots (2)\n",
    "100xp\n",
    "Continuing with the density plots from the last exercise, here you'll explore the viridis package. This package contains multi-hue color palettes suitable for continuous variables.\n",
    "\n",
    "The advantage of these scales is that instead of providing an even color gradient for a continuous scale, they highlight the highest values by using an uneven color gradient on purpose. The high values are lighter colors (yellow versus blue), so they stand out more.\n",
    "\n",
    "A shaded 2D density plot showing the same data as the previous exercise has been provided for you. Up to you to upgrade it!\n",
    "\n",
    "Instructions\n",
    "Load the viridis package; it's already installed on DataCamp's servers.\n",
    "Add the scale_fill_viridis() layer to the 2D density plot."
   ]
  },
  {
   "cell_type": "code",
   "execution_count": null,
   "metadata": {
    "collapsed": true
   },
   "outputs": [],
   "source": [
    "# Load in the viridis package\n",
    "library(viridis)\n",
    "\n",
    "# Add viridis color scale\n",
    "ggplot(faithful, aes(x = waiting, y = eruptions)) +\n",
    "  scale_y_continuous(limits = c(1, 5.5), expand = c(0,0)) +\n",
    "  scale_x_continuous(limits = c(40, 100), expand = c(0,0)) +\n",
    "  coord_fixed(60/4.5) +\n",
    "  stat_density_2d(geom = \"tile\", aes(fill = ..density..), h=c(5,.5), contour = FALSE) + \n",
    "  scale_fill_viridis()\n"
   ]
  },
  {
   "cell_type": "markdown",
   "metadata": {},
   "source": [
    "# 2. Plots for specific data types (Part 1)"
   ]
  },
  {
   "cell_type": "markdown",
   "metadata": {},
   "source": [
    "## Graphics of Large Data - Video"
   ]
  },
  {
   "cell_type": "markdown",
   "metadata": {},
   "source": [
    "Pair plots and correlation matrices\n",
    "100xp\n",
    "On startup, R features two useful quick-and-dirty pairs plots functions. They both only take continuous variables.\n",
    "\n",
    "You'll be working with the iris dataset and with mtcars_fact, a version of mtcars where categorical variables have been converted into actual factor columns.\n",
    "\n",
    "Instructions\n",
    "Use the pairs() function on iris[1:4] (only the continuous variables) to draw a SPLOM.\n",
    "Use chart.Correlation() from the PerformanceAnalytics package to draw a correlation matrix, again of the first four columns of iris. Feel free to set graphical parameters using base package arguments such as pch, cex.labels and labels.\n",
    "Use ggpairs() form the GGally package to create a pairs plot of mtcars_fact[1:3]. Notice that it is able to handle both continuous and categorical variables."
   ]
  },
  {
   "cell_type": "code",
   "execution_count": null,
   "metadata": {
    "collapsed": true
   },
   "outputs": [],
   "source": [
    "# pairs\n",
    "pairs(iris[1:4])\n",
    "\n",
    "# chart.Correlation\n",
    "library(PerformanceAnalytics)\n",
    "chart.Correlation(iris[1:4])\n",
    "\n",
    "# ggpairs\n",
    "library(GGally)\n",
    "ggpairs(mtcars_fact[1:3])"
   ]
  },
  {
   "cell_type": "code",
   "execution_count": null,
   "metadata": {
    "collapsed": true
   },
   "outputs": [],
   "source": [
    "SPLOM! These are some great-looking *S*catter *PLO*t *M*atrices."
   ]
  },
  {
   "cell_type": "code",
   "execution_count": null,
   "metadata": {
    "collapsed": true
   },
   "outputs": [],
   "source": [
    "Create a correlation matrix in ggplot2\n",
    "100xp\n",
    "Instead of using an off-the-shelf correlation matrix function, you can of course create your own plot. Just for fun, in this exercise, you'll re-create the scatterplot you see on the right. The strength of the correlation is depicted by the size and color of the points and labels.\n",
    "\n",
    "For starters, a correlation matrix can be calculated using, for example, cor(dataframe) (if all variables are numerical). Before you can use your data frame to create your own correlation matrix plot, you'll need to get it in the right format.\n",
    "\n",
    "In the editor, you can see the definition of cor_list(), a function that re-formats the data frame x. Here, L is used to add the points to the lower triangle of the matrix, and M is used to add the numerical values as text to the upper triangle of the matrix. With reshape2::melt(), the correlation matrices L and M are each converted into a three-column data frame: the x and y axes of the correlation matrix make up the first two columns and the corresponding correlation coefficient makes up the third column. These become the new variables \"points\" and \"labels\", which can be mapped onto the size aesthetic for the points in the lower triangle and onto the label aesthetic for the text in the upper triangle, respectively. Their values will be the same, but their positions on the plot will be symmetrical about the diagonal! Merging L and M, you have everything you need.\n",
    "\n",
    "If you're not familiar with reshape2 - don't worry, the only reason we use that instead of tidyr is that reshape2::melt() can handle a matrix, whereas tidyr::gather() requires a data frame. At this point you just need to understand how to use the output from cor_list().\n",
    "\n",
    "You'll first use dplyr to execute this function on the continuous variables in the iris data frame (the first four columns), but separately for each species. Please refer to the course on dplyr if you are not familiar with these functions.\n",
    "\n",
    "Next, you'll actually plot the resulting data frame with ggplot2 functions.\n",
    "\n",
    "Instructions\n",
    "Update the dplyr command: insert a group_by() call so that correlations are calculated per Species.\n",
    "Finish the ggplot() command:\n",
    "In the aesthetics layer, map Var1 onto x and Var2 onto y.\n",
    "Inside geom_point(), map points onto col and abs(points) onto size. We use abs() to get the absolute value here since correlations can be positive or negative, but size can only be positive. Don't set\n",
    "Similarly, inside geom_text(), define both the col and size aesthetics in the same way, but this time use the labels variable instead of points.\n",
    "Add a facet_grid() layer to facet according to Species."
   ]
  },
  {
   "cell_type": "code",
   "execution_count": null,
   "metadata": {
    "collapsed": true
   },
   "outputs": [],
   "source": [
    "library(ggplot2)\n",
    "library(reshape2)\n",
    "\n",
    "cor_list <- function(x) {\n",
    "  L <- M <- cor(x)\n",
    "  \n",
    "  M[lower.tri(M, diag = TRUE)] <- NA\n",
    "  M <- melt(M)\n",
    "  names(M)[3] <- \"points\"\n",
    "  \n",
    "  L[upper.tri(L, diag = TRUE)] <- NA\n",
    "  L <- melt(L)\n",
    "  names(L)[3] <- \"labels\"\n",
    "  \n",
    "  merge(M, L)\n",
    "}\n",
    "\n",
    "# Calculate xx with cor_list\n",
    "library(dplyr)\n",
    "xx <- iris %>%\n",
    "  group_by(Species) %>%\n",
    "  do(cor_list(.[1:4]))  \n",
    "\n",
    "# Finish the plot\n",
    "ggplot(xx, aes(x = Var1, y = Var2)) +\n",
    "  geom_point(aes(col = points, size = abs(points)), shape = 16) +\n",
    "  geom_text(aes(col = labels, size = abs(labels), label = round(labels, 2))) +\n",
    "  scale_size(range = c(0, 6)) +\n",
    "  scale_color_gradient2(\"r\", limits = c(-1, 1)) +\n",
    "  scale_y_discrete(\"\", limits = rev(levels(xx$Var1))) +\n",
    "  scale_x_discrete(\"\") +\n",
    "  guides(size = FALSE) +\n",
    "  geom_abline(slope = -1, intercept = nlevels(xx$Var1) + 1) +\n",
    "  coord_fixed() +\n",
    "  facet_grid(. ~ Species) +\n",
    "  theme(axis.text.y = element_text(angle = 45, hjust = 1),\n",
    "        axis.text.x = element_text(angle = 45, hjust = 1),\n",
    "        strip.background = element_blank())"
   ]
  },
  {
   "cell_type": "markdown",
   "metadata": {},
   "source": [
    "## Ternary Plots - Video"
   ]
  },
  {
   "cell_type": "markdown",
   "metadata": {},
   "source": [
    "Proportional/stacked bar plots\n",
    "100xp\n",
    "Before you head over to ternary plots, let's try to make a classical proportional/stacked bar plot of a subset of the data. We'll use a stacked bar plot and the coord_flip() function to flips the x and y axes.\n",
    "\n",
    "The data frame for the African Soil Profiles Database is available in your workspace as africa and can be found in the GSIF package. It contains three columns: Sand, Silt and Clay. A smaller version, containing only 50 observations is stored in africa_sample.\n",
    "\n",
    "In the first course we mentioned that in the data layer, the structure of the data should reflect how you wish to plot it. For a ternary plot, you need to have three separate variables, for example, Sand, Silt and Clay in africa. However, for a proportional/stacked bar plot, you just need two. The type should be defined as three levels within a single factor variable. That is, you want tidy data.\n",
    "\n",
    "It's also useful to maintain the site IDs as a variable within the data frame, currently, they are stored at row names, which is poor style and not useful.\n",
    "\n",
    "Instructions\n",
    "Explore the structure of the africa and africa_sample datasets with str().\n",
    "Add a column ID to africa_sample; use row.names(africa_sample) to populate it.\n",
    "If you are not familiar with gather(), please review the course on tidyr. africa_sample_tidy contains tidy data arranged as a long data frame. Execute head(africa_sample_tidy) to view the first few rows so that you know the variable names and contents. Contrast africa_sample_tidy with africa_sample.\n",
    "Finish the ggplot() command: define the data and aesthetics layer to create a stacked bar plot showing the soil composition levels of each observation (ID). Notice that geom_col() is used, since the values in the data frame are exactly where you want the bars to be drawn."
   ]
  },
  {
   "cell_type": "code",
   "execution_count": null,
   "metadata": {
    "collapsed": true
   },
   "outputs": [],
   "source": [
    "# Explore africa\n",
    "str(africa)\n",
    "str(africa_sample)\n",
    "\n",
    "# Add an ID column from the row.names\n",
    "africa_sample$ID <- row.names(africa_sample)\n",
    "\n",
    "# Gather africa_sample\n",
    "library(tidyr)\n",
    "africa_sample_tidy <- gather(africa_sample, key, value, -ID)\n",
    "head(africa_sample_tidy)\n",
    "\n",
    "# Finish the ggplot command\n",
    "ggplot(africa_sample_tidy, aes(x = factor(ID), y = value, fill = key)) +\n",
    "  geom_col() +\n",
    "  coord_flip()"
   ]
  },
  {
   "cell_type": "code",
   "execution_count": null,
   "metadata": {
    "collapsed": true
   },
   "outputs": [],
   "source": [
    " Remember stacked bar charts as an alternative to pie charts?"
   ]
  },
  {
   "cell_type": "code",
   "execution_count": null,
   "metadata": {
    "collapsed": true
   },
   "outputs": [],
   "source": [
    "Producing ternary plots\n",
    "100xp\n",
    "Ok, let's move onto ternary plots. For this you'll use the ggtern package, which provides the ggtern() function.\n",
    "\n",
    "In contrast to what you just saw in africa_small_tidy, the three soil properties, Sand, Silt and Clay, are not going to be located in a single variable. The distinction between wide and tidy format data was discussed in the first course and here you'll see it in action. Sometimes you need to rearrange your data for the desired plot type.\n",
    "\n",
    "Here, you'll use the complete dataset, africa, containing three separate variables for the measures of interest: that format is perfect for a ternary plot.\n",
    "\n",
    "Instructions\n",
    "Load the ggtern library; it's already installed on DataCamp's servers.\n",
    "Create a ternary plot of the africa data:\n",
    "Use ggtern() to create a ternary plot as you would use ggplot(), assigning Sand, Silt and Clay to the x, y, and z aesthetics, respectively.\n",
    "Add a point geom. For this geom, set shape = 16 and alpha = 0.2."
   ]
  },
  {
   "cell_type": "code",
   "execution_count": null,
   "metadata": {
    "collapsed": true
   },
   "outputs": [],
   "source": [
    "# Load ggtern\n",
    "library(ggtern)\n",
    "\n",
    "# Build ternary plot\n",
    "ggtern(africa, aes(x = Sand, y = Silt, z = Clay)) +\n",
    "  geom_point(shape=16, alpha=0.2)"
   ]
  },
  {
   "cell_type": "code",
   "execution_count": null,
   "metadata": {
    "collapsed": true
   },
   "outputs": [],
   "source": [
    "Adjusting ternary plots\n",
    "100xp\n",
    "Ternary plots have been around for a while in R; you could achieve the same thing with the vcd package authored by Michael Friendly. If you just need a quick and dirty ternary plot, that may suit you just fine. However, since ggtern is built on ggplot2, you can take advantage of all the tools available therein.\n",
    "\n",
    "ggtern is authored by Nicholas Hamilton, more information can be found on his package website: www.ggtern.com.\n",
    "\n",
    "The plot from the previous exercise is available twice. Can you adapt it in different ways to make different ternary density plots?\n",
    "\n",
    "Instructions\n",
    "For the first plot, make a contour plot:\n",
    "Use geom_density_tern() instead of geom_point().\n",
    "For the second plot, make a filled density plot:\n",
    "Use stat_density_tern() instead of geom_point() and set geom = \"polygon\".\n",
    "Inside stat_density_tern(), update some aesthetics: map the internal ..level.. variable onto both fill and alpha.\n",
    "Suppress the legend using a guides(fill = FALSE) layer."
   ]
  },
  {
   "cell_type": "code",
   "execution_count": null,
   "metadata": {
    "collapsed": true
   },
   "outputs": [],
   "source": [
    "# ggtern and ggplot2 are loaded\n",
    "# Original plot:\n",
    "ggtern(africa, aes(x = Sand, y = Silt, z = Clay)) +\n",
    "  geom_point(shape = 16, alpha = 0.2)\n",
    "\n",
    "# Plot 1\n",
    "ggtern(africa, aes(x = Sand, y = Silt, z = Clay)) +\n",
    "  geom_density_tern()\n",
    "\n",
    "# Plot 2\n",
    "ggtern(africa, aes(x = Sand, y = Silt, z = Clay)) +\n",
    "  stat_density_tern(geom = \"polygon\", aes(fill = ..level.., alpha = ..level..)) +\n",
    "  guides(fill = FALSE)"
   ]
  },
  {
   "cell_type": "markdown",
   "metadata": {},
   "source": [
    "## Network Plots - Video"
   ]
  },
  {
   "cell_type": "code",
   "execution_count": null,
   "metadata": {
    "collapsed": true
   },
   "outputs": [],
   "source": [
    "Build the network (1)\n",
    "100xp\n",
    "Network data may be stored in a variety of ways.\n",
    "\n",
    "For this example, you'll use an undirected network of romantic relationships in the TV show Mad Men: geomnet::madmen.\n",
    "\n",
    "Instructions\n",
    "Load the geomnet package and examine the structure of the madmen dataset. Notice that it is a list of two data frames called edges and vertices. This is enough information to build the network.\n",
    "Use merge() to merge the madmen$edges and madmen$vertices data frames. You can connect observations: by.x is the Name1 variable in the edges data frame, which matches by.y, the label variable in the vertices data frame. Store the result inside a new data frame mmnet.\n",
    "Examine the structure of your new mmnet data frame."
   ]
  },
  {
   "cell_type": "code",
   "execution_count": 3,
   "metadata": {},
   "outputs": [
    {
     "name": "stdout",
     "output_type": "stream",
     "text": [
      "List of 2\n",
      " $ edges   :'data.frame':\t39 obs. of  2 variables:\n",
      "  ..$ Name1: Factor w/ 9 levels \"Betty Draper\",..: 1 1 2 2 2 2 2 2 2 2 ...\n",
      "  ..$ Name2: Factor w/ 39 levels \"Abe Drexler\",..: 15 31 2 4 5 6 8 9 11 21 ...\n",
      " $ vertices:'data.frame':\t45 obs. of  2 variables:\n",
      "  ..$ label : Factor w/ 45 levels \"Abe Drexler\",..: 5 9 16 23 26 32 33 38 39 17 ...\n",
      "  ..$ Gender: Factor w/ 2 levels \"female\",\"male\": 1 2 2 1 2 1 2 2 2 2 ...\n",
      "'data.frame':\t75 obs. of  3 variables:\n",
      " $ Name1 : Factor w/ 45 levels \"Betty Draper\",..: 1 1 2 2 2 2 2 2 2 2 ...\n",
      " $ Name2 : Factor w/ 39 levels \"Abe Drexler\",..: 15 31 2 4 5 6 8 9 11 21 ...\n",
      " $ Gender: Factor w/ 2 levels \"female\",\"male\": 1 1 2 2 2 2 2 2 2 2 ...\n"
     ]
    }
   ],
   "source": [
    "# Load geomnet & examine structure of madmen\n",
    "library(geomnet)\n",
    "str(madmen)\n",
    "\n",
    "# Merge edges and vertices\n",
    "mmnet <- merge(madmen$edges, madmen$vertices,\n",
    "               by.x = \"Name1\", by.y = \"label\",\n",
    "               all = TRUE)\n",
    "\n",
    "# Examine structure of mmnet\n",
    "str(mmnet)"
   ]
  },
  {
   "cell_type": "code",
   "execution_count": null,
   "metadata": {
    "collapsed": true
   },
   "outputs": [],
   "source": [
    "Build the network (2)\n",
    "100xp\n",
    "Now that your data is in the correct format, you can build the actual network plot.\n",
    "\n",
    "You'll use the geom_net() function, a ggplot layer that's in the geomnet package. The ggnetwork package is a popular alternative, but we will not discuss that here.\n",
    "\n",
    "Can you finish the ggplot() command?\n",
    "\n",
    "Instructions\n",
    "Use the mmnet as the data layer\n",
    "geomnet provides new aesthetics: from_id and to_id. Map Name1 and Name2 (that were originally in the edges data frame) onto these aesthetics, in this order.\n",
    "Add a geom_net() geom layer to visualise the results, and specify several things:\n",
    "Inside an additional aes() function, map Gender onto col.\n",
    "Set size = 6, linewidth = 1, labelon = TRUE, fontsize = 3, and labelcolour = \"black\"."
   ]
  },
  {
   "cell_type": "code",
   "execution_count": 4,
   "metadata": {},
   "outputs": [
    {
     "data": {},
     "metadata": {},
     "output_type": "display_data"
    },
    {
     "data": {
      "image/png": "[encoded data removed]",
      "text/plain": [
       "plot without title"
      ]
     },
     "metadata": {},
     "output_type": "display_data"
    }
   ],
   "source": [
    "# geomnet is pre-loaded\n",
    "\n",
    "# Merge edges and vertices\n",
    "mmnet <- merge(madmen$edges, madmen$vertices,\n",
    "               by.x = \"Name1\", by.y = \"label\",\n",
    "               all = TRUE)\n",
    "\n",
    "# Finish the ggplot command\n",
    "ggplot(data = mmnet, aes(from_id = Name1, to_id = Name2)) +\n",
    "  geom_net(aes(col=Gender), size = 6, linewidth = 1, labelon = TRUE, fontsize = 3, labelcolour = \"black\")"
   ]
  },
  {
   "cell_type": "code",
   "execution_count": null,
   "metadata": {
    "collapsed": true
   },
   "outputs": [],
   "source": [
    "Adjusting the network\n",
    "100xp\n",
    "Let's clean up the network a bit. As you can see, since this is in the ggplot2 framework, you can manually adjust the scales like you have always done.\n",
    "\n",
    "Here you're going to use another trick to remove all theme elements and make a clean network plot.\n",
    "\n",
    "Instructions\n",
    "Make the edged directed by setting directed = TRUE inside geom_net.\n",
    "Add a scale_color_manual() call and therein, set values = c(\"#FF69B4\", \"#0099ff\").\n",
    "Add an xlim() layer and set it to c(-0.05, 1.05).\n",
    "Add a ggmap::theme_nothing() layer. This will remove (almost) all theme elements. Make sure to keep the legend by setting legend = TRUE.\n",
    "Add a theme() layer and set the legend.key argument to element_blank()."
   ]
  },
  {
   "cell_type": "code",
   "execution_count": 5,
   "metadata": {},
   "outputs": [
    {
     "ename": "ERROR",
     "evalue": "Error in library(ggmap): there is no package called 'ggmap'\n",
     "output_type": "error",
     "traceback": [
      "Error in library(ggmap): there is no package called 'ggmap'\nTraceback:\n",
      "1. library(ggmap)",
      "2. stop(txt, domain = NA)"
     ]
    }
   ],
   "source": [
    "library(ggmap)"
   ]
  },
  {
   "cell_type": "code",
   "execution_count": 8,
   "metadata": {},
   "outputs": [
    {
     "name": "stderr",
     "output_type": "stream",
     "text": [
      "Warning message:\n",
      "\"`panel.margin` is deprecated. Please use `panel.spacing` property instead\""
     ]
    },
    {
     "data": {},
     "metadata": {},
     "output_type": "display_data"
    },
    {
     "data": {
      "image/png": "[encoded data removed]",
      "text/plain": [
       "plot without title"
      ]
     },
     "metadata": {},
     "output_type": "display_data"
    }
   ],
   "source": [
    "# geomnet is pre-loaded\n",
    "\n",
    "# Merge edges and vertices\n",
    "mmnet <- merge(madmen$edges, madmen$vertices,\n",
    "               by.x = \"Name1\", by.y = \"label\",\n",
    "               all = TRUE)\n",
    "\n",
    "# Tweak the network plot\n",
    "ggplot(data = mmnet, aes(from_id = Name1, to_id = Name2)) +\n",
    "  geom_net(aes(col = Gender),\n",
    "           size = 6,\n",
    "           linewidth = 1,\n",
    "           labelon = TRUE,\n",
    "           fontsize = 3,\n",
    "           labelcolour = \"black\",\n",
    "           directed = TRUE) +\n",
    "  scale_color_manual(values = c(\"#FF69B4\", \"#0099ff\")) + \n",
    "  xlim(c(-0.05, 1.05)) +\n",
    "  ggmap::theme_nothing(legend = TRUE) +\n",
    "  theme(legend.key = element_blank())"
   ]
  },
  {
   "cell_type": "code",
   "execution_count": null,
   "metadata": {
    "collapsed": true
   },
   "outputs": [],
   "source": [
    "Altohough blue and pink are typical colours from male and female, feel free to break gender stereotypes!"
   ]
  },
  {
   "cell_type": "markdown",
   "metadata": {},
   "source": [
    "## Diagnostic Plots - Video"
   ]
  },
  {
   "cell_type": "code",
   "execution_count": null,
   "metadata": {
    "collapsed": true
   },
   "outputs": [],
   "source": [
    "Autoplot on linear models\n",
    "100xp\n",
    "R has several plotting methods for specific objects. For example using plot() on the results of an lm() call results in four plots that give you insight into how well the assigned model fits the data.\n",
    "\n",
    "The ggfortify package is an all-purpose plot converter between base graphics and ggplot2 grid graphics.\n",
    "\n",
    "You'll explore exactly what we mean by graphics and grid in chapter 4. For now, just know that if you want to use the automatic output features in the context of ggplot2, they must first be converted to a ggplot object via ggfortify. This can be important at the superficial level, for consistency in appearance, but also at a deeper level, for later combining several plots in a single graphics device.\n",
    "\n",
    "Instructions\n",
    "Create a linear model, called res, defined by Volume ~ Girth, variables found in the trees data frame.\n",
    "Use plot() to visualize res.\n",
    "Load the ggfortify package and use autoplot() on res, and ncol = 2 to convert this to a ggplot2 plot."
   ]
  },
  {
   "cell_type": "code",
   "execution_count": null,
   "metadata": {
    "collapsed": true
   },
   "outputs": [],
   "source": [
    "# Create linear model: res\n",
    "res <- lm(Volume~Girth, data = trees)\n",
    "\n",
    "# Plot res\n",
    "plot(res)\n",
    "\n",
    "# Import ggfortify and use autoplot()\n",
    "library(ggfortify)\n",
    "autoplot(res, ncol=2)\n"
   ]
  },
  {
   "cell_type": "markdown",
   "metadata": {},
   "source": [
    "Amazing Autoplot! The lm plots are incredibly informative diagnostic plots, that you can now manipulate within a ggplot2 framework."
   ]
  },
  {
   "cell_type": "code",
   "execution_count": null,
   "metadata": {
    "collapsed": true
   },
   "outputs": [],
   "source": [
    "ggfortify - time series\n",
    "100xp\n",
    "Time series objects (class mts or ts) also have their own methods for plot(). ggfortify can also take advantage of this functionality.\n",
    "\n",
    "In the workspace, you'll find the variable Canada (it comes from the vars package): an mts class object with four series: prod is a measure of labour productivity, e is employment, U is the unemployment rate, and rw the real wage. They are each plotted as separate series by default.\n",
    "\n",
    "Instructions\n",
    "Inspect the structure of Canada; can you figure out which class the object is?\n",
    "Call plot() on Canada\n",
    "Call autoplot() on Canada and compare the plot with the previous one."
   ]
  },
  {
   "cell_type": "code",
   "execution_count": null,
   "metadata": {
    "collapsed": true
   },
   "outputs": [],
   "source": [
    "# ggfortify and Canada are available\n",
    "\n",
    "# Inspect structure of Canada\n",
    "str(Canada)\n",
    "\n",
    "# Call plot() on Canada\n",
    "plot(Canada)\n",
    "\n",
    "# Call autoplot() on Canada\n",
    "autoplot(Canada)\n"
   ]
  },
  {
   "cell_type": "code",
   "execution_count": null,
   "metadata": {
    "collapsed": true
   },
   "outputs": [],
   "source": [
    "Master mts! The time-series and multiple time-series class objets are flexible and common formats."
   ]
  },
  {
   "cell_type": "code",
   "execution_count": null,
   "metadata": {
    "collapsed": true
   },
   "outputs": [],
   "source": [
    "### Distance matrices and Multi-Dimensional Scaling (MDS)\n",
    "100xp\n",
    "As you can probably imagine, distance matrices (class dist) contain the measured distance between all pair-wise combinations of many points. For example, the eurodist dataset contains the distances between major European cities. dist objects lend themselves well to autoplot().\n",
    "\n",
    "The cmdscale() function from the stats package performs Classical Multi-Dimensional Scaling and returns point coodinates as a matrix. Although autoplot() will work on this object, it will produce a heatmap, and not a scatter plot. However, if either eig = TRUE, add = TRUE or x.ret = TRUE is specified, cmdscale() will return a list instead of matrix. In these cases, the list method for autoplot() in the ggfortify package can deal with the output. Specifics on multi-dimensional scaling is beyond the scope of this course, however details on the method and these arguments can be found in the help pages ?cmdscale.\n",
    "\n",
    "Instructions\n",
    "Call autoplot() on the eurodist distance matrix.\n",
    "It's a ggplot2 object, so use coord_fixed() to set a 1:1 aspect ratio.\n",
    "Call autoplot() on cmdscale(eurodist, eig = TRUE). Some arguments for autoplot() have been specified for you.:\n",
    "label = TRUE, label.size = 3 labels each point, and\n",
    "size = 0 removes the dots."
   ]
  },
  {
   "cell_type": "code",
   "execution_count": null,
   "metadata": {
    "collapsed": true
   },
   "outputs": [],
   "source": [
    "# ggfortify and eurodist are available\n",
    "# Autoplot + ggplot2 tweaking\n",
    "autoplot(eurodist) + \n",
    "  coord_fixed()\n",
    "\n",
    "# Autoplot of MDS\n",
    "autoplot(cmdscale(eurodist, eig = TRUE), \n",
    "         label = TRUE, \n",
    "         label.size = 3, \n",
    "         size = 0)"
   ]
  },
  {
   "cell_type": "code",
   "execution_count": null,
   "metadata": {
    "collapsed": true
   },
   "outputs": [],
   "source": [
    " It's so easy to apply everything we learned from the first two classes to special types of analysis."
   ]
  },
  {
   "cell_type": "markdown",
   "metadata": {},
   "source": [
    "Plotting K-means clustering\n",
    "100xp\n",
    "ggfortify also supports stats::kmeans class objects. You must explicitly pass the original data to the autoplot function via the data argument, since kmeans objects don't contain the original data. The result will be automatically colored according to cluster.\n",
    "\n",
    "Here, you'll use the iris dataset and just look at K-means clustering, although this works on many clustering methods, including cluster::clara(), cluster::fanny(), cluster::pam() and stats::prcomp(). Unfortunately a discussion of these clustering methods is beyond the scope of this course.\n",
    "\n",
    "Instructions\n",
    "Use kmeans(), a function in the stats package, to perform clustering on iris[-5] with 3 groups. Store the result as iris_k (You odn't need to specify stats::).\n",
    "Use iris_k in autoplot(), and set data = iris. In addition, set frame = TRUE to draw a polygon around each cluster.\n",
    "The previous plot colored the points according to cluster. Copy and paste the command, and add shape = 'Species' to map Species onto the shape aesthetic (you don't need aes() here). This is pretty interesting, since our points are coloured by cluster, and we can see each species (and mis-matches) by shape."
   ]
  },
  {
   "cell_type": "code",
   "execution_count": 9,
   "metadata": {},
   "outputs": [
    {
     "ename": "ERROR",
     "evalue": "Error: Objects of type kmeans not supported by autoplot.\n",
     "output_type": "error",
     "traceback": [
      "Error: Objects of type kmeans not supported by autoplot.\nTraceback:\n",
      "1. autoplot(iris_k, data = iris, frame = TRUE)",
      "2. autoplot.default(iris_k, data = iris, frame = TRUE)",
      "3. stop(\"Objects of type \", paste(class(object), collapse = \"/\"), \n .     \" not supported by autoplot.\", call. = FALSE)"
     ]
    }
   ],
   "source": [
    "# Perform clustering\n",
    "iris_k <- kmeans(iris[-5], 3)\n",
    "\n",
    "# Autoplot: color according to cluster\n",
    "autoplot(iris_k, data = iris, frame = TRUE)\n",
    "\n",
    "# Autoplot: above, plus shape according to species\n",
    "autoplot(iris_k, data = iris, frame = TRUE,shape = 'Species')"
   ]
  },
  {
   "cell_type": "code",
   "execution_count": null,
   "metadata": {
    "collapsed": true
   },
   "outputs": [],
   "source": [
    " The different coloring gives an entirely different picture! It seems like your clustering wasn't that successful…"
   ]
  },
  {
   "cell_type": "markdown",
   "metadata": {},
   "source": [
    "# 3. Plots for specific data types (Part 2)"
   ]
  },
  {
   "cell_type": "markdown",
   "metadata": {},
   "source": [
    "## Choropleths - Video"
   ]
  },
  {
   "cell_type": "code",
   "execution_count": null,
   "metadata": {
    "collapsed": true
   },
   "outputs": [],
   "source": [
    "# maps, ggplot2, and ggmap are pre-loaded\n",
    "# Use map_data() to create usa and inspect\n",
    "usa <- map_data(\"usa\")\n",
    "str(usa)\n",
    "\n",
    "# Build the map\n",
    "ggplot(usa, aes(x = long, y = lat, group = group)) +\n",
    "  geom_polygon() +\n",
    "  coord_map() +\n",
    "  theme_nothing()"
   ]
  },
  {
   "cell_type": "code",
   "execution_count": null,
   "metadata": {
    "collapsed": true
   },
   "outputs": [],
   "source": [
    "Note that if you're familiar with coordinate reference systems (CRS) you can also define your own in the coord_map() layer."
   ]
  },
  {
   "cell_type": "code",
   "execution_count": null,
   "metadata": {
    "collapsed": true
   },
   "outputs": [],
   "source": [
    "Working with maps from the maps package: adding points\n",
    "100xp\n",
    "Now that you have some polygons, there are a number of things you can do. Here you'll add some data points, namely the location of US cities with a population over 100,000 (population estimation as of 2015). Since you're only looking at the continental US, Honolulu, Hawaii and Anchorage, Alaska are not included.\n",
    "\n",
    "The data is stored in the cities data frame. You'll begin by drawing points of varying sizes, relative to the estimated population. An alternative is to use color instead of size, and in this case a nice trick is to order the data frame, so that the largest cities are drawn on top of the smaller cities. This is so that they will stand out against the background, which is particularly effective when using the viridis color palette.\n",
    "\n",
    "Instructions\n",
    "Finish the first plot:\n",
    "In the geom_point() layer: set data = cities, and inside aes(), map State onto group and Pop_est onto size. These are both variables in cities. The x and y aesthetics will be inherited from the original aes() definitions. Further customisations on geom_point() have been provided.\n",
    "The code to create an arranged version of cities has already been provided.\n",
    "Copy-paste the code for the first plot, and adapt it:\n",
    "In the geom_polygon() layer, set fill equal to \"grey90\".\n",
    "Use cities_arr instead of cities inside geom_point().\n",
    "Map Pop_est onto col instead of onto size. Make sure to remove the col = \"red\" part! Also, set size = 2.\n",
    "Add scale_color_viridis() to the end of the ggplot()"
   ]
  },
  {
   "cell_type": "code",
   "execution_count": null,
   "metadata": {
    "collapsed": true
   },
   "outputs": [],
   "source": [
    "# usa, cities, and all required packages are available\n",
    "\n",
    "# Finish plot 1\n",
    "ggplot(usa, aes(x = long, y = lat, group = group)) +\n",
    "  geom_polygon() +\n",
    "  geom_point(data = cities, aes(group = State, size = Pop_est),\n",
    "             col = \"red\", shape = 16, alpha = 0.6) +\n",
    "  coord_map() +\n",
    "  theme_map()\n",
    "\n",
    "# Arrange cities\n",
    "library(dplyr)\n",
    "cities_arr <- arrange(cities, Pop_est)\n",
    "\n",
    "# Copy-paste plot 1 and adapt\n",
    "ggplot(usa, aes(x = long, y = lat, group = group)) +\n",
    "  geom_polygon(fill=\"grey90\") +\n",
    "  geom_point(data = cities_arr, aes(group = State, col = Pop_est),\n",
    "             size=2, shape = 16, alpha = 0.6) +\n",
    "  coord_map() +\n",
    "  theme_map() +\n",
    "  scale_color_viridis()\n",
    "\n",
    "\n"
   ]
  },
  {
   "cell_type": "markdown",
   "metadata": {},
   "source": [
    "New York appears as a bright yellow anomly in a sea of darker points. If you didn't set the order of the data, this point would have been obscured. You can also see LA, Chicago and Houston as lighter blue points."
   ]
  },
  {
   "cell_type": "code",
   "execution_count": null,
   "metadata": {
    "collapsed": true
   },
   "outputs": [],
   "source": [
    "State choropleth\n",
    "100xp\n",
    "To make a choropleth (a map in which areas are shaded according to some measure) you'll need information on state boundaries, which you can find in the maps package. Once the map information is converted into a data frame, you can merge this with another data frame containing some quantitative information, like the estimated population, and use that variable in our aesthetic mappings.\n",
    "\n",
    "Instructions\n",
    "Call map_data() on \"state\" and to create the state data frame.\n",
    "Create a first plot, from scratch:\n",
    "Use the state data\n",
    "Map lat, long, and group onto the appropriate aesthetics, as before. In addition, map region onto the fill aesthetic.\n",
    "Add the geom_polygon() layer, and set col = \"white\".\n",
    "Add coord_map() to better shape the map.\n",
    "Add theme_nothing() to remove the legend, because it's not that informative.\n",
    "To make the plot more meaningful, execute the merge() command to bring together state and pop, which contains the Pop_est variable - the 2015 population estimate for each US state. The result is stored as state2.\n",
    "Copy-paste the first plot, and adapt it:\n",
    "Use state2 instead of state.\n",
    "Instead of assigning region to fill, use Pop_est.\n",
    "Use theme_map instead of theme_nothing, so the legend is displayed."
   ]
  },
  {
   "cell_type": "code",
   "execution_count": null,
   "metadata": {
    "collapsed": true
   },
   "outputs": [],
   "source": [
    "# pop and all required packages are available\n",
    "\n",
    "# Use map_data() to create state\n",
    "state <- map_data(\"state\")\n",
    "\n",
    "# Map of states\n",
    "ggplot(state, aes(x = long, y = lat, fill = region, group = group)) +\n",
    "  geom_polygon(col = \"white\") +\n",
    "  coord_map() +\n",
    "  theme_nothing()\n",
    "\n",
    "# Merge state and pop: state2\n",
    "state2 <- merge(state, pop)\n",
    "\n",
    "# Map of states with populations\n",
    "ggplot(state2, aes(x = long, y = lat, fill = Pop_est, group = group)) +\n",
    "  geom_polygon(col = \"white\") +\n",
    "  coord_map() +\n",
    "  theme_map()\n"
   ]
  },
  {
   "cell_type": "code",
   "execution_count": null,
   "metadata": {
    "collapsed": true
   },
   "outputs": [],
   "source": [
    "Map from shapefiles\n",
    "100xp\n",
    "Although the built-in maps from the maps package are very convenient, using shapefiles is a more flexible way of accessing geographic and political boundaries.\n",
    "\n",
    "Shapefiles can be used to describe points, polylines or polygons - here you'll focus on polygons for drawing maps.\n",
    "\n",
    "A single shapefile actually consists of several files, each describing a specific aspect of the overall geometry. The three core file types are:\n",
    "\n",
    ".shp: the shape, the feature geometry itself.\n",
    ".shx: the shape index, a positional index.\n",
    ".dbf: the attribute, attributes for each shape arranged in columns.\n",
    "The prefix name of these files must be consistent and they must be kept in the same directory. The files you'll use are for Germany, and all begin with DEU. The suffix specifies the level of organization:\n",
    "\n",
    "DEU_adm0 is the administrative (political) boundaries of the entire country (like the usa object before)\n",
    "DEU_adm1 is the administrative boundaries for each of the 16 states (like the state object before)\n",
    "Let's start by importing the shapefile and creating a map of Germany. All shapefiles you need are in the shapes folder of your working directory; you can check it out with dir(). In the next exercise, you'll take things one step further.\n",
    "\n",
    "NOTE: Building these maps is computationally heavy, so it can take some time before you see your results.\n",
    "\n",
    "Instructions\n",
    "Use readOGR() to read in the shapefiles and store the data as germany. It takes two arguments:\n",
    "dsn, data source name, the folder of the shapefiles. Should be \"shapes\".\n",
    "layer, the level you are interested in. You want state information, so \"DEU_adm1\".\n",
    "Convert the shape object germany into a data frame with the fortify() function. Assign the output to the object bundes (shorthand for Bundesland the german word for state).\n",
    "Create a map of bundes:\n",
    "Map lat, long and group on the appropriate aesthetics like before.\n",
    "Add a polygon geom, and use fill = \"blue\" and col = \"white\".\n",
    "Finally, add coord_map() and theme_nothing() to make things look nicer."
   ]
  },
  {
   "cell_type": "code",
   "execution_count": null,
   "metadata": {
    "collapsed": true
   },
   "outputs": [],
   "source": [
    "# All required packages are available\n",
    "# Import shape information: germany\n",
    "germany <- readOGR(dsn = \"shapes\", layer = \"DEU_adm1\")\n",
    "\n",
    "# fortify germany: bundes\n",
    "bundes <- fortify(germany)\n",
    "\n",
    "# Plot map of germany\n",
    "ggplot(bundes, aes(x = long, y = lat, group = group)) +\n",
    "    geom_polygon(fill=\"blue\", col=\"white\") +\n",
    "    coord_map() +\n",
    "    theme_nothing()\n",
    "    "
   ]
  },
  {
   "cell_type": "code",
   "execution_count": null,
   "metadata": {
    "collapsed": true
   },
   "outputs": [],
   "source": [
    " You can also imagine that it would be possible to draw single layers, like only the shape for Berlin."
   ]
  },
  {
   "cell_type": "code",
   "execution_count": null,
   "metadata": {
    "collapsed": true
   },
   "outputs": [],
   "source": [
    "Choropleth from shapefiles\n",
    "100xp\n",
    "Now that you have the shape data a neatly formatted data frame called bundes, you can easily merge it with state-level data. germany, bundes and unemp (a data frame on unemployment in Germany) is available in your workspace. Can you do some data munging and then make a fancy choropleth?\n",
    "\n",
    "If you check out bundes, you'll see that you've lost the state names, so merging isn't going to work out of box. That's why we've added two lines of code in the editor, to re-add state names.\n",
    "\n",
    "NOTE: Building these choropleths is computationally heavy, so it can take some time before you see your results\n",
    "\n",
    "Instructions\n",
    "Merge together bundes and unemp and store the result as bundes_unemp.\n",
    "Adapt the first ggplot, coming from the previous exercise:\n",
    "Use bundes_unemp instead of bundes\n",
    "Add an aesthetic mapping: map unemployment onto fill\n",
    "Remove the fill and col settings from geom_polygon()\n",
    "Use theme_map() instead of theme_nothing()"
   ]
  },
  {
   "cell_type": "code",
   "execution_count": null,
   "metadata": {
    "collapsed": true
   },
   "outputs": [],
   "source": [
    "# germany, bundes and unemp are available\n",
    "\n",
    "# re-add state names to bundes\n",
    "bundes$state <- factor(as.numeric(bundes$id))\n",
    "levels(bundes$state) <- germany$NAME_1\n",
    "\n",
    "# Merge bundes and unemp: bundes_unemp\n",
    "bundes_unemp = merge(bundes, unemp)\n",
    "\n",
    "# Update the ggplot call\n",
    "ggplot(bundes_unemp, aes(x = long, y = lat, group = group, fill=unemployment)) +\n",
    "  geom_polygon(fill = \"blue\", col = \"white\") +\n",
    "  coord_map() +\n",
    "  theme_map()"
   ]
  },
  {
   "cell_type": "markdown",
   "metadata": {},
   "source": [
    "At the outset this looks fine, but if you count the states, you'll see you only have 14! The reason is that Berlin and Bremen are city-states located within the shape definitions of other states. You can solve this by reording the data (like you did before), or by adding two specific layers, for example, geom_polygon(data = subset(bundes_unemp, id == \"Berlin\"))."
   ]
  },
  {
   "cell_type": "markdown",
   "metadata": {},
   "source": [
    "## Cartographic Maps - Video"
   ]
  },
  {
   "cell_type": "markdown",
   "metadata": {},
   "source": [
    "### Different templates\n",
    "100xp\n",
    "ggmap provides the get_map() function to access google maps. Only one argument, location is essential. Other than that, there are a bunch of arguments you can set, such as zoom, maptype (how do you want your map to look?) and source (where to get your data from?).\n",
    "\n",
    "There are several default map types you can use for cartographic maps. For example, \"toner\" is a black and white theme, but you can also ask for pure satellite images or a hybrid image, showing the major roads and cities.\n",
    "\n",
    "Instructions\n",
    " - Load the ggmap package.\n",
    " - Use get_map() to access the map for \"London, England\". By default, it will ask Google about some data. Set the zoom = 13 and store the result as london_map_13.\n",
    " - Instead of using ggplot() like you're used to, use ggmap(). Simply pass the object you've created in the previous step.\n",
    " - Experiment with the arguments of get_map: try different arguments of source and maptype, like Rick showed in the videos. As an example, you can set maptype = \"toner\" and source = \"stamen\". Or what about maptypte = \"hybrid\"? Make sure to ggmap() the resulting objects!"
   ]
  },
  {
   "cell_type": "code",
   "execution_count": null,
   "metadata": {
    "collapsed": true
   },
   "outputs": [],
   "source": [
    "# Load the ggmap package\n",
    "library(ggmap)\n",
    "\n",
    "# Create london_map_13 with get_map\n",
    "london_map_13 = get_map(\"London, England\",zoom = 13)\n",
    "\n",
    "# Create the map of london\n",
    "ggmap(london_map_13)\n",
    "\n",
    "# Experiment with get_map() and use ggmap() to plot it!\n",
    "london_map_13 = get_map(\"London, England\",maptype = \"toner\" , source = \"stamen\")\n",
    "ggmap(london_map_13)\n"
   ]
  },
  {
   "cell_type": "code",
   "execution_count": null,
   "metadata": {
    "collapsed": true
   },
   "outputs": [],
   "source": [
    "Mapping points onto a cartographic map\n",
    "100xp\n",
    "Now that you know how to get a cartographic map, you'll use ggplot2 layers to add points. The object london_sites, that's available in your workspace, is a character vector of some locations you'd like to plot. You'll add points to the cartographic map you derived in the previous exercise.\n",
    "\n",
    "Instructions\n",
    "Use geocode(), another ggmap function, to search google maps for the latitude and longitude of the locations in london_sites. Assign the output to the object xx.\n",
    "Add a column to xx, called location. Populate it with a cleaned up version of london_sites: use sub() to replace \", London\" by an empty string: \"\".\n",
    "Now that you have xx, you can extend the ggmap() call by adding a geom_point() layer:\n",
    "Use xx for the data.\n",
    "Add an aes() function to map location onto col.\n",
    "Outside of the aes() function, set size = 6, so the dots stand out."
   ]
  },
  {
   "cell_type": "code",
   "execution_count": null,
   "metadata": {
    "collapsed": true
   },
   "outputs": [],
   "source": [
    "> london_sites\n",
    "[1] \"Tower of London, London\"             \n",
    "[2] \"Buckingham Palace, London\"           \n",
    "[3] \"Tower Bridge, London\"                \n",
    "[4] \"Westminster Abbey, London\"           \n",
    "[5] \"Queen Elizabeth Olympic Park, London\""
   ]
  },
  {
   "cell_type": "code",
   "execution_count": null,
   "metadata": {
    "collapsed": true
   },
   "outputs": [],
   "source": [
    "# london_sites and ggmap are available\n",
    "\n",
    "# Use geocode() to create xx\n",
    "xx =geocode(london_sites)\n",
    "\n",
    "# Add a location column to xx\n",
    "xx$location = sub(\", London\",\"\", london_sites)\n",
    "\n",
    "# Get map data\n",
    "london_ton_13 <- get_map(location = \"London, England\", zoom = 13,\n",
    "                         source = \"stamen\", maptype = \"toner\")\n",
    "\n",
    "# Add a geom_points layer\n",
    "ggmap(london_ton_13) + \n",
    "geom_point(xx, aes(long, lat, col=location), size=6)"
   ]
  },
  {
   "cell_type": "code",
   "execution_count": null,
   "metadata": {
    "collapsed": true
   },
   "outputs": [],
   "source": [
    "Nice! But… Notice the warning message; one location is missing: Queen Elizabeth Olympic Park!"
   ]
  },
  {
   "cell_type": "markdown",
   "metadata": {},
   "source": [
    "### Using a bounding box\n",
    "100xp\n",
    "In the previous exercise, one of the sites in london_sites was missing. That's because your map data was fetched before you knew what you wanted to plot.\n",
    "\n",
    "Instead of defining your cartographic map based on a general location, you can define a bounding box around specific coordinates. You have these coordinates already since you used geocode() to find the latitude and longitude of the sites in London. Everything you need to build the bounding box is inside xx!\n",
    "\n",
    "Instructions\n",
    " - Use make_bbox() to create a bounding box, bbox. You'll need three arguments: a vector of longitudes (lon), a vector of latitudes (lan, both stored in xx), and the buffering adjustment f (set it to 0.3).\n",
    " - Re-run the get_map() function to update it with location = bbox (keep the other arguments).\n",
    " - The map function from the previous exercise is included. It shouldn't discard any points this time!\n",
    " - Create a new map, showing labels of the sites in London instead of colored points and a legend:\n",
    " - In the geom_label() layer, map location onto label.\n",
    " - Set the attributes size = 4, fontface = \"bold\", fill = \"grey90\", col = \"#E41A1C\""
   ]
  },
  {
   "cell_type": "code",
   "execution_count": null,
   "metadata": {
    "collapsed": true
   },
   "outputs": [],
   "source": [
    "# london_sites and ggmap are available\n",
    "\n",
    "# Build xx\n",
    "xx <- geocode(london_sites)\n",
    "xx$location <- sub(\", London\", \"\", london_sites)\n",
    "xx$location[5] <- \"Queen Elizabeth\\nOlympic Park\"\n",
    "\n",
    "# Create bounding box: bbox\n",
    "bbox <- make_bbox(lon = xx$lon, lat = xx$lat, f = 0.3)\n",
    "\n",
    "# Re-run get_map to use bbox\n",
    "london_ton_13 <- get_map(location = bbox, zoom = 13,\n",
    "                         source = \"stamen\", maptype = \"toner\")\n",
    "\n",
    "# Map from previous exercise\n",
    "ggmap(london_ton_13) +\n",
    "  geom_point(data = xx, aes(col = location), size = 6)\n",
    "\n",
    "# New map with labels\n",
    "ggmap(london_ton_13) +\n",
    "  geom_label(data = xx, aes(label = location), size = 4, \n",
    "             fontface = \"bold\", fill = \"grey90\", \n",
    "             col = \"#E41A1C\")\n",
    "             "
   ]
  },
  {
   "cell_type": "markdown",
   "metadata": {},
   "source": [
    "### Combine cartographic and choropleth maps\n",
    "100xp\n",
    "\n",
    "Instead of plotting points on a cartographic map, you can also draw polygons, similar to what you saw earlier in this chapter.\n",
    "\n",
    "The polygons come from the shapefile for the German states that you used previously. You'll use the data frame version, bundes, because it's more flexible. The data frame is already available in your workspace, so you can get started straight away!\n",
    "\n",
    "Instructions\n",
    " - First, use get_map to get a map of \"Germany\" with a zoom of 6. This will be stored as germany_06.\n",
    " - Begin with ggmap(germany_06) to create a cartographic map with polygons on top:\n",
    " - In the geom_polygon() layer, define bundes as the data layer, and map long, lat and group on the appropriate aesthetics.\n",
    " - Some attributes have been defined for you.\n",
    " - Fix the coordinates by adding coord_map()."
   ]
  },
  {
   "cell_type": "code",
   "execution_count": null,
   "metadata": {
    "collapsed": true
   },
   "outputs": [],
   "source": [
    "# bundes is available, as are all required packages\n",
    "\n",
    "# Get the map data of \"Germany\"\n",
    "germany_06 <- get_map(location = \"Germany\", zoom = 6)\n",
    "\n",
    "# Plot map and polygon on top:\n",
    "ggmap(germany_06) +\n",
    "  geom_polygon(data = bundes,\n",
    "               aes(x = long, y = lat, group = group),\n",
    "               fill = NA, col = \"red\") +\n",
    "  coord_map()"
   ]
  },
  {
   "cell_type": "code",
   "execution_count": null,
   "metadata": {
    "collapsed": true
   },
   "outputs": [],
   "source": [
    "the possibilities with ggplot2-based plots are practically endless!"
   ]
  },
  {
   "cell_type": "markdown",
   "metadata": {},
   "source": [
    "## Animations - Video"
   ]
  },
  {
   "cell_type": "markdown",
   "metadata": {},
   "source": [
    "### The population pyramid\n",
    "100xp\n",
    "\n",
    "Animations are particularly useful for temporal or geospatial data, and they are surprisingly easy to make! Here, you simply loop over the time variable in your dataset, composing a new plot for each subset in the data. These individual images are then cataloged in an animated GIF file.\n",
    "\n",
    "To show this you'll use a great animated population pyramid that was presented on the Revolutions blog. There are many more adjustments you could have made to the plot, but we'll just make a barebones version here.\n",
    "\n",
    "Instructions\n",
    " - The japan data frame is provided for you. Inspect its structure.\n",
    " - Create a series of plots using a for loop. Use i to iterate over unique(japan$time). Inside for loop, each time create a subset of japan for which japan$time == i. Call this subset data.\n",
    " - Finish the ggplot() command that is partially provided:\n",
    " - Map AGE onto x and POP onto y.\n",
    " - Add ggtitle(i)\n",
    " - Finish the saveGIF command that wraps around the for loop: set movie.name = \"pyramid.gif\" and interval = 0.1."
   ]
  },
  {
   "cell_type": "code",
   "execution_count": null,
   "metadata": {
    "collapsed": true
   },
   "outputs": [],
   "source": [
    "# Inspect structure of japan\n",
    "str(japan)\n",
    "\n",
    "# Finish the code inside saveGIF\n",
    "saveGIF({\n",
    "\n",
    "  # Loop through all time points\n",
    "  for (i in unique(japan$time)) {\n",
    "\n",
    "    # Subset japan: data\n",
    "    data <- subset(japan, time == i)\n",
    "\n",
    "    # Finish the ggplot command\n",
    "    p <- ggplot(data, aes(x = AGE, y = POP, fill = SEX, width = 1)) +\n",
    "      coord_flip() +\n",
    "      geom_bar(data = data[data$SEX == \"Female\",], stat = \"identity\") +\n",
    "      geom_bar(data = data[data$SEX == \"Male\",], stat = \"identity\") +\n",
    "      ggtitle(i)\n",
    "\n",
    "    print(p)\n",
    "\n",
    "  }\n",
    "\n",
    "}, movie.name = \"pyramid.gif\", interval = 0.1)"
   ]
  },
  {
   "cell_type": "markdown",
   "metadata": {},
   "source": [
    "### Animations with gganimate\n",
    "\n",
    "Another method of making animations is to use the gganimate package. This provides the gg_animate() function, which is basically a convenient wrapper for the functions in the animation package, so it's pretty useful for straight-forward plots. gg_animate() provides a new aesthetic argument, frame, that allows you to side-step having to establish a for loop for each time point, like you did in the previous example.\n",
    "\n",
    "Here you'll see another example of making an animation, to cycle through years and look at changing linear models. The dataset is the Vocab data frame from the car package which you encountered in the previous course. It's already available in your workspace.\n",
    "\n",
    "Instructions\n",
    " - A basic plot of Vocab has been provided for you. Run the code and have a look. For each year, a linear model is drawn; this makes it difficult to see the change over time. All linear models are drawn at once. This makes it difficult to see the change over time.\n",
    " - Update the plot to animate it:\n",
    " - Map year onto the frame variable.\n",
    " - To preserve the cumulative effect, set cumulative = TRUE, also inside aes().\n",
    " - Call the gg_animate() function on p. Use the filename argument to save the gif as \"vocab.gif\" and set interval = 1.0."
   ]
  },
  {
   "cell_type": "code",
   "execution_count": null,
   "metadata": {
    "collapsed": true
   },
   "outputs": [],
   "source": [
    "# Vocab, gganimate and ggplot2 are available\n",
    "\n",
    "# Update the static plot\n",
    "p <- ggplot(Vocab, aes(x = education, y = vocabulary,\n",
    "                       color = year, group = year,\n",
    "                       frame = year, cumulative = TRUE)) +\n",
    "  stat_smooth(method = \"lm\", se = FALSE, size = 3)\n",
    "\n",
    "# Call gg_animate on p\n",
    "gg_animate(p, filename=\"vocab.gif\", interval = 1.0)"
   ]
  },
  {
   "cell_type": "markdown",
   "metadata": {},
   "source": [
    "# 4. ggplot2 Internals"
   ]
  },
  {
   "cell_type": "markdown",
   "metadata": {},
   "source": [
    "Viewport basics (1)\n",
    "100xp\n",
    "To get familiar with grid graphics, you'll begin with using some grid. functions. The grid package is already loaded into your R session, so you can get started straight away!\n",
    "\n",
    "Note: In DataCamp's learning interface, each change you make to the plot will appear as a new plot, so you can see the effect of each command.\n",
    "\n",
    "Instructions\n",
    "Create a rectangle with grid.rect(). Set the gp arguments, short for graphical parameters, with gpar(fill = \"grey90\"). This rectangle will be plotted in the 'null viewport'.\n",
    "Use grid.text() to write \"null viewport\" in the middle of this viewport.\n",
    "Use grid.lines() to add a line. Set x = c(0, 0.75) and y = c(0.25, 1). Again use gpar() to set gp: make it a dashed (lty = 2) red (col = \"red\") line."
   ]
  },
  {
   "cell_type": "code",
   "execution_count": null,
   "metadata": {
    "collapsed": true
   },
   "outputs": [],
   "source": [
    "# Draw rectangle in null viewport\n",
    "grid.rect(gp = gpar(fill = \"grey90\"))\n",
    "\n",
    "# Write text in null viewport\n",
    "grid.text(\"null viewport\")\n",
    "\n",
    "# Draw a line\n",
    "grid.lines(x = c(0, 0.75), y = c(0.25, 1),\n",
    "          gp = gpar(lty = 2, col = \"red\"))\n"
   ]
  },
  {
   "cell_type": "code",
   "execution_count": null,
   "metadata": {
    "collapsed": true
   },
   "outputs": [],
   "source": [
    "Viewport basics (2)\n",
    "100xp\n",
    "The code from the previous exercise that populates the null viewport with some basic shapes is already available. Let's take the next step and start manipulating the stack of viewports.\n",
    "\n",
    "Instructions\n",
    "Create a new viewport using viewport() with five arguments: x = 0.5, y = 0.5, width = 0.5, height = 0.5, and just = \"center\". Store it as vp.\n",
    "Push this viewport vp, with pushViewport().\n",
    "Use grid.rect() to populate the active viewport with a rectangle. Use gp to give the rectangle a fill = \"blue\"."
   ]
  },
  {
   "cell_type": "code",
   "execution_count": null,
   "metadata": {
    "collapsed": true
   },
   "outputs": [],
   "source": [
    "# Populate null viewport\n",
    "grid.rect(gp = gpar(fill = \"grey90\"))\n",
    "grid.text(\"null viewport\")\n",
    "grid.lines(x = c(0,0.75), y = c(0.25, 1),\n",
    "           gp = gpar(lty = 2, col = \"red\"))\n",
    "\n",
    "# Create new viewport: vp\n",
    "vp <- viewport(x = 0.5, y = 0.5, width = 0.5, height = 0.5, just = \"center\")\n",
    "\n",
    "# Push vp\n",
    "pushViewport(vp)\n",
    "\n",
    "# Populate new viewport with rectangle\n",
    "grid.rect(gp = gpar(fill = \"blue\"))"
   ]
  },
  {
   "cell_type": "code",
   "execution_count": null,
   "metadata": {
    "collapsed": true
   },
   "outputs": [],
   "source": [
    "Build a plot from scratch (1)\n",
    "100xp\n",
    "Using the viewports, you can create plots, manipulating the space as needed.\n",
    "\n",
    "In this exercise you'll establish your grid viewport and in the following exercise you'll populate it with values.\n",
    "\n",
    "Instructions\n",
    "1 - Use plotViewport() to create a plot viewport. The only argument you have to pass is a vector of margins around the plot, that is already available as mar. Store the viewport as pvp.\n",
    "2 - Push pvp with pushViewport().\n",
    "3 - Fill in the new viewport with \"grey80\" rectangle (use grid.rect() to make the rectangle and gpar() to set the graphical parameters, in this case the fill argument). The data points will appear here later on.\n",
    "dataViewport() creates a data viewport. This function takes two arguments, xData and yData, for the x and y axis data values: mtcars$wt and mtcars$mpg, respectively. The resulting viewport is stored as dvp.\n",
    "4 - Push dvp with pushViewport().\n",
    "grid.xaxis() and grid.yaxis(), without additional arguments, add the axes to your plot."
   ]
  },
  {
   "cell_type": "code",
   "execution_count": null,
   "metadata": {
    "collapsed": true
   },
   "outputs": [],
   "source": [
    "# 1 - Create plot viewport: pvp\n",
    "mar <- c(5, 4, 2, 2)\n",
    "pvp <- plotViewport(mar)\n",
    "\n",
    "# 2 - Push pvp\n",
    "pushViewport(pvp)\n",
    "\n",
    "# 3 - Add rectangle\n",
    "grid.rect(gp = gpar(fill = \"grey80\"))\n",
    "\n",
    "# Create data viewport: dvp\n",
    "dvp <- dataViewport(xData = mtcars$wt, yData = mtcars$mpg)\n",
    "\n",
    "# 4 - Push dvp\n",
    "pushViewport(dvp)\n",
    "\n",
    "# Add two axes\n",
    "grid.xaxis()\n",
    "grid.yaxis()\n"
   ]
  },
  {
   "cell_type": "markdown",
   "metadata": {
    "collapsed": true
   },
   "source": [
    "### Build a plot from scratch (2)\n",
    "100xp\n",
    "\n",
    "The work you did before to build a plot from scratch is already included. Now you're ready to add the points and the appropriate labels.\n",
    "\n",
    "Instructions\n",
    " - 1 - Use grid.text() to add text to the x axis.\n",
    " - The first argument, the label, is \"Weight\".\n",
    " - You have to set the y position of the label so it appears under the x-axis: y = unit(-3, \"lines\").\n",
    " - 2 - Use grid.text() again, this time to add text to the y-axis:\n",
    " - The label is \"MPG\".\n",
    " - You have to set the x position of the label so it appears left of the y-axis: x = unit(-3, \"lines\").\n",
    " - rot = 90 rotates the label by 90 degrees.\n",
    " - 3 - Use grid.points() to add points to plot the actual data points:\n",
    " - Set x and y equal to the wt and mpg columns in mtcars.\n",
    " - Set the plotting character, pch, to 16."
   ]
  },
  {
   "cell_type": "code",
   "execution_count": null,
   "metadata": {
    "collapsed": true
   },
   "outputs": [],
   "source": [
    "# Work from before\n",
    "pushViewport(plotViewport(c(5, 4, 2, 2)))\n",
    "grid.rect(gp = gpar())\n",
    "pushViewport(dataViewport(xData = mtcars$wt, yData = mtcars$mpg))\n",
    "grid.xaxis()\n",
    "grid.yaxis()\n",
    "\n",
    "# 1 - Add text to x axis\n",
    "grid.text(\"Weight\", y = unit(-3, \"lines\"))\n",
    "\n",
    "# 2 - Add text to y axis\n",
    "grid.text(\"MPG\", x = unit(-3, \"lines\"), rot = 90)\n",
    "\n",
    "# 3 - Add points\n",
    "grid.points(x = mtcars$wt, y = mtcars$mpg, pch = 16)"
   ]
  },
  {
   "cell_type": "markdown",
   "metadata": {},
   "source": [
    "### Modifying a plot with grid.edit\n",
    "100xp\n",
    "\n",
    "The commands you've coded up to now to create the plot are available in the editor. The great thing about grid, in comparison to base, is that you can name the different plot elements, so that you can access them and change them later on. You can do this with the grid.edit() function. Give it a try!\n",
    "\n",
    "Instructions\n",
    " - Before you can refer to the graphical elements, you have to name them.\n",
    " - The first grid.text() call was for the x axis, name it \"xaxis\".\n",
    " - The second grid.text() call was for labeling the y axis, name it \"yaxis\".\n",
    " - Finally, name the points \"datapoints\".\n",
    " - Use grid.edit() to update the label of the \"xaxis\" to \"Weight (1000 lbs)\".\n",
    " - Use grid.edit() to update the label of the \"yaxis\" to \"Miles/(US) gallon\".\n",
    " - Use grid.edit() to change the \"datapoints\": Inside a gpar() function, set col = \"#C3212766\" and cex = 2 (the character expansion)."
   ]
  },
  {
   "cell_type": "code",
   "execution_count": null,
   "metadata": {
    "collapsed": true
   },
   "outputs": [],
   "source": [
    "# Work from before\n",
    "pushViewport(plotViewport(c(5, 4, 2, 2)))\n",
    "grid.rect(gp = gpar())\n",
    "pushViewport(dataViewport(xData = mtcars$wt, yData = mtcars$mpg))\n",
    "grid.xaxis()\n",
    "grid.yaxis()\n",
    "\n",
    "# Work from before - add names\n",
    "grid.text(\"Weight\", y = unit(-3, \"lines\"), name = \"xaxis\")\n",
    "grid.text(\"MPG\", x = unit(-3, \"lines\"), rot = 90, name = \"yaxis\")\n",
    "grid.points(x = mtcars$wt, y = mtcars$mpg, pch = 16, name = \"datapoints\")\n",
    "\n",
    "# Edit \"xaxis\"\n",
    "grid.edit(\"xaxis\", label = \"Weight (1000 lbs)\")\n",
    "\n",
    "# Edit \"yaxis\"\n",
    "grid.edit(\"yaxis\",label=\"Miles/(US) gallon\")\n",
    "\n",
    "# Edit \"datapoints\"\n",
    "grid.edit(\"datapoints\",gp=gpar(col = \"#C3212766\", cex = 2))\n"
   ]
  },
  {
   "cell_type": "markdown",
   "metadata": {},
   "source": [
    "## Grid Graphics in ggplot2 - Video"
   ]
  },
  {
   "cell_type": "code",
   "execution_count": null,
   "metadata": {
    "collapsed": true
   },
   "outputs": [],
   "source": [
    "Exploring the gTable\n",
    "100xp\n",
    "In the previous chapter you saw graphical outputs using a variety of grid. functions. Graphical Objects, aka Grobs, are the object form of these items and can be found in your ggplot2 plots. Let's take a look at how these grobs are stored in ggplot objects.\n",
    "\n",
    "To start, a simple plot, p, has been coded for you.\n",
    "\n",
    "Instructions\n",
    "Use ggplotGrob() to view the grob table (gTable) of the ggplot object p, and store it as gtab.\n",
    "Print out gtab; you can identify individual parts given the name, and the corresponding cells.\n",
    "Extract the grobs from gtab with the $ notation and store it as g.\n",
    "Draw only the legend: Take the 8th element from g (use double brackets [[ ]]), and pass it to grid.draw()."
   ]
  },
  {
   "cell_type": "code",
   "execution_count": null,
   "metadata": {
    "collapsed": true
   },
   "outputs": [],
   "source": [
    "# A simple plot p\n",
    "p <- ggplot(mtcars, aes(x = wt, y = mpg, col = factor(cyl))) + geom_point()\n",
    "\n",
    "# Create gtab with ggplotGrob()\n",
    "gtab <- ggplotGrob(p)\n",
    "\n",
    "# Print out gtab\n",
    "gtab\n",
    "\n",
    "# Extract the grobs from gtab: gtab\n",
    "g <- gtab$grobs\n",
    "\n",
    "# Draw only the legend\n",
    "legend_index <- which(vapply(g, inherits, what = \"gtable\", logical(1)))\n",
    "grid.draw(g[[legend_index]])"
   ]
  },
  {
   "cell_type": "code",
   "execution_count": null,
   "metadata": {
    "collapsed": true
   },
   "outputs": [],
   "source": [
    "Modifying the gTable\n",
    "100xp\n",
    "You can visualize the layout of a gTable object with gtable_show_layout(). In the layout plot, each segment is labelled with its position.\n",
    "\n",
    "The legend, that you can access with g[[8]], is a gTable itself, so you can also show its layout. It's perfectly possible to update this layout by adding new graphical objects, similar to what you saw in the video.\n",
    "\n",
    "Instructions\n",
    "1 - Call gtable_show_layout on g[[8]] to show the layout of the legend; each segment is labelled with its position. Only the center slot, (2-2, 2-2), is populated.\n",
    "Similar to the video, you want to add a label to the bottom of the legend. A text grob has already been provided for you; try to understand the code.\n",
    "2 - Finish the gtable_add_grob() command to add to g[[8]] the grob object my_text at the third row and the second column.\n",
    "3 - Update the original gtab object by assigning new_legend to gtab$grobs[[8]].\n",
    "4 - Finally, use grid.draw() on gtab to display your updated plot."
   ]
  },
  {
   "cell_type": "code",
   "execution_count": null,
   "metadata": {
    "collapsed": true
   },
   "outputs": [],
   "source": [
    "# Code from before\n",
    "p <- ggplot(mtcars, aes(x = wt, y = mpg, col = factor(cyl))) + geom_point()\n",
    "gtab <- ggplotGrob(p)\n",
    "g <- gtab$grobs\n",
    "legend_index <- which(vapply(g, inherits, what = \"gtable\", logical(1)))\n",
    "grid.draw(g[[legend_index]])\n",
    "\n",
    "# 1 - Show layout of legend grob\n",
    "gtable_show_layout(g[[legend_index]])\n",
    "\n",
    "# Create text grob\n",
    "my_text <- textGrob(label = \"Motor Trend, 1974\", gp = gpar(fontsize = 7, col = \"gray25\"))\n",
    "\n",
    "# 2 - Use gtable_add_grob to modify original gtab\n",
    "new_legend <- gtable_add_grob(gtab$grobs[[legend_index]], my_text, 3, 2)\n",
    "\n",
    "# 3 - Update in gtab\n",
    "gtab$grobs[[legend_index]] <- new_legend\n",
    "\n",
    "# 4 - Draw gtab\n",
    "grid.draw(gtab$grobs[[legend_index]])"
   ]
  },
  {
   "cell_type": "code",
   "execution_count": null,
   "metadata": {
    "collapsed": true
   },
   "outputs": [],
   "source": [
    "Now that we can access ever grob, we can also change them to meet any need we have."
   ]
  },
  {
   "cell_type": "markdown",
   "metadata": {},
   "source": [
    "## ggplot Objects - Video"
   ]
  },
  {
   "cell_type": "markdown",
   "metadata": {},
   "source": [
    "Exploring ggplot objects\n",
    "100xp\n",
    "ggplot objects are basically just a named list that contains the information to make the actual plot. Here you'll explore the structure of this object.\n",
    "\n",
    "Instructions\n",
    "Examine the class() and names() of the object p, which is a basic ggplot object.\n",
    "Print p$scales$scales twice: once before the modification of p, once after. The first printout should show an empty lest, the second one should show a list with two ScaleContinuousPosition objects."
   ]
  },
  {
   "cell_type": "code",
   "execution_count": null,
   "metadata": {
    "collapsed": true
   },
   "outputs": [],
   "source": [
    "# Simple plot p\n",
    "p <- ggplot(mtcars, aes(x = wt, y = mpg, col = factor(cyl))) + geom_point()\n",
    "\n",
    "# Examine class() and names()\n",
    "class(p)\n",
    "names(p)\n",
    "\n",
    "# Print the scales sub-list\n",
    "p$scales$scales\n",
    "\n",
    "# Update p\n",
    "p <- p +\n",
    "  scale_x_continuous(\"Length\", limits = c(4, 8), expand = c(0, 0)) +\n",
    "  scale_y_continuous(\"Width\", limits = c(2, 4.5), expand = c(0, 0))\n",
    "\n",
    "# Print the scales sub-list\n",
    "p$scales$scales"
   ]
  },
  {
   "cell_type": "code",
   "execution_count": null,
   "metadata": {
    "collapsed": true
   },
   "outputs": [],
   "source": [
    "This is pretty detailed, but the more we can access out objects the more custom our visualisations become."
   ]
  },
  {
   "cell_type": "code",
   "execution_count": null,
   "metadata": {
    "collapsed": true
   },
   "outputs": [],
   "source": [
    "ggplot_build and ggplot_gtable\n",
    "100xp\n",
    "In the viewer we have produced a box plot of the mtcars dataset (called p) that you'll use to explore two key ggplot functions for accessing the object internals: ggplot_build() and ggplot_gtable().\n",
    "\n",
    "ggplot_build() is executed when you want to display or save an actual ggplot plot. It takes the data input and produces the visual output.\n",
    "\n",
    "Instructions\n",
    "Execute ggplot_build() on the plot p and store it as pbuild.\n",
    "Display the names() of pbuild.\n",
    "Print out each individual element in pbuild, with the $ notation.\n",
    "Call ggplot_gtable() on pbuild, to get the gTable object. Store it as gtab.\n",
    "Finish off by drawing gtab with grid.draw(); this should give the exact same output as pbuild$plot from before."
   ]
  },
  {
   "cell_type": "code",
   "execution_count": null,
   "metadata": {
    "collapsed": true
   },
   "outputs": [],
   "source": [
    "# Box plot of mtcars: p\n",
    "p <- ggplot(mtcars, aes(x = factor(cyl), y = wt)) + geom_boxplot()\n",
    "\n",
    "# Create pbuild\n",
    "pbuild <- ggplot_build(p)\n",
    "\n",
    "# a list of 3 elements\n",
    "names(pbuild)\n",
    "\n",
    "# Print out each element in pbuild\n",
    "pbuild$data\n",
    "pbuild$layout\n",
    "pbuild$plot\n",
    "pbuild$panel\n",
    "\n",
    "# Create gtab from pbuild\n",
    "gtab <- ggplot_gtable(pbuild)\n",
    "\n",
    "# Draw gtab\n",
    "grid.draw(gtab)"
   ]
  },
  {
   "cell_type": "code",
   "execution_count": null,
   "metadata": {
    "collapsed": true
   },
   "outputs": [],
   "source": [
    " Now you can see what's happening under-the-hood when you print out a plot."
   ]
  },
  {
   "cell_type": "markdown",
   "metadata": {},
   "source": [
    "Extracting details\n",
    "100xp\n",
    "In the video you saw how to change the clipping parameters of a gTable object. Here, you'll see something more practical: how to extract calculated values.\n",
    "\n",
    "Many geoms are associated with underlying descriptive statistics which are calculated and then plotted. In these cases you actually don't have the actual values that were plotted. Of course, these values are stored under the hood and you can access them in the results from ggplot_build(). This can be particularly useful for box plots. For example, since there are many methods for calculating Q1 and Q3, if you calculate your IQR and outliers outside of ggplot2 you may end up using a different method and get different results. Sometimes you want to have exactly the values that were plotted.\n",
    "\n",
    "Instructions\n",
    "ggplot_build(p)$data, which we've assigned to the object pdata, is a list with one element, which is a data frame. Confirm that pdata[[1]] is a data frame with the class() function.\n",
    "Make a copy of this data frame pdata[[1]], called my_df, for isolated use.\n",
    "If you check out the contents of my_df, you see that the group variable is simply 1, 2, and 3. Update the group column so it contains the number of cylinders instead: \"4\", \"6\", and \"8\". Actually, these variable names are stored in ggplot_build(p)$panel$ranges[[1]]$x.labels, but you can just as well fill them in manually.\n",
    "Print out my_df[c(1:6, 11)], which selects the first through the sixth and the 11th variable. This contains everything you need to know: the 5 quartiles (Q0Q0 up to Q4Q4) and the outliers (shown as dots in the plot), for each separate group."
   ]
  },
  {
   "cell_type": "code",
   "execution_count": null,
   "metadata": {
    "collapsed": true
   },
   "outputs": [],
   "source": [
    "# Box plot of mtcars: p\n",
    "p <- ggplot(mtcars, aes(x = factor(cyl), y = wt)) + geom_boxplot()\n",
    "\n",
    "# Build pdata\n",
    "pdata <- ggplot_build(p)$data\n",
    "\n",
    "# confirm that the first element of the list is a data frame\n",
    "class(pdata[[1]])\n",
    "\n",
    "# Isolate this data frame\n",
    "my_df <- pdata[[1]]\n",
    "\n",
    "# The x labels\n",
    "my_df$group <- c(\"4\", \"6\", \"8\")\n",
    "\n",
    "# Print out specific variables\n",
    "my_df[c(1:6, 11)]"
   ]
  },
  {
   "cell_type": "code",
   "execution_count": null,
   "metadata": {
    "collapsed": true
   },
   "outputs": [],
   "source": [
    "Sometimes you want to get specific information that was used to creat a plot."
   ]
  },
  {
   "cell_type": "markdown",
   "metadata": {},
   "source": [
    "## gridExtra - Video"
   ]
  },
  {
   "cell_type": "markdown",
   "metadata": {},
   "source": [
    "### Arranging plots (1)\n",
    "100xp\n",
    "\n",
    "The functions in gridExtra allow you to arrange any number of plots in a variety of ways. Since you can access the legend as a separate object, that means you can also arrange multiple plots with a single legend, as shown in the viewer. This is a good alternative to faceting, since with facets it's not possible to set a different geom for each sub-plot. Here, you can combine any variety of plots and use a consistent color scale with only one legend to unify the whole image.\n",
    "\n",
    "To do this you'll create a new arrange graphical object, using grid.arrange(), which will combine several pre-existing grobs. Just like with grid.rect() and rectGrob() there are two versions of the arrange grob, one grid.arrange() produces a graphics output, which means you just draw the item to the viewer, and arrangeGrob() which returns a graphical object, aka grob which can be further manipulated.\n",
    "\n",
    "In this exercise, you'll just create your objects and arrange them using grid.arrange(). In the first steps you created two basic plots, g1 and g2. In the next exercise you'll see what to do about the legend.\n",
    "\n",
    "Instructions\n",
    " - Add a theme() layer to point the definitions of g1 and g2:\n",
    " - Set legend.position = \"bottom\" for g1.\n",
    " - Set legend.position = \"none\" for g2.\n",
    " - Load the gridExtra package so you can use grid.arrange() in the next step.\n",
    " - Call grid.arrange() on g1 and g2, with ncol = 2."
   ]
  },
  {
   "cell_type": "code",
   "execution_count": 11,
   "metadata": {},
   "outputs": [
    {
     "data": {
      "image/png": "[encoded data removed]",
      "text/plain": [
       "plot without title"
      ]
     },
     "metadata": {},
     "output_type": "display_data"
    }
   ],
   "source": [
    "# Add a theme (legend at the bottom)\n",
    "g1 <- ggplot(mtcars, aes(wt, mpg, col = cyl)) +\n",
    "  geom_point(alpha = 0.5) +\n",
    "  theme(legend.position = \"bottom\")\n",
    "\n",
    "# Add a theme (no legend)\n",
    "g2 <- ggplot(mtcars, aes(disp, fill = cyl)) +\n",
    "  geom_histogram(position = \"identity\", alpha = 0.5, binwidth = 20) +\n",
    "  theme(legend.position = \"none\")\n",
    "\n",
    "# Load gridExtra\n",
    "library(gridExtra)\n",
    "\n",
    "# Call grid.arrange()\n",
    "grid.arrange(g1, g2, ncol = 2)"
   ]
  },
  {
   "cell_type": "markdown",
   "metadata": {},
   "source": [
    "Eventually you want to isolate the legend and have it appear as the image in the viewer, so you can let ggplot arrange it in a horizontal layout for us."
   ]
  },
  {
   "cell_type": "markdown",
   "metadata": {},
   "source": [
    "Arranging plots (2)\n",
    "100xp\n",
    "In the previous exercise you did a bare-bones arrangement of plots, but it would be nicer if the plot looks like the one that's shown in the viewer. You can imagine that you have three panels, not two. There are two asymmetrical rows, the small second row is where the legend is, and two symmetrical columns, where the plots are.\n",
    "\n",
    "To obtain this plot you need to extract the legend. You already saw this in previous exercises and it has already been done for you; the legend is available as my_legend. Next you need to arrange all the items appropriately.\n",
    "\n",
    "Instructions\n",
    "Create an updated version of g1, called g1_noleg, where the legend has been removed. Do that by adding theme(legend.position = \"none\") to g1.\n",
    "To make a good looking layout, you have to know the height of the legend. This information is in the heights element of my_legend. Take the sum() of these heights and assign them to the object legend_height.\n",
    "Arrange everything inside grid.arrange():\n",
    "The first three arguments are g1_noleg, g2 and my_legend.\n",
    "Because the layout is more exotic now, you have to define a layout_matrix; this is a matrix with values representing the plot number and the space in the layout that the plot will occupy. The matrix you thus need is matrix is matrix(c(1, 3, 2, 3), ncol = 2).\n",
    "To adjust the height of each segment in your layout matrix, you have to set the heights argument. For this, use unit.c(unit(1, \"npc\") - legend_height, legend_height). The second row takes up legend_height, the first row takes up 1 - legend_height, in units relative to the plotting device (\"npc\"). unit.c() is a special version of the standard c() function."
   ]
  },
  {
   "cell_type": "code",
   "execution_count": null,
   "metadata": {
    "collapsed": true
   },
   "outputs": [],
   "source": [
    "# ggplot2, grid and gridExtra have been loaded for you\n",
    "# Definitions of g1 and g2\n",
    "g1 <- ggplot(mtcars, aes(wt, mpg, col = cyl)) +\n",
    "  geom_point() +\n",
    "  theme(legend.position = \"bottom\")\n",
    "\n",
    "g2 <- ggplot(mtcars, aes(disp, fill = cyl)) +\n",
    "  geom_histogram(binwidth = 20) +\n",
    "  theme(legend.position = \"none\")\n",
    "\n",
    "# Extract the legend from g1\n",
    "my_legend <- ggplotGrob(g1)$grobs[[legend_index]]  \n",
    "\n",
    "# Create g1_noleg\n",
    "g1_noleg <- g1 + \n",
    "    theme(legend.position = \"none\")\n",
    "\n",
    "# Calculate the height: legend_height\n",
    "legend_height <- sum(my_legend$heights)\n",
    "\n",
    "# Arrange g1_noleg, g2 and my_legend\n",
    "grid.arrange(g1_noleg, g2, my_legend,\n",
    "             layout_matrix = matrix(c(1, 3, 2, 3), ncol = 2),\n",
    "             heights = unit.c(unit(1, \"npc\") - legend_height, legend_height))\n"
   ]
  },
  {
   "cell_type": "markdown",
   "metadata": {},
   "source": [
    "If ggplot2 doesn't provide enough customization possibilities, there's always gridExtra!"
   ]
  },
  {
   "cell_type": "markdown",
   "metadata": {},
   "source": [
    "# 5. Data Munging and Visualization Case Study"
   ]
  },
  {
   "cell_type": "markdown",
   "metadata": {},
   "source": [
    "In this chapter, you'll draw on some of the many tools for effective data visualization that we've covered over the three ggplot2 courses and combine them with some data munging techniques."
   ]
  },
  {
   "cell_type": "code",
   "execution_count": null,
   "metadata": {
    "collapsed": true
   },
   "outputs": [],
   "source": [
    "Base package bag plot\n",
    "100xp\n",
    "\n",
    "Before you create your own stats layer, you'll begin by understanding what a bag plot is, and how to get the data for your own plots.\n",
    "\n",
    "For this you'll use a fake dataset called test_data, which only contains two variables. A scatter plot is shown in the viewer.\n",
    "\n",
    "The aplpack package, which contains the bagplot() and compute.bagplot() functions, has been loaded for you.\n",
    "Instructions\n",
    "\n",
    "    Create a bag plot of test_data data frame with the bagplot() function. The data frame only has two columns, so you won't need to specify the x and y arguments.\n",
    "    Call compute.bagplot() on test_data to obtain a named list of all the statistics used to build the bag plot and assign the results to an object called bag.\n",
    "    Code to print the hull loop and hull bag are included; add code to print out the outliers (pxy.outlier)\n",
    "    Code to add point layers to highlight two of the three aforementioned components in different colors is available. Add another points() function to show the outliers in purple.\n"
   ]
  },
  {
   "cell_type": "code",
   "execution_count": null,
   "metadata": {
    "collapsed": true
   },
   "outputs": [],
   "source": [
    "# Call bagplot() on test_data\n",
    "bagplot(test_data)\n",
    "\n",
    "# Call compute.bagplot on test_data, assign to bag\n",
    "bag <- compute.bagplot(test_data)\n",
    "\n",
    "# Display information\n",
    "bag$hull.loop\n",
    "bag$hull.bag\n",
    "bag$pxy.outlier\n",
    "\n",
    "# Highlight components\n",
    "points(bag$hull.loop, col = \"green\", pch = 16)\n",
    "points(bag$hull.bag, col = \"orange\", pch = 16)\n",
    "points(bag$pxy.outlier, col = \"purple\", pch = 16)"
   ]
  },
  {
   "cell_type": "code",
   "execution_count": null,
   "metadata": {
    "collapsed": true
   },
   "outputs": [],
   "source": [
    "Bag plots are a great visualisation option, but not common, so use with caution! "
   ]
  },
  {
   "cell_type": "markdown",
   "metadata": {},
   "source": [
    "### Multilayer ggplot2 bag plot\n",
    "100xp\n",
    "\n",
    "The viewer shows the plot you created in the last exercise.\n",
    "\n",
    "With our current understanding, if we wanted to make a bag plot in ggplot2, we'd take the three data frames (for the loop, bag and outliers) and add them using three separate geom layers.\n",
    "\n",
    "Let's see how this simple solution works and in the next exercises you'll expand on this topic to make a real stats layer.\n",
    "\n",
    "The bag and test_data objects from the previous exercise are provided. test_data contains two variables: x and y.\n",
    "Instructions\n",
    "\n",
    " -  The code to convert the hull loop and hull bag matrices into data frames are included. Do a similar thing for the outliers, you saw where this is stored in the last exercise.\n",
    " -  Finish the ggplot() command:\n",
    " -  Use test_data as the 'basic data layer', and map x onto x and y onto y.\n",
    " -  The geom_polygon() calls for hull.loop and hull.bag are included. Since you have a consistent naming, these layers can inherit from the original aesthetics.\n",
    " -  Complete the last command to add a geom_point() layer for pxy.outlier. It will produce filled purple points.\n"
   ]
  },
  {
   "cell_type": "code",
   "execution_count": null,
   "metadata": {
    "collapsed": true
   },
   "outputs": [],
   "source": [
    "# bag and test_data are available\n",
    "\n",
    "# Create data frames from matrices\n",
    "hull.loop <- data.frame(x = bag$hull.loop[,1], y = bag$hull.loop[,2])\n",
    "hull.bag <- data.frame(x = bag$hull.bag[,1], y = bag$hull.bag[,2])\n",
    "pxy.outlier <- data.frame(x = bag$pxy.outlier[,1], y = bag$pxy.outlier[,2])\n",
    "\n",
    "# Finish the ggplot command\n",
    "ggplot(test_data, aes(x = x,  y = y)) +\n",
    "  geom_polygon(data = hull.loop, fill = \"green\") +\n",
    "  geom_polygon(data = hull.bag, fill = \"orange\") +\n",
    "  geom_point(data = pxy.outlier, col = \"purple\", pch = 16, cex = 1.5)"
   ]
  },
  {
   "cell_type": "code",
   "execution_count": null,
   "metadata": {
    "collapsed": true
   },
   "outputs": [],
   "source": [
    "Creating ggproto functions\n",
    "100xp\n",
    "\n",
    "Now that you know where to find the statistics and how to use them in ggplot2, let's put them into the functions that will make them easier to use.\n",
    "\n",
    "For this you'll use the ggproto object-oriented programming system - the basis of creating a new layer in ggplot2. There are four arguments for a ggproto object. The first two arguments are its name and what it inherits from (in this case Stat). Next come the required aesthetics, and then, most importantly, what the stat should do. For each group of data it receives from the data layer, what should be computed? This will simply be the calculations you performed in the previous exercise.\n",
    "\n",
    "The ggproto object definition of StatLoop is already provided. Can you finish the implementations for the other ones?\n",
    "Instructions\n",
    "\n",
    "Inspired by the implementation of StatLoop, create ggproto object definitions of StatBag and StatOut. For the former, you'll need the hull.bag element of bag, for the latter you'll need the pxy.outlier element. We saw these already in the previous exercises.\n",
    "\n",
    "Watch out: you have to use generic names now: use data$x instead of test_data$x!"
   ]
  },
  {
   "cell_type": "code",
   "execution_count": null,
   "metadata": {
    "collapsed": true
   },
   "outputs": [],
   "source": [
    "# ggproto for StatLoop (hull.loop)\n",
    "StatLoop <- ggproto(\"StatLoop\", Stat,\n",
    "                    required_aes = c(\"x\", \"y\"),\n",
    "                    compute_group = function(data, scales) {\n",
    "                      bag <- compute.bagplot(x = data$x, y = data$y)\n",
    "                      data.frame(x = bag$hull.loop[,1], y = bag$hull.loop[,2])\n",
    "                    })\n",
    "\n",
    "# ggproto for StatBag (hull.bag)\n",
    "StatBag <- ggproto(\"StatBag\", Stat,\n",
    "                   required_aes = c(\"x\", \"y\"),\n",
    "                   compute_group = function(data, scales) {\n",
    "                     bag <- compute.bagplot(x = data$x, y = data$y)\n",
    "                     data.frame(x = bag$hull.bag[,1], y = bag$hull.bag[,2])\n",
    "                   })\n",
    "\n",
    "# ggproto for StatOut (pxy.outlier)\n",
    "StatOut <- ggproto(\"StatOut\", Stat,\n",
    "                   required_aes = c(\"x\", \"y\"),\n",
    "                   compute_group = function(data, scales) {\n",
    "                     bag <- compute.bagplot(x = data$x, y = data$y)\n",
    "                     data.frame(x = bag$pxy.outlier[,1], y = bag$pxy.outlier[,2])\n",
    "                   })"
   ]
  },
  {
   "cell_type": "markdown",
   "metadata": {},
   "source": [
    "### Creating stat_bag()\n",
    "100xp\n",
    "\n",
    "In the previous exercise you established three ggproto objects, now you need to combine them under a new ggplot2 function that you'll call stat_bag().\n",
    "\n",
    "Adding a stat_bag() layer will execute each of the three ggproto objects that you just created.\n",
    "\n",
    "Your three objects are called StatLoop, StatBag, StatOut, so you'll need three layers in your stat_bag() function, which you'll make with the layer() function. When you have multiple layers, you can combine them in a list by simply calling list().\n",
    "\n",
    "For each layer, you'll also need to specify the approrpiate geom: \"polygon\" or \"point\".\n",
    "\n",
    "The framework for the stat_bag() layer function has been provided for you.\n",
    "Instructions\n",
    "\n",
    "  -  Set the default geom of stat_bag to \"polygon\", since that will be used in two of the layers.\n",
    "  -  For each of the three layers, fill in the appropriate ggproto object, that you've created in the previous exercise: StatLoop, StatBag & StatLoop.\n",
    "  -  For each of the three layers, the geom is specified. For the first two layers, it's the default (geom = geom), for the outliers, it's geom = \"point\".\n",
    "  -  Add some more default visial attributes for the first two layers: set alpha = 0.35 and col = NA.\n"
   ]
  },
  {
   "cell_type": "code",
   "execution_count": null,
   "metadata": {
    "collapsed": true
   },
   "outputs": [],
   "source": [
    "# StatLoop, StatBag and StatOut are available\n",
    "\n",
    "# Combine ggproto objects in layers to build stat_bag()\n",
    "stat_bag <- function(mapping = NULL, data = NULL, geom = \"polygon\",\n",
    "                     position = \"identity\", na.rm = FALSE, show.legend = NA,\n",
    "                     inherit.aes = TRUE, loop = FALSE, ...) {\n",
    "  list(\n",
    "    # StatLoop layer\n",
    "    layer(\n",
    "      stat = StatLoop, data = data, mapping = mapping, geom = geom, \n",
    "      position = position, show.legend = show.legend, inherit.aes = inherit.aes,\n",
    "      params = list(na.rm = na.rm, alpha = 0.35 , col = NA, ...)\n",
    "    ),\n",
    "    # StatBag layer\n",
    "    layer(\n",
    "      stat = StatBag, data = data, mapping = mapping, geom = geom, \n",
    "      position = position, show.legend = show.legend, inherit.aes = inherit.aes,\n",
    "      params = list(na.rm = na.rm, alpha = 0.35 ,col = NA, ...)\n",
    "    ),\n",
    "    # StatOut layer\n",
    "    layer(\n",
    "      stat = StatOut, data = data, mapping = mapping, geom = \"point\", \n",
    "      position = position, show.legend = show.legend, inherit.aes = inherit.aes,\n",
    "      params = list(na.rm = na.rm, alpha = 0.7, col = NA, shape = 21, ...)\n",
    "    )\n",
    "  )\n",
    "}"
   ]
  },
  {
   "cell_type": "markdown",
   "metadata": {},
   "source": [
    "Use stat_bag()\n",
    "100xp\n",
    "\n",
    "So far you've seen the basics for creating a new ggplot layer. It's bare-bones, but functional. You now have a working solution to the bag plot question.\n",
    "\n",
    "The ggplot2 command that you've coded before is available. now, let's use stat_bag() to make our plot!\n",
    "Instructions\n",
    "\n",
    "  -  Add a ggplot from scratch:\n",
    "  -  Start with the data layer: test_data; map x onto x and y onto y.\n",
    "  -  Add stat_bag() to the basic layers, and therein set fill = \"black\".\n",
    "  -  Using stat_bag() is much more efficient, but is it more flexible? Yes! Create a similar plot, but this time on test_data2. This dataset contains a variable called treatment that specifies group membership.\n",
    "  -  Start with the data layer: test_data2. Again map x and y, but also set fill = treatment.\n",
    "  -  Simply add stat_bag() again.\n"
   ]
  },
  {
   "cell_type": "code",
   "execution_count": null,
   "metadata": {
    "collapsed": true
   },
   "outputs": [],
   "source": [
    "# hull.loop, hull.bag and pxy.outlier are available\n",
    "# stat_bag, test_data and test_data2 are available\n",
    "\n",
    "# Previous method\n",
    "ggplot(test_data, aes(x = x,  y = y)) +\n",
    "  geom_polygon(data = hull.loop, fill = \"green\") +\n",
    "  geom_polygon(data = hull.bag, fill = \"orange\") +\n",
    "  geom_point(data = pxy.outlier, col = \"purple\", pch = 16, cex = 1.5)\n",
    "\n",
    "# stat_bag\n",
    "ggplot(test_data, aes(x = x, y = y)) +\n",
    "  stat_bag(fill = 'black')\n",
    "\n",
    "# stat_bag on test_data2\n",
    "ggplot(test_data2, aes(x = x, y = y, fill = treatment)) +\n",
    "  stat_bag()\n"
   ]
  },
  {
   "cell_type": "markdown",
   "metadata": {},
   "source": [
    "## Case Study II - Weather (Part 1) - Video"
   ]
  },
  {
   "cell_type": "code",
   "execution_count": null,
   "metadata": {
    "collapsed": true
   },
   "outputs": [],
   "source": [
    "Step 1: Read in data and examine\n",
    "100xp\n",
    "\n",
    "Before you can begin with your visualization you need to obtain and clean up the data. The data you're using comes from the University of Dayton.\n",
    "\n",
    "In this exercise you'll read in our data and clean it up. To start, you'll focus on the weather data from New York. It is available as a fixed-width format file called NYNEWYOR.txt.\n",
    "\n",
    "Since leap years mean that dates don't line up perfectly, you're just going to remove all occurrences of February 29.\n",
    "\n",
    "In addition, you're going to split your data in two pieces: one for the historical record, and one for 2016. You'll see how to avoid doing this later on.\n",
    "Instructions\n",
    "\n",
    "    Finish the read.fwf() (for fixed-width format files) call to read in the data. Next to the URL and the col.names, you have to specify the header (the first row does NOT contain variable names, so this is FALSE) and widths = c(14, 14, 13, 4), to specify the number of characters of each column.\n",
    "    Check out the structure of weather. Note, for example, that months are numbers, not names.\n",
    "    Use dplyr functionality to create past:\n",
    "    Use filter() on the month and day columns to remove all observations matching February 29th.\n",
    "    Use filter() again on the year column to remove all observations from the most recent year.\n",
    "    Finish off by inspecting the struture of past as well.\n"
   ]
  },
  {
   "cell_type": "code",
   "execution_count": null,
   "metadata": {
    "collapsed": true
   },
   "outputs": [],
   "source": [
    "# Import weather data\n",
    "weather <- read.fwf(\"NYNEWYOR.txt\",\n",
    "                    header = FALSE,\n",
    "                    col.names = c(\"month\", \"day\", \"year\", \"temp\"),\n",
    "                    widths = c(14, 14, 13, 4))\n",
    "\n",
    "# Check structure of weather\n",
    "str(weather)\n",
    "\n",
    "# Create past with two filter() calls\n",
    "past <- weather %>%\n",
    "  filter(!(month == 2 & day == 29)) %>%\n",
    "  filter(year != max(year))\n",
    "  \n",
    "# Check structure of past\n",
    "str(past)"
   ]
  },
  {
   "cell_type": "markdown",
   "metadata": {},
   "source": [
    "We could already think about making our script more dynamic by using lubridate::year(Sys.Date()) to extract the current year, but since our dataset ends in 2016, we can just take the max value in the year column. "
   ]
  },
  {
   "cell_type": "code",
   "execution_count": null,
   "metadata": {
    "collapsed": true
   },
   "outputs": [],
   "source": [
    "Step 2: Summarize history\n",
    "100xp\n",
    "\n",
    "Using the past data frame, you'll calculate the 95% CI for the temperatures on each date. To do this, you'll assign a unique ID, called yearday to each date. This way, you can group according to yearday, then calculate aggregrate statistics on the correct values, over all years. You could group according to month and year, but yearday will make plotting on the x axis easier later on.\n",
    "\n",
    "The past data frame that you've created before is already available in your workspace.\n",
    "\n",
    "Note: You'll use a bunch of dplyr calls here; if you want to refresh your memory on them, you can have a look at our course on dplyr.\n",
    "Instructions\n",
    "\n",
    "Chain a bunch of dplyr calls with %>% to create a new version of past called past_summ:\n",
    "\n",
    "    Use group_by() to group the data according to year.\n",
    "    Use mutate() to add a column called yearday with the values 1:length(day).\n",
    "    Ungroup the data again with ungroup().\n",
    "    Missing temperature values have a temp value equal to -99. Use filter() to remove those.\n",
    "    Use group_by() again, this time to group according to yearday\n",
    "    Use mutate() to create 5 grouped metrics based on temp:\n",
    "    max, calculated as max(temp).\n",
    "    min, with min().\n",
    "    avg, with mean().\n",
    "    CI_lower, calculated as Hmisc::smean.cl.normal(temp)[2].\n",
    "    CI_upper, calculated similarly, but taking the third element of the result of the Hmisc function.\n",
    "    Finally, ungroup the data again with ungroup().\n"
   ]
  },
  {
   "cell_type": "code",
   "execution_count": null,
   "metadata": {
    "collapsed": true
   },
   "outputs": [],
   "source": [
    "# Create new version of past\n",
    "past_summ <- past %>%\n",
    "  group_by(year) %>%\n",
    "  mutate(yearday=1:length(day)) %>%\n",
    "  ungroup() %>%\n",
    "  filter(temp!=-99) %>%\n",
    "  group_by(yearday) %>%\n",
    "  mutate(max = max(temp),\n",
    "         min = min(temp),\n",
    "         avg = mean(temp),\n",
    "         CI_lower = Hmisc::smean.cl.normal(temp)[2],\n",
    "         CI_upper = Hmisc::smean.cl.normal(temp)[3]) %>%\n",
    "  ungroup()\n",
    "\n",
    "# Structure of past_summ\n",
    "str(past_summ)"
   ]
  },
  {
   "cell_type": "code",
   "execution_count": null,
   "metadata": {
    "collapsed": true
   },
   "outputs": [],
   "source": [
    "Step 3: Plot history\n",
    "100xp\n",
    "\n",
    "Now you're ready to plot the historical record. There are couple things you can do here. The typical thing, but also pretty boring, would be to plot the average as a solid line:\n",
    "\n",
    "ggplot(past, aes(x = yearday, y = avg)) +\n",
    "  geom_line()\n",
    "\n",
    "You can do better than that by plotting a line range for the historical min-max and also the 95% CI. Very coincidentally, that's exactly the data that you've prepared in the previous exercise! The ggplot() command in the editor is a first attempt.\n",
    "\n",
    "However, since the range of values at the extremes is so sparse, it would be more accurate to represent this using points. Can you update the plot accordingly?\n",
    "Instructions\n",
    "\n",
    "    The range of values at the extremes is so sparse that it would be more accurate to represent this using points. Update the geom_linerange() layer for min and max to use geom_point() instead. Think about whether you have to keep, update or remove the aesthetic mappings here.\n",
    "    Inside geom_point(), set col = \"#EED8AE\", alpha = 0.3 and shape = 16.\n"
   ]
  },
  {
   "cell_type": "code",
   "execution_count": null,
   "metadata": {
    "collapsed": true
   },
   "outputs": [],
   "source": [
    "# Adapt historical plot\n",
    "ggplot(past, aes(x = yearday, y = temp)) + \n",
    "  geom_point(col = \"#EED8AE\", alpha = 0.3, shape = 16) +\n",
    "  geom_linerange(aes(ymin = CI_lower, ymax = CI_upper), col = \"#8B7E66\")"
   ]
  },
  {
   "cell_type": "code",
   "execution_count": null,
   "metadata": {
    "collapsed": true
   },
   "outputs": [],
   "source": [
    "Step 4: Plot present\n",
    "100xp\n",
    "\n",
    "Now that you have an idea of the historical record, you'll want to compare it to the temperature measurements of the current year. dplyr code similar to the one you've coded up to create the past data frame has been provided. Up to you to add another layer to the ggplot() command from the previous exercise!\n",
    "Instructions\n",
    "\n",
    "Add a geom_line() layer to the ggplot() command from the previous exercise:\n",
    "\n",
    "    You're dealing with a new dataset here, so make sure to specify data = present inside geom_line.\n",
    "    Do you have to specify any other aesthetics?\n"
   ]
  },
  {
   "cell_type": "code",
   "execution_count": null,
   "metadata": {
    "collapsed": true
   },
   "outputs": [],
   "source": [
    "# weather and past are available in your workspace\n",
    "\n",
    "# Create present\n",
    "present <- weather %>%\n",
    "  filter(!(month == 2 & day == 29)) %>%\n",
    "  filter(year == max(year)) %>%\n",
    "  group_by(year) %>%\n",
    "  mutate(yearday = 1:length(day)) %>%\n",
    "  ungroup() %>%\n",
    "  filter(temp != -99)\n",
    "\n",
    "# Add geom_line to ggplot command\n",
    "ggplot(past, aes(x = yearday, y = temp)) + \n",
    "  geom_point(col = \"#EED8AE\", alpha = 0.3, shape = 16) +\n",
    "  geom_linerange(aes(ymin = CI_lower, ymax = CI_upper), col = \"#8B7E66\") + \n",
    "  geom_line(data=present, aes(group=1))"
   ]
  },
  {
   "cell_type": "code",
   "execution_count": null,
   "metadata": {
    "collapsed": true
   },
   "outputs": [],
   "source": [
    "Step 5: Find new record highs\n",
    "100xp\n",
    "\n",
    "You're going to look at a couple ways of detecting interesting features in your dataset. In this case, the interesting features are going to be which dates in the current year exceed the historical record (either a new record high or low for each yearday).\n",
    "\n",
    "The first method, which you'll use here and in the next exercise, works fine, but you'll explore how to make it more efficient in later exercises.\n",
    "Instructions\n",
    "\n",
    "    Starting from past, create past_highs:\n",
    "    Use group_by() to group by yearday\n",
    "    Use summarise() to create a new variable, past_high, equal to max(temp).\n",
    "    Finish the second dplyr call to create the record_high data frame:\n",
    "    Use left_join(past_highs) to join present with past_highs.\n",
    "    Use filter() to only keep the observations for which temp is larger than past_high.\n",
    "    Use record_high to add yet another layer to the plot from before. Use geom_point(), and use col = \"#CD2626\". Add aesthetic mappings with aes() if you think is required.\n"
   ]
  },
  {
   "cell_type": "code",
   "execution_count": null,
   "metadata": {
    "collapsed": true
   },
   "outputs": [],
   "source": [
    "# Create past_highs\n",
    "past_highs <- past %>%\n",
    "  group_by(yearday) %>%\n",
    "  summarise(past_high = max(temp))\n",
    "\n",
    "# Create record_high\n",
    "record_high <- present %>%\n",
    "  left_join(past_highs) %>%\n",
    "  filter(temp > past_high)\n",
    "\n",
    "# Add record_high information to plot\n",
    "ggplot(past, aes(x = yearday, y = temp)) + \n",
    "  geom_point(col = \"#EED8AE\", alpha = 0.3, shape = 16) +\n",
    "  geom_linerange(aes(ymin = CI_lower, ymax = CI_upper), col = \"#8B7E66\") +\n",
    "  geom_line(data = present) +\n",
    "  geom_point(data = record_high, col = \"#CD2626\")\n"
   ]
  },
  {
   "cell_type": "markdown",
   "metadata": {},
   "source": [
    "### Step 6: Efficiently calculate record highs and lows\n",
    "100xp\n",
    "\n",
    "To also add the record lows to the plot, you could do the same things as in the previous exercise: create a data frame past_lows, join it with present, figure out the record lows, and add yet another layer, with a blueish color.\n",
    "\n",
    "This is not really the ggplot2 way to do things. Instead of adding two layers, and manually assigning a color, you can do something else: you can map a variable denoting a record high or low onto the color aesthetic!\n",
    "\n",
    "Here you'll combine the previous two exercises to identify the record highs and lows in one step, assign them to a new data frame called extremes, and use this to map a color aesthetic. This will make both your data munging and plotting code more efficient.\n",
    "Instructions\n",
    "\n",
    "  -  The dplyr command that creates past_extremes is already included.\n",
    "  -  Finish the second dplyr command to create record_high_low:\n",
    "  -  Instead of simply filtering out record highs or lows, use mutate() to create a new variable record.\n",
    "  -  The value of record should be \"#0000CD\" if temp < past_low.\n",
    "  -  The value of record should be \"#CD2626\" if temp > past_high.\n",
    "  -  Otherwise, record should be \"#00000000\" (transparant!). Fill these values in the the two ifelse statements.\n",
    "  -  Add a geom_point() to the ggplot() command:\n",
    "  -  Use record_high_low as dataset, and make sure to map record onto the col aesthetic.\n",
    "  -  To get the proper colors we need to use a scale_color_identity() layer as well. This takes the colour value from the actual value in the data frame (see above).\n"
   ]
  },
  {
   "cell_type": "code",
   "execution_count": null,
   "metadata": {
    "collapsed": true
   },
   "outputs": [],
   "source": [
    "# Create past_extremes\n",
    "past_extremes <- past %>%\n",
    "  group_by(yearday) %>%\n",
    "  summarise(past_low = min(temp),\n",
    "            past_high = max(temp))\n",
    "\n",
    "# Create record_high_low\n",
    "record_high_low <- present %>%\n",
    "  left_join(past_extremes) %>%\n",
    "  mutate(record = ifelse(temp < past_low, \n",
    "                         \"#0000CD\",\n",
    "                         ifelse(temp > past_high, \n",
    "                                \"#CD2626\", \n",
    "                                \"#00000000\")))\n",
    "\n",
    "# Structure of record_high_low\n",
    "str(record_high_low)\n",
    "\n",
    "# Add point layer of record_high_low\n",
    "ggplot(past, aes(x = yearday, y = temp)) + \n",
    "  geom_point(col = \"#EED8AE\", alpha = 0.3, shape = 16) +\n",
    "  geom_linerange(aes(ymin = CI_lower, ymax = CI_upper), col = \"#8B7E66\") +\n",
    "  geom_line(data = present) +\n",
    "  geom_point(data = record_high_low, aes(col = record)) +\n",
    "  scale_color_identity()\n",
    "\n"
   ]
  },
  {
   "cell_type": "markdown",
   "metadata": {},
   "source": [
    "### Step 7: Custom legend\n",
    "100xp\n",
    "\n",
    "Although you have a lot of information on your plot, the only aesthetic that you used was color, so the legend won't reflect all geoms and color attributes that you've used.\n",
    "\n",
    "This means you'll have to create your own legend. You'll do this with the grid package plotting functions that you can call after generating the ggplot itself.\n",
    "\n",
    "We've set up a new function, draw_pop_legend(), that takes 5 arguments. Your task it to complete the rest. The function will push a viewport using pushViewport(viewport()). Code to position the points, rectangle and black line has been provided for you. You should be able to understand what's happening here from the previous chapter on grid graphics. Feel free to play around with the arguments, but the defaults should work fine.\n",
    "Instructions\n",
    "\n",
    "   - Set the x, y, width, and height arguments of viewport() function with the arguments from the draw_pop_legend() function definition (that is, x, not 0.6).\n",
    "   - legend_labels and legend_position (y positions) have already been set for you. Add them, along with fontsize to grid.text().\n",
    "   - Call popViewport() at the end of the function to restore the active viewport.\n",
    "   - The plotting object from the previous exercise is available as p in your workspace. Print p to the viewer.\n",
    "   - Now call draw_pop_legend() to add a legend.\n"
   ]
  },
  {
   "cell_type": "code",
   "execution_count": null,
   "metadata": {
    "collapsed": true
   },
   "outputs": [],
   "source": [
    "# Finish the function draw_pop_legend\n",
    "draw_pop_legend <- function(x = 0.6, y = 0.2, width = 0.2, height = 0.2, fontsize = 10) {\n",
    "  \n",
    "  # Finish viewport() function\n",
    "  pushViewport(viewport(x = x, y = y, width = width, height = height, just = \"center\"))\n",
    "\n",
    "  legend_labels <- c(\"Past record high\",\n",
    "                     \"95% CI range\",\n",
    "                     \"Current year\",\n",
    "                     \"Past years\",\n",
    "                     \"Past record low\")\n",
    "\n",
    "  legend_position <- c(0.9, 0.7, 0.5, 0.2, 0.1)\n",
    "  \n",
    "  # Finish grid.text() function\n",
    "  grid.text(label = legend_labels, x = 0.12, y = legend_position, \n",
    "            just = \"left\", \n",
    "            gp = gpar(fontsize = fontsize, col = \"grey20\"))\n",
    "  \n",
    "  # Position dots, rectangle and line\n",
    "  point_position_y <- c(0.1, 0.2, 0.9)\n",
    "  point_position_x <- rep(0.06, length(point_position_y))\n",
    "  grid.points(x = point_position_x, y = point_position_y, pch = 16,\n",
    "              gp = gpar(col = c(\"#0000CD\", \"#EED8AE\", \"#CD2626\")))\n",
    "  grid.rect(x = 0.06, y = 0.5, width = 0.06, height = 0.4,\n",
    "            gp = gpar(col = NA, fill = \"#8B7E66\"))\n",
    "  grid.lines(x = c(0.03, 0.09), y = c(0.5, 0.5),\n",
    "             gp = gpar(col = \"black\", lwd = 3))\n",
    "  \n",
    "  # Add popViewport() for bookkeeping\n",
    "  popViewport()\n",
    "}\n",
    "\n",
    "# Plotting object p, from previous exercise\n",
    "p\n",
    "\n",
    "# Call draw_pop_legend()\n",
    "draw_pop_legend()"
   ]
  },
  {
   "cell_type": "markdown",
   "metadata": {},
   "source": [
    "There are a couple other ways you could have done this. You could have used ggplot2::annotate(), which is rather tedious and not as reproducible. You could have also used a layout when making the viewport, filling each segment in the viewport layout with specific elements. You could have also named each viewport so as to access the graphics objects, grobs, later on. Here, you're also neglecting checks and error messages which would ensure your function always works properly - so it's not quite ready for release into the wild. For our purposes, this working version will suffice, but in a package you'd probably want something more robust. "
   ]
  },
  {
   "cell_type": "markdown",
   "metadata": {},
   "source": [
    "## Case Study II - Weather (Part 2) - Video"
   ]
  },
  {
   "cell_type": "code",
   "execution_count": null,
   "metadata": {
    "collapsed": true
   },
   "outputs": [],
   "source": [
    "Step 1: clean_weather()\n",
    "100xp\n",
    "\n",
    "Now that you've created a unique visualization to answer a specific data analysis question, it would be nice if we can make our lives even easier. Having to continually run all the code you created previously to make your plot is a big hassle! What if you wanted to do this for many different cities?\n",
    "\n",
    "Instead of trying to combine all steps into a single function, which is what you did with the mosaic plot at the end of course 2, you'll make several stat functions which will act as layers in ggplot2 plots. This will help you to make flexible plots in the future.\n",
    "\n",
    "Let's start by making a quick and dirty function to read in and clean up the data.\n",
    "Instructions\n",
    "\n",
    "    Finish the clean_weather() function:\n",
    "    Complete the read.fwf command. The first argument is file, the only argument that's passed into the function. Make sure to specify that the first line in the file does not contain the dataset's variable names.\n",
    "    Complete the dplyr command: remove observations for the 29th of February, and filter out observations with missing temperatures, that have a temp value of -99.\n",
    "    After defining clean_weather(), call it on \"NYNEWYOR.txt\"and assign the data frame to my_data.\n"
   ]
  },
  {
   "cell_type": "code",
   "execution_count": null,
   "metadata": {
    "collapsed": true
   },
   "outputs": [],
   "source": [
    "# Finish the clean_weather function\n",
    "clean_weather <- function(file) {\n",
    "  weather <- read.fwf(file,\n",
    "                      header = FALSE,\n",
    "                      col.names = c(\"month\", \"day\", \"year\", \"temp\"),\n",
    "                      widths = c(14, 14, 13, 4))\n",
    "  weather %>%\n",
    "   filter(!(month == 2 & day == 29)) %>%\n",
    "    group_by(year) %>%\n",
    "    mutate(yearday = 1:length(day)) %>%\n",
    "    ungroup() %>%\n",
    "    filter(temp!=-99)\n",
    "}\n",
    "\n",
    "# Import NYNEWYOR.txt: my_data\n",
    "my_data <- clean_weather(\"NYNEWYOR.txt\")"
   ]
  },
  {
   "cell_type": "code",
   "execution_count": null,
   "metadata": {
    "collapsed": true
   },
   "outputs": [],
   "source": [
    "From now on, getting clean weather data will be as easy as calling clean_weather()! "
   ]
  },
  {
   "cell_type": "code",
   "execution_count": null,
   "metadata": {
    "collapsed": true
   },
   "outputs": [],
   "source": [
    "Step 2: Historical data\n",
    "100xp\n",
    "\n",
    "Let's develop the first layer to show the historical data called stat_historical(). Like before, you'll create a stats layer starts by creating a stats object with ggproto(), and then you'll create a function where you'll define a number of layers.\n",
    "\n",
    "To do this properly, you are going to define a new aesthetic inside ggproto(). This will be called \"year\", and you can map the variable year from your dataset onto this aesthetic. You'll see in a bit that this a very elegant solution.\n",
    "Instructions\n",
    "\n",
    "    Finish the definition of StatHistorical:\n",
    "    The first argument of ggproto() is the 'class name'; set it to \"StatHistorical\".\n",
    "    The compute_group() function takes three arguments: data, scales and params\n",
    "    The required aesthetics are \"x\", \"y\" and \"year\".\n",
    "    Inside the definition stat_historical:\n",
    "    Set the default geom to \"point\" in the function definition.\n",
    "    Have the first layer inherit this default geom: geom = geom\n",
    "    Make the default geom for the second layer: geom = \"linerange\".\n",
    "    In the second layer, use the stat StatHistorical, that you've just defined - quotes are not necessary here!\n",
    "    Now that you've defined stat_historical(), use it!\n",
    "    Finish the base layer: map yearday onto x, temp onto y and year onto year.\n",
    "    Add stat_historical() with default arguments.\n"
   ]
  },
  {
   "cell_type": "code",
   "execution_count": null,
   "metadata": {
    "collapsed": true
   },
   "outputs": [],
   "source": [
    "# Create the stats object\n",
    "StatHistorical <- ggproto(\"StatHistorical\", Stat,\n",
    "                    compute_group = function(data, scales , params) {\n",
    "                      data <- data %>%\n",
    "                        filter(year != max(year)) %>%\n",
    "                        group_by(x) %>%\n",
    "                        mutate(ymin = Hmisc::smean.cl.normal(y)[3],\n",
    "                               ymax = Hmisc::smean.cl.normal(y)[2]) %>%\n",
    "                        ungroup()\n",
    "                    },\n",
    "                    required_aes = c(\"x\", \"y\" , \"year\"))\n",
    "\n",
    "# Create the layer\n",
    "stat_historical <- function(mapping = NULL, data = NULL, geom = \"point\",\n",
    "                            position = \"identity\", na.rm = FALSE, show.legend = NA, \n",
    "                            inherit.aes = TRUE, ...) {\n",
    "  list(\n",
    "    layer(\n",
    "      stat = \"identity\", data = data, mapping = mapping, geom = geom,\n",
    "      position = position, show.legend = show.legend, inherit.aes = inherit.aes,\n",
    "      params = list(na.rm = na.rm, col = \"#EED8AE\", alpha = 0.3, shape = 16, ...)\n",
    "    ),\n",
    "    layer(\n",
    "      stat = StatHistorical, data = data, mapping = mapping, geom = \"linerange\",\n",
    "      position = position, show.legend = show.legend, inherit.aes = inherit.aes,\n",
    "      params = list(na.rm = na.rm, col = \"#8B7E66\", ...)\n",
    "    )\n",
    "  )\n",
    "}\n",
    "\n",
    "# Build the plot\n",
    "my_data <- clean_weather(\"NYNEWYOR.txt\")\n",
    "ggplot(my_data, aes(x = yearday, y = temp, year = year)) +\n",
    "  stat_historical()"
   ]
  },
  {
   "cell_type": "code",
   "execution_count": null,
   "metadata": {
    "collapsed": true
   },
   "outputs": [],
   "source": [
    "Step 3: Present data\n",
    "100xp\n",
    "\n",
    "Nice. Now you have the historic record. What about getting the current year? This is really straight-forward! You just need to do the same trick of defining a new \"year\" aesthetic and then filter the dataset accordingly. This time you only need one layer, there's no notion of a line range geom in this case!\n",
    "Instructions\n",
    "\n",
    "    Finish the definition of StatPresent:\n",
    "    The first argument of ggproto() is the 'class name'; set it to \"StatPresent\".\n",
    "    Inside compute_group(), transform data so that it only contains the observations of the last year (max(year)).\n",
    "    The required aesthetics are c(\"x\", \"y\", \"year\").\n",
    "    Inside the definition stat_present:\n",
    "    Set the default geom to \"line\" and have the layer inherit this default: geom = geom.\n",
    "    Inside the layer, use the stat StatPresent (no \"\").\n",
    "    Add stat_present() to the ggplot() command that you've coded in the previous exercise.\n"
   ]
  },
  {
   "cell_type": "code",
   "execution_count": null,
   "metadata": {
    "collapsed": true
   },
   "outputs": [],
   "source": [
    "# Create the stats object\n",
    "StatPresent <- ggproto(\"StatPresent\", Stat,\n",
    "                       compute_group = function(data, scales, params) {\n",
    "                         data <- filter(data, year == max(year))\n",
    "                       },\n",
    "                       required_aes = c(\"x\", \"y\", \"year\"))\n",
    "\n",
    "# Create the layer\n",
    "stat_present <- function(mapping = NULL, data = NULL, geom = \"line\",\n",
    "                       position = \"identity\", na.rm = FALSE, show.legend = NA, \n",
    "                       inherit.aes = TRUE, ...) {\n",
    "  layer(\n",
    "    stat = StatPresent, data = data, mapping = mapping, geom = geom,\n",
    "    position = position, show.legend = show.legend, inherit.aes = inherit.aes,\n",
    "    params = list(na.rm = na.rm, ...)\n",
    "  )\n",
    "}\n",
    "\n",
    "# Build the plot\n",
    "my_data <- clean_weather(\"NYNEWYOR.txt\")\n",
    "ggplot(my_data, aes(x = yearday, y = temp, year = year)) +\n",
    "  stat_historical() +\n",
    "  stat_present()"
   ]
  },
  {
   "cell_type": "code",
   "execution_count": null,
   "metadata": {
    "collapsed": true
   },
   "outputs": [],
   "source": [
    "Step 4: Extremes\n",
    "100xp\n",
    "\n",
    "The last step is to create a stat_extreme() layer. This takes advantage of the calculations you did earlier, which combined the definitions of new highs and lows into one variable, record. This variable contains the colors of the dots: deep blue for record lows, dark red for record highs, and transparent dots otherwise. Because this record variable is 'internally computed', you'll have to refer to it as ..record.. when you're creating the plot.\n",
    "Instructions\n",
    "\n",
    "    Finish the definition of StatExtremes:\n",
    "    The first argument of ggproto() is the 'class name'; set it to \"StatExtremes\".\n",
    "    present, past, and past_extremes are already created inside compute_group().\n",
    "    Transform the data object: Fill in \"#0000CD\", \"#CD2626\" and \"#00000000\" at the appropriate locations.\n",
    "    Inside the definition stat_extremes:\n",
    "    Set the default geom to \"point\" and have the layer inherit this default: geom = geom.\n",
    "    Inside the layer, use the stat StatExtremes (no \"\").\n",
    "    Add stat_extremes() to the ggplot() command that you've coded in the previous exercise:\n",
    "    Use aes(col = ..record..) to map the records onto the col aesthetic.\n",
    "    Also add scale_color_identity() to take the col values literally.\n"
   ]
  },
  {
   "cell_type": "code",
   "execution_count": null,
   "metadata": {
    "collapsed": true
   },
   "outputs": [],
   "source": [
    "# Create the stats object\n",
    "StatExtremes <- ggproto(\"StatExtremes\", Stat,\n",
    "                        compute_group = function(data, scales, params) {\n",
    "                          \n",
    "                          present <- data %>%\n",
    "                            filter(year == max(year)) \n",
    "                          \n",
    "                          past <- data %>%\n",
    "                            filter(year != max(year)) \n",
    "                          \n",
    "                          past_extremes <- past %>%\n",
    "                            group_by(x) %>%\n",
    "                            summarise(past_low = min(y),\n",
    "                                      past_high = max(y))\n",
    "                          \n",
    "                          # transform data to contain extremes\n",
    "                          data <- present %>%\n",
    "                            left_join(past_extremes) %>%\n",
    "                            mutate(record = ifelse(y < past_low, \n",
    "                                                   \"#0000CD\", \n",
    "                                                   ifelse(y > past_high, \n",
    "                                                          \"#CD2626\", \n",
    "                                                          \"#00000000\")))\n",
    "                        },\n",
    "                        required_aes = c(\"x\", \"y\", \"year\"))\n",
    "\n",
    "# Create the layer\n",
    "stat_extremes <- function(mapping = NULL, data = NULL, geom = \"point\",\n",
    "                          position = \"identity\", na.rm = FALSE, show.legend = NA, \n",
    "                          inherit.aes = TRUE, ...) {\n",
    "  layer(\n",
    "    stat = StatExtremes, data = data, mapping = mapping, geom = geom,\n",
    "    position = position, show.legend = show.legend, inherit.aes = inherit.aes,\n",
    "    params = list(na.rm = na.rm, ...)\n",
    "  )\n",
    "}\n",
    "\n",
    "# Build the plot\n",
    "my_data <- clean_weather(\"NYNEWYOR.txt\")\n",
    "ggplot(my_data, aes(x = yearday, y = temp, year = year)) +\n",
    "  stat_historical() +\n",
    "  stat_present() +\n",
    "  stat_extremes(aes(col =  ..record..)) +\n",
    "  scale_color_identity() # Colour specification"
   ]
  },
  {
   "cell_type": "code",
   "execution_count": null,
   "metadata": {
    "collapsed": true
   },
   "outputs": [],
   "source": [
    "Step 5: Re-use plotting style\n",
    "100xp\n",
    "\n",
    "You're at the end of your case study: you have built up three stat_ functions that you can use in any combination you like and with any dataset that fits the type of stats you are doing. Let's try it out on some other cities! In your working directory, there are four files, related to the weather data for New York, Paris, Reykavik and London. Their filenames are stored in the my_files vector.\n",
    "Instructions\n",
    "\n",
    "    Finish the for loop to make one huge dataset:\n",
    "\n",
    "    Call clean_weather() on file. For each cycle of the for loop file will be the name of one of our four files.\n",
    "\n",
    "    Assign the output to the object temp.\n",
    "\n",
    "    We need to know where the data came from. So add an id column to temp and populate it with the result of a sub() function that substitutes \".txt\" with \"\" (nothing) in file (that is, the name of the file). This way, we just get the city name, and not the file extension. Vector recycling will take care of repeating this for the length of the temp data frame.\n",
    "\n",
    "    The rbind call to past together all data in my_data is already provided.\n",
    "\n",
    "    Build the final plot:\n",
    "\n",
    "    Set the data layer (my_data) and the aesthetic mappings.\n",
    "\n",
    "    Use stat_historical(), stat_present() and stat_extremes(). Make sure to map ..record.. onto col in the appropriate stats layer.\n",
    "\n",
    "    Don't forget scale_color_identity().\n",
    "\n",
    "    Finish off by adding facet_wrap(~id, ncol = 2) to have a separate plot per id.\n"
   ]
  },
  {
   "cell_type": "code",
   "execution_count": null,
   "metadata": {
    "collapsed": true
   },
   "outputs": [],
   "source": [
    "# File paths of all datasets\n",
    "my_files <- c(\"NYNEWYOR.txt\",\"FRPARIS.txt\", \"ILREYKJV.txt\", \"UKLONDON.txt\")\n",
    "\n",
    "# Build my_data with a for loop\n",
    "my_data <- NULL\n",
    "for (file in my_files) {\n",
    "  temp <- clean_weather(file)\n",
    "  temp$id <- sub(\".txt\", \"\", file)\n",
    "  my_data <- rbind(my_data, temp)\n",
    "}\n",
    "\n",
    "# Build the final plot, from scratch!\n",
    "ggplot(my_data, aes(x = yearday, y = temp, year = year)) +\n",
    "  stat_historical() +\n",
    "  stat_present() +\n",
    "  stat_extremes(aes(col = ..record..)) +\n",
    "  scale_color_identity() +  # specify colour here\n",
    "  facet_wrap(~id, ncol = 2)"
   ]
  },
  {
   "cell_type": "code",
   "execution_count": null,
   "metadata": {
    "collapsed": true
   },
   "outputs": [],
   "source": [
    "You've completed all three ggplot2 courses. Grab yourself a DRY martini and head over to the final video! "
   ]
  },
  {
   "cell_type": "markdown",
   "metadata": {},
   "source": [
    "# Thank You"
   ]
  },
  {
   "cell_type": "code",
   "execution_count": null,
   "metadata": {
    "collapsed": true
   },
   "outputs": [],
   "source": []
  }
 ],
 "metadata": {
  "anaconda-cloud": {},
  "kernelspec": {
   "display_name": "R",
   "language": "R",
   "name": "ir"
  },
  "language_info": {
   "codemirror_mode": "r",
   "file_extension": ".r",
   "mimetype": "text/x-r-source",
   "name": "R",
   "pygments_lexer": "r",
   "version": "3.4.1"
  }
 },
 "nbformat": 4,
 "nbformat_minor": 2
}
