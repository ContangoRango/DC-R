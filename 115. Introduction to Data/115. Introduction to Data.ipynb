{
 "cells": [
  {
   "cell_type": "markdown",
   "metadata": {},
   "source": [
    "### Course Description\n",
    "\n",
    "Scientists seek to answer questions using rigorous methods and careful observations. These observations—collected from the likes of field notes, surveys, and experiments—form the backbone of a statistical investigation and are called data. Statistics is the study of how best to collect, analyze, and draw conclusions from data. \n",
    "It is helpful to put statistics in the context of a general process of investigation: \n",
    "\n",
    " - 1) identify a question or problem; \n",
    " - 2) collect relevant data on the topic; \n",
    " - 3) analyze the data; and \n",
    " - 4) form a conclusion. In this course, you'll focus on the first two steps of the process."
   ]
  },
  {
   "cell_type": "markdown",
   "metadata": {},
   "source": [
    "# 1. Language of data"
   ]
  },
  {
   "cell_type": "markdown",
   "metadata": {},
   "source": [
    "## Welcome to the course! - Video"
   ]
  },
  {
   "cell_type": "code",
   "execution_count": 3,
   "metadata": {},
   "outputs": [
    {
     "name": "stdout",
     "output_type": "stream",
     "text": [
      "package 'openintro' successfully unpacked and MD5 sums checked\n",
      "\n",
      "The downloaded binary packages are in\n",
      "\tC:\\Users\\mohammads6\\AppData\\Local\\Temp\\RtmpURfmMo\\downloaded_packages\n"
     ]
    },
    {
     "name": "stderr",
     "output_type": "stream",
     "text": [
      "Please visit openintro.org for free statistics materials\n",
      "\n",
      "Attaching package: 'openintro'\n",
      "\n",
      "The following objects are masked from 'package:datasets':\n",
      "\n",
      "    cars, trees\n",
      "\n",
      "\n",
      "Attaching package: 'dplyr'\n",
      "\n",
      "The following objects are masked from 'package:stats':\n",
      "\n",
      "    filter, lag\n",
      "\n",
      "The following objects are masked from 'package:base':\n",
      "\n",
      "    intersect, setdiff, setequal, union\n",
      "\n",
      "\n",
      "Attaching package: 'ggplot2'\n",
      "\n",
      "The following object is masked from 'package:openintro':\n",
      "\n",
      "    diamonds\n",
      "\n"
     ]
    }
   ],
   "source": [
    "#install.packages('openintro', repos='http://cran.us.r-project.org')\n",
    "library(openintro)\n",
    "library(dplyr)\n",
    "library(ggplot2)"
   ]
  },
  {
   "cell_type": "code",
   "execution_count": 4,
   "metadata": {
    "collapsed": true
   },
   "outputs": [],
   "source": [
    "data(hsb2)"
   ]
  },
  {
   "cell_type": "code",
   "execution_count": 5,
   "metadata": {},
   "outputs": [
    {
     "name": "stdout",
     "output_type": "stream",
     "text": [
      "'data.frame':\t200 obs. of  11 variables:\n",
      " $ id     : int  70 121 86 141 172 113 50 11 84 48 ...\n",
      " $ gender : chr  \"male\" \"female\" \"male\" \"male\" ...\n",
      " $ race   : chr  \"white\" \"white\" \"white\" \"white\" ...\n",
      " $ ses    : Factor w/ 3 levels \"low\",\"middle\",..: 1 2 3 3 2 2 2 2 2 2 ...\n",
      " $ schtyp : Factor w/ 2 levels \"public\",\"private\": 1 1 1 1 1 1 1 1 1 1 ...\n",
      " $ prog   : Factor w/ 3 levels \"general\",\"academic\",..: 1 3 1 3 2 2 1 2 1 2 ...\n",
      " $ read   : int  57 68 44 63 47 44 50 34 63 57 ...\n",
      " $ write  : int  52 59 33 44 52 52 59 46 57 55 ...\n",
      " $ math   : int  41 53 54 47 57 51 42 45 54 52 ...\n",
      " $ science: int  47 63 58 53 53 63 53 39 58 50 ...\n",
      " $ socst  : int  57 61 31 56 61 61 61 36 51 51 ...\n"
     ]
    }
   ],
   "source": [
    "str(hsb2)"
   ]
  },
  {
   "cell_type": "code",
   "execution_count": 6,
   "metadata": {},
   "outputs": [
    {
     "name": "stdout",
     "output_type": "stream",
     "text": [
      "Observations: 200\n",
      "Variables: 11\n",
      "$ id      <int> 70, 121, 86, 141, 172, 113, 50, 11, 84, 48, 75, 60, 95, 104...\n",
      "$ gender  <chr> \"male\", \"female\", \"male\", \"male\", \"male\", \"male\", \"male\", \"...\n",
      "$ race    <chr> \"white\", \"white\", \"white\", \"white\", \"white\", \"white\", \"afri...\n",
      "$ ses     <fctr> low, middle, high, high, middle, middle, middle, middle, m...\n",
      "$ schtyp  <fctr> public, public, public, public, public, public, public, pu...\n",
      "$ prog    <fctr> general, vocational, general, vocational, academic, academ...\n",
      "$ read    <int> 57, 68, 44, 63, 47, 44, 50, 34, 63, 57, 60, 57, 73, 54, 45,...\n",
      "$ write   <int> 52, 59, 33, 44, 52, 52, 59, 46, 57, 55, 46, 65, 60, 63, 57,...\n",
      "$ math    <int> 41, 53, 54, 47, 57, 51, 42, 45, 54, 52, 51, 51, 71, 57, 50,...\n",
      "$ science <int> 47, 63, 58, 53, 53, 63, 53, 39, 58, 50, 53, 63, 61, 55, 31,...\n",
      "$ socst   <int> 57, 61, 31, 56, 61, 61, 61, 36, 51, 51, 61, 61, 71, 46, 56,...\n"
     ]
    }
   ],
   "source": [
    "glimpse(hsb2)"
   ]
  },
  {
   "cell_type": "markdown",
   "metadata": {},
   "source": [
    "### Loading data into R\n",
    "100xp\n",
    "In the video, you saw how to load the hsb2 dataset into R using the data() function and how to preview its contents with str().\n",
    "\n",
    "In this exercise, you'll practice on another dataset, email50, which contains a subset of incoming emails for the first three months of 2012 for a single email account. You will examine the structure of this dataset and determine the number of rows (observations) and columns (variables).\n",
    "\n",
    "Instructions\n",
    "Load the email50 dataset with the data() function.\n",
    "View the structure of this dataset with the str() function. How many observations and variables are there?"
   ]
  },
  {
   "cell_type": "code",
   "execution_count": 11,
   "metadata": {},
   "outputs": [
    {
     "name": "stdout",
     "output_type": "stream",
     "text": [
      "'data.frame':\t50 obs. of  21 variables:\n",
      " $ spam        : num  0 0 1 0 0 0 0 0 0 0 ...\n",
      " $ to_multiple : num  0 0 0 0 0 0 0 0 0 0 ...\n",
      " $ from        : num  1 1 1 1 1 1 1 1 1 1 ...\n",
      " $ cc          : int  0 0 4 0 0 0 0 0 1 0 ...\n",
      " $ sent_email  : num  1 0 0 0 0 0 0 1 1 0 ...\n",
      " $ time        : POSIXct, format: \"2012-01-04 18:49:16\" \"2012-02-17 01:40:06\" ...\n",
      " $ image       : num  0 0 0 0 0 0 0 0 0 0 ...\n",
      " $ attach      : num  0 0 2 0 0 0 0 0 0 0 ...\n",
      " $ dollar      : num  0 0 0 0 9 0 0 0 0 23 ...\n",
      " $ winner      : Factor w/ 2 levels \"no\",\"yes\": 1 1 1 1 1 1 1 1 1 1 ...\n",
      " $ inherit     : num  0 0 0 0 0 0 0 0 0 0 ...\n",
      " $ viagra      : num  0 0 0 0 0 0 0 0 0 0 ...\n",
      " $ password    : num  0 0 0 0 1 0 0 0 0 0 ...\n",
      " $ num_char    : num  21.705 7.011 0.631 2.454 41.623 ...\n",
      " $ line_breaks : int  551 183 28 61 1088 5 17 88 242 578 ...\n",
      " $ format      : num  1 1 0 0 1 0 0 1 1 1 ...\n",
      " $ re_subj     : num  1 0 0 0 0 0 0 1 1 0 ...\n",
      " $ exclaim_subj: num  0 0 0 0 0 0 0 0 1 0 ...\n",
      " $ urgent_subj : num  0 0 0 0 0 0 0 0 0 0 ...\n",
      " $ exclaim_mess: num  8 1 2 1 43 0 0 2 22 3 ...\n",
      " $ number      : Factor w/ 3 levels \"none\",\"small\",..: 2 3 1 2 2 2 2 2 2 2 ...\n"
     ]
    }
   ],
   "source": [
    "# Load data\n",
    "data(email50)\n",
    "\n",
    "# View its structure\n",
    "str(email50)"
   ]
  },
  {
   "cell_type": "markdown",
   "metadata": {},
   "source": [
    "## Types of variables - Video"
   ]
  },
  {
   "cell_type": "markdown",
   "metadata": {},
   "source": [
    "Identify variable types\n",
    "100xp\n",
    "Recall from the video that the glimpse() function from dplyr provides a handy alternative to str() for previewing a dataset. In addition to telling you the number of observations and variables, it shows the name and type of each column, along with a neatly printed preview of its values.\n",
    "\n",
    "Let's have another look at the email50 data, so you can practice identifying variable types.\n",
    "\n",
    "Instructions\n",
    "Use the glimpse() function to view the variables in the email50 dataset. Identify each variable as either numerical or categorical, and further as discrete or continuous (if numerical) or ordinal or not ordinal (if categorical)."
   ]
  },
  {
   "cell_type": "code",
   "execution_count": 12,
   "metadata": {},
   "outputs": [
    {
     "name": "stdout",
     "output_type": "stream",
     "text": [
      "Observations: 50\n",
      "Variables: 21\n",
      "$ spam         <dbl> 0, 0, 1, 0, 0, 0, 0, 0, 0, 0, 0, 0, 1, 1, 0, 0, 0, 1, ...\n",
      "$ to_multiple  <dbl> 0, 0, 0, 0, 0, 0, 0, 0, 0, 0, 0, 0, 0, 1, 0, 0, 0, 0, ...\n",
      "$ from         <dbl> 1, 1, 1, 1, 1, 1, 1, 1, 1, 1, 1, 1, 1, 1, 1, 1, 1, 1, ...\n",
      "$ cc           <int> 0, 0, 4, 0, 0, 0, 0, 0, 1, 0, 0, 0, 0, 0, 0, 0, 0, 0, ...\n",
      "$ sent_email   <dbl> 1, 0, 0, 0, 0, 0, 0, 1, 1, 0, 0, 0, 0, 0, 0, 1, 1, 0, ...\n",
      "$ time         <time> 2012-01-04 18:49:16, 2012-02-17 01:40:06, 2012-01-04 ...\n",
      "$ image        <dbl> 0, 0, 0, 0, 0, 0, 0, 0, 0, 0, 0, 0, 0, 0, 0, 0, 0, 0, ...\n",
      "$ attach       <dbl> 0, 0, 2, 0, 0, 0, 0, 0, 0, 0, 0, 0, 0, 2, 0, 0, 0, 1, ...\n",
      "$ dollar       <dbl> 0, 0, 0, 0, 9, 0, 0, 0, 0, 23, 4, 0, 3, 2, 0, 0, 0, 0,...\n",
      "$ winner       <fctr> no, no, no, no, no, no, no, no, no, no, no, no, yes, ...\n",
      "$ inherit      <dbl> 0, 0, 0, 0, 0, 0, 0, 0, 0, 0, 0, 0, 0, 0, 0, 0, 0, 0, ...\n",
      "$ viagra       <dbl> 0, 0, 0, 0, 0, 0, 0, 0, 0, 0, 0, 0, 0, 0, 0, 0, 0, 0, ...\n",
      "$ password     <dbl> 0, 0, 0, 0, 1, 0, 0, 0, 0, 0, 0, 2, 0, 0, 0, 0, 0, 0, ...\n",
      "$ num_char     <dbl> 21.705, 7.011, 0.631, 2.454, 41.623, 0.057, 0.809, 5.2...\n",
      "$ line_breaks  <int> 551, 183, 28, 61, 1088, 5, 17, 88, 242, 578, 1167, 198...\n",
      "$ format       <dbl> 1, 1, 0, 0, 1, 0, 0, 1, 1, 1, 1, 1, 1, 0, 1, 1, 1, 0, ...\n",
      "$ re_subj      <dbl> 1, 0, 0, 0, 0, 0, 0, 1, 1, 0, 0, 0, 0, 0, 0, 1, 1, 0, ...\n",
      "$ exclaim_subj <dbl> 0, 0, 0, 0, 0, 0, 0, 0, 1, 0, 0, 0, 0, 0, 0, 0, 0, 0, ...\n",
      "$ urgent_subj  <dbl> 0, 0, 0, 0, 0, 0, 0, 0, 0, 0, 0, 0, 0, 0, 0, 0, 0, 0, ...\n",
      "$ exclaim_mess <dbl> 8, 1, 2, 1, 43, 0, 0, 2, 22, 3, 13, 1, 2, 2, 21, 10, 0...\n",
      "$ number       <fctr> small, big, none, small, small, small, small, small, ...\n"
     ]
    }
   ],
   "source": [
    "# Glimpse email50\n",
    "glimpse(email50)"
   ]
  },
  {
   "cell_type": "markdown",
   "metadata": {},
   "source": [
    "## Categorical data in R: factors - Video"
   ]
  },
  {
   "cell_type": "markdown",
   "metadata": {},
   "source": [
    "### Filtering based on a factor\n",
    "100xp\n",
    "Categorical data are often stored as factors in R. In this exercise, you'll get some practice working with a factor variable, number, from the email50 dataset. This variable tells you what type of number (none, small, or big) an email contains.\n",
    "\n",
    "Recall from the video that the filter() function from dplyr allows you to filter a dataset to create a subset containing only certain levels of a variable. For example, the following code filters the mtcars dataset for cars containing 6 cylinders:\n",
    "\n",
    "mtcars %>%\n",
    "  filter(cyl == 6)\n",
    "Instructions\n",
    "Create a new dataset called email50_big that is a subset of the original email50 dataset containing only emails with \"big\" numbers. This information is stored in the number variable.\n",
    "Report the dimensions of email50_big using the glimpse() function again. How many emails contain big numbers?"
   ]
  },
  {
   "cell_type": "code",
   "execution_count": 13,
   "metadata": {},
   "outputs": [
    {
     "name": "stdout",
     "output_type": "stream",
     "text": [
      "Observations: 7\n",
      "Variables: 21\n",
      "$ spam         <dbl> 0, 0, 1, 0, 0, 0, 0\n",
      "$ to_multiple  <dbl> 0, 0, 0, 0, 0, 0, 0\n",
      "$ from         <dbl> 1, 1, 1, 1, 1, 1, 1\n",
      "$ cc           <int> 0, 0, 0, 0, 0, 0, 0\n",
      "$ sent_email   <dbl> 0, 0, 0, 0, 0, 1, 0\n",
      "$ time         <time> 2012-02-17 01:40:06, 2012-02-05 04:56:09, 2012-01-24 ...\n",
      "$ image        <dbl> 0, 0, 0, 0, 0, 0, 0\n",
      "$ attach       <dbl> 0, 0, 0, 0, 0, 0, 0\n",
      "$ dollar       <dbl> 0, 0, 3, 2, 0, 0, 0\n",
      "$ winner       <fctr> no, no, yes, no, no, no, no\n",
      "$ inherit      <dbl> 0, 0, 0, 0, 0, 0, 0\n",
      "$ viagra       <dbl> 0, 0, 0, 0, 0, 0, 0\n",
      "$ password     <dbl> 0, 2, 0, 0, 0, 0, 8\n",
      "$ num_char     <dbl> 7.011, 10.368, 42.793, 26.520, 6.563, 11.223, 10.613\n",
      "$ line_breaks  <int> 183, 198, 712, 692, 140, 512, 225\n",
      "$ format       <dbl> 1, 1, 1, 1, 1, 1, 1\n",
      "$ re_subj      <dbl> 0, 0, 0, 0, 0, 0, 0\n",
      "$ exclaim_subj <dbl> 0, 0, 0, 1, 0, 0, 0\n",
      "$ urgent_subj  <dbl> 0, 0, 0, 0, 0, 0, 0\n",
      "$ exclaim_mess <dbl> 1, 1, 2, 7, 2, 9, 9\n",
      "$ number       <fctr> big, big, big, big, big, big, big\n"
     ]
    }
   ],
   "source": [
    "# Subset of emails with big numbers: email50_big\n",
    "email50_big <- email50 %>%\n",
    "  filter(number==\"big\")\n",
    "\n",
    "# Glimpse the subset\n",
    "glimpse(email50_big)"
   ]
  },
  {
   "cell_type": "markdown",
   "metadata": {},
   "source": [
    "### Complete filtering based on a factor\n",
    "100xp\n",
    "The droplevels() function removes unused levels of factor variables from your dataset. As you saw in the video, it's often useful to determine which levels are unused (i.e. contain zero values) with the table() function.\n",
    "\n",
    "In this exercise, you'll see which levels of the number variable are dropped after applying the droplevels() function.\n",
    "\n",
    "Instructions\n",
    "Make a table() of the number variable in the email50_big dataset. Which two levels are unused?\n",
    "Apply the droplevels() function to the number variable. Assign the result back to email50_big$number.\n",
    "Remake the table() of the number variable in the email50_big dataset. How is this output different from the first?"
   ]
  },
  {
   "cell_type": "code",
   "execution_count": 14,
   "metadata": {},
   "outputs": [
    {
     "data": {
      "text/plain": [
       "\n",
       " none small   big \n",
       "    0     0     7 "
      ]
     },
     "metadata": {},
     "output_type": "display_data"
    },
    {
     "data": {
      "text/plain": [
       "\n",
       "big \n",
       "  7 "
      ]
     },
     "metadata": {},
     "output_type": "display_data"
    }
   ],
   "source": [
    "# Table of number variable\n",
    "table(email50_big$number)\n",
    "\n",
    "# Drop levels\n",
    "email50_big$number <- droplevels(email50_big$number)\n",
    "\n",
    "# Another table of number variable\n",
    "table(email50_big$number)"
   ]
  },
  {
   "cell_type": "markdown",
   "metadata": {},
   "source": [
    "Did you notice that dropping the levels of the number variable gets rid of the levels with counts of zero? This will be useful when you're creating visualizations later on. Great work!"
   ]
  },
  {
   "cell_type": "markdown",
   "metadata": {},
   "source": [
    "## Discretize a variable - Video"
   ]
  },
  {
   "cell_type": "markdown",
   "metadata": {},
   "source": [
    "Discretize a different variable\n",
    "100xp\n",
    "In this exercise, you will create a categorical version of the num_char variable in the email50 dataset, which tells you the number of characters in an email, in thousands. This new variable will have two levels—\"below median\" and \"at or above median\"—depending on whether an email has less than the median number of characters or equal to or more than that value.\n",
    "\n",
    "The median marks the 50th percentile, or midpoint, of a distribution, so half of the emails should fall in one category and the other half in the other. You will learn more about the median and other measures of center in the next course in this series.\n",
    "\n",
    "Instructions\n",
    "The email50 dataset is available in your workspace.\n",
    "\n",
    "Use the num_char variable to find the median number of characters in the emails and store the result as med_num_char.\n",
    "Create a new variable called num_char_cat, which discretizes the num_char variable into \"below median\" or \"at or above median\". Use the mutate() function from dplyr to accomplish this.\n",
    "Apply table() on this new variable num_char_cat to determine how many emails are in each category and evaluate whether these counts match the expected numbers."
   ]
  },
  {
   "cell_type": "code",
   "execution_count": 15,
   "metadata": {},
   "outputs": [
    {
     "data": {
      "text/plain": [
       "\n",
       "at or above median       below median \n",
       "                25                 25 "
      ]
     },
     "metadata": {},
     "output_type": "display_data"
    }
   ],
   "source": [
    "# Calculate median number of characters: med_num_char\n",
    "med_num_char <- median(email50$num_char)\n",
    "\n",
    "# Create num_char_cat variable in email50\n",
    "email50 <- email50 %>%\n",
    "  mutate(num_char_cat = ifelse(num_char < med_num_char, \"below median\", \"at or above median\"))\n",
    "  \n",
    "# Count emails in each category\n",
    "table(email50$num_char_cat)"
   ]
  },
  {
   "cell_type": "code",
   "execution_count": null,
   "metadata": {
    "collapsed": true
   },
   "outputs": [],
   "source": [
    "As you can see, there are exactly half below the median and half above the median. Makes sense, doesn't it?"
   ]
  },
  {
   "cell_type": "markdown",
   "metadata": {},
   "source": [
    "Combining levels of a different factor\n",
    "100xp\n",
    "Another common way of creating a new variable based on an existing one is by combining levels of a categorical variable. For example, the email50 dataset has a categorical variable called number with levels \"none\", \"small\", and \"big\", but suppose you're only interested in whether an email contains a number. In this exercise, you will create a variable containing this information and also visualize it.\n",
    "\n",
    "For now, do your best to understand the code we've provided to generate the plot. We will go through it in detail in the next video.\n",
    "\n",
    "Instructions\n",
    "Create a new variable in email50 called number_yn that is \"no\" if there is no number in the email and \"yes\" if there is a small or a big number. The ifelse() function may prove useful here.\n",
    "Run the code provided to visualize the distribution of the number_yn variable."
   ]
  },
  {
   "cell_type": "code",
   "execution_count": 22,
   "metadata": {},
   "outputs": [
    {
     "data": {},
     "metadata": {},
     "output_type": "display_data"
    },
    {
     "data": {
      "image/png": "[encoded data removed]",
      "text/plain": [
       "plot without title"
      ]
     },
     "metadata": {},
     "output_type": "display_data"
    }
   ],
   "source": [
    "# Create number_yn column in email50\n",
    "email50 <- email50 %>%\n",
    "  mutate(number_yn = ifelse(number==\"none\", \"no\", \"yes\"))\n",
    "\n",
    "# Visualize number_yn\n",
    "ggplot(email50, aes(x = number_yn)) +\n",
    "  geom_bar()"
   ]
  },
  {
   "cell_type": "markdown",
   "metadata": {},
   "source": [
    "# 2. Study types and cautionary tales"
   ]
  },
  {
   "cell_type": "markdown",
   "metadata": {},
   "source": [
    "### Identify study type\n",
    "50xp\n",
    "A study is designed to evaluate whether people read text faster in Arial or Helvetica font. A group of volunteers who agreed to be a part of the study are randomly assigned to two groups: one where they read some text in Arial, and another where they read the same text in Helvetica. At the end, average reading speeds from the two groups are compared.\n",
    "\n",
    "What type of study is this?\n",
    "\n",
    "Possible Answers\n",
    "Click or Press Ctrl+1 to focus\n",
    " - Observational study\n",
    " - Experiment (Correct)\n",
    " - Neither, since the sample consists of volunteers\n",
    "Take Hint (-15xp)"
   ]
  },
  {
   "cell_type": "code",
   "execution_count": 25,
   "metadata": {},
   "outputs": [
    {
     "name": "stderr",
     "output_type": "stream",
     "text": [
      "Installing package into 'C:/Users/Lenovo/Documents/R/win-library/3.3'\n",
      "(as 'lib' is unspecified)\n"
     ]
    },
    {
     "name": "stdout",
     "output_type": "stream",
     "text": [
      "package 'gapminder' successfully unpacked and MD5 sums checked\n",
      "\n",
      "The downloaded binary packages are in\n",
      "\tC:\\Users\\Lenovo\\AppData\\Local\\Temp\\RtmpegjQ1B\\downloaded_packages\n"
     ]
    }
   ],
   "source": [
    "install.packages(\"gapminder\", repos='http://cran.us.r-project.org')"
   ]
  },
  {
   "cell_type": "code",
   "execution_count": 26,
   "metadata": {},
   "outputs": [
    {
     "name": "stderr",
     "output_type": "stream",
     "text": [
      "Warning message:\n",
      "\"package 'gapminder' was built under R version 3.3.3\""
     ]
    }
   ],
   "source": [
    "library(gapminder)"
   ]
  },
  {
   "cell_type": "code",
   "execution_count": 27,
   "metadata": {},
   "outputs": [
    {
     "data": {
      "text/html": [
       "<table>\n",
       "<thead><tr><th scope=col>country</th><th scope=col>continent</th><th scope=col>year</th><th scope=col>lifeExp</th><th scope=col>pop</th><th scope=col>gdpPercap</th></tr></thead>\n",
       "<tbody>\n",
       "\t<tr><td>Afghanistan</td><td>Asia       </td><td>1952       </td><td>28.801     </td><td> 8425333   </td><td>779.4453   </td></tr>\n",
       "\t<tr><td>Afghanistan</td><td>Asia       </td><td>1957       </td><td>30.332     </td><td> 9240934   </td><td>820.8530   </td></tr>\n",
       "\t<tr><td>Afghanistan</td><td>Asia       </td><td>1962       </td><td>31.997     </td><td>10267083   </td><td>853.1007   </td></tr>\n",
       "\t<tr><td>Afghanistan</td><td>Asia       </td><td>1967       </td><td>34.020     </td><td>11537966   </td><td>836.1971   </td></tr>\n",
       "\t<tr><td>Afghanistan</td><td>Asia       </td><td>1972       </td><td>36.088     </td><td>13079460   </td><td>739.9811   </td></tr>\n",
       "\t<tr><td>Afghanistan</td><td>Asia       </td><td>1977       </td><td>38.438     </td><td>14880372   </td><td>786.1134   </td></tr>\n",
       "</tbody>\n",
       "</table>\n"
      ],
      "text/latex": [
       "\\begin{tabular}{r|llllll}\n",
       " country & continent & year & lifeExp & pop & gdpPercap\\\\\n",
       "\\hline\n",
       "\t Afghanistan & Asia        & 1952        & 28.801      &  8425333    & 779.4453   \\\\\n",
       "\t Afghanistan & Asia        & 1957        & 30.332      &  9240934    & 820.8530   \\\\\n",
       "\t Afghanistan & Asia        & 1962        & 31.997      & 10267083    & 853.1007   \\\\\n",
       "\t Afghanistan & Asia        & 1967        & 34.020      & 11537966    & 836.1971   \\\\\n",
       "\t Afghanistan & Asia        & 1972        & 36.088      & 13079460    & 739.9811   \\\\\n",
       "\t Afghanistan & Asia        & 1977        & 38.438      & 14880372    & 786.1134   \\\\\n",
       "\\end{tabular}\n"
      ],
      "text/markdown": [
       "\n",
       "country | continent | year | lifeExp | pop | gdpPercap | \n",
       "|---|---|---|---|---|---|\n",
       "| Afghanistan | Asia        | 1952        | 28.801      |  8425333    | 779.4453    | \n",
       "| Afghanistan | Asia        | 1957        | 30.332      |  9240934    | 820.8530    | \n",
       "| Afghanistan | Asia        | 1962        | 31.997      | 10267083    | 853.1007    | \n",
       "| Afghanistan | Asia        | 1967        | 34.020      | 11537966    | 836.1971    | \n",
       "| Afghanistan | Asia        | 1972        | 36.088      | 13079460    | 739.9811    | \n",
       "| Afghanistan | Asia        | 1977        | 38.438      | 14880372    | 786.1134    | \n",
       "\n",
       "\n"
      ],
      "text/plain": [
       "  country     continent year lifeExp pop      gdpPercap\n",
       "1 Afghanistan Asia      1952 28.801   8425333 779.4453 \n",
       "2 Afghanistan Asia      1957 30.332   9240934 820.8530 \n",
       "3 Afghanistan Asia      1962 31.997  10267083 853.1007 \n",
       "4 Afghanistan Asia      1967 34.020  11537966 836.1971 \n",
       "5 Afghanistan Asia      1972 36.088  13079460 739.9811 \n",
       "6 Afghanistan Asia      1977 38.438  14880372 786.1134 "
      ]
     },
     "metadata": {},
     "output_type": "display_data"
    }
   ],
   "source": [
    "head(gapminder)"
   ]
  },
  {
   "cell_type": "markdown",
   "metadata": {},
   "source": [
    "Identify the type of study\n",
    "100xp\n",
    "Next, let's take a look at data from a different study on country characteristics. You'll load the data first and view it, then you'll be asked to identify the type of study. Remember, an experiment requires random assignment.\n",
    "\n",
    "Instructions\n",
    "Load the gapminder data. This dataset comes from the gapminder R package, which has already been loaded for you.\n",
    "View the variables in the dataset with glimpse().\n",
    "If these data come from an observational study, assign \"observational\" to the type_of_study variable. If experimental, assign \"experimental\"."
   ]
  },
  {
   "cell_type": "code",
   "execution_count": null,
   "metadata": {
    "collapsed": true
   },
   "outputs": [],
   "source": [
    "Since there is no way to randomly assign countries to attributes, this is an observational study. Nice work!"
   ]
  },
  {
   "cell_type": "code",
   "execution_count": 28,
   "metadata": {},
   "outputs": [
    {
     "name": "stdout",
     "output_type": "stream",
     "text": [
      "Observations: 1,704\n",
      "Variables: 6\n",
      "$ country   <fctr> Afghanistan, Afghanistan, Afghanistan, Afghanistan, Afgh...\n",
      "$ continent <fctr> Asia, Asia, Asia, Asia, Asia, Asia, Asia, Asia, Asia, As...\n",
      "$ year      <int> 1952, 1957, 1962, 1967, 1972, 1977, 1982, 1987, 1992, 199...\n",
      "$ lifeExp   <dbl> 28.801, 30.332, 31.997, 34.020, 36.088, 38.438, 39.854, 4...\n",
      "$ pop       <int> 8425333, 9240934, 10267083, 11537966, 13079460, 14880372,...\n",
      "$ gdpPercap <dbl> 779.4453, 820.8530, 853.1007, 836.1971, 739.9811, 786.113...\n"
     ]
    }
   ],
   "source": [
    "# Load data\n",
    "data(gapminder)\n",
    "\n",
    "# Glimpse data\n",
    "glimpse(gapminder)\n",
    "\n",
    "# Identify type of study\n",
    "type_of_study <- \"observational\""
   ]
  },
  {
   "cell_type": "markdown",
   "metadata": {},
   "source": [
    "## Random sampling and random assignment - Video"
   ]
  },
  {
   "cell_type": "markdown",
   "metadata": {},
   "source": [
    "### Random sampling or random assignment?\n",
    "50xp\n",
    "One of the early studies linking smoking and lung cancer compared patients who are already hospitalized with lung cancer to similar patients without lung cancer (hospitalized for other reasons), and recorded whether each patient smoked. Then, proportions of smokers for patients with and without lung cancer were compared.\n",
    "\n",
    "Does this study employ random sampling and/or random assignment?\n",
    "\n",
    "Possible Answers\n",
    " - Random sampling, but not random assignment\n",
    " - Random assignment, but not random sampling\n",
    " - Neither random sampling nor random assignment (Correct)\n",
    " - Both random sampling and random assignment"
   ]
  },
  {
   "cell_type": "markdown",
   "metadata": {},
   "source": [
    "Random assignment is not employed because the conditions are not imposed on the patients by the people conducting the study; random sampling is not employed because the study records the patients who are already hospitalized, so it wouldn't be appropriate to apply the findings back to the population as a whole."
   ]
  },
  {
   "cell_type": "markdown",
   "metadata": {},
   "source": [
    "### Identify the scope of inference of study\n",
    "50xp\n",
    "Volunteers were recruited to participate in a study where they were asked to type 40 bits of trivia—for example, \"an ostrich’s eye is bigger than its brain\"—into a computer. A randomly selected half of these subjects were told the information would be saved in the computer; the other half were told the items they typed would be erased.\n",
    "\n",
    "Then, the subjects were asked to remember these bits of trivia, and the number of bits of trivia each subject could correctly recall were recorded. It was found that the subjects were significantly more likely to remember information if they thought they would not be able to find it later.\n",
    "\n",
    "The results of the study ___ be generalized to all people and a causal link between believing information is stored and memory ___ be inferred based on these results.\n",
    "\n",
    "Possible Answers\n",
    " - cannot, cannot\n",
    " - cannot, can (Correct)\n",
    " - can, cannot\n",
    " - can, can"
   ]
  },
  {
   "cell_type": "markdown",
   "metadata": {},
   "source": [
    "There is no random sampling since the subjects of the study were volunteers, so the results cannot be generalized to all people. However, due to random assignment, we are able to infer a causal link between the belief information is stored and the ability to recall that same information."
   ]
  },
  {
   "cell_type": "markdown",
   "metadata": {},
   "source": [
    "## Simpson's paradox - Video"
   ]
  },
  {
   "cell_type": "markdown",
   "metadata": {
    "collapsed": true
   },
   "source": [
    "### Number of males and females admitted\n",
    "100xp\n",
    "In order to calculate the number of males and females admitted, we will introduce two new functions: count() from the dplyr package and spread() from the tidyr package.\n",
    "\n",
    "In one step, count() allows you to group the data by certain variables (in this case, admission status and gender) and then counts the number of observations in each category. These counts are available under a new variable called n.\n",
    "\n",
    "spread() simply reorganizes the output across columns based on a key-value pair, where a pair contains a key that explains what the information describes and a value that contains the actual information. spread() takes the name of the dataset as its first argument, the name of the key column as its second argument, and the name of the value column as its third argument, all specified without quotation marks.\n",
    "\n",
    "Instructions\n",
    "Use the ucb_admit dataset (which is already pre-loaded) and the count() function to determine the total number of males and females admitted. Assign the result to ucb_counts.\n",
    "Print ucb_counts to the console.\n",
    "Then, use the spread() function to spread the output across columns based on admission status (key) and n (value).\n",
    "\n"
   ]
  },
  {
   "cell_type": "code",
   "execution_count": 7,
   "metadata": {
    "collapsed": true
   },
   "outputs": [],
   "source": [
    "load(\"ucb_admit.RData\")"
   ]
  },
  {
   "cell_type": "code",
   "execution_count": 8,
   "metadata": {},
   "outputs": [
    {
     "name": "stdout",
     "output_type": "stream",
     "text": [
      "# A tibble: 4 x 3\n",
      "     Admit Gender     n\n",
      "    <fctr> <fctr> <int>\n",
      "1 Admitted   Male  1198\n",
      "2 Admitted Female   557\n",
      "3 Rejected   Male  1493\n",
      "4 Rejected Female  1278\n"
     ]
    },
    {
     "data": {
      "text/html": [
       "<table>\n",
       "<thead><tr><th scope=col>Gender</th><th scope=col>Admitted</th><th scope=col>Rejected</th></tr></thead>\n",
       "<tbody>\n",
       "\t<tr><td>Male  </td><td>1198  </td><td>1493  </td></tr>\n",
       "\t<tr><td>Female</td><td> 557  </td><td>1278  </td></tr>\n",
       "</tbody>\n",
       "</table>\n"
      ],
      "text/latex": [
       "\\begin{tabular}{r|lll}\n",
       " Gender & Admitted & Rejected\\\\\n",
       "\\hline\n",
       "\t Male   & 1198   & 1493  \\\\\n",
       "\t Female &  557   & 1278  \\\\\n",
       "\\end{tabular}\n"
      ],
      "text/markdown": [
       "\n",
       "Gender | Admitted | Rejected | \n",
       "|---|---|\n",
       "| Male   | 1198   | 1493   | \n",
       "| Female |  557   | 1278   | \n",
       "\n",
       "\n"
      ],
      "text/plain": [
       "  Gender Admitted Rejected\n",
       "1 Male   1198     1493    \n",
       "2 Female  557     1278    "
      ]
     },
     "metadata": {},
     "output_type": "display_data"
    }
   ],
   "source": [
    "# Load packages\n",
    "library(dplyr)\n",
    "library(tidyr)\n",
    "\n",
    "# Count number of male and female applicants admitted\n",
    "ucb_counts <- ucb_admit %>%\n",
    "  count(Admit, Gender)\n",
    "\n",
    "# View result\n",
    "print(ucb_counts)\n",
    "  \n",
    "# Spread the output across columns\n",
    "ucb_counts %>%\n",
    "  spread(Admit, n)"
   ]
  },
  {
   "cell_type": "code",
   "execution_count": null,
   "metadata": {
    "collapsed": true
   },
   "outputs": [],
   "source": [
    "Make sure to compare the results with and without the call to spread(). "
   ]
  },
  {
   "cell_type": "markdown",
   "metadata": {},
   "source": [
    "### Proportion of males admitted overall\n",
    "\n",
    "You can now calculate the percentage of males admitted. To do so, you will create a new variable with mutate() from the dplyr package.\n",
    "\n",
    "Instructions\n",
    "dplyr and tidyr have been loaded for you.\n",
    "\n",
    "Use the code from the previous exercise to construct a table of counts of admission status and gender.\n",
    "Then, use the mutate() function create a new variable, Perc_Admit, which is the ratio of those admitted, Admitted, to all applicants of that gender, (Admitted + Rejected).\n",
    "Which gender has a higher admission rate, male or female?"
   ]
  },
  {
   "cell_type": "code",
   "execution_count": 9,
   "metadata": {},
   "outputs": [
    {
     "data": {
      "text/html": [
       "<table>\n",
       "<thead><tr><th scope=col>Gender</th><th scope=col>Admitted</th><th scope=col>Rejected</th><th scope=col>Perc_Admit</th></tr></thead>\n",
       "<tbody>\n",
       "\t<tr><td>Male     </td><td>1198     </td><td>1493     </td><td>0.4451877</td></tr>\n",
       "\t<tr><td>Female   </td><td> 557     </td><td>1278     </td><td>0.3035422</td></tr>\n",
       "</tbody>\n",
       "</table>\n"
      ],
      "text/latex": [
       "\\begin{tabular}{r|llll}\n",
       " Gender & Admitted & Rejected & Perc\\_Admit\\\\\n",
       "\\hline\n",
       "\t Male      & 1198      & 1493      & 0.4451877\\\\\n",
       "\t Female    &  557      & 1278      & 0.3035422\\\\\n",
       "\\end{tabular}\n"
      ],
      "text/markdown": [
       "\n",
       "Gender | Admitted | Rejected | Perc_Admit | \n",
       "|---|---|\n",
       "| Male      | 1198      | 1493      | 0.4451877 | \n",
       "| Female    |  557      | 1278      | 0.3035422 | \n",
       "\n",
       "\n"
      ],
      "text/plain": [
       "  Gender Admitted Rejected Perc_Admit\n",
       "1 Male   1198     1493     0.4451877 \n",
       "2 Female  557     1278     0.3035422 "
      ]
     },
     "metadata": {},
     "output_type": "display_data"
    }
   ],
   "source": [
    "ucb_admit %>%\n",
    "  # Table of counts of admission status and gender\n",
    "    count(Admit, Gender) %>%\n",
    "  # Spread output across columns based on admission status\n",
    "    spread(Admit, n) %>%\n",
    "  # Create new variable\n",
    "  mutate(Perc_Admit = Admitted / (Admitted + Rejected))"
   ]
  },
  {
   "cell_type": "markdown",
   "metadata": {},
   "source": [
    "It looks like 44% of males were admitted versus only 30% of females, but as you'll see in the next exercise, there's more to the story."
   ]
  },
  {
   "cell_type": "markdown",
   "metadata": {},
   "source": [
    "### Proportion of males admitted for each department\n",
    "100xp\n",
    "Next you'll make a table similar to the one you constructed earlier, except you will first group the data by department. Then, you'll use this table to calculate the proportion of males admitted in each department.\n",
    "\n",
    "Instructions\n",
    "dplyr and tidyr have been loaded for you.\n",
    "\n",
    "Use the code from earlier to create a table of counts of admission status and gender, but this time group first by Dept. Assign this result to admit_by_dept.\n",
    "Print admit_by_dept to the console.\n",
    "Calculate the percentage of those admitted in each department, Perc_Admit, by applying the mutate() function to admit_by_dept."
   ]
  },
  {
   "cell_type": "code",
   "execution_count": 10,
   "metadata": {},
   "outputs": [
    {
     "name": "stdout",
     "output_type": "stream",
     "text": [
      "# A tibble: 12 x 4\n",
      "    Dept Gender Admitted Rejected\n",
      " * <chr> <fctr>    <int>    <int>\n",
      " 1     A   Male      512      313\n",
      " 2     A Female       89       19\n",
      " 3     B   Male      353      207\n",
      " 4     B Female       17        8\n",
      " 5     C   Male      120      205\n",
      " 6     C Female      202      391\n",
      " 7     D   Male      138      279\n",
      " 8     D Female      131      244\n",
      " 9     E   Male       53      138\n",
      "10     E Female       94      299\n",
      "11     F   Male       22      351\n",
      "12     F Female       24      317\n"
     ]
    },
    {
     "data": {
      "text/html": [
       "<table>\n",
       "<thead><tr><th scope=col>Dept</th><th scope=col>Gender</th><th scope=col>Admitted</th><th scope=col>Rejected</th><th scope=col>Perc_Admit</th></tr></thead>\n",
       "<tbody>\n",
       "\t<tr><td>A         </td><td>Male      </td><td>512       </td><td>313       </td><td>0.62060606</td></tr>\n",
       "\t<tr><td>A         </td><td>Female    </td><td> 89       </td><td> 19       </td><td>0.82407407</td></tr>\n",
       "\t<tr><td>B         </td><td>Male      </td><td>353       </td><td>207       </td><td>0.63035714</td></tr>\n",
       "\t<tr><td>B         </td><td>Female    </td><td> 17       </td><td>  8       </td><td>0.68000000</td></tr>\n",
       "\t<tr><td>C         </td><td>Male      </td><td>120       </td><td>205       </td><td>0.36923077</td></tr>\n",
       "\t<tr><td>C         </td><td>Female    </td><td>202       </td><td>391       </td><td>0.34064081</td></tr>\n",
       "\t<tr><td>D         </td><td>Male      </td><td>138       </td><td>279       </td><td>0.33093525</td></tr>\n",
       "\t<tr><td>D         </td><td>Female    </td><td>131       </td><td>244       </td><td>0.34933333</td></tr>\n",
       "\t<tr><td>E         </td><td>Male      </td><td> 53       </td><td>138       </td><td>0.27748691</td></tr>\n",
       "\t<tr><td>E         </td><td>Female    </td><td> 94       </td><td>299       </td><td>0.23918575</td></tr>\n",
       "\t<tr><td>F         </td><td>Male      </td><td> 22       </td><td>351       </td><td>0.05898123</td></tr>\n",
       "\t<tr><td>F         </td><td>Female    </td><td> 24       </td><td>317       </td><td>0.07038123</td></tr>\n",
       "</tbody>\n",
       "</table>\n"
      ],
      "text/latex": [
       "\\begin{tabular}{r|lllll}\n",
       " Dept & Gender & Admitted & Rejected & Perc\\_Admit\\\\\n",
       "\\hline\n",
       "\t A          & Male       & 512        & 313        & 0.62060606\\\\\n",
       "\t A          & Female     &  89        &  19        & 0.82407407\\\\\n",
       "\t B          & Male       & 353        & 207        & 0.63035714\\\\\n",
       "\t B          & Female     &  17        &   8        & 0.68000000\\\\\n",
       "\t C          & Male       & 120        & 205        & 0.36923077\\\\\n",
       "\t C          & Female     & 202        & 391        & 0.34064081\\\\\n",
       "\t D          & Male       & 138        & 279        & 0.33093525\\\\\n",
       "\t D          & Female     & 131        & 244        & 0.34933333\\\\\n",
       "\t E          & Male       &  53        & 138        & 0.27748691\\\\\n",
       "\t E          & Female     &  94        & 299        & 0.23918575\\\\\n",
       "\t F          & Male       &  22        & 351        & 0.05898123\\\\\n",
       "\t F          & Female     &  24        & 317        & 0.07038123\\\\\n",
       "\\end{tabular}\n"
      ],
      "text/markdown": [
       "\n",
       "Dept | Gender | Admitted | Rejected | Perc_Admit | \n",
       "|---|---|---|---|---|---|---|---|---|---|---|---|\n",
       "| A          | Male       | 512        | 313        | 0.62060606 | \n",
       "| A          | Female     |  89        |  19        | 0.82407407 | \n",
       "| B          | Male       | 353        | 207        | 0.63035714 | \n",
       "| B          | Female     |  17        |   8        | 0.68000000 | \n",
       "| C          | Male       | 120        | 205        | 0.36923077 | \n",
       "| C          | Female     | 202        | 391        | 0.34064081 | \n",
       "| D          | Male       | 138        | 279        | 0.33093525 | \n",
       "| D          | Female     | 131        | 244        | 0.34933333 | \n",
       "| E          | Male       |  53        | 138        | 0.27748691 | \n",
       "| E          | Female     |  94        | 299        | 0.23918575 | \n",
       "| F          | Male       |  22        | 351        | 0.05898123 | \n",
       "| F          | Female     |  24        | 317        | 0.07038123 | \n",
       "\n",
       "\n"
      ],
      "text/plain": [
       "   Dept Gender Admitted Rejected Perc_Admit\n",
       "1  A    Male   512      313      0.62060606\n",
       "2  A    Female  89       19      0.82407407\n",
       "3  B    Male   353      207      0.63035714\n",
       "4  B    Female  17        8      0.68000000\n",
       "5  C    Male   120      205      0.36923077\n",
       "6  C    Female 202      391      0.34064081\n",
       "7  D    Male   138      279      0.33093525\n",
       "8  D    Female 131      244      0.34933333\n",
       "9  E    Male    53      138      0.27748691\n",
       "10 E    Female  94      299      0.23918575\n",
       "11 F    Male    22      351      0.05898123\n",
       "12 F    Female  24      317      0.07038123"
      ]
     },
     "metadata": {},
     "output_type": "display_data"
    }
   ],
   "source": [
    "# Table of counts of admission status and gender for each department\n",
    "admit_by_dept <- ucb_admit %>%\n",
    "    count(Dept, Gender, Admit) %>%\n",
    "    spread(Admit, n)\n",
    "\n",
    "# View result\n",
    "print(admit_by_dept)\n",
    "\n",
    "# Percentage of those admitted to each department\n",
    "admit_by_dept %>%\n",
    "  mutate(Perc_Admit = Admitted / (Admitted + Rejected))"
   ]
  },
  {
   "cell_type": "markdown",
   "metadata": {},
   "source": [
    "### Contingency table results by group\n",
    "50xp\n",
    "The final result from the previous exercise is available in your workspace as perc_admit_by_dept. Which of the following best describes the relationship between admission status and gender?\n",
    "\n",
    "Possible Answers\n",
    "Within most departments, female applicants are more likely to be admitted. (Correct)\n",
    "Within most departments, male applicants are more likely to be admitted.\n",
    "Within most departments, male and female applicants are equally likely to be admitted.\n",
    "Take Hint (-15xp)"
   ]
  },
  {
   "cell_type": "code",
   "execution_count": 11,
   "metadata": {
    "collapsed": true
   },
   "outputs": [],
   "source": [
    "perc_admit_by_dept = admit_by_dept %>%\n",
    "  mutate(Perc_Admit = Admitted / (Admitted + Rejected))"
   ]
  },
  {
   "cell_type": "code",
   "execution_count": 12,
   "metadata": {},
   "outputs": [
    {
     "data": {
      "text/html": [
       "<table>\n",
       "<thead><tr><th scope=col>Dept</th><th scope=col>Gender</th><th scope=col>Admitted</th><th scope=col>Rejected</th><th scope=col>Perc_Admit</th></tr></thead>\n",
       "<tbody>\n",
       "\t<tr><td>A         </td><td>Male      </td><td>512       </td><td>313       </td><td>0.62060606</td></tr>\n",
       "\t<tr><td>A         </td><td>Female    </td><td> 89       </td><td> 19       </td><td>0.82407407</td></tr>\n",
       "\t<tr><td>B         </td><td>Male      </td><td>353       </td><td>207       </td><td>0.63035714</td></tr>\n",
       "\t<tr><td>B         </td><td>Female    </td><td> 17       </td><td>  8       </td><td>0.68000000</td></tr>\n",
       "\t<tr><td>C         </td><td>Male      </td><td>120       </td><td>205       </td><td>0.36923077</td></tr>\n",
       "\t<tr><td>C         </td><td>Female    </td><td>202       </td><td>391       </td><td>0.34064081</td></tr>\n",
       "\t<tr><td>D         </td><td>Male      </td><td>138       </td><td>279       </td><td>0.33093525</td></tr>\n",
       "\t<tr><td>D         </td><td>Female    </td><td>131       </td><td>244       </td><td>0.34933333</td></tr>\n",
       "\t<tr><td>E         </td><td>Male      </td><td> 53       </td><td>138       </td><td>0.27748691</td></tr>\n",
       "\t<tr><td>E         </td><td>Female    </td><td> 94       </td><td>299       </td><td>0.23918575</td></tr>\n",
       "\t<tr><td>F         </td><td>Male      </td><td> 22       </td><td>351       </td><td>0.05898123</td></tr>\n",
       "\t<tr><td>F         </td><td>Female    </td><td> 24       </td><td>317       </td><td>0.07038123</td></tr>\n",
       "</tbody>\n",
       "</table>\n"
      ],
      "text/latex": [
       "\\begin{tabular}{r|lllll}\n",
       " Dept & Gender & Admitted & Rejected & Perc\\_Admit\\\\\n",
       "\\hline\n",
       "\t A          & Male       & 512        & 313        & 0.62060606\\\\\n",
       "\t A          & Female     &  89        &  19        & 0.82407407\\\\\n",
       "\t B          & Male       & 353        & 207        & 0.63035714\\\\\n",
       "\t B          & Female     &  17        &   8        & 0.68000000\\\\\n",
       "\t C          & Male       & 120        & 205        & 0.36923077\\\\\n",
       "\t C          & Female     & 202        & 391        & 0.34064081\\\\\n",
       "\t D          & Male       & 138        & 279        & 0.33093525\\\\\n",
       "\t D          & Female     & 131        & 244        & 0.34933333\\\\\n",
       "\t E          & Male       &  53        & 138        & 0.27748691\\\\\n",
       "\t E          & Female     &  94        & 299        & 0.23918575\\\\\n",
       "\t F          & Male       &  22        & 351        & 0.05898123\\\\\n",
       "\t F          & Female     &  24        & 317        & 0.07038123\\\\\n",
       "\\end{tabular}\n"
      ],
      "text/markdown": [
       "\n",
       "Dept | Gender | Admitted | Rejected | Perc_Admit | \n",
       "|---|---|---|---|---|---|---|---|---|---|---|---|\n",
       "| A          | Male       | 512        | 313        | 0.62060606 | \n",
       "| A          | Female     |  89        |  19        | 0.82407407 | \n",
       "| B          | Male       | 353        | 207        | 0.63035714 | \n",
       "| B          | Female     |  17        |   8        | 0.68000000 | \n",
       "| C          | Male       | 120        | 205        | 0.36923077 | \n",
       "| C          | Female     | 202        | 391        | 0.34064081 | \n",
       "| D          | Male       | 138        | 279        | 0.33093525 | \n",
       "| D          | Female     | 131        | 244        | 0.34933333 | \n",
       "| E          | Male       |  53        | 138        | 0.27748691 | \n",
       "| E          | Female     |  94        | 299        | 0.23918575 | \n",
       "| F          | Male       |  22        | 351        | 0.05898123 | \n",
       "| F          | Female     |  24        | 317        | 0.07038123 | \n",
       "\n",
       "\n"
      ],
      "text/plain": [
       "   Dept Gender Admitted Rejected Perc_Admit\n",
       "1  A    Male   512      313      0.62060606\n",
       "2  A    Female  89       19      0.82407407\n",
       "3  B    Male   353      207      0.63035714\n",
       "4  B    Female  17        8      0.68000000\n",
       "5  C    Male   120      205      0.36923077\n",
       "6  C    Female 202      391      0.34064081\n",
       "7  D    Male   138      279      0.33093525\n",
       "8  D    Female 131      244      0.34933333\n",
       "9  E    Male    53      138      0.27748691\n",
       "10 E    Female  94      299      0.23918575\n",
       "11 F    Male    22      351      0.05898123\n",
       "12 F    Female  24      317      0.07038123"
      ]
     },
     "metadata": {},
     "output_type": "display_data"
    }
   ],
   "source": [
    "perc_admit_by_dept"
   ]
  },
  {
   "cell_type": "markdown",
   "metadata": {},
   "source": [
    "## Recap: Simpson's paradox - Video"
   ]
  },
  {
   "cell_type": "markdown",
   "metadata": {},
   "source": [
    "# 3. Sampling strategies and experimental design"
   ]
  },
  {
   "cell_type": "markdown",
   "metadata": {},
   "source": [
    "## Sampling strategies - Video"
   ]
  },
  {
   "cell_type": "markdown",
   "metadata": {},
   "source": [
    "### Sampling strategies, determine which\n",
    "\n",
    "\n",
    "A consulting company is planning a pilot study on marketing in Boston. They identify the zip codes that make up the greater Boston area, then sample 50 randomly selected addresses from each zip code and mail a coupon to these addresses. They then track whether the coupon was used in the following month.\n",
    "\n",
    "What sampling strategy has this company used?\n",
    "Possible Answers\n",
    "\n",
    "    -  Simple random sample\n",
    "    -  Stratified sample (Correct)\n",
    "    -  Cluster sample\n",
    "    -  Multistage sample"
   ]
  },
  {
   "cell_type": "markdown",
   "metadata": {},
   "source": [
    "Simple random sample : Try again. The company is dividing the Boston area by zip code. \n",
    "Cluster sample :  Hmm, not quite. The company isn't sampling all the houses in each zip code. \n",
    "Multistage sample : Not quite! The company is sampling 50 addresses from each zip code. "
   ]
  },
  {
   "cell_type": "markdown",
   "metadata": {},
   "source": [
    "### Sampling strategies, choose worst\n",
    "\n",
    "A school district has requested a survey be conducted on the socioeconomic status of their students. Their budget only allows them to conduct the survey in some of the schools, hence they need to first sample a few schools.\n",
    "\n",
    "Students living in this district generally attend a school in their neighborhood. The district is broken into many distinct and unique neighborhoods, some including large single-family homes and others with only low-income housing.\n",
    "\n",
    "Which approach would likely be the least effective for selecting the schools where the survey will be conducted?\n",
    "Possible Answers\n",
    "\n",
    "   - Simple random sampling\n",
    "   - Stratified sampling, where each stratum is a neighborhood \n",
    "   - Cluster sampling, where each cluster is a neighborhood (Correct)"
   ]
  },
  {
   "cell_type": "markdown",
   "metadata": {},
   "source": [
    "Stratified sampling, where each stratum is a neighborhood : Try again. Remember, the socioeconomic status of each neighborhood is unique."
   ]
  },
  {
   "cell_type": "markdown",
   "metadata": {},
   "source": [
    "This sampling strategy would be a bad idea because each neighborhood has a unique socioeconomic status. A good study would collect information about every neighborhood."
   ]
  },
  {
   "cell_type": "markdown",
   "metadata": {},
   "source": [
    "## Sampling in R - Video"
   ]
  },
  {
   "cell_type": "markdown",
   "metadata": {},
   "source": [
    "### Simple random sample in R\n",
    "100xp\n",
    "\n",
    "Suppose you want to collect some data from a sample of eight states. A list of all states and the region they belong to (Northeast, Midwest, South, West) are given in the us_regions data frame.\n",
    "Instructions\n",
    "\n",
    "The dplyr package and us_regions data frame have been loaded for you.\n",
    "\n",
    "   -  Use simple random sampling to select eight states from us_regions. Save this sample in a data frame called states_srs.\n",
    "   -  Count the number of states from each region in your sample.\n"
   ]
  },
  {
   "cell_type": "code",
   "execution_count": 13,
   "metadata": {
    "collapsed": true
   },
   "outputs": [],
   "source": [
    "load(\"us_regions.RData\")"
   ]
  },
  {
   "cell_type": "code",
   "execution_count": 17,
   "metadata": {},
   "outputs": [
    {
     "data": {
      "text/html": [
       "<table>\n",
       "<thead><tr><th scope=col>region</th><th scope=col>n</th></tr></thead>\n",
       "<tbody>\n",
       "\t<tr><td>Midwest  </td><td>2        </td></tr>\n",
       "\t<tr><td>Northeast</td><td>1        </td></tr>\n",
       "\t<tr><td>South    </td><td>3        </td></tr>\n",
       "\t<tr><td>West     </td><td>2        </td></tr>\n",
       "</tbody>\n",
       "</table>\n"
      ],
      "text/latex": [
       "\\begin{tabular}{r|ll}\n",
       " region & n\\\\\n",
       "\\hline\n",
       "\t Midwest   & 2        \\\\\n",
       "\t Northeast & 1        \\\\\n",
       "\t South     & 3        \\\\\n",
       "\t West      & 2        \\\\\n",
       "\\end{tabular}\n"
      ],
      "text/markdown": [
       "\n",
       "region | n | \n",
       "|---|---|---|---|\n",
       "| Midwest   | 2         | \n",
       "| Northeast | 1         | \n",
       "| South     | 3         | \n",
       "| West      | 2         | \n",
       "\n",
       "\n"
      ],
      "text/plain": [
       "  region    n\n",
       "1 Midwest   2\n",
       "2 Northeast 1\n",
       "3 South     3\n",
       "4 West      2"
      ]
     },
     "metadata": {},
     "output_type": "display_data"
    }
   ],
   "source": [
    "# Simple random sample: states_srs\n",
    "states_srs <- us_regions %>% \n",
    "  sample_n(size=8)\n",
    "\n",
    "# Count states by region\n",
    "states_srs %>%\n",
    "  group_by(region) %>%\n",
    "  count()"
   ]
  },
  {
   "cell_type": "code",
   "execution_count": 18,
   "metadata": {},
   "outputs": [
    {
     "data": {
      "text/html": [
       "<table>\n",
       "<thead><tr><th scope=col>region</th><th scope=col>n</th></tr></thead>\n",
       "<tbody>\n",
       "\t<tr><td>Midwest  </td><td>2        </td></tr>\n",
       "\t<tr><td>Northeast</td><td>1        </td></tr>\n",
       "\t<tr><td>South    </td><td>3        </td></tr>\n",
       "\t<tr><td>West     </td><td>2        </td></tr>\n",
       "</tbody>\n",
       "</table>\n"
      ],
      "text/latex": [
       "\\begin{tabular}{r|ll}\n",
       " region & n\\\\\n",
       "\\hline\n",
       "\t Midwest   & 2        \\\\\n",
       "\t Northeast & 1        \\\\\n",
       "\t South     & 3        \\\\\n",
       "\t West      & 2        \\\\\n",
       "\\end{tabular}\n"
      ],
      "text/markdown": [
       "\n",
       "region | n | \n",
       "|---|---|---|---|\n",
       "| Midwest   | 2         | \n",
       "| Northeast | 1         | \n",
       "| South     | 3         | \n",
       "| West      | 2         | \n",
       "\n",
       "\n"
      ],
      "text/plain": [
       "  region    n\n",
       "1 Midwest   2\n",
       "2 Northeast 1\n",
       "3 South     3\n",
       "4 West      2"
      ]
     },
     "metadata": {},
     "output_type": "display_data"
    }
   ],
   "source": [
    "# Count states by region\n",
    "states_srs %>%\n",
    "  count(region)"
   ]
  },
  {
   "cell_type": "markdown",
   "metadata": {},
   "source": [
    "Notice that this strategy selects an unequal number of states from each region. In the next exercise, you'll implement stratified sampling to select an equal number of states from each region. "
   ]
  },
  {
   "cell_type": "markdown",
   "metadata": {},
   "source": [
    "### Stratified sample in R\n",
    "\n",
    "In the last exercise, you took a simple random sample of eight states. However, as you may have noticed when you counted the number of states selected from each region, this strategy is unlikely to select an equal number of states from each region. The goal of stratified sampling is to select an equal number of states from each region.\n",
    "Instructions\n",
    "\n",
    "The dplyr package has been loaded for you and us_regions is still available in your workspace.\n",
    "\n",
    "    - Use stratified sampling to select a total of eight states, where each stratum is a region. Save this sample in a data frame called states_str.\n",
    "    - Count the number of states from each region in your sample to confirm that each region is represented equally in your sample.\n"
   ]
  },
  {
   "cell_type": "code",
   "execution_count": null,
   "metadata": {
    "collapsed": true
   },
   "outputs": [],
   "source": [
    "Hint\n",
    "\n",
    "    To obtain a stratified sample, first group_by() the region variable, then call sample_n(). Because there are 4 regions, you need to sample 2 states from each region to select a total of 8 states.\n",
    "    To count the number of states by region, first group_by() the region variable, then call count().\n"
   ]
  },
  {
   "cell_type": "code",
   "execution_count": 19,
   "metadata": {},
   "outputs": [
    {
     "data": {
      "text/html": [
       "<table>\n",
       "<thead><tr><th scope=col>region</th><th scope=col>n</th></tr></thead>\n",
       "<tbody>\n",
       "\t<tr><td>Midwest  </td><td>2        </td></tr>\n",
       "\t<tr><td>Northeast</td><td>2        </td></tr>\n",
       "\t<tr><td>South    </td><td>2        </td></tr>\n",
       "\t<tr><td>West     </td><td>2        </td></tr>\n",
       "</tbody>\n",
       "</table>\n"
      ],
      "text/latex": [
       "\\begin{tabular}{r|ll}\n",
       " region & n\\\\\n",
       "\\hline\n",
       "\t Midwest   & 2        \\\\\n",
       "\t Northeast & 2        \\\\\n",
       "\t South     & 2        \\\\\n",
       "\t West      & 2        \\\\\n",
       "\\end{tabular}\n"
      ],
      "text/markdown": [
       "\n",
       "region | n | \n",
       "|---|---|---|---|\n",
       "| Midwest   | 2         | \n",
       "| Northeast | 2         | \n",
       "| South     | 2         | \n",
       "| West      | 2         | \n",
       "\n",
       "\n"
      ],
      "text/plain": [
       "  region    n\n",
       "1 Midwest   2\n",
       "2 Northeast 2\n",
       "3 South     2\n",
       "4 West      2"
      ]
     },
     "metadata": {},
     "output_type": "display_data"
    }
   ],
   "source": [
    "# Stratified sample\n",
    "states_str <- us_regions %>%\n",
    "  group_by(region) %>%\n",
    "  sample_n(size=2)\n",
    "\n",
    "# Count states by region\n",
    "states_str %>%\n",
    "  group_by(region) %>%\n",
    "  count()"
   ]
  },
  {
   "cell_type": "code",
   "execution_count": null,
   "metadata": {
    "collapsed": true
   },
   "outputs": [],
   "source": [
    "In a stratified sample, each stratum (i.e. Region) is represented equally. "
   ]
  },
  {
   "cell_type": "markdown",
   "metadata": {},
   "source": [
    "### Compare SRS vs. stratified sample\n",
    "\n",
    "Which method, simple random sampling or stratified sampling, ensures an equal number of states from each region?\n",
    "Possible Answers\n",
    "\n",
    "    1. Simple random sampling\n",
    "    2. Stratified sampling (Correct)"
   ]
  },
  {
   "cell_type": "markdown",
   "metadata": {},
   "source": [
    "### Principles of experimental design"
   ]
  },
  {
   "cell_type": "markdown",
   "metadata": {},
   "source": [
    "Identifying components of a study\n",
    "50xp\n",
    "\n",
    "A researcher designs a study to test the effect of light and noise levels on exam performance of students. The researcher also believes that light and noise levels might have different effects on males and females, so she wants to make sure both genders are represented equally under different conditions.\n",
    "\n",
    "Which of the below is correct?\n",
    "Possible Answers\n",
    "\n",
    "    1. There are 3 explanatory variables (light, noise, gender) and 1 response variable (exam performance). \n",
    "    2. There is 1 explanatory variable (gender) and 3 response variables (light, noise, exam performance).\n",
    "    3. There are 2 blocking variables (light and noise), 1 explanatory variable (gender), and 1 response variable (exam performance).\n",
    "    4. There are 2 explanatory variables (light and noise), 1 blocking variable (gender), and 1 response variable (exam performance). (Correct)\n"
   ]
  },
  {
   "cell_type": "markdown",
   "metadata": {},
   "source": [
    "### Experimental design terminology\n",
    "\n",
    "\n",
    "___ variables are conditions you can impose on the experimental units, while ___ variables are characteristics that the experimental units come with that you would like to control for.\n",
    "Possible Answers\n",
    "\n",
    "    1. Blocking, explanatory\n",
    "    2. Explanatory, blocking (Correct)\n",
    "    3. Control, treatment\n",
    "    4. Treatment, control\n",
    "    \n",
    "    Take Hint (-15xp)"
   ]
  },
  {
   "cell_type": "markdown",
   "metadata": {},
   "source": [
    "### Connect blocking and stratifying\n",
    "\n",
    "\n",
    "In random sampling, you use ___ to control for a variable. In random assignment, you use ___ to achieve the same goal.\n",
    "Possible Answers\n",
    "Click or Press Ctrl+1 to focus\n",
    "\n",
    "     - stratifying, blocking (Correct)\n",
    "     - blocking, stratifying\n",
    "     - confounding, stratifying\n",
    "     - confounding, blocking"
   ]
  },
  {
   "cell_type": "markdown",
   "metadata": {},
   "source": [
    "# 4. Case study"
   ]
  },
  {
   "cell_type": "markdown",
   "metadata": {},
   "source": [
    "## Beauty in classroom - Video"
   ]
  },
  {
   "cell_type": "markdown",
   "metadata": {},
   "source": [
    "### Inspect the data\n",
    "100xp\n",
    "\n",
    "The purpose of this chapter is to give you an opportunity to apply and practice what you've learned on a real world dataset. For this reason, we'll provide a little less guidance than usual.\n",
    "\n",
    "The data from the study described in the video are available in your workspace as evals. Let's take a look!\n",
    "Instructions\n",
    "\n",
    "Inspect the evals data frame using techniques you learned in previous chapters. Use an approach that shows you how many observations and variables are included in the dataset."
   ]
  },
  {
   "cell_type": "code",
   "execution_count": 27,
   "metadata": {
    "collapsed": true
   },
   "outputs": [],
   "source": [
    "load(\"evals.RData\")"
   ]
  },
  {
   "cell_type": "code",
   "execution_count": 28,
   "metadata": {},
   "outputs": [
    {
     "name": "stdout",
     "output_type": "stream",
     "text": [
      "Classes 'tbl_df', 'tbl' and 'data.frame':\t463 obs. of  21 variables:\n",
      " $ score        : num  4.7 4.1 3.9 4.8 4.6 4.3 2.8 4.1 3.4 4.5 ...\n",
      " $ rank         : Factor w/ 3 levels \"teaching\",\"tenure track\",..: 2 2 2 2 3 3 3 3 3 3 ...\n",
      " $ ethnicity    : Factor w/ 2 levels \"minority\",\"not minority\": 1 1 1 1 2 2 2 2 2 2 ...\n",
      " $ gender       : Factor w/ 2 levels \"female\",\"male\": 1 1 1 1 2 2 2 2 2 1 ...\n",
      " $ language     : Factor w/ 2 levels \"english\",\"non-english\": 1 1 1 1 1 1 1 1 1 1 ...\n",
      " $ age          : int  36 36 36 36 59 59 59 51 51 40 ...\n",
      " $ cls_perc_eval: num  55.8 68.8 60.8 62.6 85 ...\n",
      " $ cls_did_eval : int  24 86 76 77 17 35 39 55 111 40 ...\n",
      " $ cls_students : int  43 125 125 123 20 40 44 55 195 46 ...\n",
      " $ cls_level    : Factor w/ 2 levels \"lower\",\"upper\": 2 2 2 2 2 2 2 2 2 2 ...\n",
      " $ cls_profs    : Factor w/ 2 levels \"multiple\",\"single\": 2 2 2 2 1 1 1 2 2 2 ...\n",
      " $ cls_credits  : Factor w/ 2 levels \"multi credit\",..: 1 1 1 1 1 1 1 1 1 1 ...\n",
      " $ bty_f1lower  : int  5 5 5 5 4 4 4 5 5 2 ...\n",
      " $ bty_f1upper  : int  7 7 7 7 4 4 4 2 2 5 ...\n",
      " $ bty_f2upper  : int  6 6 6 6 2 2 2 5 5 4 ...\n",
      " $ bty_m1lower  : int  2 2 2 2 2 2 2 2 2 3 ...\n",
      " $ bty_m1upper  : int  4 4 4 4 3 3 3 3 3 3 ...\n",
      " $ bty_m2upper  : int  6 6 6 6 3 3 3 3 3 2 ...\n",
      " $ bty_avg      : num  5 5 5 5 3 ...\n",
      " $ pic_outfit   : Factor w/ 2 levels \"formal\",\"not formal\": 2 2 2 2 2 2 2 2 2 2 ...\n",
      " $ pic_color    : Factor w/ 2 levels \"black&white\",..: 2 2 2 2 2 2 2 2 2 2 ...\n"
     ]
    }
   ],
   "source": [
    "# Inspect evals\n",
    "str(evals)"
   ]
  },
  {
   "cell_type": "markdown",
   "metadata": {},
   "source": [
    "## Identify type of study\n",
    "50xp\n",
    "\n",
    "What type of study is this?\n",
    "Possible Answers\n",
    "\n",
    "    1. Observational study (Correct)\n",
    "    2. Experiment"
   ]
  },
  {
   "cell_type": "markdown",
   "metadata": {},
   "source": [
    "### Sampling / experimental attributes\n",
    "\n",
    "The data from this study were gathered by ___.\n",
    "Possible Answers\n",
    "\n",
    "    1. randomly sampling classes (Correct)\n",
    "    2. randomly sampling students\n",
    "    3. randomly assigning students to classes\n",
    "    4. randomly assigning professors to students"
   ]
  },
  {
   "cell_type": "markdown",
   "metadata": {},
   "source": [
    "## Variables in the data - Video"
   ]
  },
  {
   "cell_type": "markdown",
   "metadata": {},
   "source": [
    "### Identify variable types\n",
    "100xp\n",
    "\n",
    "It's always useful to start your exploration of a dataset by identifying variable types. The results from this exercise will help you design appropriate visualizations and calculate useful summary statistics later in your analysis.\n",
    "Instructions\n",
    "\n",
    "    - Explore the evals data once again with the following goals in mind:\n",
    "         - Identify each variable as numerical or categorical.\n",
    "         - If numerical, determine if discrete or continuous.\n",
    "         - If categorical, determine if ordinal or not.\n",
    "    - We've created a vector of variable names in the editor called cat_vars. To test your understanding of the data, remove the names of any variables that are not categorical.\n"
   ]
  },
  {
   "cell_type": "code",
   "execution_count": 29,
   "metadata": {},
   "outputs": [
    {
     "name": "stdout",
     "output_type": "stream",
     "text": [
      "Observations: 463\n",
      "Variables: 21\n",
      "$ score         <dbl> 4.7, 4.1, 3.9, 4.8, 4.6, 4.3, 2.8, 4.1, 3.4, 4.5, 3.8...\n",
      "$ rank          <fctr> tenure track, tenure track, tenure track, tenure tra...\n",
      "$ ethnicity     <fctr> minority, minority, minority, minority, not minority...\n",
      "$ gender        <fctr> female, female, female, female, male, male, male, ma...\n",
      "$ language      <fctr> english, english, english, english, english, english...\n",
      "$ age           <int> 36, 36, 36, 36, 59, 59, 59, 51, 51, 40, 40, 40, 40, 4...\n",
      "$ cls_perc_eval <dbl> 55.81395, 68.80000, 60.80000, 62.60163, 85.00000, 87....\n",
      "$ cls_did_eval  <int> 24, 86, 76, 77, 17, 35, 39, 55, 111, 40, 24, 24, 17, ...\n",
      "$ cls_students  <int> 43, 125, 125, 123, 20, 40, 44, 55, 195, 46, 27, 25, 2...\n",
      "$ cls_level     <fctr> upper, upper, upper, upper, upper, upper, upper, upp...\n",
      "$ cls_profs     <fctr> single, single, single, single, multiple, multiple, ...\n",
      "$ cls_credits   <fctr> multi credit, multi credit, multi credit, multi cred...\n",
      "$ bty_f1lower   <int> 5, 5, 5, 5, 4, 4, 4, 5, 5, 2, 2, 2, 2, 2, 2, 2, 2, 7,...\n",
      "$ bty_f1upper   <int> 7, 7, 7, 7, 4, 4, 4, 2, 2, 5, 5, 5, 5, 5, 5, 5, 5, 9,...\n",
      "$ bty_f2upper   <int> 6, 6, 6, 6, 2, 2, 2, 5, 5, 4, 4, 4, 4, 4, 4, 4, 4, 9,...\n",
      "$ bty_m1lower   <int> 2, 2, 2, 2, 2, 2, 2, 2, 2, 3, 3, 3, 3, 3, 3, 3, 3, 7,...\n",
      "$ bty_m1upper   <int> 4, 4, 4, 4, 3, 3, 3, 3, 3, 3, 3, 3, 3, 3, 3, 3, 3, 6,...\n",
      "$ bty_m2upper   <int> 6, 6, 6, 6, 3, 3, 3, 3, 3, 2, 2, 2, 2, 2, 2, 2, 2, 6,...\n",
      "$ bty_avg       <dbl> 5.000, 5.000, 5.000, 5.000, 3.000, 3.000, 3.000, 3.33...\n",
      "$ pic_outfit    <fctr> not formal, not formal, not formal, not formal, not ...\n",
      "$ pic_color     <fctr> color, color, color, color, color, color, color, col...\n",
      "Classes 'tbl_df', 'tbl' and 'data.frame':\t463 obs. of  21 variables:\n",
      " $ score        : num  4.7 4.1 3.9 4.8 4.6 4.3 2.8 4.1 3.4 4.5 ...\n",
      " $ rank         : Factor w/ 3 levels \"teaching\",\"tenure track\",..: 2 2 2 2 3 3 3 3 3 3 ...\n",
      " $ ethnicity    : Factor w/ 2 levels \"minority\",\"not minority\": 1 1 1 1 2 2 2 2 2 2 ...\n",
      " $ gender       : Factor w/ 2 levels \"female\",\"male\": 1 1 1 1 2 2 2 2 2 1 ...\n",
      " $ language     : Factor w/ 2 levels \"english\",\"non-english\": 1 1 1 1 1 1 1 1 1 1 ...\n",
      " $ age          : int  36 36 36 36 59 59 59 51 51 40 ...\n",
      " $ cls_perc_eval: num  55.8 68.8 60.8 62.6 85 ...\n",
      " $ cls_did_eval : int  24 86 76 77 17 35 39 55 111 40 ...\n",
      " $ cls_students : int  43 125 125 123 20 40 44 55 195 46 ...\n",
      " $ cls_level    : Factor w/ 2 levels \"lower\",\"upper\": 2 2 2 2 2 2 2 2 2 2 ...\n",
      " $ cls_profs    : Factor w/ 2 levels \"multiple\",\"single\": 2 2 2 2 1 1 1 2 2 2 ...\n",
      " $ cls_credits  : Factor w/ 2 levels \"multi credit\",..: 1 1 1 1 1 1 1 1 1 1 ...\n",
      " $ bty_f1lower  : int  5 5 5 5 4 4 4 5 5 2 ...\n",
      " $ bty_f1upper  : int  7 7 7 7 4 4 4 2 2 5 ...\n",
      " $ bty_f2upper  : int  6 6 6 6 2 2 2 5 5 4 ...\n",
      " $ bty_m1lower  : int  2 2 2 2 2 2 2 2 2 3 ...\n",
      " $ bty_m1upper  : int  4 4 4 4 3 3 3 3 3 3 ...\n",
      " $ bty_m2upper  : int  6 6 6 6 3 3 3 3 3 2 ...\n",
      " $ bty_avg      : num  5 5 5 5 3 ...\n",
      " $ pic_outfit   : Factor w/ 2 levels \"formal\",\"not formal\": 2 2 2 2 2 2 2 2 2 2 ...\n",
      " $ pic_color    : Factor w/ 2 levels \"black&white\",..: 2 2 2 2 2 2 2 2 2 2 ...\n"
     ]
    }
   ],
   "source": [
    "# Inspect variable types\n",
    "glimpse(evals)\n",
    "str(evals) # Another option\n",
    "\n",
    "# Remove non-factor variables from this vector\n",
    "cat_vars <- c(\"rank\", \"ethnicity\", \"gender\", \"language\",\n",
    "              \"cls_level\", \"cls_profs\", \"cls_credits\",\n",
    "              \"pic_outfit\", \"pic_color\") "
   ]
  },
  {
   "cell_type": "markdown",
   "metadata": {},
   "source": [
    "### Recode a variable\n",
    "\n",
    "The cls_students variable in evals tells you the number of students in the class. Suppose instead of the exact number of students, you're interested in whether the class is\n",
    "\n",
    "    \"small\" (18 students or fewer),\n",
    "    \"midsize\" (19 - 59 students), or\n",
    "    \"large\" (60 students or more).\n",
    "\n",
    "Since you'd like to have three distinct levels (instead of just two), you will need a nested call to ifelse(), which means that you'll call ifelse() a second time from within your first call to ifelse(). We've provided some scaffolding for you in the editor—see if you can figure it out!\n",
    "Instructions\n",
    "\n",
    "    - Recode the cls_students variable into a new variable, cls_type, having the three levels described above. Save the resulting data frame (with the new variable) as evals.\n",
    "    - What type of variable is cls_type?\n"
   ]
  },
  {
   "cell_type": "code",
   "execution_count": 30,
   "metadata": {
    "collapsed": true
   },
   "outputs": [],
   "source": [
    "# Recode cls_students as cls_type: evals\n",
    "evals <- evals %>%\n",
    "  # Create new variable\n",
    "  mutate(cls_type = ifelse(cls_students<=18, \"small\", \n",
    "                      ifelse(cls_students<=59, \"midsize\", \"large\")))"
   ]
  },
  {
   "cell_type": "markdown",
   "metadata": {},
   "source": [
    "The cls_type variable is a categorical variable, stored as a character vector. You could have made it a factor variable by wrapping the nested ifelse() statements inside factor(). You don't have to do that now. Let's move on! "
   ]
  },
  {
   "cell_type": "code",
   "execution_count": 32,
   "metadata": {},
   "outputs": [
    {
     "data": {
      "text/plain": [
       "\n",
       "  large midsize   small \n",
       "    117     233     113 "
      ]
     },
     "metadata": {},
     "output_type": "display_data"
    }
   ],
   "source": [
    "table(evals$cls_type)"
   ]
  },
  {
   "cell_type": "markdown",
   "metadata": {},
   "source": [
    "### Create a scatterplot\n",
    "100xp\n",
    "\n",
    "The bty_avg variable shows the average beauty rating of the professor by the six students who were asked to rate the attractiveness of these faculty. The score variable shows the average professor evaluation score, with 1 being very unsatisfactory and 5 being excellent.\n",
    "Instructions\n",
    "\n",
    "   - Use ggplot() to create a scatterplot displaying the relationship between these two variables.\n",
    "   - How would you describe the relationship apparent in this visualization?\n"
   ]
  },
  {
   "cell_type": "code",
   "execution_count": 33,
   "metadata": {},
   "outputs": [
    {
     "data": {},
     "metadata": {},
     "output_type": "display_data"
    },
    {
     "data": {
      "image/png": "[encoded data removed]",
      "text/plain": [
       "plot without title"
      ]
     },
     "metadata": {},
     "output_type": "display_data"
    }
   ],
   "source": [
    "# Scatterplot of score vs. bty_avg\n",
    "ggplot(evals, aes(bty_avg, score)) +\n",
    "  geom_point()"
   ]
  },
  {
   "cell_type": "code",
   "execution_count": null,
   "metadata": {
    "collapsed": true
   },
   "outputs": [],
   "source": [
    "Create a scatterplot, with an added layer\n",
    "100xp\n",
    "\n",
    "Suppose you are interested in evaluating how the relationship between a professor's attractiveness and their evaluation score varies across different class types (small, midsize, and large).\n",
    "Instructions\n",
    "\n",
    "    - Recreate your visualization from the previous exercise, but this time coloring the points by class type.\n",
    "    - How would you describe the relationship apparent in this visualization?\n"
   ]
  },
  {
   "cell_type": "code",
   "execution_count": 34,
   "metadata": {},
   "outputs": [
    {
     "data": {},
     "metadata": {},
     "output_type": "display_data"
    },
    {
     "data": {
      "image/png": "[encoded data removed]",
      "text/plain": [
       "plot without title"
      ]
     },
     "metadata": {},
     "output_type": "display_data"
    }
   ],
   "source": [
    "# Scatterplot of score vs. bty_avg colored by cls_type\n",
    "ggplot(evals, aes(bty_avg, score, color=cls_type)) +\n",
    "  geom_point()"
   ]
  },
  {
   "cell_type": "code",
   "execution_count": null,
   "metadata": {
    "collapsed": true
   },
   "outputs": [],
   "source": [
    "#col and color both can be used. But Datacamp is accepting only \"color\""
   ]
  },
  {
   "cell_type": "code",
   "execution_count": 25,
   "metadata": {},
   "outputs": [
    {
     "data": {},
     "metadata": {},
     "output_type": "display_data"
    },
    {
     "data": {
      "image/png": "[encoded data removed]",
      "text/plain": [
       "plot without title"
      ]
     },
     "metadata": {},
     "output_type": "display_data"
    }
   ],
   "source": [
    "ggplot(data = hsb2, aes(x = science, y = math, col = prog)) +\n",
    "geom_point()"
   ]
  },
  {
   "cell_type": "markdown",
   "metadata": {},
   "source": [
    "### Congratulations!"
   ]
  },
  {
   "cell_type": "markdown",
   "metadata": {},
   "source": [
    "# Thanks You"
   ]
  },
  {
   "cell_type": "code",
   "execution_count": null,
   "metadata": {
    "collapsed": true
   },
   "outputs": [],
   "source": []
  }
 ],
 "metadata": {
  "anaconda-cloud": {},
  "kernelspec": {
   "display_name": "R",
   "language": "R",
   "name": "ir"
  },
  "language_info": {
   "codemirror_mode": "r",
   "file_extension": ".r",
   "mimetype": "text/x-r-source",
   "name": "R",
   "pygments_lexer": "r",
   "version": "3.4.1"
  }
 },
 "nbformat": 4,
 "nbformat_minor": 1
}
