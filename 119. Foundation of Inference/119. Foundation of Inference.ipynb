{
 "cells": [
  {
   "cell_type": "markdown",
   "metadata": {},
   "source": [
    "### Course Description\n",
    "\n",
    "One of the foundational aspects of statistical analysis is inference, or the process of drawing conclusions about a larger population from a sample of data. Although counter intuitive, the standard practice is to attempt to disprove a research claim that is not of interest. For example, to show that one medical treatment is better than another, we can assume that the two treatments lead to equal survival rates only to then be disproved by the data. Additionally, we introduce the idea of a p-value, or the degree of disagreement between the data and the hypothesis. We also dive into confidence intervals, which measure the magnitude of the effect of interest (e.g. how much better one treatment is than another).`"
   ]
  },
  {
   "cell_type": "markdown",
   "metadata": {},
   "source": [
    "**p-value measures the degree of disagreement between the data and the null hypothesis**"
   ]
  },
  {
   "cell_type": "code",
   "execution_count": 3,
   "metadata": {},
   "outputs": [
    {
     "name": "stdout",
     "output_type": "stream",
     "text": [
      "package 'NHANES' successfully unpacked and MD5 sums checked\n",
      "\n",
      "The downloaded binary packages are in\n",
      "\tC:\\Users\\mohammads6\\AppData\\Local\\Temp\\RtmpwnXQPf\\downloaded_packages\n"
     ]
    }
   ],
   "source": [
    "#install the packages if required\n",
    "#install.packages('NHANES', repos='http://cran.us.r-project.org')\n",
    "devtools"
   ]
  },
  {
   "cell_type": "code",
   "execution_count": 4,
   "metadata": {},
   "outputs": [
    {
     "name": "stderr",
     "output_type": "stream",
     "text": [
      "Warning message:\n",
      "\"package 'NHANES' was built under R version 3.4.2\"\n",
      "Attaching package: 'dplyr'\n",
      "\n",
      "The following objects are masked from 'package:stats':\n",
      "\n",
      "    filter, lag\n",
      "\n",
      "The following objects are masked from 'package:base':\n",
      "\n",
      "    intersect, setdiff, setequal, union\n",
      "\n"
     ]
    }
   ],
   "source": [
    "library(NHANES)\n",
    "library(dplyr)\n",
    "library(tidyr)\n",
    "library(ggplot2)"
   ]
  },
  {
   "cell_type": "markdown",
   "metadata": {},
   "source": [
    "# 1. Introduction to ideas of inference "
   ]
  },
  {
   "cell_type": "markdown",
   "metadata": {},
   "source": [
    "In this chapter, you will investigate how repeated samples taken from a population can vary. It is the variability in samples that allow you to make claims about the population of interest. It is important to remember that the research claims of interest focus on the population while the information available comes only from the sample data."
   ]
  },
  {
   "cell_type": "markdown",
   "metadata": {},
   "source": [
    "## Welcome to the course!"
   ]
  },
  {
   "cell_type": "markdown",
   "metadata": {},
   "source": [
    "### Hypotheses (1)\n",
    "\n",
    "Consider drug A for diabetes that a pharmaceutical company is trying to pass through the FDA. Currently, most doctors prescribe drug B to treat diabetes.\n",
    "\n",
    "Which would be a good null hypothesis?\n",
    "\n",
    "Possible Answers\n",
    "- Drug A is better than drug B at treating diabetes.\n",
    "- Drug A is worse than drug B at treating diabetes.\n",
    "- Drug A is different than drug B at treating diabetes (but you don't know if it is better or worse).\n",
    "- Drug A is the same as drug B at treating diabetes. (Correct)"
   ]
  },
  {
   "cell_type": "markdown",
   "metadata": {},
   "source": [
    "### Hypotheses (2)\n",
    "\n",
    "Consider the same situation as in the last exercise. A pharmaceutical company is trying to pass drug A for diabetes through the FDA, but most doctors currently prescribe drug B.\n",
    "\n",
    "Which would be a good alternative hypothesis?\n",
    "\n",
    "Possible Answers\n",
    " - Drug A is better than drug B at treating diabetes. (Correct)\n",
    " - Drug A is worse than drug B at treating diabetes.\n",
    " - Drug A is different than drug B at treating diabetes (but you don't know if it is better or worse).\n",
    " - Drug A is the same as drug B at treating diabetes.\n",
    "\n",
    "The alternative hypothesis corresponds to the research question of interest, in this case whether drug A is more effective at treating diabetes than drug B."
   ]
  },
  {
   "cell_type": "markdown",
   "metadata": {},
   "source": [
    "## Randomized distributions - Video"
   ]
  },
  {
   "cell_type": "markdown",
   "metadata": {},
   "source": [
    "### Working with the NHANES data\n",
    "\n",
    "Throughout this chapter, you will use the NHANES dataset from the NHANES R package. These data are collected by the CDC and can be thought of as a random sample of US residents.\n",
    "\n",
    "Before moving on to investigate particular variables, you'll have an opportunity to briefly explore the data in this exercise.\n",
    "\n",
    "Instructions\n",
    " - Load the dplyr, ggplot2, and NHANES packages, one at a time.\n",
    " - Use the names() function to list the variables included in NHANES. (See ?NHANES for more info.)\n",
    " - Create a barplot for HomeOwn broken down by Gender. Use geom_bar(position = \"fill\") to compare relative frequencies.\n",
    " - Create a density plot for SleepHrsNight colored by SleepTrouble and faceted by HealthGen.\n",
    "      - Note that because of the discrete nature of the data collection, the density should be smoothed a bit u sing adjust = 2.\n",
    "      - Use facet_wrap(~ HealthGen) for the faceting, which will make it easier to visualize how the variables of interest vary by."
   ]
  },
  {
   "cell_type": "code",
   "execution_count": 1,
   "metadata": {},
   "outputs": [
    {
     "name": "stderr",
     "output_type": "stream",
     "text": [
      "Warning message:\n",
      "\"package 'dplyr' was built under R version 3.3.3\"\n",
      "Attaching package: 'dplyr'\n",
      "\n",
      "The following objects are masked from 'package:stats':\n",
      "\n",
      "    filter, lag\n",
      "\n",
      "The following objects are masked from 'package:base':\n",
      "\n",
      "    intersect, setdiff, setequal, union\n",
      "\n",
      "Warning message:\n",
      "\"package 'ggplot2' was built under R version 3.3.3\"Warning message:\n",
      "\"package 'NHANES' was built under R version 3.3.3\""
     ]
    },
    {
     "data": {
      "text/html": [
       "<ol class=list-inline>\n",
       "\t<li>'ID'</li>\n",
       "\t<li>'SurveyYr'</li>\n",
       "\t<li>'Gender'</li>\n",
       "\t<li>'Age'</li>\n",
       "\t<li>'AgeDecade'</li>\n",
       "\t<li>'AgeMonths'</li>\n",
       "\t<li>'Race1'</li>\n",
       "\t<li>'Race3'</li>\n",
       "\t<li>'Education'</li>\n",
       "\t<li>'MaritalStatus'</li>\n",
       "\t<li>'HHIncome'</li>\n",
       "\t<li>'HHIncomeMid'</li>\n",
       "\t<li>'Poverty'</li>\n",
       "\t<li>'HomeRooms'</li>\n",
       "\t<li>'HomeOwn'</li>\n",
       "\t<li>'Work'</li>\n",
       "\t<li>'Weight'</li>\n",
       "\t<li>'Length'</li>\n",
       "\t<li>'HeadCirc'</li>\n",
       "\t<li>'Height'</li>\n",
       "\t<li>'BMI'</li>\n",
       "\t<li>'BMICatUnder20yrs'</li>\n",
       "\t<li>'BMI_WHO'</li>\n",
       "\t<li>'Pulse'</li>\n",
       "\t<li>'BPSysAve'</li>\n",
       "\t<li>'BPDiaAve'</li>\n",
       "\t<li>'BPSys1'</li>\n",
       "\t<li>'BPDia1'</li>\n",
       "\t<li>'BPSys2'</li>\n",
       "\t<li>'BPDia2'</li>\n",
       "\t<li>'BPSys3'</li>\n",
       "\t<li>'BPDia3'</li>\n",
       "\t<li>'Testosterone'</li>\n",
       "\t<li>'DirectChol'</li>\n",
       "\t<li>'TotChol'</li>\n",
       "\t<li>'UrineVol1'</li>\n",
       "\t<li>'UrineFlow1'</li>\n",
       "\t<li>'UrineVol2'</li>\n",
       "\t<li>'UrineFlow2'</li>\n",
       "\t<li>'Diabetes'</li>\n",
       "\t<li>'DiabetesAge'</li>\n",
       "\t<li>'HealthGen'</li>\n",
       "\t<li>'DaysPhysHlthBad'</li>\n",
       "\t<li>'DaysMentHlthBad'</li>\n",
       "\t<li>'LittleInterest'</li>\n",
       "\t<li>'Depressed'</li>\n",
       "\t<li>'nPregnancies'</li>\n",
       "\t<li>'nBabies'</li>\n",
       "\t<li>'Age1stBaby'</li>\n",
       "\t<li>'SleepHrsNight'</li>\n",
       "\t<li>'SleepTrouble'</li>\n",
       "\t<li>'PhysActive'</li>\n",
       "\t<li>'PhysActiveDays'</li>\n",
       "\t<li>'TVHrsDay'</li>\n",
       "\t<li>'CompHrsDay'</li>\n",
       "\t<li>'TVHrsDayChild'</li>\n",
       "\t<li>'CompHrsDayChild'</li>\n",
       "\t<li>'Alcohol12PlusYr'</li>\n",
       "\t<li>'AlcoholDay'</li>\n",
       "\t<li>'AlcoholYear'</li>\n",
       "\t<li>'SmokeNow'</li>\n",
       "\t<li>'Smoke100'</li>\n",
       "\t<li>'Smoke100n'</li>\n",
       "\t<li>'SmokeAge'</li>\n",
       "\t<li>'Marijuana'</li>\n",
       "\t<li>'AgeFirstMarij'</li>\n",
       "\t<li>'RegularMarij'</li>\n",
       "\t<li>'AgeRegMarij'</li>\n",
       "\t<li>'HardDrugs'</li>\n",
       "\t<li>'SexEver'</li>\n",
       "\t<li>'SexAge'</li>\n",
       "\t<li>'SexNumPartnLife'</li>\n",
       "\t<li>'SexNumPartYear'</li>\n",
       "\t<li>'SameSex'</li>\n",
       "\t<li>'SexOrientation'</li>\n",
       "\t<li>'PregnantNow'</li>\n",
       "</ol>\n"
      ],
      "text/latex": [
       "\\begin{enumerate*}\n",
       "\\item 'ID'\n",
       "\\item 'SurveyYr'\n",
       "\\item 'Gender'\n",
       "\\item 'Age'\n",
       "\\item 'AgeDecade'\n",
       "\\item 'AgeMonths'\n",
       "\\item 'Race1'\n",
       "\\item 'Race3'\n",
       "\\item 'Education'\n",
       "\\item 'MaritalStatus'\n",
       "\\item 'HHIncome'\n",
       "\\item 'HHIncomeMid'\n",
       "\\item 'Poverty'\n",
       "\\item 'HomeRooms'\n",
       "\\item 'HomeOwn'\n",
       "\\item 'Work'\n",
       "\\item 'Weight'\n",
       "\\item 'Length'\n",
       "\\item 'HeadCirc'\n",
       "\\item 'Height'\n",
       "\\item 'BMI'\n",
       "\\item 'BMICatUnder20yrs'\n",
       "\\item 'BMI\\_WHO'\n",
       "\\item 'Pulse'\n",
       "\\item 'BPSysAve'\n",
       "\\item 'BPDiaAve'\n",
       "\\item 'BPSys1'\n",
       "\\item 'BPDia1'\n",
       "\\item 'BPSys2'\n",
       "\\item 'BPDia2'\n",
       "\\item 'BPSys3'\n",
       "\\item 'BPDia3'\n",
       "\\item 'Testosterone'\n",
       "\\item 'DirectChol'\n",
       "\\item 'TotChol'\n",
       "\\item 'UrineVol1'\n",
       "\\item 'UrineFlow1'\n",
       "\\item 'UrineVol2'\n",
       "\\item 'UrineFlow2'\n",
       "\\item 'Diabetes'\n",
       "\\item 'DiabetesAge'\n",
       "\\item 'HealthGen'\n",
       "\\item 'DaysPhysHlthBad'\n",
       "\\item 'DaysMentHlthBad'\n",
       "\\item 'LittleInterest'\n",
       "\\item 'Depressed'\n",
       "\\item 'nPregnancies'\n",
       "\\item 'nBabies'\n",
       "\\item 'Age1stBaby'\n",
       "\\item 'SleepHrsNight'\n",
       "\\item 'SleepTrouble'\n",
       "\\item 'PhysActive'\n",
       "\\item 'PhysActiveDays'\n",
       "\\item 'TVHrsDay'\n",
       "\\item 'CompHrsDay'\n",
       "\\item 'TVHrsDayChild'\n",
       "\\item 'CompHrsDayChild'\n",
       "\\item 'Alcohol12PlusYr'\n",
       "\\item 'AlcoholDay'\n",
       "\\item 'AlcoholYear'\n",
       "\\item 'SmokeNow'\n",
       "\\item 'Smoke100'\n",
       "\\item 'Smoke100n'\n",
       "\\item 'SmokeAge'\n",
       "\\item 'Marijuana'\n",
       "\\item 'AgeFirstMarij'\n",
       "\\item 'RegularMarij'\n",
       "\\item 'AgeRegMarij'\n",
       "\\item 'HardDrugs'\n",
       "\\item 'SexEver'\n",
       "\\item 'SexAge'\n",
       "\\item 'SexNumPartnLife'\n",
       "\\item 'SexNumPartYear'\n",
       "\\item 'SameSex'\n",
       "\\item 'SexOrientation'\n",
       "\\item 'PregnantNow'\n",
       "\\end{enumerate*}\n"
      ],
      "text/markdown": [
       "1. 'ID'\n",
       "2. 'SurveyYr'\n",
       "3. 'Gender'\n",
       "4. 'Age'\n",
       "5. 'AgeDecade'\n",
       "6. 'AgeMonths'\n",
       "7. 'Race1'\n",
       "8. 'Race3'\n",
       "9. 'Education'\n",
       "10. 'MaritalStatus'\n",
       "11. 'HHIncome'\n",
       "12. 'HHIncomeMid'\n",
       "13. 'Poverty'\n",
       "14. 'HomeRooms'\n",
       "15. 'HomeOwn'\n",
       "16. 'Work'\n",
       "17. 'Weight'\n",
       "18. 'Length'\n",
       "19. 'HeadCirc'\n",
       "20. 'Height'\n",
       "21. 'BMI'\n",
       "22. 'BMICatUnder20yrs'\n",
       "23. 'BMI_WHO'\n",
       "24. 'Pulse'\n",
       "25. 'BPSysAve'\n",
       "26. 'BPDiaAve'\n",
       "27. 'BPSys1'\n",
       "28. 'BPDia1'\n",
       "29. 'BPSys2'\n",
       "30. 'BPDia2'\n",
       "31. 'BPSys3'\n",
       "32. 'BPDia3'\n",
       "33. 'Testosterone'\n",
       "34. 'DirectChol'\n",
       "35. 'TotChol'\n",
       "36. 'UrineVol1'\n",
       "37. 'UrineFlow1'\n",
       "38. 'UrineVol2'\n",
       "39. 'UrineFlow2'\n",
       "40. 'Diabetes'\n",
       "41. 'DiabetesAge'\n",
       "42. 'HealthGen'\n",
       "43. 'DaysPhysHlthBad'\n",
       "44. 'DaysMentHlthBad'\n",
       "45. 'LittleInterest'\n",
       "46. 'Depressed'\n",
       "47. 'nPregnancies'\n",
       "48. 'nBabies'\n",
       "49. 'Age1stBaby'\n",
       "50. 'SleepHrsNight'\n",
       "51. 'SleepTrouble'\n",
       "52. 'PhysActive'\n",
       "53. 'PhysActiveDays'\n",
       "54. 'TVHrsDay'\n",
       "55. 'CompHrsDay'\n",
       "56. 'TVHrsDayChild'\n",
       "57. 'CompHrsDayChild'\n",
       "58. 'Alcohol12PlusYr'\n",
       "59. 'AlcoholDay'\n",
       "60. 'AlcoholYear'\n",
       "61. 'SmokeNow'\n",
       "62. 'Smoke100'\n",
       "63. 'Smoke100n'\n",
       "64. 'SmokeAge'\n",
       "65. 'Marijuana'\n",
       "66. 'AgeFirstMarij'\n",
       "67. 'RegularMarij'\n",
       "68. 'AgeRegMarij'\n",
       "69. 'HardDrugs'\n",
       "70. 'SexEver'\n",
       "71. 'SexAge'\n",
       "72. 'SexNumPartnLife'\n",
       "73. 'SexNumPartYear'\n",
       "74. 'SameSex'\n",
       "75. 'SexOrientation'\n",
       "76. 'PregnantNow'\n",
       "\n",
       "\n"
      ],
      "text/plain": [
       " [1] \"ID\"               \"SurveyYr\"         \"Gender\"           \"Age\"             \n",
       " [5] \"AgeDecade\"        \"AgeMonths\"        \"Race1\"            \"Race3\"           \n",
       " [9] \"Education\"        \"MaritalStatus\"    \"HHIncome\"         \"HHIncomeMid\"     \n",
       "[13] \"Poverty\"          \"HomeRooms\"        \"HomeOwn\"          \"Work\"            \n",
       "[17] \"Weight\"           \"Length\"           \"HeadCirc\"         \"Height\"          \n",
       "[21] \"BMI\"              \"BMICatUnder20yrs\" \"BMI_WHO\"          \"Pulse\"           \n",
       "[25] \"BPSysAve\"         \"BPDiaAve\"         \"BPSys1\"           \"BPDia1\"          \n",
       "[29] \"BPSys2\"           \"BPDia2\"           \"BPSys3\"           \"BPDia3\"          \n",
       "[33] \"Testosterone\"     \"DirectChol\"       \"TotChol\"          \"UrineVol1\"       \n",
       "[37] \"UrineFlow1\"       \"UrineVol2\"        \"UrineFlow2\"       \"Diabetes\"        \n",
       "[41] \"DiabetesAge\"      \"HealthGen\"        \"DaysPhysHlthBad\"  \"DaysMentHlthBad\" \n",
       "[45] \"LittleInterest\"   \"Depressed\"        \"nPregnancies\"     \"nBabies\"         \n",
       "[49] \"Age1stBaby\"       \"SleepHrsNight\"    \"SleepTrouble\"     \"PhysActive\"      \n",
       "[53] \"PhysActiveDays\"   \"TVHrsDay\"         \"CompHrsDay\"       \"TVHrsDayChild\"   \n",
       "[57] \"CompHrsDayChild\"  \"Alcohol12PlusYr\"  \"AlcoholDay\"       \"AlcoholYear\"     \n",
       "[61] \"SmokeNow\"         \"Smoke100\"         \"Smoke100n\"        \"SmokeAge\"        \n",
       "[65] \"Marijuana\"        \"AgeFirstMarij\"    \"RegularMarij\"     \"AgeRegMarij\"     \n",
       "[69] \"HardDrugs\"        \"SexEver\"          \"SexAge\"           \"SexNumPartnLife\" \n",
       "[73] \"SexNumPartYear\"   \"SameSex\"          \"SexOrientation\"   \"PregnantNow\"     "
      ]
     },
     "metadata": {},
     "output_type": "display_data"
    },
    {
     "data": {},
     "metadata": {},
     "output_type": "display_data"
    },
    {
     "name": "stderr",
     "output_type": "stream",
     "text": [
      "Warning message:\n",
      "\"Removed 2245 rows containing non-finite values (stat_density).\""
     ]
    },
    {
     "data": {},
     "metadata": {},
     "output_type": "display_data"
    },
    {
     "data": {
      "image/png": "[encoded data removed]",
      "text/plain": [
       "plot without title"
      ]
     },
     "metadata": {},
     "output_type": "display_data"
    },
    {
     "data": {
      "image/png": "[encoded data removed]",
      "text/plain": [
       "plot without title"
      ]
     },
     "metadata": {},
     "output_type": "display_data"
    }
   ],
   "source": [
    "# Load packages\n",
    "library(dplyr)\n",
    "library(ggplot2)\n",
    "library(NHANES)\n",
    "#install.packages(\"NHANES\")\n",
    "\n",
    "# What are the variables in the NHANES dataset?\n",
    "names(NHANES)\n",
    "\n",
    "# Create bar plot for Home Ownership by Gender\n",
    "ggplot(NHANES, aes(x = Gender, fill = HomeOwn)) + \n",
    "  geom_bar(position = \"fill\") +\n",
    "  ylab(\"Relative frequencies\")\n",
    "\n",
    "# Density for SleepHrsNight colored by SleepTrouble, faceted by HealthGen\n",
    "ggplot(NHANES, aes(x =  SleepHrsNight, col = SleepTrouble)) + \n",
    "  geom_density(adjust=2) + \n",
    "  facet_wrap(~HealthGen)"
   ]
  },
  {
   "cell_type": "markdown",
   "metadata": {},
   "source": [
    "Notice that the warning message for the densities and the grey portions of the bars both indicate a large number of missing observations in the dataset. If this were your dataset, it would be important to stop here and consider the cause of the missingness. For the course, we will now proceed without worrying about the missing observations."
   ]
  },
  {
   "cell_type": "code",
   "execution_count": 5,
   "metadata": {},
   "outputs": [
    {
     "data": {
      "text/html": [
       "<ol class=list-inline>\n",
       "\t<li>10000</li>\n",
       "\t<li>76</li>\n",
       "</ol>\n"
      ],
      "text/latex": [
       "\\begin{enumerate*}\n",
       "\\item 10000\n",
       "\\item 76\n",
       "\\end{enumerate*}\n"
      ],
      "text/markdown": [
       "1. 10000\n",
       "2. 76\n",
       "\n",
       "\n"
      ],
      "text/plain": [
       "[1] 10000    76"
      ]
     },
     "metadata": {},
     "output_type": "display_data"
    }
   ],
   "source": [
    "#Testing\n",
    "dim(NHANES)"
   ]
  },
  {
   "cell_type": "markdown",
   "metadata": {},
   "source": [
    "### Randomly allocating samples\n",
    "\n",
    "As seen in the video, you will now use R to randomly permute the observations and calculate a difference in proportions that could arise from a null distribution.\n",
    "\n",
    "Using the NHANES dataset, let's investigate the relationship between gender and home ownership. Type ?NHANES in the console to get a description of its variables.\n",
    "\n",
    "Instructions\n",
    "The dplyr, ggplot2, and NHANES packages have been loaded for you.\n",
    "\n",
    "- Subset the NHANES dataset to consider only individuals whose home ownership status is either \"Own\" or \"Rent\". Save the result to homes.\n",
    "- Perform a single permutation to evaluate whether home ownership status (i.e. HomeOwn) differs between the \"female\" and \"male\" groups:\n",
    "    - In your mutate() call, use sample() to shuffle home ownership status. Call this new variable HomeOwn_perm, a permuted version of HomeOwn.\n",
    "    - Group by Gender.\n",
    "    - In both the original data and in the permuted data, compute the proportion of individuals who own a home. Note that this will calculate proportions for both genders since you've grouped by the Gender variable in the line before it.\n",
    "    - Using the diff() function, calculate the difference in proportion of home ownership for both prop_own_perm, the permuted data, and prop_own, the original data."
   ]
  },
  {
   "cell_type": "code",
   "execution_count": 6,
   "metadata": {},
   "outputs": [
    {
     "data": {
      "text/html": [
       "<table>\n",
       "<thead><tr><th scope=col>diff_perm</th><th scope=col>diff_orig</th></tr></thead>\n",
       "<tbody>\n",
       "\t<tr><td>-0.0008267323</td><td>-0.007828723 </td></tr>\n",
       "</tbody>\n",
       "</table>\n"
      ],
      "text/latex": [
       "\\begin{tabular}{r|ll}\n",
       " diff\\_perm & diff\\_orig\\\\\n",
       "\\hline\n",
       "\t -0.0008267323 & -0.007828723 \\\\\n",
       "\\end{tabular}\n"
      ],
      "text/markdown": [
       "\n",
       "diff_perm | diff_orig | \n",
       "|---|\n",
       "| -0.0008267323 | -0.007828723  | \n",
       "\n",
       "\n"
      ],
      "text/plain": [
       "  diff_perm     diff_orig   \n",
       "1 -0.0008267323 -0.007828723"
      ]
     },
     "metadata": {},
     "output_type": "display_data"
    }
   ],
   "source": [
    "# Subset the data: homes\n",
    "homes <- NHANES %>%\n",
    "  select(Gender, HomeOwn) %>%\n",
    "  filter(HomeOwn %in% c(\"Own\", \"Rent\"))\n",
    "\n",
    "# Perform one permutation \n",
    "homes %>%\n",
    "  mutate(HomeOwn_perm = sample(HomeOwn)) %>%\n",
    "  group_by(Gender) %>%\n",
    "  summarize(prop_own_perm = mean(HomeOwn_perm == \"Own\"), \n",
    "            prop_own = mean(HomeOwn == \"Own\")) %>%\n",
    "  summarize(diff_perm = diff(prop_own_perm),\n",
    "            diff_orig = diff(prop_own))"
   ]
  },
  {
   "cell_type": "markdown",
   "metadata": {},
   "source": [
    "Keep in mind, this is just a single random permutation. Next, you'll look at several permuted differences to see how they compare with the observed difference."
   ]
  },
  {
   "cell_type": "markdown",
   "metadata": {},
   "source": [
    "### Randomization dotplot (n = 10)\n",
    "\n",
    "As you saw in the video, natural variability can be modeled from shuffling observations around to remove any relationships that might exist in the population. This is done with the rep_sample_n() function from the oilabs package. Within it, you must specify arguments for the data (tbl), the sample size, the number of samples to take (reps), and whether sampling should be done with or without replacement (replace). The output includes a new column, replicate, which indicates the sample number. For example,\n",
    "\n",
    "homes %>% \n",
    "  rep_sample_n(size = 5, reps = 3)\n",
    "  \n",
    "will return three samples of 5 observations from the homes dataset you created in the last exercise. The first 5 rows will have a value of 1 in the replicate column, the next 5 rows will have a value of 2, and so on. Note that the default value for the replace argument is FALSE.\n",
    "\n",
    "In this exercise, you will permute the home ownership variable 10 times. By doing so, you will ensure that there is no relationship between home ownership and gender, so any difference in home ownership proportion for female versus male will be due only to natural variability.\n",
    "\n",
    "Instructions     \n",
    " - The dplyr, ggplot2, NHANES, and oilabs packages have been loaded for you and the homes dataset you created in the last exercise is available in your workspace.\n",
    " - Using rep_sample_n(), repeat the permutation process from the last exercise to get 10 null differences in proportions (i.e. reps = 10) using all observations in the homes dataset. Assign the result to homeown_perm.\n",
    " - Print the permuted differences in homeown_perm to the console.\n",
    " - Using geom_dotplot(), plot the differences in proportions obtained by shuffling the HomeOwn variable. Adjust the size of the dots by including binwidth = .001 in your call to geom_dotplot()."
   ]
  },
  {
   "cell_type": "code",
   "execution_count": null,
   "metadata": {},
   "outputs": [],
   "source": [
    "library(devtools)\n",
    "devtools::install_github(\"andrewpbray/oilabs\")\n",
    "library(oilabs)"
   ]
  },
  {
   "cell_type": "code",
   "execution_count": 7,
   "metadata": {},
   "outputs": [
    {
     "ename": "ERROR",
     "evalue": "Error in library(oilabs): there is no package called 'oilabs'\n",
     "output_type": "error",
     "traceback": [
      "Error in library(oilabs): there is no package called 'oilabs'\nTraceback:\n",
      "1. library(oilabs)",
      "2. stop(txt, domain = NA)"
     ]
    }
   ],
   "source": [
    "library(oilabs)"
   ]
  },
  {
   "cell_type": "code",
   "execution_count": 8,
   "metadata": {
    "collapsed": true
   },
   "outputs": [],
   "source": [
    "rep_sample_n = function (tbl, size, replace = FALSE, reps = 1){\n",
    "    n <- nrow(tbl)\n",
    "    i <- unlist(replicate(reps, sample.int(n, size, replace = replace), \n",
    "        simplify = FALSE))\n",
    "    rep_tbl <- cbind(replicate = rep(1:reps, rep(size, reps)), \n",
    "        tbl[i, ])\n",
    "    dplyr::group_by(rep_tbl, replicate)\n",
    "}"
   ]
  },
  {
   "cell_type": "code",
   "execution_count": 9,
   "metadata": {},
   "outputs": [
    {
     "name": "stdout",
     "output_type": "stream",
     "text": [
      "# A tibble: 10 x 3\n",
      "   replicate     diff_perm    diff_orig\n",
      "       <int>         <dbl>        <dbl>\n",
      "1          1  0.0148247764 -0.007828723\n",
      "2          2  0.0045277312 -0.007828723\n",
      "3          3 -0.0115356592 -0.007828723\n",
      "4          4 -0.0053574322 -0.007828723\n",
      "5          5 -0.0078287230 -0.007828723\n",
      "6          6 -0.0041217867 -0.007828723\n",
      "7          7 -0.0004148505 -0.007828723\n",
      "8          8  0.0028802040 -0.007828723\n",
      "9          9  0.0041158494 -0.007828723\n",
      "10        10 -0.0008267323 -0.007828723\n"
     ]
    },
    {
     "data": {},
     "metadata": {},
     "output_type": "display_data"
    },
    {
     "data": {
      "image/png": "[encoded data removed]",
      "text/plain": [
       "plot without title"
      ]
     },
     "metadata": {},
     "output_type": "display_data"
    }
   ],
   "source": [
    "library(oilabs)\n",
    "# Perform 10 permutations\n",
    "homeown_perm <- homes %>%\n",
    "  rep_sample_n(size = nrow(homes), reps = 10) %>%\n",
    "  mutate(HomeOwn_perm = sample(HomeOwn)) %>%\n",
    "  group_by(replicate,Gender) %>%\n",
    "  summarize(prop_own_perm = mean(HomeOwn_perm == \"Own\"), \n",
    "            prop_own = mean(HomeOwn == \"Own\")) %>%\n",
    "  summarize(diff_perm = diff(prop_own_perm),\n",
    "            diff_orig = diff(prop_own)) # male - female\n",
    "\n",
    "# Print differences to console\n",
    "print(homeown_perm)\n",
    "\n",
    "# Dotplot of 10 permuted differences in proportions\n",
    "ggplot(homeown_perm, aes(x = diff_perm)) + \n",
    "  geom_dotplot(binwidth = 0.001)"
   ]
  },
  {
   "cell_type": "markdown",
   "metadata": {},
   "source": [
    "From the dotplot, it's still hard to get an idea of what the null distribution looks like. You'll repeat the process with 100 permutations in the next exercise. Awesome job!"
   ]
  },
  {
   "cell_type": "markdown",
   "metadata": {},
   "source": [
    "### Randomization dotplot (n = 100)\n",
    "\n",
    "By permuting the home ownership variable multiple times, you generate differences in proportions when in fact the variables are not at all related.\n",
    "\n",
    "Instructions   \n",
    "    - The dplyr, ggplot2, NHANES, and oilabs packages have been loaded for you. Repeat the permuting and plotting with 100 differences in proportions generated by shuffling the HomeOwn variable. Adjust the size of the dots by including binwidth = .001 in your call to geom_dotplot()."
   ]
  },
  {
   "cell_type": "code",
   "execution_count": 10,
   "metadata": {},
   "outputs": [
    {
     "data": {},
     "metadata": {},
     "output_type": "display_data"
    },
    {
     "data": {
      "image/png": "[encoded data removed]",
      "text/plain": [
       "plot without title"
      ]
     },
     "metadata": {},
     "output_type": "display_data"
    }
   ],
   "source": [
    "# Perform 100 permutations\n",
    "homeown_perm <- homes %>%\n",
    "  rep_sample_n(size = nrow(homes), reps = 100) %>%\n",
    "  mutate(HomeOwn_perm = sample(HomeOwn)) %>%\n",
    "  group_by(replicate,Gender) %>%\n",
    "  summarize(prop_own_perm = mean(HomeOwn_perm == \"Own\"),\n",
    "            prop_own = mean(HomeOwn == \"Own\")) %>%\n",
    "  summarize(diff_perm = diff(prop_own_perm),\n",
    "            diff_orig = diff(prop_own)) # male - female\n",
    "\n",
    "# Dotplot of 100 permuted differences in proportions\n",
    "ggplot(homeown_perm, aes(x = diff_perm)) + \n",
    "  geom_dotplot(binwidth = 0.001)"
   ]
  },
  {
   "cell_type": "markdown",
   "metadata": {},
   "source": [
    "It's much easier to get a feel for the distribution now. In the next exercise, you'll see how 1000 permutations are distributed."
   ]
  },
  {
   "cell_type": "markdown",
   "metadata": {},
   "source": [
    "### Randomization density\n",
    "\n",
    "Using 100 repetitions allows you to understand the mechanism of permuting. However, 100 is not enough to observe the full range of likely values for the null differences in proportions.\n",
    "\n",
    "In this exercise, you'll repeat the process 1000 times to get a sense for the complete distribution of null differences in proportions.\n",
    "\n",
    "Instructions     \n",
    "The dplyr, ggplot2, NHANES, and oilabs packages have been loaded for you.\n",
    "\n",
    "  - Generate 1000 differences in proportions by shuffling the HomeOwn variable and following the same procedure as before.\n",
    "  - Use geom_density() to create a smoothed visual representation of the distribution of differences."
   ]
  },
  {
   "cell_type": "code",
   "execution_count": 11,
   "metadata": {},
   "outputs": [
    {
     "data": {},
     "metadata": {},
     "output_type": "display_data"
    },
    {
     "data": {
      "image/png": "[encoded data removed]",
      "text/plain": [
       "plot without title"
      ]
     },
     "metadata": {},
     "output_type": "display_data"
    }
   ],
   "source": [
    "# Perform 1000 permutations\n",
    "homeown_perm <- homes %>%\n",
    "  rep_sample_n(size = nrow(homes), reps = 1000) %>%\n",
    "  mutate(HomeOwn_perm = sample(HomeOwn)) %>%\n",
    "  group_by(replicate,Gender) %>%\n",
    "  summarize(prop_own_perm = mean(HomeOwn_perm == \"Own\"),\n",
    "            prop_own = mean(HomeOwn == \"Own\")) %>%\n",
    "  summarize(diff_perm = diff(prop_own_perm),\n",
    "            diff_orig = diff(prop_own)) # male - female\n",
    "\n",
    "# Density plot of 1000 permuted differences in proportions\n",
    "ggplot(homeown_perm, aes(x = diff_perm)) + \n",
    "  geom_density()"
   ]
  },
  {
   "cell_type": "markdown",
   "metadata": {},
   "source": [
    "You can now see that the distribution is approximately normally distributed around -0.01, but what can we conclude from it? You'll learn how to use this distribution in the next video."
   ]
  },
  {
   "cell_type": "markdown",
   "metadata": {},
   "source": [
    "## Using the randomization distribution - Video"
   ]
  },
  {
   "cell_type": "markdown",
   "metadata": {},
   "source": [
    "### Do the data come from the population?\n",
    "\n",
    "Recall that the observed difference (i.e. the difference in proportions in the homes dataset, shown as the red vertical line) was around -0.0078, which seems to fall below the bulk of the density of shuffled differences. It is important to know, however, whether any of the randomly permuted differences were as extreme as the observed difference.\n",
    "\n",
    "In this exercise, you'll re-create this dotplot as a density plot and count the number of permuted differences that were to the left of the observed difference.\n",
    "\n",
    "Instructions    \n",
    "The homeown_perm dataset is available in your workspace.     \n",
    "    - Using geom_density(), plot the permuted differences. Add a vertical red line with geom_vline() where the observed statistic falls.\n",
    "    - Count the number of permuted differences that were lower than or equal to the observed difference.\n",
    "    "
   ]
  },
  {
   "cell_type": "code",
   "execution_count": 12,
   "metadata": {},
   "outputs": [
    {
     "data": {},
     "metadata": {},
     "output_type": "display_data"
    },
    {
     "data": {
      "text/html": [
       "<table>\n",
       "<thead><tr><th scope=col>sum(diff_orig &gt;= diff_perm)</th></tr></thead>\n",
       "<tbody>\n",
       "\t<tr><td>206</td></tr>\n",
       "</tbody>\n",
       "</table>\n"
      ],
      "text/latex": [
       "\\begin{tabular}{r|l}\n",
       " sum(diff\\_orig >= diff\\_perm)\\\\\n",
       "\\hline\n",
       "\t 206\\\\\n",
       "\\end{tabular}\n"
      ],
      "text/markdown": [
       "\n",
       "sum(diff_orig >= diff_perm) | \n",
       "|---|\n",
       "| 206 | \n",
       "\n",
       "\n"
      ],
      "text/plain": [
       "  sum(diff_orig >= diff_perm)\n",
       "1 206                        "
      ]
     },
     "metadata": {},
     "output_type": "display_data"
    },
    {
     "data": {
      "image/png": "[encoded data removed]",
      "text/plain": [
       "plot without title"
      ]
     },
     "metadata": {},
     "output_type": "display_data"
    }
   ],
   "source": [
    "# Plot permuted differences\n",
    "ggplot(homeown_perm, aes(x =diff_perm)) + \n",
    "  geom_density() +\n",
    "  geom_vline(aes(xintercept = diff_orig),\n",
    "          col = \"red\")\n",
    "\n",
    "# Compare permuted differences to observed difference\n",
    "homeown_perm %>%\n",
    "  summarize(sum(diff_orig >= diff_perm))"
   ]
  },
  {
   "cell_type": "markdown",
   "metadata": {},
   "source": [
    "212 permuted differences are more extreme than the observed difference. This only represents 21.2% of the null statistics, so you can conclude that the observed difference is consistent with the permuted distribution."
   ]
  },
  {
   "cell_type": "markdown",
   "metadata": {},
   "source": [
    "### What can you conclude?\n",
    "\n",
    "What can you conclude from the analysis?\n",
    "\n",
    "Possible Answers     \n",
    "    - We have learned that being female causes people to buy houses.\n",
    "    - We have learned that our data is consistent with the hypothesis of no difference in home ownership across gender. (Correct)\n",
    "    - We have learned that the observed difference (from the data) in proportion of home ownership across gender is due to something other than random variation.\n"
   ]
  },
  {
   "cell_type": "markdown",
   "metadata": {},
   "source": [
    "## Study conclusions - Video"
   ]
  },
  {
   "cell_type": "markdown",
   "metadata": {},
   "source": [
    "# 2. Completing a randomization test: gender discrimination "
   ]
  },
  {
   "cell_type": "markdown",
   "metadata": {},
   "source": [
    "In this chapter, you will gain the tools and knowledge to complete a full hypothesis test. That is, given a dataset, you will know whether or not is appropriate to reject the null hypothesis in favor of the research claim of interest."
   ]
  },
  {
   "cell_type": "markdown",
   "metadata": {},
   "source": [
    "## Example: gender discrimination - Video"
   ]
  },
  {
   "cell_type": "markdown",
   "metadata": {},
   "source": [
    "### Gender discrimination hypotheses\n",
    "\n",
    "Which of the following null (H0H0) and alternative (HAHA) hypotheses are appropriate for the gender discrimination example described in the previous video?\n",
    "\n",
    "Possible Answers\n",
    "- H0H0: gender and promotion are unrelated variables. (Correct)\n",
    "- HAHA: men are more likely to be promoted. (Correct)\n",
    "- H0H0: gender and promotion are unrelated variables.\n",
    "- HAHA: women are more likely to be promoted.\n",
    "- H0H0: men are more likely to be promoted.\n",
    "- HAHA: gender and promotion are unrelated variables.\n",
    "- H0H0: women are more likely to be promoted.\n",
    "- HAHA: gender and promotion are unrelated variables."
   ]
  },
  {
   "cell_type": "markdown",
   "metadata": {},
   "source": [
    "### Summarizing gender discrimination\n",
    "\n",
    "As the first step of any analysis, you should look at and summarize the data. Categorical variables are often summarized using proportions, and it is always important to understand the denominator of the proportion.\n",
    "\n",
    "Do you want the proportion of women who were promoted or the proportion of promoted individuals who were women? Here, you want the first of these, so in your R code it's necessary to group_by() the sex variable.\n",
    "\n",
    "Instructions\n",
    "\n",
    "The discrimination study data are available in your workspace as disc.\n",
    "\n",
    "- Using the table() function, summarize the data as a contingency table.\n",
    "- Summarize the data by using group_by() on the sex variable and finding the proportion who were promoted. Call this variable promoted_prop. Note that with binary variables, the proportion of either value can be found using the mean() function (e.g. mean(variable == \"value\"))."
   ]
  },
  {
   "cell_type": "code",
   "execution_count": 5,
   "metadata": {},
   "outputs": [
    {
     "data": {
      "text/html": [
       "<table>\n",
       "<thead><tr><th scope=col>promote</th><th scope=col>sex</th></tr></thead>\n",
       "<tbody>\n",
       "\t<tr><td>promoted</td><td>male    </td></tr>\n",
       "\t<tr><td>promoted</td><td>male    </td></tr>\n",
       "\t<tr><td>promoted</td><td>male    </td></tr>\n",
       "\t<tr><td>promoted</td><td>male    </td></tr>\n",
       "\t<tr><td>promoted</td><td>male    </td></tr>\n",
       "\t<tr><td>promoted</td><td>male    </td></tr>\n",
       "</tbody>\n",
       "</table>\n"
      ],
      "text/latex": [
       "\\begin{tabular}{r|ll}\n",
       " promote & sex\\\\\n",
       "\\hline\n",
       "\t promoted & male    \\\\\n",
       "\t promoted & male    \\\\\n",
       "\t promoted & male    \\\\\n",
       "\t promoted & male    \\\\\n",
       "\t promoted & male    \\\\\n",
       "\t promoted & male    \\\\\n",
       "\\end{tabular}\n"
      ],
      "text/markdown": [
       "\n",
       "promote | sex | \n",
       "|---|---|---|---|---|---|\n",
       "| promoted | male     | \n",
       "| promoted | male     | \n",
       "| promoted | male     | \n",
       "| promoted | male     | \n",
       "| promoted | male     | \n",
       "| promoted | male     | \n",
       "\n",
       "\n"
      ],
      "text/plain": [
       "  promote  sex \n",
       "1 promoted male\n",
       "2 promoted male\n",
       "3 promoted male\n",
       "4 promoted male\n",
       "5 promoted male\n",
       "6 promoted male"
      ]
     },
     "metadata": {},
     "output_type": "display_data"
    },
    {
     "data": {
      "text/html": [
       "<table>\n",
       "<thead><tr><th></th><th scope=col>promote</th><th scope=col>sex</th></tr></thead>\n",
       "<tbody>\n",
       "\t<tr><th scope=row>43</th><td>not_promoted</td><td>female      </td></tr>\n",
       "\t<tr><th scope=row>44</th><td>not_promoted</td><td>female      </td></tr>\n",
       "\t<tr><th scope=row>45</th><td>not_promoted</td><td>female      </td></tr>\n",
       "\t<tr><th scope=row>46</th><td>not_promoted</td><td>female      </td></tr>\n",
       "\t<tr><th scope=row>47</th><td>not_promoted</td><td>female      </td></tr>\n",
       "\t<tr><th scope=row>48</th><td>not_promoted</td><td>female      </td></tr>\n",
       "</tbody>\n",
       "</table>\n"
      ],
      "text/latex": [
       "\\begin{tabular}{r|ll}\n",
       "  & promote & sex\\\\\n",
       "\\hline\n",
       "\t43 & not\\_promoted & female        \\\\\n",
       "\t44 & not\\_promoted & female        \\\\\n",
       "\t45 & not\\_promoted & female        \\\\\n",
       "\t46 & not\\_promoted & female        \\\\\n",
       "\t47 & not\\_promoted & female        \\\\\n",
       "\t48 & not\\_promoted & female        \\\\\n",
       "\\end{tabular}\n"
      ],
      "text/markdown": [
       "\n",
       "| <!--/--> | promote | sex | \n",
       "|---|---|---|---|---|---|\n",
       "| 43 | not_promoted | female       | \n",
       "| 44 | not_promoted | female       | \n",
       "| 45 | not_promoted | female       | \n",
       "| 46 | not_promoted | female       | \n",
       "| 47 | not_promoted | female       | \n",
       "| 48 | not_promoted | female       | \n",
       "\n",
       "\n"
      ],
      "text/plain": [
       "   promote      sex   \n",
       "43 not_promoted female\n",
       "44 not_promoted female\n",
       "45 not_promoted female\n",
       "46 not_promoted female\n",
       "47 not_promoted female\n",
       "48 not_promoted female"
      ]
     },
     "metadata": {},
     "output_type": "display_data"
    }
   ],
   "source": [
    "disc <- read.table(\"disc.txt\", header = TRUE)\n",
    "head(disc)\n",
    "tail(disc)"
   ]
  },
  {
   "cell_type": "code",
   "execution_count": 14,
   "metadata": {},
   "outputs": [
    {
     "data": {
      "text/plain": [
       "              sex\n",
       "promote        female male\n",
       "  not_promoted     10    3\n",
       "  promoted         14   21"
      ]
     },
     "metadata": {},
     "output_type": "display_data"
    },
    {
     "data": {
      "text/html": [
       "<table>\n",
       "<thead><tr><th scope=col>sex</th><th scope=col>promoted_prop</th></tr></thead>\n",
       "<tbody>\n",
       "\t<tr><td>female   </td><td>0.5833333</td></tr>\n",
       "\t<tr><td>male     </td><td>0.8750000</td></tr>\n",
       "</tbody>\n",
       "</table>\n"
      ],
      "text/latex": [
       "\\begin{tabular}{r|ll}\n",
       " sex & promoted\\_prop\\\\\n",
       "\\hline\n",
       "\t female    & 0.5833333\\\\\n",
       "\t male      & 0.8750000\\\\\n",
       "\\end{tabular}\n"
      ],
      "text/markdown": [
       "\n",
       "sex | promoted_prop | \n",
       "|---|---|\n",
       "| female    | 0.5833333 | \n",
       "| male      | 0.8750000 | \n",
       "\n",
       "\n"
      ],
      "text/plain": [
       "  sex    promoted_prop\n",
       "1 female 0.5833333    \n",
       "2 male   0.8750000    "
      ]
     },
     "metadata": {},
     "output_type": "display_data"
    }
   ],
   "source": [
    "# Create a contingency table summarizing the data\n",
    "table(disc)\n",
    "\n",
    "# Find proportion of each sex who were promoted\n",
    "disc %>% group_by(sex) %>% summarize(promoted_prop = mean(promote == \"promoted\"))"
   ]
  },
  {
   "cell_type": "code",
   "execution_count": null,
   "metadata": {
    "collapsed": true
   },
   "outputs": [],
   "source": [
    "Okay, so the difference in proportions promoted is almost 0.3. Great work!"
   ]
  },
  {
   "cell_type": "markdown",
   "metadata": {},
   "source": [
    "### Step-by-step through the permutation\n",
    "\n",
    "To help you understand the code used to create the randomization distribution, this exercise will walk you through each step, one at a time.\n",
    "\n",
    "Remember that when using the pipe notation (%>%) with so-called tidy functions like mutate() and summarize() from the dplyr package, each input is a data frame and each output is also a data frame. To keep the output manageable, we will use only 5 replicates here.\n",
    "\n",
    "Instructions\n",
    "\n",
    "The dplyr and oilabs packages have been loaded for you, along with the disc data frame from the last exercise. Note that in each step in this exercise, you will simply print the result to the screen (and not save it).\n",
    "\n",
    "- Use the rep_sample_n() function from the oilabs package to create a data frame by sampling the entire disc data frame 5 times.\n",
    "- Within each of the 5 replicates of the original data, shuffle the promote variable to break any relationship between promotion and gender.\n",
    "- Building on the previous data frame, group by replicate and sex then find the proportion of individuals promoted in each grouped category.\n",
    "- Continuing, find the difference in proportion of \"promoted\" across sex grouped by replicate."
   ]
  },
  {
   "cell_type": "code",
   "execution_count": 15,
   "metadata": {},
   "outputs": [
    {
     "data": {
      "text/html": [
       "<table>\n",
       "<thead><tr><th></th><th scope=col>replicate</th><th scope=col>promote</th><th scope=col>sex</th></tr></thead>\n",
       "<tbody>\n",
       "\t<tr><th scope=row>29</th><td>1           </td><td>promoted    </td><td>female      </td></tr>\n",
       "\t<tr><th scope=row>22</th><td>1           </td><td>promoted    </td><td>female      </td></tr>\n",
       "\t<tr><th scope=row>44</th><td>1           </td><td>not_promoted</td><td>female      </td></tr>\n",
       "\t<tr><th scope=row>45</th><td>1           </td><td>not_promoted</td><td>female      </td></tr>\n",
       "\t<tr><th scope=row>27</th><td>1           </td><td>promoted    </td><td>female      </td></tr>\n",
       "\t<tr><th scope=row>16</th><td>1           </td><td>promoted    </td><td>male        </td></tr>\n",
       "\t<tr><th scope=row>13</th><td>1           </td><td>promoted    </td><td>male        </td></tr>\n",
       "\t<tr><th scope=row>36</th><td>1           </td><td>not_promoted</td><td>male        </td></tr>\n",
       "\t<tr><th scope=row>35</th><td>1           </td><td>promoted    </td><td>female      </td></tr>\n",
       "\t<tr><th scope=row>23</th><td>1           </td><td>promoted    </td><td>female      </td></tr>\n",
       "\t<tr><th scope=row>20</th><td>1           </td><td>promoted    </td><td>male        </td></tr>\n",
       "\t<tr><th scope=row>12</th><td>1           </td><td>promoted    </td><td>male        </td></tr>\n",
       "\t<tr><th scope=row>26</th><td>1           </td><td>promoted    </td><td>female      </td></tr>\n",
       "\t<tr><th scope=row>3</th><td>1           </td><td>promoted    </td><td>male        </td></tr>\n",
       "\t<tr><th scope=row>19</th><td>1           </td><td>promoted    </td><td>male        </td></tr>\n",
       "\t<tr><th scope=row>2</th><td>1           </td><td>promoted    </td><td>male        </td></tr>\n",
       "\t<tr><th scope=row>32</th><td>1           </td><td>promoted    </td><td>female      </td></tr>\n",
       "\t<tr><th scope=row>15</th><td>1           </td><td>promoted    </td><td>male        </td></tr>\n",
       "\t<tr><th scope=row>1</th><td>1           </td><td>promoted    </td><td>male        </td></tr>\n",
       "\t<tr><th scope=row>5</th><td>1           </td><td>promoted    </td><td>male        </td></tr>\n",
       "\t<tr><th scope=row>42</th><td>1           </td><td>not_promoted</td><td>female      </td></tr>\n",
       "\t<tr><th scope=row>7</th><td>1           </td><td>promoted    </td><td>male        </td></tr>\n",
       "\t<tr><th scope=row>38</th><td>1           </td><td>not_promoted</td><td>male        </td></tr>\n",
       "\t<tr><th scope=row>9</th><td>1           </td><td>promoted    </td><td>male        </td></tr>\n",
       "\t<tr><th scope=row>46</th><td>1           </td><td>not_promoted</td><td>female      </td></tr>\n",
       "\t<tr><th scope=row>34</th><td>1           </td><td>promoted    </td><td>female      </td></tr>\n",
       "\t<tr><th scope=row>37</th><td>1           </td><td>not_promoted</td><td>male        </td></tr>\n",
       "\t<tr><th scope=row>21</th><td>1           </td><td>promoted    </td><td>male        </td></tr>\n",
       "\t<tr><th scope=row>25</th><td>1           </td><td>promoted    </td><td>female      </td></tr>\n",
       "\t<tr><th scope=row>14</th><td>1           </td><td>promoted    </td><td>male        </td></tr>\n",
       "\t<tr><th scope=row>...</th><td>...</td><td>...</td><td>...</td></tr>\n",
       "\t<tr><th scope=row>46.4</th><td>5           </td><td>not_promoted</td><td>female      </td></tr>\n",
       "\t<tr><th scope=row>48.4</th><td>5           </td><td>not_promoted</td><td>female      </td></tr>\n",
       "\t<tr><th scope=row>17.4</th><td>5           </td><td>promoted    </td><td>male        </td></tr>\n",
       "\t<tr><th scope=row>39.4</th><td>5           </td><td>not_promoted</td><td>female      </td></tr>\n",
       "\t<tr><th scope=row>14.4</th><td>5           </td><td>promoted    </td><td>male        </td></tr>\n",
       "\t<tr><th scope=row>6.4</th><td>5           </td><td>promoted    </td><td>male        </td></tr>\n",
       "\t<tr><th scope=row>23.4</th><td>5           </td><td>promoted    </td><td>female      </td></tr>\n",
       "\t<tr><th scope=row>12.4</th><td>5           </td><td>promoted    </td><td>male        </td></tr>\n",
       "\t<tr><th scope=row>9.4</th><td>5           </td><td>promoted    </td><td>male        </td></tr>\n",
       "\t<tr><th scope=row>19.4</th><td>5           </td><td>promoted    </td><td>male        </td></tr>\n",
       "\t<tr><th scope=row>42.4</th><td>5           </td><td>not_promoted</td><td>female      </td></tr>\n",
       "\t<tr><th scope=row>2.4</th><td>5           </td><td>promoted    </td><td>male        </td></tr>\n",
       "\t<tr><th scope=row>21.4</th><td>5           </td><td>promoted    </td><td>male        </td></tr>\n",
       "\t<tr><th scope=row>5.4</th><td>5           </td><td>promoted    </td><td>male        </td></tr>\n",
       "\t<tr><th scope=row>7.4</th><td>5           </td><td>promoted    </td><td>male        </td></tr>\n",
       "\t<tr><th scope=row>18.4</th><td>5           </td><td>promoted    </td><td>male        </td></tr>\n",
       "\t<tr><th scope=row>20.4</th><td>5           </td><td>promoted    </td><td>male        </td></tr>\n",
       "\t<tr><th scope=row>43.4</th><td>5           </td><td>not_promoted</td><td>female      </td></tr>\n",
       "\t<tr><th scope=row>25.4</th><td>5           </td><td>promoted    </td><td>female      </td></tr>\n",
       "\t<tr><th scope=row>24.4</th><td>5           </td><td>promoted    </td><td>female      </td></tr>\n",
       "\t<tr><th scope=row>35.4</th><td>5           </td><td>promoted    </td><td>female      </td></tr>\n",
       "\t<tr><th scope=row>37.4</th><td>5           </td><td>not_promoted</td><td>male        </td></tr>\n",
       "\t<tr><th scope=row>11.4</th><td>5           </td><td>promoted    </td><td>male        </td></tr>\n",
       "\t<tr><th scope=row>3.4</th><td>5           </td><td>promoted    </td><td>male        </td></tr>\n",
       "\t<tr><th scope=row>41.4</th><td>5           </td><td>not_promoted</td><td>female      </td></tr>\n",
       "\t<tr><th scope=row>32.4</th><td>5           </td><td>promoted    </td><td>female      </td></tr>\n",
       "\t<tr><th scope=row>30.4</th><td>5           </td><td>promoted    </td><td>female      </td></tr>\n",
       "\t<tr><th scope=row>28.4</th><td>5           </td><td>promoted    </td><td>female      </td></tr>\n",
       "\t<tr><th scope=row>31.4</th><td>5           </td><td>promoted    </td><td>female      </td></tr>\n",
       "\t<tr><th scope=row>8.4</th><td>5           </td><td>promoted    </td><td>male        </td></tr>\n",
       "</tbody>\n",
       "</table>\n"
      ],
      "text/latex": [
       "\\begin{tabular}{r|lll}\n",
       "  & replicate & promote & sex\\\\\n",
       "\\hline\n",
       "\t29 & 1            & promoted     & female      \\\\\n",
       "\t22 & 1            & promoted     & female      \\\\\n",
       "\t44 & 1              & not\\_promoted & female        \\\\\n",
       "\t45 & 1              & not\\_promoted & female        \\\\\n",
       "\t27 & 1            & promoted     & female      \\\\\n",
       "\t16 & 1            & promoted     & male        \\\\\n",
       "\t13 & 1            & promoted     & male        \\\\\n",
       "\t36 & 1              & not\\_promoted & male          \\\\\n",
       "\t35 & 1            & promoted     & female      \\\\\n",
       "\t23 & 1            & promoted     & female      \\\\\n",
       "\t20 & 1            & promoted     & male        \\\\\n",
       "\t12 & 1            & promoted     & male        \\\\\n",
       "\t26 & 1            & promoted     & female      \\\\\n",
       "\t3 & 1            & promoted     & male        \\\\\n",
       "\t19 & 1            & promoted     & male        \\\\\n",
       "\t2 & 1            & promoted     & male        \\\\\n",
       "\t32 & 1            & promoted     & female      \\\\\n",
       "\t15 & 1            & promoted     & male        \\\\\n",
       "\t1 & 1            & promoted     & male        \\\\\n",
       "\t5 & 1            & promoted     & male        \\\\\n",
       "\t42 & 1              & not\\_promoted & female        \\\\\n",
       "\t7 & 1            & promoted     & male        \\\\\n",
       "\t38 & 1              & not\\_promoted & male          \\\\\n",
       "\t9 & 1            & promoted     & male        \\\\\n",
       "\t46 & 1              & not\\_promoted & female        \\\\\n",
       "\t34 & 1            & promoted     & female      \\\\\n",
       "\t37 & 1              & not\\_promoted & male          \\\\\n",
       "\t21 & 1            & promoted     & male        \\\\\n",
       "\t25 & 1            & promoted     & female      \\\\\n",
       "\t14 & 1            & promoted     & male        \\\\\n",
       "\t... & ... & ... & ...\\\\\n",
       "\t46.4 & 5              & not\\_promoted & female        \\\\\n",
       "\t48.4 & 5              & not\\_promoted & female        \\\\\n",
       "\t17.4 & 5            & promoted     & male        \\\\\n",
       "\t39.4 & 5              & not\\_promoted & female        \\\\\n",
       "\t14.4 & 5            & promoted     & male        \\\\\n",
       "\t6.4 & 5            & promoted     & male        \\\\\n",
       "\t23.4 & 5            & promoted     & female      \\\\\n",
       "\t12.4 & 5            & promoted     & male        \\\\\n",
       "\t9.4 & 5            & promoted     & male        \\\\\n",
       "\t19.4 & 5            & promoted     & male        \\\\\n",
       "\t42.4 & 5              & not\\_promoted & female        \\\\\n",
       "\t2.4 & 5            & promoted     & male        \\\\\n",
       "\t21.4 & 5            & promoted     & male        \\\\\n",
       "\t5.4 & 5            & promoted     & male        \\\\\n",
       "\t7.4 & 5            & promoted     & male        \\\\\n",
       "\t18.4 & 5            & promoted     & male        \\\\\n",
       "\t20.4 & 5            & promoted     & male        \\\\\n",
       "\t43.4 & 5              & not\\_promoted & female        \\\\\n",
       "\t25.4 & 5            & promoted     & female      \\\\\n",
       "\t24.4 & 5            & promoted     & female      \\\\\n",
       "\t35.4 & 5            & promoted     & female      \\\\\n",
       "\t37.4 & 5              & not\\_promoted & male          \\\\\n",
       "\t11.4 & 5            & promoted     & male        \\\\\n",
       "\t3.4 & 5            & promoted     & male        \\\\\n",
       "\t41.4 & 5              & not\\_promoted & female        \\\\\n",
       "\t32.4 & 5            & promoted     & female      \\\\\n",
       "\t30.4 & 5            & promoted     & female      \\\\\n",
       "\t28.4 & 5            & promoted     & female      \\\\\n",
       "\t31.4 & 5            & promoted     & female      \\\\\n",
       "\t8.4 & 5            & promoted     & male        \\\\\n",
       "\\end{tabular}\n"
      ],
      "text/markdown": [
       "\n",
       "| <!--/--> | replicate | promote | sex | \n",
       "|---|---|---|---|---|---|---|---|---|---|---|---|---|---|---|---|---|---|---|---|---|---|---|---|---|---|---|---|---|---|---|---|---|---|---|---|---|---|---|---|---|---|---|---|---|---|---|---|---|---|---|---|---|---|---|---|---|---|---|---|---|\n",
       "| 29 | 1            | promoted     | female       | \n",
       "| 22 | 1            | promoted     | female       | \n",
       "| 44 | 1            | not_promoted | female       | \n",
       "| 45 | 1            | not_promoted | female       | \n",
       "| 27 | 1            | promoted     | female       | \n",
       "| 16 | 1            | promoted     | male         | \n",
       "| 13 | 1            | promoted     | male         | \n",
       "| 36 | 1            | not_promoted | male         | \n",
       "| 35 | 1            | promoted     | female       | \n",
       "| 23 | 1            | promoted     | female       | \n",
       "| 20 | 1            | promoted     | male         | \n",
       "| 12 | 1            | promoted     | male         | \n",
       "| 26 | 1            | promoted     | female       | \n",
       "| 3 | 1            | promoted     | male         | \n",
       "| 19 | 1            | promoted     | male         | \n",
       "| 2 | 1            | promoted     | male         | \n",
       "| 32 | 1            | promoted     | female       | \n",
       "| 15 | 1            | promoted     | male         | \n",
       "| 1 | 1            | promoted     | male         | \n",
       "| 5 | 1            | promoted     | male         | \n",
       "| 42 | 1            | not_promoted | female       | \n",
       "| 7 | 1            | promoted     | male         | \n",
       "| 38 | 1            | not_promoted | male         | \n",
       "| 9 | 1            | promoted     | male         | \n",
       "| 46 | 1            | not_promoted | female       | \n",
       "| 34 | 1            | promoted     | female       | \n",
       "| 37 | 1            | not_promoted | male         | \n",
       "| 21 | 1            | promoted     | male         | \n",
       "| 25 | 1            | promoted     | female       | \n",
       "| 14 | 1            | promoted     | male         | \n",
       "| ... | ... | ... | ... | \n",
       "| 46.4 | 5            | not_promoted | female       | \n",
       "| 48.4 | 5            | not_promoted | female       | \n",
       "| 17.4 | 5            | promoted     | male         | \n",
       "| 39.4 | 5            | not_promoted | female       | \n",
       "| 14.4 | 5            | promoted     | male         | \n",
       "| 6.4 | 5            | promoted     | male         | \n",
       "| 23.4 | 5            | promoted     | female       | \n",
       "| 12.4 | 5            | promoted     | male         | \n",
       "| 9.4 | 5            | promoted     | male         | \n",
       "| 19.4 | 5            | promoted     | male         | \n",
       "| 42.4 | 5            | not_promoted | female       | \n",
       "| 2.4 | 5            | promoted     | male         | \n",
       "| 21.4 | 5            | promoted     | male         | \n",
       "| 5.4 | 5            | promoted     | male         | \n",
       "| 7.4 | 5            | promoted     | male         | \n",
       "| 18.4 | 5            | promoted     | male         | \n",
       "| 20.4 | 5            | promoted     | male         | \n",
       "| 43.4 | 5            | not_promoted | female       | \n",
       "| 25.4 | 5            | promoted     | female       | \n",
       "| 24.4 | 5            | promoted     | female       | \n",
       "| 35.4 | 5            | promoted     | female       | \n",
       "| 37.4 | 5            | not_promoted | male         | \n",
       "| 11.4 | 5            | promoted     | male         | \n",
       "| 3.4 | 5            | promoted     | male         | \n",
       "| 41.4 | 5            | not_promoted | female       | \n",
       "| 32.4 | 5            | promoted     | female       | \n",
       "| 30.4 | 5            | promoted     | female       | \n",
       "| 28.4 | 5            | promoted     | female       | \n",
       "| 31.4 | 5            | promoted     | female       | \n",
       "| 8.4 | 5            | promoted     | male         | \n",
       "\n",
       "\n"
      ],
      "text/plain": [
       "     replicate promote      sex   \n",
       "29   1         promoted     female\n",
       "22   1         promoted     female\n",
       "44   1         not_promoted female\n",
       "45   1         not_promoted female\n",
       "27   1         promoted     female\n",
       "16   1         promoted     male  \n",
       "13   1         promoted     male  \n",
       "36   1         not_promoted male  \n",
       "35   1         promoted     female\n",
       "23   1         promoted     female\n",
       "20   1         promoted     male  \n",
       "12   1         promoted     male  \n",
       "26   1         promoted     female\n",
       "3    1         promoted     male  \n",
       "19   1         promoted     male  \n",
       "2    1         promoted     male  \n",
       "32   1         promoted     female\n",
       "15   1         promoted     male  \n",
       "1    1         promoted     male  \n",
       "5    1         promoted     male  \n",
       "42   1         not_promoted female\n",
       "7    1         promoted     male  \n",
       "38   1         not_promoted male  \n",
       "9    1         promoted     male  \n",
       "46   1         not_promoted female\n",
       "34   1         promoted     female\n",
       "37   1         not_promoted male  \n",
       "21   1         promoted     male  \n",
       "25   1         promoted     female\n",
       "14   1         promoted     male  \n",
       "...  ...       ...          ...   \n",
       "46.4 5         not_promoted female\n",
       "48.4 5         not_promoted female\n",
       "17.4 5         promoted     male  \n",
       "39.4 5         not_promoted female\n",
       "14.4 5         promoted     male  \n",
       "6.4  5         promoted     male  \n",
       "23.4 5         promoted     female\n",
       "12.4 5         promoted     male  \n",
       "9.4  5         promoted     male  \n",
       "19.4 5         promoted     male  \n",
       "42.4 5         not_promoted female\n",
       "2.4  5         promoted     male  \n",
       "21.4 5         promoted     male  \n",
       "5.4  5         promoted     male  \n",
       "7.4  5         promoted     male  \n",
       "18.4 5         promoted     male  \n",
       "20.4 5         promoted     male  \n",
       "43.4 5         not_promoted female\n",
       "25.4 5         promoted     female\n",
       "24.4 5         promoted     female\n",
       "35.4 5         promoted     female\n",
       "37.4 5         not_promoted male  \n",
       "11.4 5         promoted     male  \n",
       "3.4  5         promoted     male  \n",
       "41.4 5         not_promoted female\n",
       "32.4 5         promoted     female\n",
       "30.4 5         promoted     female\n",
       "28.4 5         promoted     female\n",
       "31.4 5         promoted     female\n",
       "8.4  5         promoted     male  "
      ]
     },
     "metadata": {},
     "output_type": "display_data"
    },
    {
     "data": {
      "text/html": [
       "<table>\n",
       "<thead><tr><th scope=col>replicate</th><th scope=col>promote</th><th scope=col>sex</th><th scope=col>prom_perm</th></tr></thead>\n",
       "<tbody>\n",
       "\t<tr><td>1           </td><td>promoted    </td><td>female      </td><td>promoted    </td></tr>\n",
       "\t<tr><td>1           </td><td>promoted    </td><td>female      </td><td>not_promoted</td></tr>\n",
       "\t<tr><td>1           </td><td>promoted    </td><td>male        </td><td>promoted    </td></tr>\n",
       "\t<tr><td>1           </td><td>promoted    </td><td>male        </td><td>promoted    </td></tr>\n",
       "\t<tr><td>1           </td><td>not_promoted</td><td>female      </td><td>promoted    </td></tr>\n",
       "\t<tr><td>1           </td><td>promoted    </td><td>male        </td><td>promoted    </td></tr>\n",
       "\t<tr><td>1           </td><td>not_promoted</td><td>female      </td><td>promoted    </td></tr>\n",
       "\t<tr><td>1           </td><td>promoted    </td><td>male        </td><td>promoted    </td></tr>\n",
       "\t<tr><td>1           </td><td>promoted    </td><td>female      </td><td>not_promoted</td></tr>\n",
       "\t<tr><td>1           </td><td>promoted    </td><td>female      </td><td>promoted    </td></tr>\n",
       "\t<tr><td>1           </td><td>not_promoted</td><td>male        </td><td>promoted    </td></tr>\n",
       "\t<tr><td>1           </td><td>promoted    </td><td>male        </td><td>not_promoted</td></tr>\n",
       "\t<tr><td>1           </td><td>promoted    </td><td>female      </td><td>promoted    </td></tr>\n",
       "\t<tr><td>1           </td><td>not_promoted</td><td>female      </td><td>promoted    </td></tr>\n",
       "\t<tr><td>1           </td><td>promoted    </td><td>female      </td><td>promoted    </td></tr>\n",
       "\t<tr><td>1           </td><td>promoted    </td><td>female      </td><td>not_promoted</td></tr>\n",
       "\t<tr><td>1           </td><td>not_promoted</td><td>male        </td><td>not_promoted</td></tr>\n",
       "\t<tr><td>1           </td><td>not_promoted</td><td>female      </td><td>promoted    </td></tr>\n",
       "\t<tr><td>1           </td><td>promoted    </td><td>male        </td><td>promoted    </td></tr>\n",
       "\t<tr><td>1           </td><td>promoted    </td><td>male        </td><td>promoted    </td></tr>\n",
       "\t<tr><td>1           </td><td>not_promoted</td><td>female      </td><td>promoted    </td></tr>\n",
       "\t<tr><td>1           </td><td>promoted    </td><td>male        </td><td>promoted    </td></tr>\n",
       "\t<tr><td>1           </td><td>promoted    </td><td>female      </td><td>not_promoted</td></tr>\n",
       "\t<tr><td>1           </td><td>promoted    </td><td>male        </td><td>not_promoted</td></tr>\n",
       "\t<tr><td>1           </td><td>promoted    </td><td>male        </td><td>promoted    </td></tr>\n",
       "\t<tr><td>1           </td><td>promoted    </td><td>female      </td><td>promoted    </td></tr>\n",
       "\t<tr><td>1           </td><td>promoted    </td><td>female      </td><td>promoted    </td></tr>\n",
       "\t<tr><td>1           </td><td>promoted    </td><td>female      </td><td>promoted    </td></tr>\n",
       "\t<tr><td>1           </td><td>promoted    </td><td>male        </td><td>promoted    </td></tr>\n",
       "\t<tr><td>1           </td><td>not_promoted</td><td>female      </td><td>promoted    </td></tr>\n",
       "\t<tr><td>...</td><td>...</td><td>...</td><td>...</td></tr>\n",
       "\t<tr><td>5           </td><td>promoted    </td><td>female      </td><td>promoted    </td></tr>\n",
       "\t<tr><td>5           </td><td>promoted    </td><td>male        </td><td>promoted    </td></tr>\n",
       "\t<tr><td>5           </td><td>not_promoted</td><td>female      </td><td>promoted    </td></tr>\n",
       "\t<tr><td>5           </td><td>not_promoted</td><td>female      </td><td>promoted    </td></tr>\n",
       "\t<tr><td>5           </td><td>promoted    </td><td>male        </td><td>promoted    </td></tr>\n",
       "\t<tr><td>5           </td><td>promoted    </td><td>female      </td><td>promoted    </td></tr>\n",
       "\t<tr><td>5           </td><td>not_promoted</td><td>male        </td><td>not_promoted</td></tr>\n",
       "\t<tr><td>5           </td><td>promoted    </td><td>male        </td><td>promoted    </td></tr>\n",
       "\t<tr><td>5           </td><td>promoted    </td><td>male        </td><td>promoted    </td></tr>\n",
       "\t<tr><td>5           </td><td>promoted    </td><td>female      </td><td>promoted    </td></tr>\n",
       "\t<tr><td>5           </td><td>promoted    </td><td>female      </td><td>promoted    </td></tr>\n",
       "\t<tr><td>5           </td><td>not_promoted</td><td>female      </td><td>promoted    </td></tr>\n",
       "\t<tr><td>5           </td><td>not_promoted</td><td>male        </td><td>promoted    </td></tr>\n",
       "\t<tr><td>5           </td><td>promoted    </td><td>female      </td><td>promoted    </td></tr>\n",
       "\t<tr><td>5           </td><td>promoted    </td><td>female      </td><td>promoted    </td></tr>\n",
       "\t<tr><td>5           </td><td>not_promoted</td><td>female      </td><td>promoted    </td></tr>\n",
       "\t<tr><td>5           </td><td>promoted    </td><td>male        </td><td>promoted    </td></tr>\n",
       "\t<tr><td>5           </td><td>not_promoted</td><td>female      </td><td>not_promoted</td></tr>\n",
       "\t<tr><td>5           </td><td>promoted    </td><td>male        </td><td>promoted    </td></tr>\n",
       "\t<tr><td>5           </td><td>promoted    </td><td>male        </td><td>promoted    </td></tr>\n",
       "\t<tr><td>5           </td><td>promoted    </td><td>male        </td><td>promoted    </td></tr>\n",
       "\t<tr><td>5           </td><td>promoted    </td><td>male        </td><td>promoted    </td></tr>\n",
       "\t<tr><td>5           </td><td>promoted    </td><td>female      </td><td>promoted    </td></tr>\n",
       "\t<tr><td>5           </td><td>not_promoted</td><td>female      </td><td>promoted    </td></tr>\n",
       "\t<tr><td>5           </td><td>not_promoted</td><td>female      </td><td>not_promoted</td></tr>\n",
       "\t<tr><td>5           </td><td>promoted    </td><td>female      </td><td>promoted    </td></tr>\n",
       "\t<tr><td>5           </td><td>not_promoted</td><td>female      </td><td>promoted    </td></tr>\n",
       "\t<tr><td>5           </td><td>promoted    </td><td>female      </td><td>not_promoted</td></tr>\n",
       "\t<tr><td>5           </td><td>promoted    </td><td>male        </td><td>promoted    </td></tr>\n",
       "\t<tr><td>5           </td><td>promoted    </td><td>female      </td><td>promoted    </td></tr>\n",
       "</tbody>\n",
       "</table>\n"
      ],
      "text/latex": [
       "\\begin{tabular}{r|llll}\n",
       " replicate & promote & sex & prom\\_perm\\\\\n",
       "\\hline\n",
       "\t 1            & promoted     & female       & promoted    \\\\\n",
       "\t 1              & promoted       & female         & not\\_promoted\\\\\n",
       "\t 1            & promoted     & male         & promoted    \\\\\n",
       "\t 1            & promoted     & male         & promoted    \\\\\n",
       "\t 1              & not\\_promoted & female         & promoted      \\\\\n",
       "\t 1            & promoted     & male         & promoted    \\\\\n",
       "\t 1              & not\\_promoted & female         & promoted      \\\\\n",
       "\t 1            & promoted     & male         & promoted    \\\\\n",
       "\t 1              & promoted       & female         & not\\_promoted\\\\\n",
       "\t 1            & promoted     & female       & promoted    \\\\\n",
       "\t 1              & not\\_promoted & male           & promoted      \\\\\n",
       "\t 1              & promoted       & male           & not\\_promoted\\\\\n",
       "\t 1            & promoted     & female       & promoted    \\\\\n",
       "\t 1              & not\\_promoted & female         & promoted      \\\\\n",
       "\t 1            & promoted     & female       & promoted    \\\\\n",
       "\t 1              & promoted       & female         & not\\_promoted\\\\\n",
       "\t 1              & not\\_promoted & male           & not\\_promoted\\\\\n",
       "\t 1              & not\\_promoted & female         & promoted      \\\\\n",
       "\t 1            & promoted     & male         & promoted    \\\\\n",
       "\t 1            & promoted     & male         & promoted    \\\\\n",
       "\t 1              & not\\_promoted & female         & promoted      \\\\\n",
       "\t 1            & promoted     & male         & promoted    \\\\\n",
       "\t 1              & promoted       & female         & not\\_promoted\\\\\n",
       "\t 1              & promoted       & male           & not\\_promoted\\\\\n",
       "\t 1            & promoted     & male         & promoted    \\\\\n",
       "\t 1            & promoted     & female       & promoted    \\\\\n",
       "\t 1            & promoted     & female       & promoted    \\\\\n",
       "\t 1            & promoted     & female       & promoted    \\\\\n",
       "\t 1            & promoted     & male         & promoted    \\\\\n",
       "\t 1              & not\\_promoted & female         & promoted      \\\\\n",
       "\t ... & ... & ... & ...\\\\\n",
       "\t 5            & promoted     & female       & promoted    \\\\\n",
       "\t 5            & promoted     & male         & promoted    \\\\\n",
       "\t 5              & not\\_promoted & female         & promoted      \\\\\n",
       "\t 5              & not\\_promoted & female         & promoted      \\\\\n",
       "\t 5            & promoted     & male         & promoted    \\\\\n",
       "\t 5            & promoted     & female       & promoted    \\\\\n",
       "\t 5              & not\\_promoted & male           & not\\_promoted\\\\\n",
       "\t 5            & promoted     & male         & promoted    \\\\\n",
       "\t 5            & promoted     & male         & promoted    \\\\\n",
       "\t 5            & promoted     & female       & promoted    \\\\\n",
       "\t 5            & promoted     & female       & promoted    \\\\\n",
       "\t 5              & not\\_promoted & female         & promoted      \\\\\n",
       "\t 5              & not\\_promoted & male           & promoted      \\\\\n",
       "\t 5            & promoted     & female       & promoted    \\\\\n",
       "\t 5            & promoted     & female       & promoted    \\\\\n",
       "\t 5              & not\\_promoted & female         & promoted      \\\\\n",
       "\t 5            & promoted     & male         & promoted    \\\\\n",
       "\t 5              & not\\_promoted & female         & not\\_promoted\\\\\n",
       "\t 5            & promoted     & male         & promoted    \\\\\n",
       "\t 5            & promoted     & male         & promoted    \\\\\n",
       "\t 5            & promoted     & male         & promoted    \\\\\n",
       "\t 5            & promoted     & male         & promoted    \\\\\n",
       "\t 5            & promoted     & female       & promoted    \\\\\n",
       "\t 5              & not\\_promoted & female         & promoted      \\\\\n",
       "\t 5              & not\\_promoted & female         & not\\_promoted\\\\\n",
       "\t 5            & promoted     & female       & promoted    \\\\\n",
       "\t 5              & not\\_promoted & female         & promoted      \\\\\n",
       "\t 5              & promoted       & female         & not\\_promoted\\\\\n",
       "\t 5            & promoted     & male         & promoted    \\\\\n",
       "\t 5            & promoted     & female       & promoted    \\\\\n",
       "\\end{tabular}\n"
      ],
      "text/markdown": [
       "\n",
       "replicate | promote | sex | prom_perm | \n",
       "|---|---|---|---|---|---|---|---|---|---|---|---|---|---|---|---|---|---|---|---|---|---|---|---|---|---|---|---|---|---|---|---|---|---|---|---|---|---|---|---|---|---|---|---|---|---|---|---|---|---|---|---|---|---|---|---|---|---|---|---|---|\n",
       "| 1            | promoted     | female       | promoted     | \n",
       "| 1            | promoted     | female       | not_promoted | \n",
       "| 1            | promoted     | male         | promoted     | \n",
       "| 1            | promoted     | male         | promoted     | \n",
       "| 1            | not_promoted | female       | promoted     | \n",
       "| 1            | promoted     | male         | promoted     | \n",
       "| 1            | not_promoted | female       | promoted     | \n",
       "| 1            | promoted     | male         | promoted     | \n",
       "| 1            | promoted     | female       | not_promoted | \n",
       "| 1            | promoted     | female       | promoted     | \n",
       "| 1            | not_promoted | male         | promoted     | \n",
       "| 1            | promoted     | male         | not_promoted | \n",
       "| 1            | promoted     | female       | promoted     | \n",
       "| 1            | not_promoted | female       | promoted     | \n",
       "| 1            | promoted     | female       | promoted     | \n",
       "| 1            | promoted     | female       | not_promoted | \n",
       "| 1            | not_promoted | male         | not_promoted | \n",
       "| 1            | not_promoted | female       | promoted     | \n",
       "| 1            | promoted     | male         | promoted     | \n",
       "| 1            | promoted     | male         | promoted     | \n",
       "| 1            | not_promoted | female       | promoted     | \n",
       "| 1            | promoted     | male         | promoted     | \n",
       "| 1            | promoted     | female       | not_promoted | \n",
       "| 1            | promoted     | male         | not_promoted | \n",
       "| 1            | promoted     | male         | promoted     | \n",
       "| 1            | promoted     | female       | promoted     | \n",
       "| 1            | promoted     | female       | promoted     | \n",
       "| 1            | promoted     | female       | promoted     | \n",
       "| 1            | promoted     | male         | promoted     | \n",
       "| 1            | not_promoted | female       | promoted     | \n",
       "| ... | ... | ... | ... | \n",
       "| 5            | promoted     | female       | promoted     | \n",
       "| 5            | promoted     | male         | promoted     | \n",
       "| 5            | not_promoted | female       | promoted     | \n",
       "| 5            | not_promoted | female       | promoted     | \n",
       "| 5            | promoted     | male         | promoted     | \n",
       "| 5            | promoted     | female       | promoted     | \n",
       "| 5            | not_promoted | male         | not_promoted | \n",
       "| 5            | promoted     | male         | promoted     | \n",
       "| 5            | promoted     | male         | promoted     | \n",
       "| 5            | promoted     | female       | promoted     | \n",
       "| 5            | promoted     | female       | promoted     | \n",
       "| 5            | not_promoted | female       | promoted     | \n",
       "| 5            | not_promoted | male         | promoted     | \n",
       "| 5            | promoted     | female       | promoted     | \n",
       "| 5            | promoted     | female       | promoted     | \n",
       "| 5            | not_promoted | female       | promoted     | \n",
       "| 5            | promoted     | male         | promoted     | \n",
       "| 5            | not_promoted | female       | not_promoted | \n",
       "| 5            | promoted     | male         | promoted     | \n",
       "| 5            | promoted     | male         | promoted     | \n",
       "| 5            | promoted     | male         | promoted     | \n",
       "| 5            | promoted     | male         | promoted     | \n",
       "| 5            | promoted     | female       | promoted     | \n",
       "| 5            | not_promoted | female       | promoted     | \n",
       "| 5            | not_promoted | female       | not_promoted | \n",
       "| 5            | promoted     | female       | promoted     | \n",
       "| 5            | not_promoted | female       | promoted     | \n",
       "| 5            | promoted     | female       | not_promoted | \n",
       "| 5            | promoted     | male         | promoted     | \n",
       "| 5            | promoted     | female       | promoted     | \n",
       "\n",
       "\n"
      ],
      "text/plain": [
       "    replicate promote      sex    prom_perm   \n",
       "1   1         promoted     female promoted    \n",
       "2   1         promoted     female not_promoted\n",
       "3   1         promoted     male   promoted    \n",
       "4   1         promoted     male   promoted    \n",
       "5   1         not_promoted female promoted    \n",
       "6   1         promoted     male   promoted    \n",
       "7   1         not_promoted female promoted    \n",
       "8   1         promoted     male   promoted    \n",
       "9   1         promoted     female not_promoted\n",
       "10  1         promoted     female promoted    \n",
       "11  1         not_promoted male   promoted    \n",
       "12  1         promoted     male   not_promoted\n",
       "13  1         promoted     female promoted    \n",
       "14  1         not_promoted female promoted    \n",
       "15  1         promoted     female promoted    \n",
       "16  1         promoted     female not_promoted\n",
       "17  1         not_promoted male   not_promoted\n",
       "18  1         not_promoted female promoted    \n",
       "19  1         promoted     male   promoted    \n",
       "20  1         promoted     male   promoted    \n",
       "21  1         not_promoted female promoted    \n",
       "22  1         promoted     male   promoted    \n",
       "23  1         promoted     female not_promoted\n",
       "24  1         promoted     male   not_promoted\n",
       "25  1         promoted     male   promoted    \n",
       "26  1         promoted     female promoted    \n",
       "27  1         promoted     female promoted    \n",
       "28  1         promoted     female promoted    \n",
       "29  1         promoted     male   promoted    \n",
       "30  1         not_promoted female promoted    \n",
       "... ...       ...          ...    ...         \n",
       "211 5         promoted     female promoted    \n",
       "212 5         promoted     male   promoted    \n",
       "213 5         not_promoted female promoted    \n",
       "214 5         not_promoted female promoted    \n",
       "215 5         promoted     male   promoted    \n",
       "216 5         promoted     female promoted    \n",
       "217 5         not_promoted male   not_promoted\n",
       "218 5         promoted     male   promoted    \n",
       "219 5         promoted     male   promoted    \n",
       "220 5         promoted     female promoted    \n",
       "221 5         promoted     female promoted    \n",
       "222 5         not_promoted female promoted    \n",
       "223 5         not_promoted male   promoted    \n",
       "224 5         promoted     female promoted    \n",
       "225 5         promoted     female promoted    \n",
       "226 5         not_promoted female promoted    \n",
       "227 5         promoted     male   promoted    \n",
       "228 5         not_promoted female not_promoted\n",
       "229 5         promoted     male   promoted    \n",
       "230 5         promoted     male   promoted    \n",
       "231 5         promoted     male   promoted    \n",
       "232 5         promoted     male   promoted    \n",
       "233 5         promoted     female promoted    \n",
       "234 5         not_promoted female promoted    \n",
       "235 5         not_promoted female not_promoted\n",
       "236 5         promoted     female promoted    \n",
       "237 5         not_promoted female promoted    \n",
       "238 5         promoted     female not_promoted\n",
       "239 5         promoted     male   promoted    \n",
       "240 5         promoted     female promoted    "
      ]
     },
     "metadata": {},
     "output_type": "display_data"
    },
    {
     "data": {
      "text/html": [
       "<table>\n",
       "<thead><tr><th scope=col>replicate</th><th scope=col>sex</th><th scope=col>prop_prom_perm</th><th scope=col>prop_prom</th></tr></thead>\n",
       "<tbody>\n",
       "\t<tr><td>1        </td><td>female   </td><td>0.6666667</td><td>0.5833333</td></tr>\n",
       "\t<tr><td>1        </td><td>male     </td><td>0.7916667</td><td>0.8750000</td></tr>\n",
       "\t<tr><td>2        </td><td>female   </td><td>0.7083333</td><td>0.5833333</td></tr>\n",
       "\t<tr><td>2        </td><td>male     </td><td>0.7500000</td><td>0.8750000</td></tr>\n",
       "\t<tr><td>3        </td><td>female   </td><td>0.7500000</td><td>0.5833333</td></tr>\n",
       "\t<tr><td>3        </td><td>male     </td><td>0.7083333</td><td>0.8750000</td></tr>\n",
       "\t<tr><td>4        </td><td>female   </td><td>0.7083333</td><td>0.5833333</td></tr>\n",
       "\t<tr><td>4        </td><td>male     </td><td>0.7500000</td><td>0.8750000</td></tr>\n",
       "\t<tr><td>5        </td><td>female   </td><td>0.7083333</td><td>0.5833333</td></tr>\n",
       "\t<tr><td>5        </td><td>male     </td><td>0.7500000</td><td>0.8750000</td></tr>\n",
       "</tbody>\n",
       "</table>\n"
      ],
      "text/latex": [
       "\\begin{tabular}{r|llll}\n",
       " replicate & sex & prop\\_prom\\_perm & prop\\_prom\\\\\n",
       "\\hline\n",
       "\t 1         & female    & 0.6666667 & 0.5833333\\\\\n",
       "\t 1         & male      & 0.7916667 & 0.8750000\\\\\n",
       "\t 2         & female    & 0.7083333 & 0.5833333\\\\\n",
       "\t 2         & male      & 0.7500000 & 0.8750000\\\\\n",
       "\t 3         & female    & 0.7500000 & 0.5833333\\\\\n",
       "\t 3         & male      & 0.7083333 & 0.8750000\\\\\n",
       "\t 4         & female    & 0.7083333 & 0.5833333\\\\\n",
       "\t 4         & male      & 0.7500000 & 0.8750000\\\\\n",
       "\t 5         & female    & 0.7083333 & 0.5833333\\\\\n",
       "\t 5         & male      & 0.7500000 & 0.8750000\\\\\n",
       "\\end{tabular}\n"
      ],
      "text/markdown": [
       "\n",
       "replicate | sex | prop_prom_perm | prop_prom | \n",
       "|---|---|---|---|---|---|---|---|---|---|\n",
       "| 1         | female    | 0.6666667 | 0.5833333 | \n",
       "| 1         | male      | 0.7916667 | 0.8750000 | \n",
       "| 2         | female    | 0.7083333 | 0.5833333 | \n",
       "| 2         | male      | 0.7500000 | 0.8750000 | \n",
       "| 3         | female    | 0.7500000 | 0.5833333 | \n",
       "| 3         | male      | 0.7083333 | 0.8750000 | \n",
       "| 4         | female    | 0.7083333 | 0.5833333 | \n",
       "| 4         | male      | 0.7500000 | 0.8750000 | \n",
       "| 5         | female    | 0.7083333 | 0.5833333 | \n",
       "| 5         | male      | 0.7500000 | 0.8750000 | \n",
       "\n",
       "\n"
      ],
      "text/plain": [
       "   replicate sex    prop_prom_perm prop_prom\n",
       "1  1         female 0.6666667      0.5833333\n",
       "2  1         male   0.7916667      0.8750000\n",
       "3  2         female 0.7083333      0.5833333\n",
       "4  2         male   0.7500000      0.8750000\n",
       "5  3         female 0.7500000      0.5833333\n",
       "6  3         male   0.7083333      0.8750000\n",
       "7  4         female 0.7083333      0.5833333\n",
       "8  4         male   0.7500000      0.8750000\n",
       "9  5         female 0.7083333      0.5833333\n",
       "10 5         male   0.7500000      0.8750000"
      ]
     },
     "metadata": {},
     "output_type": "display_data"
    },
    {
     "data": {
      "text/html": [
       "<table>\n",
       "<thead><tr><th scope=col>replicate</th><th scope=col>diff_perm</th><th scope=col>diff_orig</th></tr></thead>\n",
       "<tbody>\n",
       "\t<tr><td>1          </td><td> 0.12500000</td><td>0.2916667  </td></tr>\n",
       "\t<tr><td>2          </td><td>-0.04166667</td><td>0.2916667  </td></tr>\n",
       "\t<tr><td>3          </td><td> 0.20833333</td><td>0.2916667  </td></tr>\n",
       "\t<tr><td>4          </td><td> 0.12500000</td><td>0.2916667  </td></tr>\n",
       "\t<tr><td>5          </td><td>-0.04166667</td><td>0.2916667  </td></tr>\n",
       "</tbody>\n",
       "</table>\n"
      ],
      "text/latex": [
       "\\begin{tabular}{r|lll}\n",
       " replicate & diff\\_perm & diff\\_orig\\\\\n",
       "\\hline\n",
       "\t 1           &  0.12500000 & 0.2916667  \\\\\n",
       "\t 2           & -0.04166667 & 0.2916667  \\\\\n",
       "\t 3           &  0.20833333 & 0.2916667  \\\\\n",
       "\t 4           &  0.12500000 & 0.2916667  \\\\\n",
       "\t 5           & -0.04166667 & 0.2916667  \\\\\n",
       "\\end{tabular}\n"
      ],
      "text/markdown": [
       "\n",
       "replicate | diff_perm | diff_orig | \n",
       "|---|---|---|---|---|\n",
       "| 1           |  0.12500000 | 0.2916667   | \n",
       "| 2           | -0.04166667 | 0.2916667   | \n",
       "| 3           |  0.20833333 | 0.2916667   | \n",
       "| 4           |  0.12500000 | 0.2916667   | \n",
       "| 5           | -0.04166667 | 0.2916667   | \n",
       "\n",
       "\n"
      ],
      "text/plain": [
       "  replicate diff_perm   diff_orig\n",
       "1 1          0.12500000 0.2916667\n",
       "2 2         -0.04166667 0.2916667\n",
       "3 3          0.20833333 0.2916667\n",
       "4 4          0.12500000 0.2916667\n",
       "5 5         -0.04166667 0.2916667"
      ]
     },
     "metadata": {},
     "output_type": "display_data"
    }
   ],
   "source": [
    "# Sample the entire data frame 5 times\n",
    "disc %>%\n",
    "  rep_sample_n(size = nrow(disc), reps = 5) \n",
    "\n",
    "# Shuffle the promote variable within replicate\n",
    "disc %>%\n",
    "  rep_sample_n(size = nrow(disc), reps = 5) %>%\n",
    "  mutate(prom_perm = sample(promote)) \n",
    "\n",
    "# Find the proportion of promoted in each replicate and sex\n",
    "disc %>%\n",
    "  rep_sample_n(size = nrow(disc), reps = 5) %>%\n",
    "  mutate(prom_perm = sample(promote)) %>%\n",
    "  group_by(replicate, sex) %>%\n",
    "  summarize(prop_prom_perm = mean(prom_perm==\"promoted\"),\n",
    "            prop_prom = mean(promote==\"promoted\")) \n",
    "\n",
    "# Difference in proportion of promoted across sex grouped by gender\n",
    "disc %>%\n",
    "  rep_sample_n(size = nrow(disc), reps = 5) %>%\n",
    "  mutate(prom_perm = sample(promote)) %>%\n",
    "  group_by(replicate, sex) %>%\n",
    "  summarize(prop_prom_perm = mean(prom_perm==\"promoted\"),\n",
    "            prop_prom = mean(promote==\"promoted\"))   %>%\n",
    "  summarize(diff_perm = diff(prop_prom_perm),\n",
    "            diff_orig = diff(prop_prom))  # male - female"
   ]
  },
  {
   "cell_type": "markdown",
   "metadata": {},
   "source": [
    "Let's quickly recap what you just did. Using rep_sample_n(), you took 5 repeated samples (i.e. Replications) of the disc data, then shuffled these using sample() to break any links between gender and getting promoted. Then for each replication, you calculated the proportions of promoted males and females in the dataset along with the difference in proportions. Excellent work!"
   ]
  },
  {
   "cell_type": "markdown",
   "metadata": {},
   "source": [
    "### Randomizing gender discrimination\n",
    "\n",
    "Recall that we are considering a situation where the number of men and women are fixed (representing the resumes) and the number of people promoted is fixed (the managers were able to promote only 35 individuals).\n",
    "\n",
    "In this exercise, you'll create a randomization distribution of the null statistic with 1000 replicates as opposed to just 5 in the previous exercise. As a reminder, the statistic of interest is the difference in proportions promoted between genders (i.e. proportion for males minus proportion for females).\n",
    "\n",
    "Instructions\n",
    "\n",
    "- Using the discrimination data, repeat the previous exercise with 1000 replicates:\n",
    "    - Sample the original data 1000 times.\n",
    "    - Permute the promote variable to break the link between promotion and sex.\n",
    "    - Group by replicate and sex and then calculate the proportion promoted within each group.\n",
    "    - Find the difference in proportions promoted across sex (grouped by replicate).\n",
    "- Create a histogram of the permuted differences and add a red line at the observed difference. Use binwidth = 0.01 in your call to geom_histogram()."
   ]
  },
  {
   "cell_type": "code",
   "execution_count": 10,
   "metadata": {
    "scrolled": true
   },
   "outputs": [
    {
     "data": {},
     "metadata": {},
     "output_type": "display_data"
    },
    {
     "data": {
      "image/png": "[encoded data removed]",
      "text/plain": [
       "plot without title"
      ]
     },
     "metadata": {},
     "output_type": "display_data"
    }
   ],
   "source": [
    "# Create a data frame of differences in promotion rates\n",
    "disc_perm <- disc %>%\n",
    "  rep_sample_n(size = nrow(disc), reps = 1000) %>%\n",
    "  mutate(prom_perm = sample(promote)) %>%\n",
    "  group_by(replicate, sex) %>%\n",
    "  summarize(prop_prom_perm = mean(prom_perm==\"promoted\"),\n",
    "            prop_prom = mean(promote==\"promoted\"))   %>%\n",
    "  summarize(diff_perm = diff(prop_prom_perm),\n",
    "            diff_orig = diff(prop_prom))  # male - female\n",
    "\n",
    "\n",
    "# Histogram of permuted differences\n",
    "ggplot(disc_perm, aes(x = diff_perm)) + \n",
    "  geom_histogram(binwidth = 0.01) +\n",
    "  geom_vline(aes(xintercept = diff_orig), col = \"red\")"
   ]
  },
  {
   "cell_type": "markdown",
   "metadata": {
    "collapsed": true
   },
   "source": [
    "You'll learn more about the distribution of statistics in the next video."
   ]
  },
  {
   "cell_type": "markdown",
   "metadata": {},
   "source": [
    "## Distribution of statistics - Video"
   ]
  },
  {
   "cell_type": "markdown",
   "metadata": {
    "collapsed": true
   },
   "source": [
    "### Reflecting on analysis\n",
    "50xp\n",
    "Based on the plot you created in the last exercise (displayed again here), which of the following seems like a reasonable conclusion about promotions?\n",
    "\n",
    "Possible Answers\n",
    "- In the population there is no evidence that women are discriminated against.\n",
    "- In the population there is no evidence that women are promoted at a different rate from men.\n",
    "- In the population there is evidence that women are discriminated against.\n",
    "- In the population there is evidence that women are promoted at a different rate, but we cannot tell whether the difference is due to discrimination or something else.(Correct)"
   ]
  },
  {
   "cell_type": "code",
   "execution_count": null,
   "metadata": {
    "collapsed": true
   },
   "outputs": [],
   "source": [
    "There are very few permuted differences which are as extreme as the observed difference."
   ]
  },
  {
   "cell_type": "markdown",
   "metadata": {},
   "source": [
    "### Critical region\n",
    "100xp\n",
    "It seems as though the statistic—a difference in promotion rates of 0.2917—is on the extreme end of the permutation distribution. That is, there are very few permuted differences which are as extreme as the observed difference.\n",
    "\n",
    "To quantify the extreme permuted (null) differences, we use the quantile() function.\n",
    "\n",
    "Instructions\n",
    "The dplyr package has been loaded for you. Using the permuted differences, disc_perm, find the quantile values such that:\n",
    "\n",
    "- 10% of the permuted differences are above the value (0.90 quantile)\n",
    "- 5% of the permuted differences are above the value (0.95 quantile)\n",
    "- 1% of the permuted differences are above the value (0.99 quantile)"
   ]
  },
  {
   "cell_type": "code",
   "execution_count": 11,
   "metadata": {},
   "outputs": [
    {
     "data": {
      "text/html": [
       "<table>\n",
       "<thead><tr><th scope=col>q.90</th><th scope=col>q.95</th><th scope=col>q.99</th></tr></thead>\n",
       "<tbody>\n",
       "\t<tr><td>0.2083333</td><td>0.2083333</td><td>0.2916667</td></tr>\n",
       "</tbody>\n",
       "</table>\n"
      ],
      "text/latex": [
       "\\begin{tabular}{r|lll}\n",
       " q.90 & q.95 & q.99\\\\\n",
       "\\hline\n",
       "\t 0.2083333 & 0.2083333 & 0.2916667\\\\\n",
       "\\end{tabular}\n"
      ],
      "text/markdown": [
       "\n",
       "q.90 | q.95 | q.99 | \n",
       "|---|\n",
       "| 0.2083333 | 0.2083333 | 0.2916667 | \n",
       "\n",
       "\n"
      ],
      "text/plain": [
       "  q.90      q.95      q.99     \n",
       "1 0.2083333 0.2083333 0.2916667"
      ]
     },
     "metadata": {},
     "output_type": "display_data"
    }
   ],
   "source": [
    "# Find the 0.90, 0.95, and 0.99 quantiles of diff_perm\n",
    "disc_perm %>% \n",
    "  summarize(q.90 = quantile(diff_perm, p = 0.90),\n",
    "            q.95 = quantile(diff_perm, p = 0.95),\n",
    "            q.99 = quantile(diff_perm, p = 0.99))"
   ]
  },
  {
   "cell_type": "markdown",
   "metadata": {},
   "source": [
    "### Two-sided critical region\n",
    "100xp\n",
    "For the discrimination data, the question at hand is whether or not women were promoted less often than men. However, there are often scenarios where the research question centers around a difference without directionality.\n",
    "\n",
    "For example, you might be interested in whether the rate of promotion for men and women is different. In that case, a difference in proportions of -0.29 is just as \"extreme\" as a difference of positive 0.29.\n",
    "\n",
    "If you had seen that women were promoted more often, what would the other side of the distribution of permuted differences look like? That is, what are the smallest (negative) values of the distribution of permuted differences?\n",
    "\n",
    "Instructions\n",
    "Using the permuted differences, disc_perm, find the quantile values such that:\n",
    "\n",
    " - 1% of the permuted differences are below the value (0.01 quantile)\n",
    " - 5% of the permuted differences are below the value (0.05 quantile)\n",
    " - 10% of the permuted differences are below the value (0.10 quantile)"
   ]
  },
  {
   "cell_type": "code",
   "execution_count": 12,
   "metadata": {},
   "outputs": [
    {
     "data": {
      "text/html": [
       "<table>\n",
       "<thead><tr><th scope=col>q.01</th><th scope=col>q.05</th><th scope=col>q.10</th></tr></thead>\n",
       "<tbody>\n",
       "\t<tr><td>-0.2916667</td><td>-0.2083333</td><td>-0.2083333</td></tr>\n",
       "</tbody>\n",
       "</table>\n"
      ],
      "text/latex": [
       "\\begin{tabular}{r|lll}\n",
       " q.01 & q.05 & q.10\\\\\n",
       "\\hline\n",
       "\t -0.2916667 & -0.2083333 & -0.2083333\\\\\n",
       "\\end{tabular}\n"
      ],
      "text/markdown": [
       "\n",
       "q.01 | q.05 | q.10 | \n",
       "|---|\n",
       "| -0.2916667 | -0.2083333 | -0.2083333 | \n",
       "\n",
       "\n"
      ],
      "text/plain": [
       "  q.01       q.05       q.10      \n",
       "1 -0.2916667 -0.2083333 -0.2083333"
      ]
     },
     "metadata": {},
     "output_type": "display_data"
    }
   ],
   "source": [
    "# Find the 0.01, 0.05, and 0.10 quantiles of diff_perm\n",
    "disc_perm %>% \n",
    "  summarize(q.01 = quantile(diff_perm, p = 0.01),\n",
    "            q.05 = quantile(diff_perm, p = 0.05),\n",
    "            q.10 = quantile(diff_perm, p = 0.10))"
   ]
  },
  {
   "cell_type": "markdown",
   "metadata": {},
   "source": [
    "## Why 0.05? - Video"
   ]
  },
  {
   "cell_type": "markdown",
   "metadata": {},
   "source": [
    "### How does sample size affect results?\n",
    "50xp\n",
    "Notice that the observed difference of 0.2917 is in the extreme right tail of the permuted differences. If the sample was ten times larger but the sample statistic was exactly the same (i.e. 0.2917), how would the distribution of permuted differences change?\n",
    "\n",
    "The statistic of 0.2917 would ______.\n",
    "\n",
    "Possible Answers\n",
    "Be closer to the bulk of the permuted differences (within the distribution)\n",
    "Remain in the same location (in the right tail of the distribution of permuted differences)\n",
    "Be much farther to the right of the permuted differences (completely off of the distribution) (Correct)\n",
    "Take Hint (-15xp)"
   ]
  },
  {
   "cell_type": "markdown",
   "metadata": {},
   "source": [
    "The statistic would be much farther to the right of the permuted differences, as you'll see in the next exercise."
   ]
  },
  {
   "cell_type": "markdown",
   "metadata": {},
   "source": [
    "### Sample size in randomization distribution\n",
    "100xp\n",
    "We've created two new datasets for you with essentially the same difference in proportions as the original discrimination data. However, one of the datasets (disc_small) is one third the size of the original dataset and the other (disc_big) is 10 times larger than the original dataset.\n",
    "\n",
    "Additionally, the same permutation code used previously has been run on the small and big datasets to create small and big distributions of permuted differences in promotion rates (disc_small_perm and disc_big_perm, respectively).\n",
    "\n",
    "In this exercise, you'll use these two new distributions to get a sense for how the differences vary given widely different sample sizes. In particular, notice the range of variability on the x-axis of each plot.\n",
    "\n",
    "Instructions\n",
    "Use table() to tabulate the new small and big data frames.\n",
    "Use ggplot() to visualize the permuted differences using geom_histogram(). Use binwidth = 0.01 in your call to geom_histogram() and add a red line at the observed difference."
   ]
  },
  {
   "cell_type": "code",
   "execution_count": 13,
   "metadata": {
    "collapsed": true
   },
   "outputs": [],
   "source": [
    "disc_small = readRDS(\"disc_small.rds\")\n",
    "disc_big = readRDS(\"disc_big.rds\")"
   ]
  },
  {
   "cell_type": "code",
   "execution_count": 15,
   "metadata": {},
   "outputs": [],
   "source": [
    "disc_small_perm <- disc_small %>%\n",
    "  rep_sample_n(size = nrow(disc_small), reps = 1000) %>%\n",
    "  mutate(prom_perm = sample(promote)) %>%\n",
    "  group_by(replicate, sex) %>%\n",
    "  summarize(prop_prom_perm = mean(prom_perm==\"promoted\"),\n",
    "            prop_prom = mean(promote==\"promoted\"))   %>%\n",
    "  summarize(diff_perm = diff(prop_prom_perm),\n",
    "            diff_orig = diff(prop_prom))  # male - female\n",
    "\n",
    "disc_big_perm <- disc_big %>%\n",
    "  rep_sample_n(size = nrow(disc_big), reps = 1000) %>%\n",
    "  mutate(prom_perm = sample(promote)) %>%\n",
    "  group_by(replicate, sex) %>%\n",
    "  summarize(prop_prom_perm = mean(prom_perm==\"promoted\"),\n",
    "            prop_prom = mean(promote==\"promoted\"))   %>%\n",
    "  summarize(diff_perm = diff(prop_prom_perm),\n",
    "            diff_orig = diff(prop_prom))  # male - female"
   ]
  },
  {
   "cell_type": "code",
   "execution_count": 17,
   "metadata": {},
   "outputs": [
    {
     "data": {
      "text/plain": [
       "        promote\n",
       "sex      not_promoted promoted\n",
       "  female            3        5\n",
       "  male              1        7"
      ]
     },
     "metadata": {},
     "output_type": "display_data"
    },
    {
     "data": {
      "text/plain": [
       "        promote\n",
       "sex      not_promoted promoted\n",
       "  female          100      140\n",
       "  male             30      210"
      ]
     },
     "metadata": {},
     "output_type": "display_data"
    },
    {
     "data": {},
     "metadata": {},
     "output_type": "display_data"
    },
    {
     "data": {},
     "metadata": {},
     "output_type": "display_data"
    },
    {
     "data": {
      "image/png": "[encoded data removed]",
      "text/plain": [
       "plot without title"
      ]
     },
     "metadata": {},
     "output_type": "display_data"
    },
    {
     "data": {
      "image/png": "[encoded data removed]",
      "text/plain": [
       "plot without title"
      ]
     },
     "metadata": {},
     "output_type": "display_data"
    }
   ],
   "source": [
    "# Tabulate the small and big data frames\n",
    "disc_small %>% \n",
    "  select(sex, promote) %>%\n",
    "  table()\n",
    "disc_big %>% \n",
    "  select(sex, promote) %>%\n",
    "  table()\n",
    "\n",
    "# Plot the distributions of permuted differences\n",
    "ggplot(disc_small_perm, aes(x = diff_perm)) + \n",
    "  geom_histogram(binwidth = 0.01) +\n",
    "  geom_vline(aes(xintercept = diff_orig), col = \"red\")\n",
    "\n",
    "ggplot(disc_big_perm, aes(x = diff_perm)) + \n",
    "  geom_histogram(binwidth = 0.01) +\n",
    "  geom_vline(aes(xintercept = diff_orig), col = \"red\")"
   ]
  },
  {
   "cell_type": "markdown",
   "metadata": {},
   "source": [
    "! The observed difference is consistent with differences you would see by chance if the sample size was small. The observed difference would virtually never be observed by chance if the sample size was big."
   ]
  },
  {
   "cell_type": "markdown",
   "metadata": {},
   "source": [
    "Sample size for critical region\n",
    "100xp\n",
    "Using the randomization distributions with the small and big datasets, calculate different cutoffs for significance. Remember, you are most interested in a large positive difference in promotion rates, so you are calculating the upper quantiles of 0.90, 0.95, and 0.99.\n",
    "\n",
    "Instructions\n",
    "As a reference point, calculate the relevant quantiles associated with the original dataset of 1000 permuted differences, disc_perm.\n",
    "For the small dataset, disc_small_perm, calculate the quantiles for the permuted differences in promotion rates.\n",
    "For the big dataset, disc_big_perm, calculate the quantiles for the permuted differences in promotion rates."
   ]
  },
  {
   "cell_type": "code",
   "execution_count": 16,
   "metadata": {},
   "outputs": [
    {
     "data": {
      "text/html": [
       "<table>\n",
       "<thead><tr><th scope=col>q.90</th><th scope=col>q.95</th><th scope=col>q.99</th></tr></thead>\n",
       "<tbody>\n",
       "\t<tr><td>0.2083333</td><td>0.2083333</td><td>0.2916667</td></tr>\n",
       "</tbody>\n",
       "</table>\n"
      ],
      "text/latex": [
       "\\begin{tabular}{r|lll}\n",
       " q.90 & q.95 & q.99\\\\\n",
       "\\hline\n",
       "\t 0.2083333 & 0.2083333 & 0.2916667\\\\\n",
       "\\end{tabular}\n"
      ],
      "text/markdown": [
       "\n",
       "q.90 | q.95 | q.99 | \n",
       "|---|\n",
       "| 0.2083333 | 0.2083333 | 0.2916667 | \n",
       "\n",
       "\n"
      ],
      "text/plain": [
       "  q.90      q.95      q.99     \n",
       "1 0.2083333 0.2083333 0.2916667"
      ]
     },
     "metadata": {},
     "output_type": "display_data"
    },
    {
     "data": {
      "text/html": [
       "<table>\n",
       "<thead><tr><th scope=col>q.90</th><th scope=col>q.95</th><th scope=col>q.99</th></tr></thead>\n",
       "<tbody>\n",
       "\t<tr><td>0.25</td><td>0.25</td><td>0.5 </td></tr>\n",
       "</tbody>\n",
       "</table>\n"
      ],
      "text/latex": [
       "\\begin{tabular}{r|lll}\n",
       " q.90 & q.95 & q.99\\\\\n",
       "\\hline\n",
       "\t 0.25 & 0.25 & 0.5 \\\\\n",
       "\\end{tabular}\n"
      ],
      "text/markdown": [
       "\n",
       "q.90 | q.95 | q.99 | \n",
       "|---|\n",
       "| 0.25 | 0.25 | 0.5  | \n",
       "\n",
       "\n"
      ],
      "text/plain": [
       "  q.90 q.95 q.99\n",
       "1 0.25 0.25 0.5 "
      ]
     },
     "metadata": {},
     "output_type": "display_data"
    },
    {
     "data": {
      "text/html": [
       "<table>\n",
       "<thead><tr><th scope=col>q.90</th><th scope=col>q.95</th><th scope=col>q.99</th></tr></thead>\n",
       "<tbody>\n",
       "\t<tr><td>0.05      </td><td>0.06666667</td><td>0.08341667</td></tr>\n",
       "</tbody>\n",
       "</table>\n"
      ],
      "text/latex": [
       "\\begin{tabular}{r|lll}\n",
       " q.90 & q.95 & q.99\\\\\n",
       "\\hline\n",
       "\t 0.05       & 0.06666667 & 0.08341667\\\\\n",
       "\\end{tabular}\n"
      ],
      "text/markdown": [
       "\n",
       "q.90 | q.95 | q.99 | \n",
       "|---|\n",
       "| 0.05       | 0.06666667 | 0.08341667 | \n",
       "\n",
       "\n"
      ],
      "text/plain": [
       "  q.90 q.95       q.99      \n",
       "1 0.05 0.06666667 0.08341667"
      ]
     },
     "metadata": {},
     "output_type": "display_data"
    }
   ],
   "source": [
    "# Recall the quantiles associated with the original dataset\n",
    "disc_perm %>% \n",
    "  summarize(q.90 = quantile(diff_perm, p = 0.90),\n",
    "            q.95 = quantile(diff_perm, p = .95),\n",
    "            q.99 = quantile(diff_perm, p = .99))\n",
    "\n",
    "# Calculate the quantiles associated with the small dataset\n",
    "disc_small_perm %>% \n",
    "  summarize(q.90 = quantile(diff_perm, p = 0.90),\n",
    "            q.95 = quantile(diff_perm, p = .95),\n",
    "            q.99 = quantile(diff_perm, p = .99))\n",
    "\n",
    "\n",
    "# Calculate the quantiles associated with the big dataset\n",
    "disc_big_perm %>% \n",
    "  summarize(q.90 = quantile(diff_perm, p = 0.90),\n",
    "            q.95 = quantile(diff_perm, p = .95),\n",
    "            q.99 = quantile(diff_perm, p = .99))"
   ]
  },
  {
   "cell_type": "code",
   "execution_count": null,
   "metadata": {
    "collapsed": true
   },
   "outputs": [],
   "source": [
    "> # Recall the quantiles associated with the original dataset\n",
    "> disc_perm %>% \n",
    "    summarize(q.90 = quantile(diff_perm, p = 0.90),\n",
    "              q.95 = quantile(diff_perm, p = .95),\n",
    "              q.99 = quantile(diff_perm, p = .99))\n",
    "# A tibble: 1 × 3\n",
    "       q.90      q.95      q.99\n",
    "      <dbl>     <dbl>     <dbl>\n",
    "1 0.2083333 0.2083333 0.2916667\n",
    "> \n",
    "> # Calculate the quantiles associated with the small dataset\n",
    "> disc_small_perm %>% \n",
    "    summarize(q.90 = quantile(diff_perm, p = 0.90),\n",
    "              q.95 = quantile(diff_perm, p = .95),\n",
    "              q.99 = quantile(diff_perm, p = .99))\n",
    "# A tibble: 1 × 3\n",
    "   q.90  q.95  q.99\n",
    "  <dbl> <dbl> <dbl>\n",
    "1  0.25  0.25   0.5\n",
    "> \n",
    "> \n",
    "> \n",
    "> \n",
    "> # Calculate the quantiles associated with the big dataset\n",
    "> disc_big_perm %>% \n",
    "    summarize(q.90 = quantile(diff_perm, p = 0.90),\n",
    "              q.95 = quantile(diff_perm, p = .95),\n",
    "              q.99 = quantile(diff_perm, p = .99))\n",
    "# A tibble: 1 × 3\n",
    "   q.90    q.95  q.99\n",
    "  <dbl>   <dbl> <dbl>\n",
    "1  0.05 0.05875   0.1"
   ]
  },
  {
   "cell_type": "markdown",
   "metadata": {},
   "source": [
    "# What is a p-value? - Video"
   ]
  },
  {
   "cell_type": "markdown",
   "metadata": {},
   "source": [
    "### Calculating the p-values\n",
    "\n",
    "In the video, you learned that a p-value measures the degree of disagreement between the data and the null hypothesis. Here, you will calculate the p-value for the original discrimination dataset as well as the small and big versions, disc_small and disc_big.\n",
    "\n",
    "Recall that you're only interested in the one-sided hypothesis test here. That is, you're trying to answer the question, \"Are men more likely to be promoted than women?\"\n",
    "\n",
    "Instructions\n",
    " - Use summarize() and mean() to determine the proportion of times the observed difference is less than or equal to the permuted difference.\n",
    " - Repeat for both the small and big datasets (one at a time)."
   ]
  },
  {
   "cell_type": "code",
   "execution_count": null,
   "metadata": {
    "collapsed": true
   },
   "outputs": [],
   "source": [
    "# Calculate the p-value for the original dataset\n",
    "disc_perm %>%\n",
    "  summarize(mean(diff_orig <= diff_perm))\n",
    "\n",
    "# Calculate the p-value for the small dataset\n",
    "disc_small_perm %>%\n",
    "   summarize(mean(diff_orig <= diff_perm))\n",
    "\n",
    "# Calculate the p-value for the big dataset\n",
    "disc_big_perm %>%\n",
    "  summarize(mean(diff_orig <= diff_perm))"
   ]
  },
  {
   "cell_type": "markdown",
   "metadata": {},
   "source": [
    "### Practice calculating p-values\n",
    "100xp\n",
    "In the original dataset, 87.5% of the men were promoted and 58.3% of the women were promoted.\n",
    "\n",
    "Consider a situation where there are 24 men, 24 women, and 35 people are still promoted. But in this new scenario, 75% of the men are promoted and 70.8% of the women are promoted. Does the difference in promotion rates still appear to be statistically significant? That is, could this difference in promotion rates have come from random chance?\n",
    "\n",
    "You'll analyze these new data, contained in disc_new, using the same permutation algorithm from before.\n",
    "\n",
    "Instructions\n",
    "The disc_perm and disc_new_perm datasets are available in your workspace.\n",
    "\n",
    "Using the code provided in the editor, print the tables of data to the console in order to compare the original data with the new data.\n",
    "Plot the distributions of the permuted differences for both the original data and the new data. Use geom_histogram() with no binwidth specified and add a red vertical line at diff_orig to each plot with geom_vline().\n",
    "Find the p-values for both the original and the new data."
   ]
  },
  {
   "cell_type": "code",
   "execution_count": null,
   "metadata": {
    "collapsed": true
   },
   "outputs": [],
   "source": [
    "# Recall the original data\n",
    "disc %>% \n",
    "  select(sex, promote) %>%\n",
    "  table()\n",
    "\n",
    "# Tabulate the new data\n",
    "disc_new %>% \n",
    "  select(sex, promote) %>%\n",
    "  table()\n",
    "\n",
    "# Plot the distribution of the original permuted differences\n",
    "ggplot(disc_perm, aes(x = diff_perm)) + \n",
    "  geom_histogram() +\n",
    "  geom_vline(aes(xintercept = diff_orig), col = \"red\")\n",
    "\n",
    "# Plot the distribution of the new permuted differences\n",
    "ggplot(disc_new_perm, aes(x = diff_perm)) + \n",
    "  geom_histogram() +\n",
    "  geom_vline(aes(xintercept = diff_orig), col = \"red\")\n",
    "\n",
    "\n",
    "\n",
    "# Find the p-value from the original data\n",
    "disc_perm %>%\n",
    "  summarize(mean(diff_orig <= diff_perm))\n",
    "\n",
    "# Find the p-value from the new data\n",
    "disc_new_perm %>%\n",
    "  summarize(mean(diff_orig <= diff_perm))"
   ]
  },
  {
   "cell_type": "markdown",
   "metadata": {},
   "source": [
    "Notice that the permutation differences (the two histograms) are essentially the same regardless of whether the original or the new dataset is used."
   ]
  },
  {
   "cell_type": "markdown",
   "metadata": {},
   "source": [
    "### Calculating two-sided p-values\n",
    "\n",
    "What if the original research hypothesis had focused on any difference in promotion rates between men and women instead of focusing on whether men are more likely to be promoted than women? In this case, a difference like the one observed would occur twice as often (by chance) because sometimes the difference would be positive and sometimes it would be negative.\n",
    "\n",
    "When there is no directionality to the alternative hypothesis, the hypothesis and p-value are considered to be two-sided. In a two-sided setting, the p-value is double the one-sided p-value.\n",
    "\n",
    "In this exercise, you'll calculate a two-sided p-value given the original randomization distribution and dataset.\n",
    "\n",
    "Instructions\n",
    " - Using summarize() and mean(), double the original p-value to find how likely the observed difference is when considering the randomization distribution."
   ]
  },
  {
   "cell_type": "code",
   "execution_count": null,
   "metadata": {
    "collapsed": true
   },
   "outputs": [],
   "source": [
    "# Calculate the two-sided p-value\n",
    "disc_perm %>%\n",
    "  summarize(2*mean(diff_orig <= diff_perm))"
   ]
  },
  {
   "cell_type": "markdown",
   "metadata": {},
   "source": [
    "## Summary of gender discrimination - Video"
   ]
  },
  {
   "cell_type": "markdown",
   "metadata": {},
   "source": [
    "# 3. Hypothesis testing errors: opportunity cost"
   ]
  },
  {
   "cell_type": "markdown",
   "metadata": {},
   "source": [
    "You will continue learning about hypothesis testing with a new example and the same structure of randomization tests. In this chapter, however, the focus will be on different errors (type I and type II), how they are made, when one is worse than another, and how things like sample size and effect size impact the error rates."
   ]
  },
  {
   "cell_type": "markdown",
   "metadata": {},
   "source": [
    "## Example: opportunity cost"
   ]
  },
  {
   "cell_type": "markdown",
   "metadata": {},
   "source": [
    "### Summarizing opportunity cost (1)\n",
    "\n",
    "As you saw in the video, we're interested in whether the treatment and control groups were equally likely to buy a DVD after reading the experimental statements.\n",
    "\n",
    "In this exercise, you'll use the data from the study to find the sample statistics (here: proportions) that are needed for the analysis.\n",
    "\n",
    "Instructions\n",
    " - Use the table() function to tabulate the dataset called opportunity.\n",
    " - For each experimental group, find the proportion who bought a DVD."
   ]
  },
  {
   "cell_type": "code",
   "execution_count": null,
   "metadata": {
    "collapsed": true
   },
   "outputs": [],
   "source": [
    "# Tabulate the data\n",
    "opportunity %>%\n",
    "  select(decision, group) %>%\n",
    "  table()\n",
    "\n",
    "# Find the proportion who bought the DVD in each group\n",
    "opportunity %>%\n",
    "  group_by(group) %>%\n",
    "  summarize(buy_prop = mean(decision==\"buyDVD\"))"
   ]
  },
  {
   "cell_type": "markdown",
   "metadata": {},
   "source": [
    "Okay, so about 75% of the control group bought the DVD and about 55% of the treatment group (i.e. The group that was reminded that the money could be saved) bought the DVD. Interesting!`"
   ]
  },
  {
   "cell_type": "markdown",
   "metadata": {},
   "source": [
    "### Plotting opportunity cost\n",
    "\n",
    "Again, interest is in whether the treatment and control groups were equally likely to buy a DVD after reading the experimental statements. Here, you'll create a barplot to visualize the difference in proportions between the treatment and control groups.\n",
    "\n",
    "Instructions\n",
    " - Create a barplot for decision broken down by group. Use geom_bar(position = \"fill\") to compare relative frequencies. Note that fill should be defined by the decision for each group."
   ]
  },
  {
   "cell_type": "code",
   "execution_count": null,
   "metadata": {
    "collapsed": true
   },
   "outputs": [],
   "source": [
    "# Create a barplot\n",
    "ggplot(opportunity, aes(x = group, fill = decision)) + \n",
    "  geom_bar(position = \"fill\")"
   ]
  },
  {
   "cell_type": "code",
   "execution_count": null,
   "metadata": {
    "collapsed": true
   },
   "outputs": [],
   "source": [
    "The barplot better displays the results from the study. The treatment seems like it might have had an effect!"
   ]
  },
  {
   "cell_type": "markdown",
   "metadata": {},
   "source": [
    "### Randomizing opportunity cost\n",
    "\n",
    "As in Chapter 2, you will permute the data to generate a distribution of differences as if the null hypothesis were true.\n",
    "\n",
    "In the study, the number of individuals in each of the control and treatment groups is fixed. Additionally, when you assume that the null hypothesis is true—that is, the experiment had no effect on the outcome of buying a DVD—it is reasonable to infer that the number of individuals who would buy a DVD is also fixed. That is, 97 people were going to buy a DVD regardless of which treatment group they were in.\n",
    "\n",
    "Using the new data and the methods from the previous chapter, create a randomization distribution of the difference in proportions calculated on permuted data.\n",
    "\n",
    "Instructions\n",
    " - Using the opportunity data, permute the decision variable 1000 times:\n",
    " - Sample the data 1000 times.\n",
    " - Permute the decision variable to break the link between decision and group.\n",
    " - Group by replicate and group and then calculate the proportion who bought the DVD within each group.\n",
    " - Find the difference in proportions across groups (grouped by replicate).\n",
    " - Create a histogram of the permuted differences and add a red line at the observed difference."
   ]
  },
  {
   "cell_type": "code",
   "execution_count": null,
   "metadata": {
    "collapsed": true
   },
   "outputs": [],
   "source": [
    "# Data frame of differences in purchase rates after permuting\n",
    "opp_perm <- opportunity %>%\n",
    "  rep_sample_n(size = nrow(opportunity), reps = 1000) %>%\n",
    "  mutate(dec_perm = sample(decision)) %>%\n",
    "  group_by(replicate, group) %>%\n",
    "  summarize(prop_buy_perm = mean(dec_perm == \"buyDVD\"),\n",
    "            prop_buy = mean(decision == \"buyDVD\")) %>%\n",
    "  summarize(diff_perm = diff(prop_buy_perm),\n",
    "            diff_orig = diff(prop_buy))  # treatment - control\n",
    "\n",
    "\n",
    "# Histogram of permuted differences\n",
    "ggplot(opp_perm, aes(x = diff_perm)) + \n",
    "  geom_histogram(binwidth = .005) +\n",
    "  geom_vline(aes(xintercept = diff_orig), col = \"red\")"
   ]
  },
  {
   "cell_type": "markdown",
   "metadata": {},
   "source": [
    "In the next exercise, you'll calculate the p-value to judge if the difference in proportions permuted is consistent with the observed difference."
   ]
  },
  {
   "cell_type": "markdown",
   "metadata": {},
   "source": [
    "### Summarizing opportunity cost (2)\n",
    "100xp\n",
    "Now that you've created the randomization distribution, you'll use it to assess whether the observed difference in proportions is consistent with the null difference. You will measure this consistency (or lack thereof) with a p-value, or the proportion of permuted differences less than or equal to the observed difference.\n",
    "\n",
    "Instructions\n",
    " - Use summarize() and mean() to find the proportion of times the permuted differences in opp_perm are less than or equal to the observed difference."
   ]
  },
  {
   "cell_type": "code",
   "execution_count": null,
   "metadata": {
    "collapsed": true
   },
   "outputs": [],
   "source": [
    "# Calculate the p-value\n",
    "opp_perm %>%\n",
    "  summarize(mean(diff_perm<=diff_orig))"
   ]
  },
  {
   "cell_type": "code",
   "execution_count": null,
   "metadata": {
    "collapsed": true
   },
   "outputs": [],
   "source": [
    "# A tibble: 1 × 1\n",
    "  `mean(diff_perm <= diff_orig)`\n",
    "                           <dbl>\n",
    "1                          0.007"
   ]
  },
  {
   "cell_type": "markdown",
   "metadata": {},
   "source": [
    "### Opportunity cost conclusion\n",
    "50xp\n",
    "In the last exercise, you computed the p-value, or the proportion of permuted differences less than or equal to the observed difference:\n",
    "\n",
    "opp_perm %>%\n",
    "  summarize(mean(diff_perm <= diff_orig))\n",
    "Based on this result of 0.007, what can you conclude from the study about the effect of reminding students to save money?\n",
    "\n",
    "Possible Answers\n",
    " - Reminding them causes them to be less likely to buy the DVD. (Correct)\n",
    " - Reminding them causes them to be more likely to buy the DVD.\n",
    " - There is no effect due to reminding students to save money.\n",
    " - Students who are reminded are less likely to buy the DVD, but it could be for reasons other than the reminder (i.e. the relationship is not necessarily causal)."
   ]
  },
  {
   "cell_type": "markdown",
   "metadata": {},
   "source": [
    "We can confidently say the different messaging caused the students to change their buying habits, since they were randomly assigned to treatment and control groups. Let's continue."
   ]
  },
  {
   "cell_type": "markdown",
   "metadata": {},
   "source": [
    "## Errors and their consequences - Video"
   ]
  },
  {
   "cell_type": "markdown",
   "metadata": {},
   "source": [
    "### Different choice of error rate\n",
    "50xp\n",
    "Consider again a situation where the task is to differentiate the proportion of successes across two different groups. What decision should be made if the goal is to never make a type II error (false negative)?\n",
    "\n",
    "Possible Answers\n",
    " - Never claim there is a difference in proportions.\n",
    " - Always claim there is a difference in proportions. (Correct)\n",
    " - Claim there is a difference in proportions only if the difference is large enough."
   ]
  },
  {
   "cell_type": "markdown",
   "metadata": {},
   "source": [
    " If you always claim there is a difference in proportions, you'll always reject the null hypothesis, so you'll only make type I errors, if any."
   ]
  },
  {
   "cell_type": "code",
   "execution_count": null,
   "metadata": {
    "collapsed": true
   },
   "outputs": [],
   "source": [
    "Errors for two-sided hypotheses\n",
    "50xp\n",
    "Sometimes you'll be interested in identifying any difference in proportions (as opposed to one larger proportion). Consider these slightly adjusted hypotheses for the opportunity cost example:\n",
    "\n",
    "H0H0: Reminding students that they can save money for later purchases will not have any impact on students' spending decisions.\n",
    "HAHA: Reminding students that they can save money for later purchases will change the chance they will continue with a purchase.\n",
    "What are type I (false positive) and type II (false negative) errors for the two-sided hypotheses related to the opportunity costs example?\n",
    "\n",
    "Possible Answers\n",
    "Type I: There is a difference in proportions, but the observed difference is not big enough to indicate that the proportions are different.\n",
    "Type II: There is not a difference in proportions, but the observed difference is large enough to indicate that the proportions are different.\n",
    "Type I: There is not a difference in proportions, and the observed difference is not big enough to indicate that the proportions are different.\n",
    "Type II: There is a difference in proportions, and the observed difference is large enough to indicate that the proportions are different.\n",
    "Type I: There is not a difference in proportions, but the observed difference is big enough to indicate that the proportions are different.\n",
    "Type II: There is a difference in proportions, but the observed difference is not large enough to indicate that the proportions are different.\n",
    "Type I: There is a difference in proportions, and the observed difference is big enough to indicate that the proportions are different.\n",
    "Type II: There is not a difference in proportions, and the observed difference is not large enough to indicate that the proportions are different.\n",
    "Take Hint (-15xp)"
   ]
  },
  {
   "cell_type": "markdown",
   "metadata": {},
   "source": [
    "#3rd is correct"
   ]
  },
  {
   "cell_type": "markdown",
   "metadata": {},
   "source": [
    "### p-value for two-sided hypotheses: opportunity costs\n",
    "\n",
    "The p-value measures the likelihood of data as or more extreme than the observed data, given the null hypothesis is true. Therefore, the appropriate p-value for a two-sided alternative hypothesis is a two-sided p-value.\n",
    "\n",
    "To find a two-sided p-value, you simply double the one sided p-value. That is, you want to find two times the proportion of permuted differences that are less than or equal to the observed difference.\n",
    "\n",
    "Instructions\n",
    " - The opp_perm data frame, which contains the differences in permuted proportions, is available in your workspace. Use it to compute the two-sided p-value, or twice the proportion of permuted differences that are less than or equal to the original difference."
   ]
  },
  {
   "cell_type": "code",
   "execution_count": null,
   "metadata": {
    "collapsed": true
   },
   "outputs": [],
   "source": [
    "# Calculate the two-sided p-value\n",
    "opp_perm %>%\n",
    "  summarize(2*mean(diff_perm<=diff_orig))"
   ]
  },
  {
   "cell_type": "markdown",
   "metadata": {},
   "source": [
    "Take a moment to remind yourself why you used the proportion of permuted statistics that are smaller than (instead of bigger than) the observed value. Hint: look at the histogram of permuted statistics."
   ]
  },
  {
   "cell_type": "markdown",
   "metadata": {},
   "source": [
    "## Summary of opportunity costs - Video"
   ]
  },
  {
   "cell_type": "markdown",
   "metadata": {},
   "source": [
    "# 4. Confidence intervals"
   ]
  },
  {
   "cell_type": "markdown",
   "metadata": {},
   "source": [
    "As a complement to hypothesis testing, confidence intervals allow you to estimate a population parameter. Recall that your interest is always in some characteristic of the population, but you only have incomplete information to estimate the parameter using sample data. Here, the parameter is the true proportion of successes in a population. Bootstrapping is used to estimate the variability needed to form the confidence interval."
   ]
  },
  {
   "cell_type": "markdown",
   "metadata": {},
   "source": [
    "## Parameters and confidence intervals - Video"
   ]
  },
  {
   "cell_type": "markdown",
   "metadata": {},
   "source": [
    "### Hypothesis test or confidence interval?\n",
    "50xp\n",
    "A university is trying to determine whether parking is a problem on its campus. The student newspaper contacts a random sample of 200 students and asks whether or not they are frustrated with the parking situation. They want to estimate the proportion of students at the college who are frustrated with the parking situation.\n",
    "\n",
    "In this setting, which is more appropriate, a hypothesis test or a confidence interval?\n",
    "\n",
    "Possible Answers\n",
    " - Hypothesis test because there is a particular research claim.\n",
    " - Hypothesis test because the goal is to estimate a population parameter\n",
    " - Confidence interval because there is a particular research claim.\n",
    " - Confidence interval because the goal is to estimate a population parameter. (Correct)"
   ]
  },
  {
   "cell_type": "markdown",
   "metadata": {},
   "source": [
    "## Bootstrapping - Video"
   ]
  },
  {
   "cell_type": "markdown",
   "metadata": {},
   "source": [
    "### Resampling from a sample\n",
    "\n",
    "To investigate how much estimates of a population proportion change from sample to sample, you will set up two sampling experiments.\n",
    "\n",
    "In the first experiment, you will simulate repeated samples from a population. In the second, you will choose a single sample from the first experiment and repeatedly resample from that sample—a method called bootstrapping. More specifically:\n",
    "\n",
    "Experiment 1: Assume the true proportion of people who will vote for Candidate X is 0.6. Repeatedly sample 30 people from the population and measure the variability of p^p^ (the sample proportion).\n",
    "\n",
    "Experiment 2: Take one sample of size 30 from the same population. Repeatedly sample 30 people (with replacement!) from the original sample and measure the variability of p^∗p^∗ (the resample proportion).\n",
    "\n",
    "It's important to realize that the first experiment relies on knowing the population and is typically impossible in practice. The second relies only on the sample of data and is therefore easy to implement for any statistic. Fortunately, as you will see, the variability in p^p^, or the proportion of \"successes\" in a sample, is approximately the same whether we sample from the population or resample from a sample.\n",
    "\n",
    "Instructions\n",
    "We have created 1000 random samples, each of size 30, from the population. The resulting data frame, all_polls, is available in your workspace. Take a look before getting started.\n",
    "\n",
    " - Create a data frame called one_poll by filtering all_polls for only values from the first poll.\n",
    " - Take 1000 different resamples of size 30 from one_poll with replacement. Assign the result to one_poll_boot_30. Note that in the original sample, one_poll, 21/30 = 70% of people are planning to vote for Candidate X.\n",
    " - Compute the sample proportion for each of the 1000 original samples. Assign the result to ex1_props.\n",
    " - Compute the sample proportion for each of the 1000 resamples in one_poll_boot_30. Assign the result to ex2_props.\n",
    " - Using summarize() and sd(), compare the variability in sample proportions for the two different sampling experiments (one at a time)."
   ]
  },
  {
   "cell_type": "code",
   "execution_count": null,
   "metadata": {
    "collapsed": true
   },
   "outputs": [],
   "source": [
    "# Select one poll from which to resample: one_poll\n",
    "one_poll <- all_polls %>%\n",
    "  filter(poll == 1) %>%\n",
    "  select(vote)\n",
    "  \n",
    "# Generate 1000 resamples of one_poll: one_poll_boot_30\n",
    "one_poll_boot_30 <- one_poll %>%\n",
    "  rep_sample_n(size = 30, replace = TRUE, reps = 1000)\n",
    "\n",
    "# Compute p-hat for each poll: ex1_props\n",
    "ex1_props <- all_polls %>% \n",
    "  group_by(poll) %>% \n",
    "  summarize(prop_yes = mean(vote))\n",
    "  \n",
    "# Compute p-hat* for each resampled poll: ex2_props\n",
    "ex2_props <- one_poll_boot_30 %>%\n",
    "  summarize(prop_yes = mean(vote))\n",
    "\n",
    "# Compare variability of p-hat and p-hat*\n",
    "ex1_props %>% summarize(sd(prop_yes))\n",
    "ex2_props %>% summarize(sd(prop_yes))"
   ]
  },
  {
   "cell_type": "code",
   "execution_count": null,
   "metadata": {
    "collapsed": true
   },
   "outputs": [],
   "source": [
    "> ex1_props %>% summarize(sd(prop_yes))\n",
    "# A tibble: 1 × 1\n",
    "  `sd(prop_yes)`\n",
    "           <dbl>\n",
    "1     0.08683128\n",
    "> ex2_props %>% summarize(sd(prop_yes))\n",
    "# A tibble: 1 × 1\n",
    "  `sd(prop_yes)`\n",
    "           <dbl>\n",
    "1     0.08260328"
   ]
  },
  {
   "cell_type": "markdown",
   "metadata": {},
   "source": [
    "The variability in the proportion of “successes” in a sample is approximately the same whether we sample from the population or resample from a sample."
   ]
  },
  {
   "cell_type": "markdown",
   "metadata": {},
   "source": [
    "### Resampling from a sample (2)\n",
    "\n",
    "In the previous exercise, the resamples (with replacement) were the same size as the original dataset. You originally polled 30 people, then you repeatedly resampled 30 votes from the original dataset (with replacement).\n",
    "\n",
    "What if the original dataset was 30 observations, but you chose to resample only 3 individuals with replacement? Alternatively, what if you chose to resample 300 individuals with replacement? Let's call these Experiment 3 and Experiment 4, respectively.\n",
    "\n",
    "Would the variability in these resampled p^∗p^∗ values still be a good proxy for the variability of the sampled p^p^ values taken from repeated samples from the population?\n",
    "\n",
    "Instructions\n",
    "The single sample from the population, one_poll, is still available in your workspace.\n",
    "\n",
    " - Take 1000 different resamples of size 3 from one_poll with replacement. Assign the result to one_poll_boot_3.\n",
    " - Do the same, but of size 300. Assign the result to one_poll_boot_300.\n",
    " - Compute p^∗p^∗ for the resampled polls from one_poll_boot_3 and one_poll_boot_300. Assign the results to ex3_props and ex4_props, respectively.\n",
    " - Using summarize() and sd() again, compare the variability of p^∗p^∗ in ex3_props and ex4_props."
   ]
  },
  {
   "cell_type": "code",
   "execution_count": null,
   "metadata": {
    "collapsed": true
   },
   "outputs": [],
   "source": [
    "# Resample from one_poll with n = 3: one_poll_boot_3\n",
    "one_poll_boot_3 <- one_poll %>%\n",
    "  rep_sample_n(3, replace = TRUE, reps = 1000)\n",
    "\n",
    "# Resample from one_poll with n = 300: one_poll_boot_300\n",
    "one_poll_boot_300 <- one_poll %>%\n",
    "  rep_sample_n(300, replace = TRUE, reps = 1000)\n",
    "  \n",
    "# Compute p-hat* for each resampled poll: ex3_props\n",
    "ex3_props <- one_poll_boot_3 %>% \n",
    "  summarize(prop_yes = mean(vote))\n",
    "  \n",
    "# Compute p-hat* for each resampled poll: ex4_props\n",
    "ex4_props <- one_poll_boot_300 %>% \n",
    "  summarize(prop_yes = mean(vote))\n",
    "\n",
    "# Compare variability of p-hat* for n = 3 vs. n = 300\n",
    "ex3_props %>% summarize(sd(prop_yes ))\n",
    "ex4_props %>% summarize(sd(prop_yes ))"
   ]
  },
  {
   "cell_type": "code",
   "execution_count": null,
   "metadata": {
    "collapsed": true
   },
   "outputs": [],
   "source": [
    "> ex3_props %>% summarize(sd(prop_yes ))\n",
    "# A tibble: 1 × 1\n",
    "  `sd(prop_yes)`\n",
    "           <dbl>\n",
    "1      0.2724267\n",
    "> ex4_props %>% summarize(sd(prop_yes ))\n",
    "# A tibble: 1 × 1\n",
    "  `sd(prop_yes)`\n",
    "           <dbl>\n",
    "1     0.02662452"
   ]
  },
  {
   "cell_type": "markdown",
   "metadata": {},
   "source": [
    "Recall the variability of the sampled values taken from repeated samples from the population was about 0.0868. Note that resampling 3 or 300 individuals with replacement from the 30-observation dataset is not a good approximation of this value. Great work!"
   ]
  },
  {
   "cell_type": "markdown",
   "metadata": {},
   "source": [
    "### Visualizing the variability of p-hat\n",
    "\n",
    "In order to compare the variability of the sampled p^p^ and p^∗p^∗ values in the previous exercises, it is valuable to visualize their distributions. To recall, the exercises walked through four different experiments for investigating the variability of p^p^ and p^∗p^∗:\n",
    "\n",
    " - Experiment 1: Sample (n=30n=30) repeatedly from an extremely large population (gold standard, but unrealistic)\n",
    " - Experiment 2: Resample (n=30n=30) repeatedly with replacement from a single sample of size 30\n",
    " - Experiment 3: Resample (n=3n=3) repeatedly with replacement from a single sample of size 30\n",
    " - Experiment 4: Resample (n=300n=300) repeatedly with replacement from a single sample of size 30\n",
    "\n",
    "Instructions\n",
    " - Run the code provided to recall the variability of sample proportions for each of the four experiments.\n",
    " - Create smoothed density plots of each of the 1000 p^p^ or p^∗p^∗ values. Note that the only density curve which matches the variability of the black population sampling curve is the green resampled curve with n=30n=30."
   ]
  },
  {
   "cell_type": "code",
   "execution_count": null,
   "metadata": {
    "collapsed": true
   },
   "outputs": [],
   "source": [
    "# Recall the variability of sample proportions\n",
    "ex1_props %>% summarize(sd(prop_yes))\n",
    "ex2_props %>% summarize(sd(prop_yes))\n",
    "ex3_props %>% summarize(sd(prop_yes))\n",
    "ex4_props %>% summarize(sd(prop_yes))\n",
    "\n",
    "# Create smoothed density curves for all four experiments\n",
    "ggplot() + \n",
    "  geom_density(data = ex1_props, aes(x = prop_yes), col = \"black\", bw = .1) +\n",
    "  geom_density(data = ex2_props, aes(x = prop_yes), col = \"green\", bw = .1) +\n",
    "  geom_density(data = ex3_props, aes(x = prop_yes), col = \"red\", bw = .1) +\n",
    "  geom_density(data = ex4_props, aes(x = prop_yes), col = \"blue\", bw = .1)"
   ]
  },
  {
   "cell_type": "markdown",
   "metadata": {},
   "source": [
    "## Variability in p-hat - Video"
   ]
  },
  {
   "cell_type": "markdown",
   "metadata": {},
   "source": [
    "### Empirical Rule\n",
    "100xp\n",
    "Many statistics we use in data analysis (including both the sample average and sample proportion) have nice properties that are used to better understand the population parameter(s) of interest.\n",
    "\n",
    "One such property is that if the variability of the sample proportion (called the standard error, or SESE) is known, then approximately 95% of p^p^ values (from different samples) will be within 2SE2SE of the true population proportion.\n",
    "\n",
    "To check whether that holds in the situation at hand, let's go back to the polls generated by taking many samples from the same population.\n",
    "\n",
    "Instructions\n",
    "The all_polls dataset contains 1000 samples of size 30 from a population with a probability of voting for Candidate X equal to 0.6.\n",
    "\n",
    " - For each sample, find the proportion of individuals who are planning to vote for Candidate X. Call this props.\n",
    " - What proportion of the 1000 sample proportions is within 2SE2SE of the true population value?"
   ]
  },
  {
   "cell_type": "code",
   "execution_count": null,
   "metadata": {
    "collapsed": true
   },
   "outputs": [],
   "source": [
    "# Compute proportion of votes for Candidate X: props\n",
    "props <- all_polls %>%\n",
    "  group_by(poll) %>% \n",
    "  summarize(prop_yes = mean(vote))\n",
    "\n",
    "# Proportion of polls within 2SE\n",
    "props %>%\n",
    "  mutate(lower = 0.6 - 2 * sd(prop_yes),\n",
    "         upper = 0.6 + 2 * sd(prop_yes),\n",
    "         in_CI = prop_yes > lower & prop_yes < upper) %>%\n",
    "  summarize(mean(in_CI))"
   ]
  },
  {
   "cell_type": "code",
   "execution_count": null,
   "metadata": {
    "collapsed": true
   },
   "outputs": [],
   "source": [
    "# A tibble: 1 × 1\n",
    "  `mean(in_CI)`\n",
    "          <dbl>\n",
    "1         0.966"
   ]
  },
  {
   "cell_type": "code",
   "execution_count": null,
   "metadata": {
    "collapsed": true
   },
   "outputs": [],
   "source": [
    "In this example, it looks like 96.6% are within 2 standard errors of the true population parameter."
   ]
  },
  {
   "cell_type": "markdown",
   "metadata": {},
   "source": [
    "### Bootstrap t-confidence interval\n",
    "100xp\n",
    "The previous exercises told you two things:\n",
    "\n",
    "You can measure the variability associated with p^p^ by resampling from the original sample.\n",
    "Once you know the variability of p^p^, you can use it as a way to measure how far away the true proportion is.\n",
    "Note that the rate of closeness (here 95%) refers to how often a sample is chosen so that it is close to the population parameter. You won't ever know if a particular dataset is close to the parameter or far from it, but you do know that over your lifetime, 95% of the samples you collect should give you estimates that are within 2SE2SE of the true population parameter.\n",
    "\n",
    "Instructions\n",
    " - Using your original sample, calculate p^p^ and assign the result to p_hat.\n",
    " - By resampling, find the variability of p^p^ (around the true proportion).\n",
    " - Find an interval of values that are plausible for the true parameter by calculating p^±2SEp^±2SE."
   ]
  },
  {
   "cell_type": "code",
   "execution_count": null,
   "metadata": {
    "collapsed": true
   },
   "outputs": [],
   "source": [
    "# Again, set the one sample that was collected\n",
    "one_poll <- all_polls %>%\n",
    "  filter(poll == 1) %>%\n",
    "  select(vote)\n",
    "  \n",
    "# Compute p-hat from one_poll: p_hat\n",
    "p_hat <- mean(one_poll$vote)\n",
    "\n",
    "# Bootstrap to find the SE of p-hat: one_poll_boot\n",
    "one_poll_boot <- one_poll %>%\n",
    "  rep_sample_n(30, replace = TRUE, reps = 1000) %>%\n",
    "  summarize(prop_yes_boot = mean(vote))\n",
    "\n",
    "# Create an interval of plausible values\n",
    "one_poll_boot %>%\n",
    "  summarize(lower = p_hat - 2 * sd(prop_yes_boot),\n",
    "            upper = p_hat + 2 * sd(prop_yes_boot))"
   ]
  },
  {
   "cell_type": "code",
   "execution_count": null,
   "metadata": {
    "collapsed": true
   },
   "outputs": [],
   "source": [
    "# A tibble: 1 × 2\n",
    "      lower     upper\n",
    "      <dbl>     <dbl>\n",
    "1 0.5344212 0.8655788"
   ]
  },
  {
   "cell_type": "markdown",
   "metadata": {},
   "source": [
    "Remember that a confidence level describes how likely you are to have gotten a sample that was close enough to the true parameter. Indeed, with the sample at hand, the confidence interval of plausible values does contain the true population parameter of 0.6. Nice job!"
   ]
  },
  {
   "cell_type": "markdown",
   "metadata": {},
   "source": [
    "### Bootstrap percentile interval\n",
    "\n",
    "The main idea in the previous exercise was that the distance between the original sample p^p^ and the resampled (or bootstrapped) p^∗p^∗ values gives a measure for how far the original p^p^ is from the true population proportion.\n",
    "\n",
    "The same variability can be measured through a different mechanism. As before, if p^p^ is sufficiently close to the true parameter, then the resampled (bootstrapped) p^∗p^∗ values will vary in such a way that they overlap with the true parameter.\n",
    "\n",
    "Instead of using ±2SE±2SE as a way to measure the middle 95% of the sampled p^p^ values, you can find the middle of the resampled p^∗p^∗ values by removing the upper and lower 2.5%. Note that this second method of constructing bootstrap intervals also gives an intuitive way for making 90% or 99% confidence intervals.\n",
    "\n",
    "Instructions\n",
    " - Find the 2.5% and 97.5% quantiles of the bootstrapped p^∗p^∗ values contained in one_poll_boot.\n",
    " - Compare the interval created with these percentiles to the t-interval from the previous exercise. p_hat is available in your workspace."
   ]
  },
  {
   "cell_type": "code",
   "execution_count": null,
   "metadata": {
    "collapsed": true
   },
   "outputs": [],
   "source": [
    "# Find the 2.5% and 97.5% of the p-hat values\n",
    "one_poll_boot %>% \n",
    "  summarize(q025_prop = quantile(prop_yes_boot, p =0.025),\n",
    "            q975_prop = quantile(prop_yes_boot, p = .975))\n",
    "\n",
    "# Bootstrap t-confidence interval for comparison\n",
    "one_poll_boot %>%\n",
    "  summarize(lower = p_hat  - 2*sd(prop_yes_boot),\n",
    "            upper = p_hat  + 2*sd(prop_yes_boot))"
   ]
  },
  {
   "cell_type": "code",
   "execution_count": null,
   "metadata": {
    "collapsed": true
   },
   "outputs": [],
   "source": [
    "# A tibble: 1 × 2\n",
    "     lower    upper\n",
    "     <dbl>    <dbl>\n",
    "1 0.536148 0.863852"
   ]
  },
  {
   "cell_type": "markdown",
   "metadata": {},
   "source": [
    " Note that the two intervals were created using different methods. Because the methods are different, the intervals are expected to be a bit different as well. In the long run, however, the intervals should provide the same information."
   ]
  },
  {
   "cell_type": "markdown",
   "metadata": {},
   "source": [
    "## Interpreting CIs and technical conditions - Video"
   ]
  },
  {
   "cell_type": "markdown",
   "metadata": {},
   "source": [
    "### Sample size effects on bootstrap CIs\n",
    "100xp\n",
    "In a previous exercise, you found that if you resampled the data with the wrong size (e.g. 300 or 3 instead of 30), the standard error of the sample proportions was off.\n",
    "\n",
    "Here, you will use the incorrect standard error (based on the incorrect sample size) to create a confidence interval. The idea is that when the standard error is off, the interval is not particularly useful, nor is it correct.\n",
    "\n",
    "Instructions\n",
    " - Recall the bootstrapped t-confidence interval from the previous exercise.\n",
    " - Collect a new sample of 30 observations from the population. Assume that the data come from a binomial distribution where there's a 60% chance the population will vote \"yes\".\n",
    " - Resample the data (with replacement) using a sample size of 300.\n",
    " - Find a bootstrap t-confidence interval for the resamples of size 300.\n",
    " - Resample the data (with replacement) using a sample size of 3.\n",
    " - Find a bootstrap t-confidence interval for the resamples of size 3."
   ]
  },
  {
   "cell_type": "code",
   "execution_count": null,
   "metadata": {
    "collapsed": true
   },
   "outputs": [],
   "source": [
    "# Recall the bootstrap t-confidence interval\n",
    "p_hat <- mean(one_poll$vote)\n",
    "one_poll_boot %>%\n",
    "  summarize(lower = p_hat - 2 * sd(prop_yes_boot),\n",
    "            upper = p_hat + 2 * sd(prop_yes_boot))\n",
    "\n",
    "# Collect a sample of 30 observations from the population\n",
    "one_poll <- as.tbl(data.frame(vote = rbinom(30, 1, .6)))\n",
    "\n",
    "# Resample the data using samples of size 300 (an incorrect strategy!)\n",
    "one_poll_boot_300 <- one_poll %>%\n",
    "  rep_sample_n(300, replace = TRUE, reps = 1000) %>%\n",
    "  summarize(prop_yes_boot = mean(vote))\n",
    "\n",
    "# Find the endpoints of the bootstrap t-confidence interval\n",
    "one_poll_boot_300 %>%\n",
    "  summarize(lower = p_hat - 2 * sd(prop_yes_boot),\n",
    "            upper = p_hat + 2 * sd(prop_yes_boot))\n",
    "\n",
    "# Resample the data using samples of size 3 (an incorrect strategy!)\n",
    "one_poll_boot_3 <- one_poll %>%\n",
    "  rep_sample_n(3, replace = TRUE, reps = 1000) %>%\n",
    "  summarize(prop_yes_boot = mean(vote)) \n",
    "\n",
    "# Find the endpoints of the the bootstrap t-confidence interval \n",
    "one_poll_boot_3 %>%\n",
    "  summarize(lower = p_hat - 2 * sd(prop_yes_boot),\n",
    "            upper = p_hat + 2 * sd(prop_yes_boot))"
   ]
  },
  {
   "cell_type": "code",
   "execution_count": null,
   "metadata": {
    "collapsed": true
   },
   "outputs": [],
   "source": [
    "# A tibble: 1 × 2\n",
    "      lower    upper\n",
    "      <dbl>    <dbl>\n",
    "1 0.1304411 1.269559"
   ]
  },
  {
   "cell_type": "markdown",
   "metadata": {},
   "source": [
    "Notice how the resampled interval with size 300 was way too small and the resampled interval with size 3 was way too big. Great job!"
   ]
  },
  {
   "cell_type": "markdown",
   "metadata": {},
   "source": [
    "## Sample proportion value effects on bootstrap CIs\n",
    "\n",
    "One additional element that changes the width of the confidence interval is the true parameter value.\n",
    "\n",
    "When the true parameter is close to 0.5, the standard error of p^p^ is larger than when the true parameter is closer to 0 or 1. When calculating a bootstrap t-confidence interval, the standard error controls the width of the CI, and here the width will be narrower.\n",
    "\n",
    "Instructions\n",
    " - Assume the true population proportion is 0.8 and find a new sample of 0/1 observations from that population using the rbinom() function.\n",
    " - Calculate p^p^ of this new sample. Call it p_hat.\n",
    " - Repeatedly resample from the sample to create a distribution of p^p^ values.\n",
    " - Find the bootstrap t-confidence interval. Note that it's narrower than previously calculated."
   ]
  },
  {
   "cell_type": "code",
   "execution_count": null,
   "metadata": {
    "collapsed": true
   },
   "outputs": [],
   "source": [
    "# Collect 30 observations from a population with true proportion of 0.8\n",
    "one_poll <- as.tbl(data.frame(vote = rbinom(n = 30, size = 1, prob = 0.8)))\n",
    "\n",
    "# Compute p-hat of new sample: p_hat\n",
    "p_hat <- mean(one_poll$vote)\n",
    "\n",
    "# Resample the 30 observations (with replacement)\n",
    "one_poll_boot <- one_poll %>%\n",
    "  rep_sample_n(30, replace = TRUE, reps = 1000) %>%\n",
    "  summarize(prop_yes_boot = mean(vote))\n",
    "\n",
    "# Calculate the bootstrap t-confidence interval\n",
    "one_poll_boot %>%\n",
    "  summarize(lower = p_hat - 2 * sd(prop_yes_boot),\n",
    "            upper = p_hat + 2 * sd(prop_yes_boot))"
   ]
  },
  {
   "cell_type": "code",
   "execution_count": null,
   "metadata": {
    "collapsed": true
   },
   "outputs": [],
   "source": [
    "# A tibble: 1 × 2\n",
    "      lower     upper\n",
    "      <dbl>     <dbl>\n",
    "1 0.6092994 0.9240339"
   ]
  },
  {
   "cell_type": "markdown",
   "metadata": {},
   "source": [
    "### Percentile effects on bootstrap CIs\n",
    "\n",
    "Most scientists use 95% intervals to quantify their uncertainty about an estimate. That is, they understand that over a lifetime of creating confidence intervals, only 95% of them will actually contain the parameter that they set out to estimate.\n",
    "\n",
    "There are studies, however, which warrant either stricter or more lenient confidence intervals (and subsequent error rates).\n",
    "\n",
    "Instructions\n",
    "Calculate the following percentile intervals from the bootstrapped p^∗p^∗ values contained in one_poll_boot:\n",
    "\n",
    " -  95%\n",
    " -  99%\n",
    " -  90%"
   ]
  },
  {
   "cell_type": "markdown",
   "metadata": {},
   "source": [
    "## Summary of statistical inference - Video"
   ]
  },
  {
   "cell_type": "markdown",
   "metadata": {},
   "source": [
    "# Thank You"
   ]
  },
  {
   "cell_type": "code",
   "execution_count": null,
   "metadata": {
    "collapsed": true
   },
   "outputs": [],
   "source": []
  }
 ],
 "metadata": {
  "anaconda-cloud": {},
  "kernelspec": {
   "display_name": "R",
   "language": "R",
   "name": "ir"
  },
  "language_info": {
   "codemirror_mode": "r",
   "file_extension": ".r",
   "mimetype": "text/x-r-source",
   "name": "R",
   "pygments_lexer": "r",
   "version": "3.4.1"
  }
 },
 "nbformat": 4,
 "nbformat_minor": 1
}
