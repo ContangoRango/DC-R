{
 "cells": [
  {
   "cell_type": "markdown",
   "metadata": {},
   "source": [
    "# 1. Ticket Sales Data"
   ]
  },
  {
   "cell_type": "markdown",
   "metadata": {},
   "source": [
    "### Importing the data\n",
    "\n",
    "Welcome! This course will give you some additional practice with importing and cleaning data through a series of four case studies. We’re assuming you’ve already completed these four courses:\n",
    "\n",
    " - Intro to R\n",
    " - Intermediate R\n",
    " - Importing Data Into R\n",
    " - Cleaning Data in R\n",
    " \n",
    "If not, you’ll want to check those out first.\n",
    "\n",
    "You'll be importing and cleaning four real datasets that are a little messier than before. Don't worry -- you're up for the challenge!\n",
    "\n",
    "Your first dataset describes online ticket sales for various events across the country. It's stored as a Comma-Separated Value (CSV) file called sales.csv. Let's jump right in!\n",
    "\n",
    "Instructions\n",
    " - Import sales.csv to the variable sales using the read.csv() function. Set the stringsAsFactors argument to FALSE so that character strings are preserved."
   ]
  },
  {
   "cell_type": "code",
   "execution_count": 1,
   "metadata": {
    "collapsed": true
   },
   "outputs": [],
   "source": [
    "# Import sales.csv: sales\n",
    "sales <-read.csv(file=\"sales.csv\", stringsAsFactors=FALSE)"
   ]
  },
  {
   "cell_type": "markdown",
   "metadata": {},
   "source": [
    "### Examining the data\n",
    "\n",
    "As you know from the Cleaning Data in R course, the first step when preparing to clean data is to inspect it. Let's refresh your memory on some useful functions that can do that:\n",
    "\n",
    " - dim() returns the dimensions of an object\n",
    " - head() displays the first part of an object\n",
    " - names() returns the names associated with an object\n",
    "The sales data frame you created in the last exercise is pre-loaded in your workspace.\n",
    "\n",
    "Instructions\n",
    " - View the dimensions of your new sales data frame.\n",
    " - Inspect the first 6 rows of sales.\n",
    " - View the column names of sales."
   ]
  },
  {
   "cell_type": "code",
   "execution_count": 2,
   "metadata": {
    "collapsed": false
   },
   "outputs": [
    {
     "data": {
      "text/html": [
       "<ol class=list-inline>\n",
       "\t<li>5000</li>\n",
       "\t<li>46</li>\n",
       "</ol>\n"
      ],
      "text/latex": [
       "\\begin{enumerate*}\n",
       "\\item 5000\n",
       "\\item 46\n",
       "\\end{enumerate*}\n"
      ],
      "text/markdown": [
       "1. 5000\n",
       "2. 46\n",
       "\n",
       "\n"
      ],
      "text/plain": [
       "[1] 5000   46"
      ]
     },
     "metadata": {},
     "output_type": "display_data"
    },
    {
     "data": {
      "text/html": [
       "<table>\n",
       "<thead><tr><th scope=col>X</th><th scope=col>event_id</th><th scope=col>primary_act_id</th><th scope=col>secondary_act_id</th><th scope=col>purch_party_lkup_id</th><th scope=col>event_name</th><th scope=col>primary_act_name</th><th scope=col>secondary_act_name</th><th scope=col>major_cat_name</th><th scope=col>minor_cat_name</th><th scope=col>...</th><th scope=col>edu_1st_indv_val</th><th scope=col>edu_2nd_indv_val</th><th scope=col>adults_in_hh_num</th><th scope=col>married_ind</th><th scope=col>child_present_ind</th><th scope=col>home_owner_ind</th><th scope=col>occpn_val</th><th scope=col>occpn_1st_val</th><th scope=col>occpn_2nd_val</th><th scope=col>dist_to_ven</th></tr></thead>\n",
       "<tbody>\n",
       "\t<tr><td>1                                                             </td><td>abcaf1adb99a935fc661                                          </td><td>43f0436b905bfa7c2eec                                          </td><td>b85143bf51323b72e53c                                          </td><td>7dfa56dd7d5956b17587                                          </td><td>Xfinity Center Mansfield Premier Parking: Florida Georgia Line</td><td>XFINITY Center Mansfield Premier Parking                      </td><td>NULL                                                          </td><td>MISC                                                          </td><td>PARKING                                                       </td><td>...                                                           </td><td>NA                                                            </td><td>NA                                                            </td><td>NA                                                            </td><td>NA                                                            </td><td>NA                                                            </td><td>NA                                                            </td><td>NA                                                            </td><td>NA                                                            </td><td>NA                                                            </td><td>NA                                                            </td></tr>\n",
       "\t<tr><td>2                                                             </td><td>6c56d7f08c95f2aa453c                                          </td><td>1a3e9aecd0617706a794                                          </td><td>f53529c5679ea6ca5a48                                          </td><td>4f9e6fc637eaf7b736c2                                          </td><td>Gorge Camping - dave matthews band - sept 3-7                 </td><td>Gorge Camping                                                 </td><td>Dave Matthews Band                                            </td><td>MISC                                                          </td><td>CAMPING                                                       </td><td>...                                                           </td><td>NA                                                            </td><td>NA                                                            </td><td>NA                                                            </td><td>NA                                                            </td><td>NA                                                            </td><td>NA                                                            </td><td>NA                                                            </td><td>NA                                                            </td><td>NA                                                            </td><td>59                                                            </td></tr>\n",
       "\t<tr><td>3                                                             </td><td>c7ab4524a121f9d687d2                                          </td><td>4b677c3f5bec71eec8d1                                          </td><td>b85143bf51323b72e53c                                          </td><td>6c2545703bd527a7144d                                          </td><td>Dodge Theatre Adams Street Parking - benise                   </td><td>Parking Event                                                 </td><td>NULL                                                          </td><td>MISC                                                          </td><td>PARKING                                                       </td><td>...                                                           </td><td>NA                                                            </td><td>NA                                                            </td><td>NA                                                            </td><td>NA                                                            </td><td>NA                                                            </td><td>NA                                                            </td><td>NA                                                            </td><td>NA                                                            </td><td>NA                                                            </td><td>NA                                                            </td></tr>\n",
       "\t<tr><td>4                                                             </td><td>394cb493f893be9b9ed1                                          </td><td>b1ccea01ad6ef8522796                                          </td><td>b85143bf51323b72e53c                                          </td><td>527d6b1eaffc69ddd882                                          </td><td>Gexa Energy Pavilion Vip Parking : kid rock with sheryl crow  </td><td>Gexa Energy Pavilion VIP Parking                              </td><td>NULL                                                          </td><td>MISC                                                          </td><td>PARKING                                                       </td><td>...                                                           </td><td>NA                                                            </td><td>NA                                                            </td><td>NA                                                            </td><td>NA                                                            </td><td>NA                                                            </td><td>NA                                                            </td><td>NA                                                            </td><td>NA                                                            </td><td>NA                                                            </td><td>NA                                                            </td></tr>\n",
       "\t<tr><td>5                                                             </td><td>55b5f67e618557929f48                                          </td><td>91c03a34b562436efa3c                                          </td><td>b85143bf51323b72e53c                                          </td><td>8bd62c394a35213bdf52                                          </td><td>Premier Parking - motley crue                                 </td><td>White River Amphitheatre Premier Parking                      </td><td>NULL                                                          </td><td>MISC                                                          </td><td>PARKING                                                       </td><td>...                                                           </td><td>NA                                                            </td><td>NA                                                            </td><td>NA                                                            </td><td>NA                                                            </td><td>NA                                                            </td><td>NA                                                            </td><td>NA                                                            </td><td>NA                                                            </td><td>NA                                                            </td><td>NA                                                            </td></tr>\n",
       "\t<tr><td>6                                                             </td><td>4f10fd8b9f550352bd56                                          </td><td>ac4b847b3fde66f2117e                                          </td><td>63814f3d63317f1b56c4                                          </td><td>3b3a628f83135acd0676                                          </td><td>Fast Lane Access: Journey                                     </td><td>Fast Lane Access                                              </td><td>Journey                                                       </td><td>MISC                                                          </td><td>SPECIAL ENTRY (UPSELL)                                        </td><td>...                                                           </td><td>NA                                                            </td><td>NA                                                            </td><td>NA                                                            </td><td>NA                                                            </td><td>NA                                                            </td><td>NA                                                            </td><td>NA                                                            </td><td>NA                                                            </td><td>NA                                                            </td><td>NA                                                            </td></tr>\n",
       "</tbody>\n",
       "</table>\n"
      ],
      "text/latex": [
       "\\begin{tabular}{r|llllllllllllllllllllllllllllllllllllllllllllll}\n",
       " X & event\\_id & primary\\_act\\_id & secondary\\_act\\_id & purch\\_party\\_lkup\\_id & event\\_name & primary\\_act\\_name & secondary\\_act\\_name & major\\_cat\\_name & minor\\_cat\\_name & ... & edu\\_1st\\_indv\\_val & edu\\_2nd\\_indv\\_val & adults\\_in\\_hh\\_num & married\\_ind & child\\_present\\_ind & home\\_owner\\_ind & occpn\\_val & occpn\\_1st\\_val & occpn\\_2nd\\_val & dist\\_to\\_ven\\\\\n",
       "\\hline\n",
       "\t 1                                                              & abcaf1adb99a935fc661                                           & 43f0436b905bfa7c2eec                                           & b85143bf51323b72e53c                                           & 7dfa56dd7d5956b17587                                           & Xfinity Center Mansfield Premier Parking: Florida Georgia Line & XFINITY Center Mansfield Premier Parking                       & NULL                                                           & MISC                                                           & PARKING                                                        & ...                                                            & NA                                                             & NA                                                             & NA                                                             & NA                                                             & NA                                                             & NA                                                             & NA                                                             & NA                                                             & NA                                                             & NA                                                            \\\\\n",
       "\t 2                                                              & 6c56d7f08c95f2aa453c                                           & 1a3e9aecd0617706a794                                           & f53529c5679ea6ca5a48                                           & 4f9e6fc637eaf7b736c2                                           & Gorge Camping - dave matthews band - sept 3-7                  & Gorge Camping                                                  & Dave Matthews Band                                             & MISC                                                           & CAMPING                                                        & ...                                                            & NA                                                             & NA                                                             & NA                                                             & NA                                                             & NA                                                             & NA                                                             & NA                                                             & NA                                                             & NA                                                             & 59                                                            \\\\\n",
       "\t 3                                                              & c7ab4524a121f9d687d2                                           & 4b677c3f5bec71eec8d1                                           & b85143bf51323b72e53c                                           & 6c2545703bd527a7144d                                           & Dodge Theatre Adams Street Parking - benise                    & Parking Event                                                  & NULL                                                           & MISC                                                           & PARKING                                                        & ...                                                            & NA                                                             & NA                                                             & NA                                                             & NA                                                             & NA                                                             & NA                                                             & NA                                                             & NA                                                             & NA                                                             & NA                                                            \\\\\n",
       "\t 4                                                              & 394cb493f893be9b9ed1                                           & b1ccea01ad6ef8522796                                           & b85143bf51323b72e53c                                           & 527d6b1eaffc69ddd882                                           & Gexa Energy Pavilion Vip Parking : kid rock with sheryl crow   & Gexa Energy Pavilion VIP Parking                               & NULL                                                           & MISC                                                           & PARKING                                                        & ...                                                            & NA                                                             & NA                                                             & NA                                                             & NA                                                             & NA                                                             & NA                                                             & NA                                                             & NA                                                             & NA                                                             & NA                                                            \\\\\n",
       "\t 5                                                              & 55b5f67e618557929f48                                           & 91c03a34b562436efa3c                                           & b85143bf51323b72e53c                                           & 8bd62c394a35213bdf52                                           & Premier Parking - motley crue                                  & White River Amphitheatre Premier Parking                       & NULL                                                           & MISC                                                           & PARKING                                                        & ...                                                            & NA                                                             & NA                                                             & NA                                                             & NA                                                             & NA                                                             & NA                                                             & NA                                                             & NA                                                             & NA                                                             & NA                                                            \\\\\n",
       "\t 6                                                              & 4f10fd8b9f550352bd56                                           & ac4b847b3fde66f2117e                                           & 63814f3d63317f1b56c4                                           & 3b3a628f83135acd0676                                           & Fast Lane Access: Journey                                      & Fast Lane Access                                               & Journey                                                        & MISC                                                           & SPECIAL ENTRY (UPSELL)                                         & ...                                                            & NA                                                             & NA                                                             & NA                                                             & NA                                                             & NA                                                             & NA                                                             & NA                                                             & NA                                                             & NA                                                             & NA                                                            \\\\\n",
       "\\end{tabular}\n"
      ],
      "text/markdown": [
       "\n",
       "X | event_id | primary_act_id | secondary_act_id | purch_party_lkup_id | event_name | primary_act_name | secondary_act_name | major_cat_name | minor_cat_name | ... | edu_1st_indv_val | edu_2nd_indv_val | adults_in_hh_num | married_ind | child_present_ind | home_owner_ind | occpn_val | occpn_1st_val | occpn_2nd_val | dist_to_ven | \n",
       "|---|---|---|---|---|---|\n",
       "| 1                                                              | abcaf1adb99a935fc661                                           | 43f0436b905bfa7c2eec                                           | b85143bf51323b72e53c                                           | 7dfa56dd7d5956b17587                                           | Xfinity Center Mansfield Premier Parking: Florida Georgia Line | XFINITY Center Mansfield Premier Parking                       | NULL                                                           | MISC                                                           | PARKING                                                        | ...                                                            | NA                                                             | NA                                                             | NA                                                             | NA                                                             | NA                                                             | NA                                                             | NA                                                             | NA                                                             | NA                                                             | NA                                                             | \n",
       "| 2                                                              | 6c56d7f08c95f2aa453c                                           | 1a3e9aecd0617706a794                                           | f53529c5679ea6ca5a48                                           | 4f9e6fc637eaf7b736c2                                           | Gorge Camping - dave matthews band - sept 3-7                  | Gorge Camping                                                  | Dave Matthews Band                                             | MISC                                                           | CAMPING                                                        | ...                                                            | NA                                                             | NA                                                             | NA                                                             | NA                                                             | NA                                                             | NA                                                             | NA                                                             | NA                                                             | NA                                                             | 59                                                             | \n",
       "| 3                                                              | c7ab4524a121f9d687d2                                           | 4b677c3f5bec71eec8d1                                           | b85143bf51323b72e53c                                           | 6c2545703bd527a7144d                                           | Dodge Theatre Adams Street Parking - benise                    | Parking Event                                                  | NULL                                                           | MISC                                                           | PARKING                                                        | ...                                                            | NA                                                             | NA                                                             | NA                                                             | NA                                                             | NA                                                             | NA                                                             | NA                                                             | NA                                                             | NA                                                             | NA                                                             | \n",
       "| 4                                                              | 394cb493f893be9b9ed1                                           | b1ccea01ad6ef8522796                                           | b85143bf51323b72e53c                                           | 527d6b1eaffc69ddd882                                           | Gexa Energy Pavilion Vip Parking : kid rock with sheryl crow   | Gexa Energy Pavilion VIP Parking                               | NULL                                                           | MISC                                                           | PARKING                                                        | ...                                                            | NA                                                             | NA                                                             | NA                                                             | NA                                                             | NA                                                             | NA                                                             | NA                                                             | NA                                                             | NA                                                             | NA                                                             | \n",
       "| 5                                                              | 55b5f67e618557929f48                                           | 91c03a34b562436efa3c                                           | b85143bf51323b72e53c                                           | 8bd62c394a35213bdf52                                           | Premier Parking - motley crue                                  | White River Amphitheatre Premier Parking                       | NULL                                                           | MISC                                                           | PARKING                                                        | ...                                                            | NA                                                             | NA                                                             | NA                                                             | NA                                                             | NA                                                             | NA                                                             | NA                                                             | NA                                                             | NA                                                             | NA                                                             | \n",
       "| 6                                                              | 4f10fd8b9f550352bd56                                           | ac4b847b3fde66f2117e                                           | 63814f3d63317f1b56c4                                           | 3b3a628f83135acd0676                                           | Fast Lane Access: Journey                                      | Fast Lane Access                                               | Journey                                                        | MISC                                                           | SPECIAL ENTRY (UPSELL)                                         | ...                                                            | NA                                                             | NA                                                             | NA                                                             | NA                                                             | NA                                                             | NA                                                             | NA                                                             | NA                                                             | NA                                                             | NA                                                             | \n",
       "\n",
       "\n"
      ],
      "text/plain": [
       "  X event_id             primary_act_id       secondary_act_id    \n",
       "1 1 abcaf1adb99a935fc661 43f0436b905bfa7c2eec b85143bf51323b72e53c\n",
       "2 2 6c56d7f08c95f2aa453c 1a3e9aecd0617706a794 f53529c5679ea6ca5a48\n",
       "3 3 c7ab4524a121f9d687d2 4b677c3f5bec71eec8d1 b85143bf51323b72e53c\n",
       "4 4 394cb493f893be9b9ed1 b1ccea01ad6ef8522796 b85143bf51323b72e53c\n",
       "5 5 55b5f67e618557929f48 91c03a34b562436efa3c b85143bf51323b72e53c\n",
       "6 6 4f10fd8b9f550352bd56 ac4b847b3fde66f2117e 63814f3d63317f1b56c4\n",
       "  purch_party_lkup_id \n",
       "1 7dfa56dd7d5956b17587\n",
       "2 4f9e6fc637eaf7b736c2\n",
       "3 6c2545703bd527a7144d\n",
       "4 527d6b1eaffc69ddd882\n",
       "5 8bd62c394a35213bdf52\n",
       "6 3b3a628f83135acd0676\n",
       "  event_name                                                    \n",
       "1 Xfinity Center Mansfield Premier Parking: Florida Georgia Line\n",
       "2 Gorge Camping - dave matthews band - sept 3-7                 \n",
       "3 Dodge Theatre Adams Street Parking - benise                   \n",
       "4 Gexa Energy Pavilion Vip Parking : kid rock with sheryl crow  \n",
       "5 Premier Parking - motley crue                                 \n",
       "6 Fast Lane Access: Journey                                     \n",
       "  primary_act_name                         secondary_act_name major_cat_name\n",
       "1 XFINITY Center Mansfield Premier Parking NULL               MISC          \n",
       "2 Gorge Camping                            Dave Matthews Band MISC          \n",
       "3 Parking Event                            NULL               MISC          \n",
       "4 Gexa Energy Pavilion VIP Parking         NULL               MISC          \n",
       "5 White River Amphitheatre Premier Parking NULL               MISC          \n",
       "6 Fast Lane Access                         Journey            MISC          \n",
       "  minor_cat_name         ... edu_1st_indv_val edu_2nd_indv_val adults_in_hh_num\n",
       "1 PARKING                ... NA               NA               NA              \n",
       "2 CAMPING                ... NA               NA               NA              \n",
       "3 PARKING                ... NA               NA               NA              \n",
       "4 PARKING                ... NA               NA               NA              \n",
       "5 PARKING                ... NA               NA               NA              \n",
       "6 SPECIAL ENTRY (UPSELL) ... NA               NA               NA              \n",
       "  married_ind child_present_ind home_owner_ind occpn_val occpn_1st_val\n",
       "1 NA          NA                NA             NA        NA           \n",
       "2 NA          NA                NA             NA        NA           \n",
       "3 NA          NA                NA             NA        NA           \n",
       "4 NA          NA                NA             NA        NA           \n",
       "5 NA          NA                NA             NA        NA           \n",
       "6 NA          NA                NA             NA        NA           \n",
       "  occpn_2nd_val dist_to_ven\n",
       "1 NA            NA         \n",
       "2 NA            59         \n",
       "3 NA            NA         \n",
       "4 NA            NA         \n",
       "5 NA            NA         \n",
       "6 NA            NA         "
      ]
     },
     "metadata": {},
     "output_type": "display_data"
    },
    {
     "data": {
      "text/html": [
       "<ol class=list-inline>\n",
       "\t<li>'X'</li>\n",
       "\t<li>'event_id'</li>\n",
       "\t<li>'primary_act_id'</li>\n",
       "\t<li>'secondary_act_id'</li>\n",
       "\t<li>'purch_party_lkup_id'</li>\n",
       "\t<li>'event_name'</li>\n",
       "\t<li>'primary_act_name'</li>\n",
       "\t<li>'secondary_act_name'</li>\n",
       "\t<li>'major_cat_name'</li>\n",
       "\t<li>'minor_cat_name'</li>\n",
       "\t<li>'la_event_type_cat'</li>\n",
       "\t<li>'event_disp_name'</li>\n",
       "\t<li>'ticket_text'</li>\n",
       "\t<li>'tickets_purchased_qty'</li>\n",
       "\t<li>'trans_face_val_amt'</li>\n",
       "\t<li>'delivery_type_cd'</li>\n",
       "\t<li>'event_date_time'</li>\n",
       "\t<li>'event_dt'</li>\n",
       "\t<li>'presale_dt'</li>\n",
       "\t<li>'onsale_dt'</li>\n",
       "\t<li>'sales_ord_create_dttm'</li>\n",
       "\t<li>'sales_ord_tran_dt'</li>\n",
       "\t<li>'print_dt'</li>\n",
       "\t<li>'timezn_nm'</li>\n",
       "\t<li>'venue_city'</li>\n",
       "\t<li>'venue_state'</li>\n",
       "\t<li>'venue_postal_cd_sgmt_1'</li>\n",
       "\t<li>'sales_platform_cd'</li>\n",
       "\t<li>'print_flg'</li>\n",
       "\t<li>'la_valid_tkt_event_flg'</li>\n",
       "\t<li>'fin_mkt_nm'</li>\n",
       "\t<li>'web_session_cookie_val'</li>\n",
       "\t<li>'gndr_cd'</li>\n",
       "\t<li>'age_yr'</li>\n",
       "\t<li>'income_amt'</li>\n",
       "\t<li>'edu_val'</li>\n",
       "\t<li>'edu_1st_indv_val'</li>\n",
       "\t<li>'edu_2nd_indv_val'</li>\n",
       "\t<li>'adults_in_hh_num'</li>\n",
       "\t<li>'married_ind'</li>\n",
       "\t<li>'child_present_ind'</li>\n",
       "\t<li>'home_owner_ind'</li>\n",
       "\t<li>'occpn_val'</li>\n",
       "\t<li>'occpn_1st_val'</li>\n",
       "\t<li>'occpn_2nd_val'</li>\n",
       "\t<li>'dist_to_ven'</li>\n",
       "</ol>\n"
      ],
      "text/latex": [
       "\\begin{enumerate*}\n",
       "\\item 'X'\n",
       "\\item 'event\\_id'\n",
       "\\item 'primary\\_act\\_id'\n",
       "\\item 'secondary\\_act\\_id'\n",
       "\\item 'purch\\_party\\_lkup\\_id'\n",
       "\\item 'event\\_name'\n",
       "\\item 'primary\\_act\\_name'\n",
       "\\item 'secondary\\_act\\_name'\n",
       "\\item 'major\\_cat\\_name'\n",
       "\\item 'minor\\_cat\\_name'\n",
       "\\item 'la\\_event\\_type\\_cat'\n",
       "\\item 'event\\_disp\\_name'\n",
       "\\item 'ticket\\_text'\n",
       "\\item 'tickets\\_purchased\\_qty'\n",
       "\\item 'trans\\_face\\_val\\_amt'\n",
       "\\item 'delivery\\_type\\_cd'\n",
       "\\item 'event\\_date\\_time'\n",
       "\\item 'event\\_dt'\n",
       "\\item 'presale\\_dt'\n",
       "\\item 'onsale\\_dt'\n",
       "\\item 'sales\\_ord\\_create\\_dttm'\n",
       "\\item 'sales\\_ord\\_tran\\_dt'\n",
       "\\item 'print\\_dt'\n",
       "\\item 'timezn\\_nm'\n",
       "\\item 'venue\\_city'\n",
       "\\item 'venue\\_state'\n",
       "\\item 'venue\\_postal\\_cd\\_sgmt\\_1'\n",
       "\\item 'sales\\_platform\\_cd'\n",
       "\\item 'print\\_flg'\n",
       "\\item 'la\\_valid\\_tkt\\_event\\_flg'\n",
       "\\item 'fin\\_mkt\\_nm'\n",
       "\\item 'web\\_session\\_cookie\\_val'\n",
       "\\item 'gndr\\_cd'\n",
       "\\item 'age\\_yr'\n",
       "\\item 'income\\_amt'\n",
       "\\item 'edu\\_val'\n",
       "\\item 'edu\\_1st\\_indv\\_val'\n",
       "\\item 'edu\\_2nd\\_indv\\_val'\n",
       "\\item 'adults\\_in\\_hh\\_num'\n",
       "\\item 'married\\_ind'\n",
       "\\item 'child\\_present\\_ind'\n",
       "\\item 'home\\_owner\\_ind'\n",
       "\\item 'occpn\\_val'\n",
       "\\item 'occpn\\_1st\\_val'\n",
       "\\item 'occpn\\_2nd\\_val'\n",
       "\\item 'dist\\_to\\_ven'\n",
       "\\end{enumerate*}\n"
      ],
      "text/markdown": [
       "1. 'X'\n",
       "2. 'event_id'\n",
       "3. 'primary_act_id'\n",
       "4. 'secondary_act_id'\n",
       "5. 'purch_party_lkup_id'\n",
       "6. 'event_name'\n",
       "7. 'primary_act_name'\n",
       "8. 'secondary_act_name'\n",
       "9. 'major_cat_name'\n",
       "10. 'minor_cat_name'\n",
       "11. 'la_event_type_cat'\n",
       "12. 'event_disp_name'\n",
       "13. 'ticket_text'\n",
       "14. 'tickets_purchased_qty'\n",
       "15. 'trans_face_val_amt'\n",
       "16. 'delivery_type_cd'\n",
       "17. 'event_date_time'\n",
       "18. 'event_dt'\n",
       "19. 'presale_dt'\n",
       "20. 'onsale_dt'\n",
       "21. 'sales_ord_create_dttm'\n",
       "22. 'sales_ord_tran_dt'\n",
       "23. 'print_dt'\n",
       "24. 'timezn_nm'\n",
       "25. 'venue_city'\n",
       "26. 'venue_state'\n",
       "27. 'venue_postal_cd_sgmt_1'\n",
       "28. 'sales_platform_cd'\n",
       "29. 'print_flg'\n",
       "30. 'la_valid_tkt_event_flg'\n",
       "31. 'fin_mkt_nm'\n",
       "32. 'web_session_cookie_val'\n",
       "33. 'gndr_cd'\n",
       "34. 'age_yr'\n",
       "35. 'income_amt'\n",
       "36. 'edu_val'\n",
       "37. 'edu_1st_indv_val'\n",
       "38. 'edu_2nd_indv_val'\n",
       "39. 'adults_in_hh_num'\n",
       "40. 'married_ind'\n",
       "41. 'child_present_ind'\n",
       "42. 'home_owner_ind'\n",
       "43. 'occpn_val'\n",
       "44. 'occpn_1st_val'\n",
       "45. 'occpn_2nd_val'\n",
       "46. 'dist_to_ven'\n",
       "\n",
       "\n"
      ],
      "text/plain": [
       " [1] \"X\"                      \"event_id\"               \"primary_act_id\"        \n",
       " [4] \"secondary_act_id\"       \"purch_party_lkup_id\"    \"event_name\"            \n",
       " [7] \"primary_act_name\"       \"secondary_act_name\"     \"major_cat_name\"        \n",
       "[10] \"minor_cat_name\"         \"la_event_type_cat\"      \"event_disp_name\"       \n",
       "[13] \"ticket_text\"            \"tickets_purchased_qty\"  \"trans_face_val_amt\"    \n",
       "[16] \"delivery_type_cd\"       \"event_date_time\"        \"event_dt\"              \n",
       "[19] \"presale_dt\"             \"onsale_dt\"              \"sales_ord_create_dttm\" \n",
       "[22] \"sales_ord_tran_dt\"      \"print_dt\"               \"timezn_nm\"             \n",
       "[25] \"venue_city\"             \"venue_state\"            \"venue_postal_cd_sgmt_1\"\n",
       "[28] \"sales_platform_cd\"      \"print_flg\"              \"la_valid_tkt_event_flg\"\n",
       "[31] \"fin_mkt_nm\"             \"web_session_cookie_val\" \"gndr_cd\"               \n",
       "[34] \"age_yr\"                 \"income_amt\"             \"edu_val\"               \n",
       "[37] \"edu_1st_indv_val\"       \"edu_2nd_indv_val\"       \"adults_in_hh_num\"      \n",
       "[40] \"married_ind\"            \"child_present_ind\"      \"home_owner_ind\"        \n",
       "[43] \"occpn_val\"              \"occpn_1st_val\"          \"occpn_2nd_val\"         \n",
       "[46] \"dist_to_ven\"           "
      ]
     },
     "metadata": {},
     "output_type": "display_data"
    }
   ],
   "source": [
    "# View dimensions of sales\n",
    "dim(sales)\n",
    "\n",
    "# Inspect first 6 rows of sales\n",
    "head(sales,6)\n",
    "\n",
    "# View column names of sales\n",
    "names(sales)"
   ]
  },
  {
   "cell_type": "markdown",
   "metadata": {},
   "source": [
    "### Summarizing the data\n",
    "\n",
    "Luckily, the rows and columns appear to be arranged in a meaningful way: each row represents an observation and each column a variable, or piece of information about that observation.\n",
    "\n",
    "In R, there are a great many tools at your disposal to help get a feel for your data. Besides the three you used in the previous exercise, the functions str() and summary() can be very helpful.\n",
    "\n",
    "The dplyr package, introduced in Cleaning Data in R, offers the glimpse() function, which can also be used for this purpose. The package is already installed on DataCamp; you just need to load it.\n",
    "\n",
    "Instructions\n",
    "  - Look at the structure of sales.\n",
    "  - View a summary of your data.\n",
    "  - Load the dplyr package.\n",
    "  - Use glimpse() to look at your data."
   ]
  },
  {
   "cell_type": "code",
   "execution_count": 3,
   "metadata": {
    "collapsed": false
   },
   "outputs": [
    {
     "name": "stdout",
     "output_type": "stream",
     "text": [
      "'data.frame':\t5000 obs. of  46 variables:\n",
      " $ X                     : int  1 2 3 4 5 6 7 8 9 10 ...\n",
      " $ event_id              : chr  \"abcaf1adb99a935fc661\" \"6c56d7f08c95f2aa453c\" \"c7ab4524a121f9d687d2\" \"394cb493f893be9b9ed1\" ...\n",
      " $ primary_act_id        : chr  \"43f0436b905bfa7c2eec\" \"1a3e9aecd0617706a794\" \"4b677c3f5bec71eec8d1\" \"b1ccea01ad6ef8522796\" ...\n",
      " $ secondary_act_id      : chr  \"b85143bf51323b72e53c\" \"f53529c5679ea6ca5a48\" \"b85143bf51323b72e53c\" \"b85143bf51323b72e53c\" ...\n",
      " $ purch_party_lkup_id   : chr  \"7dfa56dd7d5956b17587\" \"4f9e6fc637eaf7b736c2\" \"6c2545703bd527a7144d\" \"527d6b1eaffc69ddd882\" ...\n",
      " $ event_name            : chr  \"Xfinity Center Mansfield Premier Parking: Florida Georgia Line\" \"Gorge Camping - dave matthews band - sept 3-7\" \"Dodge Theatre Adams Street Parking - benise\" \"Gexa Energy Pavilion Vip Parking : kid rock with sheryl crow\" ...\n",
      " $ primary_act_name      : chr  \"XFINITY Center Mansfield Premier Parking\" \"Gorge Camping\" \"Parking Event\" \"Gexa Energy Pavilion VIP Parking\" ...\n",
      " $ secondary_act_name    : chr  \"NULL\" \"Dave Matthews Band\" \"NULL\" \"NULL\" ...\n",
      " $ major_cat_name        : chr  \"MISC\" \"MISC\" \"MISC\" \"MISC\" ...\n",
      " $ minor_cat_name        : chr  \"PARKING\" \"CAMPING\" \"PARKING\" \"PARKING\" ...\n",
      " $ la_event_type_cat     : chr  \"PARKING\" \"INVALID\" \"PARKING\" \"PARKING\" ...\n",
      " $ event_disp_name       : chr  \"Xfinity Center Mansfield Premier Parking: Florida Georgia Line\" \"Gorge Camping - dave matthews band - sept 3-7\" \"Dodge Theatre Adams Street Parking - benise\" \"Gexa Energy Pavilion Vip Parking : kid rock with sheryl crow\" ...\n",
      " $ ticket_text           : chr  \"   THIS TICKET IS VALID        FOR PARKING ONLY         GOOD THIS DAY ONLY       PREMIER PARKING PASS    XFINITY CENTER,LOTS 4 \"| __truncated__ \"%OVERNIGHT C A M P I N G%* * * * * *%GORGE CAMPGROUND%* GOOD THIS DATE ONLY *%SEP 3 - 6, 2009\" \"ADAMS STREET GARAGE%PARKING FOR 4/21/06 ONLY%DODGE THEATRE PARKING PASS%ENTRANCE ON ADAMS STREET%BENISE%GARAGE OPENS AT 6:00PM\" \"   THIS TICKET IS VALID        FOR PARKING ONLY      GOOD FOR THIS DATE ONLY       VIP PARKING PASS        GEXA ENERGY PAVILION\"| __truncated__ ...\n",
      " $ tickets_purchased_qty : int  1 1 1 1 1 2 1 1 1 1 ...\n",
      " $ trans_face_val_amt    : num  45 75 5 20 20 10 30 28 20 25 ...\n",
      " $ delivery_type_cd      : chr  \"eTicket\" \"TicketFast\" \"TicketFast\" \"Mail\" ...\n",
      " $ event_date_time       : chr  \"2015-09-12 23:30:00\" \"2009-09-05 01:00:00\" \"2006-04-22 01:30:00\" \"2011-09-03 00:00:00\" ...\n",
      " $ event_dt              : chr  \"2015-09-12\" \"2009-09-04\" \"2006-04-21\" \"2011-09-02\" ...\n",
      " $ presale_dt            : chr  \"NULL\" \"NULL\" \"NULL\" \"NULL\" ...\n",
      " $ onsale_dt             : chr  \"2015-05-15\" \"2009-03-13\" \"2006-02-25\" \"2011-04-22\" ...\n",
      " $ sales_ord_create_dttm : chr  \"2015-09-11 18:17:45\" \"2009-07-06 00:00:00\" \"2006-04-05 00:00:00\" \"2011-07-01 17:38:50\" ...\n",
      " $ sales_ord_tran_dt     : chr  \"2015-09-11\" \"2009-07-05\" \"2006-04-05\" \"2011-07-01\" ...\n",
      " $ print_dt              : chr  \"2015-09-12\" \"2009-09-01\" \"2006-04-05\" \"2011-07-06\" ...\n",
      " $ timezn_nm             : chr  \"EST\" \"PST\" \"MST\" \"CST\" ...\n",
      " $ venue_city            : chr  \"MANSFIELD\" \"QUINCY\" \"PHOENIX\" \"DALLAS\" ...\n",
      " $ venue_state           : chr  \"MASSACHUSETTS\" \"WASHINGTON\" \"ARIZONA\" \"TEXAS\" ...\n",
      " $ venue_postal_cd_sgmt_1: chr  \"02048\" \"98848\" \"85003\" \"75210\" ...\n",
      " $ sales_platform_cd     : chr  \"www.concerts.livenation.com\" \"NULL\" \"NULL\" \"NULL\" ...\n",
      " $ print_flg             : chr  \"T \" \"T \" \"T \" \"T \" ...\n",
      " $ la_valid_tkt_event_flg: chr  \"N \" \"N \" \"N \" \"N \" ...\n",
      " $ fin_mkt_nm            : chr  \"Boston\" \"Seattle\" \"Arizona\" \"Dallas\" ...\n",
      " $ web_session_cookie_val: chr  \"7dfa56dd7d5956b17587\" \"4f9e6fc637eaf7b736c2\" \"6c2545703bd527a7144d\" \"527d6b1eaffc69ddd882\" ...\n",
      " $ gndr_cd               : chr  NA NA NA NA ...\n",
      " $ age_yr                : chr  NA NA NA NA ...\n",
      " $ income_amt            : chr  NA NA NA NA ...\n",
      " $ edu_val               : chr  NA NA NA NA ...\n",
      " $ edu_1st_indv_val      : chr  NA NA NA NA ...\n",
      " $ edu_2nd_indv_val      : chr  NA NA NA NA ...\n",
      " $ adults_in_hh_num      : chr  NA NA NA NA ...\n",
      " $ married_ind           : chr  NA NA NA NA ...\n",
      " $ child_present_ind     : chr  NA NA NA NA ...\n",
      " $ home_owner_ind        : chr  NA NA NA NA ...\n",
      " $ occpn_val             : chr  NA NA NA NA ...\n",
      " $ occpn_1st_val         : chr  NA NA NA NA ...\n",
      " $ occpn_2nd_val         : chr  NA NA NA NA ...\n",
      " $ dist_to_ven           : int  NA 59 NA NA NA NA NA NA NA NA ...\n"
     ]
    },
    {
     "data": {
      "text/plain": [
       "       X          event_id         primary_act_id     secondary_act_id  \n",
       " Min.   :   1   Length:5000        Length:5000        Length:5000       \n",
       " 1st Qu.:1251   Class :character   Class :character   Class :character  \n",
       " Median :2500   Mode  :character   Mode  :character   Mode  :character  \n",
       " Mean   :2500                                                           \n",
       " 3rd Qu.:3750                                                           \n",
       " Max.   :5000                                                           \n",
       "                                                                        \n",
       " purch_party_lkup_id  event_name        primary_act_name   secondary_act_name\n",
       " Length:5000         Length:5000        Length:5000        Length:5000       \n",
       " Class :character    Class :character   Class :character   Class :character  \n",
       " Mode  :character    Mode  :character   Mode  :character   Mode  :character  \n",
       "                                                                             \n",
       "                                                                             \n",
       "                                                                             \n",
       "                                                                             \n",
       " major_cat_name     minor_cat_name     la_event_type_cat  event_disp_name   \n",
       " Length:5000        Length:5000        Length:5000        Length:5000       \n",
       " Class :character   Class :character   Class :character   Class :character  \n",
       " Mode  :character   Mode  :character   Mode  :character   Mode  :character  \n",
       "                                                                            \n",
       "                                                                            \n",
       "                                                                            \n",
       "                                                                            \n",
       " ticket_text        tickets_purchased_qty trans_face_val_amt delivery_type_cd  \n",
       " Length:5000        Min.   :1.000         Min.   :   1.00    Length:5000       \n",
       " Class :character   1st Qu.:1.000         1st Qu.:  20.00    Class :character  \n",
       " Mode  :character   Median :1.000         Median :  30.00    Mode  :character  \n",
       "                    Mean   :1.639         Mean   :  77.08                      \n",
       "                    3rd Qu.:2.000         3rd Qu.:  85.00                      \n",
       "                    Max.   :8.000         Max.   :1520.88                      \n",
       "                                                                               \n",
       " event_date_time      event_dt          presale_dt         onsale_dt        \n",
       " Length:5000        Length:5000        Length:5000        Length:5000       \n",
       " Class :character   Class :character   Class :character   Class :character  \n",
       " Mode  :character   Mode  :character   Mode  :character   Mode  :character  \n",
       "                                                                            \n",
       "                                                                            \n",
       "                                                                            \n",
       "                                                                            \n",
       " sales_ord_create_dttm sales_ord_tran_dt    print_dt          timezn_nm        \n",
       " Length:5000           Length:5000        Length:5000        Length:5000       \n",
       " Class :character      Class :character   Class :character   Class :character  \n",
       " Mode  :character      Mode  :character   Mode  :character   Mode  :character  \n",
       "                                                                               \n",
       "                                                                               \n",
       "                                                                               \n",
       "                                                                               \n",
       "  venue_city        venue_state        venue_postal_cd_sgmt_1\n",
       " Length:5000        Length:5000        Length:5000           \n",
       " Class :character   Class :character   Class :character      \n",
       " Mode  :character   Mode  :character   Mode  :character      \n",
       "                                                             \n",
       "                                                             \n",
       "                                                             \n",
       "                                                             \n",
       " sales_platform_cd   print_flg         la_valid_tkt_event_flg\n",
       " Length:5000        Length:5000        Length:5000           \n",
       " Class :character   Class :character   Class :character      \n",
       " Mode  :character   Mode  :character   Mode  :character      \n",
       "                                                             \n",
       "                                                             \n",
       "                                                             \n",
       "                                                             \n",
       "  fin_mkt_nm        web_session_cookie_val   gndr_cd         \n",
       " Length:5000        Length:5000            Length:5000       \n",
       " Class :character   Class :character       Class :character  \n",
       " Mode  :character   Mode  :character       Mode  :character  \n",
       "                                                             \n",
       "                                                             \n",
       "                                                             \n",
       "                                                             \n",
       "    age_yr           income_amt          edu_val          edu_1st_indv_val  \n",
       " Length:5000        Length:5000        Length:5000        Length:5000       \n",
       " Class :character   Class :character   Class :character   Class :character  \n",
       " Mode  :character   Mode  :character   Mode  :character   Mode  :character  \n",
       "                                                                            \n",
       "                                                                            \n",
       "                                                                            \n",
       "                                                                            \n",
       " edu_2nd_indv_val   adults_in_hh_num   married_ind        child_present_ind \n",
       " Length:5000        Length:5000        Length:5000        Length:5000       \n",
       " Class :character   Class :character   Class :character   Class :character  \n",
       " Mode  :character   Mode  :character   Mode  :character   Mode  :character  \n",
       "                                                                            \n",
       "                                                                            \n",
       "                                                                            \n",
       "                                                                            \n",
       " home_owner_ind      occpn_val         occpn_1st_val      occpn_2nd_val     \n",
       " Length:5000        Length:5000        Length:5000        Length:5000       \n",
       " Class :character   Class :character   Class :character   Class :character  \n",
       " Mode  :character   Mode  :character   Mode  :character   Mode  :character  \n",
       "                                                                            \n",
       "                                                                            \n",
       "                                                                            \n",
       "                                                                            \n",
       "  dist_to_ven    \n",
       " Min.   :   0.0  \n",
       " 1st Qu.:  12.0  \n",
       " Median :  26.0  \n",
       " Mean   : 158.2  \n",
       " 3rd Qu.:  77.5  \n",
       " Max.   :2548.0  \n",
       " NA's   :4677    "
      ]
     },
     "metadata": {},
     "output_type": "display_data"
    },
    {
     "name": "stderr",
     "output_type": "stream",
     "text": [
      "Warning message:\n",
      "\"package 'dplyr' was built under R version 3.3.3\"\n",
      "Attaching package: 'dplyr'\n",
      "\n",
      "The following objects are masked from 'package:stats':\n",
      "\n",
      "    filter, lag\n",
      "\n",
      "The following objects are masked from 'package:base':\n",
      "\n",
      "    intersect, setdiff, setequal, union\n",
      "\n"
     ]
    },
    {
     "name": "stdout",
     "output_type": "stream",
     "text": [
      "Observations: 5,000\n",
      "Variables: 46\n",
      "$ X                      <int> 1, 2, 3, 4, 5, 6, 7, 8, 9, 10, 11, 12, 13, 1...\n",
      "$ event_id               <chr> \"abcaf1adb99a935fc661\", \"6c56d7f08c95f2aa453...\n",
      "$ primary_act_id         <chr> \"43f0436b905bfa7c2eec\", \"1a3e9aecd0617706a79...\n",
      "$ secondary_act_id       <chr> \"b85143bf51323b72e53c\", \"f53529c5679ea6ca5a4...\n",
      "$ purch_party_lkup_id    <chr> \"7dfa56dd7d5956b17587\", \"4f9e6fc637eaf7b736c...\n",
      "$ event_name             <chr> \"Xfinity Center Mansfield Premier Parking: F...\n",
      "$ primary_act_name       <chr> \"XFINITY Center Mansfield Premier Parking\", ...\n",
      "$ secondary_act_name     <chr> \"NULL\", \"Dave Matthews Band\", \"NULL\", \"NULL\"...\n",
      "$ major_cat_name         <chr> \"MISC\", \"MISC\", \"MISC\", \"MISC\", \"MISC\", \"MIS...\n",
      "$ minor_cat_name         <chr> \"PARKING\", \"CAMPING\", \"PARKING\", \"PARKING\", ...\n",
      "$ la_event_type_cat      <chr> \"PARKING\", \"INVALID\", \"PARKING\", \"PARKING\", ...\n",
      "$ event_disp_name        <chr> \"Xfinity Center Mansfield Premier Parking: F...\n",
      "$ ticket_text            <chr> \"   THIS TICKET IS VALID        FOR PARKING ...\n",
      "$ tickets_purchased_qty  <int> 1, 1, 1, 1, 1, 2, 1, 1, 1, 1, 1, 2, 4, 1, 1,...\n",
      "$ trans_face_val_amt     <dbl> 45, 75, 5, 20, 20, 10, 30, 28, 20, 25, 20, 9...\n",
      "$ delivery_type_cd       <chr> \"eTicket\", \"TicketFast\", \"TicketFast\", \"Mail...\n",
      "$ event_date_time        <chr> \"2015-09-12 23:30:00\", \"2009-09-05 01:00:00\"...\n",
      "$ event_dt               <chr> \"2015-09-12\", \"2009-09-04\", \"2006-04-21\", \"2...\n",
      "$ presale_dt             <chr> \"NULL\", \"NULL\", \"NULL\", \"NULL\", \"2005-03-02\"...\n",
      "$ onsale_dt              <chr> \"2015-05-15\", \"2009-03-13\", \"2006-02-25\", \"2...\n",
      "$ sales_ord_create_dttm  <chr> \"2015-09-11 18:17:45\", \"2009-07-06 00:00:00\"...\n",
      "$ sales_ord_tran_dt      <chr> \"2015-09-11\", \"2009-07-05\", \"2006-04-05\", \"2...\n",
      "$ print_dt               <chr> \"2015-09-12\", \"2009-09-01\", \"2006-04-05\", \"2...\n",
      "$ timezn_nm              <chr> \"EST\", \"PST\", \"MST\", \"CST\", \"PST\", \"PST\", \"E...\n",
      "$ venue_city             <chr> \"MANSFIELD\", \"QUINCY\", \"PHOENIX\", \"DALLAS\", ...\n",
      "$ venue_state            <chr> \"MASSACHUSETTS\", \"WASHINGTON\", \"ARIZONA\", \"T...\n",
      "$ venue_postal_cd_sgmt_1 <chr> \"02048\", \"98848\", \"85003\", \"75210\", \"98092\",...\n",
      "$ sales_platform_cd      <chr> \"www.concerts.livenation.com\", \"NULL\", \"NULL...\n",
      "$ print_flg              <chr> \"T \", \"T \", \"T \", \"T \", \"T \", \"T \", \"T \", \"T...\n",
      "$ la_valid_tkt_event_flg <chr> \"N \", \"N \", \"N \", \"N \", \"N \", \"N \", \"N \", \"N...\n",
      "$ fin_mkt_nm             <chr> \"Boston\", \"Seattle\", \"Arizona\", \"Dallas\", \"S...\n",
      "$ web_session_cookie_val <chr> \"7dfa56dd7d5956b17587\", \"4f9e6fc637eaf7b736c...\n",
      "$ gndr_cd                <chr> NA, NA, NA, NA, NA, NA, \"M\", NA, NA, NA, \"M\"...\n",
      "$ age_yr                 <chr> NA, NA, NA, NA, NA, NA, \"28\", NA, NA, NA, \"8...\n",
      "$ income_amt             <chr> NA, NA, NA, NA, NA, NA, \"112500\", NA, NA, NA...\n",
      "$ edu_val                <chr> NA, NA, NA, NA, NA, NA, \"High School\", NA, N...\n",
      "$ edu_1st_indv_val       <chr> NA, NA, NA, NA, NA, NA, \"High School\", NA, N...\n",
      "$ edu_2nd_indv_val       <chr> NA, NA, NA, NA, NA, NA, \"NULL\", NA, NA, NA, ...\n",
      "$ adults_in_hh_num       <chr> NA, NA, NA, NA, NA, NA, \"4\", NA, NA, NA, \"2\"...\n",
      "$ married_ind            <chr> NA, NA, NA, NA, NA, NA, \"0\", NA, NA, NA, \"1\"...\n",
      "$ child_present_ind      <chr> NA, NA, NA, NA, NA, NA, \"1\", NA, NA, NA, \"NU...\n",
      "$ home_owner_ind         <chr> NA, NA, NA, NA, NA, NA, \"0\", NA, NA, NA, \"1\"...\n",
      "$ occpn_val              <chr> NA, NA, NA, NA, NA, NA, \"NULL\", NA, NA, NA, ...\n",
      "$ occpn_1st_val          <chr> NA, NA, NA, NA, NA, NA, \"Craftsman Blue Coll...\n",
      "$ occpn_2nd_val          <chr> NA, NA, NA, NA, NA, NA, \"NULL\", NA, NA, NA, ...\n",
      "$ dist_to_ven            <int> NA, 59, NA, NA, NA, NA, NA, NA, NA, NA, NA, ...\n"
     ]
    }
   ],
   "source": [
    "# Look at structure of sales\n",
    "str(sales)\n",
    "\n",
    "# View a summary of sales\n",
    "summary(sales)\n",
    "\n",
    "# Load dplyr\n",
    "library(dplyr)\n",
    "\n",
    "# Get a glimpse of sales\n",
    "glimpse(sales)"
   ]
  },
  {
   "cell_type": "markdown",
   "metadata": {},
   "source": [
    "### Removing redundant info\n",
    "\n",
    "You may have noticed that the first column of data is just a duplication of the row numbers. Not very useful. Go ahead and delete that column.\n",
    "\n",
    "Remember that nrow() and ncol() return the number of rows and columns in a data frame, respectively.\n",
    "\n",
    "Also, recall that you can use square brackets to subset a data frame as follows:\n",
    "\n",
    "`my_df[1:5, ] # First 5 rows of my_df\n",
    "my_df[, 4]   # Fourth column of my_df`\n",
    "Alternatively, you can remove rows and columns using negative indices. For example:\n",
    "\n",
    "`my_df[-(1:5), ] # Omit first 5 rows of my_df\n",
    "my_df[, -4]     # Omit fourth column of my_df`\n",
    "\n",
    "Instructions\n",
    "\n",
    " - Take a subset of sales to omit the first column. Assign the result to sales2."
   ]
  },
  {
   "cell_type": "code",
   "execution_count": 5,
   "metadata": {
    "collapsed": false
   },
   "outputs": [],
   "source": [
    "## sales is available in your workspace\n",
    "#!file.exists(sales)\n",
    "\n",
    "# Remove the first column of sales: sales2\n",
    "sales2<-sales[,-1]"
   ]
  },
  {
   "cell_type": "markdown",
   "metadata": {},
   "source": [
    "### Information not worth keeping\n",
    "\n",
    "Many of the columns have information that's of no use to us. For example, the first four columns contain internal codes representing particular events. The last fifteen columns also aren't worth keeping; there are too many missing values to make them worthwhile.\n",
    "\n",
    "An easy way to get rid of unnecessary columns is to create a vector containing the column indices you want to keep, then subset the data based on that vector using single bracket subsetting.\n",
    "\n",
    "Instructions\n",
    " - Create a vector called keep that contains the indices of the columns you want to save. Remember: you want to keep everything besides the first 4 and last 15 columns of sales2.\n",
    " - Subset the columns of sales2 using your vector and assign the result to sales3."
   ]
  },
  {
   "cell_type": "code",
   "execution_count": 6,
   "metadata": {
    "collapsed": true
   },
   "outputs": [],
   "source": [
    "## sales2 is available in your workspace\n",
    "\n",
    "# Define a vector of column indices: keep\n",
    "keep =c(5:30)\n",
    "\n",
    "# Subset sales2 using keep: sales3\n",
    "sales3 = sales2[, keep]"
   ]
  },
  {
   "cell_type": "markdown",
   "metadata": {},
   "source": [
    "### Separating columns\n",
    "\n",
    "Some of the columns in your data frame include multiple pieces of information that should be in separate columns. In this exercise, you will separate such a column into two: one for date and one for time. You will use the separate() function from the tidyr package (already installed for you).\n",
    "\n",
    "Take a look at the event_date_time column by typing head(sales3$event_date_time) in the console. You'll notice that the date and time are separated by a space. Therefore, you'll use sep = \" \" as an argument to separate().\n",
    "\n",
    "Instructions\n",
    " - Load the tidyr package.\n",
    " - Split the event_date_time column of sales3 into \"event_dt\" and \"event_time\". Assign the result to sales4.\n",
    " - Split the sales_ord_create_dttm column of sales4 into \"ord_create_dt\" and \"ord_create_time\". Assign the result to sales5."
   ]
  },
  {
   "cell_type": "code",
   "execution_count": 7,
   "metadata": {
    "collapsed": false
   },
   "outputs": [
    {
     "name": "stderr",
     "output_type": "stream",
     "text": [
      "Warning message:\n",
      "\"Too few values at 4 locations: 2516, 3863, 4082, 4183\""
     ]
    }
   ],
   "source": [
    "## sales3 is pre-loaded in your workspace\n",
    "\n",
    "# Load tidyr\n",
    "library(tidyr)\n",
    "\n",
    "# Split event_date_time: sales4\n",
    "sales4 <- separate(sales3, event_date_time, c(\"event_dt\", \"event_time\"), sep = \" \")\n",
    "\n",
    "# Split sales_ord_create_dttm: sales5\n",
    "sales5 <- separate(sales4, sales_ord_create_dttm, c(\"ord_create_dt\",\"ord_create_time\"), sep = \" \")"
   ]
  },
  {
   "cell_type": "markdown",
   "metadata": {},
   "source": [
    "Uh oh! Did you see the warning message that just popped up in the console? No need to panic (yet). You'll sort it out in the next exercise."
   ]
  },
  {
   "cell_type": "markdown",
   "metadata": {},
   "source": [
    "### Dealing with warnings\n",
    "\n",
    "Looks like that second call to separate() threw a warning. Not to worry; warnings aren't as bad as error messages. It's not saying that the command didn't execute; it's just a heads-up that something unusual happened.\n",
    "\n",
    "The warning says Too few values at 4 locations. You may be able to guess already what the issue is, but it's still good to take a look.\n",
    "\n",
    "The locations (i.e. rows) given in the warning are 2516, 3863, 4082, and 4183. Have a look at the contents of the sales_ord_create_dttm column in those rows.\n",
    "\n",
    "Instructions\n",
    " - Assign a vector issues that contains the indices of the four troublesome rows: 2516, 3863, 4082, and 4183.\n",
    " - Subset sales3\\$sales_ord_create_dttm to look at these observations. Remember to use sales3 (not sales4), since you want the data frame from before you separated columns!\n",
    " - For comparison, print element 2517 of sales3\\$sales_ord_create_dttm, which did not cause a warning."
   ]
  },
  {
   "cell_type": "code",
   "execution_count": 8,
   "metadata": {
    "collapsed": false
   },
   "outputs": [
    {
     "name": "stdout",
     "output_type": "stream",
     "text": [
      "[1] \"NULL\" \"NULL\" \"NULL\" \"NULL\"\n",
      "[1] \"2013-08-04 23:07:19\"\n"
     ]
    }
   ],
   "source": [
    "# Define an issues vector\n",
    "issues = c(2516, 3863, 4082, 4183)\n",
    "\n",
    "# Print values of sales_ord_create_dttm at these indices\n",
    "print(sales3$sales_ord_create_dttm[issues])\n",
    "\n",
    "# Print a well-behaved value of sales_ord_create_dttm\n",
    "print(sales3$sales_ord_create_dttm[2517])"
   ]
  },
  {
   "cell_type": "markdown",
   "metadata": {},
   "source": [
    "Whew! The warning was just because of four missing values. You'll ignore them for now, but if your analysis depended on complete date/time information, you would probably need to delete those rows."
   ]
  },
  {
   "cell_type": "code",
   "execution_count": 9,
   "metadata": {
    "collapsed": false
   },
   "outputs": [
    {
     "name": "stdout",
     "output_type": "stream",
     "text": [
      "[1] \"NULL\" \"NULL\" \"NULL\" \"NULL\"\n"
     ]
    }
   ],
   "source": [
    "print(sales2$sales_ord_create_dttm[issues])"
   ]
  },
  {
   "cell_type": "markdown",
   "metadata": {},
   "source": [
    "Identifying dates\n",
    "100xp\n",
    "Some of the columns in your dataset contain dates of different events. Right now, they are stored as character strings. That's fine if all you want to do is look up the date associated with an event, but if you want to do any comparisons or math with the dates, it's MUCH easier to store them as Date objects.\n",
    "\n",
    "Luckily, all of the date columns in this dataset have the substring \"dt\" in their name, so you can use the str_detect() function of the stringr package to find the date columns. Then you can coerce them to Date objects using a function from the lubridate package.\n",
    "\n",
    "You'll use lapply() to apply the appropriate lubridate function to all of the columns that contain dates. Recall the following syntax for lapply() applied to some data frame columns of interest:\n",
    "\n",
    "`lapply(my_data_frame[, cols], function_name)`\n",
    "Also recall that function names in lubridate combine the letters y, m, d, h, m, and s depending on the format of the date/time string being read in.\n",
    "\n",
    "Instructions\n",
    " - Load the stringr package.\n",
    " - Use str_detect() to find values in the names() of sales5 containing the string \"dt\". Assign the resulting logical vector to the variable date_cols.\n",
    " - Load the lubridate package.\n",
    " - Coerce the date_cols into Date objects using lapply() and the appropriate function from lubridate. Conveniently, all date columns in sales5 are in year-month-day format, so you can use the ymd() function from lubridate."
   ]
  },
  {
   "cell_type": "code",
   "execution_count": 10,
   "metadata": {
    "collapsed": false
   },
   "outputs": [
    {
     "name": "stderr",
     "output_type": "stream",
     "text": [
      "Warning message:\n",
      "\"package 'lubridate' was built under R version 3.3.3\"\n",
      "Attaching package: 'lubridate'\n",
      "\n",
      "The following object is masked from 'package:base':\n",
      "\n",
      "    date\n",
      "\n",
      "Warning message:\n",
      "\" 2892 failed to parse.\"Warning message:\n",
      "\" 101 failed to parse.\"Warning message:\n",
      "\" 4 failed to parse.\"Warning message:\n",
      "\" 424 failed to parse.\""
     ]
    }
   ],
   "source": [
    "## sales5 is pre-loaded\n",
    "\n",
    "# Load stringr\n",
    "library(stringr)\n",
    "\n",
    "# Find columns of sales5 containing \"dt\": date_cols\n",
    "date_cols = names(sales5)[str_detect(names(sales5), \"dt\")]\n",
    "\n",
    "# Load lubridate\n",
    "library(lubridate)\n",
    "\n",
    "# Coerce date columns into Date objects\n",
    "sales5[, date_cols] <- lapply(sales5[, date_cols], ymd)"
   ]
  },
  {
   "cell_type": "markdown",
   "metadata": {},
   "source": [
    "Not again! Your code looks great, but there were a few more warnings… Sigh. You'll sort it out in the next exercise."
   ]
  },
  {
   "cell_type": "markdown",
   "metadata": {},
   "source": [
    "## More warnings!\n",
    "\n",
    "As you saw, some of the calls to ymd() caused a failure to parse warning. That's probably because of more missing data, but again, it's good to check to be sure.\n",
    "\n",
    "The first two lines of code (provided for you here) create a list of logical vectors called missing. Each vector in the list indicates the presence (or absence) of missing values in the corresponding column of sales5. See if the number of missing values in each column is the same as the number of rows that failed to parse in the previous exercise.\n",
    "\n",
    "As a reminder, here are the warning messages:\n",
    "\n",
    "Warning message:  2892 failed to parse.\n",
    "Warning message:  101 failed to parse.\n",
    "Warning message:  4 failed to parse.\n",
    "Warning message:  424 failed to parse.\n",
    "Instructions\n",
    "    \n",
    " - Run the first line as-is to regenerate the date_cols vector.\n",
    " - Run the second line as-is to generate a list of logical vectors representing missing values in the date columns of sales5.\n",
    " - Use sapply() to create a numerical vector containing the number of NA values in each date column. Call this vector num_missing.\n",
    " - Print out the num_missing vector."
   ]
  },
  {
   "cell_type": "code",
   "execution_count": 11,
   "metadata": {
    "collapsed": false
   },
   "outputs": [
    {
     "data": {
      "text/html": [
       "<dl class=dl-horizontal>\n",
       "\t<dt>event_dt</dt>\n",
       "\t\t<dd>0</dd>\n",
       "\t<dt>event_dt.1</dt>\n",
       "\t\t<dd>0</dd>\n",
       "\t<dt>presale_dt</dt>\n",
       "\t\t<dd>2892</dd>\n",
       "\t<dt>onsale_dt</dt>\n",
       "\t\t<dd>101</dd>\n",
       "\t<dt>ord_create_dt</dt>\n",
       "\t\t<dd>4</dd>\n",
       "\t<dt>sales_ord_tran_dt</dt>\n",
       "\t\t<dd>0</dd>\n",
       "\t<dt>print_dt</dt>\n",
       "\t\t<dd>424</dd>\n",
       "</dl>\n"
      ],
      "text/latex": [
       "\\begin{description*}\n",
       "\\item[event\\textbackslash{}\\_dt] 0\n",
       "\\item[event\\textbackslash{}\\_dt.1] 0\n",
       "\\item[presale\\textbackslash{}\\_dt] 2892\n",
       "\\item[onsale\\textbackslash{}\\_dt] 101\n",
       "\\item[ord\\textbackslash{}\\_create\\textbackslash{}\\_dt] 4\n",
       "\\item[sales\\textbackslash{}\\_ord\\textbackslash{}\\_tran\\textbackslash{}\\_dt] 0\n",
       "\\item[print\\textbackslash{}\\_dt] 424\n",
       "\\end{description*}\n"
      ],
      "text/markdown": [
       "event_dt\n",
       ":   0event_dt.1\n",
       ":   0presale_dt\n",
       ":   2892onsale_dt\n",
       ":   101ord_create_dt\n",
       ":   4sales_ord_tran_dt\n",
       ":   0print_dt\n",
       ":   424\n",
       "\n"
      ],
      "text/plain": [
       "         event_dt        event_dt.1        presale_dt         onsale_dt \n",
       "                0                 0              2892               101 \n",
       "    ord_create_dt sales_ord_tran_dt          print_dt \n",
       "                4                 0               424 "
      ]
     },
     "metadata": {},
     "output_type": "display_data"
    }
   ],
   "source": [
    "## stringr is loaded\n",
    "\n",
    "# Find date columns (don't change)\n",
    "date_cols <- str_detect(names(sales5), \"dt\")\n",
    "\n",
    "# Create logical vectors indicating missing values (don't change)\n",
    "missing <- lapply(sales5[, date_cols], is.na)\n",
    "\n",
    "# Create a numerical vector that counts missing values: num_missing\n",
    "num_missing = sapply(missing, sum)\n",
    "\n",
    "# Print num_missing\n",
    "num_missing"
   ]
  },
  {
   "cell_type": "markdown",
   "metadata": {},
   "source": [
    "Yep, it was missing data again. Ah, the joys of working with real-life datasets!"
   ]
  },
  {
   "cell_type": "markdown",
   "metadata": {},
   "source": [
    "### Combining columns\n",
    "\n",
    "Sure enough, the number of NAs in each column match the numbers from the warning messages, so missing data is the culprit. How to proceed depends on your desired analysis. If you really need complete sets of date/time information, you might delete the rows or columns containing NAs.\n",
    "\n",
    "As your last step, you'll use the tidyr function unite() to combine the venue_city and venue_state columns into one column with the two values separated by a comma and a space. For example, \"PORTLAND\" \"MAINE\" should become \"PORTLAND, MAINE\".\n",
    "\n",
    "Instructions\n",
    " - Combine the venue_city and venue_state columns of sales5 into a new column called venue_city_state, containing the city and state names separated by a comma and a space. Call the resulting data frame sales6.\n",
    " - View the first 6 rows of sales6."
   ]
  },
  {
   "cell_type": "code",
   "execution_count": null,
   "metadata": {
    "collapsed": true
   },
   "outputs": [],
   "source": [
    "## tidyr is loaded\n",
    "\n",
    "# Combine the venue_city and venue_state columns\n",
    "sales6 = unite(sales5, venue_city_state ,venue_city, venue_state,  sep =\", \")\n",
    "\n",
    "# View the head of sales6\n",
    "head(sales6,6)"
   ]
  }
 ],
 "metadata": {
  "anaconda-cloud": {},
  "kernelspec": {
   "display_name": "R",
   "language": "R",
   "name": "ir"
  },
  "language_info": {
   "codemirror_mode": "r",
   "file_extension": ".r",
   "mimetype": "text/x-r-source",
   "name": "R",
   "pygments_lexer": "r",
   "version": "3.3.2"
  }
 },
 "nbformat": 4,
 "nbformat_minor": 1
}
