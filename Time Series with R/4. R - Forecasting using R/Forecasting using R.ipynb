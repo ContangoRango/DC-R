{
 "cells": [
  {
   "cell_type": "markdown",
   "metadata": {},
   "source": [
    "Creating time series objects in R\n",
    "100xp\n",
    "A time series can be thought of as a vector or matrix of numbers along with some information about what times those numbers were recorded. This information is stored in a ts object in R. In most exercises, you will use time series that are part of existing packages. However, if you want to work with your own data, you need to know how to create a ts object in R.\n",
    "\n",
    "Let's look at an example usnim_2002 below, containing net interest margins for US banks for the year 2002 (source: FFIEC).\n",
    "\n",
    "`> usnim_2002\n",
    "               usnim\n",
    "1   2002-01-01  4.08\n",
    "2   2002-04-01   4.1\n",
    "3   2002-07-01  4.06\n",
    "4   2002-10-01  4.04`\n",
    "\n",
    "`> # ts(data, start, frequency, ...)\n",
    "> usnim_ts = ts(usnim_2002[, 2], start = c(2002, 1), frequency = 4)``\n",
    "\n",
    "The function ts() takes in three arguments:\n",
    "\n",
    "data is set to everything in usnim_2002 except for the date column; it isn't needed since the ts object will store time information separately.\n",
    "start is set to the form c(year, period) to indicate the time of the first observation. Here, January corresponds with period 1; likewise, a start date in April would refer to 2, July to 3, and October to 4.\n",
    "frequency is set to 4 because the data are quarterly.\n",
    "In this exercise, you will read in some time series data from an xlsx file using read_excel(), a function from the readxl package, and store the data as a ts object. Both the xlsx file and package have been loaded into your workspace.\n",
    "\n",
    "Instructions\n",
    " - Use the read_excel() function to read the data from \"exercise1.xlsx\" into mydata.\n",
    " - Apply head() to mydata in the R console to inspect the first few lines of the data. Take a look at the dates - there are four observations in 1981, indicating quarterly data with a frequency of four rows per year. The first observation or start date is Mar-81, the first of four rows for year 1981, indicating that March corresponds with the first period.\n",
    " - Create a ts object called myts using ts(). Set data, start and frequency based on what you observed."
   ]
  },
  {
   "cell_type": "code",
   "execution_count": 1,
   "metadata": {
    "collapsed": false
   },
   "outputs": [
    {
     "ename": "NameError",
     "evalue": "name 'library' is not defined",
     "output_type": "error",
     "traceback": [
      "\u001b[0;31m---------------------------------------------------------------------------\u001b[0m",
      "\u001b[0;31mNameError\u001b[0m                                 Traceback (most recent call last)",
      "\u001b[0;32m<ipython-input-1-57577a5c698e>\u001b[0m in \u001b[0;36m<module>\u001b[0;34m()\u001b[0m\n\u001b[0;32m----> 1\u001b[0;31m \u001b[0mlibrary\u001b[0m\u001b[1;33m(\u001b[0m\u001b[0mreadxl\u001b[0m\u001b[1;33m)\u001b[0m\u001b[1;33m\u001b[0m\u001b[0m\n\u001b[0m",
      "\u001b[0;31mNameError\u001b[0m: name 'library' is not defined"
     ]
    }
   ],
   "source": [
    "library(readxl)"
   ]
  },
  {
   "cell_type": "code",
   "execution_count": 2,
   "metadata": {
    "collapsed": false
   },
   "outputs": [
    {
     "ename": "SyntaxError",
     "evalue": "invalid syntax (<ipython-input-2-803c51993728>, line 8)",
     "output_type": "error",
     "traceback": [
      "\u001b[0;36m  File \u001b[0;32m\"<ipython-input-2-803c51993728>\"\u001b[0;36m, line \u001b[0;32m8\u001b[0m\n\u001b[0;31m    myts <- ts(mydata[,-1], start = c(1981, 1), frequency = 4)\u001b[0m\n\u001b[0m                      ^\u001b[0m\n\u001b[0;31mSyntaxError\u001b[0m\u001b[0;31m:\u001b[0m invalid syntax\n"
     ]
    }
   ],
   "source": [
    "# Read the data from Excel into R\n",
    "mydata <- read_excel(\"exercise1.xlsx\")\n",
    "\n",
    "# Look at the first few lines of mydata\n",
    "head(mydata)\n",
    "\n",
    "# Create a ts object called myts\n",
    "myts <- ts(mydata[,-1], start = c(1981, 1), frequency = 4)"
   ]
  },
  {
   "cell_type": "code",
   "execution_count": null,
   "metadata": {
    "collapsed": true
   },
   "outputs": [],
   "source": []
  }
 ],
 "metadata": {
  "anaconda-cloud": {},
  "kernelspec": {
   "display_name": "Python [conda root]",
   "language": "python",
   "name": "conda-root-py"
  },
  "language_info": {
   "codemirror_mode": {
    "name": "ipython",
    "version": 3
   },
   "file_extension": ".py",
   "mimetype": "text/x-python",
   "name": "python",
   "nbconvert_exporter": "python",
   "pygments_lexer": "ipython3",
   "version": "3.5.2"
  }
 },
 "nbformat": 4,
 "nbformat_minor": 1
}
