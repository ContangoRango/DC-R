{
 "cells": [
  {
   "cell_type": "markdown",
   "metadata": {},
   "source": [
    "Creating time series objects in R\n",
    "100xp\n",
    "A time series can be thought of as a vector or matrix of numbers along with some information about what times those numbers were recorded. This information is stored in a ts object in R. In most exercises, you will use time series that are part of existing packages. However, if you want to work with your own data, you need to know how to create a ts object in R.\n",
    "\n",
    "Let's look at an example usnim_2002 below, containing net interest margins for US banks for the year 2002 (source: FFIEC).\n",
    "\n",
    "`> usnim_2002\n",
    "               usnim\n",
    "1   2002-01-01  4.08\n",
    "2   2002-04-01   4.1\n",
    "3   2002-07-01  4.06\n",
    "4   2002-10-01  4.04`\n",
    "\n",
    "`> # ts(data, start, frequency, ...)\n",
    "> usnim_ts = ts(usnim_2002[, 2], start = c(2002, 1), frequency = 4)`\n",
    "\n",
    "The function ts() takes in three arguments:\n",
    "\n",
    "data is set to everything in usnim_2002 except for the date column; it isn't needed since the ts object will store time information separately.\n",
    "start is set to the form c(year, period) to indicate the time of the first observation. Here, January corresponds with period 1; likewise, a start date in April would refer to 2, July to 3, and October to 4.\n",
    "frequency is set to 4 because the data are quarterly.\n",
    "In this exercise, you will read in some time series data from an xlsx file using read_excel(), a function from the readxl package, and store the data as a ts object. Both the xlsx file and package have been loaded into your workspace.\n",
    "\n",
    "Instructions\n",
    " - Use the read_excel() function to read the data from \"exercise1.xlsx\" into mydata.\n",
    " - Apply head() to mydata in the R console to inspect the first few lines of the data. Take a look at the dates - there are four observations in 1981, indicating quarterly data with a frequency of four rows per year. The first observation or start date is Mar-81, the first of four rows for year 1981, indicating that March corresponds with the first period.\n",
    " - Create a ts object called myts using ts(). Set data, start and frequency based on what you observed."
   ]
  },
  {
   "cell_type": "code",
   "execution_count": 1,
   "metadata": {
    "collapsed": false
   },
   "outputs": [
    {
     "name": "stderr",
     "output_type": "stream",
     "text": [
      "Warning message:\n",
      "\"package 'readxl' was built under R version 3.3.3\""
     ]
    }
   ],
   "source": [
    "library(readxl)"
   ]
  },
  {
   "cell_type": "code",
   "execution_count": 2,
   "metadata": {
    "collapsed": false
   },
   "outputs": [
    {
     "data": {
      "text/html": [
       "<table>\n",
       "<thead><tr><th scope=col></th><th scope=col>Sales</th><th scope=col>AdBudget</th><th scope=col>GDP</th></tr></thead>\n",
       "<tbody>\n",
       "\t<tr><td>Mar-81</td><td>1020.2</td><td>659.2 </td><td>251.8 </td></tr>\n",
       "\t<tr><td>Jun-81</td><td> 889.2</td><td>589.0 </td><td>290.9 </td></tr>\n",
       "\t<tr><td>Sep-81</td><td> 795.0</td><td>512.5 </td><td>290.8 </td></tr>\n",
       "\t<tr><td>Dec-81</td><td>1003.9</td><td>614.1 </td><td>292.4 </td></tr>\n",
       "\t<tr><td>Mar-82</td><td>1057.7</td><td>647.2 </td><td>279.1 </td></tr>\n",
       "\t<tr><td>Jun-82</td><td> 944.4</td><td>602.0 </td><td>254.0 </td></tr>\n",
       "</tbody>\n",
       "</table>\n"
      ],
      "text/latex": [
       "\\begin{tabular}{r|llll}\n",
       "  & Sales & AdBudget & GDP\\\\\n",
       "\\hline\n",
       "\t Mar-81 & 1020.2 & 659.2  & 251.8 \\\\\n",
       "\t Jun-81 &  889.2 & 589.0  & 290.9 \\\\\n",
       "\t Sep-81 &  795.0 & 512.5  & 290.8 \\\\\n",
       "\t Dec-81 & 1003.9 & 614.1  & 292.4 \\\\\n",
       "\t Mar-82 & 1057.7 & 647.2  & 279.1 \\\\\n",
       "\t Jun-82 &  944.4 & 602.0  & 254.0 \\\\\n",
       "\\end{tabular}\n"
      ],
      "text/markdown": [
       "\n",
       " | Sales | AdBudget | GDP | \n",
       "|---|---|---|---|---|---|\n",
       "| Mar-81 | 1020.2 | 659.2  | 251.8  | \n",
       "| Jun-81 |  889.2 | 589.0  | 290.9  | \n",
       "| Sep-81 |  795.0 | 512.5  | 290.8  | \n",
       "| Dec-81 | 1003.9 | 614.1  | 292.4  | \n",
       "| Mar-82 | 1057.7 | 647.2  | 279.1  | \n",
       "| Jun-82 |  944.4 | 602.0  | 254.0  | \n",
       "\n",
       "\n"
      ],
      "text/plain": [
       "         Sales  AdBudget GDP  \n",
       "1 Mar-81 1020.2 659.2    251.8\n",
       "2 Jun-81  889.2 589.0    290.9\n",
       "3 Sep-81  795.0 512.5    290.8\n",
       "4 Dec-81 1003.9 614.1    292.4\n",
       "5 Mar-82 1057.7 647.2    279.1\n",
       "6 Jun-82  944.4 602.0    254.0"
      ]
     },
     "metadata": {},
     "output_type": "display_data"
    }
   ],
   "source": [
    "# Read the data from Excel into R\n",
    "mydata <- read_excel(\"exercise1.xlsx\")\n",
    "\n",
    "# Look at the first few lines of mydata\n",
    "head(mydata)\n",
    "\n",
    "# Create a ts object called myts\n",
    "myts <- ts(mydata[,-1], start = c(1981, 1), frequency = 4)"
   ]
  },
  {
   "cell_type": "code",
   "execution_count": 3,
   "metadata": {
    "collapsed": false
   },
   "outputs": [
    {
     "data": {
      "text/html": [
       "<ol class=list-inline>\n",
       "\t<li>'mts'</li>\n",
       "\t<li>'ts'</li>\n",
       "\t<li>'matrix'</li>\n",
       "</ol>\n"
      ],
      "text/latex": [
       "\\begin{enumerate*}\n",
       "\\item 'mts'\n",
       "\\item 'ts'\n",
       "\\item 'matrix'\n",
       "\\end{enumerate*}\n"
      ],
      "text/markdown": [
       "1. 'mts'\n",
       "2. 'ts'\n",
       "3. 'matrix'\n",
       "\n",
       "\n"
      ],
      "text/plain": [
       "[1] \"mts\"    \"ts\"     \"matrix\""
      ]
     },
     "metadata": {},
     "output_type": "display_data"
    },
    {
     "data": {
      "text/html": [
       "<table>\n",
       "<thead><tr><th scope=col>Sales</th><th scope=col>AdBudget</th><th scope=col>GDP</th></tr></thead>\n",
       "<tbody>\n",
       "\t<tr><td>1020.2</td><td>659.2 </td><td>251.8 </td></tr>\n",
       "\t<tr><td> 889.2</td><td>589.0 </td><td>290.9 </td></tr>\n",
       "\t<tr><td> 795.0</td><td>512.5 </td><td>290.8 </td></tr>\n",
       "\t<tr><td>1003.9</td><td>614.1 </td><td>292.4 </td></tr>\n",
       "\t<tr><td>1057.7</td><td>647.2 </td><td>279.1 </td></tr>\n",
       "</tbody>\n",
       "</table>\n"
      ],
      "text/latex": [
       "\\begin{tabular}{lll}\n",
       " Sales & AdBudget & GDP\\\\\n",
       "\\hline\n",
       "\t 1020.2 & 659.2  & 251.8 \\\\\n",
       "\t  889.2 & 589.0  & 290.9 \\\\\n",
       "\t  795.0 & 512.5  & 290.8 \\\\\n",
       "\t 1003.9 & 614.1  & 292.4 \\\\\n",
       "\t 1057.7 & 647.2  & 279.1 \\\\\n",
       "\\end{tabular}\n"
      ],
      "text/markdown": [
       "\n",
       "Sales | AdBudget | GDP | \n",
       "|---|---|---|---|---|\n",
       "| 1020.2 | 659.2  | 251.8  | \n",
       "|  889.2 | 589.0  | 290.9  | \n",
       "|  795.0 | 512.5  | 290.8  | \n",
       "| 1003.9 | 614.1  | 292.4  | \n",
       "| 1057.7 | 647.2  | 279.1  | \n",
       "\n",
       "\n"
      ],
      "text/plain": [
       "     Sales  AdBudget GDP  \n",
       "[1,] 1020.2 659.2    251.8\n",
       "[2,]  889.2 589.0    290.9\n",
       "[3,]  795.0 512.5    290.8\n",
       "[4,] 1003.9 614.1    292.4\n",
       "[5,] 1057.7 647.2    279.1"
      ]
     },
     "metadata": {},
     "output_type": "display_data"
    }
   ],
   "source": [
    "class(myts)\n",
    "myts[1:5,]"
   ]
  },
  {
   "cell_type": "markdown",
   "metadata": {},
   "source": [
    "\n",
    "### Time series plots\n",
    "\n",
    "The first step in any data analysis task is to plot the data. Graphs enable you to visualize many features of the data, including patterns, unusual observations, changes over time, and relationships between variables. Just as the type of data determines which forecasting method to use, it also determines which graphs are appropriate.\n",
    "\n",
    "You can use the autoplot() function to produce a time plot of the data with or without facets, or panels that display different subsets of data:\n",
    "\n",
    "`> autoplot(usnim_2002, facets = FALSE)`\n",
    "\n",
    "The above method is one of the many taught in this course that accepts boolean arguments. Both T and TRUE mean \"true\", and F and FALSE mean \"false\", however, T and F can be overwritten in your code. Therefore, you should only rely on TRUE and FALSE to set your indicators for the remainder of the course.\n",
    "\n",
    "You can also use the which.max() and frequency() functions to identify the smallest index of the maximum value and find the number of observations per unit time, respectively. Recall the usnim_2002 data from the previous exercise:\n",
    "\n",
    "`> which.max(usnim_2002)\n",
    "[2] 2`\n",
    "\n",
    "`> frequency(usnim_2002)\n",
    "[1] 4`\n",
    "\n",
    "Because this course involves the use of the forecast and ggplot2 packages, they have been loaded into your workspace for you, as well as myts from the previous exercise and the following three series:`\n",
    "\n",
    " - `gold` containing gold prices in US dollars\n",
    " - `woolyrnq` containing information on the production of woollen yarn in Australia\n",
    " - `gas` containing Australian gas production\n",
    "\n",
    "Instructions\n",
    "\n",
    " - Plot the data you stored as myts using autoplot() with facetting.\n",
    " - Plot the same data without facetting by setting the appropriate argument to FALSE. What happens?\n",
    " - Plot the gold, woolyrnq, and gas time series in separate plots.\n",
    " - Use which.max() to spot the outlier in the gold series. Which observation was it?\n",
    " - Apply the frequency() function to each commodity to get the number of observations per unit time. This would return 52 for weekly data, for example."
   ]
  },
  {
   "cell_type": "code",
   "execution_count": 4,
   "metadata": {
    "collapsed": false
   },
   "outputs": [
    {
     "name": "stderr",
     "output_type": "stream",
     "text": [
      "Warning message:\n",
      "\"package 'forecast' was built under R version 3.3.3\"Warning message:\n",
      "\"package 'ggplot2' was built under R version 3.3.3\""
     ]
    }
   ],
   "source": [
    "library(forecast)\n",
    "library(ggplot2)"
   ]
  },
  {
   "cell_type": "code",
   "execution_count": 5,
   "metadata": {
    "collapsed": false
   },
   "outputs": [
    {
     "data": {},
     "metadata": {},
     "output_type": "display_data"
    },
    {
     "data": {},
     "metadata": {},
     "output_type": "display_data"
    },
    {
     "data": {
      "image/png": "[encoded data removed]",
      "text/plain": [
       "plot without title"
      ]
     },
     "metadata": {},
     "output_type": "display_data"
    },
    {
     "data": {},
     "metadata": {},
     "output_type": "display_data"
    },
    {
     "data": {
      "image/png": "[encoded data removed]",
      "text/plain": [
       "plot without title"
      ]
     },
     "metadata": {},
     "output_type": "display_data"
    },
    {
     "data": {},
     "metadata": {},
     "output_type": "display_data"
    },
    {
     "data": {
      "image/png": "[encoded data removed]",
      "text/plain": [
       "plot without title"
      ]
     },
     "metadata": {},
     "output_type": "display_data"
    },
    {
     "data": {},
     "metadata": {},
     "output_type": "display_data"
    },
    {
     "data": {
      "image/png": "[encoded data removed]",
      "text/plain": [
       "plot without title"
      ]
     },
     "metadata": {},
     "output_type": "display_data"
    },
    {
     "data": {
      "text/html": [
       "593.7"
      ],
      "text/latex": [
       "593.7"
      ],
      "text/markdown": [
       "593.7"
      ],
      "text/plain": [
       "[1] 593.7"
      ]
     },
     "metadata": {},
     "output_type": "display_data"
    },
    {
     "data": {
      "text/html": [
       "1"
      ],
      "text/latex": [
       "1"
      ],
      "text/markdown": [
       "1"
      ],
      "text/plain": [
       "[1] 1"
      ]
     },
     "metadata": {},
     "output_type": "display_data"
    },
    {
     "data": {
      "text/html": [
       "4"
      ],
      "text/latex": [
       "4"
      ],
      "text/markdown": [
       "4"
      ],
      "text/plain": [
       "[1] 4"
      ]
     },
     "metadata": {},
     "output_type": "display_data"
    },
    {
     "data": {
      "text/html": [
       "12"
      ],
      "text/latex": [
       "12"
      ],
      "text/markdown": [
       "12"
      ],
      "text/plain": [
       "[1] 12"
      ]
     },
     "metadata": {},
     "output_type": "display_data"
    },
    {
     "data": {
      "image/png": "[encoded data removed]",
      "text/plain": [
       "plot without title"
      ]
     },
     "metadata": {},
     "output_type": "display_data"
    }
   ],
   "source": [
    "# Plot the data with facetting\n",
    "autoplot(myts, facets = TRUE)\n",
    "\n",
    "# Plot the data without facetting\n",
    "autoplot(myts, facets = FALSE)\n",
    "\n",
    "# Plot the three series\n",
    "autoplot(gold)\n",
    "autoplot(woolyrnq)\n",
    "autoplot(gas)\n",
    "\n",
    "# Find the outlier in the gold series\n",
    "goldoutlier <- which.max(gold)\n",
    "gold[goldoutlier]\n",
    "\n",
    "# Look at the seasonal frequencies of the three series\n",
    "frequency(gold)\n",
    "frequency(woolyrnq)\n",
    "frequency(gas)"
   ]
  },
  {
   "cell_type": "markdown",
   "metadata": {},
   "source": [
    "### Seasonal plots\n",
    "  \n",
    "Along with time plots, there are other useful ways of plotting data to emphasize seasonal patterns and show changes in these patterns over time.\n",
    "\n",
    "A seasonal plot is similar to a time plot except that the data are plotted against the individual “seasons” in which the data were observed. You can create one using the ggseasonplot() function the same way you do with autoplot().\n",
    "An interesting variant of a season plot uses polar coordinates, where the time axis is circular rather than horizontal; to make one, simply add a polar argument and set it to TRUE.\n",
    "A subseries plot comprises mini time plots for each season. Here, the mean for each season is shown as a blue horizontal line.\n",
    "One way of splitting a time series is by using window() function, which extracts a subset from the object x observed between the times start and end.\n",
    "\n",
    "`> window(x, start = NULL, end = NULL)\n",
    "In this exercise, you will load the fpp2 package and use two of its datsets:`\n",
    "\n",
    "a10 contains monthly sales volumes for anti-diabetic drugs in Australia. In the plots, can you see which month has the highest sales volume each year? What is unusual about the results in March and April 2008?\n",
    "ausbeer which contains quarterly beer production for Australia. What is happening to the beer production in Quarter 4?\n",
    "These examples will help you to visualize these plots and understand how they can be useful.\n",
    "\n",
    "Instructions \n",
    "\n",
    " - Use library() to load the fpp2 package.\n",
    " - Use autoplot() and ggseasonplot() to produce plots of the a10 data.\n",
    " - Use the ggseasonplot() function and its polar argument to produce a polar coordinate plot for the a10 data.\n",
    " - Use the window() function to consider only the ausbeer data starting from 1992.\n",
    " - Finally, use autoplot() and ggsubseriesplot() to produce plots of the beer series."
   ]
  },
  {
   "cell_type": "code",
   "execution_count": null,
   "metadata": {
    "collapsed": true
   },
   "outputs": [],
   "source": [
    "# Load the fpp2 package\n",
    "library(fpp2)\n",
    "\n",
    "# Create plots of the a10 data\n",
    "autoplot(a10)\n",
    "ggseasonplot(a10)\n",
    "\n",
    "# Produce a polar coordinate season plot for the a10 data\n",
    "ggseasonplot(a10, polar = TRUE)\n",
    "\n",
    "# Restrict the ausbeer data to start in 1992\n",
    "beer <- window(ausbeer, start=1992)\n",
    "\n",
    "# Make plots of the beer data\n",
    "autoplot(beer)\n",
    "ggsubseriesplot(beer)"
   ]
  },
  {
   "cell_type": "code",
   "execution_count": null,
   "metadata": {
    "collapsed": true
   },
   "outputs": [],
   "source": []
  }
 ],
 "metadata": {
  "kernelspec": {
   "display_name": "R",
   "language": "R",
   "name": "ir"
  },
  "language_info": {
   "codemirror_mode": "r",
   "file_extension": ".r",
   "mimetype": "text/x-r-source",
   "name": "R",
   "pygments_lexer": "r",
   "version": "3.3.2"
  }
 },
 "nbformat": 4,
 "nbformat_minor": 1
}
