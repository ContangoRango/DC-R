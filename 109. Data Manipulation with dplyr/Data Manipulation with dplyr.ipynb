{
 "cells": [
  {
   "cell_type": "raw",
   "metadata": {},
   "source": [
    "Load the dplyr and hflights package\n",
    "100xp\n",
    "Welcome to the interactive exercises part of your dplyr course. Here you will learn the ins and outs of working with dplyr. dplyr is an R package, a collection of functions and data sets that enhance the R language.\n",
    "\n",
    "Throughout this course you will use dplyr to analyze a data set of airline flight data containing flights that departed from Houston. This data is stored in a package called hflights.\n",
    "\n",
    "Both dplyr and hflights are already installed on DataCamp's servers, so loading them with library() will get you up and running.\n",
    "\n",
    "Instructions\n",
    "Load the dplyr package.\n",
    "Load the hflights package. A variable called hflights will become available, a data.frame representing the data set.\n",
    "Use both head() and summary() on the hflights data frame to get to know the data. Can you guess the meaning of all variables?"
   ]
  },
  {
   "cell_type": "code",
   "execution_count": 1,
   "metadata": {
    "collapsed": false
   },
   "outputs": [
    {
     "name": "stderr",
     "output_type": "stream",
     "text": [
      "\n",
      "Attaching package: 'dplyr'\n",
      "\n",
      "The following objects are masked from 'package:stats':\n",
      "\n",
      "    filter, lag\n",
      "\n",
      "The following objects are masked from 'package:base':\n",
      "\n",
      "    intersect, setdiff, setequal, union\n",
      "\n"
     ]
    },
    {
     "ename": "ERROR",
     "evalue": "Error in library(hflights): there is no package called 'hflights'\n",
     "output_type": "error",
     "traceback": [
      "Error in library(hflights): there is no package called 'hflights'\nTraceback:\n",
      "1. library(hflights)",
      "2. stop(txt, domain = NA)"
     ]
    }
   ],
   "source": [
    "# Load the dplyr package\n",
    "library(dplyr)\n",
    "\n",
    "# Load the hflights package\n",
    "library(hflights)\n",
    "\n",
    "\n",
    "# Call both head() and summary() on hflights\n",
    "head(hflights)\n",
    "summary(hflights)"
   ]
  },
  {
   "cell_type": "code",
   "execution_count": null,
   "metadata": {
    "collapsed": true
   },
   "outputs": [],
   "source": []
  }
 ],
 "metadata": {
  "anaconda-cloud": {},
  "kernelspec": {
   "display_name": "R",
   "language": "R",
   "name": "ir"
  },
  "language_info": {
   "codemirror_mode": "r",
   "file_extension": ".r",
   "mimetype": "text/x-r-source",
   "name": "R",
   "pygments_lexer": "r",
   "version": "3.3.2"
  }
 },
 "nbformat": 4,
 "nbformat_minor": 1
}
