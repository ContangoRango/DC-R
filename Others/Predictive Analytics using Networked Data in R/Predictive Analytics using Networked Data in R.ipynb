{
 "cells": [
  {
   "cell_type": "code",
   "execution_count": 2,
   "metadata": {},
   "outputs": [
    {
     "name": "stderr",
     "output_type": "stream",
     "text": [
      "also installing the dependency 'irlba'\n",
      "\n"
     ]
    },
    {
     "name": "stdout",
     "output_type": "stream",
     "text": [
      "package 'irlba' successfully unpacked and MD5 sums checked\n",
      "package 'igraph' successfully unpacked and MD5 sums checked\n",
      "\n",
      "The downloaded binary packages are in\n",
      "\tC:\\Users\\Lenovo\\AppData\\Local\\Temp\\RtmpgN0cJf\\downloaded_packages\n"
     ]
    }
   ],
   "source": [
    "#install.packages(\"igraph\")"
   ]
  },
  {
   "cell_type": "code",
   "execution_count": 4,
   "metadata": {},
   "outputs": [],
   "source": [
    "library(igraph)"
   ]
  },
  {
   "cell_type": "code",
   "execution_count": 5,
   "metadata": {},
   "outputs": [
    {
     "data": {
      "text/html": [
       "'C:/Users/Lenovo/Documents/GitHub/DC-R/Others/Predictive Analytics using Networked Data in R'"
      ],
      "text/latex": [
       "'C:/Users/Lenovo/Documents/GitHub/DC-R/Others/Predictive Analytics using Networked Data in R'"
      ],
      "text/markdown": [
       "'C:/Users/Lenovo/Documents/GitHub/DC-R/Others/Predictive Analytics using Networked Data in R'"
      ],
      "text/plain": [
       "[1] \"C:/Users/Lenovo/Documents/GitHub/DC-R/Others/Predictive Analytics using Networked Data in R\""
      ]
     },
     "metadata": {},
     "output_type": "display_data"
    }
   ],
   "source": [
    "getwd()"
   ]
  },
  {
   "cell_type": "markdown",
   "metadata": {},
   "source": [
    "## Course Description\n",
    "In this course, you will learn to perform predictive analytics using networked data in R. It is a useful application of analytics when the nodes in a network can belong to one of two classes, such as male or female. In that case, the information in the network and its underlying structure can be used to infer to which class the unknown nodes belong. Here, you will predict churn of customers in a network. You will use the igraph package to generate and label a network of customers and learn about the foundations of network learning. Then, you will study homophily and how it can be measured in the network. Next, you will use the functionality of the igraph package to compute various network features, or attributes, both node-centric and by taking into account feature values of neighboring nodes. Furthermore, you will use the PageRank algorithm to compute features. Finally, you will generate a flat dataset from the network to which you can apply supervised learning techniques to predict customer churn."
   ]
  },
  {
   "cell_type": "markdown",
   "metadata": {},
   "source": [
    "# 1. Introduction, networks and labelled networks"
   ]
  },
  {
   "cell_type": "markdown",
   "metadata": {},
   "source": [
    "In this chapter you will be introduced to labelled networks, network learning and the challanges that can arise."
   ]
  },
  {
   "cell_type": "markdown",
   "metadata": {},
   "source": [
    "## Introduction - Video"
   ]
  },
  {
   "cell_type": "code",
   "execution_count": 8,
   "metadata": {},
   "outputs": [
    {
     "ename": "ERROR",
     "evalue": "Error in parse(text = x, srcfile = src): <text>:1:2: unexpected '['\n1: ![\n     ^\n",
     "output_type": "error",
     "traceback": [
      "Error in parse(text = x, srcfile = src): <text>:1:2: unexpected '['\n1: ![\n     ^\nTraceback:\n"
     ]
    }
   ],
   "source": [
    "![title](test1.jpg)"
   ]
  },
  {
   "cell_type": "code",
   "execution_count": 7,
   "metadata": {},
   "outputs": [
    {
     "data": {
      "text/html": [
       "<ol class=list-inline>\n",
       "\t<li>'chapter1.pdf'</li>\n",
       "\t<li>'Predictive Analytics using Networked Data in R.ipynb'</li>\n",
       "\t<li>'StudentCustomers.RData'</li>\n",
       "\t<li>'StudentEdgelist.RData'</li>\n",
       "\t<li>'StudentNetwork.RData'</li>\n",
       "\t<li>'test1.jpg'</li>\n",
       "</ol>\n"
      ],
      "text/latex": [
       "\\begin{enumerate*}\n",
       "\\item 'chapter1.pdf'\n",
       "\\item 'Predictive Analytics using Networked Data in R.ipynb'\n",
       "\\item 'StudentCustomers.RData'\n",
       "\\item 'StudentEdgelist.RData'\n",
       "\\item 'StudentNetwork.RData'\n",
       "\\item 'test1.jpg'\n",
       "\\end{enumerate*}\n"
      ],
      "text/markdown": [
       "1. 'chapter1.pdf'\n",
       "2. 'Predictive Analytics using Networked Data in R.ipynb'\n",
       "3. 'StudentCustomers.RData'\n",
       "4. 'StudentEdgelist.RData'\n",
       "5. 'StudentNetwork.RData'\n",
       "6. 'test1.jpg'\n",
       "\n",
       "\n"
      ],
      "text/plain": [
       "[1] \"chapter1.pdf\"                                        \n",
       "[2] \"Predictive Analytics using Networked Data in R.ipynb\"\n",
       "[3] \"StudentCustomers.RData\"                              \n",
       "[4] \"StudentEdgelist.RData\"                               \n",
       "[5] \"StudentNetwork.RData\"                                \n",
       "[6] \"test1.jpg\"                                           "
      ]
     },
     "metadata": {},
     "output_type": "display_data"
    }
   ],
   "source": [
    "list.files()"
   ]
  },
  {
   "cell_type": "code",
   "execution_count": 9,
   "metadata": {},
   "outputs": [
    {
     "ename": "ERROR",
     "evalue": "Error in parse(text = x, srcfile = src): <text>:1:6: unexpected symbol\n1: from IPython.display\n         ^\n",
     "output_type": "error",
     "traceback": [
      "Error in parse(text = x, srcfile = src): <text>:1:6: unexpected symbol\n1: from IPython.display\n         ^\nTraceback:\n"
     ]
    }
   ],
   "source": [
    "from IPython.display import Image\n",
    "from IPython.core.display import HTML \n",
    "Image(url= \"test1.jpg\")"
   ]
  },
  {
   "cell_type": "code",
   "execution_count": null,
   "metadata": {},
   "outputs": [],
   "source": []
  }
 ],
 "metadata": {
  "kernelspec": {
   "display_name": "R",
   "language": "R",
   "name": "ir"
  }
 },
 "nbformat": 4,
 "nbformat_minor": 2
}
