{
 "cells": [
  {
   "cell_type": "markdown",
   "metadata": {},
   "source": [
    "# Cluster Analysis in R"
   ]
  },
  {
   "cell_type": "markdown",
   "metadata": {},
   "source": [
    "### Course Description\n",
    "Cluster analysis is a powerful toolkit in the data science workbench. It is used to find groups of observations (clusters) that share similar characteristics. These similarities can inform all kinds of business decisions; for example, in marketing, it is used to identify distinct groups of customers for which advertisements can be tailored. In this course, you will learn about two commonly used clustering methods - hierarchical clustering and k-means clustering. You won't just learn how to use these methods, you'll build a strong intuition for how they work and how to interpret their results. You'll develop this intuition by exploring three different datasets: soccer player positions, wholesale customer spending data, and longitudinal occupational wage data."
   ]
  },
  {
   "cell_type": "markdown",
   "metadata": {},
   "source": [
    "1. Calculating distance between observations\n",
    "2. Hierarchical clustering\n",
    "3. K-means clustering\n",
    "4. Case Study: National Occupational mean wage"
   ]
  },
  {
   "cell_type": "code",
   "execution_count": 3,
   "metadata": {
    "collapsed": false
   },
   "outputs": [],
   "source": [
    "# This sets plot images to a nice size.\n",
    "options(repr.plot.width = 4, repr.plot.height = 4)\n",
    "\n",
    "# Loading in the ggplot2 package\n",
    "library(dplyr)\n",
    "library(ggplot2)"
   ]
  },
  {
   "cell_type": "code",
   "execution_count": 2,
   "metadata": {
    "collapsed": true
   },
   "outputs": [],
   "source": [
    "#install.packages('dummies', repos='http://cran.us.r-project.org')\n",
    "#install.packages('dendextend', repos='http://cran.us.r-project.org')"
   ]
  },
  {
   "cell_type": "code",
   "execution_count": 5,
   "metadata": {
    "collapsed": false
   },
   "outputs": [],
   "source": [
    "library(dummies)\n",
    "library(dendextend)"
   ]
  },
  {
   "cell_type": "markdown",
   "metadata": {},
   "source": [
    "# 1. Calculating distance between observations\n",
    "\n",
    "Cluster analysis seeks to find groups of observations that are similar to one another, but the identified groups are different from each other. This similarity/difference is captured by the metric called distance. In this chapter, you will learn how to calculate the distance between observations for both continuous and categorical features. You will also develop an intuition for how the scales of your features can affect distance."
   ]
  },
  {
   "cell_type": "markdown",
   "metadata": {},
   "source": [
    "## What is cluster analysis? - Video"
   ]
  },
  {
   "cell_type": "markdown",
   "metadata": {},
   "source": [
    "When to cluster?\n",
    "In which of these scenarios would clustering methods likely be appropriate?\n",
    "\n",
    "1) Using consumer behavior data to identify distinct segments within a market.\n",
    "\n",
    "2) Predicting whether a given user will click on an ad.\n",
    "\n",
    "3) Identifying distinct groups stocks that follow similar trading patterns.\n",
    "\n",
    "4) Modeling & predicting GDP growth.\n",
    "\n",
    "ANSWER THE QUESTION\n",
    "\n",
    "Possible Answers\n",
    " - 1\n",
    " - 2\n",
    " - 4\n",
    " - 1 & 3 (Correct)\n",
    " - 2 & 4"
   ]
  },
  {
   "cell_type": "markdown",
   "metadata": {},
   "source": [
    "## Distance between two observations - Video"
   ]
  },
  {
   "cell_type": "markdown",
   "metadata": {},
   "source": [
    "### Calculate & plot the distance between two players\n",
    "You've obtained the coordinates relative to the center of the field for two players in a soccer match and would like to calculate the distance between them.\n",
    "\n",
    "In this exercise you will plot the positions of the 2 players and manually calculate the distance between them by using the euclidean distance formula\n",
    "\n",
    "INSTRUCTIONS\n",
    "\n",
    " - Plot their positions from the two_players dataframe using ggplot\n",
    " - Extract the positions of the players into two data frames player1 and player2\n",
    " - Calculate the distance between player1 and player2 by using the euclidean distance formula\n",
    " - (x1−x2)2+(y1−y2)2−−−−−−−−−−−−−−−−−−√"
   ]
  },
  {
   "cell_type": "code",
   "execution_count": 1,
   "metadata": {
    "collapsed": false
   },
   "outputs": [
    {
     "data": {
      "text/html": [
       "<table>\n",
       "<thead><tr><th scope=col>x</th><th scope=col>y</th></tr></thead>\n",
       "<tbody>\n",
       "\t<tr><td> 5</td><td> 4</td></tr>\n",
       "\t<tr><td>15</td><td>10</td></tr>\n",
       "</tbody>\n",
       "</table>\n"
      ],
      "text/latex": [
       "\\begin{tabular}{r|ll}\n",
       " x & y\\\\\n",
       "\\hline\n",
       "\t  5 &  4\\\\\n",
       "\t 15 & 10\\\\\n",
       "\\end{tabular}\n"
      ],
      "text/markdown": [
       "\n",
       "x | y | \n",
       "|---|---|\n",
       "|  5 |  4 | \n",
       "| 15 | 10 | \n",
       "\n",
       "\n"
      ],
      "text/plain": [
       "  x  y \n",
       "1  5  4\n",
       "2 15 10"
      ]
     },
     "metadata": {},
     "output_type": "display_data"
    }
   ],
   "source": [
    "two_players = data.frame(x=c(5, 15),y=c(4, 10))\n",
    "two_players"
   ]
  },
  {
   "cell_type": "code",
   "execution_count": 9,
   "metadata": {
    "collapsed": false
   },
   "outputs": [
    {
     "data": {},
     "metadata": {},
     "output_type": "display_data"
    },
    {
     "data": {
      "text/html": [
       "11.6619037896906"
      ],
      "text/latex": [
       "11.6619037896906"
      ],
      "text/markdown": [
       "11.6619037896906"
      ],
      "text/plain": [
       "[1] 11.6619"
      ]
     },
     "metadata": {},
     "output_type": "display_data"
    },
    {
     "data": {
      "image/png": "[encoded data removed]",
      "text/plain": [
       "plot without title"
      ]
     },
     "metadata": {},
     "output_type": "display_data"
    }
   ],
   "source": [
    "# Plot the positions of the players\n",
    "ggplot(two_players, aes(x = x, y = y)) + \n",
    "  geom_point() +\n",
    "  # Assuming a 40x60 field\n",
    "  lims(x = c(-30,30), y = c(-20, 20))\n",
    "\n",
    "# Split the players data frame into two observations\n",
    "player1 <- two_players[1,]\n",
    "player2 <- two_players[2,]\n",
    "\n",
    "# Calculate and print their distance using the Euclidean Distance formula\n",
    "player_distance <- sqrt( (player1$x - player2$x)^2 + (player1$y - player2$y)^2 )\n",
    "player_distance"
   ]
  },
  {
   "cell_type": "markdown",
   "metadata": {},
   "source": [
    "### Using the dist() function\n",
    "Using the euclidean formula manually may be practical for 2 observations but can get more complicated rather quickly when measuring the distance between many observations.\n",
    "\n",
    "The dist() function simplifies this process by calculating distances between our observations (rows) using their features (columns). In this case the observations are the player positions and the dimensions are their x and y coordinates.\n",
    "\n",
    "Note: The default distance calculation for the dist() function is euclidean distance\n",
    "\n",
    "INSTRUCTIONS\n",
    "\n",
    " - Calculate the distance between two players using the dist() function for the dataframe two_players\n",
    " - Calculate the distance between three players for the dataframe three_players"
   ]
  },
  {
   "cell_type": "code",
   "execution_count": 11,
   "metadata": {
    "collapsed": true
   },
   "outputs": [],
   "source": [
    "three_players = data.frame(x = c(5, 15, 0), y = c(4, 10, 20))"
   ]
  },
  {
   "cell_type": "code",
   "execution_count": 12,
   "metadata": {
    "collapsed": false
   },
   "outputs": [
    {
     "data": {
      "text/plain": [
       "        1\n",
       "2 11.6619"
      ]
     },
     "metadata": {},
     "output_type": "display_data"
    },
    {
     "data": {
      "text/plain": [
       "         1        2\n",
       "2 11.66190         \n",
       "3 16.76305 18.02776"
      ]
     },
     "metadata": {},
     "output_type": "display_data"
    }
   ],
   "source": [
    "# Calculate the Distance Between two_players\n",
    "dist_two_players <- dist(two_players)\n",
    "dist_two_players\n",
    "\n",
    "# Calculate the Distance Between three_players\n",
    "dist_three_players <- dist(three_players)\n",
    "dist_three_players"
   ]
  },
  {
   "cell_type": "markdown",
   "metadata": {},
   "source": [
    "### Who are the closest players?\n",
    "You are given the data frame containing the positions of 4 players on a soccer field.\n",
    "\n",
    "This data is preloaded as four_players in your environment and is displayed below.\n",
    "\n",
    "Player\tx\ty\n",
    "1\t5\t4\n",
    "2\t15\t10\n",
    "3\t0\t20\n",
    "4\t-5\t5\n",
    "\n",
    "\n",
    "Work in the R console to answer the following question:\n",
    "\n",
    "Which two players are closest to one another?\n",
    "\n",
    "INSTRUCTIONS\n",
    "\n",
    "Possible Answers\n",
    " - 1 & 2\n",
    " - press 1\n",
    " - 1 & 3\n",
    " - press 2\n",
    " - 1 & 4 (Correct)\n",
    " - press 3\n",
    " - 2 & 3\n",
    " - press 4\n",
    " - 2 & 4\n",
    " - press 5\n",
    " - 3 & 4\n",
    " - press 6\n",
    " - Not enough information to decide\n",
    " - press 7\n"
   ]
  },
  {
   "cell_type": "markdown",
   "metadata": {},
   "source": [
    "## The importance of scale - Video"
   ]
  },
  {
   "cell_type": "markdown",
   "metadata": {},
   "source": [
    "### Effects of scale\n",
    "You have learned that when a variable is on a larger scale than other variables in your data it may disproportionately influence the resulting distance calculated between your observations. Lets see this in action by observing a sample of data from the trees data set.\n",
    "\n",
    "You will leverage the scale() function which by default centers & scales our column features.\n",
    "\n",
    "Our variables are the following:\n",
    "\n",
    " - Girth - tree diameter in inches\n",
    " - Height - tree height in inches\n",
    "\n",
    "INSTRUCTIONS\n",
    "\n",
    " - Calculate the distance matrix for the dataframe three_trees and store it as dist_trees\n",
    " - Create a new variable scaled_three_trees where the three_trees data is centered & scaled\n",
    " - Calculate and print the distance matrix for scaled_three_trees and store this as dist_scaled_trees\n",
    " - Output both dist_trees and dist_scaled_trees matrices and observe the change of which observations have the smallest distance between the two matrices (hint: they have changed)"
   ]
  },
  {
   "cell_type": "code",
   "execution_count": 16,
   "metadata": {
    "collapsed": false
   },
   "outputs": [
    {
     "data": {
      "text/html": [
       "<table>\n",
       "<thead><tr><th scope=col>Girth</th><th scope=col>Height</th></tr></thead>\n",
       "<tbody>\n",
       "\t<tr><td> 8.3</td><td>840 </td></tr>\n",
       "\t<tr><td> 8.6</td><td>780 </td></tr>\n",
       "\t<tr><td>10.5</td><td>864 </td></tr>\n",
       "</tbody>\n",
       "</table>\n"
      ],
      "text/latex": [
       "\\begin{tabular}{r|ll}\n",
       " Girth & Height\\\\\n",
       "\\hline\n",
       "\t  8.3 & 840 \\\\\n",
       "\t  8.6 & 780 \\\\\n",
       "\t 10.5 & 864 \\\\\n",
       "\\end{tabular}\n"
      ],
      "text/markdown": [
       "\n",
       "Girth | Height | \n",
       "|---|---|---|\n",
       "|  8.3 | 840  | \n",
       "|  8.6 | 780  | \n",
       "| 10.5 | 864  | \n",
       "\n",
       "\n"
      ],
      "text/plain": [
       "  Girth Height\n",
       "1  8.3  840   \n",
       "2  8.6  780   \n",
       "3 10.5  864   "
      ]
     },
     "metadata": {},
     "output_type": "display_data"
    }
   ],
   "source": [
    "three_trees = data.frame(Girth = c(8.3, 8.6, 10.5), Height = c(840, 780, 864))\n",
    "three_trees"
   ]
  },
  {
   "cell_type": "code",
   "execution_count": 17,
   "metadata": {
    "collapsed": false
   },
   "outputs": [
    {
     "name": "stdout",
     "output_type": "stream",
     "text": [
      "[1] \"Without Scaling\"\n"
     ]
    },
    {
     "data": {
      "text/plain": [
       "         1        2\n",
       "2 60.00075         \n",
       "3 24.10062 84.02149"
      ]
     },
     "metadata": {},
     "output_type": "display_data"
    },
    {
     "name": "stdout",
     "output_type": "stream",
     "text": [
      "[1] \"With Scaling\"\n"
     ]
    },
    {
     "data": {
      "text/plain": [
       "         1        2\n",
       "2 1.409365         \n",
       "3 1.925659 2.511082"
      ]
     },
     "metadata": {},
     "output_type": "display_data"
    }
   ],
   "source": [
    "# Calculate distance for three_trees \n",
    "dist_trees <- dist(three_trees)\n",
    "\n",
    "# Scale three trees & calculate the distance  \n",
    "scaled_three_trees <- scale(three_trees)\n",
    "dist_scaled_trees <- dist(scaled_three_trees)\n",
    "\n",
    "# Output the results of both Matrices\n",
    "print('Without Scaling')\n",
    "dist_trees\n",
    "\n",
    "print('With Scaling')\n",
    "dist_scaled_trees"
   ]
  },
  {
   "cell_type": "markdown",
   "metadata": {},
   "source": [
    "Notice that before scaling observations 1 & 3 were the closest but after scaling observations 1 & 2 turn out to have the smallest distance."
   ]
  },
  {
   "cell_type": "markdown",
   "metadata": {},
   "source": [
    "### When to scale data?\n",
    "Below are examples of datasets and their corresponding features.\n",
    "\n",
    "In which of these examples would scaling not be necessary?\n",
    "\n",
    "ANSWER THE QUESTION\n",
    "\n",
    "Possible Answers\n",
    " - `Taxi Trips - tip earned ($), distance traveled (km)`\n",
    " - press 1\n",
    " - `Health Measurements of Individuals - height (meters), weight (grams), body fat percentage (%)`\n",
    " - press 2\n",
    " - `Student Attributes - average test score (1-100), distance from school (km), annual household income ($)`\n",
    " - press 3\n",
    " - `Salespeople Commissions - total yearly commision ($), number of trips taken`\n",
    " - press 4\n",
    " - `None of the above, they all should be scaled when measuring distance.`\n",
    " - press 5"
   ]
  },
  {
   "cell_type": "markdown",
   "metadata": {},
   "source": [
    "## Measuring distance for categorical data - Video"
   ]
  },
  {
   "cell_type": "markdown",
   "metadata": {},
   "source": [
    "Calculating distance between categorical variables\n",
    "In this exercise you will explore how to calculate binary (Jaccard) distances. In order to calculate distances will first have to dummify our categories using the dummy.data.frame() from the library dummies\n",
    "\n",
    "You will use a small collection of survey observations stored in the data frame job_survey with the following columns:\n",
    "\n",
    " - job_satisfaction Possible options: \"Hi\", \"Mid\", \"Low\"\n",
    " - is_happy Possible options: \"Yes\", \"No\"\n",
    "\n",
    "INSTRUCTIONS\n",
    "\n",
    " - Create a dummified dataframe dummy_survey\n",
    " - Generate a Jaccard distance matrix for the dummified survey data dist_survey using the dist() function using the parameter method = 'binary'\n",
    " - Print the original data and the distance matrix\n",
    " - Note the observations with a distance of 0 in the original data (1, 2, and 4)"
   ]
  },
  {
   "cell_type": "code",
   "execution_count": 24,
   "metadata": {
    "collapsed": true
   },
   "outputs": [],
   "source": [
    "job_satisfaction = c(\"Low\", \"Low\", \"Hi\", \"Low\", \"Mid\")\n",
    "is_happy = c(\"No\", \"No\", \"Yes\", \"No\", \"No\")\n",
    "job_survey = data.frame(job_satisfaction=job_satisfaction,is_happy=is_happy)"
   ]
  },
  {
   "cell_type": "code",
   "execution_count": 25,
   "metadata": {
    "collapsed": false
   },
   "outputs": [
    {
     "data": {
      "text/html": [
       "<table>\n",
       "<thead><tr><th scope=col>job_satisfaction</th><th scope=col>is_happy</th></tr></thead>\n",
       "<tbody>\n",
       "\t<tr><td>Low</td><td>No </td></tr>\n",
       "\t<tr><td>Low</td><td>No </td></tr>\n",
       "\t<tr><td>Hi </td><td>Yes</td></tr>\n",
       "\t<tr><td>Low</td><td>No </td></tr>\n",
       "\t<tr><td>Mid</td><td>No </td></tr>\n",
       "</tbody>\n",
       "</table>\n"
      ],
      "text/latex": [
       "\\begin{tabular}{r|ll}\n",
       " job\\_satisfaction & is\\_happy\\\\\n",
       "\\hline\n",
       "\t Low & No \\\\\n",
       "\t Low & No \\\\\n",
       "\t Hi  & Yes\\\\\n",
       "\t Low & No \\\\\n",
       "\t Mid & No \\\\\n",
       "\\end{tabular}\n"
      ],
      "text/markdown": [
       "\n",
       "job_satisfaction | is_happy | \n",
       "|---|---|---|---|---|\n",
       "| Low | No  | \n",
       "| Low | No  | \n",
       "| Hi  | Yes | \n",
       "| Low | No  | \n",
       "| Mid | No  | \n",
       "\n",
       "\n"
      ],
      "text/plain": [
       "  job_satisfaction is_happy\n",
       "1 Low              No      \n",
       "2 Low              No      \n",
       "3 Hi               Yes     \n",
       "4 Low              No      \n",
       "5 Mid              No      "
      ]
     },
     "metadata": {},
     "output_type": "display_data"
    }
   ],
   "source": [
    "job_survey"
   ]
  },
  {
   "cell_type": "code",
   "execution_count": 21,
   "metadata": {
    "collapsed": false
   },
   "outputs": [
    {
     "name": "stderr",
     "output_type": "stream",
     "text": [
      "Installing package into 'C:/Users/Lenovo/Documents/R/win-library/3.3'\n",
      "(as 'lib' is unspecified)\n"
     ]
    },
    {
     "name": "stdout",
     "output_type": "stream",
     "text": [
      "package 'dummies' successfully unpacked and MD5 sums checked\n",
      "\n",
      "The downloaded binary packages are in\n",
      "\tC:\\Users\\Lenovo\\AppData\\Local\\Temp\\Rtmpacoiqq\\downloaded_packages\n"
     ]
    }
   ],
   "source": [
    "#install.packages('dummies', repos='http://cran.us.r-project.org')"
   ]
  },
  {
   "cell_type": "code",
   "execution_count": 22,
   "metadata": {
    "collapsed": false
   },
   "outputs": [
    {
     "name": "stderr",
     "output_type": "stream",
     "text": [
      "dummies-1.5.6 provided by Decision Patterns\n",
      "\n"
     ]
    }
   ],
   "source": [
    "library(dummies)"
   ]
  },
  {
   "cell_type": "code",
   "execution_count": 26,
   "metadata": {
    "collapsed": false
   },
   "outputs": [
    {
     "data": {
      "text/html": [
       "<table>\n",
       "<thead><tr><th scope=col>job_satisfaction</th><th scope=col>is_happy</th></tr></thead>\n",
       "<tbody>\n",
       "\t<tr><td>Low</td><td>No </td></tr>\n",
       "\t<tr><td>Low</td><td>No </td></tr>\n",
       "\t<tr><td>Hi </td><td>Yes</td></tr>\n",
       "\t<tr><td>Low</td><td>No </td></tr>\n",
       "\t<tr><td>Mid</td><td>No </td></tr>\n",
       "</tbody>\n",
       "</table>\n"
      ],
      "text/latex": [
       "\\begin{tabular}{r|ll}\n",
       " job\\_satisfaction & is\\_happy\\\\\n",
       "\\hline\n",
       "\t Low & No \\\\\n",
       "\t Low & No \\\\\n",
       "\t Hi  & Yes\\\\\n",
       "\t Low & No \\\\\n",
       "\t Mid & No \\\\\n",
       "\\end{tabular}\n"
      ],
      "text/markdown": [
       "\n",
       "job_satisfaction | is_happy | \n",
       "|---|---|---|---|---|\n",
       "| Low | No  | \n",
       "| Low | No  | \n",
       "| Hi  | Yes | \n",
       "| Low | No  | \n",
       "| Mid | No  | \n",
       "\n",
       "\n"
      ],
      "text/plain": [
       "  job_satisfaction is_happy\n",
       "1 Low              No      \n",
       "2 Low              No      \n",
       "3 Hi               Yes     \n",
       "4 Low              No      \n",
       "5 Mid              No      "
      ]
     },
     "metadata": {},
     "output_type": "display_data"
    },
    {
     "data": {
      "text/plain": [
       "          1         2         3         4\n",
       "2 0.0000000                              \n",
       "3 1.0000000 1.0000000                    \n",
       "4 0.0000000 0.0000000 1.0000000          \n",
       "5 0.6666667 0.6666667 1.0000000 0.6666667"
      ]
     },
     "metadata": {},
     "output_type": "display_data"
    }
   ],
   "source": [
    "# Dummify the Survey Data\n",
    "dummy_survey <- dummy.data.frame(job_survey)\n",
    "\n",
    "# Calculate the Distance\n",
    "dist_survey <- dist(dummy_survey, method=\"binary\")\n",
    "\n",
    "# Print the Original Data\n",
    "job_survey\n",
    "\n",
    "# Print the Distance Matrix\n",
    "dist_survey"
   ]
  },
  {
   "cell_type": "markdown",
   "metadata": {},
   "source": [
    "Notice that this distance metric successfully captured that observations 1 and 2 are identical (distance of 0)"
   ]
  },
  {
   "cell_type": "markdown",
   "metadata": {},
   "source": [
    "### The closest observation to a pair\n",
    "Below you see a pre-calculated distance matrix between four players on a soccer field. You can clearly see that players 1 & 4 are the closest to one another with a euclidean distance value of 10.\n",
    "\n",
    "`1\t2\t3\n",
    "2\t11.7\t\t\n",
    "3\t16.8\t18.0\t\n",
    "4\t10.0\t20.6\t15.8`\n",
    "\n",
    "If 1 and 4 are the closest players among the four, which player is closest to players 1 and 4?\n",
    "\n",
    "ANSWER THE QUESTION\n",
    "\n",
    " - Possible Answers\n",
    " - Clearly its player 2!\n",
    " - press 1\n",
    " - No! Player 3 makes more sense.\n",
    " - press 2\n",
    " - Are you kidding me? There isn't enough information to decide. (Correct)\n",
    " - press 3\n"
   ]
  },
  {
   "cell_type": "markdown",
   "metadata": {},
   "source": [
    "We clearly don't have enough information to make this decision without knowing how we compare one observation to a pair of observations. "
   ]
  },
  {
   "cell_type": "markdown",
   "metadata": {},
   "source": [
    "## 2. Hierarchical clustering\n",
    "\n",
    "This chapter will help you answer the last question from chapter 1 - how do you find groups of similar observations (clusters) in your data using the distances that you have calculated? You will learn about the fundamental principles of hierarchical clustering - the linkage criteria and the dendrogram plot - and how both are used to build clusters. You will also explore data from a wholesale distributor in order to perform market segmentation of clients using their spending habits."
   ]
  },
  {
   "cell_type": "markdown",
   "metadata": {},
   "source": [
    "## Comparing more than two observations - Video"
   ]
  },
  {
   "cell_type": "markdown",
   "metadata": {},
   "source": [
    "### Calculating linkage\n",
    "Let us revisit the example with three players on a field. The distance matrix between these three players is shown below and is available as the variable dist_players.\n",
    "\n",
    "From this we can tell that the first group that forms is between players 1 & 2, since they are the are the closest to one another with a euclidean distance value of 11.\n",
    "\n",
    "Now you want to apply the three linkage methods you have learned to determine what the distance of this group is to player 3.\n",
    "\n",
    "1\t2\n",
    "2\t11\t\n",
    "3\t16\t18\n",
    "INSTRUCTIONS\n",
    "\n",
    " - Extract the distance values between all three pairs of players into individual variables\n",
    " - Calculate the distance from player 3 to the group of players 1 & 2 using the following three linkage methods\n",
    " - Complete: the resulting distance is based on the maximum\n",
    " - Single: the resulting distance is based on the minimum\n",
    " - Average: the resulting distance is based on the average"
   ]
  },
  {
   "cell_type": "code",
   "execution_count": 28,
   "metadata": {
    "collapsed": true
   },
   "outputs": [],
   "source": [
    "dist_players = structure(c(11.6619037896906, 16.7630546142402, 18.0277563773199\n",
    "), Size = 3L, Diag = FALSE, Upper = FALSE, method = \"euclidean\", call = dist(x = three_players), class = \"dist\")"
   ]
  },
  {
   "cell_type": "code",
   "execution_count": 30,
   "metadata": {
    "collapsed": false
   },
   "outputs": [
    {
     "data": {
      "text/html": [
       "18.0277563773199"
      ],
      "text/latex": [
       "18.0277563773199"
      ],
      "text/markdown": [
       "18.0277563773199"
      ],
      "text/plain": [
       "[1] 18.02776"
      ]
     },
     "metadata": {},
     "output_type": "display_data"
    },
    {
     "data": {
      "text/html": [
       "16.7630546142402"
      ],
      "text/latex": [
       "16.7630546142402"
      ],
      "text/markdown": [
       "16.7630546142402"
      ],
      "text/plain": [
       "[1] 16.76305"
      ]
     },
     "metadata": {},
     "output_type": "display_data"
    },
    {
     "data": {
      "text/html": [
       "17.3954054957801"
      ],
      "text/latex": [
       "17.3954054957801"
      ],
      "text/markdown": [
       "17.3954054957801"
      ],
      "text/plain": [
       "[1] 17.39541"
      ]
     },
     "metadata": {},
     "output_type": "display_data"
    }
   ],
   "source": [
    "# Extract the pair distances\n",
    "distance_1_2 <- dist_players[1]\n",
    "distance_1_3 <- dist_players[2]\n",
    "distance_2_3 <- dist_players[3]\n",
    "\n",
    "# Calculate the complete distance between group 1-2 and 3\n",
    "max(c(distance_1_3, distance_2_3))\n",
    "\n",
    "# Calculate the single distance between group 1-2 and 3\n",
    "min(c(distance_1_3, distance_2_3))\n",
    "\n",
    "# Calculate the average distance between group 1-2 and 3\n",
    "mean(c(distance_1_3, distance_2_3))"
   ]
  },
  {
   "cell_type": "markdown",
   "metadata": {},
   "source": [
    "Now you have all the knowledge you need to tackle exercise 12 from chapter 1."
   ]
  },
  {
   "cell_type": "markdown",
   "metadata": {},
   "source": [
    "### Revisited: The closest observation to a pair\n",
    "You are now ready to answer this question!\n",
    "\n",
    "Below you see a pre-calculated distance matrix between four players on a soccer field. You can clearly see that players 1 & 4 are the closest to one another with a euclidean distance value of 10. This distance matrix is available for your exploration as the variable dist_players\n",
    "\n",
    "`1\t2\t3\n",
    "2\t11.7\t\t\n",
    "3\t16.8\t18.0\t\n",
    "4\t10.0\t20.6\t15.8`\n",
    "\n",
    "If 1 and 4 are the closest players among the four, which player is closest to players 1 and 4?\n",
    "\n",
    "INSTRUCTIONS\n",
    "\n",
    " - Possible Answers\n",
    " - Complete Linkage: Player 3, Single & Average Linkage: Player 2 (Correct)\n",
    " - press 1\n",
    " - Complete Linkage: Player 2, \n",
    " - Single & Average Linkage: Player 3\n",
    " - press 2\n",
    " - Player 2 using Complete, Single & Average Linkage methods\n",
    " - press 3\n",
    " - Player 3 using Complete, Single & Average Linkage methods\n",
    " - press 4"
   ]
  },
  {
   "cell_type": "markdown",
   "metadata": {},
   "source": [
    "four_players = structure(list(x = c(5, 15, 0, -5), y = c(4, 10, 20, 5)), .Names = c(\"x\", \n",
    "\"y\"), row.names = c(NA, -4L), class = \"data.frame\")"
   ]
  },
  {
   "cell_type": "markdown",
   "metadata": {},
   "source": [
    "    dist_players = dist(four_players)"
   ]
  },
  {
   "cell_type": "code",
   "execution_count": 38,
   "metadata": {
    "collapsed": false
   },
   "outputs": [
    {
     "data": {
      "image/png": "[encoded data removed]",
      "text/plain": [
       "Plot with title \"Cluster Dendrogram\""
      ]
     },
     "metadata": {},
     "output_type": "display_data"
    }
   ],
   "source": [
    "plot(hclust(dist_players, \"complete\"))"
   ]
  },
  {
   "cell_type": "code",
   "execution_count": 39,
   "metadata": {
    "collapsed": false
   },
   "outputs": [
    {
     "data": {
      "image/png": "[encoded data removed]",
      "text/plain": [
       "Plot with title \"Cluster Dendrogram\""
      ]
     },
     "metadata": {},
     "output_type": "display_data"
    }
   ],
   "source": [
    "plot(hclust(dist_players, \"single\"))"
   ]
  },
  {
   "cell_type": "code",
   "execution_count": 40,
   "metadata": {
    "collapsed": false
   },
   "outputs": [
    {
     "data": {
      "image/png": "[encoded data removed]",
      "text/plain": [
       "Plot with title \"Cluster Dendrogram\""
      ]
     },
     "metadata": {},
     "output_type": "display_data"
    }
   ],
   "source": [
    "plot(hclust(dist_players, \"average\"))"
   ]
  },
  {
   "cell_type": "markdown",
   "metadata": {},
   "source": [
    "## Capturing K clusters - Video"
   ]
  },
  {
   "cell_type": "markdown",
   "metadata": {},
   "source": [
    "### Assign cluster membership\n",
    "In this exercise you will leverage the hclust() function to calculate the iterative linkage steps and you will use the cutree() function to extract the cluster assignments for the desired number (k) of clusters.\n",
    "\n",
    "You are given the positions of 12 players at the start of a 6v6 soccer match. This is stored in the lineup dataframe.\n",
    "\n",
    "You know that this match has two teams (k = 2), let's use the clustering methods your learned to assign which team each player belongs in based on their position.\n",
    "\n",
    "Notes:\n",
    "\n",
    " - The linkage method can be passed via the method parameter: hclust(distance_matrix, method = \"complete\")\n",
    " - Remember that in soccer opposing teams start on their half of the field.\n",
    " - Because these positions are measured using the same scale we do not need to re-scale our data.\n",
    " - INSTRUCTIONS\n",
    " - 100XP\n",
    " - Calculate the euclidean distance matrix dist_players among all twelve players\n",
    " - Perform the complete linkage calculation for hierarchical clustring using hclust and store this as hc_players\n",
    " - Build the cluster assignment vector clusters_k2 using cutree() with a k = 2\n",
    " - Append the cluster assignments as a column cluster to the lineup data frame and save the results to a new dataframe called lineup_k2_complete"
   ]
  },
  {
   "cell_type": "code",
   "execution_count": 41,
   "metadata": {
    "collapsed": true
   },
   "outputs": [],
   "source": [
    "lineup = structure(list(x = c(-1, -2, 8, 7, -12, -15, -13, 15, 21, 12, \n",
    "-25, 26), y = c(1, -3, 6, -8, 8, 0, -10, 16, 2, -15, 1, 0)), .Names = c(\"x\", \n",
    "\"y\"), class = c(\"tbl_df\", \"tbl\", \"data.frame\"), row.names = c(NA, \n",
    "-12L))"
   ]
  },
  {
   "cell_type": "code",
   "execution_count": 42,
   "metadata": {
    "collapsed": true
   },
   "outputs": [],
   "source": [
    "# Calculate the Distance\n",
    "dist_players <- dist(lineup)\n",
    "\n",
    "# Perform the hierarchical clustering using the complete linkage\n",
    "hc_players <- hclust(dist_players, method=\"complete\")\n",
    "\n",
    "# Calculate the assignment vector with a k of 2\n",
    "clusters_k2 <- cutree(hc_players, k=2)\n",
    "\n",
    "# Create a new dataframe storing these results\n",
    "lineup_k2_complete <- mutate(lineup, cluster = clusters_k2)"
   ]
  },
  {
   "cell_type": "markdown",
   "metadata": {},
   "source": [
    "### Exploring the clusters\n",
    "Because clustering analysis is always in part qualitative, it is incredibly important to have the necessary tools to explore the results of the clustering.\n",
    "\n",
    "In this exercise you will explore that data frame you created in the previous exercise lineup_k2_complete.\n",
    "\n",
    "Reminder: The lineup_k2_complete dataframe contains the x & y positions of 12 players at the start of a 6v6 soccer game to which you have added clustering assignments based on the following parameters:\n",
    "\n",
    "Distance: Euclidean\n",
    "Number of Clusters (k): 2\n",
    "Linkage Method: Complete\n",
    "INSTRUCTIONS\n",
    "\n",
    " - Using count() from dplyr, count the number of players assigned to each cluster.\n",
    " - Using ggplot(), plot the positions of the players and color them by cluster assignment."
   ]
  },
  {
   "cell_type": "code",
   "execution_count": 43,
   "metadata": {
    "collapsed": false
   },
   "outputs": [
    {
     "data": {
      "text/html": [
       "<table>\n",
       "<thead><tr><th scope=col>cluster</th><th scope=col>n</th></tr></thead>\n",
       "<tbody>\n",
       "\t<tr><td>1</td><td>6</td></tr>\n",
       "\t<tr><td>2</td><td>6</td></tr>\n",
       "</tbody>\n",
       "</table>\n"
      ],
      "text/latex": [
       "\\begin{tabular}{r|ll}\n",
       " cluster & n\\\\\n",
       "\\hline\n",
       "\t 1 & 6\\\\\n",
       "\t 2 & 6\\\\\n",
       "\\end{tabular}\n"
      ],
      "text/markdown": [
       "\n",
       "cluster | n | \n",
       "|---|---|\n",
       "| 1 | 6 | \n",
       "| 2 | 6 | \n",
       "\n",
       "\n"
      ],
      "text/plain": [
       "  cluster n\n",
       "1 1       6\n",
       "2 2       6"
      ]
     },
     "metadata": {},
     "output_type": "display_data"
    },
    {
     "data": {},
     "metadata": {},
     "output_type": "display_data"
    },
    {
     "data": {
      "image/png": "[encoded data removed]",
      "text/plain": [
       "plot without title"
      ]
     },
     "metadata": {},
     "output_type": "display_data"
    }
   ],
   "source": [
    "# Count the cluster assignments\n",
    "count(lineup_k2_complete, cluster)\n",
    "\n",
    "# Plot the positions of the players and color them using their cluster\n",
    "ggplot(lineup_k2_complete, aes(x = x, y = y, color = factor(cluster))) +\n",
    "  geom_point()"
   ]
  },
  {
   "cell_type": "markdown",
   "metadata": {},
   "source": [
    "## Visualizing the Dendrogram - Video"
   ]
  },
  {
   "cell_type": "markdown",
   "metadata": {},
   "source": [
    "### Comparing average, single & complete linkage\n",
    "You are now ready to analyze the clustering results of the lineup dataset using the dendrogram plot. This will give you a new perspective on the effect the decision of the linkage method has on your resulting cluster analysis.\n",
    "\n",
    "INSTRUCTIONS\n",
    "100XP\n",
    " - Perform the linkage calculation for hierarchical clustring using the linkages: complete, single and average\n",
    " - Plot the three dendrograms side by side and review the changes"
   ]
  },
  {
   "cell_type": "code",
   "execution_count": 44,
   "metadata": {
    "collapsed": false
   },
   "outputs": [
    {
     "data": {
      "image/png": "[encoded data removed]",
      "text/plain": [
       "Plot with title \"Average Linkage\""
      ]
     },
     "metadata": {},
     "output_type": "display_data"
    }
   ],
   "source": [
    "# Prepare the Distance Matrix\n",
    "dist_players <- dist(lineup)\n",
    "\n",
    "# Generate hclust for complete, single & average linkage methods\n",
    "hc_complete <- hclust(dist_players, method=\"complete\")\n",
    "hc_single <- hclust(dist_players, method=\"single\")\n",
    "hc_average <- hclust(dist_players, method=\"average\")\n",
    "\n",
    "# Plot & Label the 3 Dendrograms Side-by-Side\n",
    "# Hint: To see these Side-by-Side run the 4 lines together as one command\n",
    "par(mfrow = c(1,3))\n",
    "plot(hc_complete, main = 'Complete Linkage')\n",
    "plot(hc_single, main = 'Single Linkage')\n",
    "plot(hc_average, main = 'Average Linkage')"
   ]
  },
  {
   "cell_type": "markdown",
   "metadata": {},
   "source": [
    "### Height of the tree\n",
    "An advantage of working with a clustering method like hierarchical clustering is that you can describe the relationships between your observations based on both the distance metric and the linkage metric selected (the combination of which defines the height of the tree).\n",
    "\n",
    "\n",
    "Based on the code below what can you concretely say about the height of a branch in the resulting dendrogram?\n",
    "\n",
    "`dist_players <- dist(lineup, method = 'euclidean')\n",
    "hc_players <- hclust(dist_players, method = 'single')\n",
    "plot(hc_players)`\n",
    "\n",
    "\n",
    "\n",
    "All of the observations linked by this branch must have:\n",
    "\n",
    "ANSWER THE QUESTION\n",
    "\n",
    " - Possible Answers\n",
    " - a maximum euclidean distance amongst each other less than or equal to the height of the branch.\n",
    " - press 1\n",
    " - a minimum Jaccard distance amongst each other less than or equal to the height of the branch.\n",
    " - press 2\n",
    " - a minimum euclidean distance amongst each other less than or equal to the height of the branch. (Correct)\n",
    " - press 3\n"
   ]
  },
  {
   "cell_type": "markdown",
   "metadata": {},
   "source": [
    " Based on this code we can concretely say that for a given branch on a tree all members that are a part of that branch must have a minimum euclidean distance amongst one another equal to or less than the height of that branch."
   ]
  },
  {
   "cell_type": "markdown",
   "metadata": {},
   "source": [
    "## Cutting the tree - Video"
   ]
  },
  {
   "cell_type": "markdown",
   "metadata": {},
   "source": [
    "### Clusters based on height\n",
    "In previous exercises you have grouped your observations into clusters using a pre-defined number of clusters (k). In this exercise you will leverage the visual representation of the dendrogram in order to group your observations into clusters using a maximum height (h), below which clusters form.\n",
    "\n",
    "You will work the color_branches() function from the dendextend library in order to visually inspect the clusters that form at any height along the dendrogram.\n",
    "\n",
    "The hc_players has been carried over from your previous work with the soccer line-up data.\n",
    "\n",
    "INSTRUCTIONS\n",
    "100XP\n",
    " - Create a denrogram object dend_players from your hclust result using the function as.dendrogram()\n",
    " - Plot the dendrogram\n",
    " - Using the color_branches() function create & plot a new dendrogram with clusters colored by a cut height of 20\n",
    " - Repeat the above step with a height of 40"
   ]
  },
  {
   "cell_type": "code",
   "execution_count": 47,
   "metadata": {
    "collapsed": true
   },
   "outputs": [],
   "source": [
    "library(dendextend)"
   ]
  },
  {
   "cell_type": "code",
   "execution_count": 48,
   "metadata": {
    "collapsed": false
   },
   "outputs": [
    {
     "data": {
      "image/png": "[encoded data removed]",
      "text/plain": [
       "plot without title"
      ]
     },
     "metadata": {},
     "output_type": "display_data"
    },
    {
     "data": {
      "image/png": "[encoded data removed]",
      "text/plain": [
       "plot without title"
      ]
     },
     "metadata": {},
     "output_type": "display_data"
    },
    {
     "data": {
      "image/png": "[encoded data removed]",
      "text/plain": [
       "plot without title"
      ]
     },
     "metadata": {},
     "output_type": "display_data"
    }
   ],
   "source": [
    "library(dendextend)\n",
    "dist_players <- dist(lineup, method = 'euclidean')\n",
    "hc_players <- hclust(dist_players, method = \"complete\")\n",
    "\n",
    "# Create a dendrogram object from the hclust variable\n",
    "dend_players <- as.dendrogram(hc_players)\n",
    "\n",
    "# Plot the dendrogram\n",
    "plot(dend_players)\n",
    "\n",
    "# Color brances by cluster formed from the cut at a height of 20 & plot\n",
    "dend_20 <- color_branches(dend_players, h = 20)\n",
    "\n",
    "# Plot the dendrogram with clusters colored below height 20\n",
    "plot(dend_20)\n",
    "\n",
    "# Color brances by cluster formed from the cut at a height of 40 & plot\n",
    "dend_40 <- color_branches(dend_players, h = 40)\n",
    "\n",
    "# Plot the dendrogram with clusters colored below height 40\n",
    "plot(dend_40)\n"
   ]
  },
  {
   "cell_type": "markdown",
   "metadata": {},
   "source": [
    "Can you see that the height that you use to cut the tree greatly influences the number of clusters and their size? Consider taking a moment to play with other values of height before continuing."
   ]
  },
  {
   "cell_type": "markdown",
   "metadata": {},
   "source": [
    "### Exploring the branches cut from the tree\n",
    "___\n",
    "The cutree() function you used in exercises 5 & 6 can also be used to cut a tree at a given height by using the h parameter. Take a moment to explore the clusters you have generated from the previous exercises based on the heights 20 & 40.\n",
    "\n",
    "INSTRUCTIONS\n",
    "\n",
    " - Build the cluster assignment vector clusters_h20 using cutree() with a h = 20\n",
    " - Append the cluster assignments as a column cluster to the lineup data frame and save the results to a new dataframe called lineup_h20_complete\n",
    " - Repeat the above two steps for a height of 40, generating the variables clusters_h40 and lineup_h40_complete\n",
    " - Use ggplot2 to create a scatter plot, colored by the cluster assignment for both heights"
   ]
  },
  {
   "cell_type": "code",
   "execution_count": 49,
   "metadata": {
    "collapsed": false
   },
   "outputs": [
    {
     "data": {},
     "metadata": {},
     "output_type": "display_data"
    },
    {
     "data": {},
     "metadata": {},
     "output_type": "display_data"
    },
    {
     "data": {
      "image/png": "[encoded data removed]",
      "text/plain": [
       "plot without title"
      ]
     },
     "metadata": {},
     "output_type": "display_data"
    },
    {
     "data": {
      "image/png": "[encoded data removed]",
      "text/plain": [
       "plot without title"
      ]
     },
     "metadata": {},
     "output_type": "display_data"
    }
   ],
   "source": [
    "dist_players <- dist(lineup, method = 'euclidean')\n",
    "hc_players <- hclust(dist_players, method = \"complete\")\n",
    "\n",
    "# Calculate the assignment vector with a h of 20\n",
    "clusters_h20 <- cutree(hc_players, h=20)\n",
    "\n",
    "# Create a new dataframe storing these results\n",
    "lineup_h20_complete <- mutate(lineup, cluster = clusters_h20)\n",
    "\n",
    "# Calculate the assignment vector with a h of 40\n",
    "clusters_h40 <- cutree(hc_players, h=40)\n",
    "\n",
    "# Create a new dataframe storing these results\n",
    "lineup_h40_complete <- mutate(lineup, cluster = clusters_h40)\n",
    "\n",
    "# Plot the positions of the players and color them using their cluster for height = 20\n",
    "ggplot(lineup_h20_complete, aes(x = x, y = y, color = factor(cluster))) +\n",
    "  geom_point()\n",
    "\n",
    "# Plot the positions of the players and color them using their cluster for height = 40\n",
    "ggplot(lineup_h40_complete, aes(x = x, y = y, color = factor(cluster))) +\n",
    "  geom_point()\n"
   ]
  },
  {
   "cell_type": "markdown",
   "metadata": {},
   "source": [
    "### What do we know about our clusters?\n",
    "___**\n",
    "Based on the code below, what can you concretely say about the relationships of the members within each cluster?\n",
    "\n",
    "`dist_players <- dist(lineup, method = 'euclidean')\n",
    "hc_players <- hclust(dist_players, method = 'complete')\n",
    "clusters <- cutree(hc_players = 40)`\n",
    "\n",
    "Every member belonging to a cluster must have:\n",
    "\n",
    "ANSWER THE QUESTION\n",
    "\n",
    "Possible Answers\n",
    " - a maximum euclidean distance to all other members of its cluster that is less than 40. (Correct)\n",
    " - press 1\n",
    " - a maximum euclidean distance to all other members of its cluster that is greater than or equal to 40.\n",
    " - press 2\n",
    " - a average euclidean distance to all other members of its cluster that is less than 40.\n",
    " - press 3"
   ]
  },
  {
   "cell_type": "markdown",
   "metadata": {},
   "source": [
    "### Segment wholesale customers\n",
    "You're now ready to use hierarchical clustering to perform market segmentation (i.e. use consumer characteristics to group them into subgroups).\n",
    "\n",
    "In this exercise you are provided with the amount spent by 45 different clients of a wholesale distributor for the food categories of Milk, Grocery & Frozen. This is stored in the dataframe customers_spend. Assign these clients into meaningful clusters.\n",
    "\n",
    "Note: For this exercise you can assume that because the data is all of the same type (amount spent) and you will not need to scale it.\n",
    "\n",
    "INSTRUCTIONS\n",
    "100XP\n",
    " - Calculate the euclidean distance between the customers and store this in dist_customers\n",
    " - Run hierarchical clustering using complete linkage and store in hc_customers\n",
    " - Plot the dendrogram\n",
    " - Create a cluster assignment vector usign a height of 15,000 and store it as clust_customers\n",
    " - Generate a new dataframe segment_customers by appending the cluster assignment as the column cluster to the orignal customers_spend dataframe"
   ]
  },
  {
   "cell_type": "code",
   "execution_count": 51,
   "metadata": {
    "collapsed": true
   },
   "outputs": [],
   "source": [
    "customers_spend = readRDS(\"ws_customers.rds\")"
   ]
  },
  {
   "cell_type": "code",
   "execution_count": 52,
   "metadata": {
    "collapsed": false
   },
   "outputs": [
    {
     "data": {
      "image/png": "[encoded data removed]",
      "text/plain": [
       "Plot with title \"Cluster Dendrogram\""
      ]
     },
     "metadata": {},
     "output_type": "display_data"
    }
   ],
   "source": [
    "# Calculate euclidean distance between customers\n",
    "dist_customers <- dist(customers_spend, method=\"euclidean\")\n",
    "\n",
    "# Generate a complete linkage analysis \n",
    "hc_customers <- hclust(dist_customers, method=\"complete\")\n",
    "\n",
    "# Plot the dendrogram\n",
    "plot(hc_customers)\n",
    "\n",
    "# Create a cluster assignment vector at h = 15000\n",
    "clust_customers <- cutree(hc_customers, h=15000)\n",
    "\n",
    "# Generate the segmented customers dataframe\n",
    "segment_customers <- mutate(customers_spend, cluster = clust_customers)"
   ]
  },
  {
   "cell_type": "code",
   "execution_count": 53,
   "metadata": {
    "collapsed": false
   },
   "outputs": [
    {
     "data": {
      "image/png": "[encoded data removed]",
      "text/plain": [
       "Plot with title \"Cluster Dendrogram\""
      ]
     },
     "metadata": {},
     "output_type": "display_data"
    }
   ],
   "source": [
    "# Calculate euclidean distance between customers\n",
    "dist_customers <- dist(customers_spend)\n",
    "\n",
    "# Generate a complete linkage analysis \n",
    "hc_customers <- hclust(dist_customers)\n",
    "\n",
    "# Plot the dendrogram\n",
    "plot(hc_customers)\n",
    "\n",
    "# Create a cluster assignment vector at h = 15000\n",
    "clust_customers <- cutree(hc_customers, h = 15000)\n",
    "\n",
    "# Generate the segmented customers dataframe\n",
    "segment_customers <- mutate(customers_spend, cluster = clust_customers)"
   ]
  },
  {
   "cell_type": "markdown",
   "metadata": {},
   "source": [
    "### Explore wholesale customer clusters\n",
    "----\n",
    "Continuing your work on the wholesale dataset you are now ready to analyze the characteristics of these clusters.\n",
    "\n",
    "Since you are working with more than 2 dimensions it would be challenging to visualize a scatter plot of the clusters, instead you will rely on summary statistics to explore these clusters. In this exercise you will analyze the mean amount spent in each cluster for all three categories.\n",
    "\n",
    "INSTRUCTIONS\n",
    "100XP\n",
    " - Calculate the size of each cluster using count().\n",
    " - Color & plot the dendrogram using the height of 15,000.\n",
    " - Calculate the average spending for each category within each cluster using the summarise_all() function.\n",
    " - "
   ]
  },
  {
   "cell_type": "code",
   "execution_count": 54,
   "metadata": {
    "collapsed": false
   },
   "outputs": [
    {
     "data": {
      "text/html": [
       "<table>\n",
       "<thead><tr><th scope=col>cluster</th><th scope=col>n</th></tr></thead>\n",
       "<tbody>\n",
       "\t<tr><td>1 </td><td> 5</td></tr>\n",
       "\t<tr><td>2 </td><td>29</td></tr>\n",
       "\t<tr><td>3 </td><td> 5</td></tr>\n",
       "\t<tr><td>4 </td><td> 6</td></tr>\n",
       "</tbody>\n",
       "</table>\n"
      ],
      "text/latex": [
       "\\begin{tabular}{r|ll}\n",
       " cluster & n\\\\\n",
       "\\hline\n",
       "\t 1  &  5\\\\\n",
       "\t 2  & 29\\\\\n",
       "\t 3  &  5\\\\\n",
       "\t 4  &  6\\\\\n",
       "\\end{tabular}\n"
      ],
      "text/markdown": [
       "\n",
       "cluster | n | \n",
       "|---|---|---|---|\n",
       "| 1  |  5 | \n",
       "| 2  | 29 | \n",
       "| 3  |  5 | \n",
       "| 4  |  6 | \n",
       "\n",
       "\n"
      ],
      "text/plain": [
       "  cluster n \n",
       "1 1        5\n",
       "2 2       29\n",
       "3 3        5\n",
       "4 4        6"
      ]
     },
     "metadata": {},
     "output_type": "display_data"
    },
    {
     "data": {
      "text/html": [
       "<table>\n",
       "<thead><tr><th scope=col>cluster</th><th scope=col>Milk</th><th scope=col>Grocery</th><th scope=col>Frozen</th></tr></thead>\n",
       "<tbody>\n",
       "\t<tr><td>1        </td><td>16950.000</td><td>12891.400</td><td>  991.200</td></tr>\n",
       "\t<tr><td>2        </td><td> 2512.828</td><td> 5228.931</td><td> 1795.517</td></tr>\n",
       "\t<tr><td>3        </td><td>10452.200</td><td>22550.600</td><td> 1354.800</td></tr>\n",
       "\t<tr><td>4        </td><td> 1249.500</td><td> 3916.833</td><td>10888.667</td></tr>\n",
       "</tbody>\n",
       "</table>\n"
      ],
      "text/latex": [
       "\\begin{tabular}{r|llll}\n",
       " cluster & Milk & Grocery & Frozen\\\\\n",
       "\\hline\n",
       "\t 1         & 16950.000 & 12891.400 &   991.200\\\\\n",
       "\t 2         &  2512.828 &  5228.931 &  1795.517\\\\\n",
       "\t 3         & 10452.200 & 22550.600 &  1354.800\\\\\n",
       "\t 4         &  1249.500 &  3916.833 & 10888.667\\\\\n",
       "\\end{tabular}\n"
      ],
      "text/markdown": [
       "\n",
       "cluster | Milk | Grocery | Frozen | \n",
       "|---|---|---|---|\n",
       "| 1         | 16950.000 | 12891.400 |   991.200 | \n",
       "| 2         |  2512.828 |  5228.931 |  1795.517 | \n",
       "| 3         | 10452.200 | 22550.600 |  1354.800 | \n",
       "| 4         |  1249.500 |  3916.833 | 10888.667 | \n",
       "\n",
       "\n"
      ],
      "text/plain": [
       "  cluster Milk      Grocery   Frozen   \n",
       "1 1       16950.000 12891.400   991.200\n",
       "2 2        2512.828  5228.931  1795.517\n",
       "3 3       10452.200 22550.600  1354.800\n",
       "4 4        1249.500  3916.833 10888.667"
      ]
     },
     "metadata": {},
     "output_type": "display_data"
    },
    {
     "data": {
      "image/png": "[encoded data removed]",
      "text/plain": [
       "plot without title"
      ]
     },
     "metadata": {},
     "output_type": "display_data"
    }
   ],
   "source": [
    "dist_customers <- dist(customers_spend)\n",
    "hc_customers <- hclust(dist_customers)\n",
    "clust_customers <- cutree(hc_customers, h = 15000)\n",
    "segment_customers <- mutate(customers_spend, cluster = clust_customers)\n",
    "\n",
    "# Count the number of customers that fall into each cluster\n",
    "count(segment_customers, cluster)\n",
    "\n",
    "# Color the dendrogram based on the height cutoff\n",
    "dend_customers <- as.dendrogram(hc_customers)\n",
    "dend_colored <- color_branches(dend_customers, h=15000)\n",
    "\n",
    "# Plot the colored dendrogram\n",
    "plot(dend_colored)\n",
    "\n",
    "# Calculate the mean for each category\n",
    "segment_customers %>% \n",
    "  group_by(cluster) %>% \n",
    "  summarise_all(funs(mean(.)))"
   ]
  },
  {
   "cell_type": "markdown",
   "metadata": {},
   "source": [
    "### Interpreting the wholesale customer clusters\n",
    "What observations can we make about our segments based on their average spending in each category?\n",
    "\n",
    "cluster\tMilk\tGrocery\tFrozen\tcluster size\n",
    "1\t16950\t12891\t991\t5\n",
    "2\t2512\t5228\t1795\t29\n",
    "3\t10452\t22550\t1354\t5\n",
    "4\t1249\t3916\t10888\t6\n",
    "ANSWER THE QUESTION\n",
    "\n",
    "Possible Answers\n",
    " - press 1 : Customers in cluster 1 spent more money on Milk than any other cluster\n",
    " \n",
    " - press 2 : Customers in cluster 3 spent more money on Grocery than any other cluster\n",
    "\n",
    " - press 3 : Customers in cluster 4 spent more money on Frozen goods than any other cluster\n",
    "\n",
    " - press 4 : The majority of customers fell into cluster 2 and did not show any excessive spending in any category\n",
    "\n",
    " - press 5 : All of the above (Correct)"
   ]
  },
  {
   "cell_type": "markdown",
   "metadata": {},
   "source": [
    "Given the results of these clusters all 4 statements are resonable statements. Whether this is meaningful would heavily depend on the business context it is used for. Ask yourself these questions:\n",
    " - Are clusters of 6 or less meaningful for my question?\n",
    " - Likewise, does the large cluster of 29 need to be split up?\n",
    " - Are the distance, linkage and height decisions employed appropriate to your problem?\n",
    "\n",
    "The key to mastering clustering analysis is to keep asking these questions!"
   ]
  },
  {
   "cell_type": "markdown",
   "metadata": {},
   "source": [
    "# 3. K-means clustering\n",
    "\n",
    "In this chapter, you will build an understanding of the principles behind the k-means algorithm, learn how to select the right k when it isn't previously known, and revisit the wholesale data from a different perspective."
   ]
  },
  {
   "cell_type": "markdown",
   "metadata": {},
   "source": [
    "## Introduction to K-means - Video\n"
   ]
  },
  {
   "cell_type": "code",
   "execution_count": 8,
   "metadata": {
    "collapsed": true
   },
   "outputs": [],
   "source": [
    "lineup = readRDS(\"lineup.rds\")"
   ]
  },
  {
   "cell_type": "code",
   "execution_count": 9,
   "metadata": {
    "collapsed": false
   },
   "outputs": [
    {
     "data": {
      "text/html": [
       "<table>\n",
       "<thead><tr><th scope=col>x</th><th scope=col>y</th></tr></thead>\n",
       "<tbody>\n",
       "\t<tr><td> -1</td><td> 1 </td></tr>\n",
       "\t<tr><td> -2</td><td>-3 </td></tr>\n",
       "\t<tr><td>  8</td><td> 6 </td></tr>\n",
       "\t<tr><td>  7</td><td>-8 </td></tr>\n",
       "\t<tr><td>-12</td><td> 8 </td></tr>\n",
       "\t<tr><td>-15</td><td> 0 </td></tr>\n",
       "</tbody>\n",
       "</table>\n"
      ],
      "text/latex": [
       "\\begin{tabular}{r|ll}\n",
       " x & y\\\\\n",
       "\\hline\n",
       "\t  -1 &  1 \\\\\n",
       "\t  -2 & -3 \\\\\n",
       "\t   8 &  6 \\\\\n",
       "\t   7 & -8 \\\\\n",
       "\t -12 &  8 \\\\\n",
       "\t -15 &  0 \\\\\n",
       "\\end{tabular}\n"
      ],
      "text/markdown": [
       "\n",
       "x | y | \n",
       "|---|---|---|---|---|---|\n",
       "|  -1 |  1  | \n",
       "|  -2 | -3  | \n",
       "|   8 |  6  | \n",
       "|   7 | -8  | \n",
       "| -12 |  8  | \n",
       "| -15 |  0  | \n",
       "\n",
       "\n"
      ],
      "text/plain": [
       "  x   y \n",
       "1  -1  1\n",
       "2  -2 -3\n",
       "3   8  6\n",
       "4   7 -8\n",
       "5 -12  8\n",
       "6 -15  0"
      ]
     },
     "metadata": {},
     "output_type": "display_data"
    }
   ],
   "source": [
    "head(lineup)"
   ]
  },
  {
   "cell_type": "markdown",
   "metadata": {},
   "source": [
    "### K-means on a soccer field\n",
    "In the previous chapter you used the lineup dataset to learn about hierarchical clustering, in this chapter you will use the same data to learn about k-means clustering. As a reminder, the lineup dataframe contains the positions of 12 players at the start of a 6v6 soccer match.\n",
    "\n",
    "Just like before, you know that this match has two teams on the field so you can perform a k-means analysis using k = 2 in order to determine which player belongs to which team.\n",
    "\n",
    "Note that in the kmeans() function k is specified using the centers parameter.\n",
    "\n",
    "INSTRUCTIONS\n",
    "\n",
    " - Build a k-means model called model_km2 for the lineup data using the kmeans() function with centers = 2\n",
    " - Extract the vector of cluster assignments from the model model_km2$cluster and store this in the variable clust_km2\n",
    " - Append the cluster assignments as a column cluster to the lineup data frame and save the results to a new dataframe called lineup_km2\n",
    " - Use ggplot to plot the positions of each player on the field and color them by their cluster"
   ]
  },
  {
   "cell_type": "code",
   "execution_count": 10,
   "metadata": {
    "collapsed": false
   },
   "outputs": [
    {
     "data": {},
     "metadata": {},
     "output_type": "display_data"
    },
    {
     "data": {
      "image/png": "[encoded data removed]",
      "text/plain": [
       "plot without title"
      ]
     },
     "metadata": {},
     "output_type": "display_data"
    }
   ],
   "source": [
    "# Build a kmeans model\n",
    "model_km2 <- kmeans(lineup, centers = 2)\n",
    "\n",
    "# Extract the cluster assignment vector from the kmeans model\n",
    "clust_km2 <- model_km2$cluster\n",
    "\n",
    "# Create a new dataframe appending the cluster assignment\n",
    "lineup_km2 <- mutate(lineup, cluster = clust_km2)\n",
    "\n",
    "# Plot the positions of the players and color them using their cluster\n",
    "ggplot(lineup_km2, aes(x = x, y = y, color = factor(cluster))) +\n",
    "  geom_point()"
   ]
  },
  {
   "cell_type": "markdown",
   "metadata": {},
   "source": [
    "Well done! Knowing the desired number of clusters ahead of time can be very helpful when performing a k-means analysis. In the next section we will see what happens when we use an incorrect value of k."
   ]
  },
  {
   "cell_type": "markdown",
   "metadata": {},
   "source": [
    "### K-means on a soccer field (part 2)\n",
    "In the previous exercise you successfully used the k-means algorithm to cluster the two teams from the lineup data frame. This time, let's explore what happens when you use a k of 3.\n",
    "\n",
    "You will see that the algorithm will still run, but does it actually make sense in this context...\n",
    "\n",
    "INSTRUCTIONS\n",
    "100XP\n",
    "\n",
    " - Build a k-means model called model_km3 for the lineup data using the kmeans() function with centers = 3\n",
    " - Extract the vector of cluster assignments from the model model_km3$cluster and store this in the variable clust_km3\n",
    " - Append the cluster assignments as a column cluster to the lineup data frame and save the results to a new dataframe called lineup_km3\n",
    " - Use ggplot to plot the positions of each player on the field and color them by their cluster"
   ]
  },
  {
   "cell_type": "code",
   "execution_count": 11,
   "metadata": {
    "collapsed": false
   },
   "outputs": [
    {
     "data": {},
     "metadata": {},
     "output_type": "display_data"
    },
    {
     "data": {
      "image/png": "[encoded data removed]",
      "text/plain": [
       "plot without title"
      ]
     },
     "metadata": {},
     "output_type": "display_data"
    }
   ],
   "source": [
    "# Build a kmeans model\n",
    "model_km3 <- kmeans(lineup, centers=3)\n",
    "\n",
    "# Extract the cluster assignment vector from the kmeans model\n",
    "clust_km3 <- model_km3$cluster\n",
    "\n",
    "# Create a new dataframe appending the cluster assignment\n",
    "lineup_km3 <- mutate(lineup, cluster = clust_km3)\n",
    "\n",
    "# Plot the positions of the players and color them using their cluster\n",
    "ggplot(lineup_km3, aes(x = x, y = y, color = factor(cluster))) +\n",
    "  geom_point()"
   ]
  },
  {
   "cell_type": "markdown",
   "metadata": {},
   "source": [
    "Does this result make sense? Remember we only have 2 teams on the field. It's very important to remember that k-means will run with any k that is more than 2 and less than your total observations, but it doesn't always mean the results will be meaningful."
   ]
  },
  {
   "cell_type": "markdown",
   "metadata": {},
   "source": [
    "## Evaluating different values of K by eye - Video"
   ]
  },
  {
   "cell_type": "markdown",
   "metadata": {},
   "source": [
    "### Many K's many models\n",
    "While the lineup dataset clearly has a known value of k, often times the optimal number of clusters isn't known and must be estimated.\n",
    "\n",
    "In this exercise you will leverage map_dbl() from the purrr library to run k-means using values of k ranging from 1 to 10 and extract the total within-cluster sum of squares metric from each one. This will be the first step towards visualizing the elbow plot.\n",
    "\n",
    "INSTRUCTIONS\n",
    "100XP\n",
    "\n",
    " - Use map_dbl() to run kmeans() using the lineup data for k values ranging from 1 to 10 and extract the total within-cluster sum of squares value from each model: model$tot.withinss\n",
    " - Store the resulting vector as tot_withinss\n",
    " - Build a new dataframe elbow_df containing the values of k and the vector of total within-cluster sum of squares"
   ]
  },
  {
   "cell_type": "code",
   "execution_count": 12,
   "metadata": {
    "collapsed": false
   },
   "outputs": [
    {
     "name": "stderr",
     "output_type": "stream",
     "text": [
      "Warning message:\n",
      "\"package 'purrr' was built under R version 3.4.3\""
     ]
    }
   ],
   "source": [
    "library(purrr)\n",
    "\n",
    "# Use map_dbl to run many models with varying value of k (centers)\n",
    "tot_withinss <- map_dbl(1:10,  function(k){\n",
    "  model <- kmeans(lineup, centers = k)\n",
    "  model$tot.withinss\n",
    "})\n",
    "\n",
    "# Generate a data frame containing both k and tot_withinss\n",
    "elbow_df <- data.frame(\n",
    "  k = 1:10 ,\n",
    "  tot_withinss = tot_withinss\n",
    ")"
   ]
  },
  {
   "cell_type": "markdown",
   "metadata": {},
   "source": [
    "### Elbow (Scree) plot\n",
    "In the previous exercises you have calculated the total within-cluster sum of squares for values of k ranging from 1 to 10. You can visualize this relationship using a line plot to create what is known as an elbow plot (or scree plot).\n",
    "\n",
    "When looking at an elbow plot you want to see a sharp decline from one k to another followed by a more gradual decrease in slope. The last value of k before the slope of the plot levels off suggests a \"good\" value of k.\n",
    "\n",
    "INSTRUCTIONS\n",
    "100XP\n",
    "\n",
    " - Continuing your work from the previous exercise, use the values in elbow_df to plot a line plot showing the relationship between k and total within-cluster sum of squares"
   ]
  },
  {
   "cell_type": "code",
   "execution_count": 13,
   "metadata": {
    "collapsed": false
   },
   "outputs": [
    {
     "data": {},
     "metadata": {},
     "output_type": "display_data"
    },
    {
     "data": {
      "image/png": "[encoded data removed]",
      "text/plain": [
       "plot without title"
      ]
     },
     "metadata": {},
     "output_type": "display_data"
    }
   ],
   "source": [
    "# Use map_dbl to run many models with varying value of k (centers)\n",
    "tot_withinss <- map_dbl(1:10,  function(k){\n",
    "  model <- kmeans(x = lineup, centers = k)\n",
    "  model$tot.withinss\n",
    "})\n",
    "\n",
    "# Generate a data frame containing both k and tot_withinss\n",
    "elbow_df <- data.frame(\n",
    "  k = 1:10,\n",
    "  tot_withinss = tot_withinss\n",
    ")\n",
    "\n",
    "# Plot the elbow plot\n",
    "ggplot(elbow_df, aes(x = k, y = tot_withinss)) +\n",
    "  geom_line() +\n",
    "  scale_x_continuous(breaks = 1:10)"
   ]
  },
  {
   "cell_type": "markdown",
   "metadata": {},
   "source": [
    "You have learned how to create and visualize elbow plots as a tool for finding a “good” value of k. In the next section you will add another tool to your aresnal for finding k."
   ]
  },
  {
   "cell_type": "markdown",
   "metadata": {},
   "source": [
    "## Silhouette analysis: Observation level performance - Video"
   ]
  },
  {
   "cell_type": "markdown",
   "metadata": {},
   "source": [
    "### Silhouette analysis\n",
    "Silhouette analysis allows you to calculate how similar each observations is with the cluster it is assigned relative to other clusters. This metric (silhouette width) ranges from -1 to 1 for each observation in your data and can be interpreted as follows:\n",
    "\n",
    "Values close to 1 suggest that the observation is well matched to the assigned cluster\n",
    "Values close to 0 suggest that the observation is borderline matched between two clusters\n",
    "Values close to -1 suggest that the observations may be assigned to the wrong cluster\n",
    "In this exercise you will leverage the pam() and the silhouette() functions from the clusters library to perform silhouette analysis to compare the results of models with a k of 2 an a k of 3. You'll continue working with the lineup dataset.\n",
    "\n",
    "Pay close attention to the silhouette plot, does each observation clearly belong to its assigned cluster for k = 3?\n",
    "\n",
    "INSTRUCTIONS\n",
    "100XP\n",
    "\n",
    " - Generate a k-means model pam_k2 using pam() with k = 2 on the lineup data.\n",
    " - Plot the silhouette analysis using plot(silhouette(model)).\n",
    " - Repeat the first two steps for k = 3, saving the model as pam_k3.\n",
    " - Make sure to review the differences between the plots before proceeding (especially observation 3) for pam_k3."
   ]
  },
  {
   "cell_type": "code",
   "execution_count": 14,
   "metadata": {
    "collapsed": false
   },
   "outputs": [
    {
     "data": {
      "image/png": "[encoded data removed]",
      "text/plain": [
       "Plot with title \"Silhouette plot of pam(x = lineup, k = 2)\""
      ]
     },
     "metadata": {},
     "output_type": "display_data"
    },
    {
     "data": {
      "image/png": "[encoded data removed]",
      "text/plain": [
       "Plot with title \"Silhouette plot of pam(x = lineup, k = 3)\""
      ]
     },
     "metadata": {},
     "output_type": "display_data"
    }
   ],
   "source": [
    "library(cluster)\n",
    "\n",
    "# Generate a k-means model using the pam() function with a k = 2\n",
    "pam_k2 <- pam(lineup, k = 2)\n",
    "\n",
    "# Plot the silhouette visual for the pam_k2 model\n",
    "plot(silhouette(pam_k2))\n",
    "\n",
    "# Generate a k-means model using the pam() function with a k = 3\n",
    "pam_k3 <- pam(lineup, k = 3)\n",
    "\n",
    "# Plot the silhouette visual for the pam_k3 model\n",
    "plot(silhouette(pam_k3))\n"
   ]
  },
  {
   "cell_type": "markdown",
   "metadata": {},
   "source": [
    "Great work! Did you notice that for k = 2, no observations has a silhouette with close to 0? What about the fact that for k = 3, observation 3 is close to 0 and is negative? This suggests that k = 3 is not the right number of clusters."
   ]
  },
  {
   "cell_type": "markdown",
   "metadata": {},
   "source": [
    "### Making sense of the K-means clusters - Video"
   ]
  },
  {
   "cell_type": "code",
   "execution_count": 16,
   "metadata": {
    "collapsed": true
   },
   "outputs": [],
   "source": [
    "customers_spend = readRDS(\"ws_customers.rds\")"
   ]
  },
  {
   "cell_type": "markdown",
   "metadata": {},
   "source": [
    "### Revisiting wholesale data: \"Best\" k\n",
    "At the end of Chapter 2 you explored wholesale distributor data customers_spend using hierarchical clustering. This time you will analyze this data using the k-means clustering tools covered in this chapter.\n",
    "\n",
    "The first step will be to determine the \"best\" value of k using average silhouette width.\n",
    "\n",
    "A refresher about the data: it contains records of the amount spent by 45 different clients of a wholesale distributor for the food categories of Milk, Grocery & Frozen. This is stored in the dataframe customers_spend. For this exercise you can assume that because the data is all of the same type (amount spent) and you will not need to scale it.\n",
    "\n",
    "INSTRUCTIONS\n",
    "100XP\n",
    "\n",
    " - Use map_dbl() to run pam() using the customers_spend data for k values ranging from 2 to 10 and extract the average silhouette width value from each model: model$silinfo$avg.width Store the resulting vector as sil_width\n",
    " - Build a new dataframe sil_df containing the values of k and the vector of average silhouette widths\n",
    " - Use the values in sil_df to plot a line plot showing the relationship between k and average silhouette width"
   ]
  },
  {
   "cell_type": "code",
   "execution_count": 17,
   "metadata": {
    "collapsed": false
   },
   "outputs": [
    {
     "data": {},
     "metadata": {},
     "output_type": "display_data"
    },
    {
     "data": {
      "image/png": "[encoded data removed]",
      "text/plain": [
       "plot without title"
      ]
     },
     "metadata": {},
     "output_type": "display_data"
    }
   ],
   "source": [
    "# Use map_dbl to run many models with varying value of k\n",
    "sil_width <- map_dbl(2:10,  function(k){\n",
    "  model <- pam(x = customers_spend, k = k)\n",
    "  model$silinfo$avg.width\n",
    "})\n",
    "\n",
    "# Generate a data frame containing both k and sil_width\n",
    "sil_df <- data.frame(\n",
    "  k = 2:10,\n",
    "  sil_width = sil_width\n",
    ")\n",
    "\n",
    "# Plot the relationship between k and sil_width\n",
    "ggplot(sil_df, aes(x = k, y = sil_width)) +\n",
    "  geom_line() +\n",
    "  scale_x_continuous(breaks = 2:10)"
   ]
  },
  {
   "cell_type": "code",
   "execution_count": 18,
   "metadata": {
    "collapsed": false
   },
   "outputs": [
    {
     "data": {
      "text/html": [
       "<table>\n",
       "<thead><tr><th></th><th scope=col>k</th><th scope=col>sil_width</th></tr></thead>\n",
       "<tbody>\n",
       "\t<tr><th scope=row>1</th><td> 2       </td><td>0.5842282</td></tr>\n",
       "\t<tr><th scope=row>4</th><td> 5       </td><td>0.4397891</td></tr>\n",
       "\t<tr><th scope=row>3</th><td> 4       </td><td>0.4225053</td></tr>\n",
       "\t<tr><th scope=row>2</th><td> 3       </td><td>0.3741916</td></tr>\n",
       "\t<tr><th scope=row>5</th><td> 6       </td><td>0.3609199</td></tr>\n",
       "\t<tr><th scope=row>8</th><td> 9       </td><td>0.3319012</td></tr>\n",
       "\t<tr><th scope=row>6</th><td> 7       </td><td>0.3270878</td></tr>\n",
       "\t<tr><th scope=row>7</th><td> 8       </td><td>0.3263239</td></tr>\n",
       "\t<tr><th scope=row>9</th><td>10       </td><td>0.3255676</td></tr>\n",
       "</tbody>\n",
       "</table>\n"
      ],
      "text/latex": [
       "\\begin{tabular}{r|ll}\n",
       "  & k & sil\\_width\\\\\n",
       "\\hline\n",
       "\t1 &  2        & 0.5842282\\\\\n",
       "\t4 &  5        & 0.4397891\\\\\n",
       "\t3 &  4        & 0.4225053\\\\\n",
       "\t2 &  3        & 0.3741916\\\\\n",
       "\t5 &  6        & 0.3609199\\\\\n",
       "\t8 &  9        & 0.3319012\\\\\n",
       "\t6 &  7        & 0.3270878\\\\\n",
       "\t7 &  8        & 0.3263239\\\\\n",
       "\t9 & 10        & 0.3255676\\\\\n",
       "\\end{tabular}\n"
      ],
      "text/markdown": [
       "\n",
       "| <!--/--> | k | sil_width | \n",
       "|---|---|---|---|---|---|---|---|---|\n",
       "| 1 |  2        | 0.5842282 | \n",
       "| 4 |  5        | 0.4397891 | \n",
       "| 3 |  4        | 0.4225053 | \n",
       "| 2 |  3        | 0.3741916 | \n",
       "| 5 |  6        | 0.3609199 | \n",
       "| 8 |  9        | 0.3319012 | \n",
       "| 6 |  7        | 0.3270878 | \n",
       "| 7 |  8        | 0.3263239 | \n",
       "| 9 | 10        | 0.3255676 | \n",
       "\n",
       "\n"
      ],
      "text/plain": [
       "  k  sil_width\n",
       "1  2 0.5842282\n",
       "4  5 0.4397891\n",
       "3  4 0.4225053\n",
       "2  3 0.3741916\n",
       "5  6 0.3609199\n",
       "8  9 0.3319012\n",
       "6  7 0.3270878\n",
       "7  8 0.3263239\n",
       "9 10 0.3255676"
      ]
     },
     "metadata": {},
     "output_type": "display_data"
    }
   ],
   "source": [
    "sil_df[order(sil_width, decreasing=TRUE),]"
   ]
  },
  {
   "cell_type": "markdown",
   "metadata": {},
   "source": [
    "You're doing great! From the plot I hope you noticed that k = 2 has the highest average sillhouette width and is the “best” value of k we will move forward with."
   ]
  },
  {
   "cell_type": "markdown",
   "metadata": {},
   "source": [
    "### Revisiting wholesale data: Exploration\n",
    "From the previous analysis you have found that k = 2 has the highest average silhouette width. In this exercise you will continue to analyze the wholesale customer data by building and exploring a kmeans model with 2 clusters.\n",
    "\n",
    "INSTRUCTIONS\n",
    "100XP\n",
    "\n",
    " - Build a k-means model called model_customers for the customers_spend data using the kmeans() function with centers = 2.\n",
    " - Extract the vector of cluster assignments from the model model_customers$cluster and store this in the variable clust_customers.\n",
    " - Append the cluster assignments as a column cluster to the customers_spend data frame and save the results to a new dataframe called segment_customers.\n",
    " - Calculate the size of each cluster using count()."
   ]
  },
  {
   "cell_type": "code",
   "execution_count": 21,
   "metadata": {
    "collapsed": false
   },
   "outputs": [
    {
     "data": {
      "text/html": [
       "<table>\n",
       "<thead><tr><th scope=col>cluster</th><th scope=col>n</th></tr></thead>\n",
       "<tbody>\n",
       "\t<tr><td>1 </td><td>10</td></tr>\n",
       "\t<tr><td>2 </td><td>35</td></tr>\n",
       "</tbody>\n",
       "</table>\n"
      ],
      "text/latex": [
       "\\begin{tabular}{r|ll}\n",
       " cluster & n\\\\\n",
       "\\hline\n",
       "\t 1  & 10\\\\\n",
       "\t 2  & 35\\\\\n",
       "\\end{tabular}\n"
      ],
      "text/markdown": [
       "\n",
       "cluster | n | \n",
       "|---|---|\n",
       "| 1  | 10 | \n",
       "| 2  | 35 | \n",
       "\n",
       "\n"
      ],
      "text/plain": [
       "  cluster n \n",
       "1 1       10\n",
       "2 2       35"
      ]
     },
     "metadata": {},
     "output_type": "display_data"
    },
    {
     "data": {
      "text/html": [
       "<table>\n",
       "<thead><tr><th scope=col>cluster</th><th scope=col>Milk</th><th scope=col>Grocery</th><th scope=col>Frozen</th></tr></thead>\n",
       "<tbody>\n",
       "\t<tr><td>1        </td><td>13701.100</td><td>17721    </td><td>1173.000 </td></tr>\n",
       "\t<tr><td>2        </td><td> 2296.257</td><td> 5004    </td><td>3354.343 </td></tr>\n",
       "</tbody>\n",
       "</table>\n"
      ],
      "text/latex": [
       "\\begin{tabular}{r|llll}\n",
       " cluster & Milk & Grocery & Frozen\\\\\n",
       "\\hline\n",
       "\t 1         & 13701.100 & 17721     & 1173.000 \\\\\n",
       "\t 2         &  2296.257 &  5004     & 3354.343 \\\\\n",
       "\\end{tabular}\n"
      ],
      "text/markdown": [
       "\n",
       "cluster | Milk | Grocery | Frozen | \n",
       "|---|---|\n",
       "| 1         | 13701.100 | 17721     | 1173.000  | \n",
       "| 2         |  2296.257 |  5004     | 3354.343  | \n",
       "\n",
       "\n"
      ],
      "text/plain": [
       "  cluster Milk      Grocery Frozen  \n",
       "1 1       13701.100 17721   1173.000\n",
       "2 2        2296.257  5004   3354.343"
      ]
     },
     "metadata": {},
     "output_type": "display_data"
    }
   ],
   "source": [
    "# Build a k-means model for the customers_spend with a k of 2\n",
    "model_customers <- kmeans(customers_spend, centers=2)\n",
    "\n",
    "# Extract the vector of cluster assignments from the model\n",
    "clust_customers <- model_customers$cluster\n",
    "\n",
    "# Build the segment_customers dataframe\n",
    "segment_customers <- mutate(customers_spend, cluster = clust_customers)\n",
    "\n",
    "# Calculate the size of each cluster\n",
    "count(segment_customers, cluster)\n",
    "\n",
    "# Calculate the mean for each category\n",
    "segment_customers %>% \n",
    "  group_by(cluster) %>% \n",
    "  summarise_all(funs(mean(.)))"
   ]
  },
  {
   "cell_type": "markdown",
   "metadata": {},
   "source": [
    "Well done! It seems that in this case cluster 1 consists of individuals who proportionally spend more on Frozen food while cluster 2 customers spent more on Milk and Grocery. Did you notice that when you explored this data using hierarchical clustering, the method resulted in 4 clusters while using k-means got you 2. Both of these results are valid, but which one is appropriate for this would require more subject matter expertise. Before you proceed with the next chapter, remember that: Generating clusters is a science, but interpreting them is an art."
   ]
  },
  {
   "cell_type": "markdown",
   "metadata": {},
   "source": [
    "# 4. Case Study: National Occupational mean wage"
   ]
  },
  {
   "cell_type": "markdown",
   "metadata": {},
   "source": [
    "In this chapter, you will apply the skills you have learned to explore how the average salary amongst professions have changed over time."
   ]
  },
  {
   "cell_type": "markdown",
   "metadata": {},
   "source": [
    "## Occupational wage date - Video"
   ]
  },
  {
   "cell_type": "code",
   "execution_count": 7,
   "metadata": {
    "collapsed": false
   },
   "outputs": [
    {
     "data": {
      "text/html": [
       "<table>\n",
       "<thead><tr><th></th><th scope=col>2001</th><th scope=col>2002</th><th scope=col>2003</th><th scope=col>2004</th><th scope=col>2005</th><th scope=col>2006</th><th scope=col>2007</th><th scope=col>2008</th><th scope=col>2010</th><th scope=col>2011</th><th scope=col>2012</th><th scope=col>2013</th><th scope=col>2014</th><th scope=col>2015</th><th scope=col>2016</th></tr></thead>\n",
       "<tbody>\n",
       "\t<tr><th scope=row>Management</th><td>70800 </td><td>78870 </td><td>83400 </td><td>87090 </td><td>88450 </td><td>91930 </td><td>96150 </td><td>100310</td><td>105440</td><td>107410</td><td>108570</td><td>110550</td><td>112490</td><td>115020</td><td>118020</td></tr>\n",
       "\t<tr><th scope=row>Business Operations</th><td>50580 </td><td>53350 </td><td>56000 </td><td>57120 </td><td>57930 </td><td>60000 </td><td>62410 </td><td> 64720</td><td> 67690</td><td> 68740</td><td> 69550</td><td> 71020</td><td> 72410</td><td> 73800</td><td> 75070</td></tr>\n",
       "\t<tr><th scope=row>Computer Science</th><td>60350 </td><td>61630 </td><td>64150 </td><td>66370 </td><td>67100 </td><td>69240 </td><td>72190 </td><td> 74500</td><td> 77230</td><td> 78730</td><td> 80180</td><td> 82010</td><td> 83970</td><td> 86170</td><td> 87880</td></tr>\n",
       "\t<tr><th scope=row>Architecture/Engineering</th><td>56330 </td><td>58020 </td><td>60390 </td><td>63060 </td><td>63910 </td><td>66190 </td><td>68880 </td><td> 71430</td><td> 75550</td><td> 77120</td><td> 79000</td><td> 80100</td><td> 81520</td><td> 82980</td><td> 84300</td></tr>\n",
       "\t<tr><th scope=row>Life/Physical/Social Sci.</th><td>49710 </td><td>52380 </td><td>54930 </td><td>57550 </td><td>58030 </td><td>59660 </td><td>62020 </td><td> 64280</td><td> 66390</td><td> 67470</td><td> 68360</td><td> 69400</td><td> 70070</td><td> 71220</td><td> 72930</td></tr>\n",
       "\t<tr><th scope=row>Community Services</th><td>34190 </td><td>34630 </td><td>35800 </td><td>37050 </td><td>37530 </td><td>39000 </td><td>40540 </td><td> 41790</td><td> 43180</td><td> 43830</td><td> 44240</td><td> 44710</td><td> 45310</td><td> 46160</td><td> 47200</td></tr>\n",
       "</tbody>\n",
       "</table>\n"
      ],
      "text/latex": [
       "\\begin{tabular}{r|lllllllllllllll}\n",
       "  & 2001 & 2002 & 2003 & 2004 & 2005 & 2006 & 2007 & 2008 & 2010 & 2011 & 2012 & 2013 & 2014 & 2015 & 2016\\\\\n",
       "\\hline\n",
       "\tManagement & 70800  & 78870  & 83400  & 87090  & 88450  & 91930  & 96150  & 100310 & 105440 & 107410 & 108570 & 110550 & 112490 & 115020 & 118020\\\\\n",
       "\tBusiness Operations & 50580  & 53350  & 56000  & 57120  & 57930  & 60000  & 62410  &  64720 &  67690 &  68740 &  69550 &  71020 &  72410 &  73800 &  75070\\\\\n",
       "\tComputer Science & 60350  & 61630  & 64150  & 66370  & 67100  & 69240  & 72190  &  74500 &  77230 &  78730 &  80180 &  82010 &  83970 &  86170 &  87880\\\\\n",
       "\tArchitecture/Engineering & 56330  & 58020  & 60390  & 63060  & 63910  & 66190  & 68880  &  71430 &  75550 &  77120 &  79000 &  80100 &  81520 &  82980 &  84300\\\\\n",
       "\tLife/Physical/Social Sci. & 49710  & 52380  & 54930  & 57550  & 58030  & 59660  & 62020  &  64280 &  66390 &  67470 &  68360 &  69400 &  70070 &  71220 &  72930\\\\\n",
       "\tCommunity Services & 34190  & 34630  & 35800  & 37050  & 37530  & 39000  & 40540  &  41790 &  43180 &  43830 &  44240 &  44710 &  45310 &  46160 &  47200\\\\\n",
       "\\end{tabular}\n"
      ],
      "text/markdown": [
       "\n",
       "| <!--/--> | 2001 | 2002 | 2003 | 2004 | 2005 | 2006 | 2007 | 2008 | 2010 | 2011 | 2012 | 2013 | 2014 | 2015 | 2016 | \n",
       "|---|---|---|---|---|---|\n",
       "| Management | 70800  | 78870  | 83400  | 87090  | 88450  | 91930  | 96150  | 100310 | 105440 | 107410 | 108570 | 110550 | 112490 | 115020 | 118020 | \n",
       "| Business Operations | 50580  | 53350  | 56000  | 57120  | 57930  | 60000  | 62410  |  64720 |  67690 |  68740 |  69550 |  71020 |  72410 |  73800 |  75070 | \n",
       "| Computer Science | 60350  | 61630  | 64150  | 66370  | 67100  | 69240  | 72190  |  74500 |  77230 |  78730 |  80180 |  82010 |  83970 |  86170 |  87880 | \n",
       "| Architecture/Engineering | 56330  | 58020  | 60390  | 63060  | 63910  | 66190  | 68880  |  71430 |  75550 |  77120 |  79000 |  80100 |  81520 |  82980 |  84300 | \n",
       "| Life/Physical/Social Sci. | 49710  | 52380  | 54930  | 57550  | 58030  | 59660  | 62020  |  64280 |  66390 |  67470 |  68360 |  69400 |  70070 |  71220 |  72930 | \n",
       "| Community Services | 34190  | 34630  | 35800  | 37050  | 37530  | 39000  | 40540  |  41790 |  43180 |  43830 |  44240 |  44710 |  45310 |  46160 |  47200 | \n",
       "\n",
       "\n"
      ],
      "text/plain": [
       "                          2001  2002  2003  2004  2005  2006  2007  2008  \n",
       "Management                70800 78870 83400 87090 88450 91930 96150 100310\n",
       "Business Operations       50580 53350 56000 57120 57930 60000 62410  64720\n",
       "Computer Science          60350 61630 64150 66370 67100 69240 72190  74500\n",
       "Architecture/Engineering  56330 58020 60390 63060 63910 66190 68880  71430\n",
       "Life/Physical/Social Sci. 49710 52380 54930 57550 58030 59660 62020  64280\n",
       "Community Services        34190 34630 35800 37050 37530 39000 40540  41790\n",
       "                          2010   2011   2012   2013   2014   2015   2016  \n",
       "Management                105440 107410 108570 110550 112490 115020 118020\n",
       "Business Operations        67690  68740  69550  71020  72410  73800  75070\n",
       "Computer Science           77230  78730  80180  82010  83970  86170  87880\n",
       "Architecture/Engineering   75550  77120  79000  80100  81520  82980  84300\n",
       "Life/Physical/Social Sci.  66390  67470  68360  69400  70070  71220  72930\n",
       "Community Services         43180  43830  44240  44710  45310  46160  47200"
      ]
     },
     "metadata": {},
     "output_type": "display_data"
    }
   ],
   "source": [
    "oes = readRDS(\"oes.rds\")\n",
    "head(oes)"
   ]
  },
  {
   "cell_type": "markdown",
   "metadata": {},
   "source": [
    "### Initial exploration of the data\n",
    "You are presented with data from the Occupational Employment Statistics (OES) program which produces employment and wage estimates annually. This data contains the yearly average income from 2001 to 2016 for 22 occupation groups. You would like to use this data to identify clusters of occupations that maintained similar income trends.\n",
    "\n",
    "The data is stored in your environment as the data.matrix oes.\n",
    "\n",
    "Before you begin to cluster this data you should determine whether any pre-processing steps (such as scaling and imputation) are necessary.\n",
    "\n",
    "Leverage the functions head() and summary() to explore the oes data in order to determine which of the pre-processing steps below are necessary:\n",
    "\n",
    "INSTRUCTIONS\n",
    "\n",
    "Possible Answers\n",
    " - NA values exist in the data, hence the values must be imputed or the observations with NAs excluded.\n",
    " - press 1\n",
    " - The variables within this data are not comparable to one another and should be scaled.\n",
    " - press 2\n",
    " - Categorical variables exist within this data and should be appropriately dummified.\n",
    " - press 3\n",
    " - All three pre-processing steps above are necessary for this data.\n",
    " - press 4\n",
    " - None of these pre-processing steps are necessary for this data. (Correct)\n",
    " - press 5"
   ]
  },
  {
   "cell_type": "markdown",
   "metadata": {},
   "source": [
    "Correct, there are no missing values, no categorical and the features are on the same scale. \n",
    "Now you're ready to cluster this data!"
   ]
  },
  {
   "cell_type": "markdown",
   "metadata": {},
   "source": [
    "### Hierarchical clustering: Occupation trees\n",
    "In the previous exercise you have learned that the oes data is ready for hierarchical clustering without any preprocessing steps necessary. In this exercise you will take the necessary steps to build a dendrogram of occupations based on their yearly average salaries and propose clusters using a height of 100,000.\n",
    "\n",
    "INSTRUCTIONS\n",
    "100XP\n",
    "\n",
    " - Calculate the euclidean distance between the occupations and store this in dist_oes\n",
    " - Run hierarchical clustering using average linkage and store in hc_oes\n",
    " - Create a denrogram object dend_oes from your hclust result using the function as.dendrogram()\n",
    " - Plot the dendrogram\n",
    " - Using the color_branches() function create & plot a new dendrogram with clusters colored by a cut height of 100,000\n"
   ]
  },
  {
   "cell_type": "code",
   "execution_count": 6,
   "metadata": {
    "collapsed": false
   },
   "outputs": [],
   "source": [
    "library(dendextend)"
   ]
  },
  {
   "cell_type": "code",
   "execution_count": 8,
   "metadata": {
    "collapsed": false
   },
   "outputs": [
    {
     "data": {
      "image/png": "[encoded data removed]",
      "text/plain": [
       "plot without title"
      ]
     },
     "metadata": {},
     "output_type": "display_data"
    },
    {
     "data": {
      "image/png": "[encoded data removed]",
      "text/plain": [
       "plot without title"
      ]
     },
     "metadata": {},
     "output_type": "display_data"
    }
   ],
   "source": [
    "# Calculate euclidean distance between the occupations\n",
    "dist_oes <- dist(oes, method = \"euclidean\")\n",
    "\n",
    "# Generate an average linkage analysis \n",
    "hc_oes <- hclust(dist_oes, method = \"average\")\n",
    "\n",
    "# Create a dendrogram object from the hclust variable\n",
    "dend_oes <- as.dendrogram(hc_oes)\n",
    "\n",
    "# Plot the dendrogram\n",
    "plot(dend_oes)\n",
    "\n",
    "# Color brances by cluster formed from the cut at a height of 100000\n",
    "dend_colored <- color_branches(dend_oes, h = 100000)\n",
    "\n",
    "# Plot the colored dendrogram\n",
    "plot(dend_colored)"
   ]
  },
  {
   "cell_type": "markdown",
   "metadata": {},
   "source": [
    "Well done! Based on the dendrogram it may be reasonable to start with the three clusters formed at a height of 100,000. The members of these clusters appear to be tightly grouped but different from one another. Let's continue this exploration."
   ]
  },
  {
   "cell_type": "markdown",
   "metadata": {},
   "source": [
    "### Hierarchical clustering: Preparing for exploration\n",
    "You have now created a potential clustering for the oes data, before you can explore these clusters with ggplot2 you will need to process the oes data matrix into a tidy data frame with each occupation assigned its cluster.\n",
    "\n",
    "INSTRUCTIONS\n",
    "\n",
    " - Create the df_oes data frame from the oes data.matrix, making sure to store the rowname as a column (use rownames_to_column() from the tibble library)\n",
    " - Build the cluster assignment vector cut_oes using cutree() with a h = 100,000\n",
    " - Append the cluster assignments as a column cluster to the df_oes data frame and save the results to a new dataframe called clust_oes\n",
    " - Use the gather() function from the tidyr() library to reshape the data into a format amenable for ggplot2 analysis and save the tidied data frame as gather_oes"
   ]
  },
  {
   "cell_type": "code",
   "execution_count": 33,
   "metadata": {
    "collapsed": false
   },
   "outputs": [
    {
     "name": "stderr",
     "output_type": "stream",
     "text": [
      "Warning message:\n",
      "\"package 'tibble' was built under R version 3.4.3\"Warning message:\n",
      "\"package 'tidyr' was built under R version 3.4.3\""
     ]
    }
   ],
   "source": [
    "dist_oes <- dist(oes, method = 'euclidean')\n",
    "hc_oes <- hclust(dist_oes, method = 'average')\n",
    "\n",
    "library(tibble)\n",
    "library(tidyr)\n",
    "\n",
    "# Use rownames_to_column to move the rownames into a column of the data frame\n",
    "df_oes <- rownames_to_column(as.data.frame(oes), var = 'occupation')\n",
    "\n",
    "# Create a cluster assignment vector at h = 100,000\n",
    "cut_oes <- cutree(hc_oes, h = 100000)\n",
    "\n",
    "# Generate the segmented the oes dataframe\n",
    "clust_oes <- mutate(df_oes, cluster = cut_oes)\n",
    "\n",
    "# Create a tidy data frame by gathering the year and values into two columns\n",
    "gathered_oes <- gather(data = clust_oes, \n",
    "                       key = year, \n",
    "                       value = mean_salary, \n",
    "                       -occupation, -cluster)"
   ]
  },
  {
   "cell_type": "code",
   "execution_count": 34,
   "metadata": {
    "collapsed": false
   },
   "outputs": [
    {
     "data": {
      "text/html": [
       "<table>\n",
       "<thead><tr><th scope=col>occupation</th><th scope=col>cluster</th><th scope=col>year</th><th scope=col>mean_salary</th></tr></thead>\n",
       "<tbody>\n",
       "\t<tr><td>Management               </td><td>1                        </td><td>2001                     </td><td>70800                    </td></tr>\n",
       "\t<tr><td>Business Operations      </td><td>2                        </td><td>2001                     </td><td>50580                    </td></tr>\n",
       "\t<tr><td>Computer Science         </td><td>2                        </td><td>2001                     </td><td>60350                    </td></tr>\n",
       "\t<tr><td>Architecture/Engineering </td><td>2                        </td><td>2001                     </td><td>56330                    </td></tr>\n",
       "\t<tr><td>Life/Physical/Social Sci.</td><td>2                        </td><td>2001                     </td><td>49710                    </td></tr>\n",
       "\t<tr><td>Community Services       </td><td>3                        </td><td>2001                     </td><td>34190                    </td></tr>\n",
       "</tbody>\n",
       "</table>\n"
      ],
      "text/latex": [
       "\\begin{tabular}{r|llll}\n",
       " occupation & cluster & year & mean\\_salary\\\\\n",
       "\\hline\n",
       "\t Management                & 1                         & 2001                      & 70800                    \\\\\n",
       "\t Business Operations       & 2                         & 2001                      & 50580                    \\\\\n",
       "\t Computer Science          & 2                         & 2001                      & 60350                    \\\\\n",
       "\t Architecture/Engineering  & 2                         & 2001                      & 56330                    \\\\\n",
       "\t Life/Physical/Social Sci. & 2                         & 2001                      & 49710                    \\\\\n",
       "\t Community Services        & 3                         & 2001                      & 34190                    \\\\\n",
       "\\end{tabular}\n"
      ],
      "text/markdown": [
       "\n",
       "occupation | cluster | year | mean_salary | \n",
       "|---|---|---|---|---|---|\n",
       "| Management                | 1                         | 2001                      | 70800                     | \n",
       "| Business Operations       | 2                         | 2001                      | 50580                     | \n",
       "| Computer Science          | 2                         | 2001                      | 60350                     | \n",
       "| Architecture/Engineering  | 2                         | 2001                      | 56330                     | \n",
       "| Life/Physical/Social Sci. | 2                         | 2001                      | 49710                     | \n",
       "| Community Services        | 3                         | 2001                      | 34190                     | \n",
       "\n",
       "\n"
      ],
      "text/plain": [
       "  occupation                cluster year mean_salary\n",
       "1 Management                1       2001 70800      \n",
       "2 Business Operations       2       2001 50580      \n",
       "3 Computer Science          2       2001 60350      \n",
       "4 Architecture/Engineering  2       2001 56330      \n",
       "5 Life/Physical/Social Sci. 2       2001 49710      \n",
       "6 Community Services        3       2001 34190      "
      ]
     },
     "metadata": {},
     "output_type": "display_data"
    }
   ],
   "source": [
    "head(gathered_oes)"
   ]
  },
  {
   "cell_type": "markdown",
   "metadata": {},
   "source": [
    "You now have the dataframes necessary to explore the results of this clustering"
   ]
  },
  {
   "cell_type": "markdown",
   "metadata": {},
   "source": [
    "### Hierarchical clustering: Plotting occupational clusters\n",
    "You have succesfully created all the parts necessary to explore the results of this hierarchical clustering work. In this exercise you will leverage the named assignment vector cut_oes and the tidy data frame gathered_oes to analyze the resulting clusters.\n",
    "\n",
    "INSTRUCTIONS\n",
    "\n",
    " - View the assignments of each occupation to their clustering by sorting the cut_oes vector using sort()\n",
    " - Use ggplot2 to plot each occupation's average income by year and color the lines by the occupation's assigned cluster.\n"
   ]
  },
  {
   "cell_type": "code",
   "execution_count": 35,
   "metadata": {
    "collapsed": false
   },
   "outputs": [
    {
     "data": {
      "text/html": [
       "<dl class=dl-horizontal>\n",
       "\t<dt>Management</dt>\n",
       "\t\t<dd>1</dd>\n",
       "\t<dt>Legal</dt>\n",
       "\t\t<dd>1</dd>\n",
       "\t<dt>Business Operations</dt>\n",
       "\t\t<dd>2</dd>\n",
       "\t<dt>Computer Science</dt>\n",
       "\t\t<dd>2</dd>\n",
       "\t<dt>Architecture/Engineering</dt>\n",
       "\t\t<dd>2</dd>\n",
       "\t<dt>Life/Physical/Social Sci.</dt>\n",
       "\t\t<dd>2</dd>\n",
       "\t<dt>Healthcare Practitioners</dt>\n",
       "\t\t<dd>2</dd>\n",
       "\t<dt>Community Services</dt>\n",
       "\t\t<dd>3</dd>\n",
       "\t<dt>Education/Training/Library</dt>\n",
       "\t\t<dd>3</dd>\n",
       "\t<dt>Arts/Design/Entertainment</dt>\n",
       "\t\t<dd>3</dd>\n",
       "\t<dt>Healthcare Support</dt>\n",
       "\t\t<dd>3</dd>\n",
       "\t<dt>Protective Service</dt>\n",
       "\t\t<dd>3</dd>\n",
       "\t<dt>Food Preparation</dt>\n",
       "\t\t<dd>3</dd>\n",
       "\t<dt>Grounds Cleaning &amp; Maint.</dt>\n",
       "\t\t<dd>3</dd>\n",
       "\t<dt>Personal Care</dt>\n",
       "\t\t<dd>3</dd>\n",
       "\t<dt>Sales</dt>\n",
       "\t\t<dd>3</dd>\n",
       "\t<dt>Office Administrative</dt>\n",
       "\t\t<dd>3</dd>\n",
       "\t<dt>Farming/Fishing/Forestry</dt>\n",
       "\t\t<dd>3</dd>\n",
       "\t<dt>Construction</dt>\n",
       "\t\t<dd>3</dd>\n",
       "\t<dt>Installation/Repair/Maint.</dt>\n",
       "\t\t<dd>3</dd>\n",
       "\t<dt>Production</dt>\n",
       "\t\t<dd>3</dd>\n",
       "\t<dt>Transportation/Moving</dt>\n",
       "\t\t<dd>3</dd>\n",
       "</dl>\n"
      ],
      "text/latex": [
       "\\begin{description*}\n",
       "\\item[Management] 1\n",
       "\\item[Legal] 1\n",
       "\\item[Business Operations] 2\n",
       "\\item[Computer Science] 2\n",
       "\\item[Architecture/Engineering] 2\n",
       "\\item[Life/Physical/Social Sci.] 2\n",
       "\\item[Healthcare Practitioners] 2\n",
       "\\item[Community Services] 3\n",
       "\\item[Education/Training/Library] 3\n",
       "\\item[Arts/Design/Entertainment] 3\n",
       "\\item[Healthcare Support] 3\n",
       "\\item[Protective Service] 3\n",
       "\\item[Food Preparation] 3\n",
       "\\item[Grounds Cleaning \\textbackslash{}\\& Maint.] 3\n",
       "\\item[Personal Care] 3\n",
       "\\item[Sales] 3\n",
       "\\item[Office Administrative] 3\n",
       "\\item[Farming/Fishing/Forestry] 3\n",
       "\\item[Construction] 3\n",
       "\\item[Installation/Repair/Maint.] 3\n",
       "\\item[Production] 3\n",
       "\\item[Transportation/Moving] 3\n",
       "\\end{description*}\n"
      ],
      "text/markdown": [
       "Management\n",
       ":   1Legal\n",
       ":   1Business Operations\n",
       ":   2Computer Science\n",
       ":   2Architecture/Engineering\n",
       ":   2Life/Physical/Social Sci.\n",
       ":   2Healthcare Practitioners\n",
       ":   2Community Services\n",
       ":   3Education/Training/Library\n",
       ":   3Arts/Design/Entertainment\n",
       ":   3Healthcare Support\n",
       ":   3Protective Service\n",
       ":   3Food Preparation\n",
       ":   3Grounds Cleaning &amp;amp; Maint.\n",
       ":   3Personal Care\n",
       ":   3Sales\n",
       ":   3Office Administrative\n",
       ":   3Farming/Fishing/Forestry\n",
       ":   3Construction\n",
       ":   3Installation/Repair/Maint.\n",
       ":   3Production\n",
       ":   3Transportation/Moving\n",
       ":   3\n",
       "\n"
      ],
      "text/plain": [
       "                Management                      Legal \n",
       "                         1                          1 \n",
       "       Business Operations           Computer Science \n",
       "                         2                          2 \n",
       "  Architecture/Engineering  Life/Physical/Social Sci. \n",
       "                         2                          2 \n",
       "  Healthcare Practitioners         Community Services \n",
       "                         2                          3 \n",
       "Education/Training/Library  Arts/Design/Entertainment \n",
       "                         3                          3 \n",
       "        Healthcare Support         Protective Service \n",
       "                         3                          3 \n",
       "          Food Preparation  Grounds Cleaning & Maint. \n",
       "                         3                          3 \n",
       "             Personal Care                      Sales \n",
       "                         3                          3 \n",
       "     Office Administrative   Farming/Fishing/Forestry \n",
       "                         3                          3 \n",
       "              Construction Installation/Repair/Maint. \n",
       "                         3                          3 \n",
       "                Production      Transportation/Moving \n",
       "                         3                          3 "
      ]
     },
     "metadata": {},
     "output_type": "display_data"
    },
    {
     "data": {},
     "metadata": {},
     "output_type": "display_data"
    },
    {
     "data": {
      "image/png": "[encoded data removed]",
      "text/plain": [
       "plot without title"
      ]
     },
     "metadata": {},
     "output_type": "display_data"
    }
   ],
   "source": [
    "# View the clustering assignments by sorting the cluster assignment vector\n",
    "sort(cut_oes)\n",
    "\n",
    "# Plot the relationship between mean_salary and year and color the lines by the assigned cluster\n",
    "ggplot(gathered_oes, aes(x = year, y = mean_salary, color = factor(cluster))) + \n",
    "    geom_line(aes(group = occupation))\n"
   ]
  },
  {
   "cell_type": "markdown",
   "metadata": {},
   "source": [
    "Cool huh! From this work it looks like both Management & Legal professions (cluster 1) experienced the most rapid growth in these 15 years. Let's see what we can get by exploring this data using k-means."
   ]
  },
  {
   "cell_type": "markdown",
   "metadata": {},
   "source": [
    "## Reviewing the HC Results - Video"
   ]
  },
  {
   "cell_type": "markdown",
   "metadata": {},
   "source": [
    "### K-means: Elbow analysis\n",
    "In the previous exercises you used the dendrogram to proposed a clustering that generated 3 trees. In this exercise you will leverage the k-means elbow plot to propose the \"best\" number of clusters.\n",
    "\n",
    "INSTRUCTIONS\n",
    "100XP\n",
    "\n",
    " - Use map_dbl() to run kmeans() using the oes data for k values ranging from 1 to 10 and extract the total within-cluster sum of squares value from each model: model$tot.withinss\n",
    " - Store the resulting vector as tot_withinss\n",
    " - Build a new dataframe elbow_df containing the values of k and the vector of total within-cluster sum of squares\n",
    " - Use the values in elbow_df to plot a line plot showing the relationship between k and total within-cluster sum of squares"
   ]
  },
  {
   "cell_type": "code",
   "execution_count": 36,
   "metadata": {
    "collapsed": false
   },
   "outputs": [
    {
     "data": {},
     "metadata": {},
     "output_type": "display_data"
    },
    {
     "data": {
      "image/png": "[encoded data removed]",
      "text/plain": [
       "plot without title"
      ]
     },
     "metadata": {},
     "output_type": "display_data"
    }
   ],
   "source": [
    "# Use map_dbl to run many models with varying value of k (centers)\n",
    "tot_withinss <- map_dbl(1:10,  function(k){\n",
    "  model <- kmeans(x = oes, centers = k)\n",
    "  model$tot.withinss\n",
    "})\n",
    "\n",
    "# Generate a data frame containing both k and tot_withinss\n",
    "elbow_df <- data.frame(\n",
    "  k = 1:10,\n",
    "  tot_withinss = tot_withinss\n",
    ")\n",
    "\n",
    "# Plot the elbow plot\n",
    "ggplot(elbow_df, aes(x = k, y = tot_withinss)) +\n",
    "  geom_line() +\n",
    "  scale_x_continuous(breaks = 1:10)"
   ]
  },
  {
   "cell_type": "code",
   "execution_count": 37,
   "metadata": {
    "collapsed": false
   },
   "outputs": [
    {
     "data": {
      "text/html": [
       "<table>\n",
       "<thead><tr><th scope=col>k</th><th scope=col>tot_withinss</th></tr></thead>\n",
       "<tbody>\n",
       "\t<tr><td> 1          </td><td>161931542045</td></tr>\n",
       "\t<tr><td> 2          </td><td> 36135001888</td></tr>\n",
       "\t<tr><td> 3          </td><td> 20586285113</td></tr>\n",
       "\t<tr><td> 4          </td><td> 19278660758</td></tr>\n",
       "\t<tr><td> 5          </td><td>  3729943983</td></tr>\n",
       "\t<tr><td> 6          </td><td>  2524129050</td></tr>\n",
       "\t<tr><td> 7          </td><td>  2306105040</td></tr>\n",
       "\t<tr><td> 8          </td><td>  3431838115</td></tr>\n",
       "\t<tr><td> 9          </td><td>  1002316883</td></tr>\n",
       "\t<tr><td>10          </td><td>   894960467</td></tr>\n",
       "</tbody>\n",
       "</table>\n"
      ],
      "text/latex": [
       "\\begin{tabular}{r|ll}\n",
       " k & tot\\_withinss\\\\\n",
       "\\hline\n",
       "\t  1           & 161931542045\\\\\n",
       "\t  2           &  36135001888\\\\\n",
       "\t  3           &  20586285113\\\\\n",
       "\t  4           &  19278660758\\\\\n",
       "\t  5           &   3729943983\\\\\n",
       "\t  6           &   2524129050\\\\\n",
       "\t  7           &   2306105040\\\\\n",
       "\t  8           &   3431838115\\\\\n",
       "\t  9           &   1002316883\\\\\n",
       "\t 10           &    894960467\\\\\n",
       "\\end{tabular}\n"
      ],
      "text/markdown": [
       "\n",
       "k | tot_withinss | \n",
       "|---|---|---|---|---|---|---|---|---|---|\n",
       "|  1           | 161931542045 | \n",
       "|  2           |  36135001888 | \n",
       "|  3           |  20586285113 | \n",
       "|  4           |  19278660758 | \n",
       "|  5           |   3729943983 | \n",
       "|  6           |   2524129050 | \n",
       "|  7           |   2306105040 | \n",
       "|  8           |   3431838115 | \n",
       "|  9           |   1002316883 | \n",
       "| 10           |    894960467 | \n",
       "\n",
       "\n"
      ],
      "text/plain": [
       "   k  tot_withinss\n",
       "1   1 161931542045\n",
       "2   2  36135001888\n",
       "3   3  20586285113\n",
       "4   4  19278660758\n",
       "5   5   3729943983\n",
       "6   6   2524129050\n",
       "7   7   2306105040\n",
       "8   8   3431838115\n",
       "9   9   1002316883\n",
       "10 10    894960467"
      ]
     },
     "metadata": {},
     "output_type": "display_data"
    }
   ],
   "source": [
    "elbow_df"
   ]
  },
  {
   "cell_type": "markdown",
   "metadata": {},
   "source": [
    "Fascinating! So the elbow analysis proposes a different value of k, in the next section let's see what we can learn from Silhouette Width Analysis."
   ]
  },
  {
   "cell_type": "markdown",
   "metadata": {},
   "source": [
    "### K-means: Average Silhouette Widths\n",
    "So hierarchical clustering resulting in 3 clusters and the elbow method suggests 2. In this exercise use average silhouette widths to explore what the \"best\" value of k should be.\n",
    "\n",
    "INSTRUCTIONS\n",
    "100XP\n",
    "\n",
    " - Use map_dbl() to run pam() using the oes data for k values ranging from 2 to 10 and extract the average silhouette width value from each model: `model$silinfo$avg.width` Store the resulting vector as sil_width\n",
    " - Build a new dataframe sil_df containing the values of k and the vector of average silhouette widths\n",
    " - Use the values in sil_df to plot a line plot showing the relationship between k and average silhouette width"
   ]
  },
  {
   "cell_type": "code",
   "execution_count": 38,
   "metadata": {
    "collapsed": false
   },
   "outputs": [
    {
     "data": {},
     "metadata": {},
     "output_type": "display_data"
    },
    {
     "data": {
      "image/png": "[encoded data removed]",
      "text/plain": [
       "plot without title"
      ]
     },
     "metadata": {},
     "output_type": "display_data"
    }
   ],
   "source": [
    "# Use map_dbl to run many models with varying value of k\n",
    "sil_width <- map_dbl(2:10,  function(k){\n",
    "  model <- pam(oes, k = k)\n",
    "  model$silinfo$avg.width\n",
    "})\n",
    "\n",
    "# Generate a data frame containing both k and sil_width\n",
    "sil_df <- data.frame(\n",
    "  k = 2:10,\n",
    "  sil_width = sil_width\n",
    ")\n",
    "\n",
    "# Plot the relationship between k and sil_width\n",
    "ggplot(sil_df, aes(x = k, y = sil_width)) +\n",
    "  geom_line() +\n",
    "  scale_x_continuous(breaks = 2:10)"
   ]
  },
  {
   "cell_type": "code",
   "execution_count": 39,
   "metadata": {
    "collapsed": false
   },
   "outputs": [
    {
     "data": {
      "text/html": [
       "<table>\n",
       "<thead><tr><th></th><th scope=col>k</th><th scope=col>sil_width</th></tr></thead>\n",
       "<tbody>\n",
       "\t<tr><th scope=row>6</th><td> 7       </td><td>0.6915586</td></tr>\n",
       "\t<tr><th scope=row>1</th><td> 2       </td><td>0.6809574</td></tr>\n",
       "\t<tr><th scope=row>4</th><td> 5       </td><td>0.6637260</td></tr>\n",
       "\t<tr><th scope=row>7</th><td> 8       </td><td>0.6366426</td></tr>\n",
       "\t<tr><th scope=row>5</th><td> 6       </td><td>0.6361872</td></tr>\n",
       "\t<tr><th scope=row>3</th><td> 4       </td><td>0.6300043</td></tr>\n",
       "\t<tr><th scope=row>8</th><td> 9       </td><td>0.5816429</td></tr>\n",
       "\t<tr><th scope=row>2</th><td> 3       </td><td>0.5665783</td></tr>\n",
       "\t<tr><th scope=row>9</th><td>10       </td><td>0.5545481</td></tr>\n",
       "</tbody>\n",
       "</table>\n"
      ],
      "text/latex": [
       "\\begin{tabular}{r|ll}\n",
       "  & k & sil\\_width\\\\\n",
       "\\hline\n",
       "\t6 &  7        & 0.6915586\\\\\n",
       "\t1 &  2        & 0.6809574\\\\\n",
       "\t4 &  5        & 0.6637260\\\\\n",
       "\t7 &  8        & 0.6366426\\\\\n",
       "\t5 &  6        & 0.6361872\\\\\n",
       "\t3 &  4        & 0.6300043\\\\\n",
       "\t8 &  9        & 0.5816429\\\\\n",
       "\t2 &  3        & 0.5665783\\\\\n",
       "\t9 & 10        & 0.5545481\\\\\n",
       "\\end{tabular}\n"
      ],
      "text/markdown": [
       "\n",
       "| <!--/--> | k | sil_width | \n",
       "|---|---|---|---|---|---|---|---|---|\n",
       "| 6 |  7        | 0.6915586 | \n",
       "| 1 |  2        | 0.6809574 | \n",
       "| 4 |  5        | 0.6637260 | \n",
       "| 7 |  8        | 0.6366426 | \n",
       "| 5 |  6        | 0.6361872 | \n",
       "| 3 |  4        | 0.6300043 | \n",
       "| 8 |  9        | 0.5816429 | \n",
       "| 2 |  3        | 0.5665783 | \n",
       "| 9 | 10        | 0.5545481 | \n",
       "\n",
       "\n"
      ],
      "text/plain": [
       "  k  sil_width\n",
       "6  7 0.6915586\n",
       "1  2 0.6809574\n",
       "4  5 0.6637260\n",
       "7  8 0.6366426\n",
       "5  6 0.6361872\n",
       "3  4 0.6300043\n",
       "8  9 0.5816429\n",
       "2  3 0.5665783\n",
       "9 10 0.5545481"
      ]
     },
     "metadata": {},
     "output_type": "display_data"
    }
   ],
   "source": [
    "sil_df[order(sil_width, decreasing=TRUE),]"
   ]
  },
  {
   "cell_type": "markdown",
   "metadata": {},
   "source": [
    "Great work! It seems that this analysis results in another value of k, this time 7 is the top contender (although 2 comes very close)."
   ]
  },
  {
   "cell_type": "markdown",
   "metadata": {},
   "source": [
    "### The \"best\" number of clusters\n",
    "You ran three different methods for finding the optimal number of clusters and their assignments and you arrived with three different answers.\n",
    "\n",
    "Below you will find a comparison between the 3 clustering results (via coloring of the occupations based on the clusters to which they belong).\n",
    "\n",
    "oes_clusters\n",
    "\n",
    "What can you say about the \"best\" way to cluster this data?\n",
    "\n",
    "ANSWER THE QUESTION\n",
    "\n",
    "Possible Answers\n",
    " - The clusters generated by the hierarchical clustering all have members with a euclidean distance amongst one another less than 100,000 and hence is the best clustering method.\n",
    " - press 1\n",
    " - The clusters generated using k-means with a k = 2 was identified using elbow analysis and hence is the best way to cluster this data.\n",
    " - press 2\n",
    " - The clusters generated using k-means with a k = 7 has the largest Average Silhouette Widths among the cluster and hence is the best way to cluster this data.\n",
    " - press 3\n",
    " - All of the above are correct but the best way to cluster is highly dependent on how you would use this data after. (Correct)\n",
    " - press 4\n"
   ]
  },
  {
   "cell_type": "markdown",
   "metadata": {},
   "source": [
    "All 3 statements are correct but there is no quantitative way to determine which of these clustering approaches is the right one without futher exploration."
   ]
  },
  {
   "cell_type": "markdown",
   "metadata": {},
   "source": [
    "## Review K-means Results - Video"
   ]
  },
  {
   "cell_type": "markdown",
   "metadata": {},
   "source": [
    "**Building intuition for your method is just as, if not more important than learning how to use their associated tools.**"
   ]
  },
  {
   "cell_type": "markdown",
   "metadata": {},
   "source": [
    "# Thanks You"
   ]
  },
  {
   "cell_type": "code",
   "execution_count": null,
   "metadata": {
    "collapsed": true
   },
   "outputs": [],
   "source": []
  }
 ],
 "metadata": {
  "anaconda-cloud": {},
  "kernelspec": {
   "display_name": "R",
   "language": "R",
   "name": "ir"
  },
  "language_info": {
   "codemirror_mode": "r",
   "file_extension": ".r",
   "mimetype": "text/x-r-source",
   "name": "R",
   "pygments_lexer": "r",
   "version": "3.3.2"
  }
 },
 "nbformat": 4,
 "nbformat_minor": 1
}
