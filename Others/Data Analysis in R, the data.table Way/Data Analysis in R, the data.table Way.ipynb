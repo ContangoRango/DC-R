{
 "cells": [
  {
   "cell_type": "markdown",
   "metadata": {},
   "source": [
    "# Course Description\n",
    "\n",
    "The R data.table package is rapidly making its name as the number one choice for handling large datasets in R. This online data.table tutorial will bring you from data.table novice to expert in no time. Once you are introduced to the general form of a data.table query, you will learn the techniques to subset your data.table, how to update by reference and how you can use data.table’s set()-family in your workflow. The course finishes with more complex concepts such as indexing, keys and fast ordered joins. Upon completion of the course, you will be able to use data.table in R for a more efficient manipulation and analysis process. Enjoy!"
   ]
  },
  {
   "cell_type": "code",
   "execution_count": 1,
   "metadata": {},
   "outputs": [],
   "source": [
    "library(data.table)"
   ]
  },
  {
   "cell_type": "markdown",
   "metadata": {},
   "source": [
    "# 1. Data.table novice\n",
    "\n",
    "Introduction on what exactly a data.table is, how it differs from the traditional data.frame in R, and understanding the general form of a data.table query."
   ]
  },
  {
   "cell_type": "markdown",
   "metadata": {},
   "source": [
    "## Section 1 - Introduction - Video"
   ]
  },
  {
   "cell_type": "markdown",
   "metadata": {},
   "source": [
    "### Create and subset a data.table\n",
    "Welcome to the interactive exercises for your data.table course. Here you will learn the ins and outs of working with the data.table package.\n",
    "\n",
    "While most of the material is covered by Matt and Arun in the videos, you will sometimes need to show some street smarts to get to the right answer. Remember that before using the hint you can always have a look at the official documentation by typing ?data.table in the console.\n",
    "\n",
    "Let's start with some warm-up exercises based on the topics covered in the video. Recall from the video that you can use L after a numeric to specify that it is an integer. You can also give columns with different lengths when creating a data.table, and R will \"recycle\" the shorter column to match the length of the longer one by re-using the first items. In the example below, column x is recycled to match the length of column y:\n",
    "\n",
    "`data.table(x = c(\"A\", \"B\"), y = 1:4)\n",
    "   x y\n",
    "1: A 1\n",
    "2: B 2\n",
    "3: A 3\n",
    "4: B 4`\n",
    "\n",
    "You can also review the slides used in the videos by pressing the slides button.\n",
    "\n",
    "INSTRUCTIONS\n",
    "100 XP\n",
    "\n",
    " - Create a data.table my_first_data_table with a column x = c(\"a\", \"b\", \"c\", \"d\", \"e\") and a column y = c(1, 2, 3, 4, 5). Use the function data.table().\n",
    " - Create a two-column data.table DT that contains the four integers 1, 2, 1 and 2 in the first column a and the letters A, B, C and D in the second column b. Use recycling so that the contents of a will be automatically used twice. Note that LETTERS[1] returns \"A\", LETTERS[2] returns \"B\", and so on.\n",
    " - Select the third row of DT and just print the result to the console.\n",
    " - Select the second and third rows without using commas and print the result to the console.\n"
   ]
  },
  {
   "cell_type": "code",
   "execution_count": 3,
   "metadata": {},
   "outputs": [
    {
     "name": "stdout",
     "output_type": "stream",
     "text": [
      "   a b\n",
      "1: 1 C\n",
      "   a b\n",
      "1: 2 B\n",
      "2: 1 C\n"
     ]
    }
   ],
   "source": [
    "# The data.table package is preloaded\n",
    "\n",
    "# Create my_first_data_table\n",
    "my_first_data_table <- data.table(x = c(\"a\", \"b\", \"c\", \"d\", \"e\"), \n",
    "                                  y = c(1, 2, 3, 4, 5))  \n",
    "  \n",
    "# Create a data.table using recycling\n",
    "DT <- data.table(a = c(1L, 2L), b = LETTERS[1:4])\n",
    "\n",
    "# Print the third row to the console\n",
    "print(DT[3,])\n",
    "\n",
    "# Print the second and third row to the console without using commas\n",
    "print(DT[2:3,])"
   ]
  },
  {
   "cell_type": "markdown",
   "metadata": {},
   "source": [
    "### Getting to know a data.table\n",
    "You can pass a data.table to base R functions like `head()` and `tail()` that accept a data.frame because data.tables are also data.frames. Also, keep in mind that the special symbol .N, when used inside square brackets, contains the number of rows. For example, `DT[.N]` and `DT[nrow(DT)]` will both return the last row in DT.\n",
    "\n",
    "INSTRUCTIONS\n",
    "\n",
    "100 XP\n",
    " - Select the second to last row of the table using .N.\n",
    " - Return the column names() of the data.table.\n",
    " - Return the number of rows and number of columns of the data.table using the dim() function.\n",
    " - Select row 2 twice and row 3 once, returning a data.table with three rows (two of which are identical)."
   ]
  },
  {
   "cell_type": "code",
   "execution_count": 4,
   "metadata": {},
   "outputs": [
    {
     "name": "stdout",
     "output_type": "stream",
     "text": [
      "   a b\n",
      "1: 1 C\n"
     ]
    },
    {
     "data": {
      "text/html": [
       "<ol class=list-inline>\n",
       "\t<li>'a'</li>\n",
       "\t<li>'b'</li>\n",
       "</ol>\n"
      ],
      "text/latex": [
       "\\begin{enumerate*}\n",
       "\\item 'a'\n",
       "\\item 'b'\n",
       "\\end{enumerate*}\n"
      ],
      "text/markdown": [
       "1. 'a'\n",
       "2. 'b'\n",
       "\n",
       "\n"
      ],
      "text/plain": [
       "[1] \"a\" \"b\""
      ]
     },
     "metadata": {},
     "output_type": "display_data"
    },
    {
     "data": {
      "text/html": [
       "<ol class=list-inline>\n",
       "\t<li>4</li>\n",
       "\t<li>2</li>\n",
       "</ol>\n"
      ],
      "text/latex": [
       "\\begin{enumerate*}\n",
       "\\item 4\n",
       "\\item 2\n",
       "\\end{enumerate*}\n"
      ],
      "text/markdown": [
       "1. 4\n",
       "2. 2\n",
       "\n",
       "\n"
      ],
      "text/plain": [
       "[1] 4 2"
      ]
     },
     "metadata": {},
     "output_type": "display_data"
    },
    {
     "data": {
      "text/html": [
       "<table>\n",
       "<thead><tr><th scope=col>a</th><th scope=col>b</th></tr></thead>\n",
       "<tbody>\n",
       "\t<tr><td>2</td><td>B</td></tr>\n",
       "\t<tr><td>2</td><td>B</td></tr>\n",
       "\t<tr><td>1</td><td>C</td></tr>\n",
       "</tbody>\n",
       "</table>\n"
      ],
      "text/latex": [
       "\\begin{tabular}{r|ll}\n",
       " a & b\\\\\n",
       "\\hline\n",
       "\t 2 & B\\\\\n",
       "\t 2 & B\\\\\n",
       "\t 1 & C\\\\\n",
       "\\end{tabular}\n"
      ],
      "text/markdown": [
       "\n",
       "a | b | \n",
       "|---|---|---|\n",
       "| 2 | B | \n",
       "| 2 | B | \n",
       "| 1 | C | \n",
       "\n",
       "\n"
      ],
      "text/plain": [
       "  a b\n",
       "1 2 B\n",
       "2 2 B\n",
       "3 1 C"
      ]
     },
     "metadata": {},
     "output_type": "display_data"
    }
   ],
   "source": [
    "# DT and the data.table package are pre-loaded\n",
    "\n",
    "# Print the second to last row of DT using .N\n",
    "print(DT[.N-1])\n",
    "\n",
    "# Print the column names of DT\n",
    "names(DT)\n",
    "\n",
    "# Print the number or rows and columns of DT\n",
    "dim(DT)\n",
    "\n",
    "# Print a new data.table containing rows 2, 2, and 3 of DT\n",
    "DT[c(2,2,3),]"
   ]
  },
  {
   "cell_type": "markdown",
   "metadata": {},
   "source": [
    "## Section 2 - Selecting columns in j - Video"
   ]
  },
  {
   "cell_type": "markdown",
   "metadata": {},
   "source": [
    "### A data.table of a vector?\n",
    "A data.table DT is preloaded in your workspace on the right. Type DT in the console to have a look at it. As you have learned in the video, you can select a column from that data.table with DT[, .(B)].\n",
    "\n",
    "What do you think is the output of DT[, B]?\n",
    "\n",
    "INSTRUCTIONS\n",
    "50 XP\n",
    "Possible Answers\n",
    " - A data.table\n",
    " - press 1\n",
    " - A vector (Correct)\n",
    " - press 2"
   ]
  },
  {
   "cell_type": "code",
   "execution_count": 9,
   "metadata": {},
   "outputs": [
    {
     "data": {
      "text/html": [
       "<table>\n",
       "<thead><tr><th scope=col>A</th><th scope=col>B</th><th scope=col>C</th></tr></thead>\n",
       "<tbody>\n",
       "\t<tr><td>1 </td><td>a </td><td> 6</td></tr>\n",
       "\t<tr><td>2 </td><td>b </td><td> 7</td></tr>\n",
       "\t<tr><td>3 </td><td>c </td><td> 8</td></tr>\n",
       "\t<tr><td>4 </td><td>d </td><td> 9</td></tr>\n",
       "\t<tr><td>5 </td><td>e </td><td>10</td></tr>\n",
       "</tbody>\n",
       "</table>\n"
      ],
      "text/latex": [
       "\\begin{tabular}{r|lll}\n",
       " A & B & C\\\\\n",
       "\\hline\n",
       "\t 1  & a  &  6\\\\\n",
       "\t 2  & b  &  7\\\\\n",
       "\t 3  & c  &  8\\\\\n",
       "\t 4  & d  &  9\\\\\n",
       "\t 5  & e  & 10\\\\\n",
       "\\end{tabular}\n"
      ],
      "text/markdown": [
       "\n",
       "A | B | C | \n",
       "|---|---|---|---|---|\n",
       "| 1  | a  |  6 | \n",
       "| 2  | b  |  7 | \n",
       "| 3  | c  |  8 | \n",
       "| 4  | d  |  9 | \n",
       "| 5  | e  | 10 | \n",
       "\n",
       "\n"
      ],
      "text/plain": [
       "  A B C \n",
       "1 1 a  6\n",
       "2 2 b  7\n",
       "3 3 c  8\n",
       "4 4 d  9\n",
       "5 5 e 10"
      ]
     },
     "metadata": {},
     "output_type": "display_data"
    }
   ],
   "source": [
    "DT = data.table(A=1:5, B=letters[1:5], C = 6:10)\n",
    "DT"
   ]
  },
  {
   "cell_type": "code",
   "execution_count": 10,
   "metadata": {},
   "outputs": [
    {
     "data": {
      "text/html": [
       "<table>\n",
       "<thead><tr><th scope=col>B</th></tr></thead>\n",
       "<tbody>\n",
       "\t<tr><td>a</td></tr>\n",
       "\t<tr><td>b</td></tr>\n",
       "\t<tr><td>c</td></tr>\n",
       "\t<tr><td>d</td></tr>\n",
       "\t<tr><td>e</td></tr>\n",
       "</tbody>\n",
       "</table>\n"
      ],
      "text/latex": [
       "\\begin{tabular}{r|l}\n",
       " B\\\\\n",
       "\\hline\n",
       "\t a\\\\\n",
       "\t b\\\\\n",
       "\t c\\\\\n",
       "\t d\\\\\n",
       "\t e\\\\\n",
       "\\end{tabular}\n"
      ],
      "text/markdown": [
       "\n",
       "B | \n",
       "|---|---|---|---|---|\n",
       "| a | \n",
       "| b | \n",
       "| c | \n",
       "| d | \n",
       "| e | \n",
       "\n",
       "\n"
      ],
      "text/plain": [
       "  B\n",
       "1 a\n",
       "2 b\n",
       "3 c\n",
       "4 d\n",
       "5 e"
      ]
     },
     "metadata": {},
     "output_type": "display_data"
    }
   ],
   "source": [
    "DT[, .(B)]"
   ]
  },
  {
   "cell_type": "code",
   "execution_count": 11,
   "metadata": {},
   "outputs": [
    {
     "data": {
      "text/html": [
       "<ol class=list-inline>\n",
       "\t<li>'a'</li>\n",
       "\t<li>'b'</li>\n",
       "\t<li>'c'</li>\n",
       "\t<li>'d'</li>\n",
       "\t<li>'e'</li>\n",
       "</ol>\n"
      ],
      "text/latex": [
       "\\begin{enumerate*}\n",
       "\\item 'a'\n",
       "\\item 'b'\n",
       "\\item 'c'\n",
       "\\item 'd'\n",
       "\\item 'e'\n",
       "\\end{enumerate*}\n"
      ],
      "text/markdown": [
       "1. 'a'\n",
       "2. 'b'\n",
       "3. 'c'\n",
       "4. 'd'\n",
       "5. 'e'\n",
       "\n",
       "\n"
      ],
      "text/plain": [
       "[1] \"a\" \"b\" \"c\" \"d\" \"e\""
      ]
     },
     "metadata": {},
     "output_type": "display_data"
    }
   ],
   "source": [
    "DT[, B]"
   ]
  },
  {
   "cell_type": "markdown",
   "metadata": {},
   "source": [
    "Correct. When you use .() in j, the result is always a data.table. For convenience, data.table also provides the option to return a vector while computing on just a single column and not wrapping it with .()."
   ]
  },
  {
   "cell_type": "markdown",
   "metadata": {},
   "source": [
    "### A non-existing column\n",
    "Have a close look at 1.1 and 1.2 from the data.table package FAQs.\n",
    "\n",
    "Type D <- 5 in the console. What do you think is the output of DT[, .(D)] and DT[, D]?\n",
    "\n",
    "INSTRUCTIONS\n",
    "50 XP\n",
    "Possible Answers\n",
    "Both outputs give an error.\n",
    " - press 1\n",
    " - DT[, D] returns 5 as vector, and DT[, .(D)] returns 5 as data.table. (Correct)\n",
    " - press 2\n",
    " - DT[, D] returns 5 as data.table, and DT[, .(D)] returns 5 as vector.\n",
    " - press 3\n",
    " - DT[, D] returns 5 as vector, and DT[, .(D)] returns an error.\n",
    " - press 4\n",
    " - DT[, D] returns an error, and DT[, .(D)] returns 5 as data.table. \n",
    " - press 5"
   ]
  },
  {
   "cell_type": "markdown",
   "metadata": {},
   "source": [
    "Well done! Column D does not exist in DT and is thus not seen as a variable. This causes data.table to look for D in DT's parent frame. Also note that .() in j always returns a data.table."
   ]
  },
  {
   "cell_type": "markdown",
   "metadata": {},
   "source": [
    "### Subsetting data.tables\n",
    "As a reminder, `DT[i, j, by]` is pronounced\n",
    "\n",
    "Take DT, subset rows using i, then calculate j grouped by by.\n",
    "\n",
    "In the video, the second argument j was covered. j can be used to select columns by wrapping the column names in .().\n",
    "\n",
    "In addition to selecting columns, you can also call functions on them as if the columns were variables. For example, if you had a data.table heights storing people's heights in inches, you could compute their heights in feet as follows:\n",
    "\n",
    "`    name  eye_color   height_inch\n",
    "1:   Tom      Brown            69\n",
    "2: Boris       Blue            71\n",
    "3:   Jim       Blue            68`\n",
    "\n",
    "`> heights[, .(name, \n",
    "              height_ft = height_inch / 12)]\n",
    "    name   height_ft\n",
    "1:   Tom    5.750000\n",
    "2: Boris    5.916667\n",
    "3:   Jim    5.666667`\n",
    "\n",
    "INSTRUCTIONS\n",
    "100 XP\n",
    "\n",
    " - Create a subset containing the columns B and C for rows 1 and 3 of DT. Simply print out this subset to the console.\n",
    " - From DT, create a data.table, ans with two columns: B and val, where val is the product of A and C.\n",
    " - Fill in the blanks in the assignment of ans2, such that it equals the data.table specified in target. Use columns from the previously defined data.tables to produce the val column."
   ]
  },
  {
   "cell_type": "code",
   "execution_count": 12,
   "metadata": {},
   "outputs": [
    {
     "data": {
      "text/html": [
       "<table>\n",
       "<thead><tr><th scope=col>B</th><th scope=col>C</th></tr></thead>\n",
       "<tbody>\n",
       "\t<tr><td>a</td><td>6</td></tr>\n",
       "\t<tr><td>c</td><td>8</td></tr>\n",
       "</tbody>\n",
       "</table>\n"
      ],
      "text/latex": [
       "\\begin{tabular}{r|ll}\n",
       " B & C\\\\\n",
       "\\hline\n",
       "\t a & 6\\\\\n",
       "\t c & 8\\\\\n",
       "\\end{tabular}\n"
      ],
      "text/markdown": [
       "\n",
       "B | C | \n",
       "|---|---|\n",
       "| a | 6 | \n",
       "| c | 8 | \n",
       "\n",
       "\n"
      ],
      "text/plain": [
       "  B C\n",
       "1 a 6\n",
       "2 c 8"
      ]
     },
     "metadata": {},
     "output_type": "display_data"
    }
   ],
   "source": [
    "# DT and the data.table package are pre-loaded\n",
    "\n",
    "# Subset rows 1 and 3, and columns B and C\n",
    "DT[c(1,3), .(B,C)]\n",
    "\n",
    "# Assign to ans the correct value\n",
    "ans = DT[,.(B, val=A*C)]\n",
    "  \n",
    "# Fill in the blanks such that ans2 equals target\n",
    "target <- data.table(B = c(\"a\", \"b\", \"c\", \"d\", \"e\", \n",
    "                           \"a\", \"b\", \"c\", \"d\", \"e\"), \n",
    "                     val = as.integer(c(6:10, 1:5)))\n",
    "ans2 <- DT[, .(B, val = as.integer(c(6:10, 1:5)))]"
   ]
  },
  {
   "cell_type": "markdown",
   "metadata": {},
   "source": [
    "Great job! Did you notice B is recycled?"
   ]
  },
  {
   "cell_type": "markdown",
   "metadata": {},
   "source": [
    "### Section 3 - Doing j by group - Video"
   ]
  },
  {
   "cell_type": "markdown",
   "metadata": {},
   "source": [
    "### The by basics\n",
    "In this section you were introduced to the last of the main parts of the data.table syntax: by. If you supply a j expression and a by list of expressions, the j expression is repeated for each by group. Time to master the by argument with some hands-on examples and exercises.\n",
    "\n",
    "First, just print iris to the console and observe that all rows are printed and that the column names scroll off the top of your screen. This is because iris is a data.frame. Scroll back up to the top to see the column names.\n",
    "\n",
    "INSTRUCTIONS\n",
    "100 XP\n",
    "\n",
    " - Convert the iris dataset to a data.table DT. You're now ready to use data.table magic on it!\n",
    " - Create a new column containing the mean Sepal.Length for each Species. Do not provide a name for this newly created column.\n",
    " - Do exactly the same as in the instruction above, but this time, group by the first letter of the Species name instead. Use substr() for this."
   ]
  },
  {
   "cell_type": "code",
   "execution_count": 13,
   "metadata": {},
   "outputs": [
    {
     "data": {
      "text/html": [
       "<table>\n",
       "<thead><tr><th scope=col>Species</th><th scope=col>V1</th></tr></thead>\n",
       "<tbody>\n",
       "\t<tr><td>setosa    </td><td>5.006     </td></tr>\n",
       "\t<tr><td>versicolor</td><td>5.936     </td></tr>\n",
       "\t<tr><td>virginica </td><td>6.588     </td></tr>\n",
       "</tbody>\n",
       "</table>\n"
      ],
      "text/latex": [
       "\\begin{tabular}{r|ll}\n",
       " Species & V1\\\\\n",
       "\\hline\n",
       "\t setosa     & 5.006     \\\\\n",
       "\t versicolor & 5.936     \\\\\n",
       "\t virginica  & 6.588     \\\\\n",
       "\\end{tabular}\n"
      ],
      "text/markdown": [
       "\n",
       "Species | V1 | \n",
       "|---|---|---|\n",
       "| setosa     | 5.006      | \n",
       "| versicolor | 5.936      | \n",
       "| virginica  | 6.588      | \n",
       "\n",
       "\n"
      ],
      "text/plain": [
       "  Species    V1   \n",
       "1 setosa     5.006\n",
       "2 versicolor 5.936\n",
       "3 virginica  6.588"
      ]
     },
     "metadata": {},
     "output_type": "display_data"
    },
    {
     "data": {
      "text/html": [
       "<table>\n",
       "<thead><tr><th scope=col>substr</th><th scope=col>V1</th></tr></thead>\n",
       "<tbody>\n",
       "\t<tr><td>s    </td><td>5.006</td></tr>\n",
       "\t<tr><td>v    </td><td>6.262</td></tr>\n",
       "</tbody>\n",
       "</table>\n"
      ],
      "text/latex": [
       "\\begin{tabular}{r|ll}\n",
       " substr & V1\\\\\n",
       "\\hline\n",
       "\t s     & 5.006\\\\\n",
       "\t v     & 6.262\\\\\n",
       "\\end{tabular}\n"
      ],
      "text/markdown": [
       "\n",
       "substr | V1 | \n",
       "|---|---|\n",
       "| s     | 5.006 | \n",
       "| v     | 6.262 | \n",
       "\n",
       "\n"
      ],
      "text/plain": [
       "  substr V1   \n",
       "1 s      5.006\n",
       "2 v      6.262"
      ]
     },
     "metadata": {},
     "output_type": "display_data"
    }
   ],
   "source": [
    "# iris is already available in your workspace\n",
    "\n",
    "# Convert iris to a data.table: DT\n",
    "DT =data.table(iris)\n",
    "\n",
    "# For each Species, print the mean Sepal.Length\n",
    "DT[,mean(Sepal.Length), by=Species]\n",
    "#DT[,.(mean= mean(Sepal.Length)), by=Species]\n",
    "\n",
    "# Print mean Sepal.Length, grouping by first letter of Species\n",
    "DT[,mean(Sepal.Length), by=.(substr(Species,1,1))]"
   ]
  },
  {
   "cell_type": "markdown",
   "metadata": {},
   "source": [
    "### Using .N and by\n",
    "You saw earlier that .N can be used in i and that it designates the number of rows in DT. There, it is typically used for returning the last row or an offset from it. .N can be used in j too and designates the number of rows in this group. This becomes very powerful when you use it in combination with by.\n",
    "\n",
    "DT, a data.table version of iris, is already loaded in your workspace, so you can start experimenting right away. In this exercise, you will group by sepal area. Though sepals aren't rectangles, just multiply the length by the width to calculate the area.\n",
    "\n",
    "INSTRUCTIONS\n",
    "100 XP\n",
    " - Group the specimens by Sepal area (Sepal.Length * Sepal.Width) to the nearest 10 cm2. Count how many occur in each group by specifying .N in j. Simply print the resulting data.table. Use the template in the sample code by filling in the blanks.\n",
    " - Copy and adapt the solution to the above question, to name the columns Area and Count, respectively."
   ]
  },
  {
   "cell_type": "code",
   "execution_count": 14,
   "metadata": {},
   "outputs": [
    {
     "data": {
      "text/html": [
       "<table>\n",
       "<thead><tr><th scope=col>round</th><th scope=col>N</th></tr></thead>\n",
       "<tbody>\n",
       "\t<tr><td>20 </td><td>117</td></tr>\n",
       "\t<tr><td>10 </td><td> 29</td></tr>\n",
       "\t<tr><td>30 </td><td>  4</td></tr>\n",
       "</tbody>\n",
       "</table>\n"
      ],
      "text/latex": [
       "\\begin{tabular}{r|ll}\n",
       " round & N\\\\\n",
       "\\hline\n",
       "\t 20  & 117\\\\\n",
       "\t 10  &  29\\\\\n",
       "\t 30  &   4\\\\\n",
       "\\end{tabular}\n"
      ],
      "text/markdown": [
       "\n",
       "round | N | \n",
       "|---|---|---|\n",
       "| 20  | 117 | \n",
       "| 10  |  29 | \n",
       "| 30  |   4 | \n",
       "\n",
       "\n"
      ],
      "text/plain": [
       "  round N  \n",
       "1 20    117\n",
       "2 10     29\n",
       "3 30      4"
      ]
     },
     "metadata": {},
     "output_type": "display_data"
    },
    {
     "data": {
      "text/html": [
       "<table>\n",
       "<thead><tr><th scope=col>Area</th><th scope=col>Count</th></tr></thead>\n",
       "<tbody>\n",
       "\t<tr><td>20 </td><td>117</td></tr>\n",
       "\t<tr><td>10 </td><td> 29</td></tr>\n",
       "\t<tr><td>30 </td><td>  4</td></tr>\n",
       "</tbody>\n",
       "</table>\n"
      ],
      "text/latex": [
       "\\begin{tabular}{r|ll}\n",
       " Area & Count\\\\\n",
       "\\hline\n",
       "\t 20  & 117\\\\\n",
       "\t 10  &  29\\\\\n",
       "\t 30  &   4\\\\\n",
       "\\end{tabular}\n"
      ],
      "text/markdown": [
       "\n",
       "Area | Count | \n",
       "|---|---|---|\n",
       "| 20  | 117 | \n",
       "| 10  |  29 | \n",
       "| 30  |   4 | \n",
       "\n",
       "\n"
      ],
      "text/plain": [
       "  Area Count\n",
       "1 20   117  \n",
       "2 10    29  \n",
       "3 30     4  "
      ]
     },
     "metadata": {},
     "output_type": "display_data"
    }
   ],
   "source": [
    "# data.table version of iris: DT\n",
    "DT <- as.data.table(iris)\n",
    "\n",
    "# Group the specimens by Sepal area (to the nearest 10 cm2) and count how many occur in each group\n",
    "DT[, .N, by = 10 * round(Sepal.Length * Sepal.Width / 10)]\n",
    "\n",
    "# Now name the output columns `Area` and `Count`\n",
    "DT[, .(Count=.N), by = .(Area=10 * round(Sepal.Length * Sepal.Width / 10))]"
   ]
  },
  {
   "cell_type": "markdown",
   "metadata": {},
   "source": [
    "Correct! Notice that the order of the groups is retained, just like when they first appeared in DT. This exercise was not that simple, so it's good to see you've made it!"
   ]
  },
  {
   "cell_type": "markdown",
   "metadata": {},
   "source": [
    "## Return multiple numbers in j\n",
    "In the previous exercises, you've returned only single numbers in j. However, this is not necessary. You'll experiment with this via a new data.table DT, which has already been specified in the sample code.\n",
    "\n",
    "INSTRUCTIONS\n",
    "100 XP\n",
    " - Create a new data.table DT2 with 3 columns, A, B and C, where C is the cumulative sum of the C column of DT. Call the `cumsum()` function in the j argument, and group by `.(A, B)` (i.e. both columns A and B).\n",
    " - Select from DT2 the last two values of C using the `tail()` function, and assign that to column C while you group by A alone. Make sure the column names don't change."
   ]
  },
  {
   "cell_type": "markdown",
   "metadata": {},
   "source": [
    "INCORRECT SUBMISSION\n",
    "\n",
    "Check your code for the second instruction. Use `tail(C, 2)` to specify the C column in the j part. Simply group by A."
   ]
  },
  {
   "cell_type": "code",
   "execution_count": 16,
   "metadata": {},
   "outputs": [
    {
     "data": {
      "text/html": [
       "<table>\n",
       "<thead><tr><th scope=col>A</th><th scope=col>C</th></tr></thead>\n",
       "<tbody>\n",
       "\t<tr><td>b </td><td> 4</td></tr>\n",
       "\t<tr><td>b </td><td> 5</td></tr>\n",
       "\t<tr><td>a </td><td> 7</td></tr>\n",
       "\t<tr><td>a </td><td>10</td></tr>\n",
       "</tbody>\n",
       "</table>\n"
      ],
      "text/latex": [
       "\\begin{tabular}{r|ll}\n",
       " A & C\\\\\n",
       "\\hline\n",
       "\t b  &  4\\\\\n",
       "\t b  &  5\\\\\n",
       "\t a  &  7\\\\\n",
       "\t a  & 10\\\\\n",
       "\\end{tabular}\n"
      ],
      "text/markdown": [
       "\n",
       "A | C | \n",
       "|---|---|---|---|\n",
       "| b  |  4 | \n",
       "| b  |  5 | \n",
       "| a  |  7 | \n",
       "| a  | 10 | \n",
       "\n",
       "\n"
      ],
      "text/plain": [
       "  A C \n",
       "1 b  4\n",
       "2 b  5\n",
       "3 a  7\n",
       "4 a 10"
      ]
     },
     "metadata": {},
     "output_type": "display_data"
    }
   ],
   "source": [
    "# Create the data.table DT\n",
    "DT <- data.table(A = rep(letters[2:1], each = 4L), \n",
    "                 B = rep(1:4, each = 2L), \n",
    "                 C = sample(8))\n",
    "\n",
    "# Create the new data.table, DT2\n",
    "DT2 = DT[, .(C=cumsum(C)), by=.(A,B)]\n",
    "\n",
    "# Select from DT2 the last two values from C while you group by A\n",
    "DT2[,.(C=tail(C,2)), by=A]"
   ]
  },
  {
   "cell_type": "markdown",
   "metadata": {},
   "source": [
    "Good job! Time to do some chaining…\n",
    "\n",
    "You have finished the chapter \"Data.table novice\"!"
   ]
  },
  {
   "cell_type": "markdown",
   "metadata": {},
   "source": [
    "# 2. Data.table yeoman\n",
    "\n",
    "Learn how to do multiple operations on the same data.table in one single statement, how to easily take a subset of your data, update by reference, and work with the data.table set()-family."
   ]
  },
  {
   "cell_type": "markdown",
   "metadata": {},
   "source": [
    "## Section 4 - Chaining"
   ]
  },
  {
   "cell_type": "markdown",
   "metadata": {},
   "source": [
    "### Chaining, the basics\n",
    "Now that you are comfortable with data.table's DT[i, j, by] syntax, it is time to practice some other very useful concepts in data.table. Here, we'll have a more detailed look at chaining.\n",
    "\n",
    "Chaining allows the concatenation of multiple operations in a single expression. It's easy to read because the operations are carried out from left to right. Furthermore, it helps to avoid the creation of unnecessary temporary variables (which could quickly clutter one's workspace).\n",
    "\n",
    "INSTRUCTIONS\n",
    "100 XP\n",
    " - In the previous section, you calculated DT2 by taking the cumulative sum of C while grouping by A and B. Next, you selected the last two values of C from DT2 while grouping by A alone. This code is included in the sample code. Use chaining to restructure the code. Simply print out the result of chaining."
   ]
  },
  {
   "cell_type": "code",
   "execution_count": 2,
   "metadata": {},
   "outputs": [
    {
     "data": {
      "text/html": [
       "<table>\n",
       "<thead><tr><th scope=col>A</th><th scope=col>C</th></tr></thead>\n",
       "<tbody>\n",
       "\t<tr><td>b </td><td> 4</td></tr>\n",
       "\t<tr><td>b </td><td>11</td></tr>\n",
       "\t<tr><td>a </td><td> 8</td></tr>\n",
       "\t<tr><td>a </td><td>13</td></tr>\n",
       "</tbody>\n",
       "</table>\n"
      ],
      "text/latex": [
       "\\begin{tabular}{r|ll}\n",
       " A & C\\\\\n",
       "\\hline\n",
       "\t b  &  4\\\\\n",
       "\t b  & 11\\\\\n",
       "\t a  &  8\\\\\n",
       "\t a  & 13\\\\\n",
       "\\end{tabular}\n"
      ],
      "text/markdown": [
       "\n",
       "A | C | \n",
       "|---|---|---|---|\n",
       "| b  |  4 | \n",
       "| b  | 11 | \n",
       "| a  |  8 | \n",
       "| a  | 13 | \n",
       "\n",
       "\n"
      ],
      "text/plain": [
       "  A C \n",
       "1 b  4\n",
       "2 b 11\n",
       "3 a  8\n",
       "4 a 13"
      ]
     },
     "metadata": {},
     "output_type": "display_data"
    }
   ],
   "source": [
    "# The data.table package has already been loaded\n",
    "\n",
    "# Build DT\n",
    "DT <- data.table(A = rep(letters[2:1], each = 4L), \n",
    "                 B = rep(1:4, each = 2L), \n",
    "                 C = sample(8)) \n",
    "\n",
    "# Combine the two steps in a one-liner\n",
    "#DT2 <- DT[, .(C = cumsum(C)), by = .(A, B)]\n",
    "#DT2[, .(C = tail(C, 2)), by = A]\n",
    "DT[, .(C = cumsum(C)), by = .(A, B)][, .(C = tail(C, 2)), by = A]"
   ]
  },
  {
   "cell_type": "markdown",
   "metadata": {},
   "source": [
    "Great! Note that chaining can significantly reduce the amount of instructions necessary in your code."
   ]
  },
  {
   "cell_type": "markdown",
   "metadata": {},
   "source": [
    "### Chaining your iris dataset\n",
    "In the previous chapter, you converted the iris dataset to a data.table DT. This DT is already available in your workspace. Print DT to the console to remind yourself of its contents. Now, let's see how you can use chaining to simplify manipulations and calculations.\n",
    "\n",
    "INSTRUCTIONS\n",
    "100 XP\n",
    " - Get the median of each of the four columns Sepal.Length, Sepal.Width, Petal.Length and Petal.Width, while grouping by Species. Reuse the same column names (e.g. the column containing the median Sepal.Length is still called Sepal.Length). Next, order() Species in descending order using chaining. This is deliberately repetitive, but we have a solution for you in the next exercise!\n",
    "\n"
   ]
  },
  {
   "cell_type": "code",
   "execution_count": 5,
   "metadata": {},
   "outputs": [],
   "source": [
    "DT = as.data.table(iris)"
   ]
  },
  {
   "cell_type": "code",
   "execution_count": 6,
   "metadata": {},
   "outputs": [
    {
     "data": {
      "text/html": [
       "<table>\n",
       "<thead><tr><th scope=col>Species</th><th scope=col>Sepal.Length</th><th scope=col>Sepal.Width</th><th scope=col>Petal.Length</th><th scope=col>Petal.Width</th></tr></thead>\n",
       "<tbody>\n",
       "\t<tr><td>virginica </td><td>6.5       </td><td>3.0       </td><td>5.55      </td><td>2.0       </td></tr>\n",
       "\t<tr><td>versicolor</td><td>5.9       </td><td>2.8       </td><td>4.35      </td><td>1.3       </td></tr>\n",
       "\t<tr><td>setosa    </td><td>5.0       </td><td>3.4       </td><td>1.50      </td><td>0.2       </td></tr>\n",
       "</tbody>\n",
       "</table>\n"
      ],
      "text/latex": [
       "\\begin{tabular}{r|lllll}\n",
       " Species & Sepal.Length & Sepal.Width & Petal.Length & Petal.Width\\\\\n",
       "\\hline\n",
       "\t virginica  & 6.5        & 3.0        & 5.55       & 2.0       \\\\\n",
       "\t versicolor & 5.9        & 2.8        & 4.35       & 1.3       \\\\\n",
       "\t setosa     & 5.0        & 3.4        & 1.50       & 0.2       \\\\\n",
       "\\end{tabular}\n"
      ],
      "text/markdown": [
       "\n",
       "Species | Sepal.Length | Sepal.Width | Petal.Length | Petal.Width | \n",
       "|---|---|---|\n",
       "| virginica  | 6.5        | 3.0        | 5.55       | 2.0        | \n",
       "| versicolor | 5.9        | 2.8        | 4.35       | 1.3        | \n",
       "| setosa     | 5.0        | 3.4        | 1.50       | 0.2        | \n",
       "\n",
       "\n"
      ],
      "text/plain": [
       "  Species    Sepal.Length Sepal.Width Petal.Length Petal.Width\n",
       "1 virginica  6.5          3.0         5.55         2.0        \n",
       "2 versicolor 5.9          2.8         4.35         1.3        \n",
       "3 setosa     5.0          3.4         1.50         0.2        "
      ]
     },
     "metadata": {},
     "output_type": "display_data"
    }
   ],
   "source": [
    "# The data.table DT is loaded in your workspace\n",
    "\n",
    "# Perform chained operations on DT\n",
    "DT[, .(Sepal.Length = median(Sepal.Length), \n",
    "       Sepal.Width = median(Sepal.Width), \n",
    "       Petal.Length = median(Petal.Length),\n",
    "       Petal.Width = median(Petal.Width)), \n",
    "   by = Species][order(Species, decreasing=TRUE)]\n",
    "\n",
    "#Also,   \n",
    "#DT[,lapply(.SD,median), by=Species]"
   ]
  },
  {
   "cell_type": "markdown",
   "metadata": {},
   "source": [
    "Nicely done, but this is a little bit repetitive and an error can easily be made if you aren't careful. Maybe there is a better way to do this kind of analysis? Let's find out…"
   ]
  },
  {
   "cell_type": "markdown",
   "metadata": {},
   "source": [
    "## Section 5 - Subset of Data - Video"
   ]
  },
  {
   "cell_type": "markdown",
   "metadata": {},
   "source": [
    "Programming time vs readability\n",
    "It is a good idea to make use of familiar functions from base R to reduce programming time without losing readability.\n",
    "\n",
    "The data.table package provides a special built-in variable .SD. It refers to the subset of data for each unique value of the by argument. That is, the number of observations in the output will be equal to the number of unique values in by.\n",
    "\n",
    "Recall that the by argument allows us to separate a data.table into groups. We can now use the .SD variable to reference each group and apply functions separately. For example, suppose we had a data.table storing information about dogs:\n",
    "\n",
    "`Sex\tWeight\tAge\tHeight\n",
    "M\t40\t1\t12\n",
    "F\t30\t4\t7\n",
    "F\t80\t12\t9\n",
    "M\t90\t3\t14\n",
    "M\t40\t6\t12`\n",
    "We could then use\n",
    "\n",
    "dogs[, lapply(.SD, mean), by = Sex]\n",
    "to produce average weights, ages, and heights for male and female dogs separately:\n",
    "\n",
    "`   Sex   Weight      Age   Height\n",
    "1:   M 56.66667 3.333333 12.66667\n",
    "2:   F 55.00000 8.000000  8.00000`\n",
    "A data.table DT has been created for you and is available in the workspace. Type DT in the console to print it out and inspect it.\n",
    "\n",
    "INSTRUCTIONS\n",
    "100 XP\n",
    " - Get the mean of columns y and z grouped by x by using .SD.\n",
    " - Get the median of columns y and z grouped by x by using .SD."
   ]
  },
  {
   "cell_type": "code",
   "execution_count": 8,
   "metadata": {},
   "outputs": [],
   "source": [
    "DT = data.table(x = c(2, 1, 2, 1, 2, 2, 1), y = c(1, 3, 5, 7, \n",
    "9, 11, 13), z = c(2, 4, 6, 8, 10, 12, 14))"
   ]
  },
  {
   "cell_type": "code",
   "execution_count": 9,
   "metadata": {},
   "outputs": [
    {
     "data": {
      "text/html": [
       "<table>\n",
       "<thead><tr><th scope=col>x</th><th scope=col>y</th><th scope=col>z</th></tr></thead>\n",
       "<tbody>\n",
       "\t<tr><td>2       </td><td>6.500000</td><td>7.500000</td></tr>\n",
       "\t<tr><td>1       </td><td>7.666667</td><td>8.666667</td></tr>\n",
       "</tbody>\n",
       "</table>\n"
      ],
      "text/latex": [
       "\\begin{tabular}{r|lll}\n",
       " x & y & z\\\\\n",
       "\\hline\n",
       "\t 2        & 6.500000 & 7.500000\\\\\n",
       "\t 1        & 7.666667 & 8.666667\\\\\n",
       "\\end{tabular}\n"
      ],
      "text/markdown": [
       "\n",
       "x | y | z | \n",
       "|---|---|\n",
       "| 2        | 6.500000 | 7.500000 | \n",
       "| 1        | 7.666667 | 8.666667 | \n",
       "\n",
       "\n"
      ],
      "text/plain": [
       "  x y        z       \n",
       "1 2 6.500000 7.500000\n",
       "2 1 7.666667 8.666667"
      ]
     },
     "metadata": {},
     "output_type": "display_data"
    },
    {
     "data": {
      "text/html": [
       "<table>\n",
       "<thead><tr><th scope=col>x</th><th scope=col>y</th><th scope=col>z</th></tr></thead>\n",
       "<tbody>\n",
       "\t<tr><td>2</td><td>7</td><td>8</td></tr>\n",
       "\t<tr><td>1</td><td>7</td><td>8</td></tr>\n",
       "</tbody>\n",
       "</table>\n"
      ],
      "text/latex": [
       "\\begin{tabular}{r|lll}\n",
       " x & y & z\\\\\n",
       "\\hline\n",
       "\t 2 & 7 & 8\\\\\n",
       "\t 1 & 7 & 8\\\\\n",
       "\\end{tabular}\n"
      ],
      "text/markdown": [
       "\n",
       "x | y | z | \n",
       "|---|---|\n",
       "| 2 | 7 | 8 | \n",
       "| 1 | 7 | 8 | \n",
       "\n",
       "\n"
      ],
      "text/plain": [
       "  x y z\n",
       "1 2 7 8\n",
       "2 1 7 8"
      ]
     },
     "metadata": {},
     "output_type": "display_data"
    }
   ],
   "source": [
    "# A new data.table DT is available\n",
    "\n",
    "# Mean of columns\n",
    "DT[,lapply(.SD,mean), by=x]\n",
    "\n",
    "# Median of columns\n",
    "DT[,lapply(.SD, median), by=x]\n",
    "\n",
    "\n",
    "#DT = data.table(x = c(2, 1, 2, 1, 2, 2, 1), \n",
    "#y = c(1, 3, 5, 7, 9, 11, 13), \n",
    "#z = c(2, 4, 6, 8, 10, 12, 14))"
   ]
  },
  {
   "cell_type": "markdown",
   "metadata": {},
   "source": [
    "Well done! Let's have a look at .SDcols now."
   ]
  },
  {
   "cell_type": "markdown",
   "metadata": {},
   "source": [
    "### Introducing .SDcols\n",
    ".SDcols specifies the columns of DT that are included in .SD. Using .SDcols comes in handy if you have too many columns and you want to perform a particular operation on a subset of the columns (apart from the grouping variable columns).\n",
    "\n",
    "Using .SDcols allows you to apply a function to all rows of a data.table, but only to some of the columns. For example, consider the dog example from the last exercise. If you wanted to compute the average weight and age (the second and third columns) for all dogs, you could assign .SDcols accordingly:\n",
    "\n",
    "`dogs[, lapply(.SD, mean), .SDcols = 2:3]`\n",
    "`   Weight Age\n",
    "1:     56 5.2`\n",
    "\n",
    "While learning the data.table package, you may want to occasionally refer to the documentation. Have a look at ?data.table for more info on .SDcols.\n",
    "\n",
    "Yet another data.table, DT, has been prepared for you in your workspace. Start by printing it to the console.\n",
    "\n",
    "INSTRUCTIONS\n",
    "70 XP\n",
    "\n",
    " - Calculate the sum of the columns that start with Q, using .SD and .SDcols. Set .SDcols equal to 2:4.\n",
    " - Set .SDcols to be the result of a function call. This time, calculate the sum of columns H1 and H2 using paste0() to specify the .SDcols argument.\n",
    " - Finally, select all but the first row of the groups names 6 and 8, returning only the grp column and the columns that start with Q. Use -1 in i of .SD and use paste0() again. Type desired_result into the console to see what your answer should look like."
   ]
  },
  {
   "cell_type": "code",
   "execution_count": 11,
   "metadata": {},
   "outputs": [],
   "source": [
    "DT = data.table(grp = c(6, 6, 8, 8, 8), Q1 = c(4L, 4L, 4L, 2L, \n",
    "4L), Q2 = c(4L, 2L, 2L, 2L, 2L), Q3 = c(5L, 3L, 5L, 5L, 1L), \n",
    "    H1 = c(2L, 3L, 5L, 3L, 2L), H2 = c(4L, 5L, 4L, 2L, 2L))"
   ]
  },
  {
   "cell_type": "code",
   "execution_count": 12,
   "metadata": {},
   "outputs": [
    {
     "data": {
      "text/html": [
       "<table>\n",
       "<thead><tr><th scope=col>Q1</th><th scope=col>Q2</th><th scope=col>Q3</th></tr></thead>\n",
       "<tbody>\n",
       "\t<tr><td>18</td><td>12</td><td>19</td></tr>\n",
       "</tbody>\n",
       "</table>\n"
      ],
      "text/latex": [
       "\\begin{tabular}{r|lll}\n",
       " Q1 & Q2 & Q3\\\\\n",
       "\\hline\n",
       "\t 18 & 12 & 19\\\\\n",
       "\\end{tabular}\n"
      ],
      "text/markdown": [
       "\n",
       "Q1 | Q2 | Q3 | \n",
       "|---|\n",
       "| 18 | 12 | 19 | \n",
       "\n",
       "\n"
      ],
      "text/plain": [
       "  Q1 Q2 Q3\n",
       "1 18 12 19"
      ]
     },
     "metadata": {},
     "output_type": "display_data"
    },
    {
     "data": {
      "text/html": [
       "<table>\n",
       "<thead><tr><th scope=col>H1</th><th scope=col>H2</th></tr></thead>\n",
       "<tbody>\n",
       "\t<tr><td>15</td><td>17</td></tr>\n",
       "</tbody>\n",
       "</table>\n"
      ],
      "text/latex": [
       "\\begin{tabular}{r|ll}\n",
       " H1 & H2\\\\\n",
       "\\hline\n",
       "\t 15 & 17\\\\\n",
       "\\end{tabular}\n"
      ],
      "text/markdown": [
       "\n",
       "H1 | H2 | \n",
       "|---|\n",
       "| 15 | 17 | \n",
       "\n",
       "\n"
      ],
      "text/plain": [
       "  H1 H2\n",
       "1 15 17"
      ]
     },
     "metadata": {},
     "output_type": "display_data"
    },
    {
     "data": {
      "text/html": [
       "<table>\n",
       "<thead><tr><th scope=col>grp</th><th scope=col>Q1</th><th scope=col>Q2</th><th scope=col>Q3</th></tr></thead>\n",
       "<tbody>\n",
       "\t<tr><td>6</td><td>4</td><td>2</td><td>3</td></tr>\n",
       "\t<tr><td>8</td><td>2</td><td>2</td><td>5</td></tr>\n",
       "\t<tr><td>8</td><td>4</td><td>2</td><td>1</td></tr>\n",
       "</tbody>\n",
       "</table>\n"
      ],
      "text/latex": [
       "\\begin{tabular}{r|llll}\n",
       " grp & Q1 & Q2 & Q3\\\\\n",
       "\\hline\n",
       "\t 6 & 4 & 2 & 3\\\\\n",
       "\t 8 & 2 & 2 & 5\\\\\n",
       "\t 8 & 4 & 2 & 1\\\\\n",
       "\\end{tabular}\n"
      ],
      "text/markdown": [
       "\n",
       "grp | Q1 | Q2 | Q3 | \n",
       "|---|---|---|\n",
       "| 6 | 4 | 2 | 3 | \n",
       "| 8 | 2 | 2 | 5 | \n",
       "| 8 | 4 | 2 | 1 | \n",
       "\n",
       "\n"
      ],
      "text/plain": [
       "  grp Q1 Q2 Q3\n",
       "1 6   4  2  3 \n",
       "2 8   2  2  5 \n",
       "3 8   4  2  1 "
      ]
     },
     "metadata": {},
     "output_type": "display_data"
    }
   ],
   "source": [
    "# A new data.table DT is available\n",
    "\n",
    "# Calculate the sum of the Q columns\n",
    "DT[, lapply(.SD,sum), .SDcols=2:4]\n",
    "\n",
    "# Calculate the sum of columns H1 and H2 \n",
    "#DT[,lapply(.SD, sum), .SDcols=5:6]\n",
    "DT[,lapply(.SD, sum), .SDcols=paste0(\"H\",1:2)]\n",
    "\n",
    "# Select all but the first row of groups 1 and 2, returning only the grp column and the Q columns\n",
    "DT[,.SD[-1], .SDcols=2:4, by=grp]"
   ]
  },
  {
   "cell_type": "markdown",
   "metadata": {},
   "source": [
    "#### HINT\n",
    " - For the second instruction, make sure to use .SDcols to specify the columns to be included in .SD and use lapply(.SD, sum).\n",
    " - The paste0() function pastes together two or more character vectors together with no space in between (hence, the 0 in the function name). In this exercise, the two vectors you want to pass to paste0() are \"H\" and 1:2, returning the strings \"H1\" and \"H2\"."
   ]
  },
  {
   "cell_type": "markdown",
   "metadata": {},
   "source": [
    "### Mixing it together: lapply, .SD, .SDcols and .N\n",
    "This exercise is a challenging one, so don't give up! It's important to remember that whenever the j argument is a list (e.g. if it contains .SD or a call to lapply()), a data.table is returned. For example:\n",
    "\n",
    "dogs[, lapply(.SD, mean), by = sex, .SDcols = c(\"weight\", \"age\")]\n",
    "will return a data.table containing average weights and ages for dogs of each sex.\n",
    "\n",
    "It's also helpful to know that combining a list with a vector results in a new longer list. Lastly, note that when you select .N on its own, it is renamed N in the output for convenience when chaining.\n",
    "\n",
    "For this exercise, DT, which contains variables x, y, and z, is loaded in your workspace. You must combine lapply(), .SD, .SDcols, and .N to get your call to return a specific output. Good luck!\n",
    "\n",
    "INSTRUCTIONS\n",
    "100 XP\n",
    "INSTRUCTIONS\n",
    "100 XP\n",
    "Get the sum of all columns x, y and z and the number of rows in each group while grouping by x. Your answer should be identical to this:\n",
    "\n",
    "` x x  y  z N\n",
    "1: 2 8 26 30 4\n",
    "2: 1 3 23 26 3`\n",
    "Get the cumulative sum of column x and y while grouping by x and z > 8 such that the answer looks like this:\n",
    "\n",
    "` by1   by2 x  y\n",
    "1:   2 FALSE 2  1\n",
    "2:   2 FALSE 4  6\n",
    "3:   1 FALSE 1  3\n",
    "4:   1 FALSE 2 10\n",
    "5:   2  TRUE 2  9\n",
    "6:   2  TRUE 4 20\n",
    "7:   1  TRUE 1 13`"
   ]
  },
  {
   "cell_type": "code",
   "execution_count": 14,
   "metadata": {},
   "outputs": [],
   "source": [
    "DT = data.table(x = c(2, 1, 2, 1, 2, 2, 1), y = c(1, 3, 5, 7, \n",
    "9, 11, 13), z = c(2, 4, 6, 8, 10, 12, 14))"
   ]
  },
  {
   "cell_type": "code",
   "execution_count": 15,
   "metadata": {},
   "outputs": [
    {
     "data": {
      "text/html": [
       "<table>\n",
       "<thead><tr><th scope=col>x</th><th scope=col>x</th><th scope=col>y</th><th scope=col>z</th><th scope=col>N</th></tr></thead>\n",
       "<tbody>\n",
       "\t<tr><td>2 </td><td>8 </td><td>26</td><td>30</td><td>4 </td></tr>\n",
       "\t<tr><td>1 </td><td>3 </td><td>23</td><td>26</td><td>3 </td></tr>\n",
       "</tbody>\n",
       "</table>\n"
      ],
      "text/latex": [
       "\\begin{tabular}{r|lllll}\n",
       " x & x & y & z & N\\\\\n",
       "\\hline\n",
       "\t 2  & 8  & 26 & 30 & 4 \\\\\n",
       "\t 1  & 3  & 23 & 26 & 3 \\\\\n",
       "\\end{tabular}\n"
      ],
      "text/markdown": [
       "\n",
       "x | x | y | z | N | \n",
       "|---|---|\n",
       "| 2  | 8  | 26 | 30 | 4  | \n",
       "| 1  | 3  | 23 | 26 | 3  | \n",
       "\n",
       "\n"
      ],
      "text/plain": [
       "  x x y  z  N\n",
       "1 2 8 26 30 4\n",
       "2 1 3 23 26 3"
      ]
     },
     "metadata": {},
     "output_type": "display_data"
    },
    {
     "data": {
      "text/html": [
       "<table>\n",
       "<thead><tr><th scope=col>by1</th><th scope=col>by2</th><th scope=col>x</th><th scope=col>y</th></tr></thead>\n",
       "<tbody>\n",
       "\t<tr><td>2    </td><td>FALSE</td><td>2    </td><td> 1   </td></tr>\n",
       "\t<tr><td>2    </td><td>FALSE</td><td>4    </td><td> 6   </td></tr>\n",
       "\t<tr><td>1    </td><td>FALSE</td><td>1    </td><td> 3   </td></tr>\n",
       "\t<tr><td>1    </td><td>FALSE</td><td>2    </td><td>10   </td></tr>\n",
       "\t<tr><td>2    </td><td> TRUE</td><td>2    </td><td> 9   </td></tr>\n",
       "\t<tr><td>2    </td><td> TRUE</td><td>4    </td><td>20   </td></tr>\n",
       "\t<tr><td>1    </td><td> TRUE</td><td>1    </td><td>13   </td></tr>\n",
       "</tbody>\n",
       "</table>\n"
      ],
      "text/latex": [
       "\\begin{tabular}{r|llll}\n",
       " by1 & by2 & x & y\\\\\n",
       "\\hline\n",
       "\t 2     & FALSE & 2     &  1   \\\\\n",
       "\t 2     & FALSE & 4     &  6   \\\\\n",
       "\t 1     & FALSE & 1     &  3   \\\\\n",
       "\t 1     & FALSE & 2     & 10   \\\\\n",
       "\t 2     &  TRUE & 2     &  9   \\\\\n",
       "\t 2     &  TRUE & 4     & 20   \\\\\n",
       "\t 1     &  TRUE & 1     & 13   \\\\\n",
       "\\end{tabular}\n"
      ],
      "text/markdown": [
       "\n",
       "by1 | by2 | x | y | \n",
       "|---|---|---|---|---|---|---|\n",
       "| 2     | FALSE | 2     |  1    | \n",
       "| 2     | FALSE | 4     |  6    | \n",
       "| 1     | FALSE | 1     |  3    | \n",
       "| 1     | FALSE | 2     | 10    | \n",
       "| 2     |  TRUE | 2     |  9    | \n",
       "| 2     |  TRUE | 4     | 20    | \n",
       "| 1     |  TRUE | 1     | 13    | \n",
       "\n",
       "\n"
      ],
      "text/plain": [
       "  by1 by2   x y \n",
       "1 2   FALSE 2  1\n",
       "2 2   FALSE 4  6\n",
       "3 1   FALSE 1  3\n",
       "4 1   FALSE 2 10\n",
       "5 2    TRUE 2  9\n",
       "6 2    TRUE 4 20\n",
       "7 1    TRUE 1 13"
      ]
     },
     "metadata": {},
     "output_type": "display_data"
    }
   ],
   "source": [
    "# DT is pre-loaded\n",
    "\n",
    "# Sum of all columns and the number of rows\n",
    "DT[,c(lapply(.SD,sum),.N),by=x, .SDcols=c(\"x\",\"y\",\"z\")]\n",
    "#DT[,c(lapply(.SD,sum),.N),by=x, .SDcols=x:z]\n",
    "\n",
    "\n",
    "# Cumulative sum of column x and y while grouping by x and z > 8\n",
    "DT[, lapply(.SD,cumsum), .SDcols=x:y,by=.(by1=x,by2=z>8)]\n"
   ]
  },
  {
   "cell_type": "markdown",
   "metadata": {},
   "source": [
    "Wow, good job! This one was not easy at all!"
   ]
  },
  {
   "cell_type": "code",
   "execution_count": 3,
   "metadata": {},
   "outputs": [
    {
     "data": {
      "text/html": [
       "<table>\n",
       "<thead><tr><th scope=col>x</th><th scope=col>y</th><th scope=col>z</th></tr></thead>\n",
       "<tbody>\n",
       "\t<tr><td>2 </td><td> 6</td><td>NA</td></tr>\n",
       "\t<tr><td>2 </td><td> 7</td><td>NA</td></tr>\n",
       "\t<tr><td>1 </td><td> 8</td><td>NA</td></tr>\n",
       "\t<tr><td>1 </td><td> 9</td><td>NA</td></tr>\n",
       "\t<tr><td>1 </td><td>10</td><td>NA</td></tr>\n",
       "</tbody>\n",
       "</table>\n"
      ],
      "text/latex": [
       "\\begin{tabular}{r|lll}\n",
       " x & y & z\\\\\n",
       "\\hline\n",
       "\t 2  &  6 & NA\\\\\n",
       "\t 2  &  7 & NA\\\\\n",
       "\t 1  &  8 & NA\\\\\n",
       "\t 1  &  9 & NA\\\\\n",
       "\t 1  & 10 & NA\\\\\n",
       "\\end{tabular}\n"
      ],
      "text/markdown": [
       "\n",
       "x | y | z | \n",
       "|---|---|---|---|---|\n",
       "| 2  |  6 | NA | \n",
       "| 2  |  7 | NA | \n",
       "| 1  |  8 | NA | \n",
       "| 1  |  9 | NA | \n",
       "| 1  | 10 | NA | \n",
       "\n",
       "\n"
      ],
      "text/plain": [
       "  x y  z \n",
       "1 2  6 NA\n",
       "2 2  7 NA\n",
       "3 1  8 NA\n",
       "4 1  9 NA\n",
       "5 1 10 NA"
      ]
     },
     "metadata": {},
     "output_type": "display_data"
    }
   ],
   "source": [
    "DT = data.table(x=c(2,2,1,1,1), y=c(6,7,8,9,10), z = NA)\n",
    "DT"
   ]
  },
  {
   "cell_type": "code",
   "execution_count": 5,
   "metadata": {},
   "outputs": [
    {
     "name": "stdout",
     "output_type": "stream",
     "text": [
      "Classes 'data.table' and 'data.frame':\t5 obs. of  3 variables:\n",
      " $ x: num  2 2 1 1 1\n",
      " $ y: num  6 7 8 9 10\n",
      " $ z: logi  NA NA NA NA NA\n",
      " - attr(*, \".internal.selfref\")=<externalptr> \n"
     ]
    }
   ],
   "source": [
    "str(DT)"
   ]
  },
  {
   "cell_type": "code",
   "execution_count": 9,
   "metadata": {},
   "outputs": [
    {
     "ename": "ERROR",
     "evalue": "Error in `[.data.table`(DT, 2:4, `:=`(z, sum(y)), by = x): Type of RHS ('double') must match LHS ('logical'). To check and coerce would impact performance too much for the fastest cases. Either change the type of the target column, or coerce the RHS of := yourself (e.g. by using 1L instead of 1)\n",
     "output_type": "error",
     "traceback": [
      "Error in `[.data.table`(DT, 2:4, `:=`(z, sum(y)), by = x): Type of RHS ('double') must match LHS ('logical'). To check and coerce would impact performance too much for the fastest cases. Either change the type of the target column, or coerce the RHS of := yourself (e.g. by using 1L instead of 1)\nTraceback:\n",
      "1. DT[2:4, `:=`(z, sum(y)), by = x]",
      "2. `[.data.table`(DT, 2:4, `:=`(z, sum(y)), by = x)"
     ]
    }
   ],
   "source": [
    "DT[2:4, z := sum(y), by= x]"
   ]
  },
  {
   "cell_type": "markdown",
   "metadata": {},
   "source": [
    "### Adding, updating and removing columns\n",
    "As you now know, := is defined for use in j only, and is used to update data.tables by reference. One way of using := is the LHS := RHS form, where LHS is a character vector of columns (referenced by name or number) you wish to update and RHS is the corresponding value for each column (Note: LHS stands for \"left hand side\" and RHS stands for \"right hand side\" in what follows).\n",
    "\n",
    "For example, the following line multiplies every row of column C by 10 and stores the result in C:\n",
    "\n",
    "DT[, C := C * 10]\n",
    "This first exercise will thoroughly test your understanding of := used in the LHS := RHS form. It's time for you to show off your knowledge! A data.table DT has been defined for you in the sample code.\n",
    "\n",
    "INSTRUCTIONS\n",
    "100 XP\n",
    " - Add a column to DT by reference, named Total, that contains sum(B) for each group in column A.\n",
    " - Add 1L to the values in column B, but only in the rows 2 and 4.\n",
    " - Add a new column Total2 that contains sum(B) grouped by A but just over rows 2, 3 and 4.\n",
    " - Remove the Total column from DT.\n",
    " - Use [[ to select the third column as a vector. Simply print it out to the console."
   ]
  },
  {
   "cell_type": "code",
   "execution_count": 13,
   "metadata": {},
   "outputs": [
    {
     "data": {},
     "metadata": {},
     "output_type": "display_data"
    },
    {
     "data": {},
     "metadata": {},
     "output_type": "display_data"
    },
    {
     "data": {},
     "metadata": {},
     "output_type": "display_data"
    },
    {
     "data": {},
     "metadata": {},
     "output_type": "display_data"
    },
    {
     "data": {
      "text/html": [
       "<ol class=list-inline>\n",
       "\t<li>&lt;NA&gt;</li>\n",
       "\t<li>6</li>\n",
       "\t<li>6</li>\n",
       "\t<li>5</li>\n",
       "\t<li>&lt;NA&gt;</li>\n",
       "</ol>\n"
      ],
      "text/latex": [
       "\\begin{enumerate*}\n",
       "\\item <NA>\n",
       "\\item 6\n",
       "\\item 6\n",
       "\\item 5\n",
       "\\item <NA>\n",
       "\\end{enumerate*}\n"
      ],
      "text/markdown": [
       "1. &lt;NA&gt;\n",
       "2. 6\n",
       "3. 6\n",
       "4. 5\n",
       "5. &lt;NA&gt;\n",
       "\n",
       "\n"
      ],
      "text/plain": [
       "[1] NA  6  6  5 NA"
      ]
     },
     "metadata": {},
     "output_type": "display_data"
    }
   ],
   "source": [
    "# The data.table DT\n",
    "DT <- data.table(A = letters[c(1, 1, 1, 2, 2)], B = 1:5)\n",
    "\n",
    "# Add column by reference: Total\n",
    "DT[, Total := sum(B), by=A]\n",
    "\n",
    "# Add 1 to column B\n",
    "DT[c(2,4), B := B+1L]\n",
    "\n",
    "# Add a new column Total2\n",
    "DT[2:4, Total2 := sum(B), by=A]\n",
    "\n",
    "# Remove the Total column\n",
    "DT[, Total := NULL]\n",
    "\n",
    "# Select the third column using `[[`\n",
    "DT[[3]]"
   ]
  },
  {
   "cell_type": "markdown",
   "metadata": {},
   "source": [
    "Great job, this was not that easy. Note that for the second instruction in j the performance goes up if you coerce RHS to integer yourself via 1L or via as.integer()."
   ]
  },
  {
   "cell_type": "markdown",
   "metadata": {},
   "source": [
    "### To assign or not to assign, that is the question\n",
    "Print DT to the console. When using the := operator in j, do you need to assign the result to DT as follows?\n",
    "\n",
    "DT <- DT[, Total := sum(B), by = A]\n",
    "INSTRUCTIONS\n",
    "50 XP\n",
    "Possible Answers\n",
    "Click or Press Ctrl+1 to focus\n",
    " - Yes.\n",
    " - press 1\n",
    " - No, the DT <- part is not necessary. (Correct)\n",
    " - press 2\n",
    " - No. It can make a difference sometimes, but just not in this particular case.\n",
    " - press 3"
   ]
  },
  {
   "cell_type": "markdown",
   "metadata": {},
   "source": [
    "Well done! The DT <- part is not necessary because the call makes updates to the column by reference."
   ]
  },
  {
   "cell_type": "markdown",
   "metadata": {},
   "source": [
    "### Deleting a column for a subset of rows\n",
    "Try deleting a column only for a subset of rows: DT[2, B := NULL]. Did this work?\n",
    "\n",
    "INSTRUCTIONS\n",
    "50 XP\n",
    "Possible Answers\n",
    " - No. This gives an error stating that when deleting columns, i should not be provided. (Correct)\n",
    " - press 1\n",
    " - Yes, because the data.table package states that you can add, modify, and/or delete columns by reference by group within a subset.\n",
    " - press 2"
   ]
  },
  {
   "cell_type": "markdown",
   "metadata": {},
   "source": [
    "### The functional form\n",
    "You've had practice with using := in the LHS := RHS form. The second way to use := is with functional form:\n",
    "\n",
    "`DT[, `:=`(colA = colB + colC)]`\n",
    "\n",
    "Notice that the := is surrounded by two tick marks! Otherwise data.table will throw a syntax error. It is also important to note that in the generic functional form above, my_fun() can refer to any function, including the basic arithmetic functions. The nice thing about the functional form is that you can get both the RHS alongside the LHS so that it's easier to read.\n",
    "\n",
    "Time for some experimentation. A data.table DT has been prepared for you in the sample code.\n",
    "\n",
    "INSTRUCTIONS\n",
    "100 XP\n",
    " - Update B with B + 1, add a new column C with A + B, and add a new column D of just 2's.\n",
    " - A variable my_cols has already been defined. Use it to delete these columns from DT.\n",
    " - Finally, delete column D using the column number (2), not its name (D)."
   ]
  },
  {
   "cell_type": "markdown",
   "metadata": {},
   "source": [
    "Well done! A column is either there or it's not. It makes no sense to partially delete it. If you find yourself needing to do this, then consider using NAs instead. Rather than silently ignoring the mistaken use of i, data.table throws a syntax error straight away so you can fix it."
   ]
  },
  {
   "cell_type": "code",
   "execution_count": 14,
   "metadata": {},
   "outputs": [
    {
     "data": {},
     "metadata": {},
     "output_type": "display_data"
    },
    {
     "data": {},
     "metadata": {},
     "output_type": "display_data"
    },
    {
     "data": {},
     "metadata": {},
     "output_type": "display_data"
    }
   ],
   "source": [
    "# A data.table DT has been created for you\n",
    "DT <- data.table(A = c(1, 1, 1, 2, 2), B = 1:5)\n",
    "\n",
    "# Update B, add C and D\n",
    "DT[, `:=`(B=B+1, C=A+B, D=2)]\n",
    "\n",
    "# Delete my_cols\n",
    "my_cols <- c(\"B\", \"C\")\n",
    "DT[, (my_cols):=NULL]\n",
    "\n",
    "# Delete column 2 by number\n",
    "DT[, names(DT)[2]:=NULL]"
   ]
  },
  {
   "cell_type": "markdown",
   "metadata": {},
   "source": [
    "## Section 7 - Using set() - Video"
   ]
  },
  {
   "cell_type": "markdown",
   "metadata": {},
   "source": [
    "### Ready, set(), go!\n",
    "The set() function is used to repeatedly update a data.table by reference. You can think of the set() function as a loopable, low overhead version of the := operator, except that set() cannot be used for grouping operations. The structure of the set() function looks like this:\n",
    "\n",
    "set(DT, index, column, value)\n",
    "The function takes four arguments:\n",
    "\n",
    "A data.table with the columns you wish to update\n",
    "The index used in a loop (e.g. the i in for(i in 1:5))\n",
    "The column or columns you wish to update in the loop\n",
    "How the column or columns should be updated\n",
    "In the next two exercises, you will focus on using set() and its siblings setnames() and setcolorder(). You are two exercises away from becoming a data.table yeoman!\n",
    "\n",
    "INSTRUCTIONS\n",
    "70 XP\n",
    "\n",
    " - A data.table DT has been created for you in the workspace. Check it out!\n",
    " - Loop through columns 2, 3, and 4, and for each one, select 3 rows at random and set the value of that column to NA.\n",
    " - Change the column names to lower case using the tolower() function. When setnames() is passed a single input vector, that vector needs to contain all the new names.\n",
    " - Print the resulting DT to the console to see what changed."
   ]
  },
  {
   "cell_type": "code",
   "execution_count": 4,
   "metadata": {},
   "outputs": [],
   "source": [
    "DT = data.table(A = c(2L, 2L, 3L, 5L, 2L, 5L, 5L, 4L, 4L, 1L), \n",
    "    B = c(2L, 1L, 4L, 2L, 4L, 3L, 4L, 5L, 2L, 4L), C = c(5L, \n",
    "    2L, 4L, 1L, 2L, 2L, 1L, 2L, 5L, 2L), D = c(3L, 3L, 3L, 1L, \n",
    "    5L, 4L, 4L, 1L, 4L, 3L))"
   ]
  },
  {
   "cell_type": "code",
   "execution_count": 6,
   "metadata": {},
   "outputs": [
    {
     "data": {
      "text/html": [
       "<table>\n",
       "<thead><tr><th scope=col>A</th><th scope=col>B</th><th scope=col>C</th><th scope=col>D</th></tr></thead>\n",
       "<tbody>\n",
       "\t<tr><td>2</td><td>2</td><td>5</td><td>3</td></tr>\n",
       "\t<tr><td>2</td><td>1</td><td>2</td><td>3</td></tr>\n",
       "\t<tr><td>3</td><td>4</td><td>4</td><td>3</td></tr>\n",
       "\t<tr><td>5</td><td>2</td><td>1</td><td>1</td></tr>\n",
       "\t<tr><td>2</td><td>4</td><td>2</td><td>5</td></tr>\n",
       "\t<tr><td>5</td><td>3</td><td>2</td><td>4</td></tr>\n",
       "\t<tr><td>5</td><td>4</td><td>1</td><td>4</td></tr>\n",
       "\t<tr><td>4</td><td>5</td><td>2</td><td>1</td></tr>\n",
       "\t<tr><td>4</td><td>2</td><td>5</td><td>4</td></tr>\n",
       "\t<tr><td>1</td><td>4</td><td>2</td><td>3</td></tr>\n",
       "</tbody>\n",
       "</table>\n"
      ],
      "text/latex": [
       "\\begin{tabular}{r|llll}\n",
       " A & B & C & D\\\\\n",
       "\\hline\n",
       "\t 2 & 2 & 5 & 3\\\\\n",
       "\t 2 & 1 & 2 & 3\\\\\n",
       "\t 3 & 4 & 4 & 3\\\\\n",
       "\t 5 & 2 & 1 & 1\\\\\n",
       "\t 2 & 4 & 2 & 5\\\\\n",
       "\t 5 & 3 & 2 & 4\\\\\n",
       "\t 5 & 4 & 1 & 4\\\\\n",
       "\t 4 & 5 & 2 & 1\\\\\n",
       "\t 4 & 2 & 5 & 4\\\\\n",
       "\t 1 & 4 & 2 & 3\\\\\n",
       "\\end{tabular}\n"
      ],
      "text/markdown": [
       "\n",
       "A | B | C | D | \n",
       "|---|---|---|---|---|---|---|---|---|---|\n",
       "| 2 | 2 | 5 | 3 | \n",
       "| 2 | 1 | 2 | 3 | \n",
       "| 3 | 4 | 4 | 3 | \n",
       "| 5 | 2 | 1 | 1 | \n",
       "| 2 | 4 | 2 | 5 | \n",
       "| 5 | 3 | 2 | 4 | \n",
       "| 5 | 4 | 1 | 4 | \n",
       "| 4 | 5 | 2 | 1 | \n",
       "| 4 | 2 | 5 | 4 | \n",
       "| 1 | 4 | 2 | 3 | \n",
       "\n",
       "\n"
      ],
      "text/plain": [
       "   A B C D\n",
       "1  2 2 5 3\n",
       "2  2 1 2 3\n",
       "3  3 4 4 3\n",
       "4  5 2 1 1\n",
       "5  2 4 2 5\n",
       "6  5 3 2 4\n",
       "7  5 4 1 4\n",
       "8  4 5 2 1\n",
       "9  4 2 5 4\n",
       "10 1 4 2 3"
      ]
     },
     "metadata": {},
     "output_type": "display_data"
    },
    {
     "data": {
      "text/html": [
       "<table>\n",
       "<thead><tr><th scope=col>a</th><th scope=col>b</th><th scope=col>c</th><th scope=col>d</th></tr></thead>\n",
       "<tbody>\n",
       "\t<tr><td>2 </td><td> 2</td><td> 5</td><td> 3</td></tr>\n",
       "\t<tr><td>2 </td><td> 1</td><td>NA</td><td> 3</td></tr>\n",
       "\t<tr><td>3 </td><td>NA</td><td> 4</td><td> 3</td></tr>\n",
       "\t<tr><td>5 </td><td>NA</td><td> 1</td><td> 1</td></tr>\n",
       "\t<tr><td>2 </td><td>NA</td><td> 2</td><td> 5</td></tr>\n",
       "\t<tr><td>5 </td><td> 3</td><td> 2</td><td>NA</td></tr>\n",
       "\t<tr><td>5 </td><td> 4</td><td> 1</td><td> 4</td></tr>\n",
       "\t<tr><td>4 </td><td> 5</td><td>NA</td><td> 1</td></tr>\n",
       "\t<tr><td>4 </td><td> 2</td><td> 5</td><td>NA</td></tr>\n",
       "\t<tr><td>1 </td><td> 4</td><td>NA</td><td>NA</td></tr>\n",
       "</tbody>\n",
       "</table>\n"
      ],
      "text/latex": [
       "\\begin{tabular}{r|llll}\n",
       " a & b & c & d\\\\\n",
       "\\hline\n",
       "\t 2  &  2 &  5 &  3\\\\\n",
       "\t 2  &  1 & NA &  3\\\\\n",
       "\t 3  & NA &  4 &  3\\\\\n",
       "\t 5  & NA &  1 &  1\\\\\n",
       "\t 2  & NA &  2 &  5\\\\\n",
       "\t 5  &  3 &  2 & NA\\\\\n",
       "\t 5  &  4 &  1 &  4\\\\\n",
       "\t 4  &  5 & NA &  1\\\\\n",
       "\t 4  &  2 &  5 & NA\\\\\n",
       "\t 1  &  4 & NA & NA\\\\\n",
       "\\end{tabular}\n"
      ],
      "text/markdown": [
       "\n",
       "a | b | c | d | \n",
       "|---|---|---|---|---|---|---|---|---|---|\n",
       "| 2  |  2 |  5 |  3 | \n",
       "| 2  |  1 | NA |  3 | \n",
       "| 3  | NA |  4 |  3 | \n",
       "| 5  | NA |  1 |  1 | \n",
       "| 2  | NA |  2 |  5 | \n",
       "| 5  |  3 |  2 | NA | \n",
       "| 5  |  4 |  1 |  4 | \n",
       "| 4  |  5 | NA |  1 | \n",
       "| 4  |  2 |  5 | NA | \n",
       "| 1  |  4 | NA | NA | \n",
       "\n",
       "\n"
      ],
      "text/plain": [
       "   a b  c  d \n",
       "1  2  2  5  3\n",
       "2  2  1 NA  3\n",
       "3  3 NA  4  3\n",
       "4  5 NA  1  1\n",
       "5  2 NA  2  5\n",
       "6  5  3  2 NA\n",
       "7  5  4  1  4\n",
       "8  4  5 NA  1\n",
       "9  4  2  5 NA\n",
       "10 1  4 NA NA"
      ]
     },
     "metadata": {},
     "output_type": "display_data"
    }
   ],
   "source": [
    "# Set the seed\n",
    "set.seed(1)\n",
    "\n",
    "# Check the DT that is made available to you\n",
    "DT\n",
    "\n",
    "# For loop with set\n",
    "for (i in 2:4) set(DT, sample(10, 3), i, NA)\n",
    "\n",
    "# Change the column names to lowercase\n",
    "setnames(DT, c(\"A\", \"B\", \"C\", \"D\"), c(\"a\", \"b\", \"c\", \"d\"))\n",
    "\n",
    "# Print the resulting DT to the console\n",
    "DT"
   ]
  },
  {
   "cell_type": "markdown",
   "metadata": {},
   "source": [
    "### The set() family\n",
    "A summary of the set() family:\n",
    "\n",
    "set() is a loopable, low overhead version of :=.\n",
    "You can use setnames() to set or change column names.\n",
    "setcolorder() lets you reorder the columns of a data.table.\n",
    "A data.table DT has been defined for you in the sample code.\n",
    "\n",
    "INSTRUCTIONS\n",
    "100 XP\n",
    " - First, add a suffix \"_2\" to all column names of DT. Use paste0() here.\n",
    " - Next, use setnames() to change a_2 to A2.\n",
    " - Lastly, reverse the order of the columns with setcolorder()."
   ]
  },
  {
   "cell_type": "code",
   "execution_count": 7,
   "metadata": {},
   "outputs": [],
   "source": [
    "# Define DT\n",
    "DT <- data.table(a = letters[c(1, 1, 1, 2, 2)], b = 1)\n",
    "\n",
    "# Add a suffix \"_2\" to all column names\n",
    "setnames(DT, names(DT), paste0(names(DT), \"_2\"))\n",
    "\n",
    "# Change column name \"a_2\" to \"A2\"\n",
    "setnames(DT, \"a_2\", \"A2\")\n",
    "\n",
    "# Reverse the order of the columns\n",
    "setcolorder(DT, c(\"b_2\", \"A2\"))"
   ]
  },
  {
   "cell_type": "markdown",
   "metadata": {},
   "source": [
    "Congratulations! You are now a data.table yeoman! Ready to become a data.table expert?"
   ]
  },
  {
   "cell_type": "markdown",
   "metadata": {},
   "source": [
    "## 3. Data.table expert\n",
    "\n",
    "Discover the potential behind indexing, followed by generating and using keys. The final part focuses on fast ordered joins."
   ]
  },
  {
   "cell_type": "markdown",
   "metadata": {},
   "source": [
    "## Section 8 - Indexing - Video"
   ]
  },
  {
   "cell_type": "markdown",
   "metadata": {},
   "source": [
    "### Selecting rows the data.table way\n",
    "In the video, Matt showed you how to use column names in i to select certain rows. Since practice makes perfect, and since you will find yourself selecting rows over and over again, it'll be good to do a small exercise on this with the familiar iris dataset.\n",
    "\n",
    "INSTRUCTIONS\n",
    "100 XP\n",
    " - Convert the iris dataset to a data.table and store the result as iris.\n",
    " - Select all the rows where Species is \"virginica\".\n",
    " - Select all the rows where Species is either \"virginica\" or \"versicolor\"."
   ]
  },
  {
   "cell_type": "code",
   "execution_count": null,
   "metadata": {},
   "outputs": [],
   "source": [
    "# The data.table package is pre-loaded\n",
    "\n",
    "# Convert iris to a data.table\n",
    "iris = data.table(iris)\n",
    "\n",
    "# Species is \"virginica\"\n",
    "iris[Species == \"virginica\"]\n",
    "\n",
    "# Species is either \"virginica\" or \"versicolor\"\n",
    "iris[Species %in% c(\"virginica\", \"versicolor\"),]"
   ]
  },
  {
   "cell_type": "markdown",
   "metadata": {},
   "source": [
    "Good job! Now you know how to select using column names in i (to select rows) and in j (to select columns and run functions on columns)."
   ]
  },
  {
   "cell_type": "markdown",
   "metadata": {},
   "source": [
    "# 3. Data.table expert\n",
    "\n",
    "Discover the potential behind indexing, followed by generating and using keys. The final part focuses on fast ordered joins."
   ]
  },
  {
   "cell_type": "markdown",
   "metadata": {},
   "source": [
    "## Section 8 - Indexing"
   ]
  },
  {
   "cell_type": "markdown",
   "metadata": {},
   "source": [
    "### Selecting rows the data.table way\n",
    "In the video, Matt showed you how to use column names in i to select certain rows. Since practice makes perfect, and since you will find yourself selecting rows over and over again, it'll be good to do a small exercise on this with the familiar iris dataset.\n",
    "\n",
    "INSTRUCTIONS\n",
    "100 XP\n",
    " - Convert the iris dataset to a data.table and store the result as iris.\n",
    " - Select all the rows where Species is \"virginica\".\n",
    " - Select all the rows where Species is either \"virginica\" or \"versicolor\"."
   ]
  },
  {
   "cell_type": "code",
   "execution_count": null,
   "metadata": {},
   "outputs": [],
   "source": [
    "# The data.table package is pre-loaded\n",
    "\n",
    "# Convert iris to a data.table\n",
    "iris = data.table(iris)\n",
    "\n",
    "# Species is \"virginica\"\n",
    "iris[Species == \"virginica\"]\n",
    "\n",
    "# Species is either \"virginica\" or \"versicolor\"\n",
    "iris[Species %in% c(\"virginica\", \"versicolor\"),]"
   ]
  },
  {
   "cell_type": "markdown",
   "metadata": {},
   "source": [
    "Good job! Now you know how to select using column names in i (to select rows) and in j (to select columns and run functions on columns)."
   ]
  },
  {
   "cell_type": "markdown",
   "metadata": {},
   "source": [
    "### Removing columns and adapting your column names\n",
    "In the previous exercise, you selected certain rows from the iris data.table based on the column names. Now you have to take your understanding of the data.table package to the next level by using standard R functions and regular expressions to remove columns and change column names. To practice this, you'll do a little manipulation to prepare for the next exercise.\n",
    "\n",
    "Since regular expressions can be tricky, here is a quick refresher:\n",
    "\n",
    "Metacharacters allow you to match certain types of characters. For example, . means any single character, ^ means \"begins with\", and $ means \"ends with\".\n",
    "If you want to use any of the metacharacters as actual text, you need to use the \\\\ escape sequence.\n",
    "INSTRUCTIONS\n",
    "100 XP\n",
    "\n",
    "- Simplify the names of the columns in iris that contain \"Sepal.\" by removing the \"Sepal.\" prefix. Use gsub() along with the appropriate regular expression inside a call to setnames().\n",
    "- Remove the two columns that start with \"Petal\" from the iris data.table."
   ]
  },
  {
   "cell_type": "code",
   "execution_count": 4,
   "metadata": {},
   "outputs": [
    {
     "name": "stderr",
     "output_type": "stream",
     "text": [
      "Warning message in `[.data.table`(iris, , `:=`(c(\"Petal.Length\", \"Petal.Width\"), :\n",
      "\"Adding new column 'Petal.Length' then assigning NULL (deleting it).\"Warning message in `[.data.table`(iris, , `:=`(c(\"Petal.Length\", \"Petal.Width\"), :\n",
      "\"Adding new column 'Petal.Width' then assigning NULL (deleting it).\""
     ]
    },
    {
     "data": {},
     "metadata": {},
     "output_type": "display_data"
    }
   ],
   "source": [
    "# iris as a data.table\n",
    "iris <- as.data.table(iris)\n",
    "\n",
    "# Remove the \"Sepal.\" prefix\n",
    "setnames(iris, grep(\"^Sepal.\", names(iris), value=TRUE), gsub(\"^Sepal.\", \"\", grep(\"^Sepal.\", names(iris), value=TRUE)))\n",
    "\n",
    "# Remove the two columns starting with \"Petal\"\n",
    "iris[,c(\"Petal.Length\", \"Petal.Width\") := NULL]\n",
    " #grep(\"^Petal.\", names(iris), value=TRUE)"
   ]
  },
  {
   "cell_type": "code",
   "execution_count": 5,
   "metadata": {},
   "outputs": [
    {
     "data": {
      "text/html": [
       "<table>\n",
       "<thead><tr><th scope=col>Length</th><th scope=col>Width</th><th scope=col>Species</th></tr></thead>\n",
       "<tbody>\n",
       "\t<tr><td>5.1   </td><td>3.5   </td><td>setosa</td></tr>\n",
       "\t<tr><td>4.9   </td><td>3.0   </td><td>setosa</td></tr>\n",
       "\t<tr><td>4.7   </td><td>3.2   </td><td>setosa</td></tr>\n",
       "\t<tr><td>4.6   </td><td>3.1   </td><td>setosa</td></tr>\n",
       "\t<tr><td>5.0   </td><td>3.6   </td><td>setosa</td></tr>\n",
       "\t<tr><td>5.4   </td><td>3.9   </td><td>setosa</td></tr>\n",
       "</tbody>\n",
       "</table>\n"
      ],
      "text/latex": [
       "\\begin{tabular}{r|lll}\n",
       " Length & Width & Species\\\\\n",
       "\\hline\n",
       "\t 5.1    & 3.5    & setosa\\\\\n",
       "\t 4.9    & 3.0    & setosa\\\\\n",
       "\t 4.7    & 3.2    & setosa\\\\\n",
       "\t 4.6    & 3.1    & setosa\\\\\n",
       "\t 5.0    & 3.6    & setosa\\\\\n",
       "\t 5.4    & 3.9    & setosa\\\\\n",
       "\\end{tabular}\n"
      ],
      "text/markdown": [
       "\n",
       "Length | Width | Species | \n",
       "|---|---|---|---|---|---|\n",
       "| 5.1    | 3.5    | setosa | \n",
       "| 4.9    | 3.0    | setosa | \n",
       "| 4.7    | 3.2    | setosa | \n",
       "| 4.6    | 3.1    | setosa | \n",
       "| 5.0    | 3.6    | setosa | \n",
       "| 5.4    | 3.9    | setosa | \n",
       "\n",
       "\n"
      ],
      "text/plain": [
       "  Length Width Species\n",
       "1 5.1    3.5   setosa \n",
       "2 4.9    3.0   setosa \n",
       "3 4.7    3.2   setosa \n",
       "4 4.6    3.1   setosa \n",
       "5 5.0    3.6   setosa \n",
       "6 5.4    3.9   setosa "
      ]
     },
     "metadata": {},
     "output_type": "display_data"
    }
   ],
   "source": [
    "head(iris)"
   ]
  },
  {
   "cell_type": "markdown",
   "metadata": {},
   "source": [
    "### Understanding automatic indexing\n",
    "You've been introduced to the rule that \"if i is a single variable name, it is evaluated in the calling scope, otherwise inside DT's scope\". This is a very important rule if you want to conceptually understand what is going on when using column names in i. Only single columns on the left side of operators benefit from automatic indexing.\n",
    "\n",
    "The iris data.table with the variable names you updated in the previous exercise is available in your workspace.\n",
    "\n",
    "INSTRUCTIONS\n",
    "100 XP\n",
    " - Select the rows where the area is greater than 20 square centimeters.\n",
    " - Add a new boolean column containing Width * Length > 25 and call it is_large. Remember that := can be used to create new columns.\n",
    " - Select the rows for which the value of is_large is TRUE."
   ]
  },
  {
   "cell_type": "code",
   "execution_count": 7,
   "metadata": {},
   "outputs": [
    {
     "data": {
      "text/html": [
       "<table>\n",
       "<thead><tr><th scope=col>Length</th><th scope=col>Width</th><th scope=col>Species</th><th scope=col>is_large</th></tr></thead>\n",
       "<tbody>\n",
       "\t<tr><td>5.4       </td><td>3.9       </td><td>setosa    </td><td>FALSE     </td></tr>\n",
       "\t<tr><td>5.8       </td><td>4.0       </td><td>setosa    </td><td>FALSE     </td></tr>\n",
       "\t<tr><td>5.7       </td><td>4.4       </td><td>setosa    </td><td> TRUE     </td></tr>\n",
       "\t<tr><td>5.4       </td><td>3.9       </td><td>setosa    </td><td>FALSE     </td></tr>\n",
       "\t<tr><td>5.7       </td><td>3.8       </td><td>setosa    </td><td>FALSE     </td></tr>\n",
       "\t<tr><td>5.2       </td><td>4.1       </td><td>setosa    </td><td>FALSE     </td></tr>\n",
       "\t<tr><td>5.5       </td><td>4.2       </td><td>setosa    </td><td>FALSE     </td></tr>\n",
       "\t<tr><td>7.0       </td><td>3.2       </td><td>versicolor</td><td>FALSE     </td></tr>\n",
       "\t<tr><td>6.4       </td><td>3.2       </td><td>versicolor</td><td>FALSE     </td></tr>\n",
       "\t<tr><td>6.9       </td><td>3.1       </td><td>versicolor</td><td>FALSE     </td></tr>\n",
       "\t<tr><td>6.3       </td><td>3.3       </td><td>versicolor</td><td>FALSE     </td></tr>\n",
       "\t<tr><td>6.7       </td><td>3.1       </td><td>versicolor</td><td>FALSE     </td></tr>\n",
       "\t<tr><td>6.7       </td><td>3.0       </td><td>versicolor</td><td>FALSE     </td></tr>\n",
       "\t<tr><td>6.0       </td><td>3.4       </td><td>versicolor</td><td>FALSE     </td></tr>\n",
       "\t<tr><td>6.7       </td><td>3.1       </td><td>versicolor</td><td>FALSE     </td></tr>\n",
       "\t<tr><td>6.3       </td><td>3.3       </td><td>virginica </td><td>FALSE     </td></tr>\n",
       "\t<tr><td>7.1       </td><td>3.0       </td><td>virginica </td><td>FALSE     </td></tr>\n",
       "\t<tr><td>7.6       </td><td>3.0       </td><td>virginica </td><td>FALSE     </td></tr>\n",
       "\t<tr><td>7.3       </td><td>2.9       </td><td>virginica </td><td>FALSE     </td></tr>\n",
       "\t<tr><td>7.2       </td><td>3.6       </td><td>virginica </td><td> TRUE     </td></tr>\n",
       "\t<tr><td>6.5       </td><td>3.2       </td><td>virginica </td><td>FALSE     </td></tr>\n",
       "\t<tr><td>6.8       </td><td>3.0       </td><td>virginica </td><td>FALSE     </td></tr>\n",
       "\t<tr><td>6.4       </td><td>3.2       </td><td>virginica </td><td>FALSE     </td></tr>\n",
       "\t<tr><td>7.7       </td><td>3.8       </td><td>virginica </td><td> TRUE     </td></tr>\n",
       "\t<tr><td>7.7       </td><td>2.6       </td><td>virginica </td><td>FALSE     </td></tr>\n",
       "\t<tr><td>6.9       </td><td>3.2       </td><td>virginica </td><td>FALSE     </td></tr>\n",
       "\t<tr><td>7.7       </td><td>2.8       </td><td>virginica </td><td>FALSE     </td></tr>\n",
       "\t<tr><td>6.7       </td><td>3.3       </td><td>virginica </td><td>FALSE     </td></tr>\n",
       "\t<tr><td>7.2       </td><td>3.2       </td><td>virginica </td><td>FALSE     </td></tr>\n",
       "\t<tr><td>7.2       </td><td>3.0       </td><td>virginica </td><td>FALSE     </td></tr>\n",
       "\t<tr><td>7.4       </td><td>2.8       </td><td>virginica </td><td>FALSE     </td></tr>\n",
       "\t<tr><td>7.9       </td><td>3.8       </td><td>virginica </td><td> TRUE     </td></tr>\n",
       "\t<tr><td>7.7       </td><td>3.0       </td><td>virginica </td><td>FALSE     </td></tr>\n",
       "\t<tr><td>6.3       </td><td>3.4       </td><td>virginica </td><td>FALSE     </td></tr>\n",
       "\t<tr><td>6.9       </td><td>3.1       </td><td>virginica </td><td>FALSE     </td></tr>\n",
       "\t<tr><td>6.7       </td><td>3.1       </td><td>virginica </td><td>FALSE     </td></tr>\n",
       "\t<tr><td>6.9       </td><td>3.1       </td><td>virginica </td><td>FALSE     </td></tr>\n",
       "\t<tr><td>6.8       </td><td>3.2       </td><td>virginica </td><td>FALSE     </td></tr>\n",
       "\t<tr><td>6.7       </td><td>3.3       </td><td>virginica </td><td>FALSE     </td></tr>\n",
       "\t<tr><td>6.7       </td><td>3.0       </td><td>virginica </td><td>FALSE     </td></tr>\n",
       "\t<tr><td>6.2       </td><td>3.4       </td><td>virginica </td><td>FALSE     </td></tr>\n",
       "</tbody>\n",
       "</table>\n"
      ],
      "text/latex": [
       "\\begin{tabular}{r|llll}\n",
       " Length & Width & Species & is\\_large\\\\\n",
       "\\hline\n",
       "\t 5.4        & 3.9        & setosa     & FALSE     \\\\\n",
       "\t 5.8        & 4.0        & setosa     & FALSE     \\\\\n",
       "\t 5.7        & 4.4        & setosa     &  TRUE     \\\\\n",
       "\t 5.4        & 3.9        & setosa     & FALSE     \\\\\n",
       "\t 5.7        & 3.8        & setosa     & FALSE     \\\\\n",
       "\t 5.2        & 4.1        & setosa     & FALSE     \\\\\n",
       "\t 5.5        & 4.2        & setosa     & FALSE     \\\\\n",
       "\t 7.0        & 3.2        & versicolor & FALSE     \\\\\n",
       "\t 6.4        & 3.2        & versicolor & FALSE     \\\\\n",
       "\t 6.9        & 3.1        & versicolor & FALSE     \\\\\n",
       "\t 6.3        & 3.3        & versicolor & FALSE     \\\\\n",
       "\t 6.7        & 3.1        & versicolor & FALSE     \\\\\n",
       "\t 6.7        & 3.0        & versicolor & FALSE     \\\\\n",
       "\t 6.0        & 3.4        & versicolor & FALSE     \\\\\n",
       "\t 6.7        & 3.1        & versicolor & FALSE     \\\\\n",
       "\t 6.3        & 3.3        & virginica  & FALSE     \\\\\n",
       "\t 7.1        & 3.0        & virginica  & FALSE     \\\\\n",
       "\t 7.6        & 3.0        & virginica  & FALSE     \\\\\n",
       "\t 7.3        & 2.9        & virginica  & FALSE     \\\\\n",
       "\t 7.2        & 3.6        & virginica  &  TRUE     \\\\\n",
       "\t 6.5        & 3.2        & virginica  & FALSE     \\\\\n",
       "\t 6.8        & 3.0        & virginica  & FALSE     \\\\\n",
       "\t 6.4        & 3.2        & virginica  & FALSE     \\\\\n",
       "\t 7.7        & 3.8        & virginica  &  TRUE     \\\\\n",
       "\t 7.7        & 2.6        & virginica  & FALSE     \\\\\n",
       "\t 6.9        & 3.2        & virginica  & FALSE     \\\\\n",
       "\t 7.7        & 2.8        & virginica  & FALSE     \\\\\n",
       "\t 6.7        & 3.3        & virginica  & FALSE     \\\\\n",
       "\t 7.2        & 3.2        & virginica  & FALSE     \\\\\n",
       "\t 7.2        & 3.0        & virginica  & FALSE     \\\\\n",
       "\t 7.4        & 2.8        & virginica  & FALSE     \\\\\n",
       "\t 7.9        & 3.8        & virginica  &  TRUE     \\\\\n",
       "\t 7.7        & 3.0        & virginica  & FALSE     \\\\\n",
       "\t 6.3        & 3.4        & virginica  & FALSE     \\\\\n",
       "\t 6.9        & 3.1        & virginica  & FALSE     \\\\\n",
       "\t 6.7        & 3.1        & virginica  & FALSE     \\\\\n",
       "\t 6.9        & 3.1        & virginica  & FALSE     \\\\\n",
       "\t 6.8        & 3.2        & virginica  & FALSE     \\\\\n",
       "\t 6.7        & 3.3        & virginica  & FALSE     \\\\\n",
       "\t 6.7        & 3.0        & virginica  & FALSE     \\\\\n",
       "\t 6.2        & 3.4        & virginica  & FALSE     \\\\\n",
       "\\end{tabular}\n"
      ],
      "text/markdown": [
       "\n",
       "Length | Width | Species | is_large | \n",
       "|---|---|---|---|---|---|---|---|---|---|---|---|---|---|---|---|---|---|---|---|---|---|---|---|---|---|---|---|---|---|---|---|---|---|---|---|---|---|---|---|---|\n",
       "| 5.4        | 3.9        | setosa     | FALSE      | \n",
       "| 5.8        | 4.0        | setosa     | FALSE      | \n",
       "| 5.7        | 4.4        | setosa     |  TRUE      | \n",
       "| 5.4        | 3.9        | setosa     | FALSE      | \n",
       "| 5.7        | 3.8        | setosa     | FALSE      | \n",
       "| 5.2        | 4.1        | setosa     | FALSE      | \n",
       "| 5.5        | 4.2        | setosa     | FALSE      | \n",
       "| 7.0        | 3.2        | versicolor | FALSE      | \n",
       "| 6.4        | 3.2        | versicolor | FALSE      | \n",
       "| 6.9        | 3.1        | versicolor | FALSE      | \n",
       "| 6.3        | 3.3        | versicolor | FALSE      | \n",
       "| 6.7        | 3.1        | versicolor | FALSE      | \n",
       "| 6.7        | 3.0        | versicolor | FALSE      | \n",
       "| 6.0        | 3.4        | versicolor | FALSE      | \n",
       "| 6.7        | 3.1        | versicolor | FALSE      | \n",
       "| 6.3        | 3.3        | virginica  | FALSE      | \n",
       "| 7.1        | 3.0        | virginica  | FALSE      | \n",
       "| 7.6        | 3.0        | virginica  | FALSE      | \n",
       "| 7.3        | 2.9        | virginica  | FALSE      | \n",
       "| 7.2        | 3.6        | virginica  |  TRUE      | \n",
       "| 6.5        | 3.2        | virginica  | FALSE      | \n",
       "| 6.8        | 3.0        | virginica  | FALSE      | \n",
       "| 6.4        | 3.2        | virginica  | FALSE      | \n",
       "| 7.7        | 3.8        | virginica  |  TRUE      | \n",
       "| 7.7        | 2.6        | virginica  | FALSE      | \n",
       "| 6.9        | 3.2        | virginica  | FALSE      | \n",
       "| 7.7        | 2.8        | virginica  | FALSE      | \n",
       "| 6.7        | 3.3        | virginica  | FALSE      | \n",
       "| 7.2        | 3.2        | virginica  | FALSE      | \n",
       "| 7.2        | 3.0        | virginica  | FALSE      | \n",
       "| 7.4        | 2.8        | virginica  | FALSE      | \n",
       "| 7.9        | 3.8        | virginica  |  TRUE      | \n",
       "| 7.7        | 3.0        | virginica  | FALSE      | \n",
       "| 6.3        | 3.4        | virginica  | FALSE      | \n",
       "| 6.9        | 3.1        | virginica  | FALSE      | \n",
       "| 6.7        | 3.1        | virginica  | FALSE      | \n",
       "| 6.9        | 3.1        | virginica  | FALSE      | \n",
       "| 6.8        | 3.2        | virginica  | FALSE      | \n",
       "| 6.7        | 3.3        | virginica  | FALSE      | \n",
       "| 6.7        | 3.0        | virginica  | FALSE      | \n",
       "| 6.2        | 3.4        | virginica  | FALSE      | \n",
       "\n",
       "\n"
      ],
      "text/plain": [
       "   Length Width Species    is_large\n",
       "1  5.4    3.9   setosa     FALSE   \n",
       "2  5.8    4.0   setosa     FALSE   \n",
       "3  5.7    4.4   setosa      TRUE   \n",
       "4  5.4    3.9   setosa     FALSE   \n",
       "5  5.7    3.8   setosa     FALSE   \n",
       "6  5.2    4.1   setosa     FALSE   \n",
       "7  5.5    4.2   setosa     FALSE   \n",
       "8  7.0    3.2   versicolor FALSE   \n",
       "9  6.4    3.2   versicolor FALSE   \n",
       "10 6.9    3.1   versicolor FALSE   \n",
       "11 6.3    3.3   versicolor FALSE   \n",
       "12 6.7    3.1   versicolor FALSE   \n",
       "13 6.7    3.0   versicolor FALSE   \n",
       "14 6.0    3.4   versicolor FALSE   \n",
       "15 6.7    3.1   versicolor FALSE   \n",
       "16 6.3    3.3   virginica  FALSE   \n",
       "17 7.1    3.0   virginica  FALSE   \n",
       "18 7.6    3.0   virginica  FALSE   \n",
       "19 7.3    2.9   virginica  FALSE   \n",
       "20 7.2    3.6   virginica   TRUE   \n",
       "21 6.5    3.2   virginica  FALSE   \n",
       "22 6.8    3.0   virginica  FALSE   \n",
       "23 6.4    3.2   virginica  FALSE   \n",
       "24 7.7    3.8   virginica   TRUE   \n",
       "25 7.7    2.6   virginica  FALSE   \n",
       "26 6.9    3.2   virginica  FALSE   \n",
       "27 7.7    2.8   virginica  FALSE   \n",
       "28 6.7    3.3   virginica  FALSE   \n",
       "29 7.2    3.2   virginica  FALSE   \n",
       "30 7.2    3.0   virginica  FALSE   \n",
       "31 7.4    2.8   virginica  FALSE   \n",
       "32 7.9    3.8   virginica   TRUE   \n",
       "33 7.7    3.0   virginica  FALSE   \n",
       "34 6.3    3.4   virginica  FALSE   \n",
       "35 6.9    3.1   virginica  FALSE   \n",
       "36 6.7    3.1   virginica  FALSE   \n",
       "37 6.9    3.1   virginica  FALSE   \n",
       "38 6.8    3.2   virginica  FALSE   \n",
       "39 6.7    3.3   virginica  FALSE   \n",
       "40 6.7    3.0   virginica  FALSE   \n",
       "41 6.2    3.4   virginica  FALSE   "
      ]
     },
     "metadata": {},
     "output_type": "display_data"
    },
    {
     "data": {},
     "metadata": {},
     "output_type": "display_data"
    },
    {
     "data": {
      "text/html": [
       "<table>\n",
       "<thead><tr><th scope=col>Length</th><th scope=col>Width</th><th scope=col>Species</th><th scope=col>is_large</th></tr></thead>\n",
       "<tbody>\n",
       "\t<tr><td>5.7      </td><td>4.4      </td><td>setosa   </td><td>TRUE     </td></tr>\n",
       "\t<tr><td>7.2      </td><td>3.6      </td><td>virginica</td><td>TRUE     </td></tr>\n",
       "\t<tr><td>7.7      </td><td>3.8      </td><td>virginica</td><td>TRUE     </td></tr>\n",
       "\t<tr><td>7.9      </td><td>3.8      </td><td>virginica</td><td>TRUE     </td></tr>\n",
       "</tbody>\n",
       "</table>\n"
      ],
      "text/latex": [
       "\\begin{tabular}{r|llll}\n",
       " Length & Width & Species & is\\_large\\\\\n",
       "\\hline\n",
       "\t 5.7       & 4.4       & setosa    & TRUE     \\\\\n",
       "\t 7.2       & 3.6       & virginica & TRUE     \\\\\n",
       "\t 7.7       & 3.8       & virginica & TRUE     \\\\\n",
       "\t 7.9       & 3.8       & virginica & TRUE     \\\\\n",
       "\\end{tabular}\n"
      ],
      "text/markdown": [
       "\n",
       "Length | Width | Species | is_large | \n",
       "|---|---|---|---|\n",
       "| 5.7       | 4.4       | setosa    | TRUE      | \n",
       "| 7.2       | 3.6       | virginica | TRUE      | \n",
       "| 7.7       | 3.8       | virginica | TRUE      | \n",
       "| 7.9       | 3.8       | virginica | TRUE      | \n",
       "\n",
       "\n"
      ],
      "text/plain": [
       "  Length Width Species   is_large\n",
       "1 5.7    4.4   setosa    TRUE    \n",
       "2 7.2    3.6   virginica TRUE    \n",
       "3 7.7    3.8   virginica TRUE    \n",
       "4 7.9    3.8   virginica TRUE    "
      ]
     },
     "metadata": {},
     "output_type": "display_data"
    }
   ],
   "source": [
    "# Cleaned up iris data.table\n",
    "iris\n",
    "\n",
    "# Area is greater than 20 square centimeters\n",
    "iris[Width*Length > 20]\n",
    "\n",
    "# Add new boolean column\n",
    "iris[,is_large := Width*Length>25]\n",
    "\n",
    "# Now large observations with is_large\n",
    "iris[is_large==TRUE]"
   ]
  },
  {
   "cell_type": "markdown",
   "metadata": {},
   "source": [
    "## Section 9 - Keys  - Video"
   ]
  },
  {
   "cell_type": "code",
   "execution_count": 16,
   "metadata": {},
   "outputs": [
    {
     "data": {
      "text/html": [
       "<table>\n",
       "<thead><tr><th scope=col>A</th><th scope=col>B</th><th scope=col>C</th></tr></thead>\n",
       "<tbody>\n",
       "\t<tr><td>b </td><td>2 </td><td> 6</td></tr>\n",
       "\t<tr><td>a </td><td>4 </td><td> 7</td></tr>\n",
       "\t<tr><td>b </td><td>1 </td><td> 8</td></tr>\n",
       "\t<tr><td>c </td><td>7 </td><td> 9</td></tr>\n",
       "\t<tr><td>a </td><td>5 </td><td>10</td></tr>\n",
       "\t<tr><td>b </td><td>3 </td><td>11</td></tr>\n",
       "\t<tr><td>c </td><td>6 </td><td>12</td></tr>\n",
       "</tbody>\n",
       "</table>\n"
      ],
      "text/latex": [
       "\\begin{tabular}{r|lll}\n",
       " A & B & C\\\\\n",
       "\\hline\n",
       "\t b  & 2  &  6\\\\\n",
       "\t a  & 4  &  7\\\\\n",
       "\t b  & 1  &  8\\\\\n",
       "\t c  & 7  &  9\\\\\n",
       "\t a  & 5  & 10\\\\\n",
       "\t b  & 3  & 11\\\\\n",
       "\t c  & 6  & 12\\\\\n",
       "\\end{tabular}\n"
      ],
      "text/markdown": [
       "\n",
       "A | B | C | \n",
       "|---|---|---|---|---|---|---|\n",
       "| b  | 2  |  6 | \n",
       "| a  | 4  |  7 | \n",
       "| b  | 1  |  8 | \n",
       "| c  | 7  |  9 | \n",
       "| a  | 5  | 10 | \n",
       "| b  | 3  | 11 | \n",
       "| c  | 6  | 12 | \n",
       "\n",
       "\n"
      ],
      "text/plain": [
       "  A B C \n",
       "1 b 2  6\n",
       "2 a 4  7\n",
       "3 b 1  8\n",
       "4 c 7  9\n",
       "5 a 5 10\n",
       "6 b 3 11\n",
       "7 c 6 12"
      ]
     },
     "metadata": {},
     "output_type": "display_data"
    }
   ],
   "source": [
    "DT = data.table(A = c(\"b\", \"a\", \"b\", \"c\", \"a\", \"b\", \"c\"), \n",
    "                B = c(2, 4, 1, 7, 5, 3, 6), \n",
    "                C = 6:12)\n",
    "DT"
   ]
  },
  {
   "cell_type": "markdown",
   "metadata": {},
   "source": [
    "### Check to see if you understood the KEY takeaways\n",
    "The DT data.table is already loaded in your workspace. Perform the following operations:\n",
    "\n",
    " - Select the b group using ==.\n",
    " - Set a 2-column key on A and B.\n",
    " - Select the b group again using ==.\n",
    " \n",
    "Did the order of the rows within the b group change?\n",
    "\n",
    "INSTRUCTIONS\n",
    "50 XP\n",
    " - Possible Answers\n",
    " - Click or Press Ctrl+1 to focus\n",
    " - Yes\n",
    " - No"
   ]
  },
  {
   "cell_type": "code",
   "execution_count": 17,
   "metadata": {},
   "outputs": [
    {
     "data": {
      "text/html": [
       "<table>\n",
       "<thead><tr><th scope=col>A</th><th scope=col>B</th><th scope=col>C</th></tr></thead>\n",
       "<tbody>\n",
       "\t<tr><td>b </td><td>2 </td><td> 6</td></tr>\n",
       "\t<tr><td>b </td><td>1 </td><td> 8</td></tr>\n",
       "\t<tr><td>b </td><td>3 </td><td>11</td></tr>\n",
       "</tbody>\n",
       "</table>\n"
      ],
      "text/latex": [
       "\\begin{tabular}{r|lll}\n",
       " A & B & C\\\\\n",
       "\\hline\n",
       "\t b  & 2  &  6\\\\\n",
       "\t b  & 1  &  8\\\\\n",
       "\t b  & 3  & 11\\\\\n",
       "\\end{tabular}\n"
      ],
      "text/markdown": [
       "\n",
       "A | B | C | \n",
       "|---|---|---|\n",
       "| b  | 2  |  6 | \n",
       "| b  | 1  |  8 | \n",
       "| b  | 3  | 11 | \n",
       "\n",
       "\n"
      ],
      "text/plain": [
       "  A B C \n",
       "1 b 2  6\n",
       "2 b 1  8\n",
       "3 b 3 11"
      ]
     },
     "metadata": {},
     "output_type": "display_data"
    }
   ],
   "source": [
    "DT[A==\"b\"]"
   ]
  },
  {
   "cell_type": "code",
   "execution_count": 18,
   "metadata": {},
   "outputs": [],
   "source": [
    "setkey(DT, A,B)"
   ]
  },
  {
   "cell_type": "code",
   "execution_count": 19,
   "metadata": {},
   "outputs": [
    {
     "data": {
      "text/html": [
       "<table>\n",
       "<thead><tr><th scope=col>A</th><th scope=col>B</th><th scope=col>C</th></tr></thead>\n",
       "<tbody>\n",
       "\t<tr><td>b </td><td>1 </td><td> 8</td></tr>\n",
       "\t<tr><td>b </td><td>2 </td><td> 6</td></tr>\n",
       "\t<tr><td>b </td><td>3 </td><td>11</td></tr>\n",
       "</tbody>\n",
       "</table>\n"
      ],
      "text/latex": [
       "\\begin{tabular}{r|lll}\n",
       " A & B & C\\\\\n",
       "\\hline\n",
       "\t b  & 1  &  8\\\\\n",
       "\t b  & 2  &  6\\\\\n",
       "\t b  & 3  & 11\\\\\n",
       "\\end{tabular}\n"
      ],
      "text/markdown": [
       "\n",
       "A | B | C | \n",
       "|---|---|---|\n",
       "| b  | 1  |  8 | \n",
       "| b  | 2  |  6 | \n",
       "| b  | 3  | 11 | \n",
       "\n",
       "\n"
      ],
      "text/plain": [
       "  A B C \n",
       "1 b 1  8\n",
       "2 b 2  6\n",
       "3 b 3 11"
      ]
     },
     "metadata": {},
     "output_type": "display_data"
    }
   ],
   "source": [
    "DT[A==\"b\"]"
   ]
  },
  {
   "cell_type": "markdown",
   "metadata": {},
   "source": [
    "Correct. This is because B is included in the key."
   ]
  },
  {
   "cell_type": "markdown",
   "metadata": {},
   "source": [
    "### Selecting groups or parts of groups\n",
    "The previous exercise illustrated how you can manually set a key via setkey(DT, A, B). setkey() sorts the data by the columns that you specify and changes the table by reference. Having set a key will allow you to use it, for example, as a super-charged row name when doing selections. Arguments like mult and nomatch then help you to select only particular parts of groups.\n",
    "\n",
    "Furthermore, two of the instructions will require you to make use of by = .EACHI. This allows you to run j for each group in which each item in i joins too. The last instruction will require you to produce a side effect inside the j argument in addition to selecting rows.\n",
    "\n",
    "INSTRUCTIONS\n",
    "100 XP\n",
    "\n",
    "A data.table DT has already been created for you with the keys set to A and B.\n",
    "\n",
    " - Select the \"b\" group without using ==.\n",
    " - Select the \"b\" and \"c\" groups, again without using ==.\n",
    " - Select the first row of the \"b\" and \"c\" groups using mult.\n",
    " - Use by = .EACHI and .SD to select the first and last row of the \"b\" and \"c\" groups.\n",
    " - Extend the previous command to print out the group before returning the first and last row from it. You can use curly brackets to include two separate instructions inside the j argument."
   ]
  },
  {
   "cell_type": "code",
   "execution_count": 20,
   "metadata": {},
   "outputs": [
    {
     "data": {
      "text/html": [
       "<table>\n",
       "<thead><tr><th scope=col>A</th><th scope=col>B</th><th scope=col>C</th></tr></thead>\n",
       "<tbody>\n",
       "\t<tr><td>b </td><td>1 </td><td> 8</td></tr>\n",
       "\t<tr><td>b </td><td>5 </td><td> 6</td></tr>\n",
       "\t<tr><td>b </td><td>8 </td><td>11</td></tr>\n",
       "</tbody>\n",
       "</table>\n"
      ],
      "text/latex": [
       "\\begin{tabular}{r|lll}\n",
       " A & B & C\\\\\n",
       "\\hline\n",
       "\t b  & 1  &  8\\\\\n",
       "\t b  & 5  &  6\\\\\n",
       "\t b  & 8  & 11\\\\\n",
       "\\end{tabular}\n"
      ],
      "text/markdown": [
       "\n",
       "A | B | C | \n",
       "|---|---|---|\n",
       "| b  | 1  |  8 | \n",
       "| b  | 5  |  6 | \n",
       "| b  | 8  | 11 | \n",
       "\n",
       "\n"
      ],
      "text/plain": [
       "  A B C \n",
       "1 b 1  8\n",
       "2 b 5  6\n",
       "3 b 8 11"
      ]
     },
     "metadata": {},
     "output_type": "display_data"
    },
    {
     "data": {
      "text/html": [
       "<table>\n",
       "<thead><tr><th scope=col>A</th><th scope=col>B</th><th scope=col>C</th></tr></thead>\n",
       "<tbody>\n",
       "\t<tr><td>b </td><td>1 </td><td> 8</td></tr>\n",
       "\t<tr><td>b </td><td>5 </td><td> 6</td></tr>\n",
       "\t<tr><td>b </td><td>8 </td><td>11</td></tr>\n",
       "\t<tr><td>c </td><td>6 </td><td>12</td></tr>\n",
       "\t<tr><td>c </td><td>9 </td><td> 9</td></tr>\n",
       "</tbody>\n",
       "</table>\n"
      ],
      "text/latex": [
       "\\begin{tabular}{r|lll}\n",
       " A & B & C\\\\\n",
       "\\hline\n",
       "\t b  & 1  &  8\\\\\n",
       "\t b  & 5  &  6\\\\\n",
       "\t b  & 8  & 11\\\\\n",
       "\t c  & 6  & 12\\\\\n",
       "\t c  & 9  &  9\\\\\n",
       "\\end{tabular}\n"
      ],
      "text/markdown": [
       "\n",
       "A | B | C | \n",
       "|---|---|---|---|---|\n",
       "| b  | 1  |  8 | \n",
       "| b  | 5  |  6 | \n",
       "| b  | 8  | 11 | \n",
       "| c  | 6  | 12 | \n",
       "| c  | 9  |  9 | \n",
       "\n",
       "\n"
      ],
      "text/plain": [
       "  A B C \n",
       "1 b 1  8\n",
       "2 b 5  6\n",
       "3 b 8 11\n",
       "4 c 6 12\n",
       "5 c 9  9"
      ]
     },
     "metadata": {},
     "output_type": "display_data"
    },
    {
     "data": {
      "text/html": [
       "<table>\n",
       "<thead><tr><th scope=col>A</th><th scope=col>B</th><th scope=col>C</th></tr></thead>\n",
       "<tbody>\n",
       "\t<tr><td>b </td><td>1 </td><td> 8</td></tr>\n",
       "\t<tr><td>c </td><td>6 </td><td>12</td></tr>\n",
       "</tbody>\n",
       "</table>\n"
      ],
      "text/latex": [
       "\\begin{tabular}{r|lll}\n",
       " A & B & C\\\\\n",
       "\\hline\n",
       "\t b  & 1  &  8\\\\\n",
       "\t c  & 6  & 12\\\\\n",
       "\\end{tabular}\n"
      ],
      "text/markdown": [
       "\n",
       "A | B | C | \n",
       "|---|---|\n",
       "| b  | 1  |  8 | \n",
       "| c  | 6  | 12 | \n",
       "\n",
       "\n"
      ],
      "text/plain": [
       "  A B C \n",
       "1 b 1  8\n",
       "2 c 6 12"
      ]
     },
     "metadata": {},
     "output_type": "display_data"
    },
    {
     "data": {
      "text/html": [
       "<table>\n",
       "<thead><tr><th scope=col>A</th><th scope=col>B</th><th scope=col>C</th></tr></thead>\n",
       "<tbody>\n",
       "\t<tr><td>b </td><td>1 </td><td> 8</td></tr>\n",
       "\t<tr><td>b </td><td>8 </td><td>11</td></tr>\n",
       "\t<tr><td>c </td><td>6 </td><td>12</td></tr>\n",
       "\t<tr><td>c </td><td>9 </td><td> 9</td></tr>\n",
       "</tbody>\n",
       "</table>\n"
      ],
      "text/latex": [
       "\\begin{tabular}{r|lll}\n",
       " A & B & C\\\\\n",
       "\\hline\n",
       "\t b  & 1  &  8\\\\\n",
       "\t b  & 8  & 11\\\\\n",
       "\t c  & 6  & 12\\\\\n",
       "\t c  & 9  &  9\\\\\n",
       "\\end{tabular}\n"
      ],
      "text/markdown": [
       "\n",
       "A | B | C | \n",
       "|---|---|---|---|\n",
       "| b  | 1  |  8 | \n",
       "| b  | 8  | 11 | \n",
       "| c  | 6  | 12 | \n",
       "| c  | 9  |  9 | \n",
       "\n",
       "\n"
      ],
      "text/plain": [
       "  A B C \n",
       "1 b 1  8\n",
       "2 b 8 11\n",
       "3 c 6 12\n",
       "4 c 9  9"
      ]
     },
     "metadata": {},
     "output_type": "display_data"
    },
    {
     "name": "stdout",
     "output_type": "stream",
     "text": [
      "   B  C\n",
      "1: 1  8\n",
      "2: 5  6\n",
      "3: 8 11\n",
      "   B  C\n",
      "1: 6 12\n",
      "2: 9  9\n"
     ]
    },
    {
     "data": {
      "text/html": [
       "<table>\n",
       "<thead><tr><th scope=col>A</th><th scope=col>B</th><th scope=col>C</th></tr></thead>\n",
       "<tbody>\n",
       "\t<tr><td>b </td><td>1 </td><td> 8</td></tr>\n",
       "\t<tr><td>b </td><td>8 </td><td>11</td></tr>\n",
       "\t<tr><td>c </td><td>6 </td><td>12</td></tr>\n",
       "\t<tr><td>c </td><td>9 </td><td> 9</td></tr>\n",
       "</tbody>\n",
       "</table>\n"
      ],
      "text/latex": [
       "\\begin{tabular}{r|lll}\n",
       " A & B & C\\\\\n",
       "\\hline\n",
       "\t b  & 1  &  8\\\\\n",
       "\t b  & 8  & 11\\\\\n",
       "\t c  & 6  & 12\\\\\n",
       "\t c  & 9  &  9\\\\\n",
       "\\end{tabular}\n"
      ],
      "text/markdown": [
       "\n",
       "A | B | C | \n",
       "|---|---|---|---|\n",
       "| b  | 1  |  8 | \n",
       "| b  | 8  | 11 | \n",
       "| c  | 6  | 12 | \n",
       "| c  | 9  |  9 | \n",
       "\n",
       "\n"
      ],
      "text/plain": [
       "  A B C \n",
       "1 b 1  8\n",
       "2 b 8 11\n",
       "3 c 6 12\n",
       "4 c 9  9"
      ]
     },
     "metadata": {},
     "output_type": "display_data"
    }
   ],
   "source": [
    "# The 'keyed' data.table DT\n",
    "DT <- data.table(A = letters[c(2, 1, 2, 3, 1, 2, 3)], \n",
    "                 B = c(5, 4, 1, 9, 8, 8, 6), \n",
    "                 C = 6:12)\n",
    "setkey(DT, A, B)\n",
    "\n",
    "# Select the \"b\" group\n",
    "DT[\"b\"]\n",
    "\n",
    "# \"b\" and \"c\" groups\n",
    "DT[c(\"b\", \"c\")]\n",
    "\n",
    "# The first row of the \"b\" and \"c\" groups\n",
    "DT[c(\"b\", \"c\"), mult = \"first\"]\n",
    "\n",
    "# First and last row of the \"b\" and \"c\" groups\n",
    "DT[c(\"b\", \"c\"), .SD[c(1, .N)], by = .EACHI]\n",
    "\n",
    "# Copy and extend code for instruction 4: add printout\n",
    "DT[c(\"b\", \"c\"), { print(.SD); .SD[c(1, .N)] }, by = .EACHI]"
   ]
  },
  {
   "cell_type": "markdown",
   "metadata": {},
   "source": [
    "### HINT\n",
    "Do not forget that you can use standard R functions in i. More specifically, you'll be needing c() everywhere except for the first instruction."
   ]
  },
  {
   "cell_type": "markdown",
   "metadata": {},
   "source": [
    "## Section 10 - Rolling joins - Video"
   ]
  },
  {
   "cell_type": "markdown",
   "metadata": {},
   "source": [
    "### Rolling joins - part one\n",
    "In the last video, you learned about rolling joins. The roll applies to the NA values in the last join column. In the next three exercises, you will learn how to work with rolling joins in a data.table setting.\n",
    "\n",
    "INSTRUCTIONS\n",
    "100 XP\n",
    "The same keyed data.table from before, DT, has been provided in the sample code.\n",
    "\n",
    " - Get the key of DT through the key() function.\n",
    " - Use the super-charged row names to look up the row where A == \"b\" and B == 6, without using ==! Verify here that column C is NA.\n",
    " - Based on the query that was written in the previous instruction, return the prevailing row before this \"gap\". Specify the roll argument.\n",
    " - Again, start with the code from the second instruction, but this time, find the nearest row. Specify the roll argument accordingly."
   ]
  },
  {
   "cell_type": "code",
   "execution_count": 21,
   "metadata": {},
   "outputs": [
    {
     "data": {
      "text/html": [
       "<ol class=list-inline>\n",
       "\t<li>'A'</li>\n",
       "\t<li>'B'</li>\n",
       "</ol>\n"
      ],
      "text/latex": [
       "\\begin{enumerate*}\n",
       "\\item 'A'\n",
       "\\item 'B'\n",
       "\\end{enumerate*}\n"
      ],
      "text/markdown": [
       "1. 'A'\n",
       "2. 'B'\n",
       "\n",
       "\n"
      ],
      "text/plain": [
       "[1] \"A\" \"B\""
      ]
     },
     "metadata": {},
     "output_type": "display_data"
    },
    {
     "data": {
      "text/html": [
       "<table>\n",
       "<thead><tr><th scope=col>A</th><th scope=col>B</th><th scope=col>C</th></tr></thead>\n",
       "<tbody>\n",
       "\t<tr><td>b </td><td>6 </td><td>NA</td></tr>\n",
       "</tbody>\n",
       "</table>\n"
      ],
      "text/latex": [
       "\\begin{tabular}{r|lll}\n",
       " A & B & C\\\\\n",
       "\\hline\n",
       "\t b  & 6  & NA\\\\\n",
       "\\end{tabular}\n"
      ],
      "text/markdown": [
       "\n",
       "A | B | C | \n",
       "|---|\n",
       "| b  | 6  | NA | \n",
       "\n",
       "\n"
      ],
      "text/plain": [
       "  A B C \n",
       "1 b 6 NA"
      ]
     },
     "metadata": {},
     "output_type": "display_data"
    },
    {
     "data": {
      "text/html": [
       "<table>\n",
       "<thead><tr><th scope=col>A</th><th scope=col>B</th><th scope=col>C</th></tr></thead>\n",
       "<tbody>\n",
       "\t<tr><td>b</td><td>6</td><td>6</td></tr>\n",
       "</tbody>\n",
       "</table>\n"
      ],
      "text/latex": [
       "\\begin{tabular}{r|lll}\n",
       " A & B & C\\\\\n",
       "\\hline\n",
       "\t b & 6 & 6\\\\\n",
       "\\end{tabular}\n"
      ],
      "text/markdown": [
       "\n",
       "A | B | C | \n",
       "|---|\n",
       "| b | 6 | 6 | \n",
       "\n",
       "\n"
      ],
      "text/plain": [
       "  A B C\n",
       "1 b 6 6"
      ]
     },
     "metadata": {},
     "output_type": "display_data"
    },
    {
     "data": {
      "text/html": [
       "<table>\n",
       "<thead><tr><th scope=col>V1</th><th scope=col>V2</th></tr></thead>\n",
       "<tbody>\n",
       "\t<tr><td>b</td><td>6</td></tr>\n",
       "</tbody>\n",
       "</table>\n"
      ],
      "text/latex": [
       "\\begin{tabular}{r|ll}\n",
       " V1 & V2\\\\\n",
       "\\hline\n",
       "\t b & 6\\\\\n",
       "\\end{tabular}\n"
      ],
      "text/markdown": [
       "\n",
       "V1 | V2 | \n",
       "|---|\n",
       "| b | 6 | \n",
       "\n",
       "\n"
      ],
      "text/plain": [
       "  V1 V2\n",
       "1 b  6 "
      ]
     },
     "metadata": {},
     "output_type": "display_data"
    }
   ],
   "source": [
    "# Keyed data.table DT\n",
    "DT <- data.table(A = letters[c(2, 1, 2, 3, 1, 2, 3)], \n",
    "                 B = c(5, 4, 1, 9, 8, 8, 6), \n",
    "                 C = 6:12, \n",
    "                 key = \"A,B\")\n",
    "\n",
    "# Get the key of DT\n",
    "key(DT)\n",
    "\n",
    "# Row where A == \"b\" and B == 6\n",
    "DT[.(\"b\",6)]\n",
    "\n",
    "# Return the prevailing row\n",
    "DT[.(\"b\",6), roll=TRUE]\n",
    "\n",
    "# Return the nearest row\n",
    "DT[,.(\"b\",6), roll=\"nearest\"]"
   ]
  },
  {
   "cell_type": "markdown",
   "metadata": {},
   "source": [
    "### Rolling joins - part two\n",
    "It is time to move on to the rollends argument. The rollends argument is actually a vector of two logical values, but remember that you can always look this up via ?data.table. You were introduced to this argument via the control ends section. If you want to roll for a certain distance, you should continue to use the roll argument.\n",
    "\n",
    "INSTRUCTIONS\n",
    "100 XP\n",
    "\n",
    " - For the group where column A is equal to \"b\", print out the sequence when column B is set equal to (-2):10. Remember, A and B are the keys for this data.table.\n",
    " - Extend the code you wrote for the first instruction to roll the prevailing values forward to replace the NAs.\n",
    " - Extend your code with the appropriate rollends value to roll the first observation backwards.\n"
   ]
  },
  {
   "cell_type": "code",
   "execution_count": 22,
   "metadata": {},
   "outputs": [
    {
     "data": {
      "text/html": [
       "<ol class=list-inline>\n",
       "\t<li>'A'</li>\n",
       "\t<li>'B'</li>\n",
       "</ol>\n"
      ],
      "text/latex": [
       "\\begin{enumerate*}\n",
       "\\item 'A'\n",
       "\\item 'B'\n",
       "\\end{enumerate*}\n"
      ],
      "text/markdown": [
       "1. 'A'\n",
       "2. 'B'\n",
       "\n",
       "\n"
      ],
      "text/plain": [
       "[1] \"A\" \"B\""
      ]
     },
     "metadata": {},
     "output_type": "display_data"
    },
    {
     "data": {
      "text/html": [
       "<table>\n",
       "<thead><tr><th scope=col>A</th><th scope=col>B</th><th scope=col>C</th></tr></thead>\n",
       "<tbody>\n",
       "\t<tr><td>b </td><td>6 </td><td>NA</td></tr>\n",
       "</tbody>\n",
       "</table>\n"
      ],
      "text/latex": [
       "\\begin{tabular}{r|lll}\n",
       " A & B & C\\\\\n",
       "\\hline\n",
       "\t b  & 6  & NA\\\\\n",
       "\\end{tabular}\n"
      ],
      "text/markdown": [
       "\n",
       "A | B | C | \n",
       "|---|\n",
       "| b  | 6  | NA | \n",
       "\n",
       "\n"
      ],
      "text/plain": [
       "  A B C \n",
       "1 b 6 NA"
      ]
     },
     "metadata": {},
     "output_type": "display_data"
    },
    {
     "data": {
      "text/html": [
       "<table>\n",
       "<thead><tr><th scope=col>A</th><th scope=col>B</th><th scope=col>C</th></tr></thead>\n",
       "<tbody>\n",
       "\t<tr><td>b</td><td>6</td><td>6</td></tr>\n",
       "</tbody>\n",
       "</table>\n"
      ],
      "text/latex": [
       "\\begin{tabular}{r|lll}\n",
       " A & B & C\\\\\n",
       "\\hline\n",
       "\t b & 6 & 6\\\\\n",
       "\\end{tabular}\n"
      ],
      "text/markdown": [
       "\n",
       "A | B | C | \n",
       "|---|\n",
       "| b | 6 | 6 | \n",
       "\n",
       "\n"
      ],
      "text/plain": [
       "  A B C\n",
       "1 b 6 6"
      ]
     },
     "metadata": {},
     "output_type": "display_data"
    },
    {
     "data": {
      "text/html": [
       "<table>\n",
       "<thead><tr><th scope=col>V1</th><th scope=col>V2</th></tr></thead>\n",
       "<tbody>\n",
       "\t<tr><td>b</td><td>6</td></tr>\n",
       "</tbody>\n",
       "</table>\n"
      ],
      "text/latex": [
       "\\begin{tabular}{r|ll}\n",
       " V1 & V2\\\\\n",
       "\\hline\n",
       "\t b & 6\\\\\n",
       "\\end{tabular}\n"
      ],
      "text/markdown": [
       "\n",
       "V1 | V2 | \n",
       "|---|\n",
       "| b | 6 | \n",
       "\n",
       "\n"
      ],
      "text/plain": [
       "  V1 V2\n",
       "1 b  6 "
      ]
     },
     "metadata": {},
     "output_type": "display_data"
    }
   ],
   "source": [
    "# Keyed data.table DT\n",
    "DT <- data.table(A = letters[c(2, 1, 2, 3, 1, 2, 3)], \n",
    "                 B = c(5, 4, 1, 9, 8, 8, 6), \n",
    "                 C = 6:12, \n",
    "                 key = \"A,B\")\n",
    "\n",
    "# Get the key of DT\n",
    "key(DT)\n",
    "\n",
    "# Row where A == \"b\" and B == 6\n",
    "DT[.(\"b\",6)]\n",
    "\n",
    "# Return the prevailing row\n",
    "DT[.(\"b\",6), roll=TRUE]\n",
    "\n",
    "# Return the nearest row\n",
    "DT[,.(\"b\",6), roll=\"nearest\"]"
   ]
  },
  {
   "cell_type": "markdown",
   "metadata": {},
   "source": [
    "### Rolling joins - part two\n",
    "It is time to move on to the rollends argument. The rollends argument is actually a vector of two logical values, but remember that you can always look this up via ?data.table. You were introduced to this argument via the control ends section. If you want to roll for a certain distance, you should continue to use the roll argument.\n",
    "\n",
    "INSTRUCTIONS\n",
    "100 XP\n",
    "\n",
    " - For the group where column A is equal to \"b\", print out the sequence when column B is set equal to (-2):10. Remember, A and B are the keys for this data.table.\n",
    " - Extend the code you wrote for the first instruction to roll the prevailing values forward to replace the NAs.\n",
    " - Extend your code with the appropriate rollends value to roll the first observation backwards.\n"
   ]
  },
  {
   "cell_type": "code",
   "execution_count": 23,
   "metadata": {},
   "outputs": [
    {
     "data": {
      "text/html": [
       "<table>\n",
       "<thead><tr><th scope=col>A</th><th scope=col>B</th><th scope=col>C</th></tr></thead>\n",
       "<tbody>\n",
       "\t<tr><td>b </td><td>-2</td><td>NA</td></tr>\n",
       "\t<tr><td>b </td><td>-1</td><td>NA</td></tr>\n",
       "\t<tr><td>b </td><td> 0</td><td>NA</td></tr>\n",
       "\t<tr><td>b </td><td> 1</td><td> 8</td></tr>\n",
       "\t<tr><td>b </td><td> 2</td><td>NA</td></tr>\n",
       "\t<tr><td>b </td><td> 3</td><td>NA</td></tr>\n",
       "\t<tr><td>b </td><td> 4</td><td>NA</td></tr>\n",
       "\t<tr><td>b </td><td> 5</td><td> 6</td></tr>\n",
       "\t<tr><td>b </td><td> 6</td><td>NA</td></tr>\n",
       "\t<tr><td>b </td><td> 7</td><td>NA</td></tr>\n",
       "\t<tr><td>b </td><td> 8</td><td>11</td></tr>\n",
       "\t<tr><td>b </td><td> 9</td><td>NA</td></tr>\n",
       "\t<tr><td>b </td><td>10</td><td>NA</td></tr>\n",
       "</tbody>\n",
       "</table>\n"
      ],
      "text/latex": [
       "\\begin{tabular}{r|lll}\n",
       " A & B & C\\\\\n",
       "\\hline\n",
       "\t b  & -2 & NA\\\\\n",
       "\t b  & -1 & NA\\\\\n",
       "\t b  &  0 & NA\\\\\n",
       "\t b  &  1 &  8\\\\\n",
       "\t b  &  2 & NA\\\\\n",
       "\t b  &  3 & NA\\\\\n",
       "\t b  &  4 & NA\\\\\n",
       "\t b  &  5 &  6\\\\\n",
       "\t b  &  6 & NA\\\\\n",
       "\t b  &  7 & NA\\\\\n",
       "\t b  &  8 & 11\\\\\n",
       "\t b  &  9 & NA\\\\\n",
       "\t b  & 10 & NA\\\\\n",
       "\\end{tabular}\n"
      ],
      "text/markdown": [
       "\n",
       "A | B | C | \n",
       "|---|---|---|---|---|---|---|---|---|---|---|---|---|\n",
       "| b  | -2 | NA | \n",
       "| b  | -1 | NA | \n",
       "| b  |  0 | NA | \n",
       "| b  |  1 |  8 | \n",
       "| b  |  2 | NA | \n",
       "| b  |  3 | NA | \n",
       "| b  |  4 | NA | \n",
       "| b  |  5 |  6 | \n",
       "| b  |  6 | NA | \n",
       "| b  |  7 | NA | \n",
       "| b  |  8 | 11 | \n",
       "| b  |  9 | NA | \n",
       "| b  | 10 | NA | \n",
       "\n",
       "\n"
      ],
      "text/plain": [
       "   A B  C \n",
       "1  b -2 NA\n",
       "2  b -1 NA\n",
       "3  b  0 NA\n",
       "4  b  1  8\n",
       "5  b  2 NA\n",
       "6  b  3 NA\n",
       "7  b  4 NA\n",
       "8  b  5  6\n",
       "9  b  6 NA\n",
       "10 b  7 NA\n",
       "11 b  8 11\n",
       "12 b  9 NA\n",
       "13 b 10 NA"
      ]
     },
     "metadata": {},
     "output_type": "display_data"
    },
    {
     "data": {
      "text/html": [
       "<table>\n",
       "<thead><tr><th scope=col>A</th><th scope=col>B</th><th scope=col>C</th></tr></thead>\n",
       "<tbody>\n",
       "\t<tr><td>b </td><td>-2</td><td>NA</td></tr>\n",
       "\t<tr><td>b </td><td>-1</td><td>NA</td></tr>\n",
       "\t<tr><td>b </td><td> 0</td><td>NA</td></tr>\n",
       "\t<tr><td>b </td><td> 1</td><td> 8</td></tr>\n",
       "\t<tr><td>b </td><td> 2</td><td> 8</td></tr>\n",
       "\t<tr><td>b </td><td> 3</td><td> 8</td></tr>\n",
       "\t<tr><td>b </td><td> 4</td><td> 8</td></tr>\n",
       "\t<tr><td>b </td><td> 5</td><td> 6</td></tr>\n",
       "\t<tr><td>b </td><td> 6</td><td> 6</td></tr>\n",
       "\t<tr><td>b </td><td> 7</td><td> 6</td></tr>\n",
       "\t<tr><td>b </td><td> 8</td><td>11</td></tr>\n",
       "\t<tr><td>b </td><td> 9</td><td>11</td></tr>\n",
       "\t<tr><td>b </td><td>10</td><td>11</td></tr>\n",
       "</tbody>\n",
       "</table>\n"
      ],
      "text/latex": [
       "\\begin{tabular}{r|lll}\n",
       " A & B & C\\\\\n",
       "\\hline\n",
       "\t b  & -2 & NA\\\\\n",
       "\t b  & -1 & NA\\\\\n",
       "\t b  &  0 & NA\\\\\n",
       "\t b  &  1 &  8\\\\\n",
       "\t b  &  2 &  8\\\\\n",
       "\t b  &  3 &  8\\\\\n",
       "\t b  &  4 &  8\\\\\n",
       "\t b  &  5 &  6\\\\\n",
       "\t b  &  6 &  6\\\\\n",
       "\t b  &  7 &  6\\\\\n",
       "\t b  &  8 & 11\\\\\n",
       "\t b  &  9 & 11\\\\\n",
       "\t b  & 10 & 11\\\\\n",
       "\\end{tabular}\n"
      ],
      "text/markdown": [
       "\n",
       "A | B | C | \n",
       "|---|---|---|---|---|---|---|---|---|---|---|---|---|\n",
       "| b  | -2 | NA | \n",
       "| b  | -1 | NA | \n",
       "| b  |  0 | NA | \n",
       "| b  |  1 |  8 | \n",
       "| b  |  2 |  8 | \n",
       "| b  |  3 |  8 | \n",
       "| b  |  4 |  8 | \n",
       "| b  |  5 |  6 | \n",
       "| b  |  6 |  6 | \n",
       "| b  |  7 |  6 | \n",
       "| b  |  8 | 11 | \n",
       "| b  |  9 | 11 | \n",
       "| b  | 10 | 11 | \n",
       "\n",
       "\n"
      ],
      "text/plain": [
       "   A B  C \n",
       "1  b -2 NA\n",
       "2  b -1 NA\n",
       "3  b  0 NA\n",
       "4  b  1  8\n",
       "5  b  2  8\n",
       "6  b  3  8\n",
       "7  b  4  8\n",
       "8  b  5  6\n",
       "9  b  6  6\n",
       "10 b  7  6\n",
       "11 b  8 11\n",
       "12 b  9 11\n",
       "13 b 10 11"
      ]
     },
     "metadata": {},
     "output_type": "display_data"
    },
    {
     "data": {
      "text/html": [
       "<table>\n",
       "<thead><tr><th scope=col>A</th><th scope=col>B</th><th scope=col>C</th></tr></thead>\n",
       "<tbody>\n",
       "\t<tr><td>b </td><td>-2</td><td> 8</td></tr>\n",
       "\t<tr><td>b </td><td>-1</td><td> 8</td></tr>\n",
       "\t<tr><td>b </td><td> 0</td><td> 8</td></tr>\n",
       "\t<tr><td>b </td><td> 1</td><td> 8</td></tr>\n",
       "\t<tr><td>b </td><td> 2</td><td> 8</td></tr>\n",
       "\t<tr><td>b </td><td> 3</td><td> 8</td></tr>\n",
       "\t<tr><td>b </td><td> 4</td><td> 8</td></tr>\n",
       "\t<tr><td>b </td><td> 5</td><td> 6</td></tr>\n",
       "\t<tr><td>b </td><td> 6</td><td> 6</td></tr>\n",
       "\t<tr><td>b </td><td> 7</td><td> 6</td></tr>\n",
       "\t<tr><td>b </td><td> 8</td><td>11</td></tr>\n",
       "\t<tr><td>b </td><td> 9</td><td>11</td></tr>\n",
       "\t<tr><td>b </td><td>10</td><td>11</td></tr>\n",
       "</tbody>\n",
       "</table>\n"
      ],
      "text/latex": [
       "\\begin{tabular}{r|lll}\n",
       " A & B & C\\\\\n",
       "\\hline\n",
       "\t b  & -2 &  8\\\\\n",
       "\t b  & -1 &  8\\\\\n",
       "\t b  &  0 &  8\\\\\n",
       "\t b  &  1 &  8\\\\\n",
       "\t b  &  2 &  8\\\\\n",
       "\t b  &  3 &  8\\\\\n",
       "\t b  &  4 &  8\\\\\n",
       "\t b  &  5 &  6\\\\\n",
       "\t b  &  6 &  6\\\\\n",
       "\t b  &  7 &  6\\\\\n",
       "\t b  &  8 & 11\\\\\n",
       "\t b  &  9 & 11\\\\\n",
       "\t b  & 10 & 11\\\\\n",
       "\\end{tabular}\n"
      ],
      "text/markdown": [
       "\n",
       "A | B | C | \n",
       "|---|---|---|---|---|---|---|---|---|---|---|---|---|\n",
       "| b  | -2 |  8 | \n",
       "| b  | -1 |  8 | \n",
       "| b  |  0 |  8 | \n",
       "| b  |  1 |  8 | \n",
       "| b  |  2 |  8 | \n",
       "| b  |  3 |  8 | \n",
       "| b  |  4 |  8 | \n",
       "| b  |  5 |  6 | \n",
       "| b  |  6 |  6 | \n",
       "| b  |  7 |  6 | \n",
       "| b  |  8 | 11 | \n",
       "| b  |  9 | 11 | \n",
       "| b  | 10 | 11 | \n",
       "\n",
       "\n"
      ],
      "text/plain": [
       "   A B  C \n",
       "1  b -2  8\n",
       "2  b -1  8\n",
       "3  b  0  8\n",
       "4  b  1  8\n",
       "5  b  2  8\n",
       "6  b  3  8\n",
       "7  b  4  8\n",
       "8  b  5  6\n",
       "9  b  6  6\n",
       "10 b  7  6\n",
       "11 b  8 11\n",
       "12 b  9 11\n",
       "13 b 10 11"
      ]
     },
     "metadata": {},
     "output_type": "display_data"
    }
   ],
   "source": [
    "# Keyed data.table DT\n",
    "DT <- data.table(A = letters[c(2, 1, 2, 3, 1, 2, 3)], \n",
    "                 B = c(5, 4, 1, 9, 8, 8, 6), \n",
    "                 C = 6:12, \n",
    "                 key = \"A,B\")\n",
    "\n",
    "# Print the sequence (-2):10 for the \"b\" group\n",
    "DT[.(\"b\", (-2):10)]\n",
    "\n",
    "# Add code: carry the prevailing values forwards\n",
    "DT[.(\"b\", (-2):10), roll = +Inf]\n",
    "\n",
    "# Add code: carry the first observation backwards\n",
    "DT[.(\"b\", (-2):10), roll = +Inf, rollends=TRUE]\n"
   ]
  },
  {
   "cell_type": "markdown",
   "metadata": {},
   "source": [
    "### Rolling joins - final part\n",
    "\n",
    "DT is loaded in your workspace. If you look up the value B == 20 in group A == \"b\" without limiting the roll, the value of column C is...\n",
    "\n",
    "INSTRUCTIONS\n",
    "50 XP\n",
    "\n",
    "Possible Answers\n",
    "Click or Press Ctrl+1 to focus\n",
    " - NA\n",
    " - 11 (Correct)\n",
    " - 8\n",
    " - 6"
   ]
  },
  {
   "cell_type": "code",
   "execution_count": 24,
   "metadata": {},
   "outputs": [],
   "source": [
    "DT = data.table(A = c(\"a\", \"a\", \"b\", \"b\", \"b\", \"c\", \"c\"), B = c(4, \n",
    "8, 1, 5, 8, 6, 9), C = c(7L, 10L, 8L, 6L, 11L, 12L, 9L))"
   ]
  },
  {
   "cell_type": "code",
   "execution_count": 25,
   "metadata": {},
   "outputs": [
    {
     "data": {
      "text/html": [
       "<table>\n",
       "<thead><tr><th scope=col>A</th><th scope=col>B</th><th scope=col>C</th></tr></thead>\n",
       "<tbody>\n",
       "\t<tr><td>a </td><td>4 </td><td> 7</td></tr>\n",
       "\t<tr><td>a </td><td>8 </td><td>10</td></tr>\n",
       "\t<tr><td>b </td><td>1 </td><td> 8</td></tr>\n",
       "\t<tr><td>b </td><td>5 </td><td> 6</td></tr>\n",
       "\t<tr><td>b </td><td>8 </td><td>11</td></tr>\n",
       "\t<tr><td>c </td><td>6 </td><td>12</td></tr>\n",
       "\t<tr><td>c </td><td>9 </td><td> 9</td></tr>\n",
       "</tbody>\n",
       "</table>\n"
      ],
      "text/latex": [
       "\\begin{tabular}{r|lll}\n",
       " A & B & C\\\\\n",
       "\\hline\n",
       "\t a  & 4  &  7\\\\\n",
       "\t a  & 8  & 10\\\\\n",
       "\t b  & 1  &  8\\\\\n",
       "\t b  & 5  &  6\\\\\n",
       "\t b  & 8  & 11\\\\\n",
       "\t c  & 6  & 12\\\\\n",
       "\t c  & 9  &  9\\\\\n",
       "\\end{tabular}\n"
      ],
      "text/markdown": [
       "\n",
       "A | B | C | \n",
       "|---|---|---|---|---|---|---|\n",
       "| a  | 4  |  7 | \n",
       "| a  | 8  | 10 | \n",
       "| b  | 1  |  8 | \n",
       "| b  | 5  |  6 | \n",
       "| b  | 8  | 11 | \n",
       "| c  | 6  | 12 | \n",
       "| c  | 9  |  9 | \n",
       "\n",
       "\n"
      ],
      "text/plain": [
       "  A B C \n",
       "1 a 4  7\n",
       "2 a 8 10\n",
       "3 b 1  8\n",
       "4 b 5  6\n",
       "5 b 8 11\n",
       "6 c 6 12\n",
       "7 c 9  9"
      ]
     },
     "metadata": {},
     "output_type": "display_data"
    }
   ],
   "source": [
    "DT"
   ]
  },
  {
   "cell_type": "markdown",
   "metadata": {},
   "source": [
    "## Thank You"
   ]
  },
  {
   "cell_type": "code",
   "execution_count": null,
   "metadata": {},
   "outputs": [],
   "source": []
  }
 ],
 "metadata": {
  "kernelspec": {
   "display_name": "R",
   "language": "R",
   "name": "ir"
  },
  "language_info": {
   "codemirror_mode": "r",
   "file_extension": ".r",
   "mimetype": "text/x-r-source",
   "name": "R",
   "pygments_lexer": "r",
   "version": "3.4.3"
  }
 },
 "nbformat": 4,
 "nbformat_minor": 2
}
