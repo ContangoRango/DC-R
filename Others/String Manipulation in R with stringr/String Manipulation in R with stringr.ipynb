{
 "cells": [
  {
   "cell_type": "markdown",
   "metadata": {},
   "source": [
    "1. String basics\n",
    "2. Introduction to stringr\n",
    "3. Pattern matching with regular expressions\n",
    "4. More advanced matching and manipulation\n",
    "5. Case studies"
   ]
  },
  {
   "cell_type": "markdown",
   "metadata": {},
   "source": [
    "# 1. String basics"
   ]
  },
  {
   "cell_type": "markdown",
   "metadata": {},
   "source": [
    "## Welcome - Video"
   ]
  },
  {
   "cell_type": "markdown",
   "metadata": {},
   "source": [
    "Quotes\n",
    "\n",
    "Let's get started by entering some strings in R. In the video you saw that you use quotes to tell R to interpret something as a string. Both double quotes (\") and single (') quotes work, but there are some guidelines for which to use.\n",
    "\n",
    "First, you should prefer double quotes (\") to single quotes ('). That means, whenever you are defining a string your first intuition should be to use \".\n",
    "\n",
    "Unfortunately if your string has \" inside it, R will interpret the double quote as \"this is the end of the string\", not as \"this is the character \"\". This is one time you can forget the first guideline and use the single quote, ', to define the string.\n",
    "\n",
    "Finally, there are cases where you need both ' and \" inside the string. In this case, fall back to the first guideline and use \" to define the string, but you'll have to escape any double quotes inside the string using a backslash (i.e. \\\").\n",
    "\n",
    "To practice, you are going to enter a few lines from Lewis Carroll's Alice's Adventures in Wonderland. Alice has just arrived at the tea party...\n",
    "\n",
    "Instructions\n",
    "Following the guidelines for using quotes, define the three strings, line1, line2 and line3:\n",
    "\n",
    " - Line 1: The table was a large one, but the three were all crowded together at one corner of it:\n",
    " - Line 2: \"No room! No room!\" they cried out when they saw Alice coming.\n",
    " - Line 3:\"There's plenty of room!\" said Alice indignantly, and she sat down in a large arm-chair at one end of the table."
   ]
  },
  {
   "cell_type": "code",
   "execution_count": 1,
   "metadata": {
    "collapsed": true
   },
   "outputs": [],
   "source": [
    "# Define line1\n",
    "line1 <- \"The table was a large one, but the three were all crowded together at one corner of it:\"\n",
    "\n",
    "# Define line2\n",
    "line2 <- '\"No room! No room!\" they cried out when they saw Alice coming.'\n",
    "\n",
    "# Define line3\n",
    "line3 <- \"\\\"There's plenty of room!\\\" said Alice indignantly, and she sat down in a large arm-chair at one end of the table.\"\n"
   ]
  },
  {
   "cell_type": "markdown",
   "metadata": {},
   "source": [
    "### What you see isn't always what you have\n",
    "\n",
    "Take a look at line2, the string you just defined, by printing it:\n",
    "\n",
    "line2\n",
    "Even though you used single quotes so you didn't have to escape any double quotes, when R prints it, you'll see escaped double quotes (\\\")! R doesn't care how you defined the string, it only knows what the string represents, in this case, a string with double quotes inside.\n",
    "\n",
    "When you ask R for line2 it is actually calling print(line2) and the print() method for strings displays strings as you might enter them. If you want to see the string it represents you'll need to use a different function: writeLines().\n",
    "\n",
    "You can pass writeLines() a vector of strings and it will print them to the screen, each on a new line. This is a great way to check the string you entered really does represent the string you wanted.\n",
    "\n",
    "Instructions\n",
    "We've put your lines from Alice's Adventures in Wonderland in a vector called lines.\n",
    "\n",
    " - Take a look at lines to see R's representation of the strings.\n",
    " - Pass lines to writeLines() to see the content of strings you've created.\n",
    " - By default writeLines() separates the strings with a newline, which you can change using the sep argument. Write lines to the screen again, but this time set the sep argument to a space, \" \".\n",
    " - Finally, try using writeLines() on the string \"hello\\n\\U1F30D\". You'll learn about what's going on here in the next exercise."
   ]
  },
  {
   "cell_type": "code",
   "execution_count": 2,
   "metadata": {
    "collapsed": false
   },
   "outputs": [
    {
     "name": "stdout",
     "output_type": "stream",
     "text": [
      "[1] \"The table was a large one, but the three were all crowded together at one corner of it:\"                           \n",
      "[2] \"\\\"No room! No room!\\\" they cried out when they saw Alice coming.\"                                                  \n",
      "[3] \"\\\"There's plenty of room!\\\" said Alice indignantly, and she sat down in a large arm-chair at one end of the table.\"\n",
      "The table was a large one, but the three were all crowded together at one corner of it:\n",
      "\"No room! No room!\" they cried out when they saw Alice coming.\n",
      "\"There's plenty of room!\" said Alice indignantly, and she sat down in a large arm-chair at one end of the table.\n",
      "The table was a large one, but the three were all crowded together at one corner of it: \"No room! No room!\" they cried out when they saw Alice coming. \"There's plenty of room!\" said Alice indignantly, and she sat down in a large arm-chair at one end of the table. hello\n",
      "<U+F30D>\n"
     ]
    }
   ],
   "source": [
    "# Putting lines in a vector\n",
    "lines <- c(line1, line2, line3)\n",
    "\n",
    "# Print lines\n",
    "print(lines)\n",
    "\n",
    "# Use writeLines() on lines\n",
    "writeLines(lines)\n",
    "\n",
    "# Write lines with a space separator\n",
    "writeLines(lines, sep=\" \")\n",
    "\n",
    "# Use writeLines() on the string \"hello\\n\\U1F30D\"\n",
    "writeLines(\"hello\\n\\U1F30D\")\n"
   ]
  },
  {
   "cell_type": "markdown",
   "metadata": {},
   "source": [
    "### Escape sequences\n",
    "\n",
    "You might have been surprised at the output from the last part of the last exercise. How did you get two lines from one string, and how did you get that little globe? The key is the \\.\n",
    "\n",
    "A sequence in a string that starts with a \\ is called an escape sequence and allows us to include special characters in our strings. You saw one escape sequence in the first exercise: \\\" is used to denote a double quote.\n",
    "\n",
    "In \"hello\\n\\U1F30D\" there are two escape sequences: \\n gives a newline, and \\U followed by up to 8 hex digits sequence denotes a particular Unicode character.\n",
    "\n",
    "Unicode is a standard for representing characters that might not be on your keyboard. Each available character has a Unicode code point: a number that uniquely identifies it. These code points are generally written in hex notation, that is, using base 16 and the digits 0-9 and A-F. You can find the code point for a particular character by looking up a code chart. If you only need four digits for the codepoint, an alternative escape sequence is \\u.\n",
    "\n",
    "When R comes across a \\ it assumes you are starting an escape, so if you actually need a backslash in your string you'll need the sequence \\\\.\n",
    "\n",
    "Instructions\n",
    "Edit the string inside writeLines() so that it correctly displays (all on one line):\n",
    "\n",
    "To have a \\ you need \\\\\n",
    "Edit the string inside writeLines() so that it correctly displays (with the line breaks in these positions)\n",
    "\n",
    " - This is a really \n",
    " - really really \n",
    " - long string\n",
    " - Try writeLines() with the string containing unicode characters: \"\\u0928\\u092e\\u0938\\u094d\\u0924\\u0947 \\u0926\\u0941\\u0928\\u093f\\u092f\\u093e\". You just said \"Hello World\" in Hindi!"
   ]
  },
  {
   "cell_type": "code",
   "execution_count": 3,
   "metadata": {
    "collapsed": false
   },
   "outputs": [
    {
     "name": "stdout",
     "output_type": "stream",
     "text": [
      "To have a \\ you need \\\\\n",
      "This is a really \n",
      "really really \n",
      "long string\n",
      "<U+0928><U+092E><U+0938><U+094D><U+0924><U+0947> <U+0926><U+0941><U+0928><U+093F><U+092F><U+093E>\n"
     ]
    }
   ],
   "source": [
    "# Should display: To have a \\ you need \\\\\n",
    "writeLines(\"To have a \\\\ you need \\\\\\\\\")\n",
    "\n",
    "# Should display: \n",
    "# This is a really \n",
    "# really really \n",
    "# long string\n",
    "writeLines(\"This is a really \\nreally really \\nlong string\")\n",
    "\n",
    "# Use writeLines() with \n",
    "# \"\\u0928\\u092e\\u0938\\u094d\\u0924\\u0947 \\u0926\\u0941\\u0928\\u093f\\u092f\\u093e\"\n",
    "writeLines(\"\\u0928\\u092e\\u0938\\u094d\\u0924\\u0947 \\u0926\\u0941\\u0928\\u093f\\u092f\\u093e\")"
   ]
  },
  {
   "cell_type": "code",
   "execution_count": null,
   "metadata": {
    "collapsed": true
   },
   "outputs": [],
   "source": [
    "> # Use writeLines() with\n",
    "> # \"\\u0928\\u092e\\u0938\\u094d\\u0924\\u0947 \\u0926\\u0941\\u0928\\u093f\\u092f\\u093e\"\n",
    "> writeLines(\"\\u0928\\u092e\\u0938\\u094d\\u0924\\u0947 \\u0926\\u0941\\u0928\\u093f\\u092f\\u093e\")\n",
    "नमस्ते दुनि"
   ]
  },
  {
   "cell_type": "markdown",
   "metadata": {},
   "source": [
    "## Turning numbers into strings - Video"
   ]
  },
  {
   "cell_type": "markdown",
   "metadata": {},
   "source": [
    "### Using format() with numbers\n",
    "\n",
    "The behavior of format() can be pretty confusing, so you'll spend most of this exercise exploring how it works.\n",
    "\n",
    "Recall from the video, the scientific argument to format() controls whether the numbers are displayed in fixed (scientific = FALSE) or scientific (scientific = TRUE) format.\n",
    "\n",
    "When the representation is scientific, the digits argument is the number of digits before the exponent. When the representation is fixed, digits controls the significant digits used for the smallest (in magnitude) number. Each other number will be formatted to match the number of decimal places in the smallest number. This means the number of decimal places you get in your output depends on all the values you are formatting!\n",
    "\n",
    "For example, if the smallest number is 0.0011, and digits = 1, then 0.0011 requires 3 places after the decimal to represent it to 1 significant digit, 0.001. Every other number will be formatted to 3 places after the decimal point.\n",
    "\n",
    "So, how many decimal places will you get if 1.0011 is the smallest number? You'll find out in this exercise.\n",
    "\n",
    "Instructions\n",
    " - Format c(0.0011, 0.011, 1) with digits = 1. This is like the example described above.\n",
    " - Now, format c(1.0011, 2.011, 1) with digits = 1. Try to predict what you might get before you try it.\n",
    " - Format percent_change by choosing the digits argument so that the values are presented with one place after the decimal point.\n",
    " - Format income by choosing the digits argument so that the values are presented as whole numbers (i.e. no places after the decimal point).\n",
    " - Format p_values using a fixed representation."
   ]
  },
  {
   "cell_type": "code",
   "execution_count": 4,
   "metadata": {
    "collapsed": false
   },
   "outputs": [
    {
     "data": {
      "text/html": [
       "<ol class=list-inline>\n",
       "\t<li>'0.001'</li>\n",
       "\t<li>'0.011'</li>\n",
       "\t<li>'1.000'</li>\n",
       "</ol>\n"
      ],
      "text/latex": [
       "\\begin{enumerate*}\n",
       "\\item '0.001'\n",
       "\\item '0.011'\n",
       "\\item '1.000'\n",
       "\\end{enumerate*}\n"
      ],
      "text/markdown": [
       "1. '0.001'\n",
       "2. '0.011'\n",
       "3. '1.000'\n",
       "\n",
       "\n"
      ],
      "text/plain": [
       "[1] \"0.001\" \"0.011\" \"1.000\""
      ]
     },
     "metadata": {},
     "output_type": "display_data"
    },
    {
     "data": {
      "text/html": [
       "<ol class=list-inline>\n",
       "\t<li>'1'</li>\n",
       "\t<li>'2'</li>\n",
       "\t<li>'1'</li>\n",
       "</ol>\n"
      ],
      "text/latex": [
       "\\begin{enumerate*}\n",
       "\\item '1'\n",
       "\\item '2'\n",
       "\\item '1'\n",
       "\\end{enumerate*}\n"
      ],
      "text/markdown": [
       "1. '1'\n",
       "2. '2'\n",
       "3. '1'\n",
       "\n",
       "\n"
      ],
      "text/plain": [
       "[1] \"1\" \"2\" \"1\""
      ]
     },
     "metadata": {},
     "output_type": "display_data"
    },
    {
     "data": {
      "text/html": [
       "<ol class=list-inline>\n",
       "\t<li>' 4.0'</li>\n",
       "\t<li>'-1.9'</li>\n",
       "\t<li>' 3.0'</li>\n",
       "\t<li>'-5.0'</li>\n",
       "</ol>\n"
      ],
      "text/latex": [
       "\\begin{enumerate*}\n",
       "\\item ' 4.0'\n",
       "\\item '-1.9'\n",
       "\\item ' 3.0'\n",
       "\\item '-5.0'\n",
       "\\end{enumerate*}\n"
      ],
      "text/markdown": [
       "1. ' 4.0'\n",
       "2. '-1.9'\n",
       "3. ' 3.0'\n",
       "4. '-5.0'\n",
       "\n",
       "\n"
      ],
      "text/plain": [
       "[1] \" 4.0\" \"-1.9\" \" 3.0\" \"-5.0\""
      ]
     },
     "metadata": {},
     "output_type": "display_data"
    },
    {
     "data": {
      "text/html": [
       "<ol class=list-inline>\n",
       "\t<li><span style=white-space:pre-wrap>'     72'</span></li>\n",
       "\t<li><span style=white-space:pre-wrap>'   1030'</span></li>\n",
       "\t<li><span style=white-space:pre-wrap>'  10292'</span></li>\n",
       "\t<li>'1189192'</li>\n",
       "</ol>\n"
      ],
      "text/latex": [
       "\\begin{enumerate*}\n",
       "\\item '     72'\n",
       "\\item '   1030'\n",
       "\\item '  10292'\n",
       "\\item '1189192'\n",
       "\\end{enumerate*}\n"
      ],
      "text/markdown": [
       "1. <span style=white-space:pre-wrap>'     72'</span>\n",
       "2. <span style=white-space:pre-wrap>'   1030'</span>\n",
       "3. <span style=white-space:pre-wrap>'  10292'</span>\n",
       "4. '1189192'\n",
       "\n",
       "\n"
      ],
      "text/plain": [
       "[1] \"     72\" \"   1030\" \"  10292\" \"1189192\""
      ]
     },
     "metadata": {},
     "output_type": "display_data"
    },
    {
     "data": {
      "text/html": [
       "<ol class=list-inline>\n",
       "\t<li>'0.12000000000'</li>\n",
       "\t<li>'0.98000000000'</li>\n",
       "\t<li>'0.00001910000'</li>\n",
       "\t<li>'0.00000000002'</li>\n",
       "</ol>\n"
      ],
      "text/latex": [
       "\\begin{enumerate*}\n",
       "\\item '0.12000000000'\n",
       "\\item '0.98000000000'\n",
       "\\item '0.00001910000'\n",
       "\\item '0.00000000002'\n",
       "\\end{enumerate*}\n"
      ],
      "text/markdown": [
       "1. '0.12000000000'\n",
       "2. '0.98000000000'\n",
       "3. '0.00001910000'\n",
       "4. '0.00000000002'\n",
       "\n",
       "\n"
      ],
      "text/plain": [
       "[1] \"0.12000000000\" \"0.98000000000\" \"0.00001910000\" \"0.00000000002\""
      ]
     },
     "metadata": {},
     "output_type": "display_data"
    }
   ],
   "source": [
    "# Some vectors of numbers\n",
    "percent_change  <- c(4, -1.91, 3.00, -5.002)\n",
    "income <-  c(72.19, 1030.18, 10291.93, 1189192.18)\n",
    "p_values <- c(0.12, 0.98, 0.0000191, 0.00000000002)\n",
    "\n",
    "# Format c(0.0011, 0.011, 1) with digits = 1\n",
    "format(c(0.0011, 0.011, 1),digits = 1)\n",
    "\n",
    "# Format c(1.0011, 2.011, 1) with digits = 1\n",
    "format(c(1.0011, 2.011, 1), digits = 1)\n",
    "\n",
    "# Format percent_change to one place after the decimal point\n",
    "format(percent_change, digits=2)\n",
    "\n",
    "# Format income to whole numbers\n",
    "format(income, digits=2)\n",
    "\n",
    "# Format p_values in fixed format\n",
    "format(p_values, scientific=FALSE)\n"
   ]
  },
  {
   "cell_type": "markdown",
   "metadata": {},
   "source": [
    "### Controlling other aspects of the string\n",
    "\n",
    "Not only does format() control the way the number is represented it also controls some of the properties of the resulting string that affect its display.\n",
    "\n",
    "For example, by default format() will pad the start of the strings with spaces so that the decimal points line up, which is really useful if you are presenting the numbers in a vertical column. However, if you are putting the number in the middle of a sentence, you might not want these extra spaces. You can set trim = TRUE to remove them.\n",
    "\n",
    "When numbers are long it can be helpful to \"prettify\" them, for example instead of 1000000000 display 1,000,000,000. In this case a , is added every 3 digits. This can be controlled by the big.interval and big.mark arguments, e.g. format(1000000000, big.mark = \",\", big.interval = 3, scientific = FALSE). These arguments are actually passed on to prettyNum() so head there for any further details.\n",
    "\n",
    "Instructions\n",
    "We've assigned your formatted income from the previous exercise to formatted_income.\n",
    "\n",
    " - Print formatted_income Notice the spaces at the start of the strings.\n",
    " - Call writeLines() on the formatted income. Notice how the numbers line up on the decimal point.\n",
    " - Define trimmed_income by using format() on income with digits = 2 and trim = TRUE.\n",
    " - Call writeLines() on trimmed_income. Notice how this removes the spaces at the start of the strings and the values line up on left.\n",
    " - Define pretty_income by using format() on income with digits = 2 and big.mark = \",\".\n",
    " - Call writeLines() on pretty_income."
   ]
  },
  {
   "cell_type": "code",
   "execution_count": 5,
   "metadata": {
    "collapsed": false
   },
   "outputs": [
    {
     "name": "stdout",
     "output_type": "stream",
     "text": [
      "[1] \"     72\" \"   1030\" \"  10292\" \"1189192\"\n",
      "     72\n",
      "   1030\n",
      "  10292\n",
      "1189192\n",
      "72\n",
      "1030\n",
      "10292\n",
      "1189192\n",
      "       72\n",
      "    1,030\n",
      "   10,292\n",
      "1,189,192\n"
     ]
    }
   ],
   "source": [
    "formatted_income <- format(income, digits = 2)\n",
    "\n",
    "# Print formatted_income\n",
    "print(formatted_income)\n",
    "\n",
    "# Call writeLines() on the formatted income\n",
    "writeLines(formatted_income)\n",
    "\n",
    "# Define trimmed_income\n",
    "trimmed_income <- format(income, digits = 2, trim=TRUE)\n",
    "\n",
    "# Call writeLines() on the trimmed_income\n",
    "writeLines(trimmed_income)\n",
    "\n",
    "# Define pretty_income\n",
    "pretty_income <- format(income, digits=2, big.mark=\",\", big.interval=3)\n",
    "\n",
    "# Call writeLines() on the pretty_income\n",
    "writeLines(pretty_income)"
   ]
  },
  {
   "cell_type": "code",
   "execution_count": null,
   "metadata": {
    "collapsed": true
   },
   "outputs": [],
   "source": [
    "Phenomenal work! format() is powerful but tricky to use. An alternative is provided by formatC()."
   ]
  },
  {
   "cell_type": "markdown",
   "metadata": {},
   "source": [
    "### formatC()\n",
    "\n",
    "The function formatC() provides an alternative way to format numbers based on C style syntax.\n",
    "\n",
    "Rather than a scientific argument, formatC() has a format argument that takes a code representing the required format. The most useful are:\n",
    "\n",
    " - \"f\" for fixed,\n",
    " - \"e\" for scientific, and\n",
    " - \"g\" for fixed unless scientific saves space\n",
    " \n",
    "When using scientific format, the digits argument behaves like it does in format(); it specifies the number of significant digits. However, unlike format(), when using fixed format, digits is the number of digits after the decimal point. This is more predictable than format(), because the number of places after the decimal is fixed regardless of the values being formatted.\n",
    "\n",
    "formatC() also formats numbers individually, which means you always get the same output regardless of other numbers in the vector.\n",
    "\n",
    "The flag argument allows you to provide some modifiers that, for example, force the display of the sign (flag = \"+\"), left align numbers (flag = \"-\") and pad numbers with leading zeros (flag = \"0\"). You'll see an example in this exercise.\n",
    "\n",
    "Instructions\n",
    "The vectors income, percent_change, and p_values are available in your workspace.\n",
    "\n",
    " - First, compare the behavior of formatC() to format() by calling formatC() on x with format = \"f\" and digits = 1. This is the same vector you used with format(), do you see the difference?\n",
    " - Call formatC() on y with format = \"f\" and digits = 1. Notice how digits has consistent behavior regardless of the vector you format.\n",
    " - Format percent_change to one decimal place after the decimal point.\n",
    " - Format percent_change to one decimal place after the decimal point and add flag = \"+\". This forces the display of the sign.\n",
    " - Format p_values using format = \"g\" and digits = 2. This can be useful, since if there are any p-values in scientific notation, they must be < 0.0001.\n",
    "\n"
   ]
  },
  {
   "cell_type": "code",
   "execution_count": null,
   "metadata": {
    "collapsed": true
   },
   "outputs": [],
   "source": [
    "# From the format() exercise\n",
    "x <- c(0.0011, 0.011, 1)\n",
    "y <- c(1.0011, 2.011, 1)\n",
    "\n",
    "# formatC() on x with format = \"f\", digits = 1\n",
    "formatC(x, format=\"f\",digits=1)\n",
    "\n",
    "# formatC() on y with format = \"f\", digits = 1\n",
    "formatC(y, format=\"f\",digits=1)\n",
    "\n",
    "# Format percent_change to one place after the decimal point\n",
    "formatC(percent_change, format=\"f\", digits=1)\n",
    "\n",
    "# percent_change with flag = \"+\"\n",
    "formatC(percent_change, format=\"f\", digits=1, flag=\"+\")\n",
    "\n",
    "# Format p_values using format = \"g\" and digits = 2\n",
    "formatC(p_values, format=\"g\", digits=2)"
   ]
  },
  {
   "cell_type": "markdown",
   "metadata": {},
   "source": [
    "## Putting strings together - Video"
   ]
  },
  {
   "cell_type": "markdown",
   "metadata": {},
   "source": [
    "### Annotation of numbers\n",
    "\n",
    "To get a handle on using paste(), you are going to annotate some of your formatted number strings.\n",
    "\n",
    "The key points to remember are:\n",
    "\n",
    "The vectors you pass to paste() are pasted together element by element, using the sep argument to combine them.\n",
    "If the vectors passed to paste() aren't the same length, the shorter vectors are recycled up to the length of the longest one.\n",
    "Only use collapse if you want a single string as output. collapse specifies the string to place between different elements.\n",
    "Instructions\n",
    "We've put the formatted vectors pretty_income and pretty_percent in your workspace along with years.\n",
    "\n",
    "  - Paste a `$ to the front of each value in pretty_income, use sep = \"\", so there is no space between the $ and value.`\n",
    "  - Paste a % to the end of each value in pretty_percent, use sep = \"\", so there is no space between the value and the %.\n",
    "  - years contains the year each pretty_percent corresponds to. Use paste() to produce a vector with elements like 2010: +4.0% and assign it to year_percent.\n",
    "  - Use paste() with year_percent to create single string that collapses all the years: 2010: +4.0%, 2011: -1.9%, 2012: +3.0%, 2013: -5.0%."
   ]
  },
  {
   "cell_type": "code",
   "execution_count": 6,
   "metadata": {
    "collapsed": false
   },
   "outputs": [
    {
     "data": {
      "text/html": [
       "<ol class=list-inline>\n",
       "\t<li><span style=white-space:pre-wrap>'$       72'</span></li>\n",
       "\t<li><span style=white-space:pre-wrap>'$    1,030'</span></li>\n",
       "\t<li><span style=white-space:pre-wrap>'$   10,292'</span></li>\n",
       "\t<li>'$1,189,192'</li>\n",
       "</ol>\n"
      ],
      "text/latex": [
       "\\begin{enumerate*}\n",
       "\\item '\\$       72'\n",
       "\\item '\\$    1,030'\n",
       "\\item '\\$   10,292'\n",
       "\\item '\\$1,189,192'\n",
       "\\end{enumerate*}\n"
      ],
      "text/markdown": [
       "1. <span style=white-space:pre-wrap>'$       72'</span>\n",
       "2. <span style=white-space:pre-wrap>'$    1,030'</span>\n",
       "3. <span style=white-space:pre-wrap>'$   10,292'</span>\n",
       "4. '$1,189,192'\n",
       "\n",
       "\n"
      ],
      "text/plain": [
       "[1] \"$       72\" \"$    1,030\" \"$   10,292\" \"$1,189,192\""
      ]
     },
     "metadata": {},
     "output_type": "display_data"
    },
    {
     "ename": "ERROR",
     "evalue": "Error in paste(pretty_percent, \"%\", sep = \"\"): object 'pretty_percent' not found\n",
     "output_type": "error",
     "traceback": [
      "Error in paste(pretty_percent, \"%\", sep = \"\"): object 'pretty_percent' not found\nTraceback:\n",
      "1. paste(pretty_percent, \"%\", sep = \"\")"
     ]
    }
   ],
   "source": [
    "# Add $ to pretty_income\n",
    "paste(\"$\", pretty_income, sep=\"\")\n",
    " \n",
    "# Add % to pretty_percent\n",
    "paste(pretty_percent,\"%\", sep=\"\")\n",
    "\n",
    "# Create vector with elements like 2010: +4.0%`\n",
    "year_percent <- paste(years, \": \", pretty_percent, \"%\", sep=\"\")\n",
    "\n",
    "# Collapse all years into single string\n",
    "paste(year_percent, collapse=\", \")"
   ]
  },
  {
   "cell_type": "markdown",
   "metadata": {},
   "source": [
    "### A very simple table\n",
    "\n",
    "Combining format() and paste() is one way to display very simple tables. Remember, since format() looks at all the values in a vector before formatting, it uses a consistent format and will, by default, align on the decimal point. This is usually the behavior you want for a column of numbers in table.\n",
    "\n",
    "format() can also take character vectors as input. In this case, you can use the justify argument, specific to character input, to justify the text to the left, right, or center.\n",
    "\n",
    "You are going to put together the following table:\n",
    "\n",
    "          Year 0   $       72\n",
    "          Year 1   $    1,030\n",
    "          Year 2   $   10,292\n",
    "Project Lifetime   $1,189,192\n",
    "\n",
    "You'll start by formatting the columns to prepare to put them in a table, then you'll use paste() to put together each row. Then, you can use writeLines() to display each row on a new line.\n",
    "\n",
    "Instructions\n",
    "The income vector is loaded in your workspace.\n",
    "`\n",
    " - Create pretty_income by using format() with digits = 2 and big.mark = \",\".\n",
    " - Create dollar_income by pasting $ to pretty_income (don't forget that to set the sep argument).\n",
    " - Create formatted_names by using format() on income_names with justify = \"right\".\n",
    " - Create rows by pasting together formatted_names and dollar_income. Use three spaces as a separator to give some room between your columns. Be sure to surround your separator in \".\n",
    " - Call writeLines() on rows to see your table.`"
   ]
  },
  {
   "cell_type": "code",
   "execution_count": 7,
   "metadata": {
    "collapsed": false
   },
   "outputs": [
    {
     "name": "stdout",
     "output_type": "stream",
     "text": [
      "          Year 0   $       72\n",
      "          Year 1   $    1,030\n",
      "          Year 2   $   10,292\n",
      "Project Lifetime   $1,189,192\n"
     ]
    }
   ],
   "source": [
    "# Define the names vector\n",
    "income_names <- c(\"Year 0\", \"Year 1\", \"Year 2\", \"Project Lifetime\")\n",
    "\n",
    "# Create pretty_income\n",
    "pretty_income <- format(income, digits=2, big.mark=\",\")\n",
    "\n",
    "# Create dollar_income\n",
    "dollar_income <- paste(\"$\",pretty_income, sep=\"\")\n",
    "\n",
    "# Create formatted_names\n",
    "formatted_names <- format(income_names, justify=\"right\")\n",
    "\n",
    "# Create rows\n",
    "rows <- paste(formatted_names, dollar_income, sep=\"   \")\n",
    "\n",
    "# Write rows\n",
    "writeLines(rows)"
   ]
  },
  {
   "cell_type": "markdown",
   "metadata": {},
   "source": [
    "### Let's order pizza!\n",
    "\n",
    "As a final exercise in using paste() and to celebrate getting to the end of the first chapter, let's order some pizza.\n",
    "\n",
    "We've got a list of possible pizza toppings in toppings.\n",
    "\n",
    "You are going to randomly select three toppings, and then put them together using paste() into an order for pizza, that should result in a string like,\n",
    "\n",
    "\"I want to order a pizza with mushrooms, spinach, and pineapple.\"\n",
    "    \n",
    "Instructions\n",
    "    \n",
    " - Print my_toppings to see your random toppings.\n",
    " - Add \"and \" to the start of the third element by using paste() with my_toppings and a vector you define.\n",
    " - Create a vector these_toppings by using paste() to collapse my_toppings_and with a comma and space between each element.\n",
    " - Create my_order by pasting \"I want to order a pizza with \" to these_toppings and ending with a period, \".\".\n",
    " - Order your pizza by calling writeLines() on my_order.\n",
    " - Try re-running all your code (including the sampling of toppings). You should get a brand new pizza order!"
   ]
  },
  {
   "cell_type": "code",
   "execution_count": 11,
   "metadata": {
    "collapsed": true
   },
   "outputs": [],
   "source": [
    "toppings = c(\"anchovies\"       , \"artichoke\"      ,  \"bacon\"          ,  \"breakfast bacon\" ,\n",
    "              \"Canadian bacon\" ,  \"cheese\"        ,   \"chicken\"       ,   \"chili peppers\"  , \n",
    "              \"feta\"           ,  \"garlic\"        ,   \"green peppers\" ,   \"grilled onions\" , \n",
    "              \"ground beef\"    ,  \"ham\"           ,   \"hot sauce\"     ,   \"meatballs\"      , \n",
    "              \"mushrooms\"      ,  \"olives\"        ,   \"onions\"        ,   \"pepperoni\"      , \n",
    "              \"pineapple\"      ,  \"sausage\"       ,   \"spinach\"       ,   \"sun-dried tomato\",\n",
    "              \"tomatoes\")"
   ]
  },
  {
   "cell_type": "code",
   "execution_count": 12,
   "metadata": {
    "collapsed": false
   },
   "outputs": [
    {
     "data": {
      "text/html": [
       "<ol class=list-inline>\n",
       "\t<li>'onions'</li>\n",
       "\t<li>'ground beef'</li>\n",
       "\t<li>'cheese'</li>\n",
       "</ol>\n"
      ],
      "text/latex": [
       "\\begin{enumerate*}\n",
       "\\item 'onions'\n",
       "\\item 'ground beef'\n",
       "\\item 'cheese'\n",
       "\\end{enumerate*}\n"
      ],
      "text/markdown": [
       "1. 'onions'\n",
       "2. 'ground beef'\n",
       "3. 'cheese'\n",
       "\n",
       "\n"
      ],
      "text/plain": [
       "[1] \"onions\"      \"ground beef\" \"cheese\"     "
      ]
     },
     "metadata": {},
     "output_type": "display_data"
    },
    {
     "name": "stdout",
     "output_type": "stream",
     "text": [
      "I want to order a pizza with onions, ground beef, and cheese.\n"
     ]
    }
   ],
   "source": [
    "# Randomly sample 3 toppings\n",
    "my_toppings <- sample(toppings, size = 3)\n",
    "\n",
    "# Print my_toppings\n",
    "my_toppings\n",
    "\n",
    "# Paste \"and \" to last element: my_toppings_and\n",
    "my_toppings_and <- c(my_toppings[1], my_toppings[2], paste(\"and \", my_toppings[3], sep=\"\"))\n",
    "\n",
    "# Collapse with comma space: these_toppings\n",
    "these_toppings <- paste(my_toppings_and, collapse=\", \")\n",
    "\n",
    "# Add rest of sentence: my_order\n",
    "my_order <- paste(\"I want to order a pizza with \", these_toppings, \".\", sep=\"\")\n",
    "\n",
    "# Order pizza with writeLines()\n",
    "writeLines(my_order)"
   ]
  },
  {
   "cell_type": "markdown",
   "metadata": {},
   "source": [
    "# 2. Introduction to stringr"
   ]
  },
  {
   "cell_type": "markdown",
   "metadata": {},
   "source": [
    "## Introduction to stringr - Video"
   ]
  },
  {
   "cell_type": "markdown",
   "metadata": {},
   "source": [
    "### Putting strings together with stringr\n",
    "\n",
    "For your first stringr function, we'll look at str_c(), the c is short for concatentate, a function that works like paste(). It takes vectors of strings as input along with sep and collapse arguments.\n",
    "\n",
    "There are two key ways str_c() differs from paste(). First, the default separator is an empty string, sep = \"\", as opposed to a space, so it's more like paste0(). This is an example of a stringr function, performing a similar operation to a base function, but using a default that is more likely to be what you want. Remember in your pizza order, you had to set sep = \"\" multiple times.\n",
    "\n",
    "The second way str_c() differs to paste() is in its handling of missing values. paste() turns missing values into the string \"NA\", whereas str_c() propagates missing values. That means combining any strings with a missing value will result in another missing value.\n",
    "\n",
    "Let's explore this difference using your pizza order from the previous chapter.\n",
    "\n",
    "Instructions\n",
    "We've set up a new my_toppings vector that has a few missing values and taken the first step of creating our order.\n",
    "\n",
    " - Print my_toppings_and to see what paste() did with the missing values.\n",
    " - Repeat the paste() statement but instead use str_c(). You can save some typing by leaving off sep = \"\" since that is the default. Call this string my_toppings_str.\n",
    " - Print my_toppings_str to see what str_c() does with the missing values.\n",
    " - Take the next step in our order, by using paste() on my_toppings_and with collapse = \", \".\n",
    " - Take the next step in our order, by using str_c() on my_toppings_str with collapse = \", \". See the difference: just one NA will make our entire result NA"
   ]
  },
  {
   "cell_type": "code",
   "execution_count": 16,
   "metadata": {
    "collapsed": false
   },
   "outputs": [
    {
     "name": "stdout",
     "output_type": "stream",
     "text": [
      "[1] \"cheese\" \"NA\"     \"and NA\"\n",
      "[1] \"cheese\" NA       NA      \n"
     ]
    },
    {
     "data": {
      "text/html": [
       "'cheese, NA, and NA'"
      ],
      "text/latex": [
       "'cheese, NA, and NA'"
      ],
      "text/markdown": [
       "'cheese, NA, and NA'"
      ],
      "text/plain": [
       "[1] \"cheese, NA, and NA\""
      ]
     },
     "metadata": {},
     "output_type": "display_data"
    },
    {
     "data": {
      "text/html": [
       "'NA'"
      ],
      "text/latex": [
       "'NA'"
      ],
      "text/markdown": [
       "'NA'"
      ],
      "text/plain": [
       "[1] NA"
      ]
     },
     "metadata": {},
     "output_type": "display_data"
    }
   ],
   "source": [
    "library(stringr)\n",
    "\n",
    "my_toppings <- c(\"cheese\", NA, NA)\n",
    "my_toppings_and <- paste(c(\"\", \"\", \"and \"), my_toppings, sep = \"\")\n",
    "\n",
    "# Print my_toppings_and\n",
    "print(my_toppings_and)\n",
    "\n",
    "# Use str_c() instead of paste(): my_toppings_str\n",
    "my_toppings_str <- str_c(c(\"\", \"\", \"and \"), my_toppings, sep = \"\")\n",
    "\n",
    "# Print my_toppings_str\n",
    "print(my_toppings_str)\n",
    "\n",
    "# paste() my_toppings_and with collapse = \", \"\n",
    "paste(my_toppings_and, collapse=\", \")\n",
    "\n",
    "# str_c() my_toppings_str with collapse = \", \"\n",
    "str_c(my_toppings_str, collapse =\", \")"
   ]
  },
  {
   "cell_type": "markdown",
   "metadata": {},
   "source": [
    "Nice work! This behavior is nice because you learn quickly when you might have missing values, rather than discovering later weird \"NA\"s inside your strings. Another stringr function that is useful when you may have missing values, is str_replace_na() which replaces missing values with any string you choose."
   ]
  },
  {
   "cell_type": "markdown",
   "metadata": {},
   "source": [
    "### String length\n",
    "\n",
    "Our next stringr function is str_length(). str_length() takes a vector of strings as input and returns the number of characters in each string. For example, try finding the number of characters in Batman's name:\n",
    "\n",
    "`str_length(c(\"Bruce\", \"Wayne\"))`\n",
    "\n",
    "This is very similar to the base function nchar() but you'll see in the exercises str_length() handles factors in an intuitive way, whereas nchar() will just return an error.\n",
    "\n",
    "Historically, nchar() was even worse, rather than returning an error if you passed it a factor, it would return the number of characters in the numeric encoding of the factor. Thankfully this behavior has been fixed, but it was one of the original motivations behind str_length().\n",
    "\n",
    "Take your first look at babynames by asking if girls' names are longer than boys' names.\n",
    "\n",
    "Instructions\n",
    "\n",
    "We've pulled out just the names from 2014, and created the vectors boy_names and girl_names for you. (If you want to learn about the filter() function, take the Data Manipulation in R with dplyr course!).\n",
    "\n",
    " - Take a look at the boy_names vector, it's long, so use head() to see the first few elements.\n",
    " - Use str_length() on boy_names to find the length of each name and save the result to boy_length.\n",
    " - Take a look at the lengths. Again, use head(). Can you see the correspondence with boy_names?\n",
    " - Find the length of all the girls' names. Call this girl_length.\n",
    " - Find the difference in mean length between boys' and girls' names by subtracting the mean length of boys' names from that of girls' names.\n",
    " - Confirm str_length() works on factors, by calling it on factor(boy_names). Again, you'll want to just look at the head()."
   ]
  },
  {
   "cell_type": "code",
   "execution_count": 17,
   "metadata": {
    "collapsed": false
   },
   "outputs": [
    {
     "name": "stderr",
     "output_type": "stream",
     "text": [
      "Warning message:\n",
      "\"package 'babynames' was built under R version 3.3.3\"Warning message:\n",
      "\"package 'dplyr' was built under R version 3.3.3\"\n",
      "Attaching package: 'dplyr'\n",
      "\n",
      "The following objects are masked from 'package:stats':\n",
      "\n",
      "    filter, lag\n",
      "\n",
      "The following objects are masked from 'package:base':\n",
      "\n",
      "    intersect, setdiff, setequal, union\n",
      "\n"
     ]
    },
    {
     "data": {
      "text/html": [
       "<ol class=list-inline>\n",
       "\t<li>'Noah'</li>\n",
       "\t<li>'Liam'</li>\n",
       "\t<li>'Mason'</li>\n",
       "\t<li>'Jacob'</li>\n",
       "\t<li>'William'</li>\n",
       "\t<li>'Ethan'</li>\n",
       "</ol>\n"
      ],
      "text/latex": [
       "\\begin{enumerate*}\n",
       "\\item 'Noah'\n",
       "\\item 'Liam'\n",
       "\\item 'Mason'\n",
       "\\item 'Jacob'\n",
       "\\item 'William'\n",
       "\\item 'Ethan'\n",
       "\\end{enumerate*}\n"
      ],
      "text/markdown": [
       "1. 'Noah'\n",
       "2. 'Liam'\n",
       "3. 'Mason'\n",
       "4. 'Jacob'\n",
       "5. 'William'\n",
       "6. 'Ethan'\n",
       "\n",
       "\n"
      ],
      "text/plain": [
       "[1] \"Noah\"    \"Liam\"    \"Mason\"   \"Jacob\"   \"William\" \"Ethan\"  "
      ]
     },
     "metadata": {},
     "output_type": "display_data"
    },
    {
     "data": {
      "text/html": [
       "<ol class=list-inline>\n",
       "\t<li>4</li>\n",
       "\t<li>4</li>\n",
       "\t<li>5</li>\n",
       "\t<li>5</li>\n",
       "\t<li>7</li>\n",
       "\t<li>5</li>\n",
       "</ol>\n"
      ],
      "text/latex": [
       "\\begin{enumerate*}\n",
       "\\item 4\n",
       "\\item 4\n",
       "\\item 5\n",
       "\\item 5\n",
       "\\item 7\n",
       "\\item 5\n",
       "\\end{enumerate*}\n"
      ],
      "text/markdown": [
       "1. 4\n",
       "2. 4\n",
       "3. 5\n",
       "4. 5\n",
       "5. 7\n",
       "6. 5\n",
       "\n",
       "\n"
      ],
      "text/plain": [
       "[1] 4 4 5 5 7 5"
      ]
     },
     "metadata": {},
     "output_type": "display_data"
    },
    {
     "data": {
      "text/html": [
       "0.336049552137228"
      ],
      "text/latex": [
       "0.336049552137228"
      ],
      "text/markdown": [
       "0.336049552137228"
      ],
      "text/plain": [
       "[1] 0.3360496"
      ]
     },
     "metadata": {},
     "output_type": "display_data"
    },
    {
     "data": {
      "text/html": [
       "<ol class=list-inline>\n",
       "\t<li>4</li>\n",
       "\t<li>4</li>\n",
       "\t<li>5</li>\n",
       "\t<li>5</li>\n",
       "\t<li>7</li>\n",
       "\t<li>5</li>\n",
       "</ol>\n"
      ],
      "text/latex": [
       "\\begin{enumerate*}\n",
       "\\item 4\n",
       "\\item 4\n",
       "\\item 5\n",
       "\\item 5\n",
       "\\item 7\n",
       "\\item 5\n",
       "\\end{enumerate*}\n"
      ],
      "text/markdown": [
       "1. 4\n",
       "2. 4\n",
       "3. 5\n",
       "4. 5\n",
       "5. 7\n",
       "6. 5\n",
       "\n",
       "\n"
      ],
      "text/plain": [
       "[1] 4 4 5 5 7 5"
      ]
     },
     "metadata": {},
     "output_type": "display_data"
    }
   ],
   "source": [
    "library(stringr)\n",
    "library(babynames)\n",
    "library(dplyr)\n",
    "\n",
    "# Extracting vectors for boys' and girls' names\n",
    "babynames_2014 <- filter(babynames, year == 2014)\n",
    "boy_names <- filter(babynames_2014, sex == \"M\")$name\n",
    "girl_names <- filter(babynames_2014, sex == \"F\")$name\n",
    "\n",
    "# Take a look at a few boy_names\n",
    "head(boy_names)\n",
    "\n",
    "# Find the length of all boy_names\n",
    "boy_length <- str_length(boy_names)\n",
    "\n",
    "# Take a look at a few lengths\n",
    "head(boy_length)\n",
    "\n",
    "# Find the length of all girl_names\n",
    "girl_length <- str_length(girl_names)\n",
    "\n",
    "# Find the difference in mean length\n",
    "mean(girl_length) - mean(boy_length)\n",
    "\n",
    "# Confirm str_length() works with factors\n",
    "head(str_length(factor(boy_names)))\n"
   ]
  },
  {
   "cell_type": "markdown",
   "metadata": {},
   "source": [
    "### Extracting substrings\n",
    "\n",
    "The str_sub() function in stringr extracts parts of strings based on their location. As with all stringr functions, the first argument, string, is a vector of strings. The arguments start and end specify the boundaries of the piece to extract in characters.\n",
    "\n",
    "For example, str_sub(x, 1, 4) asks for the substring starting at the first character, up to the fourth character, or in other words the first four characters. Try it with my Batman's name:\n",
    "\n",
    "`str_sub(c(\"Bruce\", \"Wayne\"), 1, 4)`\n",
    "\n",
    "Both start and end can be negative integers, in which case, they count from the end of the string. For example, str_sub(x, -4, -1), asks for the substring starting at the fourth character from the end, up to the first character from the end, i.e. the last four characters. Again, try it with Batman:\n",
    "\n",
    "`str_sub(c(\"Bruce\", \"Wayne\"), -4, -1)`\n",
    "\n",
    "To practice, you'll use str_sub() to look at popular first and last letters for names.\n",
    "\n",
    "Instructions\n",
    "We've set up the same boy_names and girl_names vectors from the last exercise in your workspace.\n",
    "\n",
    " - Use str_sub() to extract the first letter of each name in boy_names. Save this to boy_first_letter.\n",
    " - Use table() on boy_first_letter to count up how many names start with each letter. Can you see which is most popular?\n",
    " - Repeat these steps, but now look at the last letter for boys' names.\n",
    " - Again repeat, but now look at the first letter for girls' names.\n",
    " - Finally, look at the last letter for girls' names."
   ]
  },
  {
   "cell_type": "code",
   "execution_count": 18,
   "metadata": {
    "collapsed": false
   },
   "outputs": [
    {
     "data": {
      "text/plain": [
       "boy_first_letter\n",
       "   A    B    C    D    E    F    G    H    I    J    K    L    M    N    O    P \n",
       "1450  651  767  996  549  185  332  401  234 1388 1290  536  913  424  207  230 \n",
       "   Q    R    S    T    U    V    W    X    Y    Z \n",
       "  56  778  804  771   43  160  174   56  252  379 "
      ]
     },
     "metadata": {},
     "output_type": "display_data"
    },
    {
     "data": {
      "text/plain": [
       "boy_last_letter\n",
       "   a    b    c    d    e    f    g    h    i    j    k    l    m    n    o    p \n",
       " 421  104   92  436 1145   66   81  582  704   57  349  942  389 4664  729   32 \n",
       "   q    r    s    t    u    v    w    x    y    z \n",
       "  19 1011  825  291   81   71   34   86  696  119 "
      ]
     },
     "metadata": {},
     "output_type": "display_data"
    },
    {
     "data": {
      "text/plain": [
       "girl_first_letter\n",
       "   A    B    C    D    E    F    G    H    I    J    K    L    M    N    O    P \n",
       "3099  698  941  808  932  209  345  468  373 1429 1689 1121 1744  752  143  301 \n",
       "   Q    R    S    T    U    V    W    X    Y    Z \n",
       "  38  830 1366  681   28  214   85   62  294  500 "
      ]
     },
     "metadata": {},
     "output_type": "display_data"
    },
    {
     "data": {
      "text/plain": [
       "girl_last_letter\n",
       "   a    b    c    d    e    f    g    h    i    j    k    l    m    n    o    p \n",
       "6624   20   13   81 3111    8   21 1936 1580   12   31  450  115 2600  104    3 \n",
       "   q    r    s    t    u    v    w    x    y    z \n",
       "   2  291  326  208   59    6   17   49 1432   51 "
      ]
     },
     "metadata": {},
     "output_type": "display_data"
    }
   ],
   "source": [
    "# Extract first letter from boy_names\n",
    "boy_first_letter <- str_sub(boy_names, 1,1)\n",
    "\n",
    "# Tabulate occurrences of boy_first_letter\n",
    "table(boy_first_letter)\n",
    "  \n",
    "# Extract the last letter in boy_names, then tabulate\n",
    "boy_last_letter <- str_sub(boy_names, -1,-1)\n",
    "table(boy_last_letter)\n",
    "\n",
    "# Extract the first letter in girl_names, then tabulate\n",
    "girl_first_letter <- str_sub(girl_names, 1,1)\n",
    "table(girl_first_letter)\n",
    "\n",
    "# Extract the last letter in girl_names, then tabulate\n",
    "girl_last_letter <- str_sub(girl_names, -1,-1)\n",
    "table(girl_last_letter)\n",
    "  "
   ]
  },
  {
   "cell_type": "markdown",
   "metadata": {},
   "source": [
    "Great job! Did you see that \"A\" is the most popular first letter for both boys and girls, and the most popular last letter for girls. However, the most popular last letter for boys' names was \"n\". You might have seen substr() a base R function that is similar to str_sub(). The big advantage of str_sub() is the ability to use negative indexes to count from the end of a string."
   ]
  },
  {
   "cell_type": "markdown",
   "metadata": {},
   "source": [
    "## Hunting for matches - Video"
   ]
  },
  {
   "cell_type": "markdown",
   "metadata": {},
   "source": [
    "### Detecting matches\n",
    "\n",
    "str_detect() is used to answer the question: Does the string contain the pattern? It returns a logical vector of the same length as that of the input vector string, with TRUE for elements that contain the pattern and FALSE otherwise.\n",
    "\n",
    "Let's take a look at a simple example where you have a vector of strings that represent pizza orders:\n",
    "\n",
    "`pizzas <- c(\"cheese\", \"pepperoni\", \n",
    "  \"sausage and green peppers\")`\n",
    "\n",
    "You can ask which orders contain the pattern \"pepper\", with\n",
    "\n",
    "str_detect(pizzas, \n",
    "  pattern = fixed(\"pepper\"))\n",
    "Try it out! You should get FALSE TRUE TRUE. Notice how both pepperoni and green peppers contain the pattern of interest.\n",
    "\n",
    "The output from str_detect() can be used to count the number of occurrences, or to subset out the strings that contain the pattern. You'll practice both to find the boys' names that contain \"zz\".\n",
    "\n",
    "Instructions\n",
    " - Use str_detect() to find which boy_names contain \"zz\". Save the result to contains_zz.\n",
    " - Examine the structure of contains_zz with str(). It should be a logical vector the same length as boy_names.\n",
    " - To find out how many names in boy_names contain \"zz\", use sum() on contains_zz. Recall summing a logical vector counts how many are TRUE.\n",
    " - To find the names in boy_names that contain \"zz\", subset boy_names using [ and contains_zz.\n",
    " - We've also included boy_df in your workspace, a data frame that corresponds to the boys' names in 2014. Subset the rows of boy_df using contains_zz."
   ]
  },
  {
   "cell_type": "code",
   "execution_count": null,
   "metadata": {
    "collapsed": true
   },
   "outputs": [],
   "source": [
    "# Look for pattern \"zz\" in boy_names\n",
    "contains_zz <- str_detect(boy_names, \"zz\")\n",
    "\n",
    "# Examine str() of contains_zz\n",
    "str(contains_zz)\n",
    "\n",
    "# How many names contain \"zz\"?\n",
    "sum(contains_zz)\n",
    "\n",
    "# Which names contain \"zz\"?\n",
    "boy_names[contains_zz]\n",
    "\n",
    "# Which rows in boy_df have names that contain \"zz\"?\n",
    "boy_df[contains_zz,]\n"
   ]
  },
  {
   "cell_type": "markdown",
   "metadata": {},
   "source": [
    "### Subsetting strings based on match\n",
    "\n",
    "Since detecting strings with a pattern and then subsetting out those strings is such a common operation, stringr provides a function str_subset() that does that in one step.\n",
    "\n",
    "For example, let's repeat our search for \"pepper\" in our pizzas using str_subset():\n",
    "\n",
    "pizzas <- c(\"cheese\", \"pepperoni\", \"sausage and green peppers\")\n",
    "str_subset(pizzas, pattern = fixed(\"pepper\"))\n",
    "We get a new vector of strings, but it only contains those original strings that contained the pattern.\n",
    "\n",
    "str_subset() can be easily confused with str_extract(). str_extract() returns a vector of the same length as that of the input vector, but with only the parts of the strings that matched the pattern. This won't be very interesting until we know about regular expressions, so we'll talk more about this in Chapter 3.\n",
    "\n",
    "For now, you'll repeat part of the last exercise using str_subset() and then find a few other interesting names.\n",
    "\n",
    "Instructions\n",
    "    \n",
    " - Find the boy_names that contain \"zz\", using str_subset().\n",
    " - Find the girl_names that contain \"zz\".\n",
    " - Find the girl_names that contain \"U\" and save into starts_U. Since the pattern matching is case sensitive, this will only be names that start with \"U\".\n",
    " - Feed starts_U into another str_subset() that looks for \"z\". Combining multiple str_subset() calls is a way to find more complicated patterns."
   ]
  },
  {
   "cell_type": "code",
   "execution_count": null,
   "metadata": {
    "collapsed": true
   },
   "outputs": [],
   "source": [
    "# Find boy_names that contain \"zz\"\n",
    "str_subset(boy_names, \"zz\")\n",
    "\n",
    "# Find girl_names that contain \"zz\"\n",
    "str_subset(girl_names, \"zz\")\n",
    "\n",
    "# Find girl_names that contain \"U\"\n",
    "starts_U <- str_subset(girl_names, \"U\")\n",
    "starts_U\n",
    "\n",
    "# Find girl_names that contain \"U\" and \"z\"\n",
    "str_subset(starts_U, \"z\")"
   ]
  },
  {
   "cell_type": "markdown",
   "metadata": {},
   "source": [
    "### Counting matches\n",
    "\n",
    "Another stringr function that takes a vector of strings and a pattern is str_count(). str_count() answers the question \"How many times does the pattern occur in each string?\". It always returns an integer vector of the same length as that of the input vector.\n",
    "\n",
    "If you count the occurrences of \"pepper\" in your pizzas, you'll find no occurrences in the first, and one each in the second and third,\n",
    "\n",
    "`pizzas <- c(\"cheese\", \"pepperoni\", \n",
    "  \"sausage and green peppers\")\n",
    "str_count(pizzas, pattern = fixed(\"pepper\"))`\n",
    "\n",
    "Perhaps a little more interesing is to count how many \"e\"s occur in each order\n",
    "\n",
    "`str_count(pizzas, pattern = fixed(\"e\"))`\n",
    "\n",
    "You'll use str_count() to find some names with lots of repeated letters.\n",
    "\n",
    "Instructions\n",
    " - Count the number of \"a\" in each girl_names, store in number_as.\n",
    " - Count the number of \"A\" in each girl_names, store in number_As.\n",
    " - Create histograms, use the hist() function, of number_as and number_As. Why is number_As only zero or one?\n",
    " - Add together number_as and number_As to get total_as.\n",
    " - Subset girl_names to only those names where total_as > 4."
   ]
  },
  {
   "cell_type": "code",
   "execution_count": null,
   "metadata": {
    "collapsed": true
   },
   "outputs": [],
   "source": [
    "# Count occurrences of \"a\" in girl_names\n",
    "number_as <- str_count(girl_names, \"a\")\n",
    "\n",
    "# Count occurrences of \"A\" in girl_names\n",
    "number_As <- str_count(girl_names, \"A\")\n",
    "\n",
    "# Histograms of number_as and number_As\n",
    "hist(number_as)\n",
    "hist(number_As)\n",
    "\n",
    "# Find total \"a\" + \"A\"\n",
    "total_as <- number_as + number_As \n",
    "\n",
    "# girl_names with more than 4 a's\n",
    "girl_names[total_as>4]\n"
   ]
  },
  {
   "cell_type": "markdown",
   "metadata": {},
   "source": [
    "## Splitting strings - Video"
   ]
  },
  {
   "cell_type": "markdown",
   "metadata": {},
   "source": [
    "### Parsing strings into variables\n",
    "\n",
    "A common use for str_split() is to pull apart raw string data into more useful variables. In this exercise you'll start by pulling apart a date range, something like \"23.01.2017 - 29.01.2017\", into separate variables for the start of the range, \"23.01.2017\", and the end of the range, \"29.01.2017\".\n",
    "\n",
    "Remember, if the simplify argument is FALSE (the default) you'll get back a list of the same length as that of the input vector. More commonly, you'll want to pull out the first piece (or second piece etc.) from every element, which is easier if you specify simplify = TRUE and get a matrix as output. You'll explore both of these output types in this exercise.\n",
    "\n",
    "Instructions\n",
    " - Split date_ranges using \" - \" as a pattern, assign this to split_dates. Don't forget to wrap the pattern in fixed().\n",
    " - Print split_dates. The result is a list with two elements, since date_ranges was a vector of length two.\n",
    " - Now, split date_ranges again, but specify simplify = TRUE and n = 2. Print the result to see the difference. Now we get a matrix back, where each row corresponds to an element of date_ranges.\n",
    " - Pull out the first column of split_dates_n into start_dates, and the second column into end_dates.\n",
    " - Split start_dates into its day, month and year components. You are aiming for a three column matrix as the result.\n",
    " - Now you're on your own. We've provided the both_names vector, listing a couple of famous statisticians. Your job is to pull out the first names and last names into separate vectors. You'll need to use an intermediate variable, both_names_split."
   ]
  },
  {
   "cell_type": "code",
   "execution_count": 19,
   "metadata": {
    "collapsed": false
   },
   "outputs": [
    {
     "name": "stdout",
     "output_type": "stream",
     "text": [
      "[[1]]\n",
      "[1] \"23.01.2017\" \"29.01.2017\"\n",
      "\n",
      "[[2]]\n",
      "[1] \"30.01.2017\" \"06.02.2017\"\n",
      "\n"
     ]
    },
    {
     "data": {
      "text/html": [
       "<table>\n",
       "<tbody>\n",
       "\t<tr><td>23.01.2017</td><td>29.01.2017</td></tr>\n",
       "\t<tr><td>30.01.2017</td><td>06.02.2017</td></tr>\n",
       "</tbody>\n",
       "</table>\n"
      ],
      "text/latex": [
       "\\begin{tabular}{ll}\n",
       "\t 23.01.2017 & 29.01.2017\\\\\n",
       "\t 30.01.2017 & 06.02.2017\\\\\n",
       "\\end{tabular}\n"
      ],
      "text/markdown": [
       "\n",
       "| 23.01.2017 | 29.01.2017 | \n",
       "| 30.01.2017 | 06.02.2017 | \n",
       "\n",
       "\n"
      ],
      "text/plain": [
       "     [,1]       [,2]      \n",
       "[1,] 23.01.2017 29.01.2017\n",
       "[2,] 30.01.2017 06.02.2017"
      ]
     },
     "metadata": {},
     "output_type": "display_data"
    },
    {
     "data": {
      "text/html": [
       "<table>\n",
       "<tbody>\n",
       "\t<tr><td>23  </td><td>01  </td><td>2017</td></tr>\n",
       "\t<tr><td>30  </td><td>01  </td><td>2017</td></tr>\n",
       "</tbody>\n",
       "</table>\n"
      ],
      "text/latex": [
       "\\begin{tabular}{lll}\n",
       "\t 23   & 01   & 2017\\\\\n",
       "\t 30   & 01   & 2017\\\\\n",
       "\\end{tabular}\n"
      ],
      "text/markdown": [
       "\n",
       "| 23   | 01   | 2017 | \n",
       "| 30   | 01   | 2017 | \n",
       "\n",
       "\n"
      ],
      "text/plain": [
       "     [,1] [,2] [,3]\n",
       "[1,] 23   01   2017\n",
       "[2,] 30   01   2017"
      ]
     },
     "metadata": {},
     "output_type": "display_data"
    }
   ],
   "source": [
    "date_ranges <- c(\"23.01.2017 - 29.01.2017\", \"30.01.2017 - 06.02.2017\")\n",
    "\n",
    "# Split dates using \" - \"\n",
    "split_dates <- str_split(date_ranges, pattern = \" - \")\n",
    "\n",
    "# Print split_dates\n",
    "print(split_dates)\n",
    "\n",
    "# Split dates with n and simplify specified\n",
    "split_dates_n <- str_split(date_ranges, pattern = \" - \", simplify=TRUE, n=2)\n",
    "split_dates_n\n",
    "\n",
    "# Subset split_dates_n into start_dates and end_dates\n",
    "start_dates <- split_dates_n[,1]\n",
    "end_dates <- split_dates_n[,2]\n",
    "\n",
    "# Split start_dates into day, month and year pieces\n",
    "str_split(start_dates, pattern=fixed(\".\"), simplify=TRUE, n=3)\n",
    "\n",
    "# Split both_names into first_names and last_names\n",
    "both_names <- c(\"Box, George\", \"Cox, David\")\n",
    "both_names_split <- str_split(both_names, pattern=\", \", simplify=TRUE, n=2)\n",
    "first_names <- both_names_split[,2]\n",
    "last_names <- both_names_split[,1]\n"
   ]
  },
  {
   "cell_type": "markdown",
   "metadata": {},
   "source": [
    "### Some simple text statistics\n",
    "\n",
    "Generally, specifying simplify = TRUE will give you output that is easier to work with, but you'll always get n pieces (even if some are empty, \"\").\n",
    "\n",
    "Sometimes, you want to know how many pieces a string can be split into, or you want to do something with every piece before moving to a simpler structure. This is a situation where you don't want to simplify and you'll have to process the output with something like lapply().\n",
    "\n",
    "As an example, you'll be performing some simple text statistics on your lines from Alice's Adventures in Wonderland from Chapter 1. Your goal will be to calculate how many words are in each line, and the average length of words in each line.\n",
    "\n",
    "To do these calculations, you'll need to split the lines into words. One way to break a sentence into words is to split on an empty space \" \". This is a little naive because, for example, it wouldn't pick up words separated by a newline escape sequence like in \"two\\nwords\", but since this situation doesn't occur in your lines, it will do.\n",
    "\n",
    "Instructions\n",
    "We've put lines a vector with three strings, each corresponding to a line in your workspace.\n",
    "\n",
    " - Split lines into words. Assign the resulting list to words.\n",
    " - Use lapply() to apply length() to each element in words to count the number of words in each line.\n",
    " - Use lapply() to apply str_length() to each element in words, to count the number of characters in each word. Assign this to word_lengths.\n",
    " - Use lapply() to apply mean() to each element in word_lengths, to find the average word length in each line."
   ]
  },
  {
   "cell_type": "code",
   "execution_count": null,
   "metadata": {
    "collapsed": true
   },
   "outputs": [],
   "source": [
    "# Split lines into words\n",
    "words <- str_split(lines, pattern=\" \")\n",
    "\n",
    "# Number of words per line\n",
    "lapply(words, length)\n",
    "  \n",
    "# Number of characters in each word\n",
    "word_lengths <- lapply(words, str_length)\n",
    "  \n",
    "# Average word length per line\n",
    "lapply(word_lengths, mean)"
   ]
  },
  {
   "cell_type": "markdown",
   "metadata": {},
   "source": [
    "## Replacing matches in strings - Video"
   ]
  },
  {
   "cell_type": "markdown",
   "metadata": {},
   "source": [
    "### Replacing to tidy strings\n",
    "\n",
    "You've seen one common strategy to pull variables out of strings is to split the string based on a pattern. Sometimes, it's easier to just replace the parts you don't want with an empty string \"\". This is also a common strategy to clean strings up, for example, to remove unwanted punctuation or white space.\n",
    "\n",
    "In this exercise you'll pull out some numbers by replacing the part of the string that isn't a number, you'll also play with the format of some phone numbers. Pay close attention to the difference between str_replace() and str_replace_all().\n",
    "\n",
    "Instructions\n",
    " - Keep the numeric part of ids, by replacing \"ID#: \" with an empty string \"\".\n",
    " - Turn the ID strings to numbers using as.numeric(), assign the result to id_ints.\n",
    " - Use str_replace() on phone_numbers to replace the \"-\" with a space, \" \". Take a close look at the output, are there still some \"-\"s?\n",
    " - Repeat the previous task but now use str_replace_all(). Notice the difference, all the \"-\"s are replaced!\n",
    " - Reformat the phone numbers to use dots instead of dashes, i.e. in the format xxx.xxx.xxxx."
   ]
  },
  {
   "cell_type": "code",
   "execution_count": 20,
   "metadata": {
    "collapsed": false
   },
   "outputs": [
    {
     "data": {
      "text/html": [
       "<ol class=list-inline>\n",
       "\t<li>'510 555-0123'</li>\n",
       "\t<li>'541 555-0167'</li>\n",
       "</ol>\n"
      ],
      "text/latex": [
       "\\begin{enumerate*}\n",
       "\\item '510 555-0123'\n",
       "\\item '541 555-0167'\n",
       "\\end{enumerate*}\n"
      ],
      "text/markdown": [
       "1. '510 555-0123'\n",
       "2. '541 555-0167'\n",
       "\n",
       "\n"
      ],
      "text/plain": [
       "[1] \"510 555-0123\" \"541 555-0167\""
      ]
     },
     "metadata": {},
     "output_type": "display_data"
    },
    {
     "data": {
      "text/html": [
       "<ol class=list-inline>\n",
       "\t<li>'510 555 0123'</li>\n",
       "\t<li>'541 555 0167'</li>\n",
       "</ol>\n"
      ],
      "text/latex": [
       "\\begin{enumerate*}\n",
       "\\item '510 555 0123'\n",
       "\\item '541 555 0167'\n",
       "\\end{enumerate*}\n"
      ],
      "text/markdown": [
       "1. '510 555 0123'\n",
       "2. '541 555 0167'\n",
       "\n",
       "\n"
      ],
      "text/plain": [
       "[1] \"510 555 0123\" \"541 555 0167\""
      ]
     },
     "metadata": {},
     "output_type": "display_data"
    },
    {
     "data": {
      "text/html": [
       "<ol class=list-inline>\n",
       "\t<li>'510.555.0123'</li>\n",
       "\t<li>'541.555.0167'</li>\n",
       "</ol>\n"
      ],
      "text/latex": [
       "\\begin{enumerate*}\n",
       "\\item '510.555.0123'\n",
       "\\item '541.555.0167'\n",
       "\\end{enumerate*}\n"
      ],
      "text/markdown": [
       "1. '510.555.0123'\n",
       "2. '541.555.0167'\n",
       "\n",
       "\n"
      ],
      "text/plain": [
       "[1] \"510.555.0123\" \"541.555.0167\""
      ]
     },
     "metadata": {},
     "output_type": "display_data"
    }
   ],
   "source": [
    "ids <- c(\"ID#: 192\", \"ID#: 118\", \"ID#: 001\")\n",
    "\n",
    "# Replace \"ID#: \" with \"\"\n",
    "id_nums <- str_replace_all(ids, \"ID#: \", \"\")\n",
    "\n",
    "# Turn id_nums into numbers\n",
    "id_ints <- as.numeric(id_nums)\n",
    "  \n",
    "# Some (fake) phone numbers\n",
    "phone_numbers <- c(\"510-555-0123\", \"541-555-0167\")\n",
    "\n",
    "# Use str_replace() to replace \"-\" with \" \"\n",
    "str_replace(phone_numbers, \"-\", \" \")\n",
    "\n",
    "# Use str_replace_all() to replace \"-\" with \" \"\n",
    "str_replace_all(phone_numbers, \"-\", \" \")\n",
    "\n",
    "# Turn phone numbers into the format xxx.xxx.xxxx\n",
    "str_replace_all(phone_numbers, \"-\", \".\")\n"
   ]
  },
  {
   "cell_type": "markdown",
   "metadata": {},
   "source": [
    "### Review\n",
    "\n",
    "You've covered a lot of stringr functions in this chapter:\n",
    "\n",
    "`str_c()\n",
    "str_length()\n",
    "str_sub()\n",
    "str_detect()\n",
    "str_subset()\n",
    "str_count()\n",
    "str_split()\n",
    "str_replace()`\n",
    "\n",
    "As a review we've got a few tasks for you to do with some DNA sequences. We've put three sequences, corresponding to three genes, from the genome of Yersinia pestis – the bacteria that causes bubonic plague – into the vector genes.\n",
    "\n",
    "Each string represents a gene, each character a particular nucleotide: Adenine, Cytosine, Guanine or Thymine.\n",
    "\n",
    "We aren't going to tell you which function to use. It's up to you to choose the right one and specify the needed arguments. Good luck!\n",
    "\n",
    "Instructions\n",
    " - Find the number of nucleotides in each gene.\n",
    " - Find the number of A's that occur in each gene.\n",
    " - Return the sequences that contain the sequence \"TTTTTT\".\n",
    " - Replace all the As in the sequences with a _."
   ]
  },
  {
   "cell_type": "code",
   "execution_count": null,
   "metadata": {
    "collapsed": true
   },
   "outputs": [],
   "source": [
    "# Find the number of nucleotides in each sequence\n",
    "str_length(genes)\n",
    "\n",
    "# Find the number of A's occur in each sequence\n",
    "str_count(genes, pattern=fixed(\"A\"))\n",
    "\n",
    "# Return the sequences that contain \"TTTTTT\"\n",
    "str_subset(genes, pattern=fixed(\"TTTTTT\"))\n",
    "\n",
    "# Replace all the \"A\"s in the sequences with a \"_\"\n",
    "str_replace_all(genes, pattern=fixed(\"A\"), replacement = \"_\")\n"
   ]
  },
  {
   "cell_type": "markdown",
   "metadata": {},
   "source": [
    "### Final challenges\n",
    "\n",
    "You've mastered using stringr functions on their own, but by combining multiple operations together in sequence you can achieve quite complicated manipulations.\n",
    "\n",
    "As the final exercise we want to expose you to the power of combining operations. You'll complete two tasks:\n",
    "\n",
    "You'll turn a vector of full names, like \"Bruce Wayne\", into abbreviated names like \"B. Wayne\". This requires combining str_split(), str_sub() and str_c().\n",
    "\n",
    "You'll compare how many boy names end in \"ee\" compared to girl names. This requires combining str_sub() with str_detect() along with the base function table().\n",
    "\n",
    "Instructions\n",
    " - Task 1:\n",
    "\n",
    "     - Use str_split() to create a two column matrix with the first names in one column and the last names in the other. You'll be manipulating the first name before combining it back with the second name in the next few steps.\n",
    "     - Create an abbreviation of the first name, abb_first, by extracting just the first character with str_sub().\n",
    "     - Use str_c() to combine abb_first with \". \" and the last name column to finish the task!\n",
    "     \n",
    " - Task 2:\n",
    "\n",
    "     - Use str_sub() to extract the last two letters from all_names.\n",
    "     - Create a logical, ends_in_ee that identifies whether the last_two_letters are ee, using str_detect().\n",
    "     - Subset the rows of babynames_2014 using ends_in_ee and keep only the sex column. (Use the $ notation to subset the sex column.)\n",
    "     - Apply table() to the result to complete the task!"
   ]
  },
  {
   "cell_type": "code",
   "execution_count": null,
   "metadata": {
    "collapsed": true
   },
   "outputs": [],
   "source": [
    "# --- Task 1 ----\n",
    "# Define some full names\n",
    "names <- c(\"Diana Prince\", \"Clark Kent\")\n",
    "\n",
    "# Split into first and last names\n",
    "names_split <- str_split(names, pattern=\" \", simplify=TRUE, n=2)\n",
    "\n",
    "# Extract the first letter in the first name\n",
    "abb_first <- str_sub(names_split[,1],1,1)\n",
    "\n",
    "# Combine the first letter \". \" and last name\n",
    "str_c(abb_first, \". \", names_split[,2])\n",
    "\n",
    "# --- Task 2 ----\n",
    "# Use all names in babynames_2014\n",
    "all_names <- babynames_2014$name\n",
    "\n",
    "# Get the last two letters of all_names\n",
    "last_two_letters <- str_sub(all_names, -2,-1)\n",
    "\n",
    "# Does the name end in \"ee\"?\n",
    "ends_in_ee <- str_detect(last_two_letters, \"ee\")\n",
    "\n",
    "# Extract rows and \"sex\" column\n",
    "sex <- babynames_2014[ends_in_ee,]$sex\n",
    "\n",
    "# Display result as a table\n",
    "table(sex)\n"
   ]
  },
  {
   "cell_type": "code",
   "execution_count": null,
   "metadata": {
    "collapsed": true
   },
   "outputs": [],
   "source": []
  }
 ],
 "metadata": {
  "anaconda-cloud": {},
  "kernelspec": {
   "display_name": "R",
   "language": "R",
   "name": "ir"
  },
  "language_info": {
   "codemirror_mode": "r",
   "file_extension": ".r",
   "mimetype": "text/x-r-source",
   "name": "R",
   "pygments_lexer": "r",
   "version": "3.3.2"
  }
 },
 "nbformat": 4,
 "nbformat_minor": 1
}
