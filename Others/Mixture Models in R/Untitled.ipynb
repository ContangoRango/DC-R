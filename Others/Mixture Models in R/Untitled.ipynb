{
 "cells": [
  {
   "cell_type": "markdown",
   "metadata": {},
   "source": [
    "# Course Description\n",
    "\n",
    "`Mixture modeling` is a way of representing populations when we are interested in their `heterogeneity`. \n",
    "Mixture models use familiar probability distributions (e.g. Gaussian, Poisson, Binomial) to provide a convenient yet formal statistical framework for clustering and classification. Unlike standard clustering approaches, we can estimate the probability of belonging to a cluster and make inference about the sub-populations. For example, in the context of marketing, you may want to cluster different customer groups and find their respective probabilities of purchasing specific products to better target them with custom promotions. When applying natural language processing to a large set of documents, you may want to cluster documents into different topics and understand how important each topic is across each document. In this course, you will learn what Mixture Models are, how they are estimated, and when it is appropriate to apply them!"
   ]
  },
  {
   "cell_type": "markdown",
   "metadata": {},
   "source": [
    "Víctor Medina\n",
    "\n",
    "Researcher at the Superintendency of Banks and Financial Institutions\n",
    "\n",
    "Victor is a doctoral researcher at the University of Edinburgh. With a background in Finance, he has worked researching and developing predictive risk models and mathematical tools for the Chilean Financial System. With a passion for teaching, he was a professor of Econometrics at the Universidad de Chile and works with the School of Political Sciences at Universidad Central to create applications to extract and analyze data from social media. Victor holds a Master of Science in Statistics and R is his second language"
   ]
  },
  {
   "cell_type": "code",
   "execution_count": 14,
   "metadata": {},
   "outputs": [],
   "source": [
    "# This sets plot images to a nice size.\n",
    "options(repr.plot.width = 4, repr.plot.height = 4)\n",
    "\n",
    "# Loading in the ggplot2 package\n",
    "library(ggplot2)\n",
    "library(dplyr)"
   ]
  },
  {
   "cell_type": "markdown",
   "metadata": {},
   "source": [
    "# 1. Introduction to Mixture Models "
   ]
  },
  {
   "cell_type": "markdown",
   "metadata": {},
   "source": [
    "## Introduction to model-based clustering - Video"
   ]
  },
  {
   "cell_type": "markdown",
   "metadata": {},
   "source": [
    "In this chapter, you will be introduced to fundamental concepts in model-based clustering and how this approach differs from other clustering techniques. You will learn the generating process of Gaussian Mixture Models as well as how to visualize the clusters."
   ]
  },
  {
   "cell_type": "markdown",
   "metadata": {},
   "source": [
    "### Clustering approaches\n",
    "Remember that clustering is the procedure of partitioning a collection of observations into a set of meaningful subclasses. But there are many approaches to perform clustering and the choice will depend on the problem. Which of the following statements is FALSE?\n",
    "\n",
    "ANSWER THE QUESTION\n",
    "Possible Answers\n",
    "  1. Kmeans identifies the centers of the clusters and assigns each observation to the closest one.\n",
    "  2. Mixture models are built under a probabilistic framework, which means they can provide a level of certainty of belonging to a cluster.\n",
    "  3. Hierarchical techniques give us the number of optimal clusters. (Correct)\n"
   ]
  },
  {
   "cell_type": "markdown",
   "metadata": {},
   "source": [
    "Exactly! In fact, The name refers to the type of structure where the lowest level corresponds to a cluster by each observation, and the highest, to a single big cluster."
   ]
  },
  {
   "cell_type": "code",
   "execution_count": 3,
   "metadata": {},
   "outputs": [],
   "source": [
    "#write.csv(gender_with_probs, \"gender_with_probs.csv\", row.names=FALSE)"
   ]
  },
  {
   "cell_type": "markdown",
   "metadata": {},
   "source": [
    "### Explore gender data\n",
    "The data `gender` contains the `Weight`, the `Height` and the `BMI` indices of 10,000 people. The original data has a `Gender` label for 5,000 people that identify themselves as females and the other 5,000 as males. The labels will be useful later for testing how well the clustering performs against the real labels. However, in this subset of the dataset, the labels are not provided.\n",
    "\n",
    "The data `gender_with_probs` also contains the probabilities of each data point belonging to a cluster. Since we are interested in two clusters, probabilities near 1 refer to one cluster and near 0 to the other.\n",
    "\n",
    "The aim of this exercise is to have a glance at how a typical clustering dataset looks like before and after clustering.\n",
    "\n",
    "INSTRUCTIONS\n",
    "100 XP\n",
    " - Use the function head to look at the first 6 observations of gender.\n",
    " - Use the function head to look at the first 6 observations of gender_with_probs.\n",
    " - Make a scatterplot with Weight in the x-axis and BMI in the y-axis. Colour the dots by their probability."
   ]
  },
  {
   "cell_type": "code",
   "execution_count": 12,
   "metadata": {},
   "outputs": [],
   "source": [
    "#Load Data\n",
    "gender = read.csv(\"gender.csv\")\n",
    "gender_with_probs = read.csv(\"gender_with_probs.csv\")"
   ]
  },
  {
   "cell_type": "code",
   "execution_count": 15,
   "metadata": {},
   "outputs": [
    {
     "data": {
      "text/html": [
       "<table>\n",
       "<thead><tr><th scope=col>Gender</th><th scope=col>Height</th><th scope=col>Weight</th><th scope=col>BMI</th><th scope=col>probability</th></tr></thead>\n",
       "<tbody>\n",
       "\t<tr><td>Male        </td><td>73.84702    </td><td>241.8936    </td><td>0.04435662  </td><td>5.778312e-06</td></tr>\n",
       "\t<tr><td>Male        </td><td>68.78190    </td><td>162.3105    </td><td>0.03430822  </td><td>6.059525e-01</td></tr>\n",
       "\t<tr><td>Male        </td><td>74.11011    </td><td>212.7409    </td><td>0.03873433  </td><td>2.625952e-05</td></tr>\n",
       "\t<tr><td>Male        </td><td>71.73098    </td><td>220.0425    </td><td>0.04276545  </td><td>3.628734e-04</td></tr>\n",
       "\t<tr><td>Male        </td><td>69.88180    </td><td>206.3498    </td><td>0.04225479  </td><td>4.611901e-03</td></tr>\n",
       "\t<tr><td>Male        </td><td>67.25302    </td><td>152.2122    </td><td>0.03365316  </td><td>9.110687e-01</td></tr>\n",
       "</tbody>\n",
       "</table>\n"
      ],
      "text/latex": [
       "\\begin{tabular}{r|lllll}\n",
       " Gender & Height & Weight & BMI & probability\\\\\n",
       "\\hline\n",
       "\t Male         & 73.84702     & 241.8936     & 0.04435662   & 5.778312e-06\\\\\n",
       "\t Male         & 68.78190     & 162.3105     & 0.03430822   & 6.059525e-01\\\\\n",
       "\t Male         & 74.11011     & 212.7409     & 0.03873433   & 2.625952e-05\\\\\n",
       "\t Male         & 71.73098     & 220.0425     & 0.04276545   & 3.628734e-04\\\\\n",
       "\t Male         & 69.88180     & 206.3498     & 0.04225479   & 4.611901e-03\\\\\n",
       "\t Male         & 67.25302     & 152.2122     & 0.03365316   & 9.110687e-01\\\\\n",
       "\\end{tabular}\n"
      ],
      "text/markdown": [
       "\n",
       "Gender | Height | Weight | BMI | probability | \n",
       "|---|---|---|---|---|---|\n",
       "| Male         | 73.84702     | 241.8936     | 0.04435662   | 5.778312e-06 | \n",
       "| Male         | 68.78190     | 162.3105     | 0.03430822   | 6.059525e-01 | \n",
       "| Male         | 74.11011     | 212.7409     | 0.03873433   | 2.625952e-05 | \n",
       "| Male         | 71.73098     | 220.0425     | 0.04276545   | 3.628734e-04 | \n",
       "| Male         | 69.88180     | 206.3498     | 0.04225479   | 4.611901e-03 | \n",
       "| Male         | 67.25302     | 152.2122     | 0.03365316   | 9.110687e-01 | \n",
       "\n",
       "\n"
      ],
      "text/plain": [
       "  Gender Height   Weight   BMI        probability \n",
       "1 Male   73.84702 241.8936 0.04435662 5.778312e-06\n",
       "2 Male   68.78190 162.3105 0.03430822 6.059525e-01\n",
       "3 Male   74.11011 212.7409 0.03873433 2.625952e-05\n",
       "4 Male   71.73098 220.0425 0.04276545 3.628734e-04\n",
       "5 Male   69.88180 206.3498 0.04225479 4.611901e-03\n",
       "6 Male   67.25302 152.2122 0.03365316 9.110687e-01"
      ]
     },
     "metadata": {},
     "output_type": "display_data"
    },
    {
     "data": {
      "text/html": [
       "<table>\n",
       "<thead><tr><th scope=col>Height</th><th scope=col>Weight</th><th scope=col>BMI</th><th scope=col>probability</th></tr></thead>\n",
       "<tbody>\n",
       "\t<tr><td>73.84702    </td><td>241.8936    </td><td>31.18576    </td><td>5.099970e-06</td></tr>\n",
       "\t<tr><td>68.78190    </td><td>162.3105    </td><td>24.12104    </td><td>5.982902e-01</td></tr>\n",
       "\t<tr><td>74.11011    </td><td>212.7409    </td><td>27.23291    </td><td>2.456882e-05</td></tr>\n",
       "\t<tr><td>71.73098    </td><td>220.0425    </td><td>30.06706    </td><td>3.355429e-04</td></tr>\n",
       "\t<tr><td>69.88180    </td><td>206.3498    </td><td>29.70803    </td><td>4.353371e-03</td></tr>\n",
       "\t<tr><td>67.25302    </td><td>152.2122    </td><td>23.66049    </td><td>9.082633e-01</td></tr>\n",
       "</tbody>\n",
       "</table>\n"
      ],
      "text/latex": [
       "\\begin{tabular}{r|llll}\n",
       " Height & Weight & BMI & probability\\\\\n",
       "\\hline\n",
       "\t 73.84702     & 241.8936     & 31.18576     & 5.099970e-06\\\\\n",
       "\t 68.78190     & 162.3105     & 24.12104     & 5.982902e-01\\\\\n",
       "\t 74.11011     & 212.7409     & 27.23291     & 2.456882e-05\\\\\n",
       "\t 71.73098     & 220.0425     & 30.06706     & 3.355429e-04\\\\\n",
       "\t 69.88180     & 206.3498     & 29.70803     & 4.353371e-03\\\\\n",
       "\t 67.25302     & 152.2122     & 23.66049     & 9.082633e-01\\\\\n",
       "\\end{tabular}\n"
      ],
      "text/markdown": [
       "\n",
       "Height | Weight | BMI | probability | \n",
       "|---|---|---|---|---|---|\n",
       "| 73.84702     | 241.8936     | 31.18576     | 5.099970e-06 | \n",
       "| 68.78190     | 162.3105     | 24.12104     | 5.982902e-01 | \n",
       "| 74.11011     | 212.7409     | 27.23291     | 2.456882e-05 | \n",
       "| 71.73098     | 220.0425     | 30.06706     | 3.355429e-04 | \n",
       "| 69.88180     | 206.3498     | 29.70803     | 4.353371e-03 | \n",
       "| 67.25302     | 152.2122     | 23.66049     | 9.082633e-01 | \n",
       "\n",
       "\n"
      ],
      "text/plain": [
       "  Height   Weight   BMI      probability \n",
       "1 73.84702 241.8936 31.18576 5.099970e-06\n",
       "2 68.78190 162.3105 24.12104 5.982902e-01\n",
       "3 74.11011 212.7409 27.23291 2.456882e-05\n",
       "4 71.73098 220.0425 30.06706 3.355429e-04\n",
       "5 69.88180 206.3498 29.70803 4.353371e-03\n",
       "6 67.25302 152.2122 23.66049 9.082633e-01"
      ]
     },
     "metadata": {},
     "output_type": "display_data"
    },
    {
     "data": {},
     "metadata": {},
     "output_type": "display_data"
    },
    {
     "data": {
      "image/png": "[encoded data removed]",
      "text/plain": [
       "plot without title"
      ]
     },
     "metadata": {},
     "output_type": "display_data"
    }
   ],
   "source": [
    "# Have a look to gender (before clustering)\n",
    "head(gender)\n",
    "\n",
    "# Have a look to gender_with_probs (after clustering)\n",
    "head(gender_with_probs)\n",
    "\n",
    "# Scatterplot with probabilities\n",
    "gender_with_probs %>% \n",
    "  ggplot(aes(x = Weight, y = BMI, col = probability))+\n",
    "  geom_point(alpha = 0.5)"
   ]
  },
  {
   "cell_type": "markdown",
   "metadata": {},
   "source": [
    "Excellent! Did you notice how the probabilities reflect the uncertainty in the middle?"
   ]
  },
  {
   "cell_type": "markdown",
   "metadata": {},
   "source": [
    "## Gaussian distribution - Video 2"
   ]
  },
  {
   "cell_type": "markdown",
   "metadata": {},
   "source": [
    "### Sampling a Gaussian distribution\n",
    "When we face a problem where we are provided with samples from probability distributions and we want to recover their parameters, we need to estimate them. When the samples come from only one distribution, the estimation is usually straightforward.\n",
    "\n",
    "Gaussian distributions are really useful in understanding the main properties of probability distributions. In this exercise, you will learn (1) how to create a sample from this distribution, (2) how to estimate its parameters if you were only provided with the data and (3) how to visualize the estimated distribution.\n",
    "\n",
    "#### INSTRUCTIONS 1/3\n",
    "1. Simulate 500 samples from a Gaussian distribution with a mean of 5 and a standard deviation of 4 using the function rnorm(). Save the results into the object simulation.\n",
    "Check the first six values with head()\n"
   ]
  },
  {
   "cell_type": "code",
   "execution_count": 17,
   "metadata": {},
   "outputs": [
    {
     "data": {
      "text/html": [
       "<ol class=list-inline>\n",
       "\t<li>9.7574233750059</li>\n",
       "\t<li>7.20553913637337</li>\n",
       "\t<li>6.41453709895235</li>\n",
       "\t<li>2.18411710794732</li>\n",
       "\t<li>5.47370220901892</li>\n",
       "\t<li>3.30523863148371</li>\n",
       "</ol>\n"
      ],
      "text/latex": [
       "\\begin{enumerate*}\n",
       "\\item 9.7574233750059\n",
       "\\item 7.20553913637337\n",
       "\\item 6.41453709895235\n",
       "\\item 2.18411710794732\n",
       "\\item 5.47370220901892\n",
       "\\item 3.30523863148371\n",
       "\\end{enumerate*}\n"
      ],
      "text/markdown": [
       "1. 9.7574233750059\n",
       "2. 7.20553913637337\n",
       "3. 6.41453709895235\n",
       "4. 2.18411710794732\n",
       "5. 5.47370220901892\n",
       "6. 3.30523863148371\n",
       "\n",
       "\n"
      ],
      "text/plain": [
       "[1] 9.757423 7.205539 6.414537 2.184117 5.473702 3.305239"
      ]
     },
     "metadata": {},
     "output_type": "display_data"
    }
   ],
   "source": [
    "# Set seed\n",
    "set.seed(1313)\n",
    "\n",
    "# Simulate a Gaussian distribution\n",
    "simulation <- rnorm(n = 500, mean = 5, sd = 4)\n",
    "\n",
    "# Check first six values\n",
    "head(simulation)"
   ]
  },
  {
   "cell_type": "markdown",
   "metadata": {},
   "source": [
    "#### INSTRUCTIONS 2/3\n",
    "\n",
    "Create `mean_estimate` and `standard_deviation_estimate` which correspond to the estimates for the mean and standard deviation of `simulation`, respectively.\n"
   ]
  },
  {
   "cell_type": "code",
   "execution_count": 18,
   "metadata": {},
   "outputs": [
    {
     "data": {
      "text/html": [
       "4.96619730322411"
      ],
      "text/latex": [
       "4.96619730322411"
      ],
      "text/markdown": [
       "4.96619730322411"
      ],
      "text/plain": [
       "[1] 4.966197"
      ]
     },
     "metadata": {},
     "output_type": "display_data"
    },
    {
     "data": {
      "text/html": [
       "3.87619422970933"
      ],
      "text/latex": [
       "3.87619422970933"
      ],
      "text/markdown": [
       "3.87619422970933"
      ],
      "text/plain": [
       "[1] 3.876194"
      ]
     },
     "metadata": {},
     "output_type": "display_data"
    }
   ],
   "source": [
    "# Estimation of the mean\n",
    "mean_estimate <- mean(simulation)\n",
    "mean_estimate\n",
    "\n",
    "# Estimation of the standard deviation\n",
    "standard_deviation_estimate <- sd(simulation)\n",
    "standard_deviation_estimate"
   ]
  },
  {
   "cell_type": "markdown",
   "metadata": {},
   "source": [
    "#### INSTRUCTIONS 3/3\n",
    "Transform the `simulation` object to a data frame using the function `data.frame` and name the variable as x.\n",
    "Then plot the histogram and the curve given by the estimates."
   ]
  },
  {
   "cell_type": "code",
   "execution_count": 19,
   "metadata": {},
   "outputs": [
    {
     "name": "stderr",
     "output_type": "stream",
     "text": [
      "`stat_bin()` using `bins = 30`. Pick better value with `binwidth`.\n"
     ]
    },
    {
     "data": {},
     "metadata": {},
     "output_type": "display_data"
    },
    {
     "data": {
      "image/png": "[encoded data removed]",
      "text/plain": [
       "plot without title"
      ]
     },
     "metadata": {},
     "output_type": "display_data"
    }
   ],
   "source": [
    "# Transform the results to a data frame\n",
    "simulation <- data.frame(x = simulation)\n",
    "\n",
    "# Plot the sample with the estimated curve\n",
    "ggplot(simulation) + geom_histogram(aes(x = x, y = ..density..)) + \n",
    "  stat_function(geom = \"line\", fun = dnorm,\n",
    "                args = list(mean = mean_estimate, \n",
    "                sd = standard_deviation_estimate))"
   ]
  },
  {
   "cell_type": "markdown",
   "metadata": {},
   "source": [
    "Good work! The normal or Gaussian distribution is just one of the many distributions implemented in R. You can type `?Distributions` to check the others."
   ]
  },
  {
   "cell_type": "markdown",
   "metadata": {},
   "source": [
    "### (not so good) Estimations of the mean and sd\n",
    "Using the data gender again and assuming that the variable Weight follows a Gaussian distribution, we can estimate the mean and the standard deviation following the previous estimation procedure. The idea is to realize that this procedure does not always work because the data can be formed by more than one distribution.\n",
    "\n",
    "#### INSTRUCTIONS 1/2\n",
    "\n",
    " - Estimate the mean of Weight and save the result into the object mean_estimate. To pull out the variable, you can use the dplyr function pull.\n",
    " - Estimate the standard deviation of Weight and save the result in sd_estimate."
   ]
  },
  {
   "cell_type": "code",
   "execution_count": 20,
   "metadata": {},
   "outputs": [
    {
     "data": {
      "text/html": [
       "161.440356832831"
      ],
      "text/latex": [
       "161.440356832831"
      ],
      "text/markdown": [
       "161.440356832831"
      ],
      "text/plain": [
       "[1] 161.4404"
      ]
     },
     "metadata": {},
     "output_type": "display_data"
    },
    {
     "data": {
      "text/html": [
       "32.1084390065196"
      ],
      "text/latex": [
       "32.1084390065196"
      ],
      "text/markdown": [
       "32.1084390065196"
      ],
      "text/plain": [
       "[1] 32.10844"
      ]
     },
     "metadata": {},
     "output_type": "display_data"
    }
   ],
   "source": [
    "# Estimation of the mean\n",
    "mean_estimate <- gender %>% \n",
    "  pull(Weight) %>% \n",
    "  mean()\n",
    "mean_estimate\n",
    "# Estimation of the standard deviation\n",
    "sd_estimate <- gender %>% \n",
    "  pull(Weight) %>% \n",
    "  sd()\n",
    "sd_estimate"
   ]
  },
  {
   "cell_type": "markdown",
   "metadata": {},
   "source": [
    "#### INSTRUCTIONS 2/2\n",
    "\n",
    "Plot the density histogram of `Weight`, adding the estimated curve with the function `stat_function`. Remember that you have stored the mean and the standard deviation into mean_estimate and sd_estimate, respectively."
   ]
  },
  {
   "cell_type": "code",
   "execution_count": 21,
   "metadata": {},
   "outputs": [
    {
     "data": {},
     "metadata": {},
     "output_type": "display_data"
    },
    {
     "data": {
      "image/png": "[encoded data removed]",
      "text/plain": [
       "plot without title"
      ]
     },
     "metadata": {},
     "output_type": "display_data"
    }
   ],
   "source": [
    "# Plot the sample with the estimated curve\n",
    "gender %>% \n",
    "  ggplot() + geom_histogram(aes(x = Weight, y = ..density..), bins = 100) + \n",
    "  stat_function(geom = \"line\", fun = dnorm,\n",
    "                args = list(mean = mean_estimate, sd = sd_estimate))"
   ]
  },
  {
   "cell_type": "markdown",
   "metadata": {},
   "source": [
    "Excellent work! It appears to be two different Gaussian distributions, but we are treating them as one!"
   ]
  },
  {
   "cell_type": "markdown",
   "metadata": {},
   "source": [
    "### Gaussian mixture models (GMM) - Video 3"
   ]
  },
  {
   "cell_type": "markdown",
   "metadata": {},
   "source": [
    "### Simulate a mixture of two Gaussian distributions\n",
    "Mixture models can be very difficult to understand, so let's start by simulating a simple mixture model, and then we will advance from there. In this exercise, you will create a Gaussian Mixture Model with two components.\n",
    "\n",
    "INSTRUCTIONS\n",
    "100 XP\n",
    " - Simulate 500 samples from a binary variable using `sample()` with a probability of 0.8 for the value 1 and save the results into the object coin.\n",
    " - Then, create a vector `mixture` which samples from two different Gaussian distributions depending on the values of `coin` in the following way:\n",
    "     - When the values of coin are 1, sample from a normal distribution with a mean of 5 and sd of 2.\n",
    "     - Otherwise, sample from a standard normal distribution."
   ]
  },
  {
   "cell_type": "code",
   "execution_count": 23,
   "metadata": {},
   "outputs": [
    {
     "data": {
      "text/html": [
       "<ol class=list-inline>\n",
       "\t<li>3.22489168539618</li>\n",
       "\t<li>5.54556564371044</li>\n",
       "\t<li>4.46684708987717</li>\n",
       "\t<li>4.93015606916246</li>\n",
       "\t<li>3.91700451119609</li>\n",
       "\t<li>1.68727424812139</li>\n",
       "</ol>\n"
      ],
      "text/latex": [
       "\\begin{enumerate*}\n",
       "\\item 3.22489168539618\n",
       "\\item 5.54556564371044\n",
       "\\item 4.46684708987717\n",
       "\\item 4.93015606916246\n",
       "\\item 3.91700451119609\n",
       "\\item 1.68727424812139\n",
       "\\end{enumerate*}\n"
      ],
      "text/markdown": [
       "1. 3.22489168539618\n",
       "2. 5.54556564371044\n",
       "3. 4.46684708987717\n",
       "4. 4.93015606916246\n",
       "5. 3.91700451119609\n",
       "6. 1.68727424812139\n",
       "\n",
       "\n"
      ],
      "text/plain": [
       "[1] 3.224892 5.545566 4.466847 4.930156 3.917005 1.687274"
      ]
     },
     "metadata": {},
     "output_type": "display_data"
    }
   ],
   "source": [
    "# Create coin object\n",
    "coin <- sample(c(0,1), size = 500, \n",
    "               replace = TRUE, prob = c(0.2, 0.8))\n",
    "\n",
    "# Sample from two different Gaussian distributions\n",
    "mixture <- ifelse(coin == 1, rnorm(n = 500, mean = 5, sd = 2), \n",
    "                  rnorm(n = 500))\n",
    "\n",
    "# Check the first elements\n",
    "head(mixture)"
   ]
  },
  {
   "cell_type": "markdown",
   "metadata": {},
   "source": [
    "Good job! Let's plot the simulated mixture to visualize the two distributions."
   ]
  },
  {
   "cell_type": "markdown",
   "metadata": {},
   "source": [
    "### Plot histogram of Gaussian Mixture\n",
    "We can use histograms to get a general overview of the distribution of a mixture model. From a histogram, we may be able to infer how many components it might have and if the distributional assumptions are suitable.\n",
    "\n",
    "INSTRUCTIONS\n",
    "\n",
    " - Using `ggplot()`, create the histogram for the simulated data `mixture`. To do so, first, transform the `mixture` into a data frame that has a variable x.\n",
    " - Then, using the function `geom_histogram()`, specify that the y axis should be the density and the number of bins is 50."
   ]
  },
  {
   "cell_type": "code",
   "execution_count": 24,
   "metadata": {},
   "outputs": [
    {
     "data": {},
     "metadata": {},
     "output_type": "display_data"
    },
    {
     "data": {
      "image/png": "[encoded data removed]",
      "text/plain": [
       "plot without title"
      ]
     },
     "metadata": {},
     "output_type": "display_data"
    }
   ],
   "source": [
    "# Transform into a data frame\n",
    "mixture <- data.frame(x = mixture)\n",
    "\n",
    "# Create histogram especifiying that is a density plot\n",
    "mixture %>% \n",
    "  ggplot() + geom_histogram(aes(x = x, y = ..density..), bins = 50)"
   ]
  },
  {
   "cell_type": "markdown",
   "metadata": {},
   "source": [
    "Great job! Can you notice both distributions? One is around 0 and the other around 5."
   ]
  },
  {
   "cell_type": "markdown",
   "metadata": {},
   "source": [
    "### Mixture of three Gaussian distributions\n",
    "What will change if we incorporate another distribution into our simulation? You will see that increasing the number of components will spread the mass density to include the extra distribution, but the logic still follows from the previous exercise.\n",
    "\n",
    "INSTRUCTIONS\n",
    "100 XP\n",
    " - Create `assignments`, which takes the values 0, 1 and 2 with a probability of 0.3, 0.4 and 0.3, respectively.\n",
    " - The data frame `mixture` samples from a Gaussian with a `mean` of 5 and `sd`of 2, when `assignments` is 1. If `assignments` is 2, the `mean` is 10 and sd is 1. Otherwise, is a standard normal distribution.\n",
    " - Plot the histogram with 50 bins."
   ]
  },
  {
   "cell_type": "code",
   "execution_count": 25,
   "metadata": {},
   "outputs": [
    {
     "data": {},
     "metadata": {},
     "output_type": "display_data"
    },
    {
     "data": {
      "image/png": "[encoded data removed]",
      "text/plain": [
       "plot without title"
      ]
     },
     "metadata": {},
     "output_type": "display_data"
    }
   ],
   "source": [
    "number_observations <- 1000\n",
    "\n",
    "# Create the assignment object\n",
    "assignments <- sample(\n",
    "\tc(0,1,2), size = number_observations, replace = TRUE, prob = c(0.3, 0.4, 0.3)\n",
    ")\n",
    "\n",
    "# Simulate the GMM with 3 distributions\n",
    "mixture <- data.frame(\n",
    "\tx = ifelse(assignments == 1, rnorm(n = number_observations, mean = 5, sd = 2), ifelse(assignments == 2, rnorm(n = number_observations, mean = 10, sd = 1), rnorm(n = number_observations)))\n",
    ")\n",
    "\n",
    "# Plot the mixture\n",
    "mixture %>% \n",
    "  ggplot() + geom_histogram(aes(x = x, y = ..density..), bins = 50)"
   ]
  },
  {
   "cell_type": "markdown",
   "metadata": {},
   "source": [
    "Excellent job! You now know how to simulate samples from Gaussian distributions and create Gaussian mixture models. Let's now generalize the concept of mixture models."
   ]
  },
  {
   "cell_type": "markdown",
   "metadata": {},
   "source": [
    "# 2. Structure of Mixture Models and Parameters Estimation"
   ]
  },
  {
   "cell_type": "code",
   "execution_count": null,
   "metadata": {},
   "outputs": [],
   "source": []
  }
 ],
 "metadata": {
  "kernelspec": {
   "display_name": "R",
   "language": "R",
   "name": "ir"
  },
  "language_info": {
   "codemirror_mode": "r",
   "file_extension": ".r",
   "mimetype": "text/x-r-source",
   "name": "R",
   "pygments_lexer": "r",
   "version": "3.4.3"
  }
 },
 "nbformat": 4,
 "nbformat_minor": 2
}
