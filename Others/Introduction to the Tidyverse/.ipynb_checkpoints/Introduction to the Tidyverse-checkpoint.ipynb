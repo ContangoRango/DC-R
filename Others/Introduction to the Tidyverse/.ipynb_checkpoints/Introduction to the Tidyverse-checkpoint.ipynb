{
 "cells": [
  {
   "cell_type": "code",
   "execution_count": null,
   "metadata": {
    "collapsed": true
   },
   "outputs": [],
   "source": [
    "Main Graphs\n",
    "- Scatter Plot\n",
    "- Faceting\n",
    "- Line Plot\n",
    "- Bar Plot\n",
    "- Histogram\n",
    "- BoxPlot"
   ]
  },
  {
   "cell_type": "markdown",
   "metadata": {},
   "source": [
    "# Course Description\n",
    "This is an introduction to the programming language R, focused on a powerful set of tools known as the \"tidyverse\". In the course you'll learn the intertwined processes of data manipulation and visualization through the tools dplyr and ggplot2. You'll learn to manipulate data by filtering, sorting and summarizing a real dataset of historical country data in order to answer exploratory questions. You'll then learn to turn this processed data into informative line plots, bar plots, histograms, and more with the ggplot2 package. This gives a taste both of the value of exploratory data analysis and the power of tidyverse tools. This is a suitable introduction for people who have no previous experience in R and are interested in learning to perform data analysis."
   ]
  },
  {
   "cell_type": "markdown",
   "metadata": {},
   "source": [
    "1. Data wrangling\n",
    "2. Data visualization\n",
    "3. Grouping and summarizing\n",
    "4. Types of visualizations"
   ]
  },
  {
   "cell_type": "code",
   "execution_count": 10,
   "metadata": {
    "collapsed": true
   },
   "outputs": [],
   "source": [
    "# This sets plot images to a nice size.\n",
    "options(repr.plot.width = 4, repr.plot.height = 4)\n",
    "\n",
    "# Loading in the ggplot2 package\n",
    "library(ggplot2)"
   ]
  },
  {
   "cell_type": "markdown",
   "metadata": {},
   "source": [
    "# 1. Data wrangling\n",
    "\n",
    "In this chapter, you'll learn to do three things with a table: filter for particular observations, arrange the observations in a desired order, and mutate to add or change a column. You'll see how each of these steps lets you answer questions about your data."
   ]
  },
  {
   "cell_type": "markdown",
   "metadata": {},
   "source": [
    "## The gapminder dataset - Video"
   ]
  },
  {
   "cell_type": "markdown",
   "metadata": {},
   "source": [
    "### Loading the gapminder and dplyr packages\n",
    "Before you can work with the gapminder dataset, you'll need to load two R packages that contain the tools for working with it, then display the gapminder dataset so that you can see what it contains.\n",
    "\n",
    "To your right, you'll see two windows inside which you can enter code: The script.R window, and the R Console. All of your code to solve each exercise must go inside script.R.\n",
    "\n",
    "If you hit Submit Answer, your R script is executed and the output is shown in the R Console. DataCamp checks whether your submission is correct and gives you feedback. You can hit Submit Answer as often as you want. If you're stuck, you can ask for a hint or a solution.\n",
    "\n",
    "You can use the R Console interactively by simply typing R code and hitting Enter. When you work in the console directly, your code will not be checked for correctness so it is a great way to experiment and explore.\n",
    "\n",
    "INSTRUCTIONS\n",
    " - Use the library() function to load the dplyr package, just like we've loaded the gapminder package for you.\n",
    " - Type gapminder, on its own line, to look at the gapminder dataset."
   ]
  },
  {
   "cell_type": "code",
   "execution_count": 3,
   "metadata": {
    "collapsed": false
   },
   "outputs": [],
   "source": [
    "# Load the gapminder package\n",
    "library(gapminder)\n",
    "\n",
    "# Load the dplyr package\n",
    "library(dplyr)\n",
    "\n",
    "# Look at the gapminder dataset\n",
    "gapminder"
   ]
  },
  {
   "cell_type": "markdown",
   "metadata": {},
   "source": [
    "### Understanding a data frame\n",
    "Now that you've loaded the gapminder dataset, you can start examining and understanding it.\n",
    "\n",
    "We've already loaded the gapminder and dplyr packages. Type gapminder in your R terminal, to the lower right, to display the object.\n",
    "\n",
    "How many observations (rows) are in the dataset?"
   ]
  },
  {
   "cell_type": "code",
   "execution_count": 4,
   "metadata": {
    "collapsed": false
   },
   "outputs": [
    {
     "data": {
      "text/html": [
       "<ol class=list-inline>\n",
       "\t<li>1704</li>\n",
       "\t<li>6</li>\n",
       "</ol>\n"
      ],
      "text/latex": [
       "\\begin{enumerate*}\n",
       "\\item 1704\n",
       "\\item 6\n",
       "\\end{enumerate*}\n"
      ],
      "text/markdown": [
       "1. 1704\n",
       "2. 6\n",
       "\n",
       "\n"
      ],
      "text/plain": [
       "[1] 1704    6"
      ]
     },
     "metadata": {},
     "output_type": "display_data"
    }
   ],
   "source": [
    "dim(gapminder)"
   ]
  },
  {
   "cell_type": "markdown",
   "metadata": {},
   "source": [
    "## The filter verb - Video"
   ]
  },
  {
   "cell_type": "markdown",
   "metadata": {},
   "source": [
    "### Filtering for one year\n",
    "The filter verb extracts particular observations based on a condition. In this exercise you'll filter for observations from a particular year.\n",
    "\n",
    "INSTRUCTIONS\n",
    "\n",
    "- Add a filter() line after the pipe (%>%) to extract only the observations from the year 1957. Remember that you use == to compare two values."
   ]
  },
  {
   "cell_type": "code",
   "execution_count": null,
   "metadata": {
    "collapsed": true
   },
   "outputs": [],
   "source": [
    "library(gapminder)\n",
    "library(dplyr)\n",
    "\n",
    "# Filter the gapminder dataset for the year 1957\n",
    "gapminder %>% filter(year==1957)"
   ]
  },
  {
   "cell_type": "markdown",
   "metadata": {},
   "source": [
    "### Filtering for one country and one year\n",
    "You can also use the filter() verb to set two conditions, which could retrieve a single observation.\n",
    "\n",
    "Just like in the last exercise, you can do this in two lines of code, starting with gapminder %>% and having the filter() on the second line. Keeping one verb on each line helps keep the code readable. Note that each time, you'll put the pipe %>% at the end of the first line (like gapminder %>%); putting the pipe at the beginning of the second line will throw an error.\n",
    "\n",
    "INSTRUCTIONS\n",
    "\n",
    "- Filter the gapminder data to retrieve only the observation from China in the year 2002."
   ]
  },
  {
   "cell_type": "code",
   "execution_count": null,
   "metadata": {
    "collapsed": true
   },
   "outputs": [],
   "source": [
    "library(gapminder)\n",
    "library(dplyr)\n",
    "\n",
    "# Filter for China in 2002\n",
    "gapminder %>% \n",
    "filter(country == \"China\", year == 2002)"
   ]
  },
  {
   "cell_type": "markdown",
   "metadata": {},
   "source": [
    "## The arrange verb - Video"
   ]
  },
  {
   "cell_type": "markdown",
   "metadata": {},
   "source": [
    "## Arranging observations by life expectancy\n",
    "You use arrange() to sort observations in ascending or descending order of a particular variable. In this case, you'll sort the dataset based on the lifeExp variable.\n",
    "\n",
    "INSTRUCTIONS\n",
    "\n",
    "  - Sort the gapminder dataset in ascending order of life expectancy (lifeExp).\n",
    "  - Sort the gapminder dataset in descending order of life expectancy."
   ]
  },
  {
   "cell_type": "code",
   "execution_count": null,
   "metadata": {
    "collapsed": false
   },
   "outputs": [],
   "source": [
    "library(gapminder)\n",
    "library(dplyr)\n",
    "\n",
    "# Sort in ascending order of lifeExp\n",
    "gapminder %>%\n",
    "arrange(lifeExp)\n",
    "  \n",
    "# Sort in descending order of lifeExp\n",
    "gapminder %>%\n",
    "arrange(desc(lifeExp))"
   ]
  },
  {
   "cell_type": "markdown",
   "metadata": {},
   "source": [
    "### Filtering and arranging\n",
    "You'll often need to use the pipe operator (%>%) to combine multiple dplyr verbs in a row. In this case, you'll combine a filter() with an arrange() to find the highest population countries in a particular year.\n",
    "\n",
    "INSTRUCTIONS\n",
    "\n",
    "Use filter() to extract observations from just the year 1957, then use arrange() to sort in descending order of population (pop)."
   ]
  },
  {
   "cell_type": "code",
   "execution_count": null,
   "metadata": {
    "collapsed": true
   },
   "outputs": [],
   "source": [
    "library(gapminder)\n",
    "library(dplyr)\n",
    "\n",
    "# Filter for the year 1957, then arrange in descending order of population\n",
    "gapminder %>%\n",
    "filter(year == 1957) %>%\n",
    "arrange(desc(pop))"
   ]
  },
  {
   "cell_type": "markdown",
   "metadata": {},
   "source": [
    "## The mutate verb - Video"
   ]
  },
  {
   "cell_type": "markdown",
   "metadata": {},
   "source": [
    "### Using mutate to change or create a column\n",
    "Suppose we want life expectancy to be measured in months instead of years: you'd have to multiply the existing value by 12. You can use the mutate() verb to change this column, or to create a new column that's calculated this way.\n",
    "\n",
    "INSTRUCTIONS\n",
    "\n",
    " - Use mutate() to change the existing lifeExp column, by multiplying it by 12: 12 * lifeExp.\n",
    " - Use mutate() to add a new column, called lifeExpMonths, calculated as 12 * lifeExp."
   ]
  },
  {
   "cell_type": "code",
   "execution_count": null,
   "metadata": {
    "collapsed": false
   },
   "outputs": [],
   "source": [
    "library(gapminder)\n",
    "library(dplyr)\n",
    "\n",
    "# Use mutate to change lifeExp to be in months\n",
    "gapminder %>%\n",
    "mutate(lifeExp=12*lifeExp)\n",
    "\n",
    "# Use mutate to create a new column called lifeExpMonths\n",
    "gapminder %>%\n",
    "mutate(lifeExpMonths=12*lifeExp)"
   ]
  },
  {
   "cell_type": "markdown",
   "metadata": {},
   "source": [
    "### Combining filter, mutate, and arrange\n",
    "In this exercise, you'll combine all three of the verbs you've learned in this chapter, to find the countries with the highest life expectancy, in months, in the year 2007.\n",
    "\n",
    "INSTRUCTIONS\n",
    "\n",
    " - In one sequence of pipes on the gapminder dataset:\n",
    " - filter() for observations from the year 2007,\n",
    " - mutate() to create a column lifeExpMonths, calculated as 12 * lifeExp, and\n",
    " - arrange() in descending order of that new column"
   ]
  },
  {
   "cell_type": "code",
   "execution_count": null,
   "metadata": {
    "collapsed": true
   },
   "outputs": [],
   "source": [
    "library(gapminder)\n",
    "library(dplyr)\n",
    "\n",
    "# Filter, mutate, and arrange the gapminder dataset\n",
    "gapminder %>%\n",
    "filter(year == 2007) %>%\n",
    "mutate(lifeExpMonths = 12*lifeExp) %>%\n",
    "arrange(desc(lifeExpMonths))"
   ]
  },
  {
   "cell_type": "markdown",
   "metadata": {},
   "source": [
    "# 2. Data visualization\n",
    "\n",
    "You've already been able to answer some questions about the data through dplyr, but you've engaged with them just as a table (such as one showing the life expectancy in the US each year). Often a better way to understand and present such data is as a graph. Here you'll learn the essential skill of data visualization, using the ggplot2 package. Visualization and maniuplation are often intertwined, so you'll see how the dplyr and ggplot2 packages work closely together to create informative graphs."
   ]
  },
  {
   "cell_type": "markdown",
   "metadata": {},
   "source": [
    "## Visualizing with ggplot2 - Video"
   ]
  },
  {
   "cell_type": "markdown",
   "metadata": {},
   "source": [
    "### Variable assignment\n",
    "Throughout the exercises in this chapter, you'll be visualizing a subset of the gapminder data from the year 1952. First, you'll have to load the ggplot2 package, and create a gapminder_1952 dataset to visualize.\n",
    "\n",
    "INSTRUCTIONS\n",
    "\n",
    " - Load the ggplot2 package after the gapminder and dplyr packages.\n",
    " - Filter gapminder for observations from the year 1952, and assign it to a new dataset gapminder_1952 using the assignment operator (<-)."
   ]
  },
  {
   "cell_type": "code",
   "execution_count": 8,
   "metadata": {
    "collapsed": true
   },
   "outputs": [],
   "source": [
    "# Load the ggplot2 package as well\n",
    "library(gapminder)\n",
    "library(dplyr)\n",
    "\n",
    "\n",
    "# Create gapminder_1952\n",
    "gapminder_1952 = gapminder %>%\n",
    "filter(year == 1952)"
   ]
  },
  {
   "cell_type": "markdown",
   "metadata": {},
   "source": [
    "### Comparing population and GDP per capita\n",
    "In the video you learned to create a scatter plot with GDP per capita on the x-axis and life expectancy on the y-axis (the code for that graph is shown here). When you're exploring data visually, you'll often need to try different combinations of variables and aesthetics.\n",
    "\n",
    "INSTRUCTIONS\n",
    "\n",
    "- Change the scatter plot of gapminder_1952 so that (pop) is on the x-axis and GDP per capita (gdpPercap) is on the y-axis."
   ]
  },
  {
   "cell_type": "code",
   "execution_count": 11,
   "metadata": {
    "collapsed": false
   },
   "outputs": [
    {
     "data": {},
     "metadata": {},
     "output_type": "display_data"
    },
    {
     "data": {
      "image/png": "[encoded data removed]",
      "text/plain": [
       "plot without title"
      ]
     },
     "metadata": {},
     "output_type": "display_data"
    }
   ],
   "source": [
    "library(gapminder)\n",
    "library(dplyr)\n",
    "library(ggplot2)\n",
    "\n",
    "gapminder_1952 <- gapminder %>%\n",
    "  filter(year == 1952)\n",
    "\n",
    "# Change to put pop on the x-axis and gdpPercap on the y-axis\n",
    "ggplot(gapminder_1952, aes(x = pop, y = gdpPercap)) +\n",
    "  geom_point()"
   ]
  },
  {
   "cell_type": "markdown",
   "metadata": {},
   "source": [
    "### Comparing population and life expectancy\n",
    "In this exercise, you'll use ggplot2 to create a scatter plot from scratch, to compare each country's population with its life expectancy in the year 1952.\n",
    "\n",
    "INSTRUCTIONS\n",
    "\n",
    "- Create a scatter plot of gapminder_1952 with population (pop) is on the x-axis and life expectancy (lifeExp) on the y-axis."
   ]
  },
  {
   "cell_type": "code",
   "execution_count": 12,
   "metadata": {
    "collapsed": false
   },
   "outputs": [
    {
     "data": {},
     "metadata": {},
     "output_type": "display_data"
    },
    {
     "data": {
      "image/png": "[encoded data removed]",
      "text/plain": [
       "plot without title"
      ]
     },
     "metadata": {},
     "output_type": "display_data"
    }
   ],
   "source": [
    "library(gapminder)\n",
    "library(dplyr)\n",
    "library(ggplot2)\n",
    "\n",
    "gapminder_1952 <- gapminder %>%\n",
    "  filter(year == 1952)\n",
    "\n",
    "# Create a scatter plot with pop on the x-axis and lifeExp on the y-axis\n",
    "ggplot(gapminder_1952, aes(x = pop, y = lifeExp)) +\n",
    "  geom_point()"
   ]
  },
  {
   "cell_type": "markdown",
   "metadata": {},
   "source": [
    "## Log scales - Video"
   ]
  },
  {
   "cell_type": "markdown",
   "metadata": {},
   "source": [
    "## Putting the x-axis on a log scale\n",
    "You previously created a scatter plot with population on the x-axis and life expectancy on the y-axis. Since population is spread over several orders of magnitude, with some countries having a much higher population than others, it's a good idea to put the x-axis on a log scale.\n",
    "\n",
    "INSTRUCTIONS\n",
    "\n",
    "- Change the existing scatter plot (code provided) to put the x-axis (representing population) on a log scale."
   ]
  },
  {
   "cell_type": "code",
   "execution_count": 13,
   "metadata": {
    "collapsed": false
   },
   "outputs": [
    {
     "data": {},
     "metadata": {},
     "output_type": "display_data"
    },
    {
     "data": {
      "image/png": "[encoded data removed]",
      "text/plain": [
       "plot without title"
      ]
     },
     "metadata": {},
     "output_type": "display_data"
    }
   ],
   "source": [
    "library(gapminder)\n",
    "library(dplyr)\n",
    "library(ggplot2)\n",
    "\n",
    "gapminder_1952 <- gapminder %>%\n",
    "  filter(year == 1952)\n",
    "\n",
    "# Change this plot to put the x-axis on a log scale\n",
    "ggplot(gapminder_1952, aes(x = pop, y = lifeExp)) +\n",
    "  geom_point() + \n",
    "  scale_x_log10()"
   ]
  },
  {
   "cell_type": "markdown",
   "metadata": {},
   "source": [
    "### Putting the x- and y- axes on a log scale\n",
    "Suppose you want to create a scatter plot with population on the x-axis and GDP per capita on the y-axis. Both population and GDP per-capita are better represented with log scales, since they vary over many orders of magnitude.\n",
    "\n",
    "INSTRUCTIONS\n",
    "\n",
    "- Create a scatter plot with population (pop) on the x-axis and GDP per capita (gdpPercap) on the y-axis. Put both the x- and y- axes on a log scale."
   ]
  },
  {
   "cell_type": "code",
   "execution_count": 14,
   "metadata": {
    "collapsed": false
   },
   "outputs": [
    {
     "data": {},
     "metadata": {},
     "output_type": "display_data"
    },
    {
     "data": {
      "image/png": "[encoded data removed]",
      "text/plain": [
       "plot without title"
      ]
     },
     "metadata": {},
     "output_type": "display_data"
    }
   ],
   "source": [
    "library(gapminder)\n",
    "library(dplyr)\n",
    "library(ggplot2)\n",
    "\n",
    "gapminder_1952 <- gapminder %>%\n",
    "  filter(year == 1952)\n",
    "\n",
    "# Scatter plot comparing pop and gdpPercap, with both axes on a log scale\n",
    "ggplot(gapminder_1952, aes(x = pop, y = gdpPercap)) +\n",
    "  geom_point() + \n",
    "  scale_x_log10() + \n",
    "  scale_y_log10()"
   ]
  },
  {
   "cell_type": "markdown",
   "metadata": {},
   "source": [
    "Great! Notice that the y-axis goes from 1e3 (1000) to 1e4 (10,000) to 1e5 (100,000) in equal increments."
   ]
  },
  {
   "cell_type": "markdown",
   "metadata": {},
   "source": [
    "## Additional aesthetics - Video"
   ]
  },
  {
   "cell_type": "markdown",
   "metadata": {},
   "source": [
    "### Adding color to a scatter plot\n",
    "In this lesson you learned how to use the color aesthetic, which can be used to show which continent each point in a scatter plot represents.\n",
    "\n",
    "INSTRUCTIONS\n",
    "\n",
    "- Create a scatter plot with population (pop) on the x-axis, life expectancy (lifeExp) on the y-axis, and with continent (continent) represented by the color of the points. Put the x-axis on a log scale."
   ]
  },
  {
   "cell_type": "code",
   "execution_count": 15,
   "metadata": {
    "collapsed": false
   },
   "outputs": [
    {
     "data": {},
     "metadata": {},
     "output_type": "display_data"
    },
    {
     "data": {
      "image/png": "[encoded data removed]",
      "text/plain": [
       "plot without title"
      ]
     },
     "metadata": {},
     "output_type": "display_data"
    }
   ],
   "source": [
    "library(gapminder)\n",
    "library(dplyr)\n",
    "library(ggplot2)\n",
    "\n",
    "gapminder_1952 <- gapminder %>%\n",
    "  filter(year == 1952)\n",
    "\n",
    "# Scatter plot comparing pop and lifeExp, with color representing continent\n",
    "ggplot(gapminder_1952 , aes(x=pop, y=lifeExp, color=continent)) + \n",
    "geom_point() + scale_x_log10()"
   ]
  },
  {
   "cell_type": "markdown",
   "metadata": {},
   "source": [
    "###  Adding size and color to a plot\n",
    "In the last exercise, you created a scatter plot communicating information about each country's population, life expectancy, and continent. Now you'll use the size of the points to communicate even more.\n",
    "\n",
    "INSTRUCTIONS\n",
    "\n",
    "- Modify the scatter plot so that the size of the points represents each country's GDP per capita (gdpPercap)."
   ]
  },
  {
   "cell_type": "code",
   "execution_count": 16,
   "metadata": {
    "collapsed": false
   },
   "outputs": [
    {
     "data": {},
     "metadata": {},
     "output_type": "display_data"
    },
    {
     "data": {
      "image/png": "[encoded data removed]",
      "text/plain": [
       "plot without title"
      ]
     },
     "metadata": {},
     "output_type": "display_data"
    }
   ],
   "source": [
    "library(gapminder)\n",
    "library(dplyr)\n",
    "library(ggplot2)\n",
    "\n",
    "gapminder_1952 <- gapminder %>%\n",
    "  filter(year == 1952)\n",
    "\n",
    "# Add the size aesthetic to represent a country's gdpPercap\n",
    "ggplot(gapminder_1952, aes(x = pop, y = lifeExp, color = continent, size=gdpPercap)) +\n",
    "  geom_point() +\n",
    "  scale_x_log10()"
   ]
  },
  {
   "cell_type": "markdown",
   "metadata": {},
   "source": [
    "## Faceting - Video"
   ]
  },
  {
   "cell_type": "markdown",
   "metadata": {},
   "source": [
    "### Creating a subgraph for each continent\n",
    "You've learned to use faceting to divide a graph into subplots based on one of its variables, such as the continent.\n",
    "\n",
    "INSTRUCTIONS\n",
    "\n",
    "- Create a scatter plot of gapminder_1952 with the x-axis representing population (pop), the y-axis representing life expectancy (lifeExp), and faceted to have one subplot per continent (continent). Put the x-axis on a log scale."
   ]
  },
  {
   "cell_type": "code",
   "execution_count": 17,
   "metadata": {
    "collapsed": false
   },
   "outputs": [
    {
     "data": {},
     "metadata": {},
     "output_type": "display_data"
    },
    {
     "data": {
      "image/png": "[encoded data removed]",
      "text/plain": [
       "plot without title"
      ]
     },
     "metadata": {},
     "output_type": "display_data"
    }
   ],
   "source": [
    "library(gapminder)\n",
    "library(dplyr)\n",
    "library(ggplot2)\n",
    "\n",
    "gapminder_1952 <- gapminder %>%\n",
    "  filter(year == 1952)\n",
    "\n",
    "# Scatter plot comparing pop and lifeExp, faceted by continent\n",
    "ggplot(gapminder_1952, aes(pop, lifeExp))+\n",
    "geom_point() +\n",
    "facet_wrap(~continent) +\n",
    "scale_x_log10()"
   ]
  },
  {
   "cell_type": "markdown",
   "metadata": {},
   "source": [
    "### Faceting by year\n",
    "All of the graphs in this chapter have been visualizing statistics within one year. Now that you're able to use faceting, however, you can create a graph showing all the country-level data from 1952 to 2007, to understand how global statistics have changed over time.\n",
    "\n",
    "INSTRUCTIONS\n",
    "\n",
    " - Create a scatter plot of the gapminder data:\n",
    " - Put GDP per capita (gdpPercap) on the x-axis and life expectancy (lifeExp) on the y-axis, with continent (continent) represented by color and population (pop) represented by size.\n",
    " - Put the x-axis on a log scale\n",
    " - Facet by the year variable"
   ]
  },
  {
   "cell_type": "code",
   "execution_count": 18,
   "metadata": {
    "collapsed": false
   },
   "outputs": [
    {
     "data": {},
     "metadata": {},
     "output_type": "display_data"
    },
    {
     "data": {
      "image/png": "[encoded data removed]",
      "text/plain": [
       "plot without title"
      ]
     },
     "metadata": {},
     "output_type": "display_data"
    }
   ],
   "source": [
    "library(gapminder)\n",
    "library(dplyr)\n",
    "library(ggplot2)\n",
    "\n",
    "# Scatter plot comparing gdpPercap and lifeExp, with color representing continent\n",
    "# and size representing population, faceted by year\n",
    "ggplot(gapminder, aes(gdpPercap, lifeExp, color=continent, size=pop))+\n",
    "geom_point() +\n",
    "facet_wrap(~year) +\n",
    "scale_x_log10()"
   ]
  },
  {
   "cell_type": "markdown",
   "metadata": {},
   "source": [
    "# 3 .Grouping and summarizing"
   ]
  },
  {
   "cell_type": "markdown",
   "metadata": {
    "collapsed": true
   },
   "source": [
    "So far you've been answering questions about individual country-year pairs, but we may be interested in aggregations of the data, such as the average life expectancy of all countries within each year. Here you'll learn to use the group by and summarize verbs, which collapse large datasets into manageable summaries."
   ]
  },
  {
   "cell_type": "markdown",
   "metadata": {},
   "source": [
    "## The summarize verb - Video"
   ]
  },
  {
   "cell_type": "markdown",
   "metadata": {},
   "source": [
    "### Summarizing the median life expectancy\n",
    "You've seen how to find the mean life expectancy and the total population across a set of observations, but mean() and sum() are only two of the functions R provides for summarizing a collection of numbers. Here, you'll learn to use the median() function in combination with summarize().\n",
    "\n",
    "By the way, dplyr displays some messages when it's loaded that we've been hiding so far. They'll show up in red and start with:\n",
    "\n",
    "Attaching package: 'dplyr'\n",
    "\n",
    "The following objects are masked from 'package:stats':\n",
    "This will occur in future exercises each time you load dplyr: it's mentioning some built-in functions that are overwritten by dplyr. You won't need to worry about this message within this course.\n",
    "\n",
    "INSTRUCTIONS\n",
    "\n",
    " - Use the median() function within a summarize() to find the median life expectancy. Save it into a column called medianLifeExp."
   ]
  },
  {
   "cell_type": "code",
   "execution_count": 2,
   "metadata": {
    "collapsed": false
   },
   "outputs": [
    {
     "data": {
      "text/html": [
       "<table>\n",
       "<thead><tr><th scope=col>medianLifeExp</th></tr></thead>\n",
       "<tbody>\n",
       "\t<tr><td>60.7125</td></tr>\n",
       "</tbody>\n",
       "</table>\n"
      ],
      "text/latex": [
       "\\begin{tabular}{r|l}\n",
       " medianLifeExp\\\\\n",
       "\\hline\n",
       "\t 60.7125\\\\\n",
       "\\end{tabular}\n"
      ],
      "text/markdown": [
       "\n",
       "medianLifeExp | \n",
       "|---|\n",
       "| 60.7125 | \n",
       "\n",
       "\n"
      ],
      "text/plain": [
       "  medianLifeExp\n",
       "1 60.7125      "
      ]
     },
     "metadata": {},
     "output_type": "display_data"
    }
   ],
   "source": [
    "library(gapminder)\n",
    "library(dplyr)\n",
    "\n",
    "# Summarize to find the median life expectancy\n",
    "gapminder %>% summarize(medianLifeExp = median(lifeExp))"
   ]
  },
  {
   "cell_type": "markdown",
   "metadata": {},
   "source": [
    "That's right! Note that this is the median across all countries and all years in the dataset."
   ]
  },
  {
   "cell_type": "markdown",
   "metadata": {},
   "source": [
    "### Summarizing the median life expectancy in 1957\n",
    "Rather than summarizing the entire dataset, you may want to find the median life expectancy for only one particular year. In this case, you'll find the median in the year 1957.\n",
    "\n",
    "INSTRUCTIONS\n",
    "100XP\n",
    "\n",
    " - Filter for the year 1957, then use the median() function within a summarize() to calculate the median life expectancy into a column called medianLifeExp."
   ]
  },
  {
   "cell_type": "code",
   "execution_count": 3,
   "metadata": {
    "collapsed": false
   },
   "outputs": [
    {
     "data": {
      "text/html": [
       "<table>\n",
       "<thead><tr><th scope=col>medianLifeExp</th></tr></thead>\n",
       "<tbody>\n",
       "\t<tr><td>48.3605</td></tr>\n",
       "</tbody>\n",
       "</table>\n"
      ],
      "text/latex": [
       "\\begin{tabular}{r|l}\n",
       " medianLifeExp\\\\\n",
       "\\hline\n",
       "\t 48.3605\\\\\n",
       "\\end{tabular}\n"
      ],
      "text/markdown": [
       "\n",
       "medianLifeExp | \n",
       "|---|\n",
       "| 48.3605 | \n",
       "\n",
       "\n"
      ],
      "text/plain": [
       "  medianLifeExp\n",
       "1 48.3605      "
      ]
     },
     "metadata": {},
     "output_type": "display_data"
    }
   ],
   "source": [
    "library(gapminder)\n",
    "library(dplyr)\n",
    "\n",
    "# Filter for 1957 then summarize the median life expectancy\n",
    "gapminder %>% \n",
    "filter(year == 1957) %>%\n",
    "summarize(medianLifeExp = median(lifeExp))"
   ]
  },
  {
   "cell_type": "markdown",
   "metadata": {},
   "source": [
    "Great! Just like in Chapter 1, this chapter will often involve performing multiple dplyr steps in a row."
   ]
  },
  {
   "cell_type": "markdown",
   "metadata": {},
   "source": [
    "### Summarizing multiple variables in 1957\n",
    "The summarize() verb allows you to summarize multiple variables at once. In this case, you'll use the median() function to find the median life expectancy and the max() function to find the maximum GDP per capita.\n",
    "\n",
    "INSTRUCTIONS\n",
    "100XP\n",
    "\n",
    "- Find both the median life expectancy (lifeExp) and the maximum GDP per capita (gdpPercap) in the year 1957, calling them medianLifeExp and maxGdpPercap respectively. You can use the max() function to find the maximum."
   ]
  },
  {
   "cell_type": "code",
   "execution_count": 4,
   "metadata": {
    "collapsed": false
   },
   "outputs": [
    {
     "data": {
      "text/html": [
       "<table>\n",
       "<thead><tr><th scope=col>medianLifeExp</th><th scope=col>maxGdpPercap</th></tr></thead>\n",
       "<tbody>\n",
       "\t<tr><td>48.3605 </td><td>113523.1</td></tr>\n",
       "</tbody>\n",
       "</table>\n"
      ],
      "text/latex": [
       "\\begin{tabular}{r|ll}\n",
       " medianLifeExp & maxGdpPercap\\\\\n",
       "\\hline\n",
       "\t 48.3605  & 113523.1\\\\\n",
       "\\end{tabular}\n"
      ],
      "text/markdown": [
       "\n",
       "medianLifeExp | maxGdpPercap | \n",
       "|---|\n",
       "| 48.3605  | 113523.1 | \n",
       "\n",
       "\n"
      ],
      "text/plain": [
       "  medianLifeExp maxGdpPercap\n",
       "1 48.3605       113523.1    "
      ]
     },
     "metadata": {},
     "output_type": "display_data"
    }
   ],
   "source": [
    "library(gapminder)\n",
    "library(dplyr)\n",
    "\n",
    "# Filter for 1957 then summarize the median life expectancy and the maximum GDP per capita\n",
    "gapminder %>%\n",
    "filter(year == 1957) %>%\n",
    "summarize(medianLifeExp = median(lifeExp), maxGdpPercap = max(gdpPercap))"
   ]
  },
  {
   "cell_type": "markdown",
   "metadata": {},
   "source": [
    "That's right! Think about what other kinds of information about countries you might want to summarize within one year."
   ]
  },
  {
   "cell_type": "markdown",
   "metadata": {},
   "source": [
    "## The group_by verb - Video"
   ]
  },
  {
   "cell_type": "markdown",
   "metadata": {},
   "source": [
    "### Summarizing by year\n",
    "In a previous exercise, you found the median life expectancy and the maximum GDP per capita in the year 1957. Now, you'll perform those two summaries within each year in the dataset, using the group_by verb.\n",
    "\n",
    "INSTRUCTIONS\n",
    "100XP\n",
    " - Find the median life expectancy (lifeExp) and maximum GDP per capita (gdpPercap) within each year, saving them into medianLifeExp and maxGdpPercap, respectively."
   ]
  },
  {
   "cell_type": "code",
   "execution_count": 5,
   "metadata": {
    "collapsed": false
   },
   "outputs": [
    {
     "data": {
      "text/html": [
       "<table>\n",
       "<thead><tr><th scope=col>year</th><th scope=col>medianLifeExp</th><th scope=col>maxGdpPercap</th></tr></thead>\n",
       "<tbody>\n",
       "\t<tr><td>1952     </td><td>45.1355  </td><td>108382.35</td></tr>\n",
       "\t<tr><td>1957     </td><td>48.3605  </td><td>113523.13</td></tr>\n",
       "\t<tr><td>1962     </td><td>50.8810  </td><td> 95458.11</td></tr>\n",
       "\t<tr><td>1967     </td><td>53.8250  </td><td> 80894.88</td></tr>\n",
       "\t<tr><td>1972     </td><td>56.5300  </td><td>109347.87</td></tr>\n",
       "\t<tr><td>1977     </td><td>59.6720  </td><td> 59265.48</td></tr>\n",
       "\t<tr><td>1982     </td><td>62.4415  </td><td> 33693.18</td></tr>\n",
       "\t<tr><td>1987     </td><td>65.8340  </td><td> 31540.97</td></tr>\n",
       "\t<tr><td>1992     </td><td>67.7030  </td><td> 34932.92</td></tr>\n",
       "\t<tr><td>1997     </td><td>69.3940  </td><td> 41283.16</td></tr>\n",
       "\t<tr><td>2002     </td><td>70.8255  </td><td> 44683.98</td></tr>\n",
       "\t<tr><td>2007     </td><td>71.9355  </td><td> 49357.19</td></tr>\n",
       "</tbody>\n",
       "</table>\n"
      ],
      "text/latex": [
       "\\begin{tabular}{r|lll}\n",
       " year & medianLifeExp & maxGdpPercap\\\\\n",
       "\\hline\n",
       "\t 1952      & 45.1355   & 108382.35\\\\\n",
       "\t 1957      & 48.3605   & 113523.13\\\\\n",
       "\t 1962      & 50.8810   &  95458.11\\\\\n",
       "\t 1967      & 53.8250   &  80894.88\\\\\n",
       "\t 1972      & 56.5300   & 109347.87\\\\\n",
       "\t 1977      & 59.6720   &  59265.48\\\\\n",
       "\t 1982      & 62.4415   &  33693.18\\\\\n",
       "\t 1987      & 65.8340   &  31540.97\\\\\n",
       "\t 1992      & 67.7030   &  34932.92\\\\\n",
       "\t 1997      & 69.3940   &  41283.16\\\\\n",
       "\t 2002      & 70.8255   &  44683.98\\\\\n",
       "\t 2007      & 71.9355   &  49357.19\\\\\n",
       "\\end{tabular}\n"
      ],
      "text/markdown": [
       "\n",
       "year | medianLifeExp | maxGdpPercap | \n",
       "|---|---|---|---|---|---|---|---|---|---|---|---|\n",
       "| 1952      | 45.1355   | 108382.35 | \n",
       "| 1957      | 48.3605   | 113523.13 | \n",
       "| 1962      | 50.8810   |  95458.11 | \n",
       "| 1967      | 53.8250   |  80894.88 | \n",
       "| 1972      | 56.5300   | 109347.87 | \n",
       "| 1977      | 59.6720   |  59265.48 | \n",
       "| 1982      | 62.4415   |  33693.18 | \n",
       "| 1987      | 65.8340   |  31540.97 | \n",
       "| 1992      | 67.7030   |  34932.92 | \n",
       "| 1997      | 69.3940   |  41283.16 | \n",
       "| 2002      | 70.8255   |  44683.98 | \n",
       "| 2007      | 71.9355   |  49357.19 | \n",
       "\n",
       "\n"
      ],
      "text/plain": [
       "   year medianLifeExp maxGdpPercap\n",
       "1  1952 45.1355       108382.35   \n",
       "2  1957 48.3605       113523.13   \n",
       "3  1962 50.8810        95458.11   \n",
       "4  1967 53.8250        80894.88   \n",
       "5  1972 56.5300       109347.87   \n",
       "6  1977 59.6720        59265.48   \n",
       "7  1982 62.4415        33693.18   \n",
       "8  1987 65.8340        31540.97   \n",
       "9  1992 67.7030        34932.92   \n",
       "10 1997 69.3940        41283.16   \n",
       "11 2002 70.8255        44683.98   \n",
       "12 2007 71.9355        49357.19   "
      ]
     },
     "metadata": {},
     "output_type": "display_data"
    }
   ],
   "source": [
    "library(gapminder)\n",
    "library(dplyr)\n",
    "\n",
    "# Find median life expectancy and maximum GDP per capita in each year\n",
    "gapminder %>% \n",
    "group_by(year) %>%\n",
    "summarize(medianLifeExp=median(lifeExp), maxGdpPercap=max(gdpPercap))"
   ]
  },
  {
   "cell_type": "markdown",
   "metadata": {},
   "source": [
    "Great! Interesting: notice that median life expectancy across countries is generally going up over time, but maximum GDP per capita is not."
   ]
  },
  {
   "cell_type": "markdown",
   "metadata": {},
   "source": [
    "### Summarizing by continent\n",
    "You can group by any variable in your dataset to create a summary. Rather then comparing across time, you might be interested in comparing among continents. You'll want to do that within one year of the dataset: let's use 1957.\n",
    "\n",
    "INSTRUCTIONS\n",
    "100XP\n",
    " - Filter the gapminder data for the year 1957. Then find the median life expectancy (lifeExp) and maximum GDP per capita (gdpPercap) within each continent, saving them into medianLifeExp and maxGdpPercap, respectively."
   ]
  },
  {
   "cell_type": "markdown",
   "metadata": {},
   "source": [
    "Great work! Which continent had the highest median life expectancy in 1957?"
   ]
  },
  {
   "cell_type": "markdown",
   "metadata": {},
   "source": [
    "### Summarizing by continent and year\n",
    "Instead of grouping just by year, or just by continent, you'll now group by both continent and year to summarize within each.\n",
    "\n",
    "INSTRUCTIONS\n",
    "100XP\n",
    " - Find the median life expectancy (lifeExp) and maximum GDP per capita (gdpPercap) within each combination of continent and year, saving them into medianLifeExp and maxGdpPercap, respectively."
   ]
  },
  {
   "cell_type": "code",
   "execution_count": null,
   "metadata": {
    "collapsed": false
   },
   "outputs": [],
   "source": [
    "library(gapminder)\n",
    "library(dplyr)\n",
    "\n",
    "# Find median life expectancy and maximum GDP per capita in each year/continent combination\n",
    "gapminder %>%\n",
    "group_by(continent,year) %>%\n",
    "summarize(medianLifeExp = median(lifeExp), maxGdpPercap = max(gdpPercap))"
   ]
  },
  {
   "cell_type": "markdown",
   "metadata": {},
   "source": [
    "Excellent! In the next chapter, you'll learn to turn this data into an informative graph."
   ]
  },
  {
   "cell_type": "markdown",
   "metadata": {},
   "source": [
    "## Visualizing summarized data - Video"
   ]
  },
  {
   "cell_type": "markdown",
   "metadata": {},
   "source": [
    "### Visualizing median life expectancy over time\n",
    "In the last chapter, you summarized the gapminder data to calculate the median life expectancy within each year. This code is provided for you, and is saved (with <-) as the by_year dataset.\n",
    "\n",
    "Now you can use the ggplot2 package to turn this into a visualization of changing life expectancy over time.\n",
    "\n",
    "INSTRUCTIONS\n",
    "100XP\n",
    "\n",
    " - Use the by_year dataset to create a scatter plot showing the change of median life expectancy over time, with year on the x-axis and medianLifeExp on the y-axis. Be sure to add expand_limits(y = 0) to make sure the plot's y-axis includes zero."
   ]
  },
  {
   "cell_type": "code",
   "execution_count": 7,
   "metadata": {
    "collapsed": false
   },
   "outputs": [
    {
     "name": "stderr",
     "output_type": "stream",
     "text": [
      "Warning message:\n",
      "\"package 'ggplot2' was built under R version 3.3.3\""
     ]
    },
    {
     "data": {},
     "metadata": {},
     "output_type": "display_data"
    },
    {
     "data": {
      "image/png": "[encoded data removed]",
      "text/plain": [
       "plot without title"
      ]
     },
     "metadata": {},
     "output_type": "display_data"
    }
   ],
   "source": [
    "library(gapminder)\n",
    "library(dplyr)\n",
    "library(ggplot2)\n",
    "\n",
    "by_year <- gapminder %>%\n",
    "  group_by(year) %>%\n",
    "  summarize(medianLifeExp = median(lifeExp),\n",
    "            maxGdpPercap = max(gdpPercap))\n",
    "\n",
    "# Create a scatter plot showing the change in medianLifeExp over time\n",
    "ggplot(by_year, aes(year, medianLifeExp)) +\n",
    "geom_point() +\n",
    "expand_limits(y=0)"
   ]
  },
  {
   "cell_type": "markdown",
   "metadata": {},
   "source": [
    "Great! It looks like median life expectancy across countries is increasing over time."
   ]
  },
  {
   "cell_type": "markdown",
   "metadata": {},
   "source": [
    "### Visualizing median GDP per capita per continent over time\n",
    "In the last exercise you were able to see how the median life expectancy of countries changed over time. Now you'll examine the median GDP per capita instead, and see how the trend differs among continents.\n",
    "\n",
    "INSTRUCTIONS\n",
    "100XP\n",
    " - Summarize the gapminder dataset by continent and year, finding the median GDP per capita (mediangdpPercap) within each and putting it into a column called medianGdpPercap. Use the assignment operator <- to save this summarized data as by_year_continent.\n",
    " - Create a scatter plot showing the change in medianGdpPercap by continent over time. Use color to distinguish between continents, and be sure to add expand_limits(y = 0) so that the y-axis starts at zero."
   ]
  },
  {
   "cell_type": "code",
   "execution_count": 10,
   "metadata": {
    "collapsed": false
   },
   "outputs": [
    {
     "data": {},
     "metadata": {},
     "output_type": "display_data"
    },
    {
     "data": {
      "image/png": "[encoded data removed]",
      "text/plain": [
       "plot without title"
      ]
     },
     "metadata": {},
     "output_type": "display_data"
    }
   ],
   "source": [
    "library(gapminder)\n",
    "library(dplyr)\n",
    "library(ggplot2)\n",
    "\n",
    "# Summarize medianGdpPercap within each continent within each year: by_year_continent\n",
    "by_year_continent <- gapminder %>%\n",
    "  group_by(continent, year) %>%\n",
    "  summarize(medianGdpPercap = median(gdpPercap))\n",
    "\n",
    "\n",
    "# Plot the change in medianGdpPercap in each continent over time\n",
    "ggplot(by_year_continent, aes(x=year, y=medianGdpPercap, color=continent)) +\n",
    "geom_point() +\n",
    "expand_limits(y=0)"
   ]
  },
  {
   "cell_type": "markdown",
   "metadata": {},
   "source": [
    "Great! You might be wondering how you can connect these points with lines. You'll learn that in Chapter 4!"
   ]
  },
  {
   "cell_type": "markdown",
   "metadata": {},
   "source": [
    "### Comparing median life expectancy and median GDP per continent in 2007\n",
    "In these exercises you've generally created plots that show change over time. But as another way of exploring your data visually, you can also use ggplot2 to plot summarized data to compare continents within a single year.\n",
    "\n",
    "INSTRUCTIONS\n",
    "100XP\n",
    "  - Filter the gapminder dataset for the year 2007, then summarize the median GDP per capita and the median life expectancy within each continent, into columns called medianLifeExp and medianGdpPercap. Save this as by_continent_2007.\n",
    "  - Use the by_continent_2007 data to create a scatterplot comparing these summary statistics for continents in 2007, putting the median GDP per capita on the x-axis to the median life expectancy on the y-axis. You don't need to add expand_limits(y = 0) for this plot."
   ]
  },
  {
   "cell_type": "code",
   "execution_count": 11,
   "metadata": {
    "collapsed": false
   },
   "outputs": [
    {
     "data": {},
     "metadata": {},
     "output_type": "display_data"
    },
    {
     "data": {
      "image/png": "[encoded data removed]",
      "text/plain": [
       "plot without title"
      ]
     },
     "metadata": {},
     "output_type": "display_data"
    }
   ],
   "source": [
    "library(gapminder)\n",
    "library(dplyr)\n",
    "library(ggplot2)\n",
    "\n",
    "# Summarize the median GDP and median life expectancy per continent in 2007\n",
    "by_continent_2007 = gapminder %>%\n",
    "filter(year == 2007) %>%\n",
    "group_by(continent) %>% \n",
    "summarize(medianLifeExp = median(lifeExp),\n",
    "          medianGdpPercap = median(gdpPercap))\n",
    "\n",
    "# Use a scatter plot to compare the median GDP and median life expectancy\n",
    "ggplot(by_continent_2007, aes(medianGdpPercap, medianLifeExp, color = continent)) +\n",
    "geom_point()+\n",
    "expand_limits(y=0)"
   ]
  },
  {
   "cell_type": "markdown",
   "metadata": {},
   "source": [
    "Great work! Scatter plots are a very flexible tool for examining relationships."
   ]
  },
  {
   "cell_type": "markdown",
   "metadata": {},
   "source": [
    "# 4. Types of visualizations"
   ]
  },
  {
   "cell_type": "markdown",
   "metadata": {},
   "source": [
    "You've learned to create scatter plots with ggplot2. In this chapter you'll learn to create line plots, bar plots, histograms, and boxplots. You'll see how each plot needs different kinds of data manipulation to prepare for it, and understand the different roles of each of these plot types in data analysis.\n",
    "\n"
   ]
  },
  {
   "cell_type": "markdown",
   "metadata": {},
   "source": [
    "## Line plots - Video"
   ]
  },
  {
   "cell_type": "markdown",
   "metadata": {},
   "source": [
    "### Visualizing median GDP per capita over time\n",
    "A line plot is useful for visualizing trends over time. In this exercise, you'll examine how the median GDP per capita has changed over time.\n",
    "\n",
    "INSTRUCTIONS\n",
    "100XP\n",
    " - Use group_by() and summarize() to find the median GDP per capita within each year, calling the output column medianGdpPercap. Use the assignment operator <- to save it to a dataset called by_year.\n",
    " - Use the by_year dataset to create a line plot showing the change in median GDP per capita over time. Be sure to use expand_limits(y = 0) to include 0 on the y-axis."
   ]
  },
  {
   "cell_type": "code",
   "execution_count": 12,
   "metadata": {
    "collapsed": false
   },
   "outputs": [
    {
     "data": {},
     "metadata": {},
     "output_type": "display_data"
    },
    {
     "data": {
      "image/png": "[encoded data removed]",
      "text/plain": [
       "plot without title"
      ]
     },
     "metadata": {},
     "output_type": "display_data"
    }
   ],
   "source": [
    "library(gapminder)\n",
    "library(dplyr)\n",
    "library(ggplot2)\n",
    "\n",
    "# Summarize the median gdpPercap by year, then save it as by_year\n",
    "by_year = gapminder %>% \n",
    "group_by(year) %>%\n",
    "summarize(medianGdpPercap = median(gdpPercap))\n",
    "\n",
    "# Create a line plot showing the change in medianGdpPercap over time\n",
    "ggplot(by_year, aes(year, medianGdpPercap)) +\n",
    "geom_line() +\n",
    "expand_limits(y=0)"
   ]
  },
  {
   "cell_type": "markdown",
   "metadata": {},
   "source": [
    "Great! Looks like median GDP per capita across countries has gone up over time."
   ]
  },
  {
   "cell_type": "markdown",
   "metadata": {},
   "source": [
    "### Visualizing median GDP per capita by continent over time\n",
    "In the last exercise you used a line plot to visualize the increase in median GDP per capita over time. Now you'll examine the change within each continent.\n",
    "\n",
    "INSTRUCTIONS\n",
    "100XP\n",
    " - Use group_by() and summarize() to find the median GDP per capita within each year and continent, calling the output column medianGdpPercap. Use the assignment operator <- to save it to a dataset called by_year_continent.\n",
    " - Use the by_year_continent dataset to create a line plot showing the change in median GDP per capita over time, with color representing continent. Be sure to use expand_limits(y = 0) to include 0 on the y-axis."
   ]
  },
  {
   "cell_type": "code",
   "execution_count": 13,
   "metadata": {
    "collapsed": false
   },
   "outputs": [
    {
     "data": {},
     "metadata": {},
     "output_type": "display_data"
    },
    {
     "data": {
      "image/png": "[encoded data removed]",
      "text/plain": [
       "plot without title"
      ]
     },
     "metadata": {},
     "output_type": "display_data"
    }
   ],
   "source": [
    "library(gapminder)\n",
    "library(dplyr)\n",
    "library(ggplot2)\n",
    "\n",
    "# Summarize the median gdpPercap by year & continent, save as by_year_continent\n",
    "by_year_continent <- gapminder %>% \n",
    " group_by(year, continent)  %>%\n",
    " summarize(medianGdpPercap = median(gdpPercap))\n",
    "\n",
    "# Create a line plot showing the change in medianGdpPercap by continent over time\n",
    "ggplot(by_year_continent, aes(year, medianGdpPercap, color=continent)) +\n",
    "geom_line() +\n",
    "expand_limits(y=0)"
   ]
  },
  {
   "cell_type": "markdown",
   "metadata": {},
   "source": [
    "Excellent work! Take a look at the plot: did the growth in median GDP per capita differ between continents?"
   ]
  },
  {
   "cell_type": "markdown",
   "metadata": {},
   "source": [
    "## Bar plots - Video"
   ]
  },
  {
   "cell_type": "markdown",
   "metadata": {},
   "source": [
    "### Visualizing median GDP per capita by continent\n",
    "A bar plot is useful for visualizing summary statistics, such as the median GDP in each continent.\n",
    "\n",
    "INSTRUCTIONS\n",
    "100XP\n",
    " - Use group_by() and summarize() to find the median GDP per capita within each continent in the year 1952, calling the output column medianGdpPercap. Use the assignment operator <- to save it to a dataset called by_continent.\n",
    " - Use the by_continent dataset to create a bar plot showing the median GDP per capita in each continent."
   ]
  },
  {
   "cell_type": "code",
   "execution_count": 14,
   "metadata": {
    "collapsed": false
   },
   "outputs": [
    {
     "data": {},
     "metadata": {},
     "output_type": "display_data"
    },
    {
     "data": {
      "image/png": "[encoded data removed]",
      "text/plain": [
       "plot without title"
      ]
     },
     "metadata": {},
     "output_type": "display_data"
    }
   ],
   "source": [
    "library(gapminder)\n",
    "library(dplyr)\n",
    "library(ggplot2)\n",
    "\n",
    "# Summarize the median gdpPercap by year and continent in 1952\n",
    "by_continent = gapminder %>% \n",
    "filter(year == 1952) %>%\n",
    "group_by(continent) %>%\n",
    "summarize(medianGdpPercap = median(gdpPercap))\n",
    "\n",
    "# Create a bar plot showing medianGdp by continent\n",
    "ggplot(by_continent, aes(x=continent, y=medianGdpPercap)) +\n",
    "geom_col()"
   ]
  },
  {
   "cell_type": "markdown",
   "metadata": {},
   "source": [
    "Excellent! That's three kinds of plots you're now able to make with ggplot2."
   ]
  },
  {
   "cell_type": "markdown",
   "metadata": {},
   "source": [
    "### Visualizing GDP per capita by country in Oceania\n",
    "You've created a plot where each bar represents one continent, showing the median GDP per capita for each. But the x-axis of the bar plot doesn't have to be the continent: you can instead create a bar plot where each bar represents a country.\n",
    "\n",
    "In this exercise, you'll create a bar plot comparing the GDP per capita between the two countries in the Oceania continent (Australia and New Zealand).\n",
    "\n",
    "INSTRUCTIONS\n",
    "100XP\n",
    "  - Filter for observations in the Oceania continent in the year 1952. Save this as oceania_1952.\n",
    "  - Use the oceania_1952 dataset to create a bar plot, with country on the x-axis and gdpPercap on the y-axis."
   ]
  },
  {
   "cell_type": "code",
   "execution_count": 15,
   "metadata": {
    "collapsed": false
   },
   "outputs": [
    {
     "data": {},
     "metadata": {},
     "output_type": "display_data"
    },
    {
     "data": {
      "image/png": "[encoded data removed]",
      "text/plain": [
       "plot without title"
      ]
     },
     "metadata": {},
     "output_type": "display_data"
    }
   ],
   "source": [
    "library(gapminder)\n",
    "library(dplyr)\n",
    "library(ggplot2)\n",
    "\n",
    "# Filter for observations in the Oceania continent in 1952\n",
    "oceania_1952 = gapminder %>% \n",
    "filter(continent == \"Oceania\" & year == 1952)\n",
    "\n",
    "\n",
    "# Create a bar plot of gdpPerCap by country\n",
    "ggplot(oceania_1952, aes(country, gdpPercap)) +\n",
    "geom_col()"
   ]
  },
  {
   "cell_type": "markdown",
   "metadata": {},
   "source": [
    "Good work! Looks like the GDP per capita of these two countries was similar in 1952."
   ]
  },
  {
   "cell_type": "markdown",
   "metadata": {},
   "source": [
    "## Histograms - Video"
   ]
  },
  {
   "cell_type": "markdown",
   "metadata": {},
   "source": [
    "### Visualizing population\n",
    "A histogram is useful for examining the distribution of a numeric variable. In this exercise, you'll create a histogram showing the distribution of country populations in the year 1952.\n",
    "\n",
    "INSTRUCTIONS\n",
    "100XP\n",
    "- Use the gapminder_1952 dataset (code for generating that dataset is provided) to create a histogram of country population (pop) in the year 1952."
   ]
  },
  {
   "cell_type": "code",
   "execution_count": 16,
   "metadata": {
    "collapsed": false
   },
   "outputs": [
    {
     "name": "stderr",
     "output_type": "stream",
     "text": [
      "`stat_bin()` using `bins = 30`. Pick better value with `binwidth`.\n"
     ]
    },
    {
     "data": {},
     "metadata": {},
     "output_type": "display_data"
    },
    {
     "data": {
      "image/png": "[encoded data removed]",
      "text/plain": [
       "plot without title"
      ]
     },
     "metadata": {},
     "output_type": "display_data"
    }
   ],
   "source": [
    "library(gapminder)\n",
    "library(dplyr)\n",
    "library(ggplot2)\n",
    "\n",
    "gapminder_1952 <- gapminder %>%\n",
    "  filter(year == 1952)\n",
    "\n",
    "# Create a histogram of population (pop)\n",
    "ggplot(gapminder_1952, aes(pop)) +\n",
    "geom_histogram()"
   ]
  },
  {
   "cell_type": "markdown",
   "metadata": {},
   "source": [
    "That's right! Notice that most of the distribution is in the smallest (leftmost) bins. In the next exercise you'll put the x-axis on a log scale."
   ]
  },
  {
   "cell_type": "markdown",
   "metadata": {},
   "source": [
    "### Visualizing population with x-axis on a log scale\n",
    "In the last exercise you created a histogram of populations across countries. You might have noticed that there were several countries with a much higher population than others, which causes the distribution to be very skewed, with most of the distribution crammed into a small part of the graph. (Consider that it's hard to tell the median or the minimum population from that histogram).\n",
    "\n",
    "To make the histogram more informative, you can try putting the x-axis on a log scale.\n",
    "\n",
    "INSTRUCTIONS\n",
    "100XP\n",
    " - Use the gapminder_1952 dataset (code is provided) to create a histogram of country population (pop) in the year 1952, putting the x-axis on a log scale with scale_x_log10()."
   ]
  },
  {
   "cell_type": "code",
   "execution_count": 17,
   "metadata": {
    "collapsed": false
   },
   "outputs": [
    {
     "name": "stderr",
     "output_type": "stream",
     "text": [
      "`stat_bin()` using `bins = 30`. Pick better value with `binwidth`.\n"
     ]
    },
    {
     "data": {},
     "metadata": {},
     "output_type": "display_data"
    },
    {
     "data": {
      "image/png": "[encoded data removed]",
      "text/plain": [
       "plot without title"
      ]
     },
     "metadata": {},
     "output_type": "display_data"
    }
   ],
   "source": [
    "library(gapminder)\n",
    "library(dplyr)\n",
    "library(ggplot2)\n",
    "\n",
    "gapminder_1952 <- gapminder %>%\n",
    "  filter(year == 1952)\n",
    "\n",
    "# Create a histogram of population (pop), with x on a log scale\n",
    "ggplot(gapminder_1952, aes(pop)) +\n",
    "geom_histogram() +\n",
    "scale_x_log10()"
   ]
  },
  {
   "cell_type": "markdown",
   "metadata": {},
   "source": [
    "Great! Notice that on a log scale, the distribution of country populations is approximately symmetrical."
   ]
  },
  {
   "cell_type": "markdown",
   "metadata": {},
   "source": [
    "## Boxplots - Video"
   ]
  },
  {
   "cell_type": "markdown",
   "metadata": {},
   "source": [
    "### Comparing GDP per capita across continents\n",
    "A boxplot is useful for comparing a distribution of values across several groups. In this exercise, you'll examine the distribution of GDP per capita by continent. Since GDP per capita varies across several orders of magnitude, you'll need to put the y-axis on a log scale.\n",
    "\n",
    "INSTRUCTIONS\n",
    "100XP\n",
    " - Use the gapminder_1952 dataset (code is provided) to create a boxplot comparing GDP per capita (gdpPercap) among continents. Put the y-axis on a log scale with scale_y_log10()."
   ]
  },
  {
   "cell_type": "code",
   "execution_count": 18,
   "metadata": {
    "collapsed": false
   },
   "outputs": [
    {
     "data": {},
     "metadata": {},
     "output_type": "display_data"
    },
    {
     "data": {
      "image/png": "[encoded data removed]",
      "text/plain": [
       "plot without title"
      ]
     },
     "metadata": {},
     "output_type": "display_data"
    }
   ],
   "source": [
    "library(gapminder)\n",
    "library(dplyr)\n",
    "library(ggplot2)\n",
    "\n",
    "gapminder_1952 <- gapminder %>%\n",
    "  filter(year == 1952)\n",
    "\n",
    "# Create a boxplot comparing gdpPercap among continents\n",
    "ggplot(gapminder_1952, aes(x=continent, y=gdpPercap)) + \n",
    "geom_boxplot() +\n",
    "scale_y_log10()"
   ]
  },
  {
   "cell_type": "markdown",
   "metadata": {},
   "source": [
    "Looks good! What continents had countries with the highest GDP per capita?"
   ]
  },
  {
   "cell_type": "markdown",
   "metadata": {},
   "source": [
    "### Adding a title to your graph\n",
    "There are many other options for customizing a ggplot2 graph, which you can learn about other DataCamp courses. You can also learn about them from online resources, which is an important skill to develop.\n",
    "\n",
    "As the final exercise in this course, you'll practice looking up ggplot2 instructions by completing a task we haven't shown you how to do.\n",
    "\n",
    "INSTRUCTIONS\n",
    "100XP\n",
    " - Add a title to the graph: Comparing GDP per capita across continents. Use a search engine, such as Google or Bing, to learn how to do so.\n"
   ]
  },
  {
   "cell_type": "code",
   "execution_count": 20,
   "metadata": {
    "collapsed": false
   },
   "outputs": [
    {
     "data": {},
     "metadata": {},
     "output_type": "display_data"
    },
    {
     "data": {
      "image/png": "[encoded data removed]",
      "text/plain": [
       "plot without title"
      ]
     },
     "metadata": {},
     "output_type": "display_data"
    }
   ],
   "source": [
    "library(gapminder)\n",
    "library(dplyr)\n",
    "library(ggplot2)\n",
    "\n",
    "gapminder_1952 <- gapminder %>%\n",
    "  filter(year == 1952)\n",
    "\n",
    "# Add a title to this graph: \"Comparing GDP per capita across continents\"\n",
    "ggplot(gapminder_1952, aes(x = continent, y = gdpPercap)) +\n",
    "  geom_boxplot() +\n",
    "  scale_y_log10() + \n",
    "  ggtitle(\"Comparing GDP per capita across continents\")"
   ]
  },
  {
   "cell_type": "markdown",
   "metadata": {},
   "source": [
    "## Conclusion"
   ]
  },
  {
   "cell_type": "markdown",
   "metadata": {},
   "source": [
    "# Thanks You"
   ]
  },
  {
   "cell_type": "code",
   "execution_count": 22,
   "metadata": {
    "collapsed": true
   },
   "outputs": [],
   "source": [
    "#Save the gapminder dataset\n",
    "#write.csv(gapminder, \"gapminder.csv\", row.names=FALSE)"
   ]
  }
 ],
 "metadata": {
  "anaconda-cloud": {},
  "kernelspec": {
   "display_name": "R",
   "language": "R",
   "name": "ir"
  },
  "language_info": {
   "codemirror_mode": "r",
   "file_extension": ".r",
   "mimetype": "text/x-r-source",
   "name": "R",
   "pygments_lexer": "r",
   "version": "3.3.2"
  }
 },
 "nbformat": 4,
 "nbformat_minor": 1
}
