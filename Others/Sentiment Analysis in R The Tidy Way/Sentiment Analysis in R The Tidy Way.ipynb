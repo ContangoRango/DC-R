{
 "cells": [
  {
   "cell_type": "markdown",
   "metadata": {},
   "source": [
    "# Course Description\n",
    "Text datasets are diverse and ubiquitous, and sentiment analysis provides an approach to understand the attitudes and opinions expressed in these texts. In this course, you will develop your text mining skills using tidy data principles. You will apply these skills by performing sentiment analysis in several case studies, on text data from Twitter to TV news to Shakespeare. These case studies will allow you to practice important data handling skills, learn about the ways sentiment analysis can be applied, and extract relevant insights from real-world data."
   ]
  },
  {
   "cell_type": "markdown",
   "metadata": {},
   "source": [
    "1. Tweets across the United States\n",
    "2. Shakespeare gets Sentimental\n",
    "3. Analyzing TV News\n",
    "4. Singing a Happy Song (or Sad?!)"
   ]
  },
  {
   "cell_type": "code",
   "execution_count": 9,
   "metadata": {
    "collapsed": false
   },
   "outputs": [],
   "source": [
    "library(tidytext)\n",
    "library(ggplot2)\n",
    "library(dplyr)\n",
    "library(tidyr)"
   ]
  },
  {
   "cell_type": "markdown",
   "metadata": {},
   "source": [
    "# 1. Tweets across the United States"
   ]
  },
  {
   "cell_type": "markdown",
   "metadata": {},
   "source": [
    "## Sentiment Analysis and tidy tools - Video"
   ]
  },
  {
   "cell_type": "markdown",
   "metadata": {},
   "source": [
    "### Sentiment lexicons\n",
    "There are several different sentiment lexicons available for sentiment analysis. You will explore three in this course that are available in the tidytext package:\n",
    "\n",
    " - afinn from Finn Årup Nielsen,\n",
    " - bing from Bing Liu and collaborators, and\n",
    " - nrc from Saif Mohammad and Peter Turney.\n",
    "\n",
    "You will see how these lexicons can be used as you work through this course. The decision about which lexicon to use often depends on what question you are trying to answer.\n",
    "In this exercise, you will use dplyr's count() function. If you pass count() a variable, it will count the number of rows that share each distinct value of that variable.\n",
    "\n",
    "INSTRUCTIONS\n",
    "100XP\n",
    "\n",
    " - Load the dplyr and tidytext packages.\n",
    " - Add an argument to get_sentiments() to see what the \"bing\" lexicon looks like.\n",
    " - Then call get_sentiments() for the \"nrc\" lexicon.\n",
    " - Add an argument to count() so you can see how many words the nrc lexicon has for each sentiment category."
   ]
  },
  {
   "cell_type": "code",
   "execution_count": null,
   "metadata": {
    "collapsed": false
   },
   "outputs": [],
   "source": [
    "# Load dplyr and tidytext\n",
    "library(dplyr)\n",
    "library(tidytext)\n",
    "\n",
    "# Choose the bing lexicon\n",
    "#get_sentiments(\"bing\")\n",
    "get_sentiments(\"bing\")\n",
    "\n",
    "# Choose the nrc lexicon\n",
    "get_sentiments(\"nrc\") %>%\n",
    "  count(sentiment) # Count words by sentiment"
   ]
  },
  {
   "cell_type": "code",
   "execution_count": null,
   "metadata": {
    "collapsed": false
   },
   "outputs": [],
   "source": [
    "head(get_sentiments(\"bing\"))"
   ]
  },
  {
   "cell_type": "code",
   "execution_count": null,
   "metadata": {
    "collapsed": false
   },
   "outputs": [],
   "source": [
    "# Choose the nrc lexicon\n",
    "head(get_sentiments(\"nrc\") %>% count(sentiment)) # Count words by sentiment"
   ]
  },
  {
   "cell_type": "markdown",
   "metadata": {},
   "source": [
    "Great! While the \"bing\" lexicon classifies words into 2 sentiments, positive or negative, there are 10 sentiments conveyed in the \"nrc\" lexicon."
   ]
  },
  {
   "cell_type": "markdown",
   "metadata": {},
   "source": [
    "Words in lexicons\n",
    "Sentiment lexicons include many words, but some words are unlikely to be found in a sentiment lexicon or dictionary. Which of the following words is most unlikely to be found in a sentiment lexicon?\n",
    "\n",
    "ANSWER THE QUESTION\n",
    "\n",
    "Possible Answers\n",
    " - pessimism\n",
    " - press 1\n",
    " - peace\n",
    " - press 2\n",
    " - merry\n",
    " - press 3\n",
    " - and (Incorrect)\n",
    " - press 4\n",
    " - repulsion\n",
    " - press 5"
   ]
  },
  {
   "cell_type": "markdown",
   "metadata": {},
   "source": [
    "Correct! A word like “and” is neutral and unlikely to be included in a sentiment lexicon."
   ]
  },
  {
   "cell_type": "markdown",
   "metadata": {},
   "source": [
    "## Sentiment analysis via inner join - Video"
   ]
  },
  {
   "cell_type": "code",
   "execution_count": 3,
   "metadata": {
    "collapsed": false
   },
   "outputs": [
    {
     "data": {
      "text/html": [
       "<table>\n",
       "<thead><tr><th scope=col>state</th><th scope=col>word</th><th scope=col>freq</th></tr></thead>\n",
       "<tbody>\n",
       "\t<tr><td>alabama     </td><td>a           </td><td>16256685.699</td></tr>\n",
       "\t<tr><td>alabama     </td><td>a-          </td><td>    5491.100</td></tr>\n",
       "\t<tr><td>alabama     </td><td>a-day       </td><td>    3991.764</td></tr>\n",
       "\t<tr><td>alabama     </td><td>aa          </td><td>    4739.479</td></tr>\n",
       "\t<tr><td>alabama     </td><td>aaliyah     </td><td>    8251.955</td></tr>\n",
       "\t<tr><td>alabama     </td><td>aamu        </td><td>    4305.704</td></tr>\n",
       "</tbody>\n",
       "</table>\n"
      ],
      "text/latex": [
       "\\begin{tabular}{r|lll}\n",
       " state & word & freq\\\\\n",
       "\\hline\n",
       "\t alabama      & a            & 16256685.699\\\\\n",
       "\t alabama      & a-           &     5491.100\\\\\n",
       "\t alabama      & a-day        &     3991.764\\\\\n",
       "\t alabama      & aa           &     4739.479\\\\\n",
       "\t alabama      & aaliyah      &     8251.955\\\\\n",
       "\t alabama      & aamu         &     4305.704\\\\\n",
       "\\end{tabular}\n"
      ],
      "text/markdown": [
       "\n",
       "state | word | freq | \n",
       "|---|---|---|---|---|---|\n",
       "| alabama      | a            | 16256685.699 | \n",
       "| alabama      | a-           |     5491.100 | \n",
       "| alabama      | a-day        |     3991.764 | \n",
       "| alabama      | aa           |     4739.479 | \n",
       "| alabama      | aaliyah      |     8251.955 | \n",
       "| alabama      | aamu         |     4305.704 | \n",
       "\n",
       "\n"
      ],
      "text/plain": [
       "  state   word    freq        \n",
       "1 alabama a       16256685.699\n",
       "2 alabama a-          5491.100\n",
       "3 alabama a-day       3991.764\n",
       "4 alabama aa          4739.479\n",
       "5 alabama aaliyah     8251.955\n",
       "6 alabama aamu        4305.704"
      ]
     },
     "metadata": {},
     "output_type": "display_data"
    }
   ],
   "source": [
    "load(\"geocoded_tweets.rda\")\n",
    "head(geocoded_tweets)"
   ]
  },
  {
   "cell_type": "markdown",
   "metadata": {},
   "source": [
    "### Implement an inner join\n",
    "In this exercise you will implement sentiment analysis using an inner join. The inner_join() function from dplyr will identify which words are in both the sentiment lexicon and the text dataset you are examining. To learn more about joining data frames using dplyr, check out Joining Data in R with dplyr.\n",
    "\n",
    "The geocoded_tweets dataset is taken from Quartz and contains three columns:\n",
    "\n",
    "state, a state in the United States\n",
    "word, a word used in tweets posted on Twitter\n",
    "freq, the average frequency of that word in that state (per billion words)\n",
    "If you look at this dataset in the console, you will notice that the word \"a\" has a high frequency compared to the other words near the top of the sorted data frame; this makes sense! You can use inner_join() to implement a sentiment analysis on this dataset because it is in a tidy format.\n",
    "\n",
    "INSTRUCTIONS\n",
    "100XP\n",
    "\n",
    " - In the console, take a look at the geocoded_tweets object.\n",
    " - Use get_sentiments() to access the \"bing\" lexicon and assign it to bing.\n",
    " - Use an inner_join() to implement sentiment analysis on the geocoded tweet data using the bing lexicon."
   ]
  },
  {
   "cell_type": "code",
   "execution_count": null,
   "metadata": {
    "collapsed": false
   },
   "outputs": [],
   "source": [
    "# geocoded_tweets has been pre-defined\n",
    "geocoded_tweets\n",
    "\n",
    "# Access bing lexicon: bing\n",
    "bing <- get_sentiments(\"bing\")\n",
    "\n",
    "# Use data frame with text data\n",
    "geocoded_tweets %>%\n",
    "  # With inner join, implement sentiment analysis using `bing`\n",
    "  inner_join(bing)"
   ]
  },
  {
   "cell_type": "markdown",
   "metadata": {},
   "source": [
    "Marvelous! By inner joining geocoded_tweets with the \"bing\" lexicon, you can see the average frequency and the sentiment associated with each word that exists in both data frames."
   ]
  },
  {
   "cell_type": "markdown",
   "metadata": {},
   "source": [
    "## Using dplyr verbs to analyze sentiment analysis results - Video"
   ]
  },
  {
   "cell_type": "markdown",
   "metadata": {},
   "source": [
    "### What are the most common sadness words?\n",
    "After you have implemented sentiment analysis using inner_join(), you can use dplyr functions such as group_by() and summarize() to understand your results. For example, what are the most common words related to sadness in this Twitter dataset?\n",
    "\n",
    "INSTRUCTIONS\n",
    "\n",
    "Take a look at the tweets_nrc object, the output of an inner join just like the one you did in the last exercise. Then manipulate it to find the most common words that are related to sadness.\n",
    "\n",
    " - Filter only the rows that have words associated with sadness.\n",
    " - Group by word to find the average across the United States.\n",
    " - Use the summarize() and arrange() verbs find the average frequency for each word, and then sort.\n",
    " - Be aware that this is real data from Twitter and there is some use of profanity; the sentiment lexicons include profane and curse words."
   ]
  },
  {
   "cell_type": "code",
   "execution_count": null,
   "metadata": {
    "collapsed": false
   },
   "outputs": [],
   "source": [
    "# Access nrc lexicon: nrc\n",
    "nrc <- get_sentiments(\"nrc\")\n",
    "\n",
    "# Use data frame with text data\n",
    "tweets_nrc = geocoded_tweets %>%\n",
    "  # With inner join, implement sentiment analysis using `nrc`\n",
    "  inner_join(nrc)"
   ]
  },
  {
   "cell_type": "code",
   "execution_count": null,
   "metadata": {
    "collapsed": false
   },
   "outputs": [],
   "source": [
    "head(tweets_nrc)"
   ]
  },
  {
   "cell_type": "code",
   "execution_count": null,
   "metadata": {
    "collapsed": false
   },
   "outputs": [],
   "source": [
    "tweets_nrc %>%\n",
    "  # Filter to only choose the words associated with sadness\n",
    "  filter(sentiment==\"sadness\") %>%\n",
    "  # Group by word\n",
    "  group_by(word) %>%\n",
    "  # Use the summarize verb to find the mean frequency\n",
    "  summarize(freq = mean(freq)) %>%\n",
    "  # Arrange to sort in order of descending frequency\n",
    "  arrange(desc(freq))"
   ]
  },
  {
   "cell_type": "markdown",
   "metadata": {},
   "source": [
    "No need to be sad anymore! Next you will look at words associated with joy."
   ]
  },
  {
   "cell_type": "markdown",
   "metadata": {},
   "source": [
    "### What are the most common joy words?\n",
    "You can use the same approach from the last exercise to find the most common words associated with joy in these tweets. Use the same pattern of dplyr verbs to find a new result.\n",
    "\n",
    "INSTRUCTIONS\n",
    "100XP\n",
    "\n",
    " - First, filter to find only words associated with \"joy\".\n",
    " - Next, group by word.\n",
    " - Summarize for each word to find the average frequency freq across the whole United States.\n",
    " - Arrange in descending order of frequency.\n",
    "     \n",
    "Now you can make a visualization using ggplot2 to see these results.\n",
    "\n",
    " - Load the ggplot2 package.\n",
    " - Put words on the x-axis and frequency on the y-axis.\n",
    " - Use geom_col() to make a bar chart. (If you are familiar with geom_bar(stat = \"identity\"), geom_col() does the same thing.)"
   ]
  },
  {
   "cell_type": "code",
   "execution_count": null,
   "metadata": {
    "collapsed": false
   },
   "outputs": [],
   "source": [
    "# tweets_nrc has been pre-defined\n",
    "tweets_nrc\n",
    "\n",
    "joy_words <- tweets_nrc %>%\n",
    "  # Filter to choose only words associated with joy\n",
    "  filter(sentiment==\"joy\") %>%\n",
    "  # Group by each word\n",
    "  group_by(word) %>%\n",
    "  # Use the summarize verb to find the mean frequency\n",
    "  summarize(freq = mean(freq)) %>%\n",
    "  # Arrange to sort in order of descending frequency\n",
    "  arrange(desc(freq))\n",
    "\n",
    "# Load ggplot2\n",
    "library(ggplot2)\n",
    "\n",
    "joy_words %>%\n",
    "  top_n(20) %>%\n",
    "  mutate(word = reorder(word, freq)) %>%\n",
    "  # Use aes() to put words on the x-axis and frequency on the y-axis\n",
    "  ggplot(aes(x=word, y=freq)) +\n",
    "  # Make a bar chart with geom_col()\n",
    "  geom_col() +\n",
    "  coord_flip() "
   ]
  },
  {
   "cell_type": "markdown",
   "metadata": {},
   "source": [
    "Plotting the above plot"
   ]
  },
  {
   "cell_type": "code",
   "execution_count": null,
   "metadata": {
    "collapsed": false
   },
   "outputs": [],
   "source": [
    "joy_words %>%\n",
    "  top_n(20) %>%\n",
    "  mutate(word = reorder(word, freq)) %>%\n",
    "  # Use aes() to put words on the x-axis and frequency on the y-axis\n",
    "  ggplot(aes(x=word, y=freq)) +\n",
    "  # Make a bar chart with geom_col()\n",
    "  geom_col() +\n",
    "  coord_flip() "
   ]
  },
  {
   "cell_type": "markdown",
   "metadata": {},
   "source": [
    "### Looking at differences by state - Video"
   ]
  },
  {
   "cell_type": "markdown",
   "metadata": {},
   "source": [
    "### Do people in different states use different words?\n",
    "So far you have looked at the United States as a whole, but you can use this dataset to examine differences in word use by state. In this exercise, you will examine two states and compare their use of joy words. Do they use the same words associated with joy? Do they use these words at the same rate?\n",
    "\n",
    "INSTRUCTIONS\n",
    "100XP\n",
    " - Use the correct dplyr verb to find only the rows for the state of Utah.\n",
    " - Add another condition inside the parentheses to find only the rows for the words associated with joy.\n",
    " - Use the dplyr verb that arranges a data frame to sort in order of descending frequency.\n",
    " - Repeat these steps for the state of Louisiana."
   ]
  },
  {
   "cell_type": "code",
   "execution_count": null,
   "metadata": {
    "collapsed": true
   },
   "outputs": [],
   "source": [
    "# tweets_nrc has been pre-defined\n",
    "tweets_nrc\n",
    "\n",
    "tweets_nrc %>%\n",
    "  # Find only the words for the state of Utah and associated with joy\n",
    "  filter(state == \"utah\",\n",
    "      sentiment == \"joy\") %>%\n",
    "  # Arrange to sort in order of descending frequency\n",
    "  arrange(desc(freq))\n",
    "\n",
    "tweets_nrc %>%\n",
    "  # Find only the words for the state of Louisiana and associated with joy\n",
    "  filter(state == \"louisiana\",\n",
    "      sentiment == \"joy\") %>%\n",
    "  # Arrange to sort in order of descending frequency\n",
    "  arrange(desc(freq))"
   ]
  },
  {
   "cell_type": "markdown",
   "metadata": {},
   "source": [
    "Interesting! Words like “baby” and “money” are popular in Louisiana but not in Utah."
   ]
  },
  {
   "cell_type": "markdown",
   "metadata": {},
   "source": [
    "### Which states have the most positive Twitter users?\n",
    "For the last exercise in this chapter, you will determine how the overall sentiment of Twitter sentiment varies from state to state. You will use a dataset called tweets_bing, which is the output of an inner join created just the same way that you did earlier. Check out what tweets_bing looks like in the console.\n",
    "\n",
    "You can use group_by() and summarize() to find which states had the highest frequency of positive and negative words, then pipe to ggplot2 (after some tidyr manipulation) to make a clear, interesting visualization.\n",
    "\n",
    "INSTRUCTIONS\n",
    "100XP\n",
    " - Choose variables in the call to group_by() so that you can summarize() by first state and the sentiment.\n",
    " - After using spread() from tidyr and ungrouping, calculate the ratio of positive to negative words for each state.\n",
    " - To make a plot, set up aes() so that states will go on the x-axis and the ratio will go on the y-axis.\n",
    " - Add the correct geom_* layer to make points on the plot.\n",
    " - The call to coord_flip() flips the axes so you can read the names of the states more easily."
   ]
  },
  {
   "cell_type": "code",
   "execution_count": null,
   "metadata": {
    "collapsed": false
   },
   "outputs": [],
   "source": [
    "# Access bing lexicon: bing\n",
    "bing <- get_sentiments(\"bing\")\n",
    "\n",
    "# Use data frame with text data\n",
    "tweets_bing = geocoded_tweets %>%\n",
    "  # With inner join, implement sentiment analysis using `nrc`\n",
    "  inner_join(bing)"
   ]
  },
  {
   "cell_type": "code",
   "execution_count": null,
   "metadata": {
    "collapsed": false
   },
   "outputs": [],
   "source": [
    "library(tidyr)"
   ]
  },
  {
   "cell_type": "code",
   "execution_count": null,
   "metadata": {
    "collapsed": true
   },
   "outputs": [],
   "source": [
    "?spread"
   ]
  },
  {
   "cell_type": "code",
   "execution_count": null,
   "metadata": {
    "collapsed": false
   },
   "outputs": [],
   "source": [
    "# tweets_bing has been pre-defined\n",
    "tweets_bing\n",
    "\n",
    "tweets_bing %>% \n",
    "  # Group by two columns: state and sentiment\n",
    "  group_by(state, sentiment) %>%\n",
    "  # Use summarize to calculate the mean frequency for these groups\n",
    "  summarize(freq = mean(freq)) %>%\n",
    "  spread(sentiment, freq) %>%\n",
    "  ungroup() %>%\n",
    "  # Calculate the ratio of positive to negative words\n",
    "  mutate(ratio = positive / negative,\n",
    "         state = reorder(state, ratio)) %>%\n",
    "  # Use aes() to put state on the x-axis and ratio on the y-axis\n",
    "  ggplot(aes(state, ratio)) +\n",
    "  # Make a plot with points using geom_point()\n",
    "  geom_point() +\n",
    "  coord_flip()"
   ]
  },
  {
   "cell_type": "code",
   "execution_count": null,
   "metadata": {
    "collapsed": true
   },
   "outputs": [],
   "source": [
    "Plotting the above plot"
   ]
  },
  {
   "cell_type": "code",
   "execution_count": 20,
   "metadata": {
    "collapsed": false
   },
   "outputs": [
    {
     "data": {},
     "metadata": {},
     "output_type": "display_data"
    },
    {
     "data": {
      "image/png": "[encoded data removed]",
      "text/plain": [
       "plot without title"
      ]
     },
     "metadata": {},
     "output_type": "display_data"
    }
   ],
   "source": [
    "tweets_bing %>% \n",
    "  # Group by two columns: state and sentiment\n",
    "  group_by(state, sentiment) %>%\n",
    "  # Use summarize to calculate the mean frequency for these groups\n",
    "  summarize(freq = mean(freq)) %>%\n",
    "  spread(sentiment, freq) %>%\n",
    "  ungroup() %>%\n",
    "  # Calculate the ratio of positive to negative words\n",
    "  mutate(ratio = positive / negative,\n",
    "         state = reorder(state, ratio)) %>%\n",
    "  # Use aes() to put state on the x-axis and ratio on the y-axis\n",
    "  ggplot(aes(state, ratio)) +\n",
    "  # Make a plot with points using geom_point()\n",
    "  geom_point() +\n",
    "  coord_flip()"
   ]
  },
  {
   "cell_type": "markdown",
   "metadata": {},
   "source": [
    "Wonderful! Combining your data with a sentiment lexicon, you can do all sorts of exploratory data analysis. Looks like Missouri tops the list for this one!"
   ]
  },
  {
   "cell_type": "markdown",
   "metadata": {},
   "source": [
    "# 2. Shakespeare gets Sentimental"
   ]
  },
  {
   "cell_type": "markdown",
   "metadata": {},
   "source": [
    "Your next real-world text exploration uses tragedies and comedies by Shakespeare to show how sentiment analysis can lead to insight into differences in word use. You will learn how to transform raw text into a tidy format for further analysis."
   ]
  },
  {
   "cell_type": "markdown",
   "metadata": {},
   "source": [
    "## Tidying Shakespearean plays - Video"
   ]
  },
  {
   "cell_type": "code",
   "execution_count": 5,
   "metadata": {
    "collapsed": true
   },
   "outputs": [],
   "source": [
    "load(\"shakespeare.rda\")"
   ]
  },
  {
   "cell_type": "code",
   "execution_count": 6,
   "metadata": {
    "collapsed": false
   },
   "outputs": [
    {
     "data": {
      "text/html": [
       "<table>\n",
       "<thead><tr><th scope=col>title</th><th scope=col>type</th><th scope=col>text</th></tr></thead>\n",
       "<tbody>\n",
       "\t<tr><td>The Tragedy of Romeo and Juliet                                </td><td>Tragedy                                                        </td><td>The Complete Works of William Shakespeare                      </td></tr>\n",
       "\t<tr><td>The Tragedy of Romeo and Juliet                                </td><td>Tragedy                                                        </td><td>                                                               </td></tr>\n",
       "\t<tr><td>The Tragedy of Romeo and Juliet                                </td><td>Tragedy                                                        </td><td>The Tragedy of Romeo and Juliet                                </td></tr>\n",
       "\t<tr><td>The Tragedy of Romeo and Juliet                                </td><td>Tragedy                                                        </td><td>                                                               </td></tr>\n",
       "\t<tr><td>The Tragedy of Romeo and Juliet                                </td><td>Tragedy                                                        </td><td>The Library of the Future Complete Works of William Shakespeare</td></tr>\n",
       "\t<tr><td>The Tragedy of Romeo and Juliet                                </td><td>Tragedy                                                        </td><td>Library of the Future is a TradeMark (TM) of World Library Inc.</td></tr>\n",
       "</tbody>\n",
       "</table>\n"
      ],
      "text/latex": [
       "\\begin{tabular}{r|lll}\n",
       " title & type & text\\\\\n",
       "\\hline\n",
       "\t The Tragedy of Romeo and Juliet                                 & Tragedy                                                         & The Complete Works of William Shakespeare                      \\\\\n",
       "\t The Tragedy of Romeo and Juliet                                 & Tragedy                                                         &                                                                \\\\\n",
       "\t The Tragedy of Romeo and Juliet                                 & Tragedy                                                         & The Tragedy of Romeo and Juliet                                \\\\\n",
       "\t The Tragedy of Romeo and Juliet                                 & Tragedy                                                         &                                                                \\\\\n",
       "\t The Tragedy of Romeo and Juliet                                 & Tragedy                                                         & The Library of the Future Complete Works of William Shakespeare\\\\\n",
       "\t The Tragedy of Romeo and Juliet                                 & Tragedy                                                         & Library of the Future is a TradeMark (TM) of World Library Inc.\\\\\n",
       "\\end{tabular}\n"
      ],
      "text/markdown": [
       "\n",
       "title | type | text | \n",
       "|---|---|---|---|---|---|\n",
       "| The Tragedy of Romeo and Juliet                                 | Tragedy                                                         | The Complete Works of William Shakespeare                       | \n",
       "| The Tragedy of Romeo and Juliet                                 | Tragedy                                                         |                                                                 | \n",
       "| The Tragedy of Romeo and Juliet                                 | Tragedy                                                         | The Tragedy of Romeo and Juliet                                 | \n",
       "| The Tragedy of Romeo and Juliet                                 | Tragedy                                                         |                                                                 | \n",
       "| The Tragedy of Romeo and Juliet                                 | Tragedy                                                         | The Library of the Future Complete Works of William Shakespeare | \n",
       "| The Tragedy of Romeo and Juliet                                 | Tragedy                                                         | Library of the Future is a TradeMark (TM) of World Library Inc. | \n",
       "\n",
       "\n"
      ],
      "text/plain": [
       "  title                           type   \n",
       "1 The Tragedy of Romeo and Juliet Tragedy\n",
       "2 The Tragedy of Romeo and Juliet Tragedy\n",
       "3 The Tragedy of Romeo and Juliet Tragedy\n",
       "4 The Tragedy of Romeo and Juliet Tragedy\n",
       "5 The Tragedy of Romeo and Juliet Tragedy\n",
       "6 The Tragedy of Romeo and Juliet Tragedy\n",
       "  text                                                           \n",
       "1 The Complete Works of William Shakespeare                      \n",
       "2                                                                \n",
       "3 The Tragedy of Romeo and Juliet                                \n",
       "4                                                                \n",
       "5 The Library of the Future Complete Works of William Shakespeare\n",
       "6 Library of the Future is a TradeMark (TM) of World Library Inc."
      ]
     },
     "metadata": {},
     "output_type": "display_data"
    }
   ],
   "source": [
    "head(shakespeare)"
   ]
  },
  {
   "cell_type": "code",
   "execution_count": 23,
   "metadata": {
    "collapsed": false
   },
   "outputs": [
    {
     "data": {
      "text/html": [
       "<table>\n",
       "<thead><tr><th scope=col>title</th><th scope=col>type</th><th scope=col>text</th></tr></thead>\n",
       "<tbody>\n",
       "\t<tr><td>Hamlet, Prince of Denmark                                       </td><td>Tragedy                                                         </td><td>                                                                </td></tr>\n",
       "\t<tr><td>Hamlet, Prince of Denmark                                       </td><td>Tragedy                                                         </td><td>                                                                </td></tr>\n",
       "\t<tr><td>Hamlet, Prince of Denmark                                       </td><td>Tragedy                                                         </td><td>                                                                </td></tr>\n",
       "\t<tr><td>Hamlet, Prince of Denmark                                       </td><td>Tragedy                                                         </td><td>                                                                </td></tr>\n",
       "\t<tr><td>Hamlet, Prince of Denmark                                       </td><td>Tragedy                                                         </td><td>The End of Project Gutenberg Etext of Hamlet by Shakespeare     </td></tr>\n",
       "\t<tr><td>Hamlet, Prince of Denmark                                       </td><td>Tragedy                                                         </td><td>PG has multiple editions of William Shakespeare's Complete Works</td></tr>\n",
       "</tbody>\n",
       "</table>\n"
      ],
      "text/latex": [
       "\\begin{tabular}{r|lll}\n",
       " title & type & text\\\\\n",
       "\\hline\n",
       "\t Hamlet, Prince of Denmark                                        & Tragedy                                                          &                                                                 \\\\\n",
       "\t Hamlet, Prince of Denmark                                        & Tragedy                                                          &                                                                 \\\\\n",
       "\t Hamlet, Prince of Denmark                                        & Tragedy                                                          &                                                                 \\\\\n",
       "\t Hamlet, Prince of Denmark                                        & Tragedy                                                          &                                                                 \\\\\n",
       "\t Hamlet, Prince of Denmark                                        & Tragedy                                                          & The End of Project Gutenberg Etext of Hamlet by Shakespeare     \\\\\n",
       "\t Hamlet, Prince of Denmark                                        & Tragedy                                                          & PG has multiple editions of William Shakespeare's Complete Works\\\\\n",
       "\\end{tabular}\n"
      ],
      "text/markdown": [
       "\n",
       "title | type | text | \n",
       "|---|---|---|---|---|---|\n",
       "| Hamlet, Prince of Denmark                                        | Tragedy                                                          |                                                                  | \n",
       "| Hamlet, Prince of Denmark                                        | Tragedy                                                          |                                                                  | \n",
       "| Hamlet, Prince of Denmark                                        | Tragedy                                                          |                                                                  | \n",
       "| Hamlet, Prince of Denmark                                        | Tragedy                                                          |                                                                  | \n",
       "| Hamlet, Prince of Denmark                                        | Tragedy                                                          | The End of Project Gutenberg Etext of Hamlet by Shakespeare      | \n",
       "| Hamlet, Prince of Denmark                                        | Tragedy                                                          | PG has multiple editions of William Shakespeare's Complete Works | \n",
       "\n",
       "\n"
      ],
      "text/plain": [
       "  title                     type   \n",
       "1 Hamlet, Prince of Denmark Tragedy\n",
       "2 Hamlet, Prince of Denmark Tragedy\n",
       "3 Hamlet, Prince of Denmark Tragedy\n",
       "4 Hamlet, Prince of Denmark Tragedy\n",
       "5 Hamlet, Prince of Denmark Tragedy\n",
       "6 Hamlet, Prince of Denmark Tragedy\n",
       "  text                                                            \n",
       "1                                                                 \n",
       "2                                                                 \n",
       "3                                                                 \n",
       "4                                                                 \n",
       "5 The End of Project Gutenberg Etext of Hamlet by Shakespeare     \n",
       "6 PG has multiple editions of William Shakespeare's Complete Works"
      ]
     },
     "metadata": {},
     "output_type": "display_data"
    }
   ],
   "source": [
    "tail(shakespeare)"
   ]
  },
  {
   "cell_type": "markdown",
   "metadata": {},
   "source": [
    "### To be, or not to be\n",
    "Let's take a look at the dataset you will use in this chapter to learn more about tidying text and sentiment analysis. The shakespeare dataset contains three columns:\n",
    "\n",
    " - title, the title of a Shakespearean play,\n",
    " - type, the type of play, either tragedy or comedy, and\n",
    " - text, a line from that play.\n",
    " \n",
    "This data frame contains the entire texts of six plays.\n",
    "\n",
    "INSTRUCTIONS\n",
    "100XP\n",
    " - In the console, take a look at the shakespeare object.\n",
    " - Pipe the data frame with the Shakespeare texts to the next line.\n",
    " - Use count() with two arguments to find out which titles are in this dataset, whether they are tragedies or comedies, and how many lines they have."
   ]
  },
  {
   "cell_type": "code",
   "execution_count": null,
   "metadata": {
    "collapsed": false
   },
   "outputs": [],
   "source": [
    "# The data set shakespeare in available in the workspace\n",
    "shakespeare\n",
    "\n",
    "# Pipe the shakespeare data frame to the next line\n",
    "shakespeare %>% \n",
    "  # Use count to find out how many titles/types there are\n",
    "  count(title, type)"
   ]
  },
  {
   "cell_type": "code",
   "execution_count": 24,
   "metadata": {
    "collapsed": false
   },
   "outputs": [
    {
     "data": {
      "text/html": [
       "<table>\n",
       "<thead><tr><th scope=col>title</th><th scope=col>type</th><th scope=col>text</th></tr></thead>\n",
       "<tbody>\n",
       "\t<tr><td>The Tragedy of Romeo and Juliet                                </td><td>Tragedy                                                        </td><td>The Complete Works of William Shakespeare                      </td></tr>\n",
       "\t<tr><td>The Tragedy of Romeo and Juliet                                </td><td>Tragedy                                                        </td><td>                                                               </td></tr>\n",
       "\t<tr><td>The Tragedy of Romeo and Juliet                                </td><td>Tragedy                                                        </td><td>The Tragedy of Romeo and Juliet                                </td></tr>\n",
       "\t<tr><td>The Tragedy of Romeo and Juliet                                </td><td>Tragedy                                                        </td><td>                                                               </td></tr>\n",
       "\t<tr><td>The Tragedy of Romeo and Juliet                                </td><td>Tragedy                                                        </td><td>The Library of the Future Complete Works of William Shakespeare</td></tr>\n",
       "\t<tr><td>The Tragedy of Romeo and Juliet                                </td><td>Tragedy                                                        </td><td>Library of the Future is a TradeMark (TM) of World Library Inc.</td></tr>\n",
       "</tbody>\n",
       "</table>\n"
      ],
      "text/latex": [
       "\\begin{tabular}{r|lll}\n",
       " title & type & text\\\\\n",
       "\\hline\n",
       "\t The Tragedy of Romeo and Juliet                                 & Tragedy                                                         & The Complete Works of William Shakespeare                      \\\\\n",
       "\t The Tragedy of Romeo and Juliet                                 & Tragedy                                                         &                                                                \\\\\n",
       "\t The Tragedy of Romeo and Juliet                                 & Tragedy                                                         & The Tragedy of Romeo and Juliet                                \\\\\n",
       "\t The Tragedy of Romeo and Juliet                                 & Tragedy                                                         &                                                                \\\\\n",
       "\t The Tragedy of Romeo and Juliet                                 & Tragedy                                                         & The Library of the Future Complete Works of William Shakespeare\\\\\n",
       "\t The Tragedy of Romeo and Juliet                                 & Tragedy                                                         & Library of the Future is a TradeMark (TM) of World Library Inc.\\\\\n",
       "\\end{tabular}\n"
      ],
      "text/markdown": [
       "\n",
       "title | type | text | \n",
       "|---|---|---|---|---|---|\n",
       "| The Tragedy of Romeo and Juliet                                 | Tragedy                                                         | The Complete Works of William Shakespeare                       | \n",
       "| The Tragedy of Romeo and Juliet                                 | Tragedy                                                         |                                                                 | \n",
       "| The Tragedy of Romeo and Juliet                                 | Tragedy                                                         | The Tragedy of Romeo and Juliet                                 | \n",
       "| The Tragedy of Romeo and Juliet                                 | Tragedy                                                         |                                                                 | \n",
       "| The Tragedy of Romeo and Juliet                                 | Tragedy                                                         | The Library of the Future Complete Works of William Shakespeare | \n",
       "| The Tragedy of Romeo and Juliet                                 | Tragedy                                                         | Library of the Future is a TradeMark (TM) of World Library Inc. | \n",
       "\n",
       "\n"
      ],
      "text/plain": [
       "  title                           type   \n",
       "1 The Tragedy of Romeo and Juliet Tragedy\n",
       "2 The Tragedy of Romeo and Juliet Tragedy\n",
       "3 The Tragedy of Romeo and Juliet Tragedy\n",
       "4 The Tragedy of Romeo and Juliet Tragedy\n",
       "5 The Tragedy of Romeo and Juliet Tragedy\n",
       "6 The Tragedy of Romeo and Juliet Tragedy\n",
       "  text                                                           \n",
       "1 The Complete Works of William Shakespeare                      \n",
       "2                                                                \n",
       "3 The Tragedy of Romeo and Juliet                                \n",
       "4                                                                \n",
       "5 The Library of the Future Complete Works of William Shakespeare\n",
       "6 Library of the Future is a TradeMark (TM) of World Library Inc."
      ]
     },
     "metadata": {},
     "output_type": "display_data"
    },
    {
     "data": {
      "text/html": [
       "<table>\n",
       "<thead><tr><th scope=col>title</th><th scope=col>type</th><th scope=col>n</th></tr></thead>\n",
       "<tbody>\n",
       "\t<tr><td>A Midsummer Night's Dream      </td><td>Comedy                         </td><td>3459                           </td></tr>\n",
       "\t<tr><td>Hamlet, Prince of Denmark      </td><td>Tragedy                        </td><td>6776                           </td></tr>\n",
       "\t<tr><td>Much Ado about Nothing         </td><td>Comedy                         </td><td>3799                           </td></tr>\n",
       "\t<tr><td>The Merchant of Venice         </td><td>Comedy                         </td><td>4225                           </td></tr>\n",
       "\t<tr><td>The Tragedy of Macbeth         </td><td>Tragedy                        </td><td>3188                           </td></tr>\n",
       "\t<tr><td>The Tragedy of Romeo and Juliet</td><td>Tragedy                        </td><td>4441                           </td></tr>\n",
       "</tbody>\n",
       "</table>\n"
      ],
      "text/latex": [
       "\\begin{tabular}{r|lll}\n",
       " title & type & n\\\\\n",
       "\\hline\n",
       "\t A Midsummer Night's Dream       & Comedy                          & 3459                           \\\\\n",
       "\t Hamlet, Prince of Denmark       & Tragedy                         & 6776                           \\\\\n",
       "\t Much Ado about Nothing          & Comedy                          & 3799                           \\\\\n",
       "\t The Merchant of Venice          & Comedy                          & 4225                           \\\\\n",
       "\t The Tragedy of Macbeth          & Tragedy                         & 3188                           \\\\\n",
       "\t The Tragedy of Romeo and Juliet & Tragedy                         & 4441                           \\\\\n",
       "\\end{tabular}\n"
      ],
      "text/markdown": [
       "\n",
       "title | type | n | \n",
       "|---|---|---|---|---|---|\n",
       "| A Midsummer Night's Dream       | Comedy                          | 3459                            | \n",
       "| Hamlet, Prince of Denmark       | Tragedy                         | 6776                            | \n",
       "| Much Ado about Nothing          | Comedy                          | 3799                            | \n",
       "| The Merchant of Venice          | Comedy                          | 4225                            | \n",
       "| The Tragedy of Macbeth          | Tragedy                         | 3188                            | \n",
       "| The Tragedy of Romeo and Juliet | Tragedy                         | 4441                            | \n",
       "\n",
       "\n"
      ],
      "text/plain": [
       "  title                           type    n   \n",
       "1 A Midsummer Night's Dream       Comedy  3459\n",
       "2 Hamlet, Prince of Denmark       Tragedy 6776\n",
       "3 Much Ado about Nothing          Comedy  3799\n",
       "4 The Merchant of Venice          Comedy  4225\n",
       "5 The Tragedy of Macbeth          Tragedy 3188\n",
       "6 The Tragedy of Romeo and Juliet Tragedy 4441"
      ]
     },
     "metadata": {},
     "output_type": "display_data"
    }
   ],
   "source": [
    "# The data set shakespeare in available in the workspace\n",
    "head(shakespeare)\n",
    "\n",
    "# Pipe the shakespeare data frame to the next line\n",
    "shakespeare %>% \n",
    "  # Use count to find out how many titles/types there are\n",
    "  count(title, type)"
   ]
  },
  {
   "cell_type": "markdown",
   "metadata": {},
   "source": [
    "Amazing! Passing a dataset and a variable to count() returns the unique values in that variable and the corresponding count n, which in this case, is the number of lines in a play."
   ]
  },
  {
   "cell_type": "markdown",
   "metadata": {},
   "source": [
    "### Unnesting from text to word\n",
    "The shakespeare dataset is not yet compatible with tidy tools. You need to first break the text into individual tokens (the process of tokenization); a token is a meaningful unit of text for analysis, in many cases, just synonymous with a single word. You also need to transform the text to a tidy data structure with one token per row. You can use tidytext’s unnest_tokens() function to accomplish all of this at once.\n",
    "\n",
    "INSTRUCTIONS\n",
    "100XP\n",
    "\n",
    " - Load the tidytext package.\n",
    " - Group by title to annotate the data frame by line number.\n",
    " - Define a new column using mutate() called linenumber that keeps track of which line of the play text is from. (Check out row_number() to do this!)\n",
    " - Use unnest_tokens() to transform the non-tidy text data to a tidy text dataset.\n",
    " - Pipe the tidy Shakespeare data frame to the next line.\n",
    " - Use count() to find out how many times each word is used in Shakespeare's plays."
   ]
  },
  {
   "cell_type": "code",
   "execution_count": null,
   "metadata": {
    "collapsed": false
   },
   "outputs": [],
   "source": [
    "# Load tidytext\n",
    "library(tidytext)\n",
    "\n",
    "tidy_shakespeare <- shakespeare %>%\n",
    "  # Group by the titles of the plays\n",
    "  group_by(title) %>%\n",
    "  # Define a new column linenumber\n",
    "  mutate(linenumber = row_number()) %>%\n",
    "  # Transform the non-tidy text data to tidy text data\n",
    "  unnest_tokens(word, text) %>%\n",
    "  ungroup()\n",
    "\n",
    "# Pipe the tidy Shakespeare data frame to the next line\n",
    "tidy_shakespeare %>% \n",
    "  # Use count to find out how many times each word is used\n",
    "  count(word, sort = TRUE)"
   ]
  },
  {
   "cell_type": "code",
   "execution_count": 11,
   "metadata": {
    "collapsed": false
   },
   "outputs": [
    {
     "data": {
      "text/html": [
       "<table>\n",
       "<thead><tr><th scope=col>title</th><th scope=col>type</th><th scope=col>linenumber</th><th scope=col>word</th></tr></thead>\n",
       "<tbody>\n",
       "\t<tr><td>The Tragedy of Romeo and Juliet</td><td>Tragedy                        </td><td>1                              </td><td>the                            </td></tr>\n",
       "\t<tr><td>The Tragedy of Romeo and Juliet</td><td>Tragedy                        </td><td>1                              </td><td>complete                       </td></tr>\n",
       "\t<tr><td>The Tragedy of Romeo and Juliet</td><td>Tragedy                        </td><td>1                              </td><td>works                          </td></tr>\n",
       "\t<tr><td>The Tragedy of Romeo and Juliet</td><td>Tragedy                        </td><td>1                              </td><td>of                             </td></tr>\n",
       "\t<tr><td>The Tragedy of Romeo and Juliet</td><td>Tragedy                        </td><td>1                              </td><td>william                        </td></tr>\n",
       "\t<tr><td>The Tragedy of Romeo and Juliet</td><td>Tragedy                        </td><td>1                              </td><td>shakespeare                    </td></tr>\n",
       "</tbody>\n",
       "</table>\n"
      ],
      "text/latex": [
       "\\begin{tabular}{r|llll}\n",
       " title & type & linenumber & word\\\\\n",
       "\\hline\n",
       "\t The Tragedy of Romeo and Juliet & Tragedy                         & 1                               & the                            \\\\\n",
       "\t The Tragedy of Romeo and Juliet & Tragedy                         & 1                               & complete                       \\\\\n",
       "\t The Tragedy of Romeo and Juliet & Tragedy                         & 1                               & works                          \\\\\n",
       "\t The Tragedy of Romeo and Juliet & Tragedy                         & 1                               & of                             \\\\\n",
       "\t The Tragedy of Romeo and Juliet & Tragedy                         & 1                               & william                        \\\\\n",
       "\t The Tragedy of Romeo and Juliet & Tragedy                         & 1                               & shakespeare                    \\\\\n",
       "\\end{tabular}\n"
      ],
      "text/markdown": [
       "\n",
       "title | type | linenumber | word | \n",
       "|---|---|---|---|---|---|\n",
       "| The Tragedy of Romeo and Juliet | Tragedy                         | 1                               | the                             | \n",
       "| The Tragedy of Romeo and Juliet | Tragedy                         | 1                               | complete                        | \n",
       "| The Tragedy of Romeo and Juliet | Tragedy                         | 1                               | works                           | \n",
       "| The Tragedy of Romeo and Juliet | Tragedy                         | 1                               | of                              | \n",
       "| The Tragedy of Romeo and Juliet | Tragedy                         | 1                               | william                         | \n",
       "| The Tragedy of Romeo and Juliet | Tragedy                         | 1                               | shakespeare                     | \n",
       "\n",
       "\n"
      ],
      "text/plain": [
       "  title                           type    linenumber word       \n",
       "1 The Tragedy of Romeo and Juliet Tragedy 1          the        \n",
       "2 The Tragedy of Romeo and Juliet Tragedy 1          complete   \n",
       "3 The Tragedy of Romeo and Juliet Tragedy 1          works      \n",
       "4 The Tragedy of Romeo and Juliet Tragedy 1          of         \n",
       "5 The Tragedy of Romeo and Juliet Tragedy 1          william    \n",
       "6 The Tragedy of Romeo and Juliet Tragedy 1          shakespeare"
      ]
     },
     "metadata": {},
     "output_type": "display_data"
    }
   ],
   "source": [
    "head(tidy_shakespeare)"
   ]
  },
  {
   "cell_type": "code",
   "execution_count": 26,
   "metadata": {
    "collapsed": false
   },
   "outputs": [
    {
     "data": {
      "text/html": [
       "<table>\n",
       "<thead><tr><th scope=col>word</th><th scope=col>n</th></tr></thead>\n",
       "<tbody>\n",
       "\t<tr><td>the </td><td>4651</td></tr>\n",
       "\t<tr><td>and </td><td>4170</td></tr>\n",
       "\t<tr><td>i   </td><td>3296</td></tr>\n",
       "\t<tr><td>to  </td><td>3047</td></tr>\n",
       "\t<tr><td>of  </td><td>2645</td></tr>\n",
       "\t<tr><td>a   </td><td>2511</td></tr>\n",
       "</tbody>\n",
       "</table>\n"
      ],
      "text/latex": [
       "\\begin{tabular}{r|ll}\n",
       " word & n\\\\\n",
       "\\hline\n",
       "\t the  & 4651\\\\\n",
       "\t and  & 4170\\\\\n",
       "\t i    & 3296\\\\\n",
       "\t to   & 3047\\\\\n",
       "\t of   & 2645\\\\\n",
       "\t a    & 2511\\\\\n",
       "\\end{tabular}\n"
      ],
      "text/markdown": [
       "\n",
       "word | n | \n",
       "|---|---|---|---|---|---|\n",
       "| the  | 4651 | \n",
       "| and  | 4170 | \n",
       "| i    | 3296 | \n",
       "| to   | 3047 | \n",
       "| of   | 2645 | \n",
       "| a    | 2511 | \n",
       "\n",
       "\n"
      ],
      "text/plain": [
       "  word n   \n",
       "1 the  4651\n",
       "2 and  4170\n",
       "3 i    3296\n",
       "4 to   3047\n",
       "5 of   2645\n",
       "6 a    2511"
      ]
     },
     "metadata": {},
     "output_type": "display_data"
    }
   ],
   "source": [
    "head(tidy_shakespeare %>% \n",
    "  # Use count to find out how many times each word is used\n",
    "  count(word, sort = TRUE))"
   ]
  },
  {
   "cell_type": "markdown",
   "metadata": {},
   "source": [
    "Great! Notice how the most common words in the data frame are words like “the”, “and”, and “i” that have no sentiments associated with them. In the next exercise, you'll join the data with a lexicon to implement sentiment analysis."
   ]
  },
  {
   "cell_type": "markdown",
   "metadata": {},
   "source": [
    "### Sentiment analysis of Shakespeare\n",
    "You learned how to implement sentiment analysis with a join in the first chapter of this course. After transforming the text of these Shakespearean plays to a tidy text dataset in the last exercise, the resulting data frame tidy_shakespeare is ready for sentiment analysis with such an approach. Once you have performed the sentiment analysis, you can find out how many negative and positive words each play has with just one line of code.\n",
    "\n",
    "INSTRUCTIONS\n",
    "100XP\n",
    " - Use the correct kind of join to implement sentiment analysis.\n",
    " - Add the \"bing\" lexicon as the argument to the join function.\n",
    " - Find how many positive and negative words each play has by using two arguments in count()."
   ]
  },
  {
   "cell_type": "code",
   "execution_count": 27,
   "metadata": {
    "collapsed": false
   },
   "outputs": [
    {
     "name": "stderr",
     "output_type": "stream",
     "text": [
      "Joining, by = \"word\"\n"
     ]
    },
    {
     "data": {
      "text/html": [
       "<table>\n",
       "<thead><tr><th scope=col>title</th><th scope=col>sentiment</th><th scope=col>n</th></tr></thead>\n",
       "<tbody>\n",
       "\t<tr><td>A Midsummer Night's Dream      </td><td>negative                       </td><td> 681                           </td></tr>\n",
       "\t<tr><td>A Midsummer Night's Dream      </td><td>positive                       </td><td> 773                           </td></tr>\n",
       "\t<tr><td>Hamlet, Prince of Denmark      </td><td>negative                       </td><td>1323                           </td></tr>\n",
       "\t<tr><td>Hamlet, Prince of Denmark      </td><td>positive                       </td><td>1223                           </td></tr>\n",
       "\t<tr><td>Much Ado about Nothing         </td><td>negative                       </td><td> 767                           </td></tr>\n",
       "\t<tr><td>Much Ado about Nothing         </td><td>positive                       </td><td>1127                           </td></tr>\n",
       "\t<tr><td>The Merchant of Venice         </td><td>negative                       </td><td> 740                           </td></tr>\n",
       "\t<tr><td>The Merchant of Venice         </td><td>positive                       </td><td> 962                           </td></tr>\n",
       "\t<tr><td>The Tragedy of Macbeth         </td><td>negative                       </td><td> 914                           </td></tr>\n",
       "\t<tr><td>The Tragedy of Macbeth         </td><td>positive                       </td><td> 749                           </td></tr>\n",
       "\t<tr><td>The Tragedy of Romeo and Juliet</td><td>negative                       </td><td>1235                           </td></tr>\n",
       "\t<tr><td>The Tragedy of Romeo and Juliet</td><td>positive                       </td><td>1090                           </td></tr>\n",
       "</tbody>\n",
       "</table>\n"
      ],
      "text/latex": [
       "\\begin{tabular}{r|lll}\n",
       " title & sentiment & n\\\\\n",
       "\\hline\n",
       "\t A Midsummer Night's Dream       & negative                        &  681                           \\\\\n",
       "\t A Midsummer Night's Dream       & positive                        &  773                           \\\\\n",
       "\t Hamlet, Prince of Denmark       & negative                        & 1323                           \\\\\n",
       "\t Hamlet, Prince of Denmark       & positive                        & 1223                           \\\\\n",
       "\t Much Ado about Nothing          & negative                        &  767                           \\\\\n",
       "\t Much Ado about Nothing          & positive                        & 1127                           \\\\\n",
       "\t The Merchant of Venice          & negative                        &  740                           \\\\\n",
       "\t The Merchant of Venice          & positive                        &  962                           \\\\\n",
       "\t The Tragedy of Macbeth          & negative                        &  914                           \\\\\n",
       "\t The Tragedy of Macbeth          & positive                        &  749                           \\\\\n",
       "\t The Tragedy of Romeo and Juliet & negative                        & 1235                           \\\\\n",
       "\t The Tragedy of Romeo and Juliet & positive                        & 1090                           \\\\\n",
       "\\end{tabular}\n"
      ],
      "text/markdown": [
       "\n",
       "title | sentiment | n | \n",
       "|---|---|---|---|---|---|---|---|---|---|---|---|\n",
       "| A Midsummer Night's Dream       | negative                        |  681                            | \n",
       "| A Midsummer Night's Dream       | positive                        |  773                            | \n",
       "| Hamlet, Prince of Denmark       | negative                        | 1323                            | \n",
       "| Hamlet, Prince of Denmark       | positive                        | 1223                            | \n",
       "| Much Ado about Nothing          | negative                        |  767                            | \n",
       "| Much Ado about Nothing          | positive                        | 1127                            | \n",
       "| The Merchant of Venice          | negative                        |  740                            | \n",
       "| The Merchant of Venice          | positive                        |  962                            | \n",
       "| The Tragedy of Macbeth          | negative                        |  914                            | \n",
       "| The Tragedy of Macbeth          | positive                        |  749                            | \n",
       "| The Tragedy of Romeo and Juliet | negative                        | 1235                            | \n",
       "| The Tragedy of Romeo and Juliet | positive                        | 1090                            | \n",
       "\n",
       "\n"
      ],
      "text/plain": [
       "   title                           sentiment n   \n",
       "1  A Midsummer Night's Dream       negative   681\n",
       "2  A Midsummer Night's Dream       positive   773\n",
       "3  Hamlet, Prince of Denmark       negative  1323\n",
       "4  Hamlet, Prince of Denmark       positive  1223\n",
       "5  Much Ado about Nothing          negative   767\n",
       "6  Much Ado about Nothing          positive  1127\n",
       "7  The Merchant of Venice          negative   740\n",
       "8  The Merchant of Venice          positive   962\n",
       "9  The Tragedy of Macbeth          negative   914\n",
       "10 The Tragedy of Macbeth          positive   749\n",
       "11 The Tragedy of Romeo and Juliet negative  1235\n",
       "12 The Tragedy of Romeo and Juliet positive  1090"
      ]
     },
     "metadata": {},
     "output_type": "display_data"
    }
   ],
   "source": [
    "shakespeare_sentiment <- tidy_shakespeare %>%\n",
    "  # Implement sentiment analysis with the \"bing\" lexicon\n",
    "  inner_join(get_sentiments(\"bing\"))\n",
    "\n",
    "shakespeare_sentiment %>%\n",
    "  # Find how many positive/negative words each play has\n",
    "  count(title,sentiment)"
   ]
  },
  {
   "cell_type": "code",
   "execution_count": 28,
   "metadata": {
    "collapsed": false
   },
   "outputs": [
    {
     "data": {
      "text/html": [
       "<table>\n",
       "<thead><tr><th scope=col>title</th><th scope=col>negative</th><th scope=col>positive</th></tr></thead>\n",
       "<tbody>\n",
       "\t<tr><td>A Midsummer Night's Dream      </td><td> 681                           </td><td> 773                           </td></tr>\n",
       "\t<tr><td>Hamlet, Prince of Denmark      </td><td>1323                           </td><td>1223                           </td></tr>\n",
       "\t<tr><td>Much Ado about Nothing         </td><td> 767                           </td><td>1127                           </td></tr>\n",
       "\t<tr><td>The Merchant of Venice         </td><td> 740                           </td><td> 962                           </td></tr>\n",
       "\t<tr><td>The Tragedy of Macbeth         </td><td> 914                           </td><td> 749                           </td></tr>\n",
       "\t<tr><td>The Tragedy of Romeo and Juliet</td><td>1235                           </td><td>1090                           </td></tr>\n",
       "</tbody>\n",
       "</table>\n"
      ],
      "text/latex": [
       "\\begin{tabular}{r|lll}\n",
       " title & negative & positive\\\\\n",
       "\\hline\n",
       "\t A Midsummer Night's Dream       &  681                            &  773                           \\\\\n",
       "\t Hamlet, Prince of Denmark       & 1323                            & 1223                           \\\\\n",
       "\t Much Ado about Nothing          &  767                            & 1127                           \\\\\n",
       "\t The Merchant of Venice          &  740                            &  962                           \\\\\n",
       "\t The Tragedy of Macbeth          &  914                            &  749                           \\\\\n",
       "\t The Tragedy of Romeo and Juliet & 1235                            & 1090                           \\\\\n",
       "\\end{tabular}\n"
      ],
      "text/markdown": [
       "\n",
       "title | negative | positive | \n",
       "|---|---|---|---|---|---|\n",
       "| A Midsummer Night's Dream       |  681                            |  773                            | \n",
       "| Hamlet, Prince of Denmark       | 1323                            | 1223                            | \n",
       "| Much Ado about Nothing          |  767                            | 1127                            | \n",
       "| The Merchant of Venice          |  740                            |  962                            | \n",
       "| The Tragedy of Macbeth          |  914                            |  749                            | \n",
       "| The Tragedy of Romeo and Juliet | 1235                            | 1090                            | \n",
       "\n",
       "\n"
      ],
      "text/plain": [
       "  title                           negative positive\n",
       "1 A Midsummer Night's Dream        681      773    \n",
       "2 Hamlet, Prince of Denmark       1323     1223    \n",
       "3 Much Ado about Nothing           767     1127    \n",
       "4 The Merchant of Venice           740      962    \n",
       "5 The Tragedy of Macbeth           914      749    \n",
       "6 The Tragedy of Romeo and Juliet 1235     1090    "
      ]
     },
     "metadata": {},
     "output_type": "display_data"
    }
   ],
   "source": [
    "#Just to make it more readable, using the spread function in tidyr\n",
    "shakespeare_sentiment %>%\n",
    "  # Find how many positive/negative words each play has\n",
    "  count(title,sentiment) %>%\n",
    "    spread(sentiment, n)"
   ]
  },
  {
   "cell_type": "markdown",
   "metadata": {},
   "source": [
    "Fabulous! Passing two variables to count() returns the count n for each unique combination of the two variables. In this case, you have 6 plays and 2 sentiments, so count() returns 6 x 2 = 12 rows."
   ]
  },
  {
   "cell_type": "markdown",
   "metadata": {},
   "source": [
    "## Using count and mutate - Video"
   ]
  },
  {
   "cell_type": "code",
   "execution_count": 29,
   "metadata": {
    "collapsed": true
   },
   "outputs": [],
   "source": [
    "#write.csv(shakespeare, \"shakespeare.csv\", row.names=FALSE)"
   ]
  },
  {
   "cell_type": "markdown",
   "metadata": {},
   "source": [
    "### Tragedy or comedy?\n",
    "\n",
    "The tidy dataset you created, tidy_shakespeare, is again available in your environment. Which plays have a higher percentage of negative words? Do the tragedies have more negative words than the comedies?\n",
    "Instructions\n",
    "100xp\n",
    "\n",
    " - First, calculate how many negative and positive words each play used.\n",
    "\n",
    "     -     Implement sentiment analysis using the \"bing\" lexicon.\n",
    "     -     Use count() to find the number of words for each combination of title, type, and sentiment.\n",
    "\n",
    " - Now, find the percentage of negative words for each play.\n",
    "\n",
    "     -     Group by the titles of the plays.\n",
    "     -     Find the total number of words in each play using sum().\n",
    "     -     Calculate a percent for each play that is the number of words of each sentiment divided by the total words in that play.\n",
    "     -     Filter the results for only negative sentiment.\n"
   ]
  },
  {
   "cell_type": "code",
   "execution_count": 30,
   "metadata": {
    "collapsed": false
   },
   "outputs": [
    {
     "name": "stderr",
     "output_type": "stream",
     "text": [
      "Joining, by = \"word\"\n"
     ]
    },
    {
     "data": {
      "text/html": [
       "<table>\n",
       "<thead><tr><th scope=col>title</th><th scope=col>type</th><th scope=col>sentiment</th><th scope=col>n</th><th scope=col>total</th><th scope=col>percent</th></tr></thead>\n",
       "<tbody>\n",
       "\t<tr><td>Much Ado about Nothing         </td><td>Comedy                         </td><td>negative                       </td><td> 767                           </td><td>1894                           </td><td>0.4049630                      </td></tr>\n",
       "\t<tr><td>The Merchant of Venice         </td><td>Comedy                         </td><td>negative                       </td><td> 740                           </td><td>1702                           </td><td>0.4347826                      </td></tr>\n",
       "\t<tr><td>A Midsummer Night's Dream      </td><td>Comedy                         </td><td>negative                       </td><td> 681                           </td><td>1454                           </td><td>0.4683631                      </td></tr>\n",
       "\t<tr><td>Hamlet, Prince of Denmark      </td><td>Tragedy                        </td><td>negative                       </td><td>1323                           </td><td>2546                           </td><td>0.5196386                      </td></tr>\n",
       "\t<tr><td>The Tragedy of Romeo and Juliet</td><td>Tragedy                        </td><td>negative                       </td><td>1235                           </td><td>2325                           </td><td>0.5311828                      </td></tr>\n",
       "\t<tr><td>The Tragedy of Macbeth         </td><td>Tragedy                        </td><td>negative                       </td><td> 914                           </td><td>1663                           </td><td>0.5496091                      </td></tr>\n",
       "</tbody>\n",
       "</table>\n"
      ],
      "text/latex": [
       "\\begin{tabular}{r|llllll}\n",
       " title & type & sentiment & n & total & percent\\\\\n",
       "\\hline\n",
       "\t Much Ado about Nothing          & Comedy                          & negative                        &  767                            & 1894                            & 0.4049630                      \\\\\n",
       "\t The Merchant of Venice          & Comedy                          & negative                        &  740                            & 1702                            & 0.4347826                      \\\\\n",
       "\t A Midsummer Night's Dream       & Comedy                          & negative                        &  681                            & 1454                            & 0.4683631                      \\\\\n",
       "\t Hamlet, Prince of Denmark       & Tragedy                         & negative                        & 1323                            & 2546                            & 0.5196386                      \\\\\n",
       "\t The Tragedy of Romeo and Juliet & Tragedy                         & negative                        & 1235                            & 2325                            & 0.5311828                      \\\\\n",
       "\t The Tragedy of Macbeth          & Tragedy                         & negative                        &  914                            & 1663                            & 0.5496091                      \\\\\n",
       "\\end{tabular}\n"
      ],
      "text/markdown": [
       "\n",
       "title | type | sentiment | n | total | percent | \n",
       "|---|---|---|---|---|---|\n",
       "| Much Ado about Nothing          | Comedy                          | negative                        |  767                            | 1894                            | 0.4049630                       | \n",
       "| The Merchant of Venice          | Comedy                          | negative                        |  740                            | 1702                            | 0.4347826                       | \n",
       "| A Midsummer Night's Dream       | Comedy                          | negative                        |  681                            | 1454                            | 0.4683631                       | \n",
       "| Hamlet, Prince of Denmark       | Tragedy                         | negative                        | 1323                            | 2546                            | 0.5196386                       | \n",
       "| The Tragedy of Romeo and Juliet | Tragedy                         | negative                        | 1235                            | 2325                            | 0.5311828                       | \n",
       "| The Tragedy of Macbeth          | Tragedy                         | negative                        |  914                            | 1663                            | 0.5496091                       | \n",
       "\n",
       "\n"
      ],
      "text/plain": [
       "  title                           type    sentiment n    total percent  \n",
       "1 Much Ado about Nothing          Comedy  negative   767 1894  0.4049630\n",
       "2 The Merchant of Venice          Comedy  negative   740 1702  0.4347826\n",
       "3 A Midsummer Night's Dream       Comedy  negative   681 1454  0.4683631\n",
       "4 Hamlet, Prince of Denmark       Tragedy negative  1323 2546  0.5196386\n",
       "5 The Tragedy of Romeo and Juliet Tragedy negative  1235 2325  0.5311828\n",
       "6 The Tragedy of Macbeth          Tragedy negative   914 1663  0.5496091"
      ]
     },
     "metadata": {},
     "output_type": "display_data"
    }
   ],
   "source": [
    "sentiment_counts <- tidy_shakespeare %>%\n",
    "    # Implement sentiment analysis using the \"bing\" lexicon\n",
    "    inner_join(get_sentiments(\"bing\")) %>%\n",
    "    # Count the number of words by title, type, and sentiment\n",
    "    count(title,type, sentiment)\n",
    "\n",
    "sentiment_counts %>%\n",
    "    # Group by the titles of the plays\n",
    "    group_by(title) %>%\n",
    "    # Find the total number of words in each play\n",
    "    mutate(total = sum(n),\n",
    "    # Calculate the number of words divided by the total\n",
    "           percent = n/total) %>%\n",
    "    # Filter the results for only negative sentiment\n",
    "    filter(sentiment==\"negative\") %>%\n",
    "    arrange(percent)"
   ]
  },
  {
   "cell_type": "markdown",
   "metadata": {},
   "source": [
    "### Most common positive and negative words\n",
    "\n",
    "You found in the previous exercise that Shakespeare's tragedies use proportionally more negative words than the comedies. Now you can explore which specific words are driving these sentiment scores. Which are the most common positive and negative words in these plays?\n",
    "\n",
    "There are three steps in the code in this exercise. The first step counts how many times each word is used, the second step takes the top 10 most-used positive and negative words, and the final step makes a plot to visualize this result.\n",
    "Instructions\n",
    "100xp\n",
    "\n",
    "  -   Implement sentiment analysis using the \"bing\" lexicon.\n",
    "  -   Use count() to find word counts by sentiment.\n",
    "  -   Group by sentiment so you can take the top 10 words in each sentiment.\n",
    "  -   Notice what the line mutate(word = reorder(word, n)) does; it converts word from a character that would be plotted in alphabetical order to a factor that will be plotted in order of n.\n",
    "\n",
    " - Now you can make a visualization of top_words using ggplot2 to see these results.\n",
    "\n",
    "  -  Put word on the x-axis and n on the y-axis.\n",
    "  -  Use geom_col() to make a bar chart.\n"
   ]
  },
  {
   "cell_type": "code",
   "execution_count": 31,
   "metadata": {
    "collapsed": false
   },
   "outputs": [
    {
     "name": "stderr",
     "output_type": "stream",
     "text": [
      "Joining, by = \"word\"\n",
      "Selecting by n\n"
     ]
    },
    {
     "data": {},
     "metadata": {},
     "output_type": "display_data"
    },
    {
     "data": {
      "image/png": "[encoded data removed]",
      "text/plain": [
       "plot without title"
      ]
     },
     "metadata": {},
     "output_type": "display_data"
    }
   ],
   "source": [
    "    word_counts <- tidy_shakespeare %>%\n",
    "      # Implement sentiment analysis using the \"bing\" lexicon\n",
    "      inner_join(get_sentiments(\"bing\")) %>%\n",
    "      # Count by word and sentiment\n",
    "      count(word,sentiment)\n",
    "\n",
    "    top_words <- word_counts %>%\n",
    "      # Group by sentiment\n",
    "      group_by(sentiment) %>%\n",
    "      # Take the top 10 for each sentiment\n",
    "      top_n(10) %>%\n",
    "      ungroup() %>%\n",
    "      # Make word a factor in order of n\n",
    "      mutate(word = reorder(word, n))\n",
    "\n",
    "    # Use aes() to put words on the x-axis and n on the y-axis\n",
    "    ggplot(top_words, aes(word, n, fill = sentiment)) +\n",
    "      # Make a bar chart with geom_col()\n",
    "      geom_col(show.legend = FALSE) +\n",
    "      facet_wrap(~sentiment, scales = \"free\") +  \n",
    "      coord_flip()"
   ]
  },
  {
   "cell_type": "markdown",
   "metadata": {},
   "source": [
    "You did it! Death is pretty negative and love is positive, but are there words in that list that had different connotations during Shakespeare's time? Do you see a word that the lexicon has misidentified? "
   ]
  },
  {
   "cell_type": "markdown",
   "metadata": {},
   "source": [
    "### Which word was misidentified?\n",
    "\n",
    "In the last exercise, you found the top 10 words that contributed most to negative sentiment in these Shakespearean plays, but lexicons are not always foolproof tools for use with all kinds of text. Which of those top 10 negative words used by Shakespeare was actually misidentified as negative by the sentiment lexicon?\n",
    "Answer the question\n",
    "50xp\n",
    "Possible Answers\n",
    "\n",
    "    - death\n",
    "    - press 1\n",
    "    - wilt (Correct)\n",
    "    - press 2\n",
    "    - poor\n",
    "    - press 3\n",
    "    - mad\n",
    "    - press 4\n",
    "    - die\n",
    "    - press 5"
   ]
  },
  {
   "cell_type": "markdown",
   "metadata": {},
   "source": [
    "Correct! The word “wilt” was used differently in Shakespeare's time and was not negative; the lexicon has misidentified it. For example, from Romeo and Juliet, “For thou wilt lie upon the wings of night”. It is important to explore the details of how words were scored when performing sentiment analyses. "
   ]
  },
  {
   "cell_type": "markdown",
   "metadata": {},
   "source": [
    "## Sentiment contributions by individual words - Video"
   ]
  },
  {
   "cell_type": "markdown",
   "metadata": {},
   "source": [
    "### Word contributions by play\n",
    "\n",
    "You have already explored how words contribute to sentiment scores for Shakespeare's plays as a whole. In this exercise, you will look at differences between titles. You will also practice using a different sentiment lexicon, the \"afinn\" lexicon in which words have a score from -5 to 5. Different lexicons take different approaches to quantifying the emotion/opinion content of words.\n",
    "\n",
    "Which words contribute to the overall sentiment in which plays? In this exercise, you will look specifically at Macbeth.\n",
    "Instructions\n",
    "100xp\n",
    "\n",
    "  -  Use count() to find how many times each word is used in each play.\n",
    "  -  Implement sentiment analysis with the \"afinn\" lexicon. (Notice that it is possible to perform sentiment analysis on count data, not only the original tidy data frame.)\n",
    "  -  Filter to only look at the sentiment scores for Macbeth; the title for Macbeth is \"The Tragedy of Macbeth\".\n",
    "  -  In a second argument to filter(), only examine words with negative sentiment.\n"
   ]
  },
  {
   "cell_type": "code",
   "execution_count": null,
   "metadata": {
    "collapsed": true
   },
   "outputs": [],
   "source": [
    "tidy_shakespeare %>%\n",
    "  # Count by title and word\n",
    "  count(title, word, sort = TRUE) %>%\n",
    "  # Implement sentiment analysis using the \"afinn\" lexicon\n",
    "  inner_join(get_sentiments(\"afinn\")) %>%\n",
    "  # Filter to only examine the scores for Macbeth that are negative\n",
    "  filter(title == \"The Tragedy of Macbeth\", score < 0)"
   ]
  },
  {
   "cell_type": "code",
   "execution_count": 12,
   "metadata": {
    "collapsed": false
   },
   "outputs": [
    {
     "name": "stderr",
     "output_type": "stream",
     "text": [
      "Joining, by = \"word\"\n"
     ]
    },
    {
     "data": {
      "text/html": [
       "<table>\n",
       "<thead><tr><th scope=col>title</th><th scope=col>word</th><th scope=col>n</th><th scope=col>score</th></tr></thead>\n",
       "<tbody>\n",
       "\t<tr><td>The Tragedy of Macbeth</td><td>no                    </td><td>73                    </td><td>-1                    </td></tr>\n",
       "\t<tr><td>The Tragedy of Macbeth</td><td>fear                  </td><td>35                    </td><td>-2                    </td></tr>\n",
       "\t<tr><td>The Tragedy of Macbeth</td><td>death                 </td><td>20                    </td><td>-2                    </td></tr>\n",
       "\t<tr><td>The Tragedy of Macbeth</td><td>bloody                </td><td>16                    </td><td>-3                    </td></tr>\n",
       "\t<tr><td>The Tragedy of Macbeth</td><td>poor                  </td><td>16                    </td><td>-2                    </td></tr>\n",
       "\t<tr><td>The Tragedy of Macbeth</td><td>strange               </td><td>16                    </td><td>-1                    </td></tr>\n",
       "</tbody>\n",
       "</table>\n"
      ],
      "text/latex": [
       "\\begin{tabular}{r|llll}\n",
       " title & word & n & score\\\\\n",
       "\\hline\n",
       "\t The Tragedy of Macbeth & no                     & 73                     & -1                    \\\\\n",
       "\t The Tragedy of Macbeth & fear                   & 35                     & -2                    \\\\\n",
       "\t The Tragedy of Macbeth & death                  & 20                     & -2                    \\\\\n",
       "\t The Tragedy of Macbeth & bloody                 & 16                     & -3                    \\\\\n",
       "\t The Tragedy of Macbeth & poor                   & 16                     & -2                    \\\\\n",
       "\t The Tragedy of Macbeth & strange                & 16                     & -1                    \\\\\n",
       "\\end{tabular}\n"
      ],
      "text/markdown": [
       "\n",
       "title | word | n | score | \n",
       "|---|---|---|---|---|---|\n",
       "| The Tragedy of Macbeth | no                     | 73                     | -1                     | \n",
       "| The Tragedy of Macbeth | fear                   | 35                     | -2                     | \n",
       "| The Tragedy of Macbeth | death                  | 20                     | -2                     | \n",
       "| The Tragedy of Macbeth | bloody                 | 16                     | -3                     | \n",
       "| The Tragedy of Macbeth | poor                   | 16                     | -2                     | \n",
       "| The Tragedy of Macbeth | strange                | 16                     | -1                     | \n",
       "\n",
       "\n"
      ],
      "text/plain": [
       "  title                  word    n  score\n",
       "1 The Tragedy of Macbeth no      73 -1   \n",
       "2 The Tragedy of Macbeth fear    35 -2   \n",
       "3 The Tragedy of Macbeth death   20 -2   \n",
       "4 The Tragedy of Macbeth bloody  16 -3   \n",
       "5 The Tragedy of Macbeth poor    16 -2   \n",
       "6 The Tragedy of Macbeth strange 16 -1   "
      ]
     },
     "metadata": {},
     "output_type": "display_data"
    }
   ],
   "source": [
    "#by me - for display, adding head() at the end\n",
    "tidy_shakespeare %>%\n",
    "  # Count by title and word\n",
    "  count(title, word, sort = TRUE) %>%\n",
    "  # Implement sentiment analysis using the \"afinn\" lexicon\n",
    "  inner_join(get_sentiments(\"afinn\")) %>%\n",
    "  # Filter to only examine the scores for Macbeth that are negative\n",
    "  filter(title == \"The Tragedy of Macbeth\", score < 0) %>% head()"
   ]
  },
  {
   "cell_type": "markdown",
   "metadata": {},
   "source": [
    "Marvelous! Notice the use of words specific to Macbeth like “bloody”. "
   ]
  },
  {
   "cell_type": "markdown",
   "metadata": {},
   "source": [
    "### Calculating a contribution score\n",
    "In the last exercise, you saw how words in Macbeth were used different number of times and also had different sentiment scores in the \"afinn\" lexicon, from -5 to 5. Since this lexicon provides these scores for each word, you can calculate a relative contribution for each word in each play. This contribution can be found by multiplying the score for each word by the times it is used in each play and divided by the total words in each play.\n",
    "\n",
    "INSTRUCTIONS\n",
    "\n",
    " - Use count() to find how many times each word is used in each play.\n",
    " - Implement sentiment analysis with the \"afinn\" lexicon.\n",
    " - Group by the titles of the plays to get ready to calculate a total for each play in the next line.\n",
    " - Calculate a contribution for each word in each play; the contribution can be found by multiplying each word's score by the times it is used in the play and divided by the total words in the play."
   ]
  },
  {
   "cell_type": "code",
   "execution_count": 13,
   "metadata": {
    "collapsed": false
   },
   "outputs": [
    {
     "name": "stderr",
     "output_type": "stream",
     "text": [
      "Joining, by = \"word\"\n"
     ]
    },
    {
     "data": {
      "text/html": [
       "<table>\n",
       "<thead><tr><th scope=col>title</th><th scope=col>word</th><th scope=col>n</th><th scope=col>score</th><th scope=col>contribution</th></tr></thead>\n",
       "<tbody>\n",
       "\t<tr><td>Hamlet, Prince of Denmark      </td><td>no                             </td><td>143                            </td><td>-1                             </td><td>-0.06520748                    </td></tr>\n",
       "\t<tr><td>The Tragedy of Romeo and Juliet</td><td>love                           </td><td>140                            </td><td> 3                             </td><td> 0.21319797                    </td></tr>\n",
       "\t<tr><td>Much Ado about Nothing         </td><td>no                             </td><td>132                            </td><td>-1                             </td><td>-0.07683353                    </td></tr>\n",
       "\t<tr><td>Much Ado about Nothing         </td><td>hero                           </td><td>114                            </td><td> 2                             </td><td> 0.13271246                    </td></tr>\n",
       "\t<tr><td>A Midsummer Night's Dream      </td><td>love                           </td><td>110                            </td><td> 3                             </td><td> 0.26982829                    </td></tr>\n",
       "\t<tr><td>Hamlet, Prince of Denmark      </td><td>good                           </td><td>109                            </td><td> 3                             </td><td> 0.14911081                    </td></tr>\n",
       "</tbody>\n",
       "</table>\n"
      ],
      "text/latex": [
       "\\begin{tabular}{r|lllll}\n",
       " title & word & n & score & contribution\\\\\n",
       "\\hline\n",
       "\t Hamlet, Prince of Denmark       & no                              & 143                             & -1                              & -0.06520748                    \\\\\n",
       "\t The Tragedy of Romeo and Juliet & love                            & 140                             &  3                              &  0.21319797                    \\\\\n",
       "\t Much Ado about Nothing          & no                              & 132                             & -1                              & -0.07683353                    \\\\\n",
       "\t Much Ado about Nothing          & hero                            & 114                             &  2                              &  0.13271246                    \\\\\n",
       "\t A Midsummer Night's Dream       & love                            & 110                             &  3                              &  0.26982829                    \\\\\n",
       "\t Hamlet, Prince of Denmark       & good                            & 109                             &  3                              &  0.14911081                    \\\\\n",
       "\\end{tabular}\n"
      ],
      "text/markdown": [
       "\n",
       "title | word | n | score | contribution | \n",
       "|---|---|---|---|---|---|\n",
       "| Hamlet, Prince of Denmark       | no                              | 143                             | -1                              | -0.06520748                     | \n",
       "| The Tragedy of Romeo and Juliet | love                            | 140                             |  3                              |  0.21319797                     | \n",
       "| Much Ado about Nothing          | no                              | 132                             | -1                              | -0.07683353                     | \n",
       "| Much Ado about Nothing          | hero                            | 114                             |  2                              |  0.13271246                     | \n",
       "| A Midsummer Night's Dream       | love                            | 110                             |  3                              |  0.26982829                     | \n",
       "| Hamlet, Prince of Denmark       | good                            | 109                             |  3                              |  0.14911081                     | \n",
       "\n",
       "\n"
      ],
      "text/plain": [
       "  title                           word n   score contribution\n",
       "1 Hamlet, Prince of Denmark       no   143 -1    -0.06520748 \n",
       "2 The Tragedy of Romeo and Juliet love 140  3     0.21319797 \n",
       "3 Much Ado about Nothing          no   132 -1    -0.07683353 \n",
       "4 Much Ado about Nothing          hero 114  2     0.13271246 \n",
       "5 A Midsummer Night's Dream       love 110  3     0.26982829 \n",
       "6 Hamlet, Prince of Denmark       good 109  3     0.14911081 "
      ]
     },
     "metadata": {},
     "output_type": "display_data"
    }
   ],
   "source": [
    "sentiment_contributions <- tidy_shakespeare %>%\n",
    "  # Count by title and word\n",
    "  count(title, word, sort = TRUE) %>%\n",
    "  # Implement sentiment analysis using the \"afinn\" lexicon\n",
    "  inner_join(get_sentiments(\"afinn\")) %>%\n",
    "  # Group by title\n",
    "  group_by(title) %>%\n",
    "  # Calculate a contribution for each word in each title\n",
    "  mutate(contribution = n*score/sum(n)) %>%\n",
    "  ungroup()\n",
    "    \n",
    "sentiment_contributions"
   ]
  },
  {
   "cell_type": "markdown",
   "metadata": {},
   "source": [
    "Nice work! Notice that “hero” shows up in your results there; that is the name of one of the characters in “Much Ado About Nothing”."
   ]
  },
  {
   "cell_type": "markdown",
   "metadata": {},
   "source": [
    "### Alas, poor Yorick!\n",
    "The sentiment_contributions that you calculated in the last exercise is available in your environment. It's time to explore some of your results! Look at Hamlet and The Merchant of Venice to see what negative and positive words are important in these two plays.\n",
    "\n",
    "INSTRUCTIONS\n",
    "100XP\n",
    "\n",
    " - Look at sentiment_contributions in the console and use whatever strategy you like to find the exact titles for Hamlet and The Merchant of Venice. (Perhaps count()?)\n",
    " - Filter for Hamlet and arrange() in ascending order (the default order) of contribution to see the words that contributed most negatively.\n",
    " - Filter for The Merchant of Venice and arrange() in descending order of contribution to see the words that contributed most positively."
   ]
  },
  {
   "cell_type": "code",
   "execution_count": 112,
   "metadata": {
    "collapsed": false
   },
   "outputs": [
    {
     "data": {
      "text/html": [
       "<table>\n",
       "<thead><tr><th scope=col>title</th><th scope=col>word</th><th scope=col>n</th><th scope=col>score</th><th scope=col>contribution</th></tr></thead>\n",
       "<tbody>\n",
       "\t<tr><td>Hamlet, Prince of Denmark</td><td>no                       </td><td>143                      </td><td>-1                       </td><td>-0.06520748              </td></tr>\n",
       "\t<tr><td>Hamlet, Prince of Denmark</td><td>dead                     </td><td> 33                      </td><td>-3                       </td><td>-0.04514364              </td></tr>\n",
       "\t<tr><td>Hamlet, Prince of Denmark</td><td>death                    </td><td> 38                      </td><td>-2                       </td><td>-0.03465572              </td></tr>\n",
       "\t<tr><td>Hamlet, Prince of Denmark</td><td>madness                  </td><td> 22                      </td><td>-3                       </td><td>-0.03009576              </td></tr>\n",
       "\t<tr><td>Hamlet, Prince of Denmark</td><td>mad                      </td><td> 21                      </td><td>-3                       </td><td>-0.02872777              </td></tr>\n",
       "\t<tr><td>Hamlet, Prince of Denmark</td><td>fear                     </td><td> 21                      </td><td>-2                       </td><td>-0.01915185              </td></tr>\n",
       "</tbody>\n",
       "</table>\n"
      ],
      "text/latex": [
       "\\begin{tabular}{r|lllll}\n",
       " title & word & n & score & contribution\\\\\n",
       "\\hline\n",
       "\t Hamlet, Prince of Denmark & no                        & 143                       & -1                        & -0.06520748              \\\\\n",
       "\t Hamlet, Prince of Denmark & dead                      &  33                       & -3                        & -0.04514364              \\\\\n",
       "\t Hamlet, Prince of Denmark & death                     &  38                       & -2                        & -0.03465572              \\\\\n",
       "\t Hamlet, Prince of Denmark & madness                   &  22                       & -3                        & -0.03009576              \\\\\n",
       "\t Hamlet, Prince of Denmark & mad                       &  21                       & -3                        & -0.02872777              \\\\\n",
       "\t Hamlet, Prince of Denmark & fear                      &  21                       & -2                        & -0.01915185              \\\\\n",
       "\\end{tabular}\n"
      ],
      "text/markdown": [
       "\n",
       "title | word | n | score | contribution | \n",
       "|---|---|---|---|---|---|\n",
       "| Hamlet, Prince of Denmark | no                        | 143                       | -1                        | -0.06520748               | \n",
       "| Hamlet, Prince of Denmark | dead                      |  33                       | -3                        | -0.04514364               | \n",
       "| Hamlet, Prince of Denmark | death                     |  38                       | -2                        | -0.03465572               | \n",
       "| Hamlet, Prince of Denmark | madness                   |  22                       | -3                        | -0.03009576               | \n",
       "| Hamlet, Prince of Denmark | mad                       |  21                       | -3                        | -0.02872777               | \n",
       "| Hamlet, Prince of Denmark | fear                      |  21                       | -2                        | -0.01915185               | \n",
       "\n",
       "\n"
      ],
      "text/plain": [
       "  title                     word    n   score contribution\n",
       "1 Hamlet, Prince of Denmark no      143 -1    -0.06520748 \n",
       "2 Hamlet, Prince of Denmark dead     33 -3    -0.04514364 \n",
       "3 Hamlet, Prince of Denmark death    38 -2    -0.03465572 \n",
       "4 Hamlet, Prince of Denmark madness  22 -3    -0.03009576 \n",
       "5 Hamlet, Prince of Denmark mad      21 -3    -0.02872777 \n",
       "6 Hamlet, Prince of Denmark fear     21 -2    -0.01915185 "
      ]
     },
     "metadata": {},
     "output_type": "display_data"
    },
    {
     "data": {
      "text/html": [
       "<table>\n",
       "<thead><tr><th scope=col>title</th><th scope=col>word</th><th scope=col>n</th><th scope=col>score</th><th scope=col>contribution</th></tr></thead>\n",
       "<tbody>\n",
       "\t<tr><td>The Merchant of Venice</td><td>good                  </td><td>63                    </td><td>3                     </td><td>0.12945205            </td></tr>\n",
       "\t<tr><td>The Merchant of Venice</td><td>love                  </td><td>60                    </td><td>3                     </td><td>0.12328767            </td></tr>\n",
       "\t<tr><td>The Merchant of Venice</td><td>fair                  </td><td>35                    </td><td>2                     </td><td>0.04794521            </td></tr>\n",
       "\t<tr><td>The Merchant of Venice</td><td>like                  </td><td>34                    </td><td>2                     </td><td>0.04657534            </td></tr>\n",
       "\t<tr><td>The Merchant of Venice</td><td>true                  </td><td>24                    </td><td>2                     </td><td>0.03287671            </td></tr>\n",
       "\t<tr><td>The Merchant of Venice</td><td>sweet                 </td><td>23                    </td><td>2                     </td><td>0.03150685            </td></tr>\n",
       "</tbody>\n",
       "</table>\n"
      ],
      "text/latex": [
       "\\begin{tabular}{r|lllll}\n",
       " title & word & n & score & contribution\\\\\n",
       "\\hline\n",
       "\t The Merchant of Venice & good                   & 63                     & 3                      & 0.12945205            \\\\\n",
       "\t The Merchant of Venice & love                   & 60                     & 3                      & 0.12328767            \\\\\n",
       "\t The Merchant of Venice & fair                   & 35                     & 2                      & 0.04794521            \\\\\n",
       "\t The Merchant of Venice & like                   & 34                     & 2                      & 0.04657534            \\\\\n",
       "\t The Merchant of Venice & true                   & 24                     & 2                      & 0.03287671            \\\\\n",
       "\t The Merchant of Venice & sweet                  & 23                     & 2                      & 0.03150685            \\\\\n",
       "\\end{tabular}\n"
      ],
      "text/markdown": [
       "\n",
       "title | word | n | score | contribution | \n",
       "|---|---|---|---|---|---|\n",
       "| The Merchant of Venice | good                   | 63                     | 3                      | 0.12945205             | \n",
       "| The Merchant of Venice | love                   | 60                     | 3                      | 0.12328767             | \n",
       "| The Merchant of Venice | fair                   | 35                     | 2                      | 0.04794521             | \n",
       "| The Merchant of Venice | like                   | 34                     | 2                      | 0.04657534             | \n",
       "| The Merchant of Venice | true                   | 24                     | 2                      | 0.03287671             | \n",
       "| The Merchant of Venice | sweet                  | 23                     | 2                      | 0.03150685             | \n",
       "\n",
       "\n"
      ],
      "text/plain": [
       "  title                  word  n  score contribution\n",
       "1 The Merchant of Venice good  63 3     0.12945205  \n",
       "2 The Merchant of Venice love  60 3     0.12328767  \n",
       "3 The Merchant of Venice fair  35 2     0.04794521  \n",
       "4 The Merchant of Venice like  34 2     0.04657534  \n",
       "5 The Merchant of Venice true  24 2     0.03287671  \n",
       "6 The Merchant of Venice sweet 23 2     0.03150685  "
      ]
     },
     "metadata": {},
     "output_type": "display_data"
    }
   ],
   "source": [
    "sentiment_contributions %>%\n",
    "  # Filter for Hamlet\n",
    "  filter(title == \"Hamlet, Prince of Denmark\") %>%\n",
    "  # Arrange to see the most negative words\n",
    "  arrange(contribution) \n",
    "\n",
    "sentiment_contributions %>%\n",
    "  # Filter for The Merchant of Venice\n",
    "  filter(title == \"The Merchant of Venice\") %>%\n",
    "  # Arrange to see the most positive words\n",
    "  arrange(desc(contribution)) "
   ]
  },
  {
   "cell_type": "markdown",
   "metadata": {},
   "source": [
    "Amazing! These are definitely characteristic words for these two plays."
   ]
  },
  {
   "cell_type": "markdown",
   "metadata": {},
   "source": [
    "## Which words are important in each play? - Video"
   ]
  },
  {
   "cell_type": "markdown",
   "metadata": {},
   "source": [
    "### Sentiment changes through a play\n",
    "In the last set of exercises in this chapter, you will examine how sentiment changes through the narrative arcs of these Shakespearean plays. We will start by first implementing sentiment analysis using inner_join(), and then use count() with four arguments:\n",
    "\n",
    "title,\n",
    "type,\n",
    "an index that will section together lines of the play, and\n",
    "sentiment.\n",
    "After these lines of code, you will have the number of positive and negative words used in each index-ed section of the play. These sections will be 70 lines long in your analysis here. You want a chunk of text that is not too small (because then the sentiment changes will be very noisy) and not too big (because then you will not be able to see plot structure). In an analysis of this type you may need to experiment with what size chunks to make; sections of 70 lines works well for these plays.\n",
    "\n",
    "INSTRUCTIONS\n",
    "100XP\n",
    "\n",
    "Implement sentiment analysis using the \"bing\" lexicon.\n",
    " - Use count() to find the number of words for each sentiment used in each play in sections, using four arguments.\n",
    " - The first argument for count() maps to the plays themselves.\n",
    " - The second argument keeps track of whether the play is a comedy or tragedy.\n",
    " - The third argument is defined by you; call it index and set it equal to linenumber %/% 70. This index makes chunks of text that are 70 lines long using integer division (%/%).\n",
    " - The fourth argument maps to the different sentiment categories."
   ]
  },
  {
   "cell_type": "code",
   "execution_count": 19,
   "metadata": {
    "collapsed": false
   },
   "outputs": [
    {
     "name": "stderr",
     "output_type": "stream",
     "text": [
      "Joining, by = \"word\"\n"
     ]
    },
    {
     "data": {
      "text/html": [
       "<table>\n",
       "<thead><tr><th scope=col>title</th><th scope=col>type</th><th scope=col>index</th><th scope=col>sentiment</th><th scope=col>n</th></tr></thead>\n",
       "<tbody>\n",
       "\t<tr><td>A Midsummer Night's Dream</td><td>Comedy                   </td><td>0                        </td><td>negative                 </td><td> 4                       </td></tr>\n",
       "\t<tr><td>A Midsummer Night's Dream</td><td>Comedy                   </td><td>0                        </td><td>positive                 </td><td>11                       </td></tr>\n",
       "\t<tr><td>A Midsummer Night's Dream</td><td>Comedy                   </td><td>1                        </td><td>negative                 </td><td> 7                       </td></tr>\n",
       "\t<tr><td>A Midsummer Night's Dream</td><td>Comedy                   </td><td>1                        </td><td>positive                 </td><td>19                       </td></tr>\n",
       "\t<tr><td>A Midsummer Night's Dream</td><td>Comedy                   </td><td>2                        </td><td>negative                 </td><td>20                       </td></tr>\n",
       "\t<tr><td>A Midsummer Night's Dream</td><td>Comedy                   </td><td>2                        </td><td>positive                 </td><td>23                       </td></tr>\n",
       "</tbody>\n",
       "</table>\n"
      ],
      "text/latex": [
       "\\begin{tabular}{r|lllll}\n",
       " title & type & index & sentiment & n\\\\\n",
       "\\hline\n",
       "\t A Midsummer Night's Dream & Comedy                    & 0                         & negative                  &  4                       \\\\\n",
       "\t A Midsummer Night's Dream & Comedy                    & 0                         & positive                  & 11                       \\\\\n",
       "\t A Midsummer Night's Dream & Comedy                    & 1                         & negative                  &  7                       \\\\\n",
       "\t A Midsummer Night's Dream & Comedy                    & 1                         & positive                  & 19                       \\\\\n",
       "\t A Midsummer Night's Dream & Comedy                    & 2                         & negative                  & 20                       \\\\\n",
       "\t A Midsummer Night's Dream & Comedy                    & 2                         & positive                  & 23                       \\\\\n",
       "\\end{tabular}\n"
      ],
      "text/markdown": [
       "\n",
       "title | type | index | sentiment | n | \n",
       "|---|---|---|---|---|---|\n",
       "| A Midsummer Night's Dream | Comedy                    | 0                         | negative                  |  4                        | \n",
       "| A Midsummer Night's Dream | Comedy                    | 0                         | positive                  | 11                        | \n",
       "| A Midsummer Night's Dream | Comedy                    | 1                         | negative                  |  7                        | \n",
       "| A Midsummer Night's Dream | Comedy                    | 1                         | positive                  | 19                        | \n",
       "| A Midsummer Night's Dream | Comedy                    | 2                         | negative                  | 20                        | \n",
       "| A Midsummer Night's Dream | Comedy                    | 2                         | positive                  | 23                        | \n",
       "\n",
       "\n"
      ],
      "text/plain": [
       "  title                     type   index sentiment n \n",
       "1 A Midsummer Night's Dream Comedy 0     negative   4\n",
       "2 A Midsummer Night's Dream Comedy 0     positive  11\n",
       "3 A Midsummer Night's Dream Comedy 1     negative   7\n",
       "4 A Midsummer Night's Dream Comedy 1     positive  19\n",
       "5 A Midsummer Night's Dream Comedy 2     negative  20\n",
       "6 A Midsummer Night's Dream Comedy 2     positive  23"
      ]
     },
     "metadata": {},
     "output_type": "display_data"
    }
   ],
   "source": [
    "tidy_shakespeare %>%\n",
    "  # Implement sentiment analysis using \"bing\" lexicon\n",
    "  inner_join(get_sentiments(\"bing\")) %>%\n",
    "  # Count using four arguments\n",
    "  count(title, type, index = linenumber %/% 70 , sentiment)"
   ]
  },
  {
   "cell_type": "markdown",
   "metadata": {},
   "source": [
    "Excellent! This is the first step in looking at narrative arcs."
   ]
  },
  {
   "cell_type": "markdown",
   "metadata": {},
   "source": [
    "### Calculating net sentiment\n",
    "Now you will build on the code from the previous exercise and continue to move forward to see how sentiment changes through these Shakespearean plays. The next steps involve spread() from the tidyr package. After these lines of code, you will have the net sentiment in each index-ed section of the play; net sentiment is the negative sentiment subtracted from the positive sentiment.\n",
    "\n",
    "INSTRUCTIONS\n",
    "100XP\n",
    " - Load the tidyr package.\n",
    " - Use spread() to spread sentiment and n across multiple columns.\n",
    " - Take a look at the output of the process after the spread() line in the console.\n",
    " - Make a new column using mutate() that has the net sentiment found by subtracting negative sentiment from positive."
   ]
  },
  {
   "cell_type": "code",
   "execution_count": 20,
   "metadata": {
    "collapsed": false
   },
   "outputs": [
    {
     "name": "stderr",
     "output_type": "stream",
     "text": [
      "Joining, by = \"word\"\n"
     ]
    },
    {
     "data": {
      "text/html": [
       "<table>\n",
       "<thead><tr><th scope=col>title</th><th scope=col>type</th><th scope=col>index</th><th scope=col>negative</th><th scope=col>positive</th><th scope=col>sentiment</th></tr></thead>\n",
       "<tbody>\n",
       "\t<tr><td>A Midsummer Night's Dream</td><td>Comedy                   </td><td>0                        </td><td> 4                       </td><td>11                       </td><td> 7                       </td></tr>\n",
       "\t<tr><td>A Midsummer Night's Dream</td><td>Comedy                   </td><td>1                        </td><td> 7                       </td><td>19                       </td><td>12                       </td></tr>\n",
       "\t<tr><td>A Midsummer Night's Dream</td><td>Comedy                   </td><td>2                        </td><td>20                       </td><td>23                       </td><td> 3                       </td></tr>\n",
       "\t<tr><td>A Midsummer Night's Dream</td><td>Comedy                   </td><td>3                        </td><td>12                       </td><td>18                       </td><td> 6                       </td></tr>\n",
       "\t<tr><td>A Midsummer Night's Dream</td><td>Comedy                   </td><td>4                        </td><td> 9                       </td><td>27                       </td><td>18                       </td></tr>\n",
       "\t<tr><td>A Midsummer Night's Dream</td><td>Comedy                   </td><td>5                        </td><td>11                       </td><td>21                       </td><td>10                       </td></tr>\n",
       "</tbody>\n",
       "</table>\n"
      ],
      "text/latex": [
       "\\begin{tabular}{r|llllll}\n",
       " title & type & index & negative & positive & sentiment\\\\\n",
       "\\hline\n",
       "\t A Midsummer Night's Dream & Comedy                    & 0                         &  4                        & 11                        &  7                       \\\\\n",
       "\t A Midsummer Night's Dream & Comedy                    & 1                         &  7                        & 19                        & 12                       \\\\\n",
       "\t A Midsummer Night's Dream & Comedy                    & 2                         & 20                        & 23                        &  3                       \\\\\n",
       "\t A Midsummer Night's Dream & Comedy                    & 3                         & 12                        & 18                        &  6                       \\\\\n",
       "\t A Midsummer Night's Dream & Comedy                    & 4                         &  9                        & 27                        & 18                       \\\\\n",
       "\t A Midsummer Night's Dream & Comedy                    & 5                         & 11                        & 21                        & 10                       \\\\\n",
       "\\end{tabular}\n"
      ],
      "text/markdown": [
       "\n",
       "title | type | index | negative | positive | sentiment | \n",
       "|---|---|---|---|---|---|\n",
       "| A Midsummer Night's Dream | Comedy                    | 0                         |  4                        | 11                        |  7                        | \n",
       "| A Midsummer Night's Dream | Comedy                    | 1                         |  7                        | 19                        | 12                        | \n",
       "| A Midsummer Night's Dream | Comedy                    | 2                         | 20                        | 23                        |  3                        | \n",
       "| A Midsummer Night's Dream | Comedy                    | 3                         | 12                        | 18                        |  6                        | \n",
       "| A Midsummer Night's Dream | Comedy                    | 4                         |  9                        | 27                        | 18                        | \n",
       "| A Midsummer Night's Dream | Comedy                    | 5                         | 11                        | 21                        | 10                        | \n",
       "\n",
       "\n"
      ],
      "text/plain": [
       "  title                     type   index negative positive sentiment\n",
       "1 A Midsummer Night's Dream Comedy 0      4       11        7       \n",
       "2 A Midsummer Night's Dream Comedy 1      7       19       12       \n",
       "3 A Midsummer Night's Dream Comedy 2     20       23        3       \n",
       "4 A Midsummer Night's Dream Comedy 3     12       18        6       \n",
       "5 A Midsummer Night's Dream Comedy 4      9       27       18       \n",
       "6 A Midsummer Night's Dream Comedy 5     11       21       10       "
      ]
     },
     "metadata": {},
     "output_type": "display_data"
    }
   ],
   "source": [
    "# Load the tidyr package\n",
    "library(tidyr)\n",
    "\n",
    "tidy_shakespeare %>%\n",
    "  inner_join(get_sentiments(\"bing\")) %>%\n",
    "  count(title, type, index = linenumber %/% 70, sentiment) %>%\n",
    "  # Spread sentiment and n across multiple columns\n",
    "  spread(sentiment, n, fill = 0) %>%\n",
    "  # Use mutate to find net sentiment\n",
    "  mutate(sentiment = positive - negative)"
   ]
  },
  {
   "cell_type": "code",
   "execution_count": null,
   "metadata": {
    "collapsed": true
   },
   "outputs": [],
   "source": [
    "Fabulous! You are closer to plotting the sentiment through these plays."
   ]
  },
  {
   "cell_type": "code",
   "execution_count": null,
   "metadata": {
    "collapsed": true
   },
   "outputs": [],
   "source": []
  },
  {
   "cell_type": "code",
   "execution_count": 22,
   "metadata": {
    "collapsed": false
   },
   "outputs": [
    {
     "name": "stderr",
     "output_type": "stream",
     "text": [
      "Joining, by = \"word\"\n"
     ]
    },
    {
     "data": {},
     "metadata": {},
     "output_type": "display_data"
    },
    {
     "data": {
      "image/png": "[encoded data removed]",
      "text/plain": [
       "plot without title"
      ]
     },
     "metadata": {},
     "output_type": "display_data"
    }
   ],
   "source": [
    "library(tidyr)\n",
    "# Load the ggplot2 package\n",
    "library(ggplot2)\n",
    "\n",
    "tidy_shakespeare %>%\n",
    "  inner_join(get_sentiments(\"bing\")) %>%\n",
    "  count(title, type, index = linenumber %/% 70, sentiment) %>%\n",
    "  spread(sentiment, n, fill = 0) %>%\n",
    "  mutate(sentiment = positive - negative) %>%\n",
    "  # Put index on x-axis, sentiment on y-axis, and map comedy/tragedy to fill\n",
    "  ggplot(aes(index, sentiment, fill=type)) +\n",
    "  # Make a bar chart with geom_col()\n",
    "  geom_col() +\n",
    "  # Separate panels for each title with facet_wrap()\n",
    "  facet_wrap(~title,scales = \"free_x\")"
   ]
  },
  {
   "cell_type": "markdown",
   "metadata": {},
   "source": [
    "Awesome! These plots show how sentiment changes through these plays. Notice how the comedies have happier endings and more positive sentiment than the tragedies."
   ]
  },
  {
   "cell_type": "markdown",
   "metadata": {},
   "source": [
    "# 3. Analyzing TV News\n",
    "\n",
    "Text analysis using tidy principles can be applied to diverse kinds of text, and in this chapter, you will explore a dataset of closed captioning from television news. You will apply the skills you have learned so far to explore how different stations report on a topic with different words, and how sentiment changes with time."
   ]
  },
  {
   "cell_type": "code",
   "execution_count": 25,
   "metadata": {
    "collapsed": false
   },
   "outputs": [
    {
     "data": {
      "text/html": [
       "<table>\n",
       "<thead><tr><th scope=col>station</th><th scope=col>show</th><th scope=col>show_date</th><th scope=col>text</th></tr></thead>\n",
       "<tbody>\n",
       "\t<tr><td>MSNBC                                                                                                                                                                                                                                                                                                                                                                                                                                                                                                                        </td><td>Morning Meeting                                                                                                                                                                                                                                                                                                                                                                                                                                                                                                              </td><td>2009-09-22 13:00:00                                                                                                                                                                                                                                                                                                                                                                                                                                                                                                          </td><td>the interior positively oozes class raves car magazine slick and sensuous boasts the washington times the most striking vw in recent memory declares okay i get it already i think we were in a car commercial yeah yeah we join the president at the u.n on climate change climate change is serious                                                                                                                                                                                                                        </td></tr>\n",
       "\t<tr><td>MSNBC                                                                                                                                                                                                                                                                                                                                                                                                                                                                                                                        </td><td>Morning Meeting                                                                                                                                                                                                                                                                                                                                                                                                                                                                                                              </td><td>2009-10-23 13:00:00                                                                                                                                                                                                                                                                                                                                                                                                                                                                                                          </td><td>corporations have withdrawn from the chamber of commerce because of their disagreement with the chamber on the subject of climate change we asked the chamber for comment on the latest legal fight and they referred us to their original statement on the yes men which they said public relations hoax is undermine the effort to find real solutions on the challenge of climate change joining us now on the set is mike part of the activism group called the yes american what is your objective forget climate change</td></tr>\n",
       "\t<tr><td>CNN                                                                                                                                                                                                                                                                                                                                                                                                                                                                                                                          </td><td>CNN Newsroom                                                                                                                                                                                                                                                                                                                                                                                                                                                                                                                 </td><td>2009-12-03 20:00:00                                                                                                                                                                                                                                                                                                                                                                                                                                                                                                          </td><td>he says he was bumped by the greeter but cops didn't buy it and the guy is now under arrest all right you're looking at two years in the life of a glacier right there here's my question climate change                                                                                                                                                                                                                                                                                                                     </td></tr>\n",
       "\t<tr><td>CNN                                                                                                                                                                                                                                                                                                                                                                                                                                                                                                                          </td><td>American Morning                                                                                                                                                                                                                                                                                                                                                                                                                                                                                                             </td><td>2009-12-07 11:00:00                                                                                                                                                                                                                                                                                                                                                                                                                                                                                                          </td><td>especially at at time now where the climate change conference is beginning in copenhagen a lot of the world paying very close attention to this controversy and the issue in general our president headed there next week that e mail scandal may overshadow what we've been talking about this big u.n conference on climate change                                                                                                                                                                                         </td></tr>\n",
       "\t<tr><td>MSNBC                                                                                                                                                                                                                                                                                                                                                                                                                                                                                                                        </td><td>Morning Meeting                                                                                                                                                                                                                                                                                                                                                                                                                                                                                                              </td><td>2009-12-08 14:00:00                                                                                                                                                                                                                                                                                                                                                                                                                                                                                                          </td><td>lots more coming up quite simply here green peace activists going nuts like this is new anyway a few study claiming that global warming itself my friends could actually drive you nuts climate change                                                                                                                                                                                                                                                                                                                       </td></tr>\n",
       "\t<tr><td>MSNBC                                                                                                                                                                                                                                                                                                                                                                                                                                                                                                                        </td><td>Countdown With Keith Olbermann                                                                                                                                                                                                                                                                                                                                                                                                                                                                                               </td><td>2009-12-10 06:00:00                                                                                                                                                                                                                                                                                                                                                                                                                                                                                                          </td><td>so they're carrying a lot of water for john yoo judgment at nuremberg but never judgment at the white house jonathan turley of george washington university as always great thanks for making it intelligible to folks like me thanks keith sarah palin admits climate change e mails were stolen admits there is climate change                                                                                                                                                                                             </td></tr>\n",
       "</tbody>\n",
       "</table>\n"
      ],
      "text/latex": [
       "\\begin{tabular}{r|llll}\n",
       " station & show & show\\_date & text\\\\\n",
       "\\hline\n",
       "\t MSNBC                                                                                                                                                                                                                                                                                                                                                                                                                                                                                                                         & Morning Meeting                                                                                                                                                                                                                                                                                                                                                                                                                                                                                                               & 2009-09-22 13:00:00                                                                                                                                                                                                                                                                                                                                                                                                                                                                                                           & the interior positively oozes class raves car magazine slick and sensuous boasts the washington times the most striking vw in recent memory declares okay i get it already i think we were in a car commercial yeah yeah we join the president at the u.n on climate change climate change is serious                                                                                                                                                                                                                        \\\\\n",
       "\t MSNBC                                                                                                                                                                                                                                                                                                                                                                                                                                                                                                                         & Morning Meeting                                                                                                                                                                                                                                                                                                                                                                                                                                                                                                               & 2009-10-23 13:00:00                                                                                                                                                                                                                                                                                                                                                                                                                                                                                                           & corporations have withdrawn from the chamber of commerce because of their disagreement with the chamber on the subject of climate change we asked the chamber for comment on the latest legal fight and they referred us to their original statement on the yes men which they said public relations hoax is undermine the effort to find real solutions on the challenge of climate change joining us now on the set is mike part of the activism group called the yes american what is your objective forget climate change\\\\\n",
       "\t CNN                                                                                                                                                                                                                                                                                                                                                                                                                                                                                                                           & CNN Newsroom                                                                                                                                                                                                                                                                                                                                                                                                                                                                                                                  & 2009-12-03 20:00:00                                                                                                                                                                                                                                                                                                                                                                                                                                                                                                           & he says he was bumped by the greeter but cops didn't buy it and the guy is now under arrest all right you're looking at two years in the life of a glacier right there here's my question climate change                                                                                                                                                                                                                                                                                                                     \\\\\n",
       "\t CNN                                                                                                                                                                                                                                                                                                                                                                                                                                                                                                                           & American Morning                                                                                                                                                                                                                                                                                                                                                                                                                                                                                                              & 2009-12-07 11:00:00                                                                                                                                                                                                                                                                                                                                                                                                                                                                                                           & especially at at time now where the climate change conference is beginning in copenhagen a lot of the world paying very close attention to this controversy and the issue in general our president headed there next week that e mail scandal may overshadow what we've been talking about this big u.n conference on climate change                                                                                                                                                                                         \\\\\n",
       "\t MSNBC                                                                                                                                                                                                                                                                                                                                                                                                                                                                                                                         & Morning Meeting                                                                                                                                                                                                                                                                                                                                                                                                                                                                                                               & 2009-12-08 14:00:00                                                                                                                                                                                                                                                                                                                                                                                                                                                                                                           & lots more coming up quite simply here green peace activists going nuts like this is new anyway a few study claiming that global warming itself my friends could actually drive you nuts climate change                                                                                                                                                                                                                                                                                                                       \\\\\n",
       "\t MSNBC                                                                                                                                                                                                                                                                                                                                                                                                                                                                                                                         & Countdown With Keith Olbermann                                                                                                                                                                                                                                                                                                                                                                                                                                                                                                & 2009-12-10 06:00:00                                                                                                                                                                                                                                                                                                                                                                                                                                                                                                           & so they're carrying a lot of water for john yoo judgment at nuremberg but never judgment at the white house jonathan turley of george washington university as always great thanks for making it intelligible to folks like me thanks keith sarah palin admits climate change e mails were stolen admits there is climate change                                                                                                                                                                                             \\\\\n",
       "\\end{tabular}\n"
      ],
      "text/markdown": [
       "\n",
       "station | show | show_date | text | \n",
       "|---|---|---|---|---|---|\n",
       "| MSNBC                                                                                                                                                                                                                                                                                                                                                                                                                                                                                                                         | Morning Meeting                                                                                                                                                                                                                                                                                                                                                                                                                                                                                                               | 2009-09-22 13:00:00                                                                                                                                                                                                                                                                                                                                                                                                                                                                                                           | the interior positively oozes class raves car magazine slick and sensuous boasts the washington times the most striking vw in recent memory declares okay i get it already i think we were in a car commercial yeah yeah we join the president at the u.n on climate change climate change is serious                                                                                                                                                                                                                         | \n",
       "| MSNBC                                                                                                                                                                                                                                                                                                                                                                                                                                                                                                                         | Morning Meeting                                                                                                                                                                                                                                                                                                                                                                                                                                                                                                               | 2009-10-23 13:00:00                                                                                                                                                                                                                                                                                                                                                                                                                                                                                                           | corporations have withdrawn from the chamber of commerce because of their disagreement with the chamber on the subject of climate change we asked the chamber for comment on the latest legal fight and they referred us to their original statement on the yes men which they said public relations hoax is undermine the effort to find real solutions on the challenge of climate change joining us now on the set is mike part of the activism group called the yes american what is your objective forget climate change | \n",
       "| CNN                                                                                                                                                                                                                                                                                                                                                                                                                                                                                                                           | CNN Newsroom                                                                                                                                                                                                                                                                                                                                                                                                                                                                                                                  | 2009-12-03 20:00:00                                                                                                                                                                                                                                                                                                                                                                                                                                                                                                           | he says he was bumped by the greeter but cops didn't buy it and the guy is now under arrest all right you're looking at two years in the life of a glacier right there here's my question climate change                                                                                                                                                                                                                                                                                                                      | \n",
       "| CNN                                                                                                                                                                                                                                                                                                                                                                                                                                                                                                                           | American Morning                                                                                                                                                                                                                                                                                                                                                                                                                                                                                                              | 2009-12-07 11:00:00                                                                                                                                                                                                                                                                                                                                                                                                                                                                                                           | especially at at time now where the climate change conference is beginning in copenhagen a lot of the world paying very close attention to this controversy and the issue in general our president headed there next week that e mail scandal may overshadow what we've been talking about this big u.n conference on climate change                                                                                                                                                                                          | \n",
       "| MSNBC                                                                                                                                                                                                                                                                                                                                                                                                                                                                                                                         | Morning Meeting                                                                                                                                                                                                                                                                                                                                                                                                                                                                                                               | 2009-12-08 14:00:00                                                                                                                                                                                                                                                                                                                                                                                                                                                                                                           | lots more coming up quite simply here green peace activists going nuts like this is new anyway a few study claiming that global warming itself my friends could actually drive you nuts climate change                                                                                                                                                                                                                                                                                                                        | \n",
       "| MSNBC                                                                                                                                                                                                                                                                                                                                                                                                                                                                                                                         | Countdown With Keith Olbermann                                                                                                                                                                                                                                                                                                                                                                                                                                                                                                | 2009-12-10 06:00:00                                                                                                                                                                                                                                                                                                                                                                                                                                                                                                           | so they're carrying a lot of water for john yoo judgment at nuremberg but never judgment at the white house jonathan turley of george washington university as always great thanks for making it intelligible to folks like me thanks keith sarah palin admits climate change e mails were stolen admits there is climate change                                                                                                                                                                                              | \n",
       "\n",
       "\n"
      ],
      "text/plain": [
       "  station show                           show_date          \n",
       "1 MSNBC   Morning Meeting                2009-09-22 13:00:00\n",
       "2 MSNBC   Morning Meeting                2009-10-23 13:00:00\n",
       "3 CNN     CNN Newsroom                   2009-12-03 20:00:00\n",
       "4 CNN     American Morning               2009-12-07 11:00:00\n",
       "5 MSNBC   Morning Meeting                2009-12-08 14:00:00\n",
       "6 MSNBC   Countdown With Keith Olbermann 2009-12-10 06:00:00\n",
       "  text                                                                                                                                                                                                                                                                                                                                                                                                                                                                                                                         \n",
       "1 the interior positively oozes class raves car magazine slick and sensuous boasts the washington times the most striking vw in recent memory declares okay i get it already i think we were in a car commercial yeah yeah we join the president at the u.n on climate change climate change is serious                                                                                                                                                                                                                        \n",
       "2 corporations have withdrawn from the chamber of commerce because of their disagreement with the chamber on the subject of climate change we asked the chamber for comment on the latest legal fight and they referred us to their original statement on the yes men which they said public relations hoax is undermine the effort to find real solutions on the challenge of climate change joining us now on the set is mike part of the activism group called the yes american what is your objective forget climate change\n",
       "3 he says he was bumped by the greeter but cops didn't buy it and the guy is now under arrest all right you're looking at two years in the life of a glacier right there here's my question climate change                                                                                                                                                                                                                                                                                                                     \n",
       "4 especially at at time now where the climate change conference is beginning in copenhagen a lot of the world paying very close attention to this controversy and the issue in general our president headed there next week that e mail scandal may overshadow what we've been talking about this big u.n conference on climate change                                                                                                                                                                                         \n",
       "5 lots more coming up quite simply here green peace activists going nuts like this is new anyway a few study claiming that global warming itself my friends could actually drive you nuts climate change                                                                                                                                                                                                                                                                                                                       \n",
       "6 so they're carrying a lot of water for john yoo judgment at nuremberg but never judgment at the white house jonathan turley of george washington university as always great thanks for making it intelligible to folks like me thanks keith sarah palin admits climate change e mails were stolen admits there is climate change                                                                                                                                                                                             "
      ]
     },
     "metadata": {},
     "output_type": "display_data"
    }
   ],
   "source": [
    "load(\"climate_text.rda\")\n",
    "head(climate_text)"
   ]
  },
  {
   "cell_type": "markdown",
   "metadata": {},
   "source": [
    "### Tidying TV news\n",
    "Take a look at the dataset of TV news text about climate change you will use in this chapter. The climate_text dataset contains almost 600 closed captioning snippets and four columns:\n",
    "\n",
    "station, the TV news station where the text is from,\n",
    "show, the show on that station where the text was spoken,\n",
    "show_date, the broadcast date of the spoken text, and\n",
    "text, the actual text spoken on TV.\n",
    "Type climate_text in the console to take a look at the dataset before getting started with transforming it to a tidy format.\n",
    "\n",
    "INSTRUCTIONS\n",
    "100XP\n",
    "\n",
    " - Load the tidytext package.\n",
    " - Pipe the original dataset to the next line.\n",
    " - Use unnest_tokens() to transform the non-tidy text data to a tidy text dataset, with a word column in the output."
   ]
  },
  {
   "cell_type": "code",
   "execution_count": 26,
   "metadata": {
    "collapsed": false
   },
   "outputs": [],
   "source": [
    "# Load the tidytext package\n",
    "library(tidytext)\n",
    "\n",
    "# Pipe the climate_text dataset to the next line\n",
    "tidy_tv <- climate_text %>%\n",
    "    # Transform the non-tidy text data to tidy text data\n",
    "    unnest_tokens(word,text)"
   ]
  },
  {
   "cell_type": "code",
   "execution_count": null,
   "metadata": {
    "collapsed": false
   },
   "outputs": [],
   "source": [
    "#parts_of_speech         Parts of speech for English words from the Moby Project\n",
    "dim(parts_of_speech)\n",
    "count(parts_of_speech, pos)"
   ]
  },
  {
   "cell_type": "markdown",
   "metadata": {},
   "source": [
    "### Counting totals\n",
    "Now that you have transformed the TV news data to a tidy data structure, you can find out what words are most common when discussing climate change on TV news, as well as the total number of words from each station. These are both helpful exploratory steps before moving on in analysis!\n",
    "\n",
    "INSTRUCTIONS\n",
    "100XP\n",
    "\n",
    " - Find the most common words in this dataset with count() using sort = TRUE. (The command anti_join(stop_words) removes common words like \"and\", \"of\", and \"to.\")\n",
    " - You will now calculate the total number of words from each station, a quantity you'll use to find proportions later.\n",
    " - \n",
    " - Use count() with one argument to find how many words came from each stations.\n",
    " - Change the name of the new column with rename() so that it is called station_total instead of n."
   ]
  },
  {
   "cell_type": "code",
   "execution_count": 84,
   "metadata": {
    "collapsed": false
   },
   "outputs": [
    {
     "name": "stderr",
     "output_type": "stream",
     "text": [
      "Joining, by = \"word\"\n"
     ]
    },
    {
     "data": {
      "text/html": [
       "<table>\n",
       "<thead><tr><th scope=col>word</th><th scope=col>n</th></tr></thead>\n",
       "<tbody>\n",
       "\t<tr><td>climate  </td><td>1627     </td></tr>\n",
       "\t<tr><td>change   </td><td>1615     </td></tr>\n",
       "\t<tr><td>people   </td><td> 139     </td></tr>\n",
       "\t<tr><td>real     </td><td> 125     </td></tr>\n",
       "\t<tr><td>president</td><td> 112     </td></tr>\n",
       "\t<tr><td>global   </td><td> 107     </td></tr>\n",
       "</tbody>\n",
       "</table>\n"
      ],
      "text/latex": [
       "\\begin{tabular}{r|ll}\n",
       " word & n\\\\\n",
       "\\hline\n",
       "\t climate   & 1627     \\\\\n",
       "\t change    & 1615     \\\\\n",
       "\t people    &  139     \\\\\n",
       "\t real      &  125     \\\\\n",
       "\t president &  112     \\\\\n",
       "\t global    &  107     \\\\\n",
       "\\end{tabular}\n"
      ],
      "text/markdown": [
       "\n",
       "word | n | \n",
       "|---|---|---|---|---|---|\n",
       "| climate   | 1627      | \n",
       "| change    | 1615      | \n",
       "| people    |  139      | \n",
       "| real      |  125      | \n",
       "| president |  112      | \n",
       "| global    |  107      | \n",
       "\n",
       "\n"
      ],
      "text/plain": [
       "  word      n   \n",
       "1 climate   1627\n",
       "2 change    1615\n",
       "3 people     139\n",
       "4 real       125\n",
       "5 president  112\n",
       "6 global     107"
      ]
     },
     "metadata": {},
     "output_type": "display_data"
    },
    {
     "data": {
      "text/html": [
       "<table>\n",
       "<thead><tr><th scope=col>station</th><th scope=col>station_total</th></tr></thead>\n",
       "<tbody>\n",
       "\t<tr><td>CNN     </td><td>10713   </td></tr>\n",
       "\t<tr><td>FOX News</td><td>10876   </td></tr>\n",
       "\t<tr><td>MSNBC   </td><td>19487   </td></tr>\n",
       "</tbody>\n",
       "</table>\n"
      ],
      "text/latex": [
       "\\begin{tabular}{r|ll}\n",
       " station & station\\_total\\\\\n",
       "\\hline\n",
       "\t CNN      & 10713   \\\\\n",
       "\t FOX News & 10876   \\\\\n",
       "\t MSNBC    & 19487   \\\\\n",
       "\\end{tabular}\n"
      ],
      "text/markdown": [
       "\n",
       "station | station_total | \n",
       "|---|---|---|\n",
       "| CNN      | 10713    | \n",
       "| FOX News | 10876    | \n",
       "| MSNBC    | 19487    | \n",
       "\n",
       "\n"
      ],
      "text/plain": [
       "  station  station_total\n",
       "1 CNN      10713        \n",
       "2 FOX News 10876        \n",
       "3 MSNBC    19487        "
      ]
     },
     "metadata": {},
     "output_type": "display_data"
    }
   ],
   "source": [
    "tidy_tv %>% \n",
    "    anti_join(stop_words) %>%\n",
    "    # Count by word with sort = TRUE\n",
    "    count(word, sort=TRUE) \n",
    "    \n",
    "tidy_tv %>%\n",
    "    # Count by station\n",
    "    count(station) %>%\n",
    "    # Rename the new column station_total\n",
    "    rename(station_total=n)"
   ]
  },
  {
   "cell_type": "markdown",
   "metadata": {},
   "source": [
    "Great job! Notice that common words include “issue”, “global”, and “job”."
   ]
  },
  {
   "cell_type": "code",
   "execution_count": 82,
   "metadata": {
    "collapsed": false,
    "scrolled": false
   },
   "outputs": [
    {
     "data": {
      "text/html": [
       "<table>\n",
       "<thead><tr><th scope=col>sno</th><th scope=col>text</th></tr></thead>\n",
       "<tbody>\n",
       "\t<tr><td>1                                                 </td><td>                                                  </td></tr>\n",
       "\t<tr><td>2                                                 </td><td>Hi, and welcome to week 6 of 15.053x.             </td></tr>\n",
       "\t<tr><td>3                                                 </td><td>And this week we're going to talk                 </td></tr>\n",
       "\t<tr><td>4                                                 </td><td>about nonlinear programming.                      </td></tr>\n",
       "\t<tr><td>5                                                 </td><td>                                                  </td></tr>\n",
       "\t<tr><td>6                                                 </td><td>Non-linear optimization and non-linear programming</td></tr>\n",
       "</tbody>\n",
       "</table>\n"
      ],
      "text/latex": [
       "\\begin{tabular}{r|ll}\n",
       " sno & text\\\\\n",
       "\\hline\n",
       "\t 1                                                  &                                                   \\\\\n",
       "\t 2                                                  & Hi, and welcome to week 6 of 15.053x.             \\\\\n",
       "\t 3                                                  & And this week we're going to talk                 \\\\\n",
       "\t 4                                                  & about nonlinear programming.                      \\\\\n",
       "\t 5                                                  &                                                   \\\\\n",
       "\t 6                                                  & Non-linear optimization and non-linear programming\\\\\n",
       "\\end{tabular}\n"
      ],
      "text/markdown": [
       "\n",
       "sno | text | \n",
       "|---|---|---|---|---|---|\n",
       "| 1                                                  |                                                    | \n",
       "| 2                                                  | Hi, and welcome to week 6 of 15.053x.              | \n",
       "| 3                                                  | And this week we're going to talk                  | \n",
       "| 4                                                  | about nonlinear programming.                       | \n",
       "| 5                                                  |                                                    | \n",
       "| 6                                                  | Non-linear optimization and non-linear programming | \n",
       "\n",
       "\n"
      ],
      "text/plain": [
       "  sno text                                              \n",
       "1 1                                                     \n",
       "2 2   Hi, and welcome to week 6 of 15.053x.             \n",
       "3 3   And this week we're going to talk                 \n",
       "4 4   about nonlinear programming.                      \n",
       "5 5                                                     \n",
       "6 6   Non-linear optimization and non-linear programming"
      ]
     },
     "metadata": {},
     "output_type": "display_data"
    },
    {
     "name": "stderr",
     "output_type": "stream",
     "text": [
      "Joining, by = \"word\"\n"
     ]
    },
    {
     "data": {
      "text/html": [
       "<table>\n",
       "<thead><tr><th scope=col>word</th><th scope=col>n</th></tr></thead>\n",
       "<tbody>\n",
       "\t<tr><td>linear      </td><td>8           </td></tr>\n",
       "\t<tr><td>optimization</td><td>6           </td></tr>\n",
       "\t<tr><td>programming </td><td>5           </td></tr>\n",
       "\t<tr><td>week        </td><td>5           </td></tr>\n",
       "\t<tr><td>convex      </td><td>3           </td></tr>\n",
       "\t<tr><td>talk        </td><td>3           </td></tr>\n",
       "</tbody>\n",
       "</table>\n"
      ],
      "text/latex": [
       "\\begin{tabular}{r|ll}\n",
       " word & n\\\\\n",
       "\\hline\n",
       "\t linear       & 8           \\\\\n",
       "\t optimization & 6           \\\\\n",
       "\t programming  & 5           \\\\\n",
       "\t week         & 5           \\\\\n",
       "\t convex       & 3           \\\\\n",
       "\t talk         & 3           \\\\\n",
       "\\end{tabular}\n"
      ],
      "text/markdown": [
       "\n",
       "word | n | \n",
       "|---|---|---|---|---|---|\n",
       "| linear       | 8            | \n",
       "| optimization | 6            | \n",
       "| programming  | 5            | \n",
       "| week         | 5            | \n",
       "| convex       | 3            | \n",
       "| talk         | 3            | \n",
       "\n",
       "\n"
      ],
      "text/plain": [
       "  word         n\n",
       "1 linear       8\n",
       "2 optimization 6\n",
       "3 programming  5\n",
       "4 week         5\n",
       "5 convex       3\n",
       "6 talk         3"
      ]
     },
     "metadata": {},
     "output_type": "display_data"
    }
   ],
   "source": [
    "edx = readLines(\"WY-6JLNfM-s.txt\")\n",
    "edx = data.frame(sno = 1:length(edx), text = as.character(edx))\n",
    "head(edx)\n",
    "\n",
    "edx$text = as.character(edx$text)\n",
    "\n",
    "edx_tidy = edx %>% unnest_tokens(word, text)\n",
    "\n",
    "edx_count = edx_tidy %>% count(word, sort=TRUE)\n",
    "\n",
    "edx_clean = edx_count %>% anti_join(stop_words)\n",
    "\n",
    "head(edx_clean)"
   ]
  },
  {
   "cell_type": "markdown",
   "metadata": {},
   "source": [
    "### Sentiment analysis of TV news\n",
    "After transforming the TV news texts to a tidy format in a previous exercise, the resulting data frame tidy_tv is ready for sentiment analysis using tidy data principles. Before you implement the inner join, add new column with the total number of words from each station so you can calculate proportions soon.\n",
    "\n",
    "INSTRUCTIONS\n",
    "100XP\n",
    " - Define groups for each station in the dataset using group_by().\n",
    " - Make a new column called station_total in the dataframe that tallies the total number of words from each station; the mutate() verb will make a new column and the function n() counts the number of observations in the current group.\n",
    " - Finally, implement sentiment analysis using the correct kind of join and the \"nrc\" lexicon as the argument to the join function."
   ]
  },
  {
   "cell_type": "code",
   "execution_count": 85,
   "metadata": {
    "collapsed": false
   },
   "outputs": [
    {
     "name": "stderr",
     "output_type": "stream",
     "text": [
      "Joining, by = \"word\"\n"
     ]
    }
   ],
   "source": [
    "tv_sentiment <- tidy_tv %>% \n",
    "    # Group by station\n",
    "    group_by(station) %>% \n",
    "    # Define a new column station_total\n",
    "    mutate(station_total = n()) %>%\n",
    "    ungroup() %>%\n",
    "    # Implement sentiment analysis with the NRC lexicon\n",
    "    inner_join(get_sentiments(\"nrc\"))"
   ]
  },
  {
   "cell_type": "code",
   "execution_count": 86,
   "metadata": {
    "collapsed": false
   },
   "outputs": [
    {
     "data": {
      "text/html": [
       "<table>\n",
       "<thead><tr><th scope=col>station</th><th scope=col>show</th><th scope=col>show_date</th><th scope=col>word</th><th scope=col>station_total</th><th scope=col>sentiment</th></tr></thead>\n",
       "<tbody>\n",
       "\t<tr><td>MSNBC              </td><td>Morning Meeting    </td><td>2009-09-22 13:00:00</td><td>interior           </td><td>19487              </td><td>disgust            </td></tr>\n",
       "\t<tr><td>MSNBC              </td><td>Morning Meeting    </td><td>2009-09-22 13:00:00</td><td>interior           </td><td>19487              </td><td>positive           </td></tr>\n",
       "\t<tr><td>MSNBC              </td><td>Morning Meeting    </td><td>2009-09-22 13:00:00</td><td>interior           </td><td>19487              </td><td>trust              </td></tr>\n",
       "\t<tr><td>MSNBC              </td><td>Morning Meeting    </td><td>2009-09-22 13:00:00</td><td>sensuous           </td><td>19487              </td><td>joy                </td></tr>\n",
       "\t<tr><td>MSNBC              </td><td>Morning Meeting    </td><td>2009-09-22 13:00:00</td><td>sensuous           </td><td>19487              </td><td>positive           </td></tr>\n",
       "\t<tr><td>MSNBC              </td><td>Morning Meeting    </td><td>2009-09-22 13:00:00</td><td>striking           </td><td>19487              </td><td>positive           </td></tr>\n",
       "</tbody>\n",
       "</table>\n"
      ],
      "text/latex": [
       "\\begin{tabular}{r|llllll}\n",
       " station & show & show\\_date & word & station\\_total & sentiment\\\\\n",
       "\\hline\n",
       "\t MSNBC               & Morning Meeting     & 2009-09-22 13:00:00 & interior            & 19487               & disgust            \\\\\n",
       "\t MSNBC               & Morning Meeting     & 2009-09-22 13:00:00 & interior            & 19487               & positive           \\\\\n",
       "\t MSNBC               & Morning Meeting     & 2009-09-22 13:00:00 & interior            & 19487               & trust              \\\\\n",
       "\t MSNBC               & Morning Meeting     & 2009-09-22 13:00:00 & sensuous            & 19487               & joy                \\\\\n",
       "\t MSNBC               & Morning Meeting     & 2009-09-22 13:00:00 & sensuous            & 19487               & positive           \\\\\n",
       "\t MSNBC               & Morning Meeting     & 2009-09-22 13:00:00 & striking            & 19487               & positive           \\\\\n",
       "\\end{tabular}\n"
      ],
      "text/markdown": [
       "\n",
       "station | show | show_date | word | station_total | sentiment | \n",
       "|---|---|---|---|---|---|\n",
       "| MSNBC               | Morning Meeting     | 2009-09-22 13:00:00 | interior            | 19487               | disgust             | \n",
       "| MSNBC               | Morning Meeting     | 2009-09-22 13:00:00 | interior            | 19487               | positive            | \n",
       "| MSNBC               | Morning Meeting     | 2009-09-22 13:00:00 | interior            | 19487               | trust               | \n",
       "| MSNBC               | Morning Meeting     | 2009-09-22 13:00:00 | sensuous            | 19487               | joy                 | \n",
       "| MSNBC               | Morning Meeting     | 2009-09-22 13:00:00 | sensuous            | 19487               | positive            | \n",
       "| MSNBC               | Morning Meeting     | 2009-09-22 13:00:00 | striking            | 19487               | positive            | \n",
       "\n",
       "\n"
      ],
      "text/plain": [
       "  station show            show_date           word     station_total sentiment\n",
       "1 MSNBC   Morning Meeting 2009-09-22 13:00:00 interior 19487         disgust  \n",
       "2 MSNBC   Morning Meeting 2009-09-22 13:00:00 interior 19487         positive \n",
       "3 MSNBC   Morning Meeting 2009-09-22 13:00:00 interior 19487         trust    \n",
       "4 MSNBC   Morning Meeting 2009-09-22 13:00:00 sensuous 19487         joy      \n",
       "5 MSNBC   Morning Meeting 2009-09-22 13:00:00 sensuous 19487         positive \n",
       "6 MSNBC   Morning Meeting 2009-09-22 13:00:00 striking 19487         positive "
      ]
     },
     "metadata": {},
     "output_type": "display_data"
    }
   ],
   "source": [
    "head(tv_sentiment)"
   ]
  },
  {
   "cell_type": "code",
   "execution_count": 88,
   "metadata": {
    "collapsed": false
   },
   "outputs": [
    {
     "data": {
      "text/html": [
       "<ol class=list-inline>\n",
       "\t<li>'trust'</li>\n",
       "\t<li>'fear'</li>\n",
       "\t<li>'negative'</li>\n",
       "\t<li>'sadness'</li>\n",
       "\t<li>'anger'</li>\n",
       "\t<li>'surprise'</li>\n",
       "\t<li>'positive'</li>\n",
       "\t<li>'disgust'</li>\n",
       "\t<li>'joy'</li>\n",
       "\t<li>'anticipation'</li>\n",
       "</ol>\n"
      ],
      "text/latex": [
       "\\begin{enumerate*}\n",
       "\\item 'trust'\n",
       "\\item 'fear'\n",
       "\\item 'negative'\n",
       "\\item 'sadness'\n",
       "\\item 'anger'\n",
       "\\item 'surprise'\n",
       "\\item 'positive'\n",
       "\\item 'disgust'\n",
       "\\item 'joy'\n",
       "\\item 'anticipation'\n",
       "\\end{enumerate*}\n"
      ],
      "text/markdown": [
       "1. 'trust'\n",
       "2. 'fear'\n",
       "3. 'negative'\n",
       "4. 'sadness'\n",
       "5. 'anger'\n",
       "6. 'surprise'\n",
       "7. 'positive'\n",
       "8. 'disgust'\n",
       "9. 'joy'\n",
       "10. 'anticipation'\n",
       "\n",
       "\n"
      ],
      "text/plain": [
       " [1] \"trust\"        \"fear\"         \"negative\"     \"sadness\"      \"anger\"       \n",
       " [6] \"surprise\"     \"positive\"     \"disgust\"      \"joy\"          \"anticipation\""
      ]
     },
     "metadata": {},
     "output_type": "display_data"
    }
   ],
   "source": [
    "unique(get_sentiments(\"nrc\")$sentiment)"
   ]
  },
  {
   "cell_type": "markdown",
   "metadata": {},
   "source": [
    "Fabulous! You have implemented sentiment analysis with an inner join once again."
   ]
  },
  {
   "cell_type": "code",
   "execution_count": 89,
   "metadata": {
    "collapsed": false
   },
   "outputs": [
    {
     "data": {
      "text/html": [
       "<table>\n",
       "<thead><tr><th scope=col>word</th><th scope=col>sentiment</th></tr></thead>\n",
       "<tbody>\n",
       "\t<tr><td>interior</td><td>disgust </td></tr>\n",
       "\t<tr><td>interior</td><td>positive</td></tr>\n",
       "\t<tr><td>interior</td><td>trust   </td></tr>\n",
       "</tbody>\n",
       "</table>\n"
      ],
      "text/latex": [
       "\\begin{tabular}{r|ll}\n",
       " word & sentiment\\\\\n",
       "\\hline\n",
       "\t interior & disgust \\\\\n",
       "\t interior & positive\\\\\n",
       "\t interior & trust   \\\\\n",
       "\\end{tabular}\n"
      ],
      "text/markdown": [
       "\n",
       "word | sentiment | \n",
       "|---|---|---|\n",
       "| interior | disgust  | \n",
       "| interior | positive | \n",
       "| interior | trust    | \n",
       "\n",
       "\n"
      ],
      "text/plain": [
       "  word     sentiment\n",
       "1 interior disgust  \n",
       "2 interior positive \n",
       "3 interior trust    "
      ]
     },
     "metadata": {},
     "output_type": "display_data"
    }
   ],
   "source": [
    "filter(get_sentiments(\"nrc\"), word == \"interior\")"
   ]
  },
  {
   "cell_type": "code",
   "execution_count": 92,
   "metadata": {
    "collapsed": false
   },
   "outputs": [
    {
     "data": {
      "text/html": [
       "<table>\n",
       "<thead><tr><th scope=col>word</th><th scope=col>sentiment</th></tr></thead>\n",
       "<tbody>\n",
       "\t<tr><td>congress</td><td>disgust </td></tr>\n",
       "\t<tr><td>congress</td><td>trust   </td></tr>\n",
       "</tbody>\n",
       "</table>\n"
      ],
      "text/latex": [
       "\\begin{tabular}{r|ll}\n",
       " word & sentiment\\\\\n",
       "\\hline\n",
       "\t congress & disgust \\\\\n",
       "\t congress & trust   \\\\\n",
       "\\end{tabular}\n"
      ],
      "text/markdown": [
       "\n",
       "word | sentiment | \n",
       "|---|---|\n",
       "| congress | disgust  | \n",
       "| congress | trust    | \n",
       "\n",
       "\n"
      ],
      "text/plain": [
       "  word     sentiment\n",
       "1 congress disgust  \n",
       "2 congress trust    "
      ]
     },
     "metadata": {},
     "output_type": "display_data"
    }
   ],
   "source": [
    "filter(get_sentiments(\"nrc\"), word == \"congress\")"
   ]
  },
  {
   "cell_type": "markdown",
   "metadata": {},
   "source": [
    "### Which station uses the most positive or negative words?\n",
    "You performed sentiment analysis on this dataset of TV news text, and the results are available in your environment in tv_sentiment. How do the words used when discussing climate change compare across stations? Which stations use more positive words? More negative words?\n",
    "\n",
    "INSTRUCTIONS\n",
    "100XP\n",
    "Start off by looking at negative words.\n",
    "\n",
    " - Define a new column percent using mutate() that is n divided by station_total, the proportion of words that belong to that sentiment.\n",
    " - Filter only for the negative sentiment rows.\n",
    " - Arrange by percent so you can see the results sorted by proportion of negative words.\n",
    " - Now repeat these steps to examine positive words!"
   ]
  },
  {
   "cell_type": "code",
   "execution_count": 90,
   "metadata": {
    "collapsed": false
   },
   "outputs": [
    {
     "data": {
      "text/html": [
       "<table>\n",
       "<thead><tr><th scope=col>station</th><th scope=col>sentiment</th><th scope=col>station_total</th><th scope=col>n</th><th scope=col>percent</th></tr></thead>\n",
       "<tbody>\n",
       "\t<tr><td>MSNBC     </td><td>negative  </td><td>19487     </td><td>526       </td><td>0.02699235</td></tr>\n",
       "\t<tr><td>CNN       </td><td>negative  </td><td>10713     </td><td>331       </td><td>0.03089704</td></tr>\n",
       "\t<tr><td>FOX News  </td><td>negative  </td><td>10876     </td><td>403       </td><td>0.03705406</td></tr>\n",
       "</tbody>\n",
       "</table>\n"
      ],
      "text/latex": [
       "\\begin{tabular}{r|lllll}\n",
       " station & sentiment & station\\_total & n & percent\\\\\n",
       "\\hline\n",
       "\t MSNBC      & negative   & 19487      & 526        & 0.02699235\\\\\n",
       "\t CNN        & negative   & 10713      & 331        & 0.03089704\\\\\n",
       "\t FOX News   & negative   & 10876      & 403        & 0.03705406\\\\\n",
       "\\end{tabular}\n"
      ],
      "text/markdown": [
       "\n",
       "station | sentiment | station_total | n | percent | \n",
       "|---|---|---|\n",
       "| MSNBC      | negative   | 19487      | 526        | 0.02699235 | \n",
       "| CNN        | negative   | 10713      | 331        | 0.03089704 | \n",
       "| FOX News   | negative   | 10876      | 403        | 0.03705406 | \n",
       "\n",
       "\n"
      ],
      "text/plain": [
       "  station  sentiment station_total n   percent   \n",
       "1 MSNBC    negative  19487         526 0.02699235\n",
       "2 CNN      negative  10713         331 0.03089704\n",
       "3 FOX News negative  10876         403 0.03705406"
      ]
     },
     "metadata": {},
     "output_type": "display_data"
    },
    {
     "data": {
      "text/html": [
       "<table>\n",
       "<thead><tr><th scope=col>station</th><th scope=col>sentiment</th><th scope=col>station_total</th><th scope=col>n</th><th scope=col>percent</th></tr></thead>\n",
       "<tbody>\n",
       "\t<tr><td>FOX News  </td><td>positive  </td><td>10876     </td><td>514       </td><td>0.04726002</td></tr>\n",
       "\t<tr><td>CNN       </td><td>positive  </td><td>10713     </td><td>522       </td><td>0.04872585</td></tr>\n",
       "\t<tr><td>MSNBC     </td><td>positive  </td><td>19487     </td><td>953       </td><td>0.04890440</td></tr>\n",
       "</tbody>\n",
       "</table>\n"
      ],
      "text/latex": [
       "\\begin{tabular}{r|lllll}\n",
       " station & sentiment & station\\_total & n & percent\\\\\n",
       "\\hline\n",
       "\t FOX News   & positive   & 10876      & 514        & 0.04726002\\\\\n",
       "\t CNN        & positive   & 10713      & 522        & 0.04872585\\\\\n",
       "\t MSNBC      & positive   & 19487      & 953        & 0.04890440\\\\\n",
       "\\end{tabular}\n"
      ],
      "text/markdown": [
       "\n",
       "station | sentiment | station_total | n | percent | \n",
       "|---|---|---|\n",
       "| FOX News   | positive   | 10876      | 514        | 0.04726002 | \n",
       "| CNN        | positive   | 10713      | 522        | 0.04872585 | \n",
       "| MSNBC      | positive   | 19487      | 953        | 0.04890440 | \n",
       "\n",
       "\n"
      ],
      "text/plain": [
       "  station  sentiment station_total n   percent   \n",
       "1 FOX News positive  10876         514 0.04726002\n",
       "2 CNN      positive  10713         522 0.04872585\n",
       "3 MSNBC    positive  19487         953 0.04890440"
      ]
     },
     "metadata": {},
     "output_type": "display_data"
    }
   ],
   "source": [
    "# Which stations use the most negative words?\n",
    "tv_sentiment %>% \n",
    "    count(station, sentiment, station_total) %>%\n",
    "    # Define a new column percent\n",
    "    mutate(percent = n/station_total) %>%\n",
    "    # Filter only for negative words\n",
    "    filter(sentiment == \"negative\") %>%\n",
    "    # Arrange by percent\n",
    "    arrange(percent)\n",
    "    \n",
    "# Now do the same but for positive words\n",
    "tv_sentiment %>% \n",
    "    count(station, sentiment, station_total) %>%\n",
    "    # Define a new column percent\n",
    "    mutate(percent = n/station_total) %>%\n",
    "    # Filter only for negative words\n",
    "    filter(sentiment == \"positive\") %>%\n",
    "    # Arrange by percent\n",
    "    arrange(percent)"
   ]
  },
  {
   "cell_type": "markdown",
   "metadata": {},
   "source": [
    "Wonderful! Notice that MSNBC used a low proportion of negative words but a high proportion of positive words, the reverse is true of FOX News, and CNN is middle of the pack."
   ]
  },
  {
   "cell_type": "markdown",
   "metadata": {},
   "source": [
    "### Which words contribute to the sentiment scores?\n",
    "It's important to understand which words specifically are driving sentiment scores, and when you use tidy data principles, it's not too difficult to check. In this exercise, you will make a plot showing which words contribute the most to the ten types of sentiment in the NRC lexicon. Look at the result, and think about which words might not be appropriate in these contexts. Are there proper names? Are there words which used in these contexts are neutral?\n",
    "\n",
    "If so, you can always remove these words from your dataset (or the sentiment lexicon) using anti_join().\n",
    "\n",
    "INSTRUCTIONS\n",
    "100XP\n",
    " - Count by word and sentiment to find which words are contributing most overall to the sentiment scores.\n",
    " - Group by sentiment.\n",
    " - Take the top 10 words for each sentiment using top_n().\n",
    " - Set up the plot using aes(), with the words on the x-axis, the number of uses n on the y-axis, and fill corresponding to sentiment."
   ]
  },
  {
   "cell_type": "code",
   "execution_count": 91,
   "metadata": {
    "collapsed": false
   },
   "outputs": [
    {
     "name": "stderr",
     "output_type": "stream",
     "text": [
      "Selecting by n\n"
     ]
    },
    {
     "data": {},
     "metadata": {},
     "output_type": "display_data"
    },
    {
     "data": {
      "image/png": "[encoded data removed]",
      "text/plain": [
       "plot without title"
      ]
     },
     "metadata": {},
     "output_type": "display_data"
    }
   ],
   "source": [
    "tv_sentiment %>%\n",
    "    # Count by word and sentiment\n",
    "    count(word, sentiment) %>%\n",
    "    # Group by sentiment\n",
    "    group_by(sentiment) %>%\n",
    "    # Take the top 10 words for each sentiment\n",
    "    top_n(10) %>%\n",
    "    ungroup() %>%\n",
    "    mutate(word = reorder(word, n)) %>%\n",
    "    # Set up the plot with aes()\n",
    "    ggplot(aes(word,n, fill=sentiment)) +\n",
    "    geom_col(show.legend = FALSE) +\n",
    "    facet_wrap(~ sentiment, scales = \"free\") +\n",
    "    coord_flip()"
   ]
  },
  {
   "cell_type": "markdown",
   "metadata": {},
   "source": [
    "Excellent! Notice that you see proper names like Gore and Trump, which should be treated as neutral, and that “change” was a strong driver of fear sentiment, even though it is by definition part of these texts on climate change. It is important to see which words contribute to your sentiment scores so you can adjust the sentiment lexicons if appropriate."
   ]
  },
  {
   "cell_type": "markdown",
   "metadata": {},
   "source": [
    "### Word choice and TV station\n",
    "In the last exercise, you saw which words contributed to which sentiment for this dataset of closed captioning texts about climate change from TV news station. Now it's time to explore the different words that each station used in the context of discussing climate change. Which negative words did each station use when talking about climate change on the air?\n",
    "\n",
    "INSTRUCTIONS\n",
    "100XP\n",
    " - Filter for only negative words.\n",
    " - Count by word and station to find which words are contributing most overall to the sentiment scores.\n",
    " - Group by TV station.\n",
    " - Take the top 10 words for each station.\n",
    " - Set up the plot using aes(), with the words on the x-axis, the number of uses n on the y-axis, and fill corresponding to station."
   ]
  },
  {
   "cell_type": "code",
   "execution_count": 93,
   "metadata": {
    "collapsed": false
   },
   "outputs": [
    {
     "name": "stderr",
     "output_type": "stream",
     "text": [
      "Selecting by n\n"
     ]
    },
    {
     "data": {},
     "metadata": {},
     "output_type": "display_data"
    },
    {
     "data": {
      "image/png": "[encoded data removed]",
      "text/plain": [
       "plot without title"
      ]
     },
     "metadata": {},
     "output_type": "display_data"
    }
   ],
   "source": [
    "tv_sentiment %>%\n",
    "    # Filter for only negative words\n",
    "    filter(sentiment == \"negative\") %>%\n",
    "    # Count by word and station\n",
    "    count(word, station) %>%\n",
    "    # Group by station\n",
    "    group_by(station) %>%\n",
    "    # Take the top 10 words for each station\n",
    "    top_n(10) %>%\n",
    "    ungroup() %>%\n",
    "    mutate(word = reorder(paste(word, station, sep = \"__\"), n)) %>%\n",
    "    # Set up the plot with aes()\n",
    "    ggplot(aes(x=word, y=n, fill=station)) +\n",
    "    geom_col(show.legend = FALSE) +\n",
    "    scale_x_discrete(labels = function(x) gsub(\"__.+$\", \"\", x)) +\n",
    "    facet_wrap(~ station, nrow = 2, scales = \"free\") +\n",
    "    coord_flip()"
   ]
  },
  {
   "cell_type": "markdown",
   "metadata": {},
   "source": [
    "You did it! Some words, like “threat” are used by all three stations but some word choices are quite different. FOX News talks about terrorism and hurricanes, while CNN discusses hoaxes."
   ]
  },
  {
   "cell_type": "markdown",
   "metadata": {},
   "source": [
    "## Sentiment changes with time - Video"
   ]
  },
  {
   "cell_type": "markdown",
   "metadata": {},
   "source": [
    "### Visualizing sentiment over time\n",
    "You have compared how TV stations use positive and negative words; now it is time to see how sentiment is changing over time. Are TV news stations using more negative words as time passes? More positive words? You will use a function called floor_date() from the lubridate package to count uses of positive and negative words over time.\n",
    "\n",
    "The tidy_tv dataframe you created near the beginning of this chapter is available in your environment.\n",
    "\n",
    "INSTRUCTIONS\n",
    "100XP\n",
    " - Load the lubridate package.\n",
    " - Define the new column with a mutate() statement using the floor_date() function, rounding each date down to the nearest 6-month unit.\n",
    " - Group by the new date column (each 6 months).\n",
    " - Implement sentiment analysis using the correct kind of join and the \"nrc\" sentiment lexicon.\n",
    " - Now you have a dataframe with the number of words per sentiment per 6 months, as well as the total words used in each 6 months!\n",
    " - \n",
    " - Filter for both positive and negative words so you can plot both.\n",
    " - Count with three arguments: date, sentiment, and the total number of words.\n",
    " - Set up your plot with aes() and put date on the x-axis, percent on the y-axis, and have color correspond to sentiment."
   ]
  },
  {
   "cell_type": "code",
   "execution_count": 95,
   "metadata": {
    "collapsed": false
   },
   "outputs": [
    {
     "name": "stderr",
     "output_type": "stream",
     "text": [
      "Joining, by = \"word\"\n"
     ]
    },
    {
     "data": {},
     "metadata": {},
     "output_type": "display_data"
    },
    {
     "data": {
      "image/png": "[encoded data removed]",
      "text/plain": [
       "plot without title"
      ]
     },
     "metadata": {},
     "output_type": "display_data"
    }
   ],
   "source": [
    "# Load the lubridate package\n",
    "library(lubridate)\n",
    "\n",
    "sentiment_by_time <- tidy_tv %>%\n",
    "    # Define a new column using floor_date()\n",
    "    mutate(date = floor_date(show_date, unit = \"6 months\")) %>%\n",
    "    # Group by date\n",
    "    group_by(date) %>%\n",
    "    mutate(total_words = n()) %>%\n",
    "    ungroup() %>%\n",
    "    # Implement sentiment analysis using the NRC lexicon\n",
    "    inner_join(get_sentiments(\"nrc\"))\n",
    "\n",
    "sentiment_by_time %>%\n",
    "    # Filter for positive and negative words\n",
    "    filter(sentiment %in% c(\"positive\", \"negative\")) %>%\n",
    "    # Count by date, sentiment, and total_words\n",
    "    count(date, sentiment, total_words) %>%\n",
    "    ungroup() %>%\n",
    "    mutate(percent = n / total_words) %>%\n",
    "    # Set up the plot with aes()\n",
    "    ggplot(aes(date, percent, col=sentiment)) +\n",
    "    geom_line(size = 1.5) +\n",
    "    geom_smooth(method = \"lm\", se = FALSE, lty = 2) +\n",
    "    expand_limits(y = 0)"
   ]
  },
  {
   "cell_type": "markdown",
   "metadata": {},
   "source": [
    "Nice job on a complex task! The proportion of positive words looks flat, and the proportion of negative words may be increasing."
   ]
  },
  {
   "cell_type": "markdown",
   "metadata": {},
   "source": [
    "### Word changes over time\n",
    "You can also use tidy data principles to explore how individual words have been used over time. In the final exercise of this chapter, you will take the tidy_tv dataframe you created earlier and make a plot to see how certain words used in the context of climate change have changed in use over time. You will again use the floor_date() function, but this time to count monthly uses of words.\n",
    "\n",
    "INSTRUCTIONS\n",
    "100XP\n",
    " - Define a new column within the mutate() statement with the floor_date() function, rounding each date down to the nearest 1-month unit.\n",
    " - Count with 2 arguments: date and word.\n",
    " - Set up your plot with aes() so that date is on the x-axis, n (the monthly number of uses) is on the y-axis), and color corresponds to word.\n",
    " - Use facet_wrap to make a separate panel in your plot for each word."
   ]
  },
  {
   "cell_type": "code",
   "execution_count": 96,
   "metadata": {
    "collapsed": false
   },
   "outputs": [
    {
     "data": {},
     "metadata": {},
     "output_type": "display_data"
    },
    {
     "data": {
      "image/png": "[encoded data removed]",
      "text/plain": [
       "plot without title"
      ]
     },
     "metadata": {},
     "output_type": "display_data"
    }
   ],
   "source": [
    "    tidy_tv %>%\n",
    "    # Define a new column that rounds each date to the nearest 1 month\n",
    "    mutate(date = floor_date(show_date, unit = \"1 months\")) %>%\n",
    "    filter(word %in% c(\"threat\", \"hoax\", \"denier\",\n",
    "                       \"real\", \"warming\", \"hurricane\")) %>%\n",
    "    # Count by date and word\n",
    "    count(date, word) %>%\n",
    "    ungroup() %>%\n",
    "    # Set up your plot with aes()\n",
    "    ggplot(aes(date, n, col=word)) +\n",
    "    # Make facets by word\n",
    "    facet_wrap(~word) +\n",
    "    geom_line(size = 1.5, show.legend = FALSE) +\n",
    "    expand_limits(y = 0)"
   ]
  },
  {
   "cell_type": "markdown",
   "metadata": {},
   "source": [
    "What an interesting plot! You can see that words like “hoax” and “denier” have been used only recently, and “warming” is decreasing in monthly uses. You can see when a hurricane was being discussed as well."
   ]
  },
  {
   "cell_type": "markdown",
   "metadata": {},
   "source": [
    "## Singing a Happy Song (or Sad?!) - Video"
   ]
  },
  {
   "cell_type": "markdown",
   "metadata": {},
   "source": [
    "In this final chapter on sentiment analysis using tidy principles, you will explore pop song lyrics that have topped the charts from the 1960s to today. You will apply all the techniques we have explored together so far, and use linear modeling to find what the sentiment of song lyrics can predict."
   ]
  },
  {
   "cell_type": "code",
   "execution_count": 100,
   "metadata": {
    "collapsed": false
   },
   "outputs": [
    {
     "data": {
      "text/html": [
       "<table>\n",
       "<thead><tr><th scope=col>rank</th><th scope=col>song</th><th scope=col>artist</th><th scope=col>year</th><th scope=col>lyrics</th></tr></thead>\n",
       "<tbody>\n",
       "\t<tr><td>1                                                                                                                                                                                                                                                                                                                                                                                                                                                                                                                                                                                                                                                                                                                                                                                                                                                                                                                                                                                                                                </td><td>wooly bully                                                                                                                                                                                                                                                                                                                                                                                                                                                                                                                                                                                                                                                                                                                                                                                                                                                                                                                                                                                                                      </td><td>sam the sham and the pharaohs                                                                                                                                                                                                                                                                                                                                                                                                                                                                                                                                                                                                                                                                                                                                                                                                                                                                                                                                                                                                    </td><td>1965                                                                                                                                                                                                                                                                                                                                                                                                                                                                                                                                                                                                                                                                                                                                                                                                                                                                                                                                                                                                                             </td><td>sam the sham miscellaneous wooly bully wooly bully sam the sham  the pharaohs  domingo samudio uno dos one two tres quatro matty told hatty about a thing she saw had two big horns and a wooly jaw wooly bully wooly bully wooly bully wooly bully wooly bully hatty told matty lets dont take no chance lets not belseven come and learn to dance wooly bully wooly bully wooly bully wooly bully wooly bully matty told hatty thats the thing to do get you someone really to pull the wool with you wooly bully wooly bully wooly bully wooly bully wooly bully lseven  the letter l and the number 7 when typed they form a rough square l7 so the lyrics mean lets not be square                                                                                                                                                                                                                                                                                                                                           </td></tr>\n",
       "\t<tr><td>2                                                                                                                                                                                                                                                                                                                                                                                                                                                                                                                                                                                                                                                                                                                                                                                                                                                                                                                                                                                                                                </td><td>i cant help myself sugar pie honey bunch                                                                                                                                                                                                                                                                                                                                                                                                                                                                                                                                                                                                                                                                                                                                                                                                                                                                                                                                                                                         </td><td>four tops                                                                                                                                                                                                                                                                                                                                                                                                                                                                                                                                                                                                                                                                                                                                                                                                                                                                                                                                                                                                                        </td><td>1965                                                                                                                                                                                                                                                                                                                                                                                                                                                                                                                                                                                                                                                                                                                                                                                                                                                                                                                                                                                                                             </td><td>sugar pie honey bunch you know that i love you i cant help myself i love you and nobody elsein and out my life you come and you go leaving just your picture behind and i kissed it a thousand timeswhen you snap your finger or wink your eye i come arunning to you im tied to your apron strings and theres nothing that i can docant help myself no i cant help myselfsugar pie honey bunch im weaker than a man should be i cant help myself im a fool in love you seewanna tell you i dont love you tell you that were through and ive tried but every time i see your face i get all choked up insidewhen i call your name girl it starts the flame burning in my heart tearing it all apart no matter how i try my love i cannot hidecause sugar pie honey bunch you know that im weak for you cant help myself i love you and nobody elsesugar pie honey bunch do anything you ask me to cant help myself i want you and nobody elsesugar pie honey bunch you know that i love you i cant help myself i cant help myself</td></tr>\n",
       "\t<tr><td>4                                                                                                                                                                                                                                                                                                                                                                                                                                                                                                                                                                                                                                                                                                                                                                                                                                                                                                                                                                                                                                </td><td>you were on my mind                                                                                                                                                                                                                                                                                                                                                                                                                                                                                                                                                                                                                                                                                                                                                                                                                                                                                                                                                                                                              </td><td>we five                                                                                                                                                                                                                                                                                                                                                                                                                                                                                                                                                                                                                                                                                                                                                                                                                                                                                                                                                                                                                          </td><td>1965                                                                                                                                                                                                                                                                                                                                                                                                                                                                                                                                                                                                                                                                                                                                                                                                                                                                                                                                                                                                                             </td><td>when i woke up this morning you were on my mind and you were on my mind i got troubles whoaoh i got worries whoaoh i got wounds to bind so i went to the corner just to ease my pains yeah just to ease my pains i got troubles whoaoh i got worries whoaoh i came home again when i woke up this morning you were on my miiiind and you were on my mind i got troubles whoaoh i got worries whoaoh i got wounds to bind and i got a feelin down in my shooooooes said way down in my shooooes yeah i got to ramble whoaoh i got to move on whoaoh i got to walk away my blues when i woke up this morning you were on my mind you were on my mind i got troubles whoaoh i got worries whoaoh i got wounds to bind                                                                                                                                                                                                                                                                                                               </td></tr>\n",
       "</tbody>\n",
       "</table>\n"
      ],
      "text/latex": [
       "\\begin{tabular}{r|lllll}\n",
       " rank & song & artist & year & lyrics\\\\\n",
       "\\hline\n",
       "\t 1                                                                                                                                                                                                                                                                                                                                                                                                                                                                                                                                                                                                                                                                                                                                                                                                                                                                                                                                                                                                                                 & wooly bully                                                                                                                                                                                                                                                                                                                                                                                                                                                                                                                                                                                                                                                                                                                                                                                                                                                                                                                                                                                                                       & sam the sham and the pharaohs                                                                                                                                                                                                                                                                                                                                                                                                                                                                                                                                                                                                                                                                                                                                                                                                                                                                                                                                                                                                     & 1965                                                                                                                                                                                                                                                                                                                                                                                                                                                                                                                                                                                                                                                                                                                                                                                                                                                                                                                                                                                                                              & sam the sham miscellaneous wooly bully wooly bully sam the sham  the pharaohs  domingo samudio uno dos one two tres quatro matty told hatty about a thing she saw had two big horns and a wooly jaw wooly bully wooly bully wooly bully wooly bully wooly bully hatty told matty lets dont take no chance lets not belseven come and learn to dance wooly bully wooly bully wooly bully wooly bully wooly bully matty told hatty thats the thing to do get you someone really to pull the wool with you wooly bully wooly bully wooly bully wooly bully wooly bully lseven  the letter l and the number 7 when typed they form a rough square l7 so the lyrics mean lets not be square                                                                                                                                                                                                                                                                                                                                           \\\\\n",
       "\t 2                                                                                                                                                                                                                                                                                                                                                                                                                                                                                                                                                                                                                                                                                                                                                                                                                                                                                                                                                                                                                                 & i cant help myself sugar pie honey bunch                                                                                                                                                                                                                                                                                                                                                                                                                                                                                                                                                                                                                                                                                                                                                                                                                                                                                                                                                                                          & four tops                                                                                                                                                                                                                                                                                                                                                                                                                                                                                                                                                                                                                                                                                                                                                                                                                                                                                                                                                                                                                         & 1965                                                                                                                                                                                                                                                                                                                                                                                                                                                                                                                                                                                                                                                                                                                                                                                                                                                                                                                                                                                                                              & sugar pie honey bunch you know that i love you i cant help myself i love you and nobody elsein and out my life you come and you go leaving just your picture behind and i kissed it a thousand timeswhen you snap your finger or wink your eye i come arunning to you im tied to your apron strings and theres nothing that i can docant help myself no i cant help myselfsugar pie honey bunch im weaker than a man should be i cant help myself im a fool in love you seewanna tell you i dont love you tell you that were through and ive tried but every time i see your face i get all choked up insidewhen i call your name girl it starts the flame burning in my heart tearing it all apart no matter how i try my love i cannot hidecause sugar pie honey bunch you know that im weak for you cant help myself i love you and nobody elsesugar pie honey bunch do anything you ask me to cant help myself i want you and nobody elsesugar pie honey bunch you know that i love you i cant help myself i cant help myself\\\\\n",
       "\t 4                                                                                                                                                                                                                                                                                                                                                                                                                                                                                                                                                                                                                                                                                                                                                                                                                                                                                                                                                                                                                                 & you were on my mind                                                                                                                                                                                                                                                                                                                                                                                                                                                                                                                                                                                                                                                                                                                                                                                                                                                                                                                                                                                                               & we five                                                                                                                                                                                                                                                                                                                                                                                                                                                                                                                                                                                                                                                                                                                                                                                                                                                                                                                                                                                                                           & 1965                                                                                                                                                                                                                                                                                                                                                                                                                                                                                                                                                                                                                                                                                                                                                                                                                                                                                                                                                                                                                              & when i woke up this morning you were on my mind and you were on my mind i got troubles whoaoh i got worries whoaoh i got wounds to bind so i went to the corner just to ease my pains yeah just to ease my pains i got troubles whoaoh i got worries whoaoh i came home again when i woke up this morning you were on my miiiind and you were on my mind i got troubles whoaoh i got worries whoaoh i got wounds to bind and i got a feelin down in my shooooooes said way down in my shooooes yeah i got to ramble whoaoh i got to move on whoaoh i got to walk away my blues when i woke up this morning you were on my mind you were on my mind i got troubles whoaoh i got worries whoaoh i got wounds to bind                                                                                                                                                                                                                                                                                                               \\\\\n",
       "\\end{tabular}\n"
      ],
      "text/markdown": [
       "\n",
       "rank | song | artist | year | lyrics | \n",
       "|---|---|---|\n",
       "| 1                                                                                                                                                                                                                                                                                                                                                                                                                                                                                                                                                                                                                                                                                                                                                                                                                                                                                                                                                                                                                                 | wooly bully                                                                                                                                                                                                                                                                                                                                                                                                                                                                                                                                                                                                                                                                                                                                                                                                                                                                                                                                                                                                                       | sam the sham and the pharaohs                                                                                                                                                                                                                                                                                                                                                                                                                                                                                                                                                                                                                                                                                                                                                                                                                                                                                                                                                                                                     | 1965                                                                                                                                                                                                                                                                                                                                                                                                                                                                                                                                                                                                                                                                                                                                                                                                                                                                                                                                                                                                                              | sam the sham miscellaneous wooly bully wooly bully sam the sham  the pharaohs  domingo samudio uno dos one two tres quatro matty told hatty about a thing she saw had two big horns and a wooly jaw wooly bully wooly bully wooly bully wooly bully wooly bully hatty told matty lets dont take no chance lets not belseven come and learn to dance wooly bully wooly bully wooly bully wooly bully wooly bully matty told hatty thats the thing to do get you someone really to pull the wool with you wooly bully wooly bully wooly bully wooly bully wooly bully lseven  the letter l and the number 7 when typed they form a rough square l7 so the lyrics mean lets not be square                                                                                                                                                                                                                                                                                                                                            | \n",
       "| 2                                                                                                                                                                                                                                                                                                                                                                                                                                                                                                                                                                                                                                                                                                                                                                                                                                                                                                                                                                                                                                 | i cant help myself sugar pie honey bunch                                                                                                                                                                                                                                                                                                                                                                                                                                                                                                                                                                                                                                                                                                                                                                                                                                                                                                                                                                                          | four tops                                                                                                                                                                                                                                                                                                                                                                                                                                                                                                                                                                                                                                                                                                                                                                                                                                                                                                                                                                                                                         | 1965                                                                                                                                                                                                                                                                                                                                                                                                                                                                                                                                                                                                                                                                                                                                                                                                                                                                                                                                                                                                                              | sugar pie honey bunch you know that i love you i cant help myself i love you and nobody elsein and out my life you come and you go leaving just your picture behind and i kissed it a thousand timeswhen you snap your finger or wink your eye i come arunning to you im tied to your apron strings and theres nothing that i can docant help myself no i cant help myselfsugar pie honey bunch im weaker than a man should be i cant help myself im a fool in love you seewanna tell you i dont love you tell you that were through and ive tried but every time i see your face i get all choked up insidewhen i call your name girl it starts the flame burning in my heart tearing it all apart no matter how i try my love i cannot hidecause sugar pie honey bunch you know that im weak for you cant help myself i love you and nobody elsesugar pie honey bunch do anything you ask me to cant help myself i want you and nobody elsesugar pie honey bunch you know that i love you i cant help myself i cant help myself | \n",
       "| 4                                                                                                                                                                                                                                                                                                                                                                                                                                                                                                                                                                                                                                                                                                                                                                                                                                                                                                                                                                                                                                 | you were on my mind                                                                                                                                                                                                                                                                                                                                                                                                                                                                                                                                                                                                                                                                                                                                                                                                                                                                                                                                                                                                               | we five                                                                                                                                                                                                                                                                                                                                                                                                                                                                                                                                                                                                                                                                                                                                                                                                                                                                                                                                                                                                                           | 1965                                                                                                                                                                                                                                                                                                                                                                                                                                                                                                                                                                                                                                                                                                                                                                                                                                                                                                                                                                                                                              | when i woke up this morning you were on my mind and you were on my mind i got troubles whoaoh i got worries whoaoh i got wounds to bind so i went to the corner just to ease my pains yeah just to ease my pains i got troubles whoaoh i got worries whoaoh i came home again when i woke up this morning you were on my miiiind and you were on my mind i got troubles whoaoh i got worries whoaoh i got wounds to bind and i got a feelin down in my shooooooes said way down in my shooooes yeah i got to ramble whoaoh i got to move on whoaoh i got to walk away my blues when i woke up this morning you were on my mind you were on my mind i got troubles whoaoh i got worries whoaoh i got wounds to bind                                                                                                                                                                                                                                                                                                                | \n",
       "\n",
       "\n"
      ],
      "text/plain": [
       "  rank song                                     artist                       \n",
       "1 1    wooly bully                              sam the sham and the pharaohs\n",
       "2 2    i cant help myself sugar pie honey bunch four tops                    \n",
       "3 4    you were on my mind                      we five                      \n",
       "  year\n",
       "1 1965\n",
       "2 1965\n",
       "3 1965\n",
       "  lyrics                                                                                                                                                                                                                                                                                                                                                                                                                                                                                                                                                                                                                                                                                                                                                                                                                                                                                                                                                                                                                           \n",
       "1 sam the sham miscellaneous wooly bully wooly bully sam the sham  the pharaohs  domingo samudio uno dos one two tres quatro matty told hatty about a thing she saw had two big horns and a wooly jaw wooly bully wooly bully wooly bully wooly bully wooly bully hatty told matty lets dont take no chance lets not belseven come and learn to dance wooly bully wooly bully wooly bully wooly bully wooly bully matty told hatty thats the thing to do get you someone really to pull the wool with you wooly bully wooly bully wooly bully wooly bully wooly bully lseven  the letter l and the number 7 when typed they form a rough square l7 so the lyrics mean lets not be square                                                                                                                                                                                                                                                                                                                                           \n",
       "2 sugar pie honey bunch you know that i love you i cant help myself i love you and nobody elsein and out my life you come and you go leaving just your picture behind and i kissed it a thousand timeswhen you snap your finger or wink your eye i come arunning to you im tied to your apron strings and theres nothing that i can docant help myself no i cant help myselfsugar pie honey bunch im weaker than a man should be i cant help myself im a fool in love you seewanna tell you i dont love you tell you that were through and ive tried but every time i see your face i get all choked up insidewhen i call your name girl it starts the flame burning in my heart tearing it all apart no matter how i try my love i cannot hidecause sugar pie honey bunch you know that im weak for you cant help myself i love you and nobody elsesugar pie honey bunch do anything you ask me to cant help myself i want you and nobody elsesugar pie honey bunch you know that i love you i cant help myself i cant help myself\n",
       "3 when i woke up this morning you were on my mind and you were on my mind i got troubles whoaoh i got worries whoaoh i got wounds to bind so i went to the corner just to ease my pains yeah just to ease my pains i got troubles whoaoh i got worries whoaoh i came home again when i woke up this morning you were on my miiiind and you were on my mind i got troubles whoaoh i got worries whoaoh i got wounds to bind and i got a feelin down in my shooooooes said way down in my shooooes yeah i got to ramble whoaoh i got to move on whoaoh i got to walk away my blues when i woke up this morning you were on my mind you were on my mind i got troubles whoaoh i got worries whoaoh i got wounds to bind                                                                                                                                                                                                                                                                                                               "
      ]
     },
     "metadata": {},
     "output_type": "display_data"
    }
   ],
   "source": [
    "load(\"song_lyrics.rda\")\n",
    "head(song_lyrics,3)"
   ]
  },
  {
   "cell_type": "markdown",
   "metadata": {},
   "source": [
    "### Tidying song lyrics\n",
    "Let's take a look at the dataset you will use in this final chapter to practice your sentiment analysis skills. The song_lyrics dataset contains five columns:\n",
    "\n",
    " - rank, the rank a song achieved on the Billboard Year-End Hot 100,\n",
    " - song, the song's title,\n",
    " - artist, the artist who recorded the song,\n",
    " - year, the year the song reached the given rank on the Billboard chart, and\n",
    " - lyrics, the lyrics of the song.\n",
    " \n",
    "This dataset contains over 5000 songs, from 1965 to the present. The lyrics are all in one column, so they are not yet in a tidy format, ready for analysis using tidy tools. It's your turn to tidy this text data!\n",
    "\n",
    "INSTRUCTIONS\n",
    "100XP\n",
    "\n",
    " - Load the tidytext package.\n",
    " - Pipe the song_lyrics object to the next line.\n",
    " - Use unnest_tokens() to unnest the lyrics column into a new word column."
   ]
  },
  {
   "cell_type": "code",
   "execution_count": 101,
   "metadata": {
    "collapsed": false
   },
   "outputs": [
    {
     "data": {
      "text/html": [
       "<table>\n",
       "<thead><tr><th scope=col>rank</th><th scope=col>song</th><th scope=col>artist</th><th scope=col>year</th><th scope=col>word</th></tr></thead>\n",
       "<tbody>\n",
       "\t<tr><td>1                            </td><td>wooly bully                  </td><td>sam the sham and the pharaohs</td><td>1965                         </td><td>sam                          </td></tr>\n",
       "\t<tr><td>1                            </td><td>wooly bully                  </td><td>sam the sham and the pharaohs</td><td>1965                         </td><td>the                          </td></tr>\n",
       "\t<tr><td>1                            </td><td>wooly bully                  </td><td>sam the sham and the pharaohs</td><td>1965                         </td><td>sham                         </td></tr>\n",
       "\t<tr><td>1                            </td><td>wooly bully                  </td><td>sam the sham and the pharaohs</td><td>1965                         </td><td>miscellaneous                </td></tr>\n",
       "\t<tr><td>1                            </td><td>wooly bully                  </td><td>sam the sham and the pharaohs</td><td>1965                         </td><td>wooly                        </td></tr>\n",
       "\t<tr><td>1                            </td><td>wooly bully                  </td><td>sam the sham and the pharaohs</td><td>1965                         </td><td>bully                        </td></tr>\n",
       "</tbody>\n",
       "</table>\n"
      ],
      "text/latex": [
       "\\begin{tabular}{r|lllll}\n",
       " rank & song & artist & year & word\\\\\n",
       "\\hline\n",
       "\t 1                             & wooly bully                   & sam the sham and the pharaohs & 1965                          & sam                          \\\\\n",
       "\t 1                             & wooly bully                   & sam the sham and the pharaohs & 1965                          & the                          \\\\\n",
       "\t 1                             & wooly bully                   & sam the sham and the pharaohs & 1965                          & sham                         \\\\\n",
       "\t 1                             & wooly bully                   & sam the sham and the pharaohs & 1965                          & miscellaneous                \\\\\n",
       "\t 1                             & wooly bully                   & sam the sham and the pharaohs & 1965                          & wooly                        \\\\\n",
       "\t 1                             & wooly bully                   & sam the sham and the pharaohs & 1965                          & bully                        \\\\\n",
       "\\end{tabular}\n"
      ],
      "text/markdown": [
       "\n",
       "rank | song | artist | year | word | \n",
       "|---|---|---|---|---|---|\n",
       "| 1                             | wooly bully                   | sam the sham and the pharaohs | 1965                          | sam                           | \n",
       "| 1                             | wooly bully                   | sam the sham and the pharaohs | 1965                          | the                           | \n",
       "| 1                             | wooly bully                   | sam the sham and the pharaohs | 1965                          | sham                          | \n",
       "| 1                             | wooly bully                   | sam the sham and the pharaohs | 1965                          | miscellaneous                 | \n",
       "| 1                             | wooly bully                   | sam the sham and the pharaohs | 1965                          | wooly                         | \n",
       "| 1                             | wooly bully                   | sam the sham and the pharaohs | 1965                          | bully                         | \n",
       "\n",
       "\n"
      ],
      "text/plain": [
       "  rank song        artist                        year word         \n",
       "1 1    wooly bully sam the sham and the pharaohs 1965 sam          \n",
       "2 1    wooly bully sam the sham and the pharaohs 1965 the          \n",
       "3 1    wooly bully sam the sham and the pharaohs 1965 sham         \n",
       "4 1    wooly bully sam the sham and the pharaohs 1965 miscellaneous\n",
       "5 1    wooly bully sam the sham and the pharaohs 1965 wooly        \n",
       "6 1    wooly bully sam the sham and the pharaohs 1965 bully        "
      ]
     },
     "metadata": {},
     "output_type": "display_data"
    }
   ],
   "source": [
    "# Load the tidytext package\n",
    "library(tidytext)\n",
    "\n",
    "# Pipe song_lyrics to the next line\n",
    "tidy_lyrics <- song_lyrics %>% \n",
    "  # Transform the lyrics column to a word column\n",
    "  unnest_tokens(word, lyrics)\n",
    "\n",
    "# Print tidy_lyrics\n",
    "tidy_lyrics"
   ]
  },
  {
   "cell_type": "markdown",
   "metadata": {},
   "source": [
    "Great work! The unnest_tokens() function tokenizes the input column into words by default."
   ]
  },
  {
   "cell_type": "markdown",
   "metadata": {},
   "source": [
    "### Calculating total words per song\n",
    "For some next steps in this analysis, you need to know the total number of words sung in each song. Use count() to count up the words per song, and then left_join() these word totals to the tidy data set. You can specify exactly which column to use when joining the two data frames if you add by = \"song\".\n",
    "\n",
    "INSTRUCTIONS\n",
    "100XP\n",
    " - Count by song to find the word totals.\n",
    " - With the rename() function, change the name of the new n column to total_words.\n",
    " - Use left_join() to combine total with tidy_lyrics using the song column."
   ]
  },
  {
   "cell_type": "code",
   "execution_count": 102,
   "metadata": {
    "collapsed": false
   },
   "outputs": [
    {
     "data": {
      "text/html": [
       "<table>\n",
       "<thead><tr><th scope=col>song</th><th scope=col>total_words</th></tr></thead>\n",
       "<tbody>\n",
       "\t<tr><td>0 to 100  the catch up</td><td>894                   </td></tr>\n",
       "\t<tr><td>1 2 3 4 sumpin new    </td><td>670                   </td></tr>\n",
       "\t<tr><td>1 2 3 red light       </td><td>145                   </td></tr>\n",
       "\t<tr><td>1 2 step              </td><td>437                   </td></tr>\n",
       "\t<tr><td>1 thing               </td><td>532                   </td></tr>\n",
       "\t<tr><td>100 pure love         </td><td>590                   </td></tr>\n",
       "</tbody>\n",
       "</table>\n"
      ],
      "text/latex": [
       "\\begin{tabular}{r|ll}\n",
       " song & total\\_words\\\\\n",
       "\\hline\n",
       "\t 0 to 100  the catch up & 894                   \\\\\n",
       "\t 1 2 3 4 sumpin new     & 670                   \\\\\n",
       "\t 1 2 3 red light        & 145                   \\\\\n",
       "\t 1 2 step               & 437                   \\\\\n",
       "\t 1 thing                & 532                   \\\\\n",
       "\t 100 pure love          & 590                   \\\\\n",
       "\\end{tabular}\n"
      ],
      "text/markdown": [
       "\n",
       "song | total_words | \n",
       "|---|---|---|---|---|---|\n",
       "| 0 to 100  the catch up | 894                    | \n",
       "| 1 2 3 4 sumpin new     | 670                    | \n",
       "| 1 2 3 red light        | 145                    | \n",
       "| 1 2 step               | 437                    | \n",
       "| 1 thing                | 532                    | \n",
       "| 100 pure love          | 590                    | \n",
       "\n",
       "\n"
      ],
      "text/plain": [
       "  song                   total_words\n",
       "1 0 to 100  the catch up 894        \n",
       "2 1 2 3 4 sumpin new     670        \n",
       "3 1 2 3 red light        145        \n",
       "4 1 2 step               437        \n",
       "5 1 thing                532        \n",
       "6 100 pure love          590        "
      ]
     },
     "metadata": {},
     "output_type": "display_data"
    }
   ],
   "source": [
    "totals <- tidy_lyrics %>%\n",
    "  # Count by song to find the word totals for each song\n",
    "  count(song) %>%\n",
    "  # Rename the new column\n",
    "  rename(total_words = n)\n",
    "\n",
    "# Print totals    \n",
    "totals\n",
    "\n",
    "lyric_counts <- tidy_lyrics %>%\n",
    "  # Combine totals with tidy_lyrics using the \"song\" column\n",
    "  left_join(totals, by = \"song\")"
   ]
  },
  {
   "cell_type": "markdown",
   "metadata": {},
   "source": [
    "Excellent! Now you have the total number of words for each song."
   ]
  },
  {
   "cell_type": "markdown",
   "metadata": {},
   "source": [
    "### Sentiment analysis on song lyrics\n",
    "You have been practicing how to implement sentiment analysis with a join throughout this course. After transforming the text of these songs to a tidy text dataset and preparing the data frame, the resulting data frame lyric_counts is ready for you to perform sentiment analysis once again. Once you have done the sentiment analysis, you can learn which songs have the most sentiment words from the NRC lexicon. Remember that the NRC lexicon has 10 categories of sentiment:\n",
    "\n",
    " - anger\n",
    " - anticipation\n",
    " - disgust\n",
    " - fear\n",
    " - joy\n",
    " - negative\n",
    " - positive\n",
    " - sadness\n",
    " - surprise\n",
    " - trust\n",
    " \n",
    "INSTRUCTIONS\n",
    "100XP\n",
    " - Use the correct kind of join to implement sentiment analysis.\n",
    " - Add the \"nrc\" lexicon as the argument to the join function.\n",
    " - Find the songs with the most sentiment words by using two arguments in count(), along with sort = TRUE."
   ]
  },
  {
   "cell_type": "code",
   "execution_count": 104,
   "metadata": {
    "collapsed": false
   },
   "outputs": [
    {
     "name": "stderr",
     "output_type": "stream",
     "text": [
      "Joining, by = \"word\"\n"
     ]
    },
    {
     "data": {
      "text/html": [
       "<table>\n",
       "<thead><tr><th scope=col>song</th><th scope=col>sentiment</th><th scope=col>n</th></tr></thead>\n",
       "<tbody>\n",
       "\t<tr><td>baby          </td><td>positive      </td><td>264           </td></tr>\n",
       "\t<tr><td>baby          </td><td>joy           </td><td>255           </td></tr>\n",
       "\t<tr><td>real love     </td><td>positive      </td><td>213           </td></tr>\n",
       "\t<tr><td>angel         </td><td>positive      </td><td>193           </td></tr>\n",
       "\t<tr><td>disturbia     </td><td>negative      </td><td>182           </td></tr>\n",
       "\t<tr><td>live your life</td><td>positive      </td><td>174           </td></tr>\n",
       "\t<tr><td>my love       </td><td>positive      </td><td>173           </td></tr>\n",
       "\t<tr><td>angel         </td><td>joy           </td><td>164           </td></tr>\n",
       "\t<tr><td>damn          </td><td>negative      </td><td>164           </td></tr>\n",
       "\t<tr><td>disturbia     </td><td>sadness       </td><td>164           </td></tr>\n",
       "</tbody>\n",
       "</table>\n"
      ],
      "text/latex": [
       "\\begin{tabular}{r|lll}\n",
       " song & sentiment & n\\\\\n",
       "\\hline\n",
       "\t baby           & positive       & 264           \\\\\n",
       "\t baby           & joy            & 255           \\\\\n",
       "\t real love      & positive       & 213           \\\\\n",
       "\t angel          & positive       & 193           \\\\\n",
       "\t disturbia      & negative       & 182           \\\\\n",
       "\t live your life & positive       & 174           \\\\\n",
       "\t my love        & positive       & 173           \\\\\n",
       "\t angel          & joy            & 164           \\\\\n",
       "\t damn           & negative       & 164           \\\\\n",
       "\t disturbia      & sadness        & 164           \\\\\n",
       "\\end{tabular}\n"
      ],
      "text/markdown": [
       "\n",
       "song | sentiment | n | \n",
       "|---|---|---|---|---|---|---|---|---|---|\n",
       "| baby           | positive       | 264            | \n",
       "| baby           | joy            | 255            | \n",
       "| real love      | positive       | 213            | \n",
       "| angel          | positive       | 193            | \n",
       "| disturbia      | negative       | 182            | \n",
       "| live your life | positive       | 174            | \n",
       "| my love        | positive       | 173            | \n",
       "| angel          | joy            | 164            | \n",
       "| damn           | negative       | 164            | \n",
       "| disturbia      | sadness        | 164            | \n",
       "\n",
       "\n"
      ],
      "text/plain": [
       "   song           sentiment n  \n",
       "1  baby           positive  264\n",
       "2  baby           joy       255\n",
       "3  real love      positive  213\n",
       "4  angel          positive  193\n",
       "5  disturbia      negative  182\n",
       "6  live your life positive  174\n",
       "7  my love        positive  173\n",
       "8  angel          joy       164\n",
       "9  damn           negative  164\n",
       "10 disturbia      sadness   164"
      ]
     },
     "metadata": {},
     "output_type": "display_data"
    }
   ],
   "source": [
    "lyric_sentiment <- lyric_counts %>%\n",
    "    # Implement sentiment analysis with the \"nrc\" lexicon\n",
    "    inner_join(get_sentiments(\"nrc\"))\n",
    "\n",
    "lyric_sentiment %>%\n",
    "    # Find how many sentiment words each song has\n",
    "    count(song, sentiment, sort = TRUE)"
   ]
  },
  {
   "cell_type": "code",
   "execution_count": null,
   "metadata": {
    "collapsed": true
   },
   "outputs": [],
   "source": [
    "Fantastic! The song “Baby” has the highest number of positive words while “Disturbia” has the highest number of negative words."
   ]
  },
  {
   "cell_type": "markdown",
   "metadata": {},
   "source": [
    "### The most positive and negative songs\n",
    "You have successfully implemented sentiment analysis on this dataset of song lyrics, and now you can ask question such as, \"Which songs have the highest proportion of positive words? Of negative words?\" You calculated the total number of words for each song earlier, so now you need to count the number of words for each sentiment and song.\n",
    "\n",
    "INSTRUCTIONS\n",
    "100XP\n",
    " - Use count() with three arguments to find the number of sentiment words for each song and total number of words.\n",
    " - Make a new column using mutate() that is named percent, equal to n (the output of count()) divided by the total number of words.\n",
    " - Filter for only negative words.\n",
    " - Arrange by descending percent.\n",
    " - Now repeat these same steps for positive words."
   ]
  },
  {
   "cell_type": "code",
   "execution_count": 105,
   "metadata": {
    "collapsed": false
   },
   "outputs": [
    {
     "data": {
      "text/html": [
       "<table>\n",
       "<thead><tr><th scope=col>song</th><th scope=col>sentiment</th><th scope=col>total_words</th><th scope=col>n</th><th scope=col>percent</th></tr></thead>\n",
       "<tbody>\n",
       "\t<tr><td>bad boy                       </td><td>negative                      </td><td>237                           </td><td> 77                           </td><td>0.3248945                     </td></tr>\n",
       "\t<tr><td>rack city                     </td><td>negative                      </td><td>458                           </td><td>142                           </td><td>0.3100437                     </td></tr>\n",
       "\t<tr><td>ill tumble 4 ya               </td><td>negative                      </td><td>269                           </td><td> 79                           </td><td>0.2936803                     </td></tr>\n",
       "\t<tr><td>time wont let me              </td><td>negative                      </td><td>154                           </td><td> 42                           </td><td>0.2727273                     </td></tr>\n",
       "\t<tr><td>bang bang my baby shot me down</td><td>negative                      </td><td>163                           </td><td> 40                           </td><td>0.2453988                     </td></tr>\n",
       "\t<tr><td>the stroke                    </td><td>negative                      </td><td>279                           </td><td> 57                           </td><td>0.2043011                     </td></tr>\n",
       "</tbody>\n",
       "</table>\n"
      ],
      "text/latex": [
       "\\begin{tabular}{r|lllll}\n",
       " song & sentiment & total\\_words & n & percent\\\\\n",
       "\\hline\n",
       "\t bad boy                        & negative                       & 237                            &  77                            & 0.3248945                     \\\\\n",
       "\t rack city                      & negative                       & 458                            & 142                            & 0.3100437                     \\\\\n",
       "\t ill tumble 4 ya                & negative                       & 269                            &  79                            & 0.2936803                     \\\\\n",
       "\t time wont let me               & negative                       & 154                            &  42                            & 0.2727273                     \\\\\n",
       "\t bang bang my baby shot me down & negative                       & 163                            &  40                            & 0.2453988                     \\\\\n",
       "\t the stroke                     & negative                       & 279                            &  57                            & 0.2043011                     \\\\\n",
       "\\end{tabular}\n"
      ],
      "text/markdown": [
       "\n",
       "song | sentiment | total_words | n | percent | \n",
       "|---|---|---|---|---|---|\n",
       "| bad boy                        | negative                       | 237                            |  77                            | 0.3248945                      | \n",
       "| rack city                      | negative                       | 458                            | 142                            | 0.3100437                      | \n",
       "| ill tumble 4 ya                | negative                       | 269                            |  79                            | 0.2936803                      | \n",
       "| time wont let me               | negative                       | 154                            |  42                            | 0.2727273                      | \n",
       "| bang bang my baby shot me down | negative                       | 163                            |  40                            | 0.2453988                      | \n",
       "| the stroke                     | negative                       | 279                            |  57                            | 0.2043011                      | \n",
       "\n",
       "\n"
      ],
      "text/plain": [
       "  song                           sentiment total_words n   percent  \n",
       "1 bad boy                        negative  237          77 0.3248945\n",
       "2 rack city                      negative  458         142 0.3100437\n",
       "3 ill tumble 4 ya                negative  269          79 0.2936803\n",
       "4 time wont let me               negative  154          42 0.2727273\n",
       "5 bang bang my baby shot me down negative  163          40 0.2453988\n",
       "6 the stroke                     negative  279          57 0.2043011"
      ]
     },
     "metadata": {},
     "output_type": "display_data"
    },
    {
     "data": {
      "text/html": [
       "<table>\n",
       "<thead><tr><th scope=col>song</th><th scope=col>sentiment</th><th scope=col>total_words</th><th scope=col>n</th><th scope=col>percent</th></tr></thead>\n",
       "<tbody>\n",
       "\t<tr><td>love to love you baby                 </td><td>positive                              </td><td>240                                   </td><td>78                                    </td><td>0.3250000                             </td></tr>\n",
       "\t<tr><td>dance dance dance yowsah yowsah yowsah</td><td>positive                              </td><td>305                                   </td><td>94                                    </td><td>0.3081967                             </td></tr>\n",
       "\t<tr><td>i got the feelin                      </td><td>positive                              </td><td>141                                   </td><td>35                                    </td><td>0.2482270                             </td></tr>\n",
       "\t<tr><td>i love music                          </td><td>positive                              </td><td>252                                   </td><td>61                                    </td><td>0.2420635                             </td></tr>\n",
       "\t<tr><td>sweet and innocent                    </td><td>positive                              </td><td>218                                   </td><td>51                                    </td><td>0.2339450                             </td></tr>\n",
       "\t<tr><td>me and baby brother                   </td><td>positive                              </td><td>181                                   </td><td>42                                    </td><td>0.2320442                             </td></tr>\n",
       "</tbody>\n",
       "</table>\n"
      ],
      "text/latex": [
       "\\begin{tabular}{r|lllll}\n",
       " song & sentiment & total\\_words & n & percent\\\\\n",
       "\\hline\n",
       "\t love to love you baby                  & positive                               & 240                                    & 78                                     & 0.3250000                             \\\\\n",
       "\t dance dance dance yowsah yowsah yowsah & positive                               & 305                                    & 94                                     & 0.3081967                             \\\\\n",
       "\t i got the feelin                       & positive                               & 141                                    & 35                                     & 0.2482270                             \\\\\n",
       "\t i love music                           & positive                               & 252                                    & 61                                     & 0.2420635                             \\\\\n",
       "\t sweet and innocent                     & positive                               & 218                                    & 51                                     & 0.2339450                             \\\\\n",
       "\t me and baby brother                    & positive                               & 181                                    & 42                                     & 0.2320442                             \\\\\n",
       "\\end{tabular}\n"
      ],
      "text/markdown": [
       "\n",
       "song | sentiment | total_words | n | percent | \n",
       "|---|---|---|---|---|---|\n",
       "| love to love you baby                  | positive                               | 240                                    | 78                                     | 0.3250000                              | \n",
       "| dance dance dance yowsah yowsah yowsah | positive                               | 305                                    | 94                                     | 0.3081967                              | \n",
       "| i got the feelin                       | positive                               | 141                                    | 35                                     | 0.2482270                              | \n",
       "| i love music                           | positive                               | 252                                    | 61                                     | 0.2420635                              | \n",
       "| sweet and innocent                     | positive                               | 218                                    | 51                                     | 0.2339450                              | \n",
       "| me and baby brother                    | positive                               | 181                                    | 42                                     | 0.2320442                              | \n",
       "\n",
       "\n"
      ],
      "text/plain": [
       "  song                                   sentiment total_words n  percent  \n",
       "1 love to love you baby                  positive  240         78 0.3250000\n",
       "2 dance dance dance yowsah yowsah yowsah positive  305         94 0.3081967\n",
       "3 i got the feelin                       positive  141         35 0.2482270\n",
       "4 i love music                           positive  252         61 0.2420635\n",
       "5 sweet and innocent                     positive  218         51 0.2339450\n",
       "6 me and baby brother                    positive  181         42 0.2320442"
      ]
     },
     "metadata": {},
     "output_type": "display_data"
    }
   ],
   "source": [
    "# What songs have the highest proportion of negative words?\n",
    "lyric_sentiment %>%\n",
    "    # Count using three arguments\n",
    "    count(song, sentiment, total_words) %>%\n",
    "    ungroup() %>%\n",
    "    # Make a new percent column with mutate \n",
    "    mutate(percent = n/total_words) %>%\n",
    "    # Filter for only negative words\n",
    "    filter(sentiment==\"negative\") %>%\n",
    "    # Arrange by descending percent\n",
    "    arrange(desc(percent))\n",
    "\n",
    "# What songs have the highest proportion of positive words?\n",
    "lyric_sentiment %>%\n",
    "    # Count using three arguments\n",
    "    count(song, sentiment, total_words) %>%\n",
    "    ungroup() %>%\n",
    "    # Make a new percent column with mutate \n",
    "    mutate(percent = n/total_words) %>%\n",
    "    # Filter for only negative words\n",
    "    filter(sentiment==\"positive\") %>%\n",
    "    # Arrange by descending percent\n",
    "    arrange(desc(percent))"
   ]
  },
  {
   "cell_type": "markdown",
   "metadata": {},
   "source": [
    "Fabulous! One of the songs with the highest proportion of positive words is “Dance, Dance, Dance (Yowsah, Yowsah, Yowsah)” from 1977."
   ]
  },
  {
   "cell_type": "markdown",
   "metadata": {},
   "source": [
    "## Connecting sentiment to other quantities - Video"
   ]
  },
  {
   "cell_type": "markdown",
   "metadata": {},
   "source": [
    "### Sentiment and Billboard rank\n",
    "The lyric_sentiment data frame that you created earlier by using inner_join() is available in your environment. You can now explore how the sentiment score of a song is related to other aspects of that song. First, start with Billboard rank, how high on the annual Billboard chart the song reached. Do songs that use more positive or negative words achieve higher or lower ranks? Start with positive words, and make a visualization to see how these characteristics are related.\n",
    "\n",
    "INSTRUCTIONS\n",
    "100XP\n",
    " - Count with three arguments: song, Billboard rank, and the total number of words that you calculated before\n",
    " - Use the correct dplyr function to make two new columns, percent and a rounded version of rank\n",
    " - Call the correct ggplot2 geom_* to make a boxplot"
   ]
  },
  {
   "cell_type": "code",
   "execution_count": 106,
   "metadata": {
    "collapsed": false
   },
   "outputs": [
    {
     "data": {},
     "metadata": {},
     "output_type": "display_data"
    },
    {
     "data": {
      "image/png": "[encoded data removed]",
      "text/plain": [
       "plot without title"
      ]
     },
     "metadata": {},
     "output_type": "display_data"
    }
   ],
   "source": [
    "lyric_sentiment %>%\n",
    "    filter(sentiment == \"positive\") %>%\n",
    "    # Count by song, Billboard rank, and the total number of words\n",
    "    count(song, rank, total_words) %>%\n",
    "    ungroup() %>%\n",
    "    # Use the correct dplyr verb to make two new columns\n",
    "    mutate(percent = n / total_words,\n",
    "           rank = 10 * floor(rank / 10)) %>%\n",
    "    ggplot(aes(as.factor(rank), percent)) +\n",
    "    # Make a boxplot\n",
    "    geom_boxplot()"
   ]
  },
  {
   "cell_type": "markdown",
   "metadata": {},
   "source": [
    "Nice work! Notice that there is not a visible trend relating Billboard rank and positive sentiment."
   ]
  },
  {
   "cell_type": "markdown",
   "metadata": {},
   "source": [
    "### More on Billboard rank and sentiment scores\n",
    "In the last exercise, you explored how positive sentiment and Billboard rank are related using a visualization, and you found that there was no visible trend. Songs with more positive words do not reach higher or lower ranks on the Billboard chart. Next, check the same relationship using the same visualization but for negative words. The lyric_sentiment data frame that you created earlier is still available in your environment.\n",
    "\n",
    "INSTRUCTIONS\n",
    "100XP\n",
    "\n",
    "Filter for only negative words.\n",
    " - Count using three arguments: song, Billboard rank, and total number of words.\n",
    " - Define a new percent column with mutate() that is equal to n divided by total_words.\n",
    " - Then use ggplot2 to make your visualization.\n",
    "\n",
    "Call aes() to put rank on the x-axis and percent on the y-axis; like in the previous exercise, treat rank as a factor with as.factor(rank).\n",
    "Make a boxplot."
   ]
  },
  {
   "cell_type": "code",
   "execution_count": 108,
   "metadata": {
    "collapsed": false
   },
   "outputs": [
    {
     "data": {},
     "metadata": {},
     "output_type": "display_data"
    },
    {
     "data": {
      "image/png": "[encoded data removed]",
      "text/plain": [
       "plot without title"
      ]
     },
     "metadata": {},
     "output_type": "display_data"
    }
   ],
   "source": [
    "lyric_sentiment %>%\n",
    "    # Filter for only negative words\n",
    "    filter(sentiment == \"negative\") %>%\n",
    "    # Count by song, Billboard rank, and the total number of words\n",
    "    count(song, rank, total_words) %>%\n",
    "    ungroup() %>%\n",
    "    # Mutate to make a percent column\n",
    "     mutate(percent = n / total_words,\n",
    "           rank = 10 * floor(rank / 10)) %>%\n",
    "    # Use ggplot to set up a plot with rank and percent\n",
    "    ggplot(aes(as.factor(rank), percent)) +\n",
    "    # Make a boxplot\n",
    "    geom_boxplot()"
   ]
  },
  {
   "cell_type": "markdown",
   "metadata": {},
   "source": [
    "That is exactly right, but still no trend! Sentiment and Billboard rank appear to be unrelated."
   ]
  },
  {
   "cell_type": "markdown",
   "metadata": {},
   "source": [
    "## Moving from song rank to year - Video"
   ]
  },
  {
   "cell_type": "markdown",
   "metadata": {},
   "source": [
    "### Sentiment scores by year\n",
    "You are going to make two more exploratory plots in this exercise, much like the plots you made for Billboard rank. This time, you are going to explore how sentiment has been changing with time. Are songs on the Billboard chart changing in their use of negative or positive words through the decades?\n",
    "\n",
    "INSTRUCTIONS\n",
    "100XP\n",
    "    \n",
    " - Filter for only negative words.\n",
    " - Use count() with three arguments to find the number of sentiment words for each song, year, and total number of words.\n",
    " - Use ggplot() to set up a plot with year on the x-axis (remember to treat it as a factor with as.factor(year)) and percent on the y-axis.\n",
    " - Now repeat these same steps for positive words."
   ]
  },
  {
   "cell_type": "code",
   "execution_count": 109,
   "metadata": {
    "collapsed": false
   },
   "outputs": [
    {
     "data": {},
     "metadata": {},
     "output_type": "display_data"
    },
    {
     "data": {},
     "metadata": {},
     "output_type": "display_data"
    },
    {
     "data": {
      "image/png": "[encoded data removed]",
      "text/plain": [
       "plot without title"
      ]
     },
     "metadata": {},
     "output_type": "display_data"
    },
    {
     "data": {
      "image/png": "[encoded data removed]",
      "text/plain": [
       "plot without title"
      ]
     },
     "metadata": {},
     "output_type": "display_data"
    }
   ],
   "source": [
    "# How is negative sentiment changing over time?\n",
    "lyric_sentiment %>%\n",
    "    # Filter for only negative words\n",
    "    filter(sentiment == \"positive\") %>%\n",
    "    # Count by song, year, and the total number of words\n",
    "    count(song, year, total_words) %>%\n",
    "    ungroup() %>%\n",
    "    mutate(percent = n / total_words,\n",
    "           year = 10 * floor(year / 10)) %>%\n",
    "    # Use ggplot to set up a plot with year and percent\n",
    "    ggplot(aes(as.factor(year), percent)) +\n",
    "    geom_boxplot()\n",
    "    \n",
    "# How is positive sentiment changing over time?\n",
    "lyric_sentiment %>%\n",
    "    filter(sentiment == \"negative\") %>%\n",
    "    count(song, year, total_words) %>%\n",
    "    ungroup() %>%\n",
    "    mutate(percent = n / total_words,\n",
    "           year = 10 * floor(year / 10)) %>%\n",
    "    ggplot(aes(as.factor(year), percent)) +\n",
    "    geom_boxplot()\n"
   ]
  },
  {
   "cell_type": "markdown",
   "metadata": {},
   "source": [
    "Wonderful! Notice that the proportion of negative words does not change significantly but the proportion of positive words exhibits a decrease over time."
   ]
  },
  {
   "cell_type": "markdown",
   "metadata": {},
   "source": [
    "### Modeling negative sentiment\n",
    "You saw in your visualizations in the last exercise how positive and negative sentiment appear to be related to year. Now, you can explore that relationship with linear modeling. One more time, make a dataframe with one row per song that contains the proportion of negative words. Then, build a linear model and see whether the relationship is significant. The lyric_sentiment data frame that you created earlier is still available in your environment.\n",
    "\n",
    "INSTRUCTIONS\n",
    "100XP\n",
    " - Filter for only negative words\n",
    " - Use mutate() to define a new percent column that is n divided by total_words\n",
    " - When fitting the linear model with lm(), percent will be your response and year will be your predictor.\n",
    " - To see the results of your model fitting, call summary on your model fit object"
   ]
  },
  {
   "cell_type": "code",
   "execution_count": 110,
   "metadata": {
    "collapsed": false
   },
   "outputs": [
    {
     "data": {
      "text/plain": [
       "\n",
       "Call:\n",
       "lm(formula = percent ~ year, data = negative_by_year)\n",
       "\n",
       "Residuals:\n",
       "      Min        1Q    Median        3Q       Max \n",
       "-0.030288 -0.017205 -0.005778  0.010505  0.294194 \n",
       "\n",
       "Coefficients:\n",
       "              Estimate Std. Error t value Pr(>|t|)\n",
       "(Intercept)  3.809e-02  5.022e-02   0.758    0.448\n",
       "year        -3.720e-06  2.523e-05  -0.147    0.883\n",
       "\n",
       "Residual standard error: 0.02513 on 4624 degrees of freedom\n",
       "Multiple R-squared:  4.702e-06,\tAdjusted R-squared:  -0.0002116 \n",
       "F-statistic: 0.02174 on 1 and 4624 DF,  p-value: 0.8828\n"
      ]
     },
     "metadata": {},
     "output_type": "display_data"
    }
   ],
   "source": [
    "    negative_by_year <- lyric_sentiment %>%\n",
    "    # Filter for negative words\n",
    "    filter(sentiment==\"negative\") %>%\n",
    "    count(song, year, total_words) %>%\n",
    "    ungroup() %>%\n",
    "    # Define a new column: percent\n",
    "    mutate(percent = n / total_words)\n",
    "\n",
    "# Specify the model with percent as the response and year as the predictor\n",
    "model_negative <- lm(percent ~ year, data = negative_by_year)\n",
    "\n",
    "# Use summary to see the results of the model fitting\n",
    "summary(model_negative)"
   ]
  },
  {
   "cell_type": "markdown",
   "metadata": {},
   "source": [
    "Great job fitting this model! Notice how high the p-values are; negative sentiment does not change significantly with year."
   ]
  },
  {
   "cell_type": "markdown",
   "metadata": {},
   "source": [
    "### Modeling positive sentiment\n",
    "Now it's time for you to build a linear model for positive sentiment in this dataset of pop songs, just like you did for negative sentiment in the last exercise. Use the same approach and see what the results are!\n",
    "\n",
    "INSTRUCTIONS\n",
    "100XP\n",
    " - Count using three arguments: song, year, and total number of words.\n",
    " - Use mutate() to define a new percent column that is n divided by total_words\n",
    " - Specify a linear model with lm() in the same way as the last exercise, but with data = positive_by_year this time.\n",
    " - Explore the results of the model fitting with summary()."
   ]
  },
  {
   "cell_type": "code",
   "execution_count": 111,
   "metadata": {
    "collapsed": false
   },
   "outputs": [
    {
     "data": {
      "text/plain": [
       "\n",
       "Call:\n",
       "lm(formula = percent ~ year, data = positive_by_year)\n",
       "\n",
       "Residuals:\n",
       "      Min        1Q    Median        3Q       Max \n",
       "-0.058050 -0.024032 -0.007756  0.014774  0.269726 \n",
       "\n",
       "Coefficients:\n",
       "              Estimate Std. Error t value Pr(>|t|)    \n",
       "(Intercept)  1.117e+00  6.859e-02   16.29   <2e-16 ***\n",
       "year        -5.373e-04  3.446e-05  -15.59   <2e-16 ***\n",
       "---\n",
       "Signif. codes:  0 '***' 0.001 '**' 0.01 '*' 0.05 '.' 0.1 ' ' 1\n",
       "\n",
       "Residual standard error: 0.03495 on 4770 degrees of freedom\n",
       "Multiple R-squared:  0.0485,\tAdjusted R-squared:  0.0483 \n",
       "F-statistic: 243.1 on 1 and 4770 DF,  p-value: < 2.2e-16\n"
      ]
     },
     "metadata": {},
     "output_type": "display_data"
    }
   ],
   "source": [
    "positive_by_year <- lyric_sentiment %>%\n",
    "    filter(sentiment == \"positive\") %>%\n",
    "    # Count by song, year, and total number of words\n",
    "    count(song, year, total_words) %>%\n",
    "    ungroup() %>%\n",
    "    # Define a new column: percent\n",
    "    mutate(percent = n / total_words)\n",
    "\n",
    "# Fit a linear model with percent as the response and year as the predictor\n",
    "model_positive <- lm(percent ~ year, data = positive_by_year)\n",
    "\n",
    "# Use summary to see the results of the model fitting\n",
    "summary(model_positive)"
   ]
  },
  {
   "cell_type": "markdown",
   "metadata": {},
   "source": [
    "You did it! Notice how low these p-values are and which direction the slope is; positive sentiment does change significantly with year, in contrast with negative sentiment."
   ]
  },
  {
   "cell_type": "markdown",
   "metadata": {},
   "source": [
    "### How is sentiment in pop songs changing over the decades?\n",
    "Based on the visualizations you made and the linear modeling you explored, how is sentiment changing in this dataset of songs over time?\n",
    "\n",
    "ANSWER THE QUESTION\n",
    "50XP\n",
    " - Possible Answers\n",
    " - More positive words\n",
    " - press 1\n",
    " - Fewer positive words (Correct)\n",
    " - press 2\n",
    " - More negative words\n",
    " - press 3\n",
    " - Fewer negative words\n",
    " - press 4"
   ]
  },
  {
   "cell_type": "markdown",
   "metadata": {},
   "source": [
    "Correct! As years have passed, the proportion of positive words has decreased in these songs; you saw this both in the plots and the modeling.\n"
   ]
  },
  {
   "cell_type": "markdown",
   "metadata": {},
   "source": [
    "## Wrapping up"
   ]
  },
  {
   "cell_type": "markdown",
   "metadata": {},
   "source": [
    "# Thank You"
   ]
  },
  {
   "cell_type": "code",
   "execution_count": null,
   "metadata": {
    "collapsed": true
   },
   "outputs": [],
   "source": []
  }
 ],
 "metadata": {
  "anaconda-cloud": {},
  "kernelspec": {
   "display_name": "R",
   "language": "R",
   "name": "ir"
  },
  "language_info": {
   "codemirror_mode": "r",
   "file_extension": ".r",
   "mimetype": "text/x-r-source",
   "name": "R",
   "pygments_lexer": "r",
   "version": "3.3.2"
  }
 },
 "nbformat": 4,
 "nbformat_minor": 1
}
